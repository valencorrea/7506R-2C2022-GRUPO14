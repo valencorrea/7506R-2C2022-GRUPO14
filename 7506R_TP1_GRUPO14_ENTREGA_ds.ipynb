{
  "cells": [
    {
      "cell_type": "markdown",
      "metadata": {
        "id": "IOHMzhsjZRFe"
      },
      "source": [
        "______________________________________\n",
        "# <center>**Trabajo Practico Nº1 para la Materia *Organización de Datos***</center>\n",
        "\n",
        "*Integrantes*: \n",
        "- 103963\tCarolina Di Matteo\tcdimatteo@fi.uba.ar\n",
        "- 101231\tPablo Salvador Dimartino\tpdimartino@fi.uba.ar\n",
        "- 100113\tJuan Sebastian Burgos\tjsburgos@fi.uba.ar\n",
        "- 104415\tValentina Laura Correa\tvcorrea@fi.uba.ar\n",
        "\n",
        "*Grupo*: 14\n",
        "\n",
        "*Repositorio*: [github](https://github.com/valencorrea/7506R-2C2022-GRUPO14)\n",
        "\n",
        "*Curso*: Rodriguez\n",
        "\n",
        "*Cuatrimestre*: 2c2022\n",
        "______________________________________\n",
        "\n"
      ]
    },
    {
      "cell_type": "markdown",
      "metadata": {
        "id": "112riqhc5x7T"
      },
      "source": [
        "**Set Up**"
      ]
    },
    {
      "cell_type": "code",
      "execution_count": null,
      "metadata": {
        "colab": {
          "base_uri": "https://localhost:8080/"
        },
        "id": "7w6NFIXYjFYH",
        "outputId": "67d25853-17d8-41e8-e88e-14e3fa31208c"
      },
      "outputs": [
        {
          "output_type": "stream",
          "name": "stdout",
          "text": [
            "Mounted at /content/drive\n"
          ]
        }
      ],
      "source": [
        "# Importamos las liberias para los manejos de datos y graficos\n",
        "import pandas as pd\n",
        "import numpy as np\n",
        "import matplotlib.pyplot as plt\n",
        "import seaborn as sns\n",
        "import scipy as sc\n",
        "\n",
        "from matplotlib.ticker import PercentFormatter\n",
        "from google.colab import drive\n",
        "\n",
        "# Establecemos conecciones necesarias para poder usar nuestra base\n",
        "drive.mount('/content/drive')\n",
        "\n",
        "# Accedemos al archivo a analizar\n",
        "properati=pd.read_csv('/content/drive/MyDrive/📔 Organización de Datos (75.06)/TPS/TP1/properati_argentina_2021.csv')\n",
        "# properati=pd.read_csv('properati_argentina_2021.csv')\n",
        "\n",
        "\n",
        "import warnings\n",
        "warnings.filterwarnings('ignore')\n"
      ]
    },
    {
      "cell_type": "markdown",
      "metadata": {
        "id": "Q-pkcGlPiCCv"
      },
      "source": [
        "#  **1. Análisis Exploratorio y Preprocesamiento de Datos**"
      ]
    },
    {
      "cell_type": "markdown",
      "metadata": {
        "id": "hwR861Zpj4Wx"
      },
      "source": [
        "## **1a. Exploración Inicial**\n",
        "A continuación se realizara un análisis general de cada una de las variables presentes en el dataframe."
      ]
    },
    {
      "cell_type": "code",
      "execution_count": null,
      "metadata": {
        "colab": {
          "base_uri": "https://localhost:8080/"
        },
        "id": "KO5MyE1AXcTk",
        "outputId": "c90568cd-9698-428e-9cbd-f00a7a769f3b"
      },
      "outputs": [
        {
          "output_type": "execute_result",
          "data": {
            "text/plain": [
              "id                           object\n",
              "start_date                   object\n",
              "end_date                     object\n",
              "created_on                   object\n",
              "latitud                     float64\n",
              "longitud                    float64\n",
              "place_l2                     object\n",
              "place_l3                     object\n",
              "place_l4                     object\n",
              "place_l5                     object\n",
              "place_l6                    float64\n",
              "operation                    object\n",
              "property_type                object\n",
              "property_rooms              float64\n",
              "property_bedrooms           float64\n",
              "property_surface_total      float64\n",
              "property_surface_covered    float64\n",
              "property_price              float64\n",
              "property_currency            object\n",
              "property_title               object\n",
              "dtype: object"
            ]
          },
          "metadata": {},
          "execution_count": 2
        }
      ],
      "source": [
        "df = properati.copy()\n",
        "df.dtypes"
      ]
    },
    {
      "cell_type": "markdown",
      "metadata": {
        "id": "l4K7r5jnXcTm"
      },
      "source": [
        "Actualmente los únicos dos tipos de datos que tenemos son Float64 y Object.\n",
        "\n",
        "Viendo las primeras entradas, podemos observar que el tipo Object oculta fechas que se adecuan mejor al tipo de datos DateTime."
      ]
    },
    {
      "cell_type": "code",
      "execution_count": null,
      "metadata": {
        "colab": {
          "base_uri": "https://localhost:8080/",
          "height": 357
        },
        "id": "eDp09StlXcTn",
        "outputId": "0e96ec75-face-41f2-8d6d-eb9125a695cd"
      },
      "outputs": [
        {
          "output_type": "execute_result",
          "data": {
            "text/plain": [
              "                         id  start_date    end_date  created_on    latitud  \\\n",
              "0  XZq2dFGxBiboHY3Bo/tqlw==  2021-09-09  2022-01-27  2021-09-09 -38.957632   \n",
              "1  8afoK+yMH/rnnlYiktwgNA==  2021-09-09  2021-10-23  2021-09-09 -34.888878   \n",
              "2  iVaG5rBB47dd1Ya4BMXREA==  2021-09-09  2022-03-09  2021-09-09 -32.488717   \n",
              "3  QE1QVMWKAHWkd0qT0FtPWA==  2021-09-09  2022-01-27  2021-09-09 -34.900165   \n",
              "4  tJ5lSk7IysG/71OGhacNZA==  2021-09-09  2022-01-27  2021-09-09 -38.954528   \n",
              "\n",
              "    longitud    place_l2 place_l3 place_l4 place_l5  place_l6 operation  \\\n",
              "0 -68.105443     Neuquén      NaN      NaN      NaN       NaN     Venta   \n",
              "1 -56.092368  Montevideo      NaN      NaN      NaN       NaN     Venta   \n",
              "2 -58.257499  Entre Ríos      NaN      NaN      NaN       NaN     Venta   \n",
              "3 -54.808453   Maldonado      NaN      NaN      NaN       NaN     Venta   \n",
              "4 -68.041862     Neuquén      NaN      NaN      NaN       NaN     Venta   \n",
              "\n",
              "  property_type  property_rooms  property_bedrooms  property_surface_total  \\\n",
              "0          Casa             6.0                NaN                     NaN   \n",
              "1          Casa             4.0                3.0                   193.0   \n",
              "2          Casa             NaN                NaN                   110.0   \n",
              "3          Casa             NaN                3.0                     NaN   \n",
              "4            PH             3.0                2.0                     NaN   \n",
              "\n",
              "   property_surface_covered  property_price property_currency  \\\n",
              "0                     206.0             NaN               NaN   \n",
              "1                     193.0        390000.0               USD   \n",
              "2                      45.0         47000.0               USD   \n",
              "3                     180.0        400000.0               USD   \n",
              "4                      98.0        102000.0               USD   \n",
              "\n",
              "       property_title  \n",
              "0      Casa - Capital  \n",
              "1       Casa - Malvín  \n",
              "2      Casa - Uruguay  \n",
              "3    Casa - El Chorro  \n",
              "4  PH - Villa Farrell  "
            ],
            "text/html": [
              "\n",
              "  <div id=\"df-abde4977-bade-499d-98b0-f7b275cc8552\">\n",
              "    <div class=\"colab-df-container\">\n",
              "      <div>\n",
              "<style scoped>\n",
              "    .dataframe tbody tr th:only-of-type {\n",
              "        vertical-align: middle;\n",
              "    }\n",
              "\n",
              "    .dataframe tbody tr th {\n",
              "        vertical-align: top;\n",
              "    }\n",
              "\n",
              "    .dataframe thead th {\n",
              "        text-align: right;\n",
              "    }\n",
              "</style>\n",
              "<table border=\"1\" class=\"dataframe\">\n",
              "  <thead>\n",
              "    <tr style=\"text-align: right;\">\n",
              "      <th></th>\n",
              "      <th>id</th>\n",
              "      <th>start_date</th>\n",
              "      <th>end_date</th>\n",
              "      <th>created_on</th>\n",
              "      <th>latitud</th>\n",
              "      <th>longitud</th>\n",
              "      <th>place_l2</th>\n",
              "      <th>place_l3</th>\n",
              "      <th>place_l4</th>\n",
              "      <th>place_l5</th>\n",
              "      <th>place_l6</th>\n",
              "      <th>operation</th>\n",
              "      <th>property_type</th>\n",
              "      <th>property_rooms</th>\n",
              "      <th>property_bedrooms</th>\n",
              "      <th>property_surface_total</th>\n",
              "      <th>property_surface_covered</th>\n",
              "      <th>property_price</th>\n",
              "      <th>property_currency</th>\n",
              "      <th>property_title</th>\n",
              "    </tr>\n",
              "  </thead>\n",
              "  <tbody>\n",
              "    <tr>\n",
              "      <th>0</th>\n",
              "      <td>XZq2dFGxBiboHY3Bo/tqlw==</td>\n",
              "      <td>2021-09-09</td>\n",
              "      <td>2022-01-27</td>\n",
              "      <td>2021-09-09</td>\n",
              "      <td>-38.957632</td>\n",
              "      <td>-68.105443</td>\n",
              "      <td>Neuquén</td>\n",
              "      <td>NaN</td>\n",
              "      <td>NaN</td>\n",
              "      <td>NaN</td>\n",
              "      <td>NaN</td>\n",
              "      <td>Venta</td>\n",
              "      <td>Casa</td>\n",
              "      <td>6.0</td>\n",
              "      <td>NaN</td>\n",
              "      <td>NaN</td>\n",
              "      <td>206.0</td>\n",
              "      <td>NaN</td>\n",
              "      <td>NaN</td>\n",
              "      <td>Casa - Capital</td>\n",
              "    </tr>\n",
              "    <tr>\n",
              "      <th>1</th>\n",
              "      <td>8afoK+yMH/rnnlYiktwgNA==</td>\n",
              "      <td>2021-09-09</td>\n",
              "      <td>2021-10-23</td>\n",
              "      <td>2021-09-09</td>\n",
              "      <td>-34.888878</td>\n",
              "      <td>-56.092368</td>\n",
              "      <td>Montevideo</td>\n",
              "      <td>NaN</td>\n",
              "      <td>NaN</td>\n",
              "      <td>NaN</td>\n",
              "      <td>NaN</td>\n",
              "      <td>Venta</td>\n",
              "      <td>Casa</td>\n",
              "      <td>4.0</td>\n",
              "      <td>3.0</td>\n",
              "      <td>193.0</td>\n",
              "      <td>193.0</td>\n",
              "      <td>390000.0</td>\n",
              "      <td>USD</td>\n",
              "      <td>Casa - Malvín</td>\n",
              "    </tr>\n",
              "    <tr>\n",
              "      <th>2</th>\n",
              "      <td>iVaG5rBB47dd1Ya4BMXREA==</td>\n",
              "      <td>2021-09-09</td>\n",
              "      <td>2022-03-09</td>\n",
              "      <td>2021-09-09</td>\n",
              "      <td>-32.488717</td>\n",
              "      <td>-58.257499</td>\n",
              "      <td>Entre Ríos</td>\n",
              "      <td>NaN</td>\n",
              "      <td>NaN</td>\n",
              "      <td>NaN</td>\n",
              "      <td>NaN</td>\n",
              "      <td>Venta</td>\n",
              "      <td>Casa</td>\n",
              "      <td>NaN</td>\n",
              "      <td>NaN</td>\n",
              "      <td>110.0</td>\n",
              "      <td>45.0</td>\n",
              "      <td>47000.0</td>\n",
              "      <td>USD</td>\n",
              "      <td>Casa - Uruguay</td>\n",
              "    </tr>\n",
              "    <tr>\n",
              "      <th>3</th>\n",
              "      <td>QE1QVMWKAHWkd0qT0FtPWA==</td>\n",
              "      <td>2021-09-09</td>\n",
              "      <td>2022-01-27</td>\n",
              "      <td>2021-09-09</td>\n",
              "      <td>-34.900165</td>\n",
              "      <td>-54.808453</td>\n",
              "      <td>Maldonado</td>\n",
              "      <td>NaN</td>\n",
              "      <td>NaN</td>\n",
              "      <td>NaN</td>\n",
              "      <td>NaN</td>\n",
              "      <td>Venta</td>\n",
              "      <td>Casa</td>\n",
              "      <td>NaN</td>\n",
              "      <td>3.0</td>\n",
              "      <td>NaN</td>\n",
              "      <td>180.0</td>\n",
              "      <td>400000.0</td>\n",
              "      <td>USD</td>\n",
              "      <td>Casa - El Chorro</td>\n",
              "    </tr>\n",
              "    <tr>\n",
              "      <th>4</th>\n",
              "      <td>tJ5lSk7IysG/71OGhacNZA==</td>\n",
              "      <td>2021-09-09</td>\n",
              "      <td>2022-01-27</td>\n",
              "      <td>2021-09-09</td>\n",
              "      <td>-38.954528</td>\n",
              "      <td>-68.041862</td>\n",
              "      <td>Neuquén</td>\n",
              "      <td>NaN</td>\n",
              "      <td>NaN</td>\n",
              "      <td>NaN</td>\n",
              "      <td>NaN</td>\n",
              "      <td>Venta</td>\n",
              "      <td>PH</td>\n",
              "      <td>3.0</td>\n",
              "      <td>2.0</td>\n",
              "      <td>NaN</td>\n",
              "      <td>98.0</td>\n",
              "      <td>102000.0</td>\n",
              "      <td>USD</td>\n",
              "      <td>PH - Villa Farrell</td>\n",
              "    </tr>\n",
              "  </tbody>\n",
              "</table>\n",
              "</div>\n",
              "      <button class=\"colab-df-convert\" onclick=\"convertToInteractive('df-abde4977-bade-499d-98b0-f7b275cc8552')\"\n",
              "              title=\"Convert this dataframe to an interactive table.\"\n",
              "              style=\"display:none;\">\n",
              "        \n",
              "  <svg xmlns=\"http://www.w3.org/2000/svg\" height=\"24px\"viewBox=\"0 0 24 24\"\n",
              "       width=\"24px\">\n",
              "    <path d=\"M0 0h24v24H0V0z\" fill=\"none\"/>\n",
              "    <path d=\"M18.56 5.44l.94 2.06.94-2.06 2.06-.94-2.06-.94-.94-2.06-.94 2.06-2.06.94zm-11 1L8.5 8.5l.94-2.06 2.06-.94-2.06-.94L8.5 2.5l-.94 2.06-2.06.94zm10 10l.94 2.06.94-2.06 2.06-.94-2.06-.94-.94-2.06-.94 2.06-2.06.94z\"/><path d=\"M17.41 7.96l-1.37-1.37c-.4-.4-.92-.59-1.43-.59-.52 0-1.04.2-1.43.59L10.3 9.45l-7.72 7.72c-.78.78-.78 2.05 0 2.83L4 21.41c.39.39.9.59 1.41.59.51 0 1.02-.2 1.41-.59l7.78-7.78 2.81-2.81c.8-.78.8-2.07 0-2.86zM5.41 20L4 18.59l7.72-7.72 1.47 1.35L5.41 20z\"/>\n",
              "  </svg>\n",
              "      </button>\n",
              "      \n",
              "  <style>\n",
              "    .colab-df-container {\n",
              "      display:flex;\n",
              "      flex-wrap:wrap;\n",
              "      gap: 12px;\n",
              "    }\n",
              "\n",
              "    .colab-df-convert {\n",
              "      background-color: #E8F0FE;\n",
              "      border: none;\n",
              "      border-radius: 50%;\n",
              "      cursor: pointer;\n",
              "      display: none;\n",
              "      fill: #1967D2;\n",
              "      height: 32px;\n",
              "      padding: 0 0 0 0;\n",
              "      width: 32px;\n",
              "    }\n",
              "\n",
              "    .colab-df-convert:hover {\n",
              "      background-color: #E2EBFA;\n",
              "      box-shadow: 0px 1px 2px rgba(60, 64, 67, 0.3), 0px 1px 3px 1px rgba(60, 64, 67, 0.15);\n",
              "      fill: #174EA6;\n",
              "    }\n",
              "\n",
              "    [theme=dark] .colab-df-convert {\n",
              "      background-color: #3B4455;\n",
              "      fill: #D2E3FC;\n",
              "    }\n",
              "\n",
              "    [theme=dark] .colab-df-convert:hover {\n",
              "      background-color: #434B5C;\n",
              "      box-shadow: 0px 1px 3px 1px rgba(0, 0, 0, 0.15);\n",
              "      filter: drop-shadow(0px 1px 2px rgba(0, 0, 0, 0.3));\n",
              "      fill: #FFFFFF;\n",
              "    }\n",
              "  </style>\n",
              "\n",
              "      <script>\n",
              "        const buttonEl =\n",
              "          document.querySelector('#df-abde4977-bade-499d-98b0-f7b275cc8552 button.colab-df-convert');\n",
              "        buttonEl.style.display =\n",
              "          google.colab.kernel.accessAllowed ? 'block' : 'none';\n",
              "\n",
              "        async function convertToInteractive(key) {\n",
              "          const element = document.querySelector('#df-abde4977-bade-499d-98b0-f7b275cc8552');\n",
              "          const dataTable =\n",
              "            await google.colab.kernel.invokeFunction('convertToInteractive',\n",
              "                                                     [key], {});\n",
              "          if (!dataTable) return;\n",
              "\n",
              "          const docLinkHtml = 'Like what you see? Visit the ' +\n",
              "            '<a target=\"_blank\" href=https://colab.research.google.com/notebooks/data_table.ipynb>data table notebook</a>'\n",
              "            + ' to learn more about interactive tables.';\n",
              "          element.innerHTML = '';\n",
              "          dataTable['output_type'] = 'display_data';\n",
              "          await google.colab.output.renderOutput(dataTable, element);\n",
              "          const docLink = document.createElement('div');\n",
              "          docLink.innerHTML = docLinkHtml;\n",
              "          element.appendChild(docLink);\n",
              "        }\n",
              "      </script>\n",
              "    </div>\n",
              "  </div>\n",
              "  "
            ]
          },
          "metadata": {},
          "execution_count": 3
        }
      ],
      "source": [
        "df.head()"
      ]
    },
    {
      "cell_type": "markdown",
      "metadata": {
        "id": "z9CA-H7PwIHg"
      },
      "source": [
        "### Preparación de los datasets\n",
        "\n",
        "Aplicamos los filtros necesarios que figuran en los requerimientos, y cambiamos el dtype de las fechas a DateTime. \n",
        "\n",
        "Por otro lado, determinamos tanto el modelo a entrenar como el que usaremos para realizar las predicciones."
      ]
    },
    {
      "cell_type": "code",
      "execution_count": null,
      "metadata": {
        "id": "LlgRrurjqerq",
        "colab": {
          "base_uri": "https://localhost:8080/"
        },
        "outputId": "775e630e-1c11-4eac-dfd4-39ab27943676"
      },
      "outputs": [
        {
          "output_type": "execute_result",
          "data": {
            "text/plain": [
              "['id',\n",
              " 'start_date',\n",
              " 'end_date',\n",
              " 'created_on',\n",
              " 'latitud',\n",
              " 'longitud',\n",
              " 'place_l2',\n",
              " 'place_l3',\n",
              " 'place_l4',\n",
              " 'place_l5',\n",
              " 'place_l6',\n",
              " 'operation',\n",
              " 'property_type',\n",
              " 'property_rooms',\n",
              " 'property_bedrooms',\n",
              " 'property_surface_total',\n",
              " 'property_surface_covered',\n",
              " 'property_price',\n",
              " 'property_currency',\n",
              " 'property_title']"
            ]
          },
          "metadata": {},
          "execution_count": 4
        }
      ],
      "source": [
        "df = df.loc[df['property_type'].isin([\"Casa\", \"PH\", \"Departamento\"])].loc[df['place_l2'].isin([\"Capital Federal\"])].loc[df['operation'].isin([\"Venta\"])].loc[df['property_currency'].isin([\"USD\"])]\n",
        "df['start_date']= pd.to_datetime(df['start_date'])\n",
        "df['created_on']= pd.to_datetime(df['created_on'])\n",
        "df.replace(to_replace=\"9999-12-31\", value=\"\", inplace=True)\n",
        "df['end_date']= pd.to_datetime(df['end_date'])\n",
        "\n",
        "train = df.sample(frac=0.8, random_state=200)\n",
        "test = df.drop(train.index)\n",
        "df.columns.tolist()"
      ]
    },
    {
      "cell_type": "markdown",
      "metadata": {
        "id": "vw_ttu65v1NY"
      },
      "source": [
        "### Descripción de Campos"
      ]
    },
    {
      "cell_type": "markdown",
      "metadata": {
        "id": "RMXCPaAtmOZb"
      },
      "source": [
        "`id`: Identificador del aviso\n",
        "\n",
        "`start_date`: Fecha de alta del aviso\n",
        "\n",
        "`end_date`: Fecha de baja del aviso\n",
        "\n",
        "`created_on`: Fecha de alta de la primera versión del aviso\n",
        "\n",
        "`latitud`: Ubicación geográfica\n",
        "\n",
        "`longitud`: Ubicación geográfica\n",
        "\n",
        "`place_l2`: Nivel administrativo 2, usualmente provincia\n",
        "\n",
        "`place_l3`: Nivel administrativo 3, usualmente ciudad\n",
        "\n",
        "`place_l4`: Nivel administrativo 4, usualmente barrio\n",
        "\n",
        "`place_l5`: Nivel administrativo 5\n",
        "\n",
        "`place_l6`: Nivel administrativo 6\n",
        "\n",
        "`operation`: Tipo de operación (venta, alquiler)\n",
        "\n",
        "`property_type`: Tipo de propiedad (casa, departamento, ph)\n",
        "\n",
        "`property_rooms`: Cantidad de ambientes\n",
        "\n",
        "`property_bedrooms`: Cantidad de dormitorios\n",
        "\n",
        "`property_surface_total`: Superficie total en metros cuadrados\n",
        "\n",
        "`property_surface_covered`: Superficie cubierta en metros cuadrados\n",
        "\n",
        "`property_price`: Precio publicado en el anuncio\n",
        "\n",
        "`property_currency`: Moneda del precio publicado\n",
        "\n",
        "`property_title`: Título del anuncio"
      ]
    },
    {
      "cell_type": "markdown",
      "metadata": {
        "id": "hRDAhfItwo-E"
      },
      "source": [
        "### Variables Cuantitativas: Medidas de Resumen"
      ]
    },
    {
      "cell_type": "markdown",
      "metadata": {
        "id": "AIfeq7wxwuSO"
      },
      "source": [
        "Calculamos, para la totalidad de las variables que nos brinda el dataset:\n",
        "- media\n",
        "- mediana\n",
        "- q1\n",
        "- q3 \n",
        "- moda"
      ]
    },
    {
      "cell_type": "code",
      "execution_count": null,
      "metadata": {
        "colab": {
          "base_uri": "https://localhost:8080/",
          "height": 270
        },
        "id": "roa6hM62oTVv",
        "outputId": "a5bcb851-6ba3-4d3c-c8ec-844f22db79cc"
      },
      "outputs": [
        {
          "output_type": "execute_result",
          "data": {
            "text/plain": [
              "          latitud   longitud  place_l5  place_l6  property_rooms  \\\n",
              "mean   -34.591481 -58.449795       NaN       NaN        2.822799   \n",
              "25%    -34.615975 -58.466522       NaN       NaN        2.000000   \n",
              "75%    -34.577413 -58.408862       NaN       NaN        4.000000   \n",
              "std      0.181719   0.292630       NaN       NaN        1.426148   \n",
              "median -34.595790 -58.439000       NaN       NaN        3.000000   \n",
              "\n",
              "        property_bedrooms  property_surface_total  property_surface_covered  \\\n",
              "mean             2.014629              109.092970                 87.931932   \n",
              "25%              1.000000               45.000000                 40.000000   \n",
              "75%              3.000000              105.000000                 88.000000   \n",
              "std              1.129767              980.401976                990.927129   \n",
              "median           2.000000               65.000000                 58.000000   \n",
              "\n",
              "        property_price  \n",
              "mean     226238.207185  \n",
              "25%       95000.000000  \n",
              "75%      237000.000000  \n",
              "std      318603.483648  \n",
              "median   143900.000000  "
            ],
            "text/html": [
              "\n",
              "  <div id=\"df-04c77d84-37c6-4519-bcbb-05c7e32e185d\">\n",
              "    <div class=\"colab-df-container\">\n",
              "      <div>\n",
              "<style scoped>\n",
              "    .dataframe tbody tr th:only-of-type {\n",
              "        vertical-align: middle;\n",
              "    }\n",
              "\n",
              "    .dataframe tbody tr th {\n",
              "        vertical-align: top;\n",
              "    }\n",
              "\n",
              "    .dataframe thead th {\n",
              "        text-align: right;\n",
              "    }\n",
              "</style>\n",
              "<table border=\"1\" class=\"dataframe\">\n",
              "  <thead>\n",
              "    <tr style=\"text-align: right;\">\n",
              "      <th></th>\n",
              "      <th>latitud</th>\n",
              "      <th>longitud</th>\n",
              "      <th>place_l5</th>\n",
              "      <th>place_l6</th>\n",
              "      <th>property_rooms</th>\n",
              "      <th>property_bedrooms</th>\n",
              "      <th>property_surface_total</th>\n",
              "      <th>property_surface_covered</th>\n",
              "      <th>property_price</th>\n",
              "    </tr>\n",
              "  </thead>\n",
              "  <tbody>\n",
              "    <tr>\n",
              "      <th>mean</th>\n",
              "      <td>-34.591481</td>\n",
              "      <td>-58.449795</td>\n",
              "      <td>NaN</td>\n",
              "      <td>NaN</td>\n",
              "      <td>2.822799</td>\n",
              "      <td>2.014629</td>\n",
              "      <td>109.092970</td>\n",
              "      <td>87.931932</td>\n",
              "      <td>226238.207185</td>\n",
              "    </tr>\n",
              "    <tr>\n",
              "      <th>25%</th>\n",
              "      <td>-34.615975</td>\n",
              "      <td>-58.466522</td>\n",
              "      <td>NaN</td>\n",
              "      <td>NaN</td>\n",
              "      <td>2.000000</td>\n",
              "      <td>1.000000</td>\n",
              "      <td>45.000000</td>\n",
              "      <td>40.000000</td>\n",
              "      <td>95000.000000</td>\n",
              "    </tr>\n",
              "    <tr>\n",
              "      <th>75%</th>\n",
              "      <td>-34.577413</td>\n",
              "      <td>-58.408862</td>\n",
              "      <td>NaN</td>\n",
              "      <td>NaN</td>\n",
              "      <td>4.000000</td>\n",
              "      <td>3.000000</td>\n",
              "      <td>105.000000</td>\n",
              "      <td>88.000000</td>\n",
              "      <td>237000.000000</td>\n",
              "    </tr>\n",
              "    <tr>\n",
              "      <th>std</th>\n",
              "      <td>0.181719</td>\n",
              "      <td>0.292630</td>\n",
              "      <td>NaN</td>\n",
              "      <td>NaN</td>\n",
              "      <td>1.426148</td>\n",
              "      <td>1.129767</td>\n",
              "      <td>980.401976</td>\n",
              "      <td>990.927129</td>\n",
              "      <td>318603.483648</td>\n",
              "    </tr>\n",
              "    <tr>\n",
              "      <th>median</th>\n",
              "      <td>-34.595790</td>\n",
              "      <td>-58.439000</td>\n",
              "      <td>NaN</td>\n",
              "      <td>NaN</td>\n",
              "      <td>3.000000</td>\n",
              "      <td>2.000000</td>\n",
              "      <td>65.000000</td>\n",
              "      <td>58.000000</td>\n",
              "      <td>143900.000000</td>\n",
              "    </tr>\n",
              "  </tbody>\n",
              "</table>\n",
              "</div>\n",
              "      <button class=\"colab-df-convert\" onclick=\"convertToInteractive('df-04c77d84-37c6-4519-bcbb-05c7e32e185d')\"\n",
              "              title=\"Convert this dataframe to an interactive table.\"\n",
              "              style=\"display:none;\">\n",
              "        \n",
              "  <svg xmlns=\"http://www.w3.org/2000/svg\" height=\"24px\"viewBox=\"0 0 24 24\"\n",
              "       width=\"24px\">\n",
              "    <path d=\"M0 0h24v24H0V0z\" fill=\"none\"/>\n",
              "    <path d=\"M18.56 5.44l.94 2.06.94-2.06 2.06-.94-2.06-.94-.94-2.06-.94 2.06-2.06.94zm-11 1L8.5 8.5l.94-2.06 2.06-.94-2.06-.94L8.5 2.5l-.94 2.06-2.06.94zm10 10l.94 2.06.94-2.06 2.06-.94-2.06-.94-.94-2.06-.94 2.06-2.06.94z\"/><path d=\"M17.41 7.96l-1.37-1.37c-.4-.4-.92-.59-1.43-.59-.52 0-1.04.2-1.43.59L10.3 9.45l-7.72 7.72c-.78.78-.78 2.05 0 2.83L4 21.41c.39.39.9.59 1.41.59.51 0 1.02-.2 1.41-.59l7.78-7.78 2.81-2.81c.8-.78.8-2.07 0-2.86zM5.41 20L4 18.59l7.72-7.72 1.47 1.35L5.41 20z\"/>\n",
              "  </svg>\n",
              "      </button>\n",
              "      \n",
              "  <style>\n",
              "    .colab-df-container {\n",
              "      display:flex;\n",
              "      flex-wrap:wrap;\n",
              "      gap: 12px;\n",
              "    }\n",
              "\n",
              "    .colab-df-convert {\n",
              "      background-color: #E8F0FE;\n",
              "      border: none;\n",
              "      border-radius: 50%;\n",
              "      cursor: pointer;\n",
              "      display: none;\n",
              "      fill: #1967D2;\n",
              "      height: 32px;\n",
              "      padding: 0 0 0 0;\n",
              "      width: 32px;\n",
              "    }\n",
              "\n",
              "    .colab-df-convert:hover {\n",
              "      background-color: #E2EBFA;\n",
              "      box-shadow: 0px 1px 2px rgba(60, 64, 67, 0.3), 0px 1px 3px 1px rgba(60, 64, 67, 0.15);\n",
              "      fill: #174EA6;\n",
              "    }\n",
              "\n",
              "    [theme=dark] .colab-df-convert {\n",
              "      background-color: #3B4455;\n",
              "      fill: #D2E3FC;\n",
              "    }\n",
              "\n",
              "    [theme=dark] .colab-df-convert:hover {\n",
              "      background-color: #434B5C;\n",
              "      box-shadow: 0px 1px 3px 1px rgba(0, 0, 0, 0.15);\n",
              "      filter: drop-shadow(0px 1px 2px rgba(0, 0, 0, 0.3));\n",
              "      fill: #FFFFFF;\n",
              "    }\n",
              "  </style>\n",
              "\n",
              "      <script>\n",
              "        const buttonEl =\n",
              "          document.querySelector('#df-04c77d84-37c6-4519-bcbb-05c7e32e185d button.colab-df-convert');\n",
              "        buttonEl.style.display =\n",
              "          google.colab.kernel.accessAllowed ? 'block' : 'none';\n",
              "\n",
              "        async function convertToInteractive(key) {\n",
              "          const element = document.querySelector('#df-04c77d84-37c6-4519-bcbb-05c7e32e185d');\n",
              "          const dataTable =\n",
              "            await google.colab.kernel.invokeFunction('convertToInteractive',\n",
              "                                                     [key], {});\n",
              "          if (!dataTable) return;\n",
              "\n",
              "          const docLinkHtml = 'Like what you see? Visit the ' +\n",
              "            '<a target=\"_blank\" href=https://colab.research.google.com/notebooks/data_table.ipynb>data table notebook</a>'\n",
              "            + ' to learn more about interactive tables.';\n",
              "          element.innerHTML = '';\n",
              "          dataTable['output_type'] = 'display_data';\n",
              "          await google.colab.output.renderOutput(dataTable, element);\n",
              "          const docLink = document.createElement('div');\n",
              "          docLink.innerHTML = docLinkHtml;\n",
              "          element.appendChild(docLink);\n",
              "        }\n",
              "      </script>\n",
              "    </div>\n",
              "  </div>\n",
              "  "
            ]
          },
          "metadata": {},
          "execution_count": 5
        }
      ],
      "source": [
        "df.describe().loc[['mean', '25%', '75%', 'std']].append(df.median().rename(\"median\"))"
      ]
    },
    {
      "cell_type": "markdown",
      "metadata": {
        "id": "Gr9usESkxJ6D"
      },
      "source": [
        "### Variables Cualitativas: Cantidades y Frecuencias\n",
        "\n",
        "Realizamos, para las variables `place_l3`, `place_l4` y `property_type` un cálculo de los diferentes valores así también como sus respectivas frecuencias."
      ]
    },
    {
      "cell_type": "code",
      "execution_count": null,
      "metadata": {
        "colab": {
          "base_uri": "https://localhost:8080/"
        },
        "id": "TAlhDGhz2RZd",
        "outputId": "6a5c172b-b318-4a11-f761-6133c986e774"
      },
      "outputs": [
        {
          "output_type": "stream",
          "name": "stdout",
          "text": [
            "place_l3 tiene 57 valores diferentes\n"
          ]
        }
      ],
      "source": [
        "print(f\"place_l3 tiene {df.nunique()['place_l3']} valores diferentes\")"
      ]
    },
    {
      "cell_type": "code",
      "execution_count": null,
      "metadata": {
        "colab": {
          "base_uri": "https://localhost:8080/",
          "height": 612
        },
        "id": "w4pZdqx3yzjl",
        "outputId": "faae41e8-01f8-4762-ef8e-70c9893d1ac1"
      },
      "outputs": [
        {
          "output_type": "execute_result",
          "data": {
            "text/plain": [
              "<matplotlib.axes._subplots.AxesSubplot at 0x7fd46a9a4550>"
            ]
          },
          "metadata": {},
          "execution_count": 7
        },
        {
          "output_type": "display_data",
          "data": {
            "text/plain": [
              "<Figure size 1080x576 with 1 Axes>"
            ],
            "image/png": "[encoded data removed]"
          },
          "metadata": {
            "needs_background": "light"
          }
        }
      ],
      "source": [
        "fig, ax = plt.subplots()\n",
        "df['place_l3'].value_counts().plot(ax=ax, kind='bar', figsize=(15,8), fontsize=12)"
      ]
    },
    {
      "cell_type": "code",
      "execution_count": null,
      "metadata": {
        "colab": {
          "base_uri": "https://localhost:8080/"
        },
        "id": "u0NU6YMi2UhW",
        "outputId": "76d474a0-24d3-438d-9dad-c6283ac4fe58"
      },
      "outputs": [
        {
          "output_type": "stream",
          "name": "stdout",
          "text": [
            "place_l4 tiene 4 valores diferentes\n"
          ]
        }
      ],
      "source": [
        "print(f\"place_l4 tiene {df.nunique()['place_l4']} valores diferentes\")"
      ]
    },
    {
      "cell_type": "code",
      "execution_count": null,
      "metadata": {
        "colab": {
          "base_uri": "https://localhost:8080/",
          "height": 282
        },
        "id": "FMlRKspx1RLH",
        "outputId": "c6ea3982-8ebc-4ea3-af7f-498d9bbd8b74"
      },
      "outputs": [
        {
          "output_type": "execute_result",
          "data": {
            "text/plain": [
              "<matplotlib.axes._subplots.AxesSubplot at 0x7fd46a140250>"
            ]
          },
          "metadata": {},
          "execution_count": 9
        },
        {
          "output_type": "display_data",
          "data": {
            "text/plain": [
              "<Figure size 432x288 with 1 Axes>"
            ],
            "image/png": "[encoded data removed]"
          },
          "metadata": {
            "needs_background": "light"
          }
        }
      ],
      "source": [
        "df['place_l4'].hist()"
      ]
    },
    {
      "cell_type": "code",
      "execution_count": null,
      "metadata": {
        "colab": {
          "base_uri": "https://localhost:8080/",
          "height": 282
        },
        "id": "QM7Edif4ztMO",
        "outputId": "c4c8c88d-2ce3-481a-800e-d832e5d9b9b1"
      },
      "outputs": [
        {
          "output_type": "execute_result",
          "data": {
            "text/plain": [
              "<matplotlib.axes._subplots.AxesSubplot at 0x7fd46a0ca890>"
            ]
          },
          "metadata": {},
          "execution_count": 10
        },
        {
          "output_type": "display_data",
          "data": {
            "text/plain": [
              "<Figure size 432x288 with 1 Axes>"
            ],
            "image/png": "[encoded data removed]"
          },
          "metadata": {
            "needs_background": "light"
          }
        }
      ],
      "source": [
        "df['property_type'].hist()"
      ]
    },
    {
      "cell_type": "code",
      "execution_count": null,
      "metadata": {
        "colab": {
          "base_uri": "https://localhost:8080/"
        },
        "id": "Q66WQYjz2Xok",
        "outputId": "afcab768-bf9d-49e7-9fd6-76624be03981"
      },
      "outputs": [
        {
          "output_type": "stream",
          "name": "stdout",
          "text": [
            "property_type tiene 3 valores diferentes\n"
          ]
        }
      ],
      "source": [
        "print(f\"property_type tiene {df.nunique()['property_type']} valores diferentes\")"
      ]
    },
    {
      "cell_type": "markdown",
      "metadata": {
        "id": "4bQXzkhg4ipf"
      },
      "source": [
        "### Determinación de Variables Irrelevantes"
      ]
    },
    {
      "cell_type": "markdown",
      "metadata": {
        "id": "OihHviLu2dV7"
      },
      "source": [
        "Finalmente, podremos decir que dejamos fuera de este análisis particular a las a las siguientes variables que detallamos a continuación:\n",
        "\n",
        "- `operation`: Sólo hay un tipo de operación según lo solicitado en la consigna y es \"Venta\", con lo cual la consideramos irrelevante en el análisis.\n",
        "- `property_currency`: Sólo hay un tipo de cambio según lo solicitado en la consigna y es \"USD\", con lo cual la consideramos irrelevante en el análisis.\n",
        "- `place_l5`: De analizar previamente el dataset con el cual estamos trabajando, detectamos que la columna en cuestión se encuentra vacía, con lo cual la consideramos irrelevante en el análisis.\n",
        "- `place_l6`: De analizar previamente el dataset con el cual estamos trabajando, detectamos que la columna en cuestión se encuentra vacía, con lo cual la consideramos irrelevante en el análisis.\n",
        "- `property_title`: De conocer previamente la información que contiene el dataset, sabemos que la variable en cuestión almacena un único título por publicación, con lo cual la consideramos irrelevante en el análisis."
      ]
    },
    {
      "cell_type": "markdown",
      "metadata": {
        "id": "qvKggsaWB3Y9"
      },
      "source": [
        "### Análisis Gráfico de las Distribuciones de las Variables"
      ]
    },
    {
      "cell_type": "markdown",
      "metadata": {
        "id": "CwrHylmo4v5W"
      },
      "source": [
        "##### Densidad de la variable `latitud`"
      ]
    },
    {
      "cell_type": "code",
      "execution_count": null,
      "metadata": {
        "colab": {
          "base_uri": "https://localhost:8080/",
          "height": 296
        },
        "id": "hR9T5l7EB2yj",
        "outputId": "cab98d22-28c4-4fbb-f524-8c9804f4eef9"
      },
      "outputs": [
        {
          "output_type": "execute_result",
          "data": {
            "text/plain": [
              "<matplotlib.axes._subplots.AxesSubplot at 0x7fd46a050790>"
            ]
          },
          "metadata": {},
          "execution_count": 12
        },
        {
          "output_type": "display_data",
          "data": {
            "text/plain": [
              "<Figure size 432x288 with 1 Axes>"
            ],
            "image/png": "[encoded data removed]"
          },
          "metadata": {
            "needs_background": "light"
          }
        }
      ],
      "source": [
        "#grf = df['latitud'].plot.kde(title=\"Densidad variable Start date\",xlabel=\"x\",ylabel=\"y\").xlim(-10, 10)\n",
        "#sns.displot(df.latitud, hist=False, kde_kws={'clip': (-10.0, 10.0)})\n",
        "# ver despues de machearlas con los property_types \n",
        "sns.kdeplot(data=df.latitud, gridsize=70)"
      ]
    },
    {
      "cell_type": "markdown",
      "metadata": {
        "id": "uvKB4TpJ40N3"
      },
      "source": [
        "##### Densidad de la variable `longitud`"
      ]
    },
    {
      "cell_type": "code",
      "execution_count": null,
      "metadata": {
        "colab": {
          "base_uri": "https://localhost:8080/",
          "height": 296
        },
        "id": "E7CNCSjBOklg",
        "outputId": "d88f2d23-2b83-4554-a894-aef682abd569"
      },
      "outputs": [
        {
          "output_type": "execute_result",
          "data": {
            "text/plain": [
              "<matplotlib.axes._subplots.AxesSubplot at 0x7fd46a021a50>"
            ]
          },
          "metadata": {},
          "execution_count": 13
        },
        {
          "output_type": "display_data",
          "data": {
            "text/plain": [
              "<Figure size 432x288 with 1 Axes>"
            ],
            "image/png": "[encoded data removed]"
          },
          "metadata": {
            "needs_background": "light"
          }
        }
      ],
      "source": [
        "sns.kdeplot(data=df.longitud, gridsize=30)\n"
      ]
    },
    {
      "cell_type": "markdown",
      "metadata": {
        "id": "uJY4CRZl5J5k"
      },
      "source": [
        "##### Densidad de la variable `property_price`"
      ]
    },
    {
      "cell_type": "code",
      "execution_count": null,
      "metadata": {
        "colab": {
          "base_uri": "https://localhost:8080/",
          "height": 308
        },
        "id": "HcH2_gnOOmh3",
        "outputId": "946c4d6e-d99e-4323-d156-20069302b6fc"
      },
      "outputs": [
        {
          "output_type": "execute_result",
          "data": {
            "text/plain": [
              "<matplotlib.axes._subplots.AxesSubplot at 0x7fd469fd0610>"
            ]
          },
          "metadata": {},
          "execution_count": 14
        },
        {
          "output_type": "display_data",
          "data": {
            "text/plain": [
              "<Figure size 432x288 with 1 Axes>"
            ],
            "image/png": "[encoded data removed]"
          },
          "metadata": {
            "needs_background": "light"
          }
        }
      ],
      "source": [
        "sns.kdeplot(data=df.property_price, gridsize=15)\n"
      ]
    },
    {
      "cell_type": "markdown",
      "metadata": {
        "id": "okhaOan15OYp"
      },
      "source": [
        "##### Densidad de la variable `property_rooms`"
      ]
    },
    {
      "cell_type": "code",
      "execution_count": null,
      "metadata": {
        "colab": {
          "base_uri": "https://localhost:8080/",
          "height": 297
        },
        "id": "9h2fzjdCPYXK",
        "outputId": "96b46b75-5dbc-40a5-c932-0e3838ef94d4"
      },
      "outputs": [
        {
          "output_type": "execute_result",
          "data": {
            "text/plain": [
              "<matplotlib.axes._subplots.AxesSubplot at 0x7fd469f87050>"
            ]
          },
          "metadata": {},
          "execution_count": 15
        },
        {
          "output_type": "display_data",
          "data": {
            "text/plain": [
              "<Figure size 432x288 with 1 Axes>"
            ],
            "image/png": "[encoded data removed]"
          },
          "metadata": {
            "needs_background": "light"
          }
        }
      ],
      "source": [
        "sns.countplot(x=df['property_rooms'].dropna().astype('int32'))"
      ]
    },
    {
      "cell_type": "markdown",
      "metadata": {
        "id": "2eCIdUAH5S7v"
      },
      "source": [
        "##### Densidad de la variable `property_surface_covered`"
      ]
    },
    {
      "cell_type": "code",
      "execution_count": null,
      "metadata": {
        "colab": {
          "base_uri": "https://localhost:8080/",
          "height": 308
        },
        "id": "85vZd9YQO-jP",
        "outputId": "b1034296-eefc-481d-fecf-caf23dda72e9"
      },
      "outputs": [
        {
          "output_type": "execute_result",
          "data": {
            "text/plain": [
              "<matplotlib.axes._subplots.AxesSubplot at 0x7fd469ec48d0>"
            ]
          },
          "metadata": {},
          "execution_count": 16
        },
        {
          "output_type": "display_data",
          "data": {
            "text/plain": [
              "<Figure size 432x288 with 1 Axes>"
            ],
            "image/png": "[encoded data removed]"
          },
          "metadata": {
            "needs_background": "light"
          }
        }
      ],
      "source": [
        "sns.kdeplot(data=df.property_surface_covered, gridsize=20)\n"
      ]
    },
    {
      "cell_type": "markdown",
      "metadata": {
        "id": "a2UxzMy1Byn_"
      },
      "source": [
        "### Análisis de las Correlaciones existentes entre las Variables"
      ]
    },
    {
      "cell_type": "code",
      "execution_count": null,
      "metadata": {
        "id": "ZKjqGi6LkZku"
      },
      "outputs": [],
      "source": [
        "df.drop([\"place_l5\", \"place_l6\"], axis = 1, inplace = True)"
      ]
    },
    {
      "cell_type": "code",
      "execution_count": null,
      "metadata": {
        "id": "DHSQHXNUXKLb"
      },
      "outputs": [],
      "source": [
        "#columns = df.columns.tolist()\n",
        "#df_pariplot = df[columns].copy()\n",
        "#graf_pairplot = sns.pairplot(data=df_pariplot, hue=\"property_type\", palette=[\"r\", \"g\", \"b\"])"
      ]
    },
    {
      "cell_type": "markdown",
      "metadata": {
        "id": "np2LPbxuu6B4"
      },
      "source": [
        "## **1b. Datos Faltantes**\n",
        "A continuación se realizara un análisis sobre los datos faltantes del dataframe."
      ]
    },
    {
      "cell_type": "markdown",
      "metadata": {
        "id": "lbfYKgJs9f1f"
      },
      "source": [
        "### Análisis a Nivel Columna"
      ]
    },
    {
      "cell_type": "markdown",
      "metadata": {
        "id": "hq7Ta0_-_zao"
      },
      "source": [
        "Graficamos, para cada variable, el porcentaje (diferente de cero) de datos faltantes con respecto al total del dataset en escala logarítmica."
      ]
    },
    {
      "cell_type": "code",
      "execution_count": null,
      "metadata": {
        "colab": {
          "base_uri": "https://localhost:8080/",
          "height": 402
        },
        "id": "jW7CezP1_JS6",
        "outputId": "6b3b6389-89fa-4273-8241-d59244b2a1ea"
      },
      "outputs": [
        {
          "output_type": "execute_result",
          "data": {
            "text/plain": [
              "<matplotlib.axes._subplots.AxesSubplot at 0x7fd467302790>"
            ]
          },
          "metadata": {},
          "execution_count": 19
        },
        {
          "output_type": "display_data",
          "data": {
            "text/plain": [
              "<Figure size 432x288 with 1 Axes>"
            ],
            "image/png": "[encoded data removed]"
          },
          "metadata": {
            "needs_background": "light"
          }
        }
      ],
      "source": [
        "fig, ax = plt.subplots()\n",
        "ax.set_yscale('log')\n",
        "ax.yaxis.set_major_formatter(PercentFormatter())\n",
        "(df.isnull().sum() * 100 / len(df)).replace(0,np.nan).dropna(axis=0,how=\"all\").plot(ax=ax, kind='bar')"
      ]
    },
    {
      "cell_type": "markdown",
      "metadata": {
        "id": "DbhApc81_7dM"
      },
      "source": [
        "### Análisis a Nivel Fila"
      ]
    },
    {
      "cell_type": "markdown",
      "metadata": {
        "id": "jheKR6Asj0ua"
      },
      "source": [
        "Graficamos el porcentaje de filas con n datos faltantes con respecto al total del dataset."
      ]
    },
    {
      "cell_type": "code",
      "execution_count": null,
      "metadata": {
        "colab": {
          "base_uri": "https://localhost:8080/",
          "height": 280
        },
        "id": "uMghBTBKA0WZ",
        "outputId": "215849c7-3ec4-475e-e061-9d847882d4aa"
      },
      "outputs": [
        {
          "output_type": "execute_result",
          "data": {
            "text/plain": [
              "<matplotlib.axes._subplots.AxesSubplot at 0x7fd46746b2d0>"
            ]
          },
          "metadata": {},
          "execution_count": 20
        },
        {
          "output_type": "display_data",
          "data": {
            "text/plain": [
              "<Figure size 432x288 with 1 Axes>"
            ],
            "image/png": "[encoded data removed]"
          },
          "metadata": {
            "needs_background": "light"
          }
        }
      ],
      "source": [
        "fig, ax = plt.subplots()\n",
        "ax.set_yscale('log')\n",
        "ax.yaxis.set_major_formatter(PercentFormatter(decimals=3))\n",
        "(df.isnull().sum(axis=1).value_counts().sort_index() * 100 / len(df)).plot(ax=ax, kind='bar')"
      ]
    },
    {
      "cell_type": "markdown",
      "metadata": {
        "id": "0q6ERteJjxdz"
      },
      "source": [
        "### Reparación de Valores Faltantes"
      ]
    },
    {
      "cell_type": "markdown",
      "metadata": {
        "id": "K89jrcMrkaiu"
      },
      "source": [
        "A continuación se detallan posibles estrategias para reparar los valores faltantes del dataset."
      ]
    },
    {
      "cell_type": "markdown",
      "metadata": {
        "id": "hEATXRqcXcT3"
      },
      "source": [
        "Reemplazamos las locaciones no definidas por el nivel superior"
      ]
    },
    {
      "cell_type": "code",
      "execution_count": null,
      "metadata": {
        "id": "aIx-73J1XcT3"
      },
      "outputs": [],
      "source": [
        "df.place_l3.fillna(df.place_l2, inplace=True)\n",
        "df.place_l4.fillna(df.place_l3, inplace=True)"
      ]
    },
    {
      "cell_type": "markdown",
      "metadata": {
        "id": "k7akSY6CXcT3"
      },
      "source": [
        "Reemplazamos la cantidad de dormitorios no definidos por la media calculada filtrando por cantidad total de habitaciones.\n"
      ]
    },
    {
      "cell_type": "code",
      "execution_count": null,
      "metadata": {
        "id": "-IZkF60XXcT3"
      },
      "outputs": [],
      "source": [
        "cant = df.loc[(df['property_bedrooms'].isna()) & (df['property_rooms'].notna())].property_rooms.value_counts().index.values\n",
        "\n",
        "for i in cant:\n",
        "    median = df.loc[(df['property_bedrooms'].notna()) & (df['property_rooms'] == i)].property_bedrooms.median()\n",
        "    df.loc[(df['property_bedrooms'].isna()) & (df[\"property_rooms\"] == i), \"property_bedrooms\"] = df.loc[(df['property_bedrooms'].isna()) & (df[\"property_rooms\"] == i), \"property_bedrooms\"].fillna(median)\n"
      ]
    },
    {
      "cell_type": "markdown",
      "metadata": {
        "id": "Fb7BxQmYXcT4"
      },
      "source": [
        "Luego reemplazamos la cantidad total de habitaciones no definidas por la media calculada filtrando por cantidad de dormitorios.\n",
        "\n",
        "Esto redujo el porcentaje de valores no definidos para los dormitorios y habitaciones a menos de 1%, desde 10% y 1,5% respectivamente."
      ]
    },
    {
      "cell_type": "code",
      "execution_count": null,
      "metadata": {
        "scrolled": false,
        "colab": {
          "base_uri": "https://localhost:8080/",
          "height": 402
        },
        "id": "Su6ZSNH2XcT4",
        "outputId": "a16de27c-f1a8-4c02-f5ce-722a92c21dae"
      },
      "outputs": [
        {
          "output_type": "execute_result",
          "data": {
            "text/plain": [
              "<matplotlib.axes._subplots.AxesSubplot at 0x7fd4673a1f50>"
            ]
          },
          "metadata": {},
          "execution_count": 23
        },
        {
          "output_type": "display_data",
          "data": {
            "text/plain": [
              "<Figure size 432x288 with 1 Axes>"
            ],
            "image/png": "[encoded data removed]"
          },
          "metadata": {
            "needs_background": "light"
          }
        }
      ],
      "source": [
        "cant = df.loc[(df['property_rooms'].isna()) & (df['property_bedrooms'].notna())].property_bedrooms.value_counts().index.values\n",
        "\n",
        "for i in cant:\n",
        "    median = df.loc[(df['property_rooms'].notna()) & (df['property_bedrooms'] == i)].property_rooms.median()\n",
        "    df.loc[(df['property_rooms'].isna()) & (df[\"property_bedrooms\"] == i), \"property_rooms\"] = df.loc[(df['property_rooms'].isna()) & (df[\"property_bedrooms\"] == i), \"property_rooms\"].fillna(median)\n",
        "    \n",
        "fig, ax = plt.subplots()\n",
        "ax.yaxis.set_major_formatter(PercentFormatter())\n",
        "(df.isnull().sum() * 100 / len(df)).replace(0,np.nan).dropna(axis=0,how=\"all\").plot(ax=ax, kind='bar')\n"
      ]
    },
    {
      "cell_type": "markdown",
      "metadata": {
        "id": "jO4Y_Ib7XcT4"
      },
      "source": [
        "Cuando se tiene la superficie total pero no la cubierta o viceversa, reemplazamos los valores faltantes con su contraparte"
      ]
    },
    {
      "cell_type": "code",
      "execution_count": null,
      "metadata": {
        "colab": {
          "base_uri": "https://localhost:8080/",
          "height": 369
        },
        "id": "_WzR-_KPXcT4",
        "outputId": "2eede559-53d0-444c-fc15-563149029859"
      },
      "outputs": [
        {
          "output_type": "execute_result",
          "data": {
            "text/plain": [
              "<matplotlib.axes._subplots.AxesSubplot at 0x7fd4672d0450>"
            ]
          },
          "metadata": {},
          "execution_count": 24
        },
        {
          "output_type": "display_data",
          "data": {
            "text/plain": [
              "<Figure size 432x288 with 1 Axes>"
            ],
            "image/png": "[encoded data removed]"
          },
          "metadata": {
            "needs_background": "light"
          }
        }
      ],
      "source": [
        "df.property_surface_total.fillna(df.property_surface_covered, inplace=True)\n",
        "df.property_surface_covered.fillna(df.property_surface_total, inplace=True)\n",
        "\n",
        "fig, ax = plt.subplots()\n",
        "ax.yaxis.set_major_formatter(PercentFormatter())\n",
        "(df.isnull().sum() * 100 / len(df)).replace(0,np.nan).dropna(axis=0,how=\"all\").plot(ax=ax, kind='bar')"
      ]
    },
    {
      "cell_type": "markdown",
      "metadata": {
        "id": "Uu2cbHO-XcT5"
      },
      "source": [
        "# FALTA ARREGLAR LATITUD Y LONGITUD."
      ]
    },
    {
      "cell_type": "markdown",
      "metadata": {
        "id": "tka5n3H2lieQ"
      },
      "source": [
        "## **1c. Valores atípicos**\n",
        "\n",
        "A continuación se realizara un análisis sobre los valores atípicos presentes en el dataframe."
      ]
    },
    {
      "cell_type": "markdown",
      "metadata": {
        "id": "li-HVdE_oEtb"
      },
      "source": [
        "### Detección\n",
        "\n",
        "En la totalidad del dataset logramos detectar outliers tanto univariados (presentes en una unica variable) como multivariados (se encuentran en un espacio n-dimensional).\n",
        "\n",
        "\n"
      ]
    },
    {
      "cell_type": "markdown",
      "metadata": {
        "id": "EqszohR2zpv0"
      },
      "source": [
        "#### Outliers univariados\n",
        "\n",
        "Utilizando los gráficos de tipo Box-Plot vamos a intentar identificarlos:"
      ]
    },
    {
      "cell_type": "markdown",
      "metadata": {
        "id": "bqiL3eGYy2Qh"
      },
      "source": [
        "##### Property rooms"
      ]
    },
    {
      "cell_type": "markdown",
      "source": [
        "###### Box plot\n",
        "\n",
        "Como se puede observar en el siguiente grafico, tenemos una serie de valores atipicos referenciados a la cantidad de ambientes de las propiedades. Si tomamos en cuenta los extremos de los cuartiles que calculamos a continuacion, notamos que algunos quedan excesivamente altos en comparacion."
      ],
      "metadata": {
        "id": "kBqy0jM2RAFY"
      }
    },
    {
      "cell_type": "code",
      "execution_count": null,
      "metadata": {
        "colab": {
          "base_uri": "https://localhost:8080/",
          "height": 252
        },
        "id": "oGoAYUuZyy3i",
        "outputId": "d5ac61f9-2101-4443-fda9-a792215ae066"
      },
      "outputs": [
        {
          "output_type": "display_data",
          "data": {
            "text/plain": [
              "<Figure size 432x288 with 1 Axes>"
            ],
            "image/png": "[encoded data removed]"
          },
          "metadata": {
            "needs_background": "light"
          }
        }
      ],
      "source": [
        "sns.boxplot(y=df.property_rooms)\n",
        "plt.show()"
      ]
    },
    {
      "cell_type": "code",
      "execution_count": null,
      "metadata": {
        "colab": {
          "base_uri": "https://localhost:8080/"
        },
        "id": "14wdDBSN0Hex",
        "outputId": "2b90d1b1-90b6-4a0e-b4ef-8a566942db46"
      },
      "outputs": [
        {
          "output_type": "stream",
          "name": "stdout",
          "text": [
            "El valor de Q1 es: 2.0\n",
            "El valor de Q3 es: 4.0\n",
            "El limite inferior del Q1 es: -1.0\n",
            "El limite superior del Q3 es: 7.0\n"
          ]
        }
      ],
      "source": [
        "# Cuartiles\n",
        "Q1_property_rooms=df.describe().get(\"property_rooms\").get(\"25%\")\n",
        "Q3_property_rooms=df.describe().get(\"property_rooms\").get(\"75%\")\n",
        "\n",
        "print(\"El valor de Q1 es:\", Q1_property_rooms)\n",
        "print(\"El valor de Q3 es:\", Q3_property_rooms)\n",
        "\n",
        "# Rango intercuartil\n",
        "IQR_property_rooms=Q3_property_rooms-Q1_property_rooms\n",
        "\n",
        "# Limites Outliers\n",
        "out_inf=Q1_property_rooms-1.5*IQR_property_rooms\n",
        "out_sup=Q3_property_rooms+1.5*IQR_property_rooms\n",
        "print(\"El limite inferior del Q1 es:\", out_inf)\n",
        "print(\"El limite superior del Q3 es:\", out_sup)"
      ]
    },
    {
      "cell_type": "markdown",
      "source": [
        "Confirmamos que tratamos con un outlier notando la relacion por ejemplo con la variable property rooms"
      ],
      "metadata": {
        "id": "CLQuUcKre8Pe"
      }
    },
    {
      "cell_type": "code",
      "source": [
        "outlier=df[df['property_rooms']>20]\n",
        "outlier"
      ],
      "metadata": {
        "colab": {
          "base_uri": "https://localhost:8080/",
          "height": 690
        },
        "id": "e5sLgEI2fCcI",
        "outputId": "9b834cc0-4ec5-46ef-8364-f3b16bb8abce"
      },
      "execution_count": null,
      "outputs": [
        {
          "output_type": "execute_result",
          "data": {
            "text/plain": [
              "                              id start_date   end_date created_on    latitud  \\\n",
              "21009   bmop3OsDu5kJmbAVgJ5wzA== 2021-03-15 2021-06-05 2021-03-15 -34.616391   \n",
              "52157   HwHiC1DJIxRAjUAOmujXsg== 2021-02-07 2021-06-15 2021-02-07 -34.649872   \n",
              "90004   TEs1aRnhJPwR0jRMq/Vzdg== 2021-08-03        NaT 2021-08-03 -34.633236   \n",
              "147916  Z9FTg8HCjw5/Utug8LtJ5A== 2021-08-19        NaT 2021-08-19        NaN   \n",
              "147918  T1nuMdPav4MQLYMK+CaCaw== 2021-08-19        NaT 2021-08-19        NaN   \n",
              "150885  X3WGOe/PrGS1u+xozM5elA== 2021-03-24 2021-06-05 2021-03-24 -34.642037   \n",
              "292167  CxZv3EmTnK+m6EJD2uQ5fw== 2021-02-23 2021-03-03 2021-02-23 -34.616487   \n",
              "356618  +e6yeZZqYElYRYq4/cd9qg== 2021-11-18 2021-12-02 2021-11-18 -34.588742   \n",
              "389282  +xTrflFUv4fEGjwpwhP68w== 2021-05-05 2021-06-05 2021-05-05 -34.570959   \n",
              "\n",
              "         longitud         place_l2           place_l3           place_l4  \\\n",
              "21009  -58.456038  Capital Federal          Caballito          Caballito   \n",
              "52157  -58.483012  Capital Federal  Parque Avellaneda  Parque Avellaneda   \n",
              "90004  -58.480313  Capital Federal           Floresta           Floresta   \n",
              "147916        NaN  Capital Federal         Tribunales         Tribunales   \n",
              "147918        NaN  Capital Federal         Tribunales         Tribunales   \n",
              "150885 -58.438995  Capital Federal   Parque Chacabuco   Parque Chacabuco   \n",
              "292167 -58.371596  Capital Federal          San Telmo          San Telmo   \n",
              "356618 -58.422459  Capital Federal            Palermo            Palermo   \n",
              "389282 -58.458106  Capital Federal           Belgrano           Belgrano   \n",
              "\n",
              "       operation property_type  property_rooms  property_bedrooms  \\\n",
              "21009      Venta  Departamento            30.0                2.0   \n",
              "52157      Venta            PH            30.0                2.0   \n",
              "90004      Venta            PH            32.0               32.0   \n",
              "147916     Venta  Departamento            36.0               18.0   \n",
              "147918     Venta  Departamento            36.0               18.0   \n",
              "150885     Venta  Departamento            35.0                NaN   \n",
              "292167     Venta            PH            24.0               22.0   \n",
              "356618     Venta  Departamento            40.0                3.0   \n",
              "389282     Venta          Casa            28.0               16.0   \n",
              "\n",
              "        property_surface_total  property_surface_covered  property_price  \\\n",
              "21009                     79.0                      79.0        230000.0   \n",
              "52157                     72.0                      60.0        123500.0   \n",
              "90004                    535.0                     435.0        300000.0   \n",
              "147916                  1348.0                    1348.0       1700000.0   \n",
              "147918                  1348.0                    1348.0       1700000.0   \n",
              "150885                    37.0                      33.0         67000.0   \n",
              "292167                   800.0                     650.0        350000.0   \n",
              "356618                    75.0                      68.0        145000.0   \n",
              "389282                   845.0                     845.0        950000.0   \n",
              "\n",
              "       property_currency                                     property_title  \n",
              "21009                USD    C/DEP COCH Y BAULERA - SEGUI AL 700 - Caballito  \n",
              "52157                USD                             PH - Parque Avellaneda  \n",
              "90004                USD                   Hotel Familiar,  32 Habitaciones  \n",
              "147916               USD                          Departamento - Tribunales  \n",
              "147918               USD                          Departamento - Tribunales  \n",
              "150885               USD  Venta Departamento monoambiente balcón full am...  \n",
              "292167               USD           Antiguo Ph para Hotel de Pasajeros 650m2  \n",
              "356618               USD  SOLER 4400 - PALERMO - DPTO 4 AMB C/ BALCON AL...  \n",
              "389282               USD  Imponente casa inglesa de 3 plantas   S.S. en ...  "
            ],
            "text/html": [
              "\n",
              "  <div id=\"df-223137eb-c403-4228-b1fd-c065a8be2fa4\">\n",
              "    <div class=\"colab-df-container\">\n",
              "      <div>\n",
              "<style scoped>\n",
              "    .dataframe tbody tr th:only-of-type {\n",
              "        vertical-align: middle;\n",
              "    }\n",
              "\n",
              "    .dataframe tbody tr th {\n",
              "        vertical-align: top;\n",
              "    }\n",
              "\n",
              "    .dataframe thead th {\n",
              "        text-align: right;\n",
              "    }\n",
              "</style>\n",
              "<table border=\"1\" class=\"dataframe\">\n",
              "  <thead>\n",
              "    <tr style=\"text-align: right;\">\n",
              "      <th></th>\n",
              "      <th>id</th>\n",
              "      <th>start_date</th>\n",
              "      <th>end_date</th>\n",
              "      <th>created_on</th>\n",
              "      <th>latitud</th>\n",
              "      <th>longitud</th>\n",
              "      <th>place_l2</th>\n",
              "      <th>place_l3</th>\n",
              "      <th>place_l4</th>\n",
              "      <th>operation</th>\n",
              "      <th>property_type</th>\n",
              "      <th>property_rooms</th>\n",
              "      <th>property_bedrooms</th>\n",
              "      <th>property_surface_total</th>\n",
              "      <th>property_surface_covered</th>\n",
              "      <th>property_price</th>\n",
              "      <th>property_currency</th>\n",
              "      <th>property_title</th>\n",
              "    </tr>\n",
              "  </thead>\n",
              "  <tbody>\n",
              "    <tr>\n",
              "      <th>21009</th>\n",
              "      <td>bmop3OsDu5kJmbAVgJ5wzA==</td>\n",
              "      <td>2021-03-15</td>\n",
              "      <td>2021-06-05</td>\n",
              "      <td>2021-03-15</td>\n",
              "      <td>-34.616391</td>\n",
              "      <td>-58.456038</td>\n",
              "      <td>Capital Federal</td>\n",
              "      <td>Caballito</td>\n",
              "      <td>Caballito</td>\n",
              "      <td>Venta</td>\n",
              "      <td>Departamento</td>\n",
              "      <td>30.0</td>\n",
              "      <td>2.0</td>\n",
              "      <td>79.0</td>\n",
              "      <td>79.0</td>\n",
              "      <td>230000.0</td>\n",
              "      <td>USD</td>\n",
              "      <td>C/DEP COCH Y BAULERA - SEGUI AL 700 - Caballito</td>\n",
              "    </tr>\n",
              "    <tr>\n",
              "      <th>52157</th>\n",
              "      <td>HwHiC1DJIxRAjUAOmujXsg==</td>\n",
              "      <td>2021-02-07</td>\n",
              "      <td>2021-06-15</td>\n",
              "      <td>2021-02-07</td>\n",
              "      <td>-34.649872</td>\n",
              "      <td>-58.483012</td>\n",
              "      <td>Capital Federal</td>\n",
              "      <td>Parque Avellaneda</td>\n",
              "      <td>Parque Avellaneda</td>\n",
              "      <td>Venta</td>\n",
              "      <td>PH</td>\n",
              "      <td>30.0</td>\n",
              "      <td>2.0</td>\n",
              "      <td>72.0</td>\n",
              "      <td>60.0</td>\n",
              "      <td>123500.0</td>\n",
              "      <td>USD</td>\n",
              "      <td>PH - Parque Avellaneda</td>\n",
              "    </tr>\n",
              "    <tr>\n",
              "      <th>90004</th>\n",
              "      <td>TEs1aRnhJPwR0jRMq/Vzdg==</td>\n",
              "      <td>2021-08-03</td>\n",
              "      <td>NaT</td>\n",
              "      <td>2021-08-03</td>\n",
              "      <td>-34.633236</td>\n",
              "      <td>-58.480313</td>\n",
              "      <td>Capital Federal</td>\n",
              "      <td>Floresta</td>\n",
              "      <td>Floresta</td>\n",
              "      <td>Venta</td>\n",
              "      <td>PH</td>\n",
              "      <td>32.0</td>\n",
              "      <td>32.0</td>\n",
              "      <td>535.0</td>\n",
              "      <td>435.0</td>\n",
              "      <td>300000.0</td>\n",
              "      <td>USD</td>\n",
              "      <td>Hotel Familiar,  32 Habitaciones</td>\n",
              "    </tr>\n",
              "    <tr>\n",
              "      <th>147916</th>\n",
              "      <td>Z9FTg8HCjw5/Utug8LtJ5A==</td>\n",
              "      <td>2021-08-19</td>\n",
              "      <td>NaT</td>\n",
              "      <td>2021-08-19</td>\n",
              "      <td>NaN</td>\n",
              "      <td>NaN</td>\n",
              "      <td>Capital Federal</td>\n",
              "      <td>Tribunales</td>\n",
              "      <td>Tribunales</td>\n",
              "      <td>Venta</td>\n",
              "      <td>Departamento</td>\n",
              "      <td>36.0</td>\n",
              "      <td>18.0</td>\n",
              "      <td>1348.0</td>\n",
              "      <td>1348.0</td>\n",
              "      <td>1700000.0</td>\n",
              "      <td>USD</td>\n",
              "      <td>Departamento - Tribunales</td>\n",
              "    </tr>\n",
              "    <tr>\n",
              "      <th>147918</th>\n",
              "      <td>T1nuMdPav4MQLYMK+CaCaw==</td>\n",
              "      <td>2021-08-19</td>\n",
              "      <td>NaT</td>\n",
              "      <td>2021-08-19</td>\n",
              "      <td>NaN</td>\n",
              "      <td>NaN</td>\n",
              "      <td>Capital Federal</td>\n",
              "      <td>Tribunales</td>\n",
              "      <td>Tribunales</td>\n",
              "      <td>Venta</td>\n",
              "      <td>Departamento</td>\n",
              "      <td>36.0</td>\n",
              "      <td>18.0</td>\n",
              "      <td>1348.0</td>\n",
              "      <td>1348.0</td>\n",
              "      <td>1700000.0</td>\n",
              "      <td>USD</td>\n",
              "      <td>Departamento - Tribunales</td>\n",
              "    </tr>\n",
              "    <tr>\n",
              "      <th>150885</th>\n",
              "      <td>X3WGOe/PrGS1u+xozM5elA==</td>\n",
              "      <td>2021-03-24</td>\n",
              "      <td>2021-06-05</td>\n",
              "      <td>2021-03-24</td>\n",
              "      <td>-34.642037</td>\n",
              "      <td>-58.438995</td>\n",
              "      <td>Capital Federal</td>\n",
              "      <td>Parque Chacabuco</td>\n",
              "      <td>Parque Chacabuco</td>\n",
              "      <td>Venta</td>\n",
              "      <td>Departamento</td>\n",
              "      <td>35.0</td>\n",
              "      <td>NaN</td>\n",
              "      <td>37.0</td>\n",
              "      <td>33.0</td>\n",
              "      <td>67000.0</td>\n",
              "      <td>USD</td>\n",
              "      <td>Venta Departamento monoambiente balcón full am...</td>\n",
              "    </tr>\n",
              "    <tr>\n",
              "      <th>292167</th>\n",
              "      <td>CxZv3EmTnK+m6EJD2uQ5fw==</td>\n",
              "      <td>2021-02-23</td>\n",
              "      <td>2021-03-03</td>\n",
              "      <td>2021-02-23</td>\n",
              "      <td>-34.616487</td>\n",
              "      <td>-58.371596</td>\n",
              "      <td>Capital Federal</td>\n",
              "      <td>San Telmo</td>\n",
              "      <td>San Telmo</td>\n",
              "      <td>Venta</td>\n",
              "      <td>PH</td>\n",
              "      <td>24.0</td>\n",
              "      <td>22.0</td>\n",
              "      <td>800.0</td>\n",
              "      <td>650.0</td>\n",
              "      <td>350000.0</td>\n",
              "      <td>USD</td>\n",
              "      <td>Antiguo Ph para Hotel de Pasajeros 650m2</td>\n",
              "    </tr>\n",
              "    <tr>\n",
              "      <th>356618</th>\n",
              "      <td>+e6yeZZqYElYRYq4/cd9qg==</td>\n",
              "      <td>2021-11-18</td>\n",
              "      <td>2021-12-02</td>\n",
              "      <td>2021-11-18</td>\n",
              "      <td>-34.588742</td>\n",
              "      <td>-58.422459</td>\n",
              "      <td>Capital Federal</td>\n",
              "      <td>Palermo</td>\n",
              "      <td>Palermo</td>\n",
              "      <td>Venta</td>\n",
              "      <td>Departamento</td>\n",
              "      <td>40.0</td>\n",
              "      <td>3.0</td>\n",
              "      <td>75.0</td>\n",
              "      <td>68.0</td>\n",
              "      <td>145000.0</td>\n",
              "      <td>USD</td>\n",
              "      <td>SOLER 4400 - PALERMO - DPTO 4 AMB C/ BALCON AL...</td>\n",
              "    </tr>\n",
              "    <tr>\n",
              "      <th>389282</th>\n",
              "      <td>+xTrflFUv4fEGjwpwhP68w==</td>\n",
              "      <td>2021-05-05</td>\n",
              "      <td>2021-06-05</td>\n",
              "      <td>2021-05-05</td>\n",
              "      <td>-34.570959</td>\n",
              "      <td>-58.458106</td>\n",
              "      <td>Capital Federal</td>\n",
              "      <td>Belgrano</td>\n",
              "      <td>Belgrano</td>\n",
              "      <td>Venta</td>\n",
              "      <td>Casa</td>\n",
              "      <td>28.0</td>\n",
              "      <td>16.0</td>\n",
              "      <td>845.0</td>\n",
              "      <td>845.0</td>\n",
              "      <td>950000.0</td>\n",
              "      <td>USD</td>\n",
              "      <td>Imponente casa inglesa de 3 plantas   S.S. en ...</td>\n",
              "    </tr>\n",
              "  </tbody>\n",
              "</table>\n",
              "</div>\n",
              "      <button class=\"colab-df-convert\" onclick=\"convertToInteractive('df-223137eb-c403-4228-b1fd-c065a8be2fa4')\"\n",
              "              title=\"Convert this dataframe to an interactive table.\"\n",
              "              style=\"display:none;\">\n",
              "        \n",
              "  <svg xmlns=\"http://www.w3.org/2000/svg\" height=\"24px\"viewBox=\"0 0 24 24\"\n",
              "       width=\"24px\">\n",
              "    <path d=\"M0 0h24v24H0V0z\" fill=\"none\"/>\n",
              "    <path d=\"M18.56 5.44l.94 2.06.94-2.06 2.06-.94-2.06-.94-.94-2.06-.94 2.06-2.06.94zm-11 1L8.5 8.5l.94-2.06 2.06-.94-2.06-.94L8.5 2.5l-.94 2.06-2.06.94zm10 10l.94 2.06.94-2.06 2.06-.94-2.06-.94-.94-2.06-.94 2.06-2.06.94z\"/><path d=\"M17.41 7.96l-1.37-1.37c-.4-.4-.92-.59-1.43-.59-.52 0-1.04.2-1.43.59L10.3 9.45l-7.72 7.72c-.78.78-.78 2.05 0 2.83L4 21.41c.39.39.9.59 1.41.59.51 0 1.02-.2 1.41-.59l7.78-7.78 2.81-2.81c.8-.78.8-2.07 0-2.86zM5.41 20L4 18.59l7.72-7.72 1.47 1.35L5.41 20z\"/>\n",
              "  </svg>\n",
              "      </button>\n",
              "      \n",
              "  <style>\n",
              "    .colab-df-container {\n",
              "      display:flex;\n",
              "      flex-wrap:wrap;\n",
              "      gap: 12px;\n",
              "    }\n",
              "\n",
              "    .colab-df-convert {\n",
              "      background-color: #E8F0FE;\n",
              "      border: none;\n",
              "      border-radius: 50%;\n",
              "      cursor: pointer;\n",
              "      display: none;\n",
              "      fill: #1967D2;\n",
              "      height: 32px;\n",
              "      padding: 0 0 0 0;\n",
              "      width: 32px;\n",
              "    }\n",
              "\n",
              "    .colab-df-convert:hover {\n",
              "      background-color: #E2EBFA;\n",
              "      box-shadow: 0px 1px 2px rgba(60, 64, 67, 0.3), 0px 1px 3px 1px rgba(60, 64, 67, 0.15);\n",
              "      fill: #174EA6;\n",
              "    }\n",
              "\n",
              "    [theme=dark] .colab-df-convert {\n",
              "      background-color: #3B4455;\n",
              "      fill: #D2E3FC;\n",
              "    }\n",
              "\n",
              "    [theme=dark] .colab-df-convert:hover {\n",
              "      background-color: #434B5C;\n",
              "      box-shadow: 0px 1px 3px 1px rgba(0, 0, 0, 0.15);\n",
              "      filter: drop-shadow(0px 1px 2px rgba(0, 0, 0, 0.3));\n",
              "      fill: #FFFFFF;\n",
              "    }\n",
              "  </style>\n",
              "\n",
              "      <script>\n",
              "        const buttonEl =\n",
              "          document.querySelector('#df-223137eb-c403-4228-b1fd-c065a8be2fa4 button.colab-df-convert');\n",
              "        buttonEl.style.display =\n",
              "          google.colab.kernel.accessAllowed ? 'block' : 'none';\n",
              "\n",
              "        async function convertToInteractive(key) {\n",
              "          const element = document.querySelector('#df-223137eb-c403-4228-b1fd-c065a8be2fa4');\n",
              "          const dataTable =\n",
              "            await google.colab.kernel.invokeFunction('convertToInteractive',\n",
              "                                                     [key], {});\n",
              "          if (!dataTable) return;\n",
              "\n",
              "          const docLinkHtml = 'Like what you see? Visit the ' +\n",
              "            '<a target=\"_blank\" href=https://colab.research.google.com/notebooks/data_table.ipynb>data table notebook</a>'\n",
              "            + ' to learn more about interactive tables.';\n",
              "          element.innerHTML = '';\n",
              "          dataTable['output_type'] = 'display_data';\n",
              "          await google.colab.output.renderOutput(dataTable, element);\n",
              "          const docLink = document.createElement('div');\n",
              "          docLink.innerHTML = docLinkHtml;\n",
              "          element.appendChild(docLink);\n",
              "        }\n",
              "      </script>\n",
              "    </div>\n",
              "  </div>\n",
              "  "
            ]
          },
          "metadata": {},
          "execution_count": 27
        }
      ]
    },
    {
      "cell_type": "markdown",
      "source": [
        "###### Z-Score\n",
        "Comprobamos ahora los outliers que obtenemos utilizando el metodo Z-Score\n",
        "\n"
      ],
      "metadata": {
        "id": "JxaI1gO_RJY9"
      }
    },
    {
      "cell_type": "code",
      "source": [
        "media_rooms=np.mean(df.property_rooms)\n",
        "std_rooms=np.std(df.property_rooms)\n",
        "df['z_rooms']=(df.property_rooms - media_rooms)/std_rooms"
      ],
      "metadata": {
        "id": "3NMvnrOn3JnA"
      },
      "execution_count": null,
      "outputs": []
    },
    {
      "cell_type": "code",
      "source": [
        "df[df['z_rooms']>3]"
      ],
      "metadata": {
        "colab": {
          "base_uri": "https://localhost:8080/",
          "height": 886
        },
        "id": "EFK5SClm30fL",
        "outputId": "2cfd2efb-d7c9-49c0-ad36-8a3472a84ee7"
      },
      "execution_count": null,
      "outputs": [
        {
          "output_type": "execute_result",
          "data": {
            "text/plain": [
              "                              id start_date   end_date created_on    latitud  \\\n",
              "58      tgaK6Ibor1zLY5bvNxsXfw== 2021-09-09 2021-09-26 2021-09-09 -34.633730   \n",
              "834     DW1aOtw9rrmcRJKrXV8lQQ== 2021-09-09 2022-03-09 2021-09-09 -34.586193   \n",
              "1040    hg7z9YXumyiWLjMo6ed2Eg== 2021-09-09 2022-03-09 2021-09-09 -34.620750   \n",
              "1108    emutcNxb0N+nIgC7KPMFow== 2021-09-09 2022-03-09 2021-09-09 -34.620750   \n",
              "1349    fwH71WfOi+vE4kdGMHfWNQ== 2021-09-09 2022-03-09 2021-09-09 -34.620750   \n",
              "...                          ...        ...        ...        ...        ...   \n",
              "459706  rhZ7e0ygquCQbMZX+WCIcA== 2021-01-05 2021-02-03 2021-01-05        NaN   \n",
              "459724  ZHK1Il6hnxI3iMhjvmD5+g== 2021-01-05 2021-10-16 2021-01-05 -34.587991   \n",
              "459755  oFcI5JAbOEsVvsk6PhM6fg== 2021-01-05 2022-06-12 2021-01-05 -34.590653   \n",
              "459764  oX3aPs/sStr80cOS+VyxVw== 2021-01-05        NaT 2021-01-05 -34.586441   \n",
              "459922  tO370Sb5BxaIjD5RxajSog== 2021-01-05 2021-08-02 2021-01-05 -34.590893   \n",
              "\n",
              "         longitud         place_l2         place_l3         place_l4  \\\n",
              "58     -58.424729  Capital Federal            Boedo            Boedo   \n",
              "834    -58.396815  Capital Federal         Recoleta         Recoleta   \n",
              "1040   -58.502759  Capital Federal       Villa Luro       Villa Luro   \n",
              "1108   -58.502759  Capital Federal     Monte Castro     Monte Castro   \n",
              "1349   -58.502759  Capital Federal  Velez Sarsfield  Velez Sarsfield   \n",
              "...           ...              ...              ...              ...   \n",
              "459706        NaN  Capital Federal         Recoleta         Recoleta   \n",
              "459724 -58.389017  Capital Federal         Recoleta         Recoleta   \n",
              "459755 -58.384325  Capital Federal         Recoleta         Recoleta   \n",
              "459764 -58.387889  Capital Federal         Recoleta         Recoleta   \n",
              "459922 -58.408146  Capital Federal     Barrio Norte     Barrio Norte   \n",
              "\n",
              "       operation property_type  property_rooms  property_bedrooms  \\\n",
              "58         Venta          Casa            10.0               10.0   \n",
              "834        Venta  Departamento             9.0                4.0   \n",
              "1040       Venta          Casa             8.0                6.0   \n",
              "1108       Venta          Casa             8.0                6.0   \n",
              "1349       Venta          Casa             8.0                6.0   \n",
              "...          ...           ...             ...                ...   \n",
              "459706     Venta  Departamento             8.0                5.0   \n",
              "459724     Venta  Departamento             8.0                3.0   \n",
              "459755     Venta  Departamento             8.0                5.0   \n",
              "459764     Venta  Departamento             8.0                4.0   \n",
              "459922     Venta  Departamento            10.0                9.0   \n",
              "\n",
              "        property_surface_total  property_surface_covered  property_price  \\\n",
              "58                       394.0                     244.0        500000.0   \n",
              "834                      390.0                     340.0       1200000.0   \n",
              "1040                     201.0                     201.0        345000.0   \n",
              "1108                     201.0                     201.0        345000.0   \n",
              "1349                     201.0                     201.0        345000.0   \n",
              "...                        ...                       ...             ...   \n",
              "459706                   256.0                     256.0        800000.0   \n",
              "459724                   285.0                     272.0       1250000.0   \n",
              "459755                   431.0                     415.0       2800000.0   \n",
              "459764                   383.0                     383.0       1700000.0   \n",
              "459922                   145.0                     145.0        300000.0   \n",
              "\n",
              "       property_currency                                     property_title  \\\n",
              "58                   USD  VENTA CASA BOEDO LOCAL  DEPARTAMENTOS HABITACI...   \n",
              "834                  USD  “La Isla”-Gelly Obes-Copérnico-Espectacular pi...   \n",
              "1040                 USD            Casa Ideal Dos Familias  - Monte Castro   \n",
              "1108                 USD            Casa Ideal Dos Familias  - Monte Castro   \n",
              "1349                 USD            Casa Ideal Dos Familias  - Monte Castro   \n",
              "...                  ...                                                ...   \n",
              "459706               USD  Excelente departamento con cochera en venta en...   \n",
              "459724               USD  Departamento de excelente categoria en venta e...   \n",
              "459755               USD  Departamento de excelente calidad con 5 dormit...   \n",
              "459764               USD  Departamento frances con 2 cocheras en venta e...   \n",
              "459922               USD           Enorme 10 amb de 145m2 - ideal inversión   \n",
              "\n",
              "         z_rooms  \n",
              "58      4.992871  \n",
              "834     4.296317  \n",
              "1040    3.599764  \n",
              "1108    3.599764  \n",
              "1349    3.599764  \n",
              "...          ...  \n",
              "459706  3.599764  \n",
              "459724  3.599764  \n",
              "459755  3.599764  \n",
              "459764  3.599764  \n",
              "459922  4.992871  \n",
              "\n",
              "[774 rows x 19 columns]"
            ],
            "text/html": [
              "\n",
              "  <div id=\"df-0fceb1db-1889-4c9b-832d-58d9c29d7dab\">\n",
              "    <div class=\"colab-df-container\">\n",
              "      <div>\n",
              "<style scoped>\n",
              "    .dataframe tbody tr th:only-of-type {\n",
              "        vertical-align: middle;\n",
              "    }\n",
              "\n",
              "    .dataframe tbody tr th {\n",
              "        vertical-align: top;\n",
              "    }\n",
              "\n",
              "    .dataframe thead th {\n",
              "        text-align: right;\n",
              "    }\n",
              "</style>\n",
              "<table border=\"1\" class=\"dataframe\">\n",
              "  <thead>\n",
              "    <tr style=\"text-align: right;\">\n",
              "      <th></th>\n",
              "      <th>id</th>\n",
              "      <th>start_date</th>\n",
              "      <th>end_date</th>\n",
              "      <th>created_on</th>\n",
              "      <th>latitud</th>\n",
              "      <th>longitud</th>\n",
              "      <th>place_l2</th>\n",
              "      <th>place_l3</th>\n",
              "      <th>place_l4</th>\n",
              "      <th>operation</th>\n",
              "      <th>property_type</th>\n",
              "      <th>property_rooms</th>\n",
              "      <th>property_bedrooms</th>\n",
              "      <th>property_surface_total</th>\n",
              "      <th>property_surface_covered</th>\n",
              "      <th>property_price</th>\n",
              "      <th>property_currency</th>\n",
              "      <th>property_title</th>\n",
              "      <th>z_rooms</th>\n",
              "    </tr>\n",
              "  </thead>\n",
              "  <tbody>\n",
              "    <tr>\n",
              "      <th>58</th>\n",
              "      <td>tgaK6Ibor1zLY5bvNxsXfw==</td>\n",
              "      <td>2021-09-09</td>\n",
              "      <td>2021-09-26</td>\n",
              "      <td>2021-09-09</td>\n",
              "      <td>-34.633730</td>\n",
              "      <td>-58.424729</td>\n",
              "      <td>Capital Federal</td>\n",
              "      <td>Boedo</td>\n",
              "      <td>Boedo</td>\n",
              "      <td>Venta</td>\n",
              "      <td>Casa</td>\n",
              "      <td>10.0</td>\n",
              "      <td>10.0</td>\n",
              "      <td>394.0</td>\n",
              "      <td>244.0</td>\n",
              "      <td>500000.0</td>\n",
              "      <td>USD</td>\n",
              "      <td>VENTA CASA BOEDO LOCAL  DEPARTAMENTOS HABITACI...</td>\n",
              "      <td>4.992871</td>\n",
              "    </tr>\n",
              "    <tr>\n",
              "      <th>834</th>\n",
              "      <td>DW1aOtw9rrmcRJKrXV8lQQ==</td>\n",
              "      <td>2021-09-09</td>\n",
              "      <td>2022-03-09</td>\n",
              "      <td>2021-09-09</td>\n",
              "      <td>-34.586193</td>\n",
              "      <td>-58.396815</td>\n",
              "      <td>Capital Federal</td>\n",
              "      <td>Recoleta</td>\n",
              "      <td>Recoleta</td>\n",
              "      <td>Venta</td>\n",
              "      <td>Departamento</td>\n",
              "      <td>9.0</td>\n",
              "      <td>4.0</td>\n",
              "      <td>390.0</td>\n",
              "      <td>340.0</td>\n",
              "      <td>1200000.0</td>\n",
              "      <td>USD</td>\n",
              "      <td>“La Isla”-Gelly Obes-Copérnico-Espectacular pi...</td>\n",
              "      <td>4.296317</td>\n",
              "    </tr>\n",
              "    <tr>\n",
              "      <th>1040</th>\n",
              "      <td>hg7z9YXumyiWLjMo6ed2Eg==</td>\n",
              "      <td>2021-09-09</td>\n",
              "      <td>2022-03-09</td>\n",
              "      <td>2021-09-09</td>\n",
              "      <td>-34.620750</td>\n",
              "      <td>-58.502759</td>\n",
              "      <td>Capital Federal</td>\n",
              "      <td>Villa Luro</td>\n",
              "      <td>Villa Luro</td>\n",
              "      <td>Venta</td>\n",
              "      <td>Casa</td>\n",
              "      <td>8.0</td>\n",
              "      <td>6.0</td>\n",
              "      <td>201.0</td>\n",
              "      <td>201.0</td>\n",
              "      <td>345000.0</td>\n",
              "      <td>USD</td>\n",
              "      <td>Casa Ideal Dos Familias  - Monte Castro</td>\n",
              "      <td>3.599764</td>\n",
              "    </tr>\n",
              "    <tr>\n",
              "      <th>1108</th>\n",
              "      <td>emutcNxb0N+nIgC7KPMFow==</td>\n",
              "      <td>2021-09-09</td>\n",
              "      <td>2022-03-09</td>\n",
              "      <td>2021-09-09</td>\n",
              "      <td>-34.620750</td>\n",
              "      <td>-58.502759</td>\n",
              "      <td>Capital Federal</td>\n",
              "      <td>Monte Castro</td>\n",
              "      <td>Monte Castro</td>\n",
              "      <td>Venta</td>\n",
              "      <td>Casa</td>\n",
              "      <td>8.0</td>\n",
              "      <td>6.0</td>\n",
              "      <td>201.0</td>\n",
              "      <td>201.0</td>\n",
              "      <td>345000.0</td>\n",
              "      <td>USD</td>\n",
              "      <td>Casa Ideal Dos Familias  - Monte Castro</td>\n",
              "      <td>3.599764</td>\n",
              "    </tr>\n",
              "    <tr>\n",
              "      <th>1349</th>\n",
              "      <td>fwH71WfOi+vE4kdGMHfWNQ==</td>\n",
              "      <td>2021-09-09</td>\n",
              "      <td>2022-03-09</td>\n",
              "      <td>2021-09-09</td>\n",
              "      <td>-34.620750</td>\n",
              "      <td>-58.502759</td>\n",
              "      <td>Capital Federal</td>\n",
              "      <td>Velez Sarsfield</td>\n",
              "      <td>Velez Sarsfield</td>\n",
              "      <td>Venta</td>\n",
              "      <td>Casa</td>\n",
              "      <td>8.0</td>\n",
              "      <td>6.0</td>\n",
              "      <td>201.0</td>\n",
              "      <td>201.0</td>\n",
              "      <td>345000.0</td>\n",
              "      <td>USD</td>\n",
              "      <td>Casa Ideal Dos Familias  - Monte Castro</td>\n",
              "      <td>3.599764</td>\n",
              "    </tr>\n",
              "    <tr>\n",
              "      <th>...</th>\n",
              "      <td>...</td>\n",
              "      <td>...</td>\n",
              "      <td>...</td>\n",
              "      <td>...</td>\n",
              "      <td>...</td>\n",
              "      <td>...</td>\n",
              "      <td>...</td>\n",
              "      <td>...</td>\n",
              "      <td>...</td>\n",
              "      <td>...</td>\n",
              "      <td>...</td>\n",
              "      <td>...</td>\n",
              "      <td>...</td>\n",
              "      <td>...</td>\n",
              "      <td>...</td>\n",
              "      <td>...</td>\n",
              "      <td>...</td>\n",
              "      <td>...</td>\n",
              "      <td>...</td>\n",
              "    </tr>\n",
              "    <tr>\n",
              "      <th>459706</th>\n",
              "      <td>rhZ7e0ygquCQbMZX+WCIcA==</td>\n",
              "      <td>2021-01-05</td>\n",
              "      <td>2021-02-03</td>\n",
              "      <td>2021-01-05</td>\n",
              "      <td>NaN</td>\n",
              "      <td>NaN</td>\n",
              "      <td>Capital Federal</td>\n",
              "      <td>Recoleta</td>\n",
              "      <td>Recoleta</td>\n",
              "      <td>Venta</td>\n",
              "      <td>Departamento</td>\n",
              "      <td>8.0</td>\n",
              "      <td>5.0</td>\n",
              "      <td>256.0</td>\n",
              "      <td>256.0</td>\n",
              "      <td>800000.0</td>\n",
              "      <td>USD</td>\n",
              "      <td>Excelente departamento con cochera en venta en...</td>\n",
              "      <td>3.599764</td>\n",
              "    </tr>\n",
              "    <tr>\n",
              "      <th>459724</th>\n",
              "      <td>ZHK1Il6hnxI3iMhjvmD5+g==</td>\n",
              "      <td>2021-01-05</td>\n",
              "      <td>2021-10-16</td>\n",
              "      <td>2021-01-05</td>\n",
              "      <td>-34.587991</td>\n",
              "      <td>-58.389017</td>\n",
              "      <td>Capital Federal</td>\n",
              "      <td>Recoleta</td>\n",
              "      <td>Recoleta</td>\n",
              "      <td>Venta</td>\n",
              "      <td>Departamento</td>\n",
              "      <td>8.0</td>\n",
              "      <td>3.0</td>\n",
              "      <td>285.0</td>\n",
              "      <td>272.0</td>\n",
              "      <td>1250000.0</td>\n",
              "      <td>USD</td>\n",
              "      <td>Departamento de excelente categoria en venta e...</td>\n",
              "      <td>3.599764</td>\n",
              "    </tr>\n",
              "    <tr>\n",
              "      <th>459755</th>\n",
              "      <td>oFcI5JAbOEsVvsk6PhM6fg==</td>\n",
              "      <td>2021-01-05</td>\n",
              "      <td>2022-06-12</td>\n",
              "      <td>2021-01-05</td>\n",
              "      <td>-34.590653</td>\n",
              "      <td>-58.384325</td>\n",
              "      <td>Capital Federal</td>\n",
              "      <td>Recoleta</td>\n",
              "      <td>Recoleta</td>\n",
              "      <td>Venta</td>\n",
              "      <td>Departamento</td>\n",
              "      <td>8.0</td>\n",
              "      <td>5.0</td>\n",
              "      <td>431.0</td>\n",
              "      <td>415.0</td>\n",
              "      <td>2800000.0</td>\n",
              "      <td>USD</td>\n",
              "      <td>Departamento de excelente calidad con 5 dormit...</td>\n",
              "      <td>3.599764</td>\n",
              "    </tr>\n",
              "    <tr>\n",
              "      <th>459764</th>\n",
              "      <td>oX3aPs/sStr80cOS+VyxVw==</td>\n",
              "      <td>2021-01-05</td>\n",
              "      <td>NaT</td>\n",
              "      <td>2021-01-05</td>\n",
              "      <td>-34.586441</td>\n",
              "      <td>-58.387889</td>\n",
              "      <td>Capital Federal</td>\n",
              "      <td>Recoleta</td>\n",
              "      <td>Recoleta</td>\n",
              "      <td>Venta</td>\n",
              "      <td>Departamento</td>\n",
              "      <td>8.0</td>\n",
              "      <td>4.0</td>\n",
              "      <td>383.0</td>\n",
              "      <td>383.0</td>\n",
              "      <td>1700000.0</td>\n",
              "      <td>USD</td>\n",
              "      <td>Departamento frances con 2 cocheras en venta e...</td>\n",
              "      <td>3.599764</td>\n",
              "    </tr>\n",
              "    <tr>\n",
              "      <th>459922</th>\n",
              "      <td>tO370Sb5BxaIjD5RxajSog==</td>\n",
              "      <td>2021-01-05</td>\n",
              "      <td>2021-08-02</td>\n",
              "      <td>2021-01-05</td>\n",
              "      <td>-34.590893</td>\n",
              "      <td>-58.408146</td>\n",
              "      <td>Capital Federal</td>\n",
              "      <td>Barrio Norte</td>\n",
              "      <td>Barrio Norte</td>\n",
              "      <td>Venta</td>\n",
              "      <td>Departamento</td>\n",
              "      <td>10.0</td>\n",
              "      <td>9.0</td>\n",
              "      <td>145.0</td>\n",
              "      <td>145.0</td>\n",
              "      <td>300000.0</td>\n",
              "      <td>USD</td>\n",
              "      <td>Enorme 10 amb de 145m2 - ideal inversión</td>\n",
              "      <td>4.992871</td>\n",
              "    </tr>\n",
              "  </tbody>\n",
              "</table>\n",
              "<p>774 rows × 19 columns</p>\n",
              "</div>\n",
              "      <button class=\"colab-df-convert\" onclick=\"convertToInteractive('df-0fceb1db-1889-4c9b-832d-58d9c29d7dab')\"\n",
              "              title=\"Convert this dataframe to an interactive table.\"\n",
              "              style=\"display:none;\">\n",
              "        \n",
              "  <svg xmlns=\"http://www.w3.org/2000/svg\" height=\"24px\"viewBox=\"0 0 24 24\"\n",
              "       width=\"24px\">\n",
              "    <path d=\"M0 0h24v24H0V0z\" fill=\"none\"/>\n",
              "    <path d=\"M18.56 5.44l.94 2.06.94-2.06 2.06-.94-2.06-.94-.94-2.06-.94 2.06-2.06.94zm-11 1L8.5 8.5l.94-2.06 2.06-.94-2.06-.94L8.5 2.5l-.94 2.06-2.06.94zm10 10l.94 2.06.94-2.06 2.06-.94-2.06-.94-.94-2.06-.94 2.06-2.06.94z\"/><path d=\"M17.41 7.96l-1.37-1.37c-.4-.4-.92-.59-1.43-.59-.52 0-1.04.2-1.43.59L10.3 9.45l-7.72 7.72c-.78.78-.78 2.05 0 2.83L4 21.41c.39.39.9.59 1.41.59.51 0 1.02-.2 1.41-.59l7.78-7.78 2.81-2.81c.8-.78.8-2.07 0-2.86zM5.41 20L4 18.59l7.72-7.72 1.47 1.35L5.41 20z\"/>\n",
              "  </svg>\n",
              "      </button>\n",
              "      \n",
              "  <style>\n",
              "    .colab-df-container {\n",
              "      display:flex;\n",
              "      flex-wrap:wrap;\n",
              "      gap: 12px;\n",
              "    }\n",
              "\n",
              "    .colab-df-convert {\n",
              "      background-color: #E8F0FE;\n",
              "      border: none;\n",
              "      border-radius: 50%;\n",
              "      cursor: pointer;\n",
              "      display: none;\n",
              "      fill: #1967D2;\n",
              "      height: 32px;\n",
              "      padding: 0 0 0 0;\n",
              "      width: 32px;\n",
              "    }\n",
              "\n",
              "    .colab-df-convert:hover {\n",
              "      background-color: #E2EBFA;\n",
              "      box-shadow: 0px 1px 2px rgba(60, 64, 67, 0.3), 0px 1px 3px 1px rgba(60, 64, 67, 0.15);\n",
              "      fill: #174EA6;\n",
              "    }\n",
              "\n",
              "    [theme=dark] .colab-df-convert {\n",
              "      background-color: #3B4455;\n",
              "      fill: #D2E3FC;\n",
              "    }\n",
              "\n",
              "    [theme=dark] .colab-df-convert:hover {\n",
              "      background-color: #434B5C;\n",
              "      box-shadow: 0px 1px 3px 1px rgba(0, 0, 0, 0.15);\n",
              "      filter: drop-shadow(0px 1px 2px rgba(0, 0, 0, 0.3));\n",
              "      fill: #FFFFFF;\n",
              "    }\n",
              "  </style>\n",
              "\n",
              "      <script>\n",
              "        const buttonEl =\n",
              "          document.querySelector('#df-0fceb1db-1889-4c9b-832d-58d9c29d7dab button.colab-df-convert');\n",
              "        buttonEl.style.display =\n",
              "          google.colab.kernel.accessAllowed ? 'block' : 'none';\n",
              "\n",
              "        async function convertToInteractive(key) {\n",
              "          const element = document.querySelector('#df-0fceb1db-1889-4c9b-832d-58d9c29d7dab');\n",
              "          const dataTable =\n",
              "            await google.colab.kernel.invokeFunction('convertToInteractive',\n",
              "                                                     [key], {});\n",
              "          if (!dataTable) return;\n",
              "\n",
              "          const docLinkHtml = 'Like what you see? Visit the ' +\n",
              "            '<a target=\"_blank\" href=https://colab.research.google.com/notebooks/data_table.ipynb>data table notebook</a>'\n",
              "            + ' to learn more about interactive tables.';\n",
              "          element.innerHTML = '';\n",
              "          dataTable['output_type'] = 'display_data';\n",
              "          await google.colab.output.renderOutput(dataTable, element);\n",
              "          const docLink = document.createElement('div');\n",
              "          docLink.innerHTML = docLinkHtml;\n",
              "          element.appendChild(docLink);\n",
              "        }\n",
              "      </script>\n",
              "    </div>\n",
              "  </div>\n",
              "  "
            ]
          },
          "metadata": {},
          "execution_count": 29
        }
      ]
    },
    {
      "cell_type": "code",
      "source": [
        "df[df['z_rooms']<-3]"
      ],
      "metadata": {
        "colab": {
          "base_uri": "https://localhost:8080/",
          "height": 113
        },
        "id": "1ZqQuyN239ch",
        "outputId": "d8981659-b7ea-46f9-c872-315e47d9d1d2"
      },
      "execution_count": null,
      "outputs": [
        {
          "output_type": "execute_result",
          "data": {
            "text/plain": [
              "Empty DataFrame\n",
              "Columns: [id, start_date, end_date, created_on, latitud, longitud, place_l2, place_l3, place_l4, operation, property_type, property_rooms, property_bedrooms, property_surface_total, property_surface_covered, property_price, property_currency, property_title, z_rooms]\n",
              "Index: []"
            ],
            "text/html": [
              "\n",
              "  <div id=\"df-d7dc8dc7-88d5-42d9-a97c-85d8fdeee1ad\">\n",
              "    <div class=\"colab-df-container\">\n",
              "      <div>\n",
              "<style scoped>\n",
              "    .dataframe tbody tr th:only-of-type {\n",
              "        vertical-align: middle;\n",
              "    }\n",
              "\n",
              "    .dataframe tbody tr th {\n",
              "        vertical-align: top;\n",
              "    }\n",
              "\n",
              "    .dataframe thead th {\n",
              "        text-align: right;\n",
              "    }\n",
              "</style>\n",
              "<table border=\"1\" class=\"dataframe\">\n",
              "  <thead>\n",
              "    <tr style=\"text-align: right;\">\n",
              "      <th></th>\n",
              "      <th>id</th>\n",
              "      <th>start_date</th>\n",
              "      <th>end_date</th>\n",
              "      <th>created_on</th>\n",
              "      <th>latitud</th>\n",
              "      <th>longitud</th>\n",
              "      <th>place_l2</th>\n",
              "      <th>place_l3</th>\n",
              "      <th>place_l4</th>\n",
              "      <th>operation</th>\n",
              "      <th>property_type</th>\n",
              "      <th>property_rooms</th>\n",
              "      <th>property_bedrooms</th>\n",
              "      <th>property_surface_total</th>\n",
              "      <th>property_surface_covered</th>\n",
              "      <th>property_price</th>\n",
              "      <th>property_currency</th>\n",
              "      <th>property_title</th>\n",
              "      <th>z_rooms</th>\n",
              "    </tr>\n",
              "  </thead>\n",
              "  <tbody>\n",
              "  </tbody>\n",
              "</table>\n",
              "</div>\n",
              "      <button class=\"colab-df-convert\" onclick=\"convertToInteractive('df-d7dc8dc7-88d5-42d9-a97c-85d8fdeee1ad')\"\n",
              "              title=\"Convert this dataframe to an interactive table.\"\n",
              "              style=\"display:none;\">\n",
              "        \n",
              "  <svg xmlns=\"http://www.w3.org/2000/svg\" height=\"24px\"viewBox=\"0 0 24 24\"\n",
              "       width=\"24px\">\n",
              "    <path d=\"M0 0h24v24H0V0z\" fill=\"none\"/>\n",
              "    <path d=\"M18.56 5.44l.94 2.06.94-2.06 2.06-.94-2.06-.94-.94-2.06-.94 2.06-2.06.94zm-11 1L8.5 8.5l.94-2.06 2.06-.94-2.06-.94L8.5 2.5l-.94 2.06-2.06.94zm10 10l.94 2.06.94-2.06 2.06-.94-2.06-.94-.94-2.06-.94 2.06-2.06.94z\"/><path d=\"M17.41 7.96l-1.37-1.37c-.4-.4-.92-.59-1.43-.59-.52 0-1.04.2-1.43.59L10.3 9.45l-7.72 7.72c-.78.78-.78 2.05 0 2.83L4 21.41c.39.39.9.59 1.41.59.51 0 1.02-.2 1.41-.59l7.78-7.78 2.81-2.81c.8-.78.8-2.07 0-2.86zM5.41 20L4 18.59l7.72-7.72 1.47 1.35L5.41 20z\"/>\n",
              "  </svg>\n",
              "      </button>\n",
              "      \n",
              "  <style>\n",
              "    .colab-df-container {\n",
              "      display:flex;\n",
              "      flex-wrap:wrap;\n",
              "      gap: 12px;\n",
              "    }\n",
              "\n",
              "    .colab-df-convert {\n",
              "      background-color: #E8F0FE;\n",
              "      border: none;\n",
              "      border-radius: 50%;\n",
              "      cursor: pointer;\n",
              "      display: none;\n",
              "      fill: #1967D2;\n",
              "      height: 32px;\n",
              "      padding: 0 0 0 0;\n",
              "      width: 32px;\n",
              "    }\n",
              "\n",
              "    .colab-df-convert:hover {\n",
              "      background-color: #E2EBFA;\n",
              "      box-shadow: 0px 1px 2px rgba(60, 64, 67, 0.3), 0px 1px 3px 1px rgba(60, 64, 67, 0.15);\n",
              "      fill: #174EA6;\n",
              "    }\n",
              "\n",
              "    [theme=dark] .colab-df-convert {\n",
              "      background-color: #3B4455;\n",
              "      fill: #D2E3FC;\n",
              "    }\n",
              "\n",
              "    [theme=dark] .colab-df-convert:hover {\n",
              "      background-color: #434B5C;\n",
              "      box-shadow: 0px 1px 3px 1px rgba(0, 0, 0, 0.15);\n",
              "      filter: drop-shadow(0px 1px 2px rgba(0, 0, 0, 0.3));\n",
              "      fill: #FFFFFF;\n",
              "    }\n",
              "  </style>\n",
              "\n",
              "      <script>\n",
              "        const buttonEl =\n",
              "          document.querySelector('#df-d7dc8dc7-88d5-42d9-a97c-85d8fdeee1ad button.colab-df-convert');\n",
              "        buttonEl.style.display =\n",
              "          google.colab.kernel.accessAllowed ? 'block' : 'none';\n",
              "\n",
              "        async function convertToInteractive(key) {\n",
              "          const element = document.querySelector('#df-d7dc8dc7-88d5-42d9-a97c-85d8fdeee1ad');\n",
              "          const dataTable =\n",
              "            await google.colab.kernel.invokeFunction('convertToInteractive',\n",
              "                                                     [key], {});\n",
              "          if (!dataTable) return;\n",
              "\n",
              "          const docLinkHtml = 'Like what you see? Visit the ' +\n",
              "            '<a target=\"_blank\" href=https://colab.research.google.com/notebooks/data_table.ipynb>data table notebook</a>'\n",
              "            + ' to learn more about interactive tables.';\n",
              "          element.innerHTML = '';\n",
              "          dataTable['output_type'] = 'display_data';\n",
              "          await google.colab.output.renderOutput(dataTable, element);\n",
              "          const docLink = document.createElement('div');\n",
              "          docLink.innerHTML = docLinkHtml;\n",
              "          element.appendChild(docLink);\n",
              "        }\n",
              "      </script>\n",
              "    </div>\n",
              "  </div>\n",
              "  "
            ]
          },
          "metadata": {},
          "execution_count": 30
        }
      ]
    },
    {
      "cell_type": "code",
      "source": [
        "plt.hist(df.z_rooms)\n",
        "plt.title('Histograma Z-Score Rooms')\n",
        "plt.xlabel('Z-Score Rooms')\n",
        "plt.show()"
      ],
      "metadata": {
        "colab": {
          "base_uri": "https://localhost:8080/",
          "height": 294
        },
        "id": "reIPSjCn4YSX",
        "outputId": "04a966d2-773b-42a6-e5d4-6f16296bbaae"
      },
      "execution_count": null,
      "outputs": [
        {
          "output_type": "display_data",
          "data": {
            "text/plain": [
              "<Figure size 432x288 with 1 Axes>"
            ],
            "image/png": "[encoded data removed]"
          },
          "metadata": {
            "needs_background": "light"
          }
        }
      ]
    },
    {
      "cell_type": "markdown",
      "source": [
        "###### Z-Score Modificado\n",
        "Verificamos una vez mas utilizando la modificacion de este ultimo metodo"
      ],
      "metadata": {
        "id": "zV6-CD_S3bS6"
      }
    },
    {
      "cell_type": "code",
      "source": [
        "mediana_room=np.median(df.property_rooms)\n",
        "MAD=np.median(np.absolute(df.property_rooms-mediana_room))\n",
        "\n",
        "df['zm_rooms']=(df.property_rooms - mediana_room)*0.6745/MAD"
      ],
      "metadata": {
        "id": "S_9vzJSv3eQ9"
      },
      "execution_count": null,
      "outputs": []
    },
    {
      "cell_type": "code",
      "source": [
        "df[(df['zm_rooms']>3.5)]"
      ],
      "metadata": {
        "colab": {
          "base_uri": "https://localhost:8080/",
          "height": 113
        },
        "id": "TYhesN1X44n0",
        "outputId": "073d7abe-d11d-4bfe-bee3-4866d1e08cfe"
      },
      "execution_count": null,
      "outputs": [
        {
          "output_type": "execute_result",
          "data": {
            "text/plain": [
              "Empty DataFrame\n",
              "Columns: [id, start_date, end_date, created_on, latitud, longitud, place_l2, place_l3, place_l4, operation, property_type, property_rooms, property_bedrooms, property_surface_total, property_surface_covered, property_price, property_currency, property_title, z_rooms, zm_rooms]\n",
              "Index: []"
            ],
            "text/html": [
              "\n",
              "  <div id=\"df-159fb805-09cb-453e-8502-82c5acc361d5\">\n",
              "    <div class=\"colab-df-container\">\n",
              "      <div>\n",
              "<style scoped>\n",
              "    .dataframe tbody tr th:only-of-type {\n",
              "        vertical-align: middle;\n",
              "    }\n",
              "\n",
              "    .dataframe tbody tr th {\n",
              "        vertical-align: top;\n",
              "    }\n",
              "\n",
              "    .dataframe thead th {\n",
              "        text-align: right;\n",
              "    }\n",
              "</style>\n",
              "<table border=\"1\" class=\"dataframe\">\n",
              "  <thead>\n",
              "    <tr style=\"text-align: right;\">\n",
              "      <th></th>\n",
              "      <th>id</th>\n",
              "      <th>start_date</th>\n",
              "      <th>end_date</th>\n",
              "      <th>created_on</th>\n",
              "      <th>latitud</th>\n",
              "      <th>longitud</th>\n",
              "      <th>place_l2</th>\n",
              "      <th>place_l3</th>\n",
              "      <th>place_l4</th>\n",
              "      <th>operation</th>\n",
              "      <th>property_type</th>\n",
              "      <th>property_rooms</th>\n",
              "      <th>property_bedrooms</th>\n",
              "      <th>property_surface_total</th>\n",
              "      <th>property_surface_covered</th>\n",
              "      <th>property_price</th>\n",
              "      <th>property_currency</th>\n",
              "      <th>property_title</th>\n",
              "      <th>z_rooms</th>\n",
              "      <th>zm_rooms</th>\n",
              "    </tr>\n",
              "  </thead>\n",
              "  <tbody>\n",
              "  </tbody>\n",
              "</table>\n",
              "</div>\n",
              "      <button class=\"colab-df-convert\" onclick=\"convertToInteractive('df-159fb805-09cb-453e-8502-82c5acc361d5')\"\n",
              "              title=\"Convert this dataframe to an interactive table.\"\n",
              "              style=\"display:none;\">\n",
              "        \n",
              "  <svg xmlns=\"http://www.w3.org/2000/svg\" height=\"24px\"viewBox=\"0 0 24 24\"\n",
              "       width=\"24px\">\n",
              "    <path d=\"M0 0h24v24H0V0z\" fill=\"none\"/>\n",
              "    <path d=\"M18.56 5.44l.94 2.06.94-2.06 2.06-.94-2.06-.94-.94-2.06-.94 2.06-2.06.94zm-11 1L8.5 8.5l.94-2.06 2.06-.94-2.06-.94L8.5 2.5l-.94 2.06-2.06.94zm10 10l.94 2.06.94-2.06 2.06-.94-2.06-.94-.94-2.06-.94 2.06-2.06.94z\"/><path d=\"M17.41 7.96l-1.37-1.37c-.4-.4-.92-.59-1.43-.59-.52 0-1.04.2-1.43.59L10.3 9.45l-7.72 7.72c-.78.78-.78 2.05 0 2.83L4 21.41c.39.39.9.59 1.41.59.51 0 1.02-.2 1.41-.59l7.78-7.78 2.81-2.81c.8-.78.8-2.07 0-2.86zM5.41 20L4 18.59l7.72-7.72 1.47 1.35L5.41 20z\"/>\n",
              "  </svg>\n",
              "      </button>\n",
              "      \n",
              "  <style>\n",
              "    .colab-df-container {\n",
              "      display:flex;\n",
              "      flex-wrap:wrap;\n",
              "      gap: 12px;\n",
              "    }\n",
              "\n",
              "    .colab-df-convert {\n",
              "      background-color: #E8F0FE;\n",
              "      border: none;\n",
              "      border-radius: 50%;\n",
              "      cursor: pointer;\n",
              "      display: none;\n",
              "      fill: #1967D2;\n",
              "      height: 32px;\n",
              "      padding: 0 0 0 0;\n",
              "      width: 32px;\n",
              "    }\n",
              "\n",
              "    .colab-df-convert:hover {\n",
              "      background-color: #E2EBFA;\n",
              "      box-shadow: 0px 1px 2px rgba(60, 64, 67, 0.3), 0px 1px 3px 1px rgba(60, 64, 67, 0.15);\n",
              "      fill: #174EA6;\n",
              "    }\n",
              "\n",
              "    [theme=dark] .colab-df-convert {\n",
              "      background-color: #3B4455;\n",
              "      fill: #D2E3FC;\n",
              "    }\n",
              "\n",
              "    [theme=dark] .colab-df-convert:hover {\n",
              "      background-color: #434B5C;\n",
              "      box-shadow: 0px 1px 3px 1px rgba(0, 0, 0, 0.15);\n",
              "      filter: drop-shadow(0px 1px 2px rgba(0, 0, 0, 0.3));\n",
              "      fill: #FFFFFF;\n",
              "    }\n",
              "  </style>\n",
              "\n",
              "      <script>\n",
              "        const buttonEl =\n",
              "          document.querySelector('#df-159fb805-09cb-453e-8502-82c5acc361d5 button.colab-df-convert');\n",
              "        buttonEl.style.display =\n",
              "          google.colab.kernel.accessAllowed ? 'block' : 'none';\n",
              "\n",
              "        async function convertToInteractive(key) {\n",
              "          const element = document.querySelector('#df-159fb805-09cb-453e-8502-82c5acc361d5');\n",
              "          const dataTable =\n",
              "            await google.colab.kernel.invokeFunction('convertToInteractive',\n",
              "                                                     [key], {});\n",
              "          if (!dataTable) return;\n",
              "\n",
              "          const docLinkHtml = 'Like what you see? Visit the ' +\n",
              "            '<a target=\"_blank\" href=https://colab.research.google.com/notebooks/data_table.ipynb>data table notebook</a>'\n",
              "            + ' to learn more about interactive tables.';\n",
              "          element.innerHTML = '';\n",
              "          dataTable['output_type'] = 'display_data';\n",
              "          await google.colab.output.renderOutput(dataTable, element);\n",
              "          const docLink = document.createElement('div');\n",
              "          docLink.innerHTML = docLinkHtml;\n",
              "          element.appendChild(docLink);\n",
              "        }\n",
              "      </script>\n",
              "    </div>\n",
              "  </div>\n",
              "  "
            ]
          },
          "metadata": {},
          "execution_count": 33
        }
      ]
    },
    {
      "cell_type": "code",
      "source": [
        "df[(df['zm_rooms']<-3.5)]"
      ],
      "metadata": {
        "colab": {
          "base_uri": "https://localhost:8080/",
          "height": 113
        },
        "id": "dCB1gZHh4_fK",
        "outputId": "435f764b-801e-4dae-babf-6bc03dd11c72"
      },
      "execution_count": null,
      "outputs": [
        {
          "output_type": "execute_result",
          "data": {
            "text/plain": [
              "Empty DataFrame\n",
              "Columns: [id, start_date, end_date, created_on, latitud, longitud, place_l2, place_l3, place_l4, operation, property_type, property_rooms, property_bedrooms, property_surface_total, property_surface_covered, property_price, property_currency, property_title, z_rooms, zm_rooms]\n",
              "Index: []"
            ],
            "text/html": [
              "\n",
              "  <div id=\"df-06c8b3b5-922c-4ff5-8974-01ff30f711ff\">\n",
              "    <div class=\"colab-df-container\">\n",
              "      <div>\n",
              "<style scoped>\n",
              "    .dataframe tbody tr th:only-of-type {\n",
              "        vertical-align: middle;\n",
              "    }\n",
              "\n",
              "    .dataframe tbody tr th {\n",
              "        vertical-align: top;\n",
              "    }\n",
              "\n",
              "    .dataframe thead th {\n",
              "        text-align: right;\n",
              "    }\n",
              "</style>\n",
              "<table border=\"1\" class=\"dataframe\">\n",
              "  <thead>\n",
              "    <tr style=\"text-align: right;\">\n",
              "      <th></th>\n",
              "      <th>id</th>\n",
              "      <th>start_date</th>\n",
              "      <th>end_date</th>\n",
              "      <th>created_on</th>\n",
              "      <th>latitud</th>\n",
              "      <th>longitud</th>\n",
              "      <th>place_l2</th>\n",
              "      <th>place_l3</th>\n",
              "      <th>place_l4</th>\n",
              "      <th>operation</th>\n",
              "      <th>property_type</th>\n",
              "      <th>property_rooms</th>\n",
              "      <th>property_bedrooms</th>\n",
              "      <th>property_surface_total</th>\n",
              "      <th>property_surface_covered</th>\n",
              "      <th>property_price</th>\n",
              "      <th>property_currency</th>\n",
              "      <th>property_title</th>\n",
              "      <th>z_rooms</th>\n",
              "      <th>zm_rooms</th>\n",
              "    </tr>\n",
              "  </thead>\n",
              "  <tbody>\n",
              "  </tbody>\n",
              "</table>\n",
              "</div>\n",
              "      <button class=\"colab-df-convert\" onclick=\"convertToInteractive('df-06c8b3b5-922c-4ff5-8974-01ff30f711ff')\"\n",
              "              title=\"Convert this dataframe to an interactive table.\"\n",
              "              style=\"display:none;\">\n",
              "        \n",
              "  <svg xmlns=\"http://www.w3.org/2000/svg\" height=\"24px\"viewBox=\"0 0 24 24\"\n",
              "       width=\"24px\">\n",
              "    <path d=\"M0 0h24v24H0V0z\" fill=\"none\"/>\n",
              "    <path d=\"M18.56 5.44l.94 2.06.94-2.06 2.06-.94-2.06-.94-.94-2.06-.94 2.06-2.06.94zm-11 1L8.5 8.5l.94-2.06 2.06-.94-2.06-.94L8.5 2.5l-.94 2.06-2.06.94zm10 10l.94 2.06.94-2.06 2.06-.94-2.06-.94-.94-2.06-.94 2.06-2.06.94z\"/><path d=\"M17.41 7.96l-1.37-1.37c-.4-.4-.92-.59-1.43-.59-.52 0-1.04.2-1.43.59L10.3 9.45l-7.72 7.72c-.78.78-.78 2.05 0 2.83L4 21.41c.39.39.9.59 1.41.59.51 0 1.02-.2 1.41-.59l7.78-7.78 2.81-2.81c.8-.78.8-2.07 0-2.86zM5.41 20L4 18.59l7.72-7.72 1.47 1.35L5.41 20z\"/>\n",
              "  </svg>\n",
              "      </button>\n",
              "      \n",
              "  <style>\n",
              "    .colab-df-container {\n",
              "      display:flex;\n",
              "      flex-wrap:wrap;\n",
              "      gap: 12px;\n",
              "    }\n",
              "\n",
              "    .colab-df-convert {\n",
              "      background-color: #E8F0FE;\n",
              "      border: none;\n",
              "      border-radius: 50%;\n",
              "      cursor: pointer;\n",
              "      display: none;\n",
              "      fill: #1967D2;\n",
              "      height: 32px;\n",
              "      padding: 0 0 0 0;\n",
              "      width: 32px;\n",
              "    }\n",
              "\n",
              "    .colab-df-convert:hover {\n",
              "      background-color: #E2EBFA;\n",
              "      box-shadow: 0px 1px 2px rgba(60, 64, 67, 0.3), 0px 1px 3px 1px rgba(60, 64, 67, 0.15);\n",
              "      fill: #174EA6;\n",
              "    }\n",
              "\n",
              "    [theme=dark] .colab-df-convert {\n",
              "      background-color: #3B4455;\n",
              "      fill: #D2E3FC;\n",
              "    }\n",
              "\n",
              "    [theme=dark] .colab-df-convert:hover {\n",
              "      background-color: #434B5C;\n",
              "      box-shadow: 0px 1px 3px 1px rgba(0, 0, 0, 0.15);\n",
              "      filter: drop-shadow(0px 1px 2px rgba(0, 0, 0, 0.3));\n",
              "      fill: #FFFFFF;\n",
              "    }\n",
              "  </style>\n",
              "\n",
              "      <script>\n",
              "        const buttonEl =\n",
              "          document.querySelector('#df-06c8b3b5-922c-4ff5-8974-01ff30f711ff button.colab-df-convert');\n",
              "        buttonEl.style.display =\n",
              "          google.colab.kernel.accessAllowed ? 'block' : 'none';\n",
              "\n",
              "        async function convertToInteractive(key) {\n",
              "          const element = document.querySelector('#df-06c8b3b5-922c-4ff5-8974-01ff30f711ff');\n",
              "          const dataTable =\n",
              "            await google.colab.kernel.invokeFunction('convertToInteractive',\n",
              "                                                     [key], {});\n",
              "          if (!dataTable) return;\n",
              "\n",
              "          const docLinkHtml = 'Like what you see? Visit the ' +\n",
              "            '<a target=\"_blank\" href=https://colab.research.google.com/notebooks/data_table.ipynb>data table notebook</a>'\n",
              "            + ' to learn more about interactive tables.';\n",
              "          element.innerHTML = '';\n",
              "          dataTable['output_type'] = 'display_data';\n",
              "          await google.colab.output.renderOutput(dataTable, element);\n",
              "          const docLink = document.createElement('div');\n",
              "          docLink.innerHTML = docLinkHtml;\n",
              "          element.appendChild(docLink);\n",
              "        }\n",
              "      </script>\n",
              "    </div>\n",
              "  </div>\n",
              "  "
            ]
          },
          "metadata": {},
          "execution_count": 34
        }
      ]
    },
    {
      "cell_type": "markdown",
      "metadata": {
        "id": "TsWBLuvVy-YK"
      },
      "source": [
        "##### Property bedrooms\n",
        "\n",
        "Al igual que los ambientes, podemos notar tambien aca la presencia de algunos valores lejanos a los extremos de los cuartiles que usamos de referencia. En particular tenemos uno notoriamente distanciado cercano al numero 70."
      ]
    },
    {
      "cell_type": "markdown",
      "source": [
        "Repetimos los metodos anteriores."
      ],
      "metadata": {
        "id": "G1zEwYCrRmnD"
      }
    },
    {
      "cell_type": "markdown",
      "source": [
        " ###### Box plot\n"
      ],
      "metadata": {
        "id": "KiJLnkY_Rpyi"
      }
    },
    {
      "cell_type": "code",
      "execution_count": null,
      "metadata": {
        "colab": {
          "base_uri": "https://localhost:8080/",
          "height": 252
        },
        "id": "JLkz5m6HrAoP",
        "outputId": "18e3b889-0c0a-443b-ef92-21ff1f62d6f8"
      },
      "outputs": [
        {
          "output_type": "display_data",
          "data": {
            "text/plain": [
              "<Figure size 432x288 with 1 Axes>"
            ],
            "image/png": "[encoded data removed]"
          },
          "metadata": {
            "needs_background": "light"
          }
        }
      ],
      "source": [
        "sns.boxplot(y=df.property_bedrooms)\n",
        "plt.show()"
      ]
    },
    {
      "cell_type": "code",
      "execution_count": null,
      "metadata": {
        "colab": {
          "base_uri": "https://localhost:8080/"
        },
        "id": "6iH1LhJKzEPs",
        "outputId": "90a388f2-5adc-4af6-cd5e-ec03e549ad41"
      },
      "outputs": [
        {
          "output_type": "stream",
          "name": "stdout",
          "text": [
            "El valor de Q1 es: 1.0\n",
            "El valor de Q3 es: 3.0\n",
            "El limite inferior del Q1 es: -2.0\n",
            "El limite superior del Q3 es: 6.0\n"
          ]
        }
      ],
      "source": [
        "# Cuartiles\n",
        "Q1_property_bedrooms=df.describe().get(\"property_bedrooms\").get(\"25%\")\n",
        "Q3_property_bedrooms=df.describe().get(\"property_bedrooms\").get(\"75%\")\n",
        "\n",
        "print(\"El valor de Q1 es:\", Q1_property_bedrooms)\n",
        "print(\"El valor de Q3 es:\", Q3_property_bedrooms)\n",
        "\n",
        "# Rango intercuartil\n",
        "IQR_property_bedrooms=Q3_property_bedrooms-Q1_property_bedrooms\n",
        "\n",
        "# Limites Outliers\n",
        "out_inf=Q1_property_bedrooms-1.5*IQR_property_bedrooms\n",
        "out_sup=Q3_property_bedrooms+1.5*IQR_property_bedrooms\n",
        "print(\"El limite inferior del Q1 es:\", out_inf)\n",
        "print(\"El limite superior del Q3 es:\", out_sup)"
      ]
    },
    {
      "cell_type": "markdown",
      "source": [
        "Confirmamos que tratamos con un outlier notando la relacion por ejemplo con la variable property rooms"
      ],
      "metadata": {
        "id": "Edc0IGA4Idm8"
      }
    },
    {
      "cell_type": "code",
      "source": [
        "outlier=df[df['property_bedrooms']>60]\n",
        "outlier"
      ],
      "metadata": {
        "colab": {
          "base_uri": "https://localhost:8080/",
          "height": 162
        },
        "id": "gXQYiWVCItCA",
        "outputId": "d92ac8c0-5082-4824-a77f-095c36f9ea5c"
      },
      "execution_count": null,
      "outputs": [
        {
          "output_type": "execute_result",
          "data": {
            "text/plain": [
              "                             id start_date   end_date created_on    latitud  \\\n",
              "94998  4TbEkLoqy/0c3zakd66/FQ== 2021-09-24 2022-01-27 2021-09-24 -34.646632   \n",
              "\n",
              "        longitud         place_l2    place_l3    place_l4 operation  \\\n",
              "94998 -58.497902  Capital Federal  Villa Luro  Villa Luro     Venta   \n",
              "\n",
              "      property_type  property_rooms  property_bedrooms  \\\n",
              "94998  Departamento             3.0               70.0   \n",
              "\n",
              "       property_surface_total  property_surface_covered  property_price  \\\n",
              "94998                    70.0                      70.0        135000.0   \n",
              "\n",
              "      property_currency             property_title   z_rooms  zm_rooms  \n",
              "94998               USD  Departamento - Villa Luro  0.116997       NaN  "
            ],
            "text/html": [
              "\n",
              "  <div id=\"df-6cc93c87-1579-49cd-990e-bce549114c55\">\n",
              "    <div class=\"colab-df-container\">\n",
              "      <div>\n",
              "<style scoped>\n",
              "    .dataframe tbody tr th:only-of-type {\n",
              "        vertical-align: middle;\n",
              "    }\n",
              "\n",
              "    .dataframe tbody tr th {\n",
              "        vertical-align: top;\n",
              "    }\n",
              "\n",
              "    .dataframe thead th {\n",
              "        text-align: right;\n",
              "    }\n",
              "</style>\n",
              "<table border=\"1\" class=\"dataframe\">\n",
              "  <thead>\n",
              "    <tr style=\"text-align: right;\">\n",
              "      <th></th>\n",
              "      <th>id</th>\n",
              "      <th>start_date</th>\n",
              "      <th>end_date</th>\n",
              "      <th>created_on</th>\n",
              "      <th>latitud</th>\n",
              "      <th>longitud</th>\n",
              "      <th>place_l2</th>\n",
              "      <th>place_l3</th>\n",
              "      <th>place_l4</th>\n",
              "      <th>operation</th>\n",
              "      <th>property_type</th>\n",
              "      <th>property_rooms</th>\n",
              "      <th>property_bedrooms</th>\n",
              "      <th>property_surface_total</th>\n",
              "      <th>property_surface_covered</th>\n",
              "      <th>property_price</th>\n",
              "      <th>property_currency</th>\n",
              "      <th>property_title</th>\n",
              "      <th>z_rooms</th>\n",
              "      <th>zm_rooms</th>\n",
              "    </tr>\n",
              "  </thead>\n",
              "  <tbody>\n",
              "    <tr>\n",
              "      <th>94998</th>\n",
              "      <td>4TbEkLoqy/0c3zakd66/FQ==</td>\n",
              "      <td>2021-09-24</td>\n",
              "      <td>2022-01-27</td>\n",
              "      <td>2021-09-24</td>\n",
              "      <td>-34.646632</td>\n",
              "      <td>-58.497902</td>\n",
              "      <td>Capital Federal</td>\n",
              "      <td>Villa Luro</td>\n",
              "      <td>Villa Luro</td>\n",
              "      <td>Venta</td>\n",
              "      <td>Departamento</td>\n",
              "      <td>3.0</td>\n",
              "      <td>70.0</td>\n",
              "      <td>70.0</td>\n",
              "      <td>70.0</td>\n",
              "      <td>135000.0</td>\n",
              "      <td>USD</td>\n",
              "      <td>Departamento - Villa Luro</td>\n",
              "      <td>0.116997</td>\n",
              "      <td>NaN</td>\n",
              "    </tr>\n",
              "  </tbody>\n",
              "</table>\n",
              "</div>\n",
              "      <button class=\"colab-df-convert\" onclick=\"convertToInteractive('df-6cc93c87-1579-49cd-990e-bce549114c55')\"\n",
              "              title=\"Convert this dataframe to an interactive table.\"\n",
              "              style=\"display:none;\">\n",
              "        \n",
              "  <svg xmlns=\"http://www.w3.org/2000/svg\" height=\"24px\"viewBox=\"0 0 24 24\"\n",
              "       width=\"24px\">\n",
              "    <path d=\"M0 0h24v24H0V0z\" fill=\"none\"/>\n",
              "    <path d=\"M18.56 5.44l.94 2.06.94-2.06 2.06-.94-2.06-.94-.94-2.06-.94 2.06-2.06.94zm-11 1L8.5 8.5l.94-2.06 2.06-.94-2.06-.94L8.5 2.5l-.94 2.06-2.06.94zm10 10l.94 2.06.94-2.06 2.06-.94-2.06-.94-.94-2.06-.94 2.06-2.06.94z\"/><path d=\"M17.41 7.96l-1.37-1.37c-.4-.4-.92-.59-1.43-.59-.52 0-1.04.2-1.43.59L10.3 9.45l-7.72 7.72c-.78.78-.78 2.05 0 2.83L4 21.41c.39.39.9.59 1.41.59.51 0 1.02-.2 1.41-.59l7.78-7.78 2.81-2.81c.8-.78.8-2.07 0-2.86zM5.41 20L4 18.59l7.72-7.72 1.47 1.35L5.41 20z\"/>\n",
              "  </svg>\n",
              "      </button>\n",
              "      \n",
              "  <style>\n",
              "    .colab-df-container {\n",
              "      display:flex;\n",
              "      flex-wrap:wrap;\n",
              "      gap: 12px;\n",
              "    }\n",
              "\n",
              "    .colab-df-convert {\n",
              "      background-color: #E8F0FE;\n",
              "      border: none;\n",
              "      border-radius: 50%;\n",
              "      cursor: pointer;\n",
              "      display: none;\n",
              "      fill: #1967D2;\n",
              "      height: 32px;\n",
              "      padding: 0 0 0 0;\n",
              "      width: 32px;\n",
              "    }\n",
              "\n",
              "    .colab-df-convert:hover {\n",
              "      background-color: #E2EBFA;\n",
              "      box-shadow: 0px 1px 2px rgba(60, 64, 67, 0.3), 0px 1px 3px 1px rgba(60, 64, 67, 0.15);\n",
              "      fill: #174EA6;\n",
              "    }\n",
              "\n",
              "    [theme=dark] .colab-df-convert {\n",
              "      background-color: #3B4455;\n",
              "      fill: #D2E3FC;\n",
              "    }\n",
              "\n",
              "    [theme=dark] .colab-df-convert:hover {\n",
              "      background-color: #434B5C;\n",
              "      box-shadow: 0px 1px 3px 1px rgba(0, 0, 0, 0.15);\n",
              "      filter: drop-shadow(0px 1px 2px rgba(0, 0, 0, 0.3));\n",
              "      fill: #FFFFFF;\n",
              "    }\n",
              "  </style>\n",
              "\n",
              "      <script>\n",
              "        const buttonEl =\n",
              "          document.querySelector('#df-6cc93c87-1579-49cd-990e-bce549114c55 button.colab-df-convert');\n",
              "        buttonEl.style.display =\n",
              "          google.colab.kernel.accessAllowed ? 'block' : 'none';\n",
              "\n",
              "        async function convertToInteractive(key) {\n",
              "          const element = document.querySelector('#df-6cc93c87-1579-49cd-990e-bce549114c55');\n",
              "          const dataTable =\n",
              "            await google.colab.kernel.invokeFunction('convertToInteractive',\n",
              "                                                     [key], {});\n",
              "          if (!dataTable) return;\n",
              "\n",
              "          const docLinkHtml = 'Like what you see? Visit the ' +\n",
              "            '<a target=\"_blank\" href=https://colab.research.google.com/notebooks/data_table.ipynb>data table notebook</a>'\n",
              "            + ' to learn more about interactive tables.';\n",
              "          element.innerHTML = '';\n",
              "          dataTable['output_type'] = 'display_data';\n",
              "          await google.colab.output.renderOutput(dataTable, element);\n",
              "          const docLink = document.createElement('div');\n",
              "          docLink.innerHTML = docLinkHtml;\n",
              "          element.appendChild(docLink);\n",
              "        }\n",
              "      </script>\n",
              "    </div>\n",
              "  </div>\n",
              "  "
            ]
          },
          "metadata": {},
          "execution_count": 37
        }
      ]
    },
    {
      "cell_type": "markdown",
      "source": [
        "###### Z-Score"
      ],
      "metadata": {
        "id": "1GdBZQygZZ0c"
      }
    },
    {
      "cell_type": "code",
      "source": [
        "media_bedrooms=np.mean(df.property_bedrooms)\n",
        "std_bedrooms=np.std(df.property_bedrooms)\n",
        "df['z_bedrooms']=(df.property_bedrooms - media_bedrooms)/std_bedrooms"
      ],
      "metadata": {
        "id": "cy5ihKZsOcta"
      },
      "execution_count": null,
      "outputs": []
    },
    {
      "cell_type": "code",
      "source": [
        "df[df['z_bedrooms']>3]"
      ],
      "metadata": {
        "colab": {
          "base_uri": "https://localhost:8080/",
          "height": 834
        },
        "id": "6lvupSX_8n9C",
        "outputId": "1ff9c579-d81e-4c71-c1ef-19c0ab78ee6c"
      },
      "execution_count": null,
      "outputs": [
        {
          "output_type": "execute_result",
          "data": {
            "text/plain": [
              "                              id start_date   end_date created_on    latitud  \\\n",
              "58      tgaK6Ibor1zLY5bvNxsXfw== 2021-09-09 2021-09-26 2021-09-09 -34.633730   \n",
              "1040    hg7z9YXumyiWLjMo6ed2Eg== 2021-09-09 2022-03-09 2021-09-09 -34.620750   \n",
              "1108    emutcNxb0N+nIgC7KPMFow== 2021-09-09 2022-03-09 2021-09-09 -34.620750   \n",
              "1349    fwH71WfOi+vE4kdGMHfWNQ== 2021-09-09 2022-03-09 2021-09-09 -34.620750   \n",
              "1363    rfG2Nb7079oZOP8wAKuwXA== 2021-09-09 2022-03-09 2021-09-09 -34.620750   \n",
              "...                          ...        ...        ...        ...        ...   \n",
              "457366  addYhPIIGDmKeww0LFYSTg== 2021-05-08 2021-06-05 2021-05-08 -34.631404   \n",
              "457782  zThHFYUg/ZODnN9ekjwgFg== 2021-05-08 2021-06-05 2021-05-08 -34.581524   \n",
              "458670  naEatqtTCG8ALXICib4ZxQ== 2021-01-05 2022-08-12 2021-01-05 -34.577390   \n",
              "458873  JklH0r8XBsFn3380WryLIw== 2021-01-05        NaT 2021-01-05 -34.625353   \n",
              "459922  tO370Sb5BxaIjD5RxajSog== 2021-01-05 2021-08-02 2021-01-05 -34.590893   \n",
              "\n",
              "         longitud         place_l2          place_l3          place_l4  \\\n",
              "58     -58.424729  Capital Federal             Boedo             Boedo   \n",
              "1040   -58.502759  Capital Federal        Villa Luro        Villa Luro   \n",
              "1108   -58.502759  Capital Federal      Monte Castro      Monte Castro   \n",
              "1349   -58.502759  Capital Federal   Velez Sarsfield   Velez Sarsfield   \n",
              "1363   -58.502759  Capital Federal  Villa Santa Rita  Villa Santa Rita   \n",
              "...           ...              ...               ...               ...   \n",
              "457366 -58.403266  Capital Federal  Parque Patricios  Parque Patricios   \n",
              "457782 -58.403588  Capital Federal           Palermo           Palermo   \n",
              "458670 -58.475421  Capital Federal     Villa Urquiza     Villa Urquiza   \n",
              "458873 -58.372014  Capital Federal         San Telmo         San Telmo   \n",
              "459922 -58.408146  Capital Federal      Barrio Norte      Barrio Norte   \n",
              "\n",
              "       operation  ... property_rooms  property_bedrooms  \\\n",
              "58         Venta  ...           10.0               10.0   \n",
              "1040       Venta  ...            8.0                6.0   \n",
              "1108       Venta  ...            8.0                6.0   \n",
              "1349       Venta  ...            8.0                6.0   \n",
              "1363       Venta  ...            8.0                6.0   \n",
              "...          ...  ...            ...                ...   \n",
              "457366     Venta  ...            7.0                6.0   \n",
              "457782     Venta  ...           10.0                6.0   \n",
              "458670     Venta  ...            5.0                6.0   \n",
              "458873     Venta  ...           12.0               12.0   \n",
              "459922     Venta  ...           10.0                9.0   \n",
              "\n",
              "        property_surface_total  property_surface_covered  property_price  \\\n",
              "58                       394.0                     244.0        500000.0   \n",
              "1040                     201.0                     201.0        345000.0   \n",
              "1108                     201.0                     201.0        345000.0   \n",
              "1349                     201.0                     201.0        345000.0   \n",
              "1363                     201.0                     201.0        345000.0   \n",
              "...                        ...                       ...             ...   \n",
              "457366                   280.0                     230.0        426000.0   \n",
              "457782                   520.0                     500.0       3300000.0   \n",
              "458670                   125.0                     100.0        265000.0   \n",
              "458873                   820.0                     820.0        550000.0   \n",
              "459922                   145.0                     145.0        300000.0   \n",
              "\n",
              "        property_currency                                     property_title  \\\n",
              "58                    USD  VENTA CASA BOEDO LOCAL  DEPARTAMENTOS HABITACI...   \n",
              "1040                  USD            Casa Ideal Dos Familias  - Monte Castro   \n",
              "1108                  USD            Casa Ideal Dos Familias  - Monte Castro   \n",
              "1349                  USD            Casa Ideal Dos Familias  - Monte Castro   \n",
              "1363                  USD            Casa Ideal Dos Familias  - Monte Castro   \n",
              "...                   ...                                                ...   \n",
              "457366                USD                            Casa - Parque Patricios   \n",
              "457782                USD                         Venta Departamento Palermo   \n",
              "458670                USD  Alvarez Thomas 2400 Exc PH SIN EXPENSAS-  5 am...   \n",
              "458873                USD                       Casa de  820 m2 en San Telmo   \n",
              "459922                USD           Enorme 10 amb de 145m2 - ideal inversión   \n",
              "\n",
              "         z_rooms  zm_rooms  z_bedrooms  \n",
              "58      4.992871       NaN    7.237343  \n",
              "1040    3.599764       NaN    3.657724  \n",
              "1108    3.599764       NaN    3.657724  \n",
              "1349    3.599764       NaN    3.657724  \n",
              "1363    3.599764       NaN    3.657724  \n",
              "...          ...       ...         ...  \n",
              "457366  2.903210       NaN    3.657724  \n",
              "457782  4.992871       NaN    3.657724  \n",
              "458670  1.510104       NaN    3.657724  \n",
              "458873  6.385977       NaN    9.027152  \n",
              "459922  4.992871       NaN    6.342438  \n",
              "\n",
              "[540 rows x 21 columns]"
            ],
            "text/html": [
              "\n",
              "  <div id=\"df-72397165-aeeb-4cfd-b3dd-5b4cd18cd7ef\">\n",
              "    <div class=\"colab-df-container\">\n",
              "      <div>\n",
              "<style scoped>\n",
              "    .dataframe tbody tr th:only-of-type {\n",
              "        vertical-align: middle;\n",
              "    }\n",
              "\n",
              "    .dataframe tbody tr th {\n",
              "        vertical-align: top;\n",
              "    }\n",
              "\n",
              "    .dataframe thead th {\n",
              "        text-align: right;\n",
              "    }\n",
              "</style>\n",
              "<table border=\"1\" class=\"dataframe\">\n",
              "  <thead>\n",
              "    <tr style=\"text-align: right;\">\n",
              "      <th></th>\n",
              "      <th>id</th>\n",
              "      <th>start_date</th>\n",
              "      <th>end_date</th>\n",
              "      <th>created_on</th>\n",
              "      <th>latitud</th>\n",
              "      <th>longitud</th>\n",
              "      <th>place_l2</th>\n",
              "      <th>place_l3</th>\n",
              "      <th>place_l4</th>\n",
              "      <th>operation</th>\n",
              "      <th>...</th>\n",
              "      <th>property_rooms</th>\n",
              "      <th>property_bedrooms</th>\n",
              "      <th>property_surface_total</th>\n",
              "      <th>property_surface_covered</th>\n",
              "      <th>property_price</th>\n",
              "      <th>property_currency</th>\n",
              "      <th>property_title</th>\n",
              "      <th>z_rooms</th>\n",
              "      <th>zm_rooms</th>\n",
              "      <th>z_bedrooms</th>\n",
              "    </tr>\n",
              "  </thead>\n",
              "  <tbody>\n",
              "    <tr>\n",
              "      <th>58</th>\n",
              "      <td>tgaK6Ibor1zLY5bvNxsXfw==</td>\n",
              "      <td>2021-09-09</td>\n",
              "      <td>2021-09-26</td>\n",
              "      <td>2021-09-09</td>\n",
              "      <td>-34.633730</td>\n",
              "      <td>-58.424729</td>\n",
              "      <td>Capital Federal</td>\n",
              "      <td>Boedo</td>\n",
              "      <td>Boedo</td>\n",
              "      <td>Venta</td>\n",
              "      <td>...</td>\n",
              "      <td>10.0</td>\n",
              "      <td>10.0</td>\n",
              "      <td>394.0</td>\n",
              "      <td>244.0</td>\n",
              "      <td>500000.0</td>\n",
              "      <td>USD</td>\n",
              "      <td>VENTA CASA BOEDO LOCAL  DEPARTAMENTOS HABITACI...</td>\n",
              "      <td>4.992871</td>\n",
              "      <td>NaN</td>\n",
              "      <td>7.237343</td>\n",
              "    </tr>\n",
              "    <tr>\n",
              "      <th>1040</th>\n",
              "      <td>hg7z9YXumyiWLjMo6ed2Eg==</td>\n",
              "      <td>2021-09-09</td>\n",
              "      <td>2022-03-09</td>\n",
              "      <td>2021-09-09</td>\n",
              "      <td>-34.620750</td>\n",
              "      <td>-58.502759</td>\n",
              "      <td>Capital Federal</td>\n",
              "      <td>Villa Luro</td>\n",
              "      <td>Villa Luro</td>\n",
              "      <td>Venta</td>\n",
              "      <td>...</td>\n",
              "      <td>8.0</td>\n",
              "      <td>6.0</td>\n",
              "      <td>201.0</td>\n",
              "      <td>201.0</td>\n",
              "      <td>345000.0</td>\n",
              "      <td>USD</td>\n",
              "      <td>Casa Ideal Dos Familias  - Monte Castro</td>\n",
              "      <td>3.599764</td>\n",
              "      <td>NaN</td>\n",
              "      <td>3.657724</td>\n",
              "    </tr>\n",
              "    <tr>\n",
              "      <th>1108</th>\n",
              "      <td>emutcNxb0N+nIgC7KPMFow==</td>\n",
              "      <td>2021-09-09</td>\n",
              "      <td>2022-03-09</td>\n",
              "      <td>2021-09-09</td>\n",
              "      <td>-34.620750</td>\n",
              "      <td>-58.502759</td>\n",
              "      <td>Capital Federal</td>\n",
              "      <td>Monte Castro</td>\n",
              "      <td>Monte Castro</td>\n",
              "      <td>Venta</td>\n",
              "      <td>...</td>\n",
              "      <td>8.0</td>\n",
              "      <td>6.0</td>\n",
              "      <td>201.0</td>\n",
              "      <td>201.0</td>\n",
              "      <td>345000.0</td>\n",
              "      <td>USD</td>\n",
              "      <td>Casa Ideal Dos Familias  - Monte Castro</td>\n",
              "      <td>3.599764</td>\n",
              "      <td>NaN</td>\n",
              "      <td>3.657724</td>\n",
              "    </tr>\n",
              "    <tr>\n",
              "      <th>1349</th>\n",
              "      <td>fwH71WfOi+vE4kdGMHfWNQ==</td>\n",
              "      <td>2021-09-09</td>\n",
              "      <td>2022-03-09</td>\n",
              "      <td>2021-09-09</td>\n",
              "      <td>-34.620750</td>\n",
              "      <td>-58.502759</td>\n",
              "      <td>Capital Federal</td>\n",
              "      <td>Velez Sarsfield</td>\n",
              "      <td>Velez Sarsfield</td>\n",
              "      <td>Venta</td>\n",
              "      <td>...</td>\n",
              "      <td>8.0</td>\n",
              "      <td>6.0</td>\n",
              "      <td>201.0</td>\n",
              "      <td>201.0</td>\n",
              "      <td>345000.0</td>\n",
              "      <td>USD</td>\n",
              "      <td>Casa Ideal Dos Familias  - Monte Castro</td>\n",
              "      <td>3.599764</td>\n",
              "      <td>NaN</td>\n",
              "      <td>3.657724</td>\n",
              "    </tr>\n",
              "    <tr>\n",
              "      <th>1363</th>\n",
              "      <td>rfG2Nb7079oZOP8wAKuwXA==</td>\n",
              "      <td>2021-09-09</td>\n",
              "      <td>2022-03-09</td>\n",
              "      <td>2021-09-09</td>\n",
              "      <td>-34.620750</td>\n",
              "      <td>-58.502759</td>\n",
              "      <td>Capital Federal</td>\n",
              "      <td>Villa Santa Rita</td>\n",
              "      <td>Villa Santa Rita</td>\n",
              "      <td>Venta</td>\n",
              "      <td>...</td>\n",
              "      <td>8.0</td>\n",
              "      <td>6.0</td>\n",
              "      <td>201.0</td>\n",
              "      <td>201.0</td>\n",
              "      <td>345000.0</td>\n",
              "      <td>USD</td>\n",
              "      <td>Casa Ideal Dos Familias  - Monte Castro</td>\n",
              "      <td>3.599764</td>\n",
              "      <td>NaN</td>\n",
              "      <td>3.657724</td>\n",
              "    </tr>\n",
              "    <tr>\n",
              "      <th>...</th>\n",
              "      <td>...</td>\n",
              "      <td>...</td>\n",
              "      <td>...</td>\n",
              "      <td>...</td>\n",
              "      <td>...</td>\n",
              "      <td>...</td>\n",
              "      <td>...</td>\n",
              "      <td>...</td>\n",
              "      <td>...</td>\n",
              "      <td>...</td>\n",
              "      <td>...</td>\n",
              "      <td>...</td>\n",
              "      <td>...</td>\n",
              "      <td>...</td>\n",
              "      <td>...</td>\n",
              "      <td>...</td>\n",
              "      <td>...</td>\n",
              "      <td>...</td>\n",
              "      <td>...</td>\n",
              "      <td>...</td>\n",
              "      <td>...</td>\n",
              "    </tr>\n",
              "    <tr>\n",
              "      <th>457366</th>\n",
              "      <td>addYhPIIGDmKeww0LFYSTg==</td>\n",
              "      <td>2021-05-08</td>\n",
              "      <td>2021-06-05</td>\n",
              "      <td>2021-05-08</td>\n",
              "      <td>-34.631404</td>\n",
              "      <td>-58.403266</td>\n",
              "      <td>Capital Federal</td>\n",
              "      <td>Parque Patricios</td>\n",
              "      <td>Parque Patricios</td>\n",
              "      <td>Venta</td>\n",
              "      <td>...</td>\n",
              "      <td>7.0</td>\n",
              "      <td>6.0</td>\n",
              "      <td>280.0</td>\n",
              "      <td>230.0</td>\n",
              "      <td>426000.0</td>\n",
              "      <td>USD</td>\n",
              "      <td>Casa - Parque Patricios</td>\n",
              "      <td>2.903210</td>\n",
              "      <td>NaN</td>\n",
              "      <td>3.657724</td>\n",
              "    </tr>\n",
              "    <tr>\n",
              "      <th>457782</th>\n",
              "      <td>zThHFYUg/ZODnN9ekjwgFg==</td>\n",
              "      <td>2021-05-08</td>\n",
              "      <td>2021-06-05</td>\n",
              "      <td>2021-05-08</td>\n",
              "      <td>-34.581524</td>\n",
              "      <td>-58.403588</td>\n",
              "      <td>Capital Federal</td>\n",
              "      <td>Palermo</td>\n",
              "      <td>Palermo</td>\n",
              "      <td>Venta</td>\n",
              "      <td>...</td>\n",
              "      <td>10.0</td>\n",
              "      <td>6.0</td>\n",
              "      <td>520.0</td>\n",
              "      <td>500.0</td>\n",
              "      <td>3300000.0</td>\n",
              "      <td>USD</td>\n",
              "      <td>Venta Departamento Palermo</td>\n",
              "      <td>4.992871</td>\n",
              "      <td>NaN</td>\n",
              "      <td>3.657724</td>\n",
              "    </tr>\n",
              "    <tr>\n",
              "      <th>458670</th>\n",
              "      <td>naEatqtTCG8ALXICib4ZxQ==</td>\n",
              "      <td>2021-01-05</td>\n",
              "      <td>2022-08-12</td>\n",
              "      <td>2021-01-05</td>\n",
              "      <td>-34.577390</td>\n",
              "      <td>-58.475421</td>\n",
              "      <td>Capital Federal</td>\n",
              "      <td>Villa Urquiza</td>\n",
              "      <td>Villa Urquiza</td>\n",
              "      <td>Venta</td>\n",
              "      <td>...</td>\n",
              "      <td>5.0</td>\n",
              "      <td>6.0</td>\n",
              "      <td>125.0</td>\n",
              "      <td>100.0</td>\n",
              "      <td>265000.0</td>\n",
              "      <td>USD</td>\n",
              "      <td>Alvarez Thomas 2400 Exc PH SIN EXPENSAS-  5 am...</td>\n",
              "      <td>1.510104</td>\n",
              "      <td>NaN</td>\n",
              "      <td>3.657724</td>\n",
              "    </tr>\n",
              "    <tr>\n",
              "      <th>458873</th>\n",
              "      <td>JklH0r8XBsFn3380WryLIw==</td>\n",
              "      <td>2021-01-05</td>\n",
              "      <td>NaT</td>\n",
              "      <td>2021-01-05</td>\n",
              "      <td>-34.625353</td>\n",
              "      <td>-58.372014</td>\n",
              "      <td>Capital Federal</td>\n",
              "      <td>San Telmo</td>\n",
              "      <td>San Telmo</td>\n",
              "      <td>Venta</td>\n",
              "      <td>...</td>\n",
              "      <td>12.0</td>\n",
              "      <td>12.0</td>\n",
              "      <td>820.0</td>\n",
              "      <td>820.0</td>\n",
              "      <td>550000.0</td>\n",
              "      <td>USD</td>\n",
              "      <td>Casa de  820 m2 en San Telmo</td>\n",
              "      <td>6.385977</td>\n",
              "      <td>NaN</td>\n",
              "      <td>9.027152</td>\n",
              "    </tr>\n",
              "    <tr>\n",
              "      <th>459922</th>\n",
              "      <td>tO370Sb5BxaIjD5RxajSog==</td>\n",
              "      <td>2021-01-05</td>\n",
              "      <td>2021-08-02</td>\n",
              "      <td>2021-01-05</td>\n",
              "      <td>-34.590893</td>\n",
              "      <td>-58.408146</td>\n",
              "      <td>Capital Federal</td>\n",
              "      <td>Barrio Norte</td>\n",
              "      <td>Barrio Norte</td>\n",
              "      <td>Venta</td>\n",
              "      <td>...</td>\n",
              "      <td>10.0</td>\n",
              "      <td>9.0</td>\n",
              "      <td>145.0</td>\n",
              "      <td>145.0</td>\n",
              "      <td>300000.0</td>\n",
              "      <td>USD</td>\n",
              "      <td>Enorme 10 amb de 145m2 - ideal inversión</td>\n",
              "      <td>4.992871</td>\n",
              "      <td>NaN</td>\n",
              "      <td>6.342438</td>\n",
              "    </tr>\n",
              "  </tbody>\n",
              "</table>\n",
              "<p>540 rows × 21 columns</p>\n",
              "</div>\n",
              "      <button class=\"colab-df-convert\" onclick=\"convertToInteractive('df-72397165-aeeb-4cfd-b3dd-5b4cd18cd7ef')\"\n",
              "              title=\"Convert this dataframe to an interactive table.\"\n",
              "              style=\"display:none;\">\n",
              "        \n",
              "  <svg xmlns=\"http://www.w3.org/2000/svg\" height=\"24px\"viewBox=\"0 0 24 24\"\n",
              "       width=\"24px\">\n",
              "    <path d=\"M0 0h24v24H0V0z\" fill=\"none\"/>\n",
              "    <path d=\"M18.56 5.44l.94 2.06.94-2.06 2.06-.94-2.06-.94-.94-2.06-.94 2.06-2.06.94zm-11 1L8.5 8.5l.94-2.06 2.06-.94-2.06-.94L8.5 2.5l-.94 2.06-2.06.94zm10 10l.94 2.06.94-2.06 2.06-.94-2.06-.94-.94-2.06-.94 2.06-2.06.94z\"/><path d=\"M17.41 7.96l-1.37-1.37c-.4-.4-.92-.59-1.43-.59-.52 0-1.04.2-1.43.59L10.3 9.45l-7.72 7.72c-.78.78-.78 2.05 0 2.83L4 21.41c.39.39.9.59 1.41.59.51 0 1.02-.2 1.41-.59l7.78-7.78 2.81-2.81c.8-.78.8-2.07 0-2.86zM5.41 20L4 18.59l7.72-7.72 1.47 1.35L5.41 20z\"/>\n",
              "  </svg>\n",
              "      </button>\n",
              "      \n",
              "  <style>\n",
              "    .colab-df-container {\n",
              "      display:flex;\n",
              "      flex-wrap:wrap;\n",
              "      gap: 12px;\n",
              "    }\n",
              "\n",
              "    .colab-df-convert {\n",
              "      background-color: #E8F0FE;\n",
              "      border: none;\n",
              "      border-radius: 50%;\n",
              "      cursor: pointer;\n",
              "      display: none;\n",
              "      fill: #1967D2;\n",
              "      height: 32px;\n",
              "      padding: 0 0 0 0;\n",
              "      width: 32px;\n",
              "    }\n",
              "\n",
              "    .colab-df-convert:hover {\n",
              "      background-color: #E2EBFA;\n",
              "      box-shadow: 0px 1px 2px rgba(60, 64, 67, 0.3), 0px 1px 3px 1px rgba(60, 64, 67, 0.15);\n",
              "      fill: #174EA6;\n",
              "    }\n",
              "\n",
              "    [theme=dark] .colab-df-convert {\n",
              "      background-color: #3B4455;\n",
              "      fill: #D2E3FC;\n",
              "    }\n",
              "\n",
              "    [theme=dark] .colab-df-convert:hover {\n",
              "      background-color: #434B5C;\n",
              "      box-shadow: 0px 1px 3px 1px rgba(0, 0, 0, 0.15);\n",
              "      filter: drop-shadow(0px 1px 2px rgba(0, 0, 0, 0.3));\n",
              "      fill: #FFFFFF;\n",
              "    }\n",
              "  </style>\n",
              "\n",
              "      <script>\n",
              "        const buttonEl =\n",
              "          document.querySelector('#df-72397165-aeeb-4cfd-b3dd-5b4cd18cd7ef button.colab-df-convert');\n",
              "        buttonEl.style.display =\n",
              "          google.colab.kernel.accessAllowed ? 'block' : 'none';\n",
              "\n",
              "        async function convertToInteractive(key) {\n",
              "          const element = document.querySelector('#df-72397165-aeeb-4cfd-b3dd-5b4cd18cd7ef');\n",
              "          const dataTable =\n",
              "            await google.colab.kernel.invokeFunction('convertToInteractive',\n",
              "                                                     [key], {});\n",
              "          if (!dataTable) return;\n",
              "\n",
              "          const docLinkHtml = 'Like what you see? Visit the ' +\n",
              "            '<a target=\"_blank\" href=https://colab.research.google.com/notebooks/data_table.ipynb>data table notebook</a>'\n",
              "            + ' to learn more about interactive tables.';\n",
              "          element.innerHTML = '';\n",
              "          dataTable['output_type'] = 'display_data';\n",
              "          await google.colab.output.renderOutput(dataTable, element);\n",
              "          const docLink = document.createElement('div');\n",
              "          docLink.innerHTML = docLinkHtml;\n",
              "          element.appendChild(docLink);\n",
              "        }\n",
              "      </script>\n",
              "    </div>\n",
              "  </div>\n",
              "  "
            ]
          },
          "metadata": {},
          "execution_count": 39
        }
      ]
    },
    {
      "cell_type": "code",
      "source": [
        "df[df['z_bedrooms']<-3]"
      ],
      "metadata": {
        "colab": {
          "base_uri": "https://localhost:8080/",
          "height": 142
        },
        "id": "St5VezN38seV",
        "outputId": "7736e2b5-a0d8-44f7-c173-2fb64130503b"
      },
      "execution_count": null,
      "outputs": [
        {
          "output_type": "execute_result",
          "data": {
            "text/plain": [
              "Empty DataFrame\n",
              "Columns: [id, start_date, end_date, created_on, latitud, longitud, place_l2, place_l3, place_l4, operation, property_type, property_rooms, property_bedrooms, property_surface_total, property_surface_covered, property_price, property_currency, property_title, z_rooms, zm_rooms, z_bedrooms]\n",
              "Index: []\n",
              "\n",
              "[0 rows x 21 columns]"
            ],
            "text/html": [
              "\n",
              "  <div id=\"df-881084b8-fc69-4a6f-a44d-c74c86286915\">\n",
              "    <div class=\"colab-df-container\">\n",
              "      <div>\n",
              "<style scoped>\n",
              "    .dataframe tbody tr th:only-of-type {\n",
              "        vertical-align: middle;\n",
              "    }\n",
              "\n",
              "    .dataframe tbody tr th {\n",
              "        vertical-align: top;\n",
              "    }\n",
              "\n",
              "    .dataframe thead th {\n",
              "        text-align: right;\n",
              "    }\n",
              "</style>\n",
              "<table border=\"1\" class=\"dataframe\">\n",
              "  <thead>\n",
              "    <tr style=\"text-align: right;\">\n",
              "      <th></th>\n",
              "      <th>id</th>\n",
              "      <th>start_date</th>\n",
              "      <th>end_date</th>\n",
              "      <th>created_on</th>\n",
              "      <th>latitud</th>\n",
              "      <th>longitud</th>\n",
              "      <th>place_l2</th>\n",
              "      <th>place_l3</th>\n",
              "      <th>place_l4</th>\n",
              "      <th>operation</th>\n",
              "      <th>...</th>\n",
              "      <th>property_rooms</th>\n",
              "      <th>property_bedrooms</th>\n",
              "      <th>property_surface_total</th>\n",
              "      <th>property_surface_covered</th>\n",
              "      <th>property_price</th>\n",
              "      <th>property_currency</th>\n",
              "      <th>property_title</th>\n",
              "      <th>z_rooms</th>\n",
              "      <th>zm_rooms</th>\n",
              "      <th>z_bedrooms</th>\n",
              "    </tr>\n",
              "  </thead>\n",
              "  <tbody>\n",
              "  </tbody>\n",
              "</table>\n",
              "<p>0 rows × 21 columns</p>\n",
              "</div>\n",
              "      <button class=\"colab-df-convert\" onclick=\"convertToInteractive('df-881084b8-fc69-4a6f-a44d-c74c86286915')\"\n",
              "              title=\"Convert this dataframe to an interactive table.\"\n",
              "              style=\"display:none;\">\n",
              "        \n",
              "  <svg xmlns=\"http://www.w3.org/2000/svg\" height=\"24px\"viewBox=\"0 0 24 24\"\n",
              "       width=\"24px\">\n",
              "    <path d=\"M0 0h24v24H0V0z\" fill=\"none\"/>\n",
              "    <path d=\"M18.56 5.44l.94 2.06.94-2.06 2.06-.94-2.06-.94-.94-2.06-.94 2.06-2.06.94zm-11 1L8.5 8.5l.94-2.06 2.06-.94-2.06-.94L8.5 2.5l-.94 2.06-2.06.94zm10 10l.94 2.06.94-2.06 2.06-.94-2.06-.94-.94-2.06-.94 2.06-2.06.94z\"/><path d=\"M17.41 7.96l-1.37-1.37c-.4-.4-.92-.59-1.43-.59-.52 0-1.04.2-1.43.59L10.3 9.45l-7.72 7.72c-.78.78-.78 2.05 0 2.83L4 21.41c.39.39.9.59 1.41.59.51 0 1.02-.2 1.41-.59l7.78-7.78 2.81-2.81c.8-.78.8-2.07 0-2.86zM5.41 20L4 18.59l7.72-7.72 1.47 1.35L5.41 20z\"/>\n",
              "  </svg>\n",
              "      </button>\n",
              "      \n",
              "  <style>\n",
              "    .colab-df-container {\n",
              "      display:flex;\n",
              "      flex-wrap:wrap;\n",
              "      gap: 12px;\n",
              "    }\n",
              "\n",
              "    .colab-df-convert {\n",
              "      background-color: #E8F0FE;\n",
              "      border: none;\n",
              "      border-radius: 50%;\n",
              "      cursor: pointer;\n",
              "      display: none;\n",
              "      fill: #1967D2;\n",
              "      height: 32px;\n",
              "      padding: 0 0 0 0;\n",
              "      width: 32px;\n",
              "    }\n",
              "\n",
              "    .colab-df-convert:hover {\n",
              "      background-color: #E2EBFA;\n",
              "      box-shadow: 0px 1px 2px rgba(60, 64, 67, 0.3), 0px 1px 3px 1px rgba(60, 64, 67, 0.15);\n",
              "      fill: #174EA6;\n",
              "    }\n",
              "\n",
              "    [theme=dark] .colab-df-convert {\n",
              "      background-color: #3B4455;\n",
              "      fill: #D2E3FC;\n",
              "    }\n",
              "\n",
              "    [theme=dark] .colab-df-convert:hover {\n",
              "      background-color: #434B5C;\n",
              "      box-shadow: 0px 1px 3px 1px rgba(0, 0, 0, 0.15);\n",
              "      filter: drop-shadow(0px 1px 2px rgba(0, 0, 0, 0.3));\n",
              "      fill: #FFFFFF;\n",
              "    }\n",
              "  </style>\n",
              "\n",
              "      <script>\n",
              "        const buttonEl =\n",
              "          document.querySelector('#df-881084b8-fc69-4a6f-a44d-c74c86286915 button.colab-df-convert');\n",
              "        buttonEl.style.display =\n",
              "          google.colab.kernel.accessAllowed ? 'block' : 'none';\n",
              "\n",
              "        async function convertToInteractive(key) {\n",
              "          const element = document.querySelector('#df-881084b8-fc69-4a6f-a44d-c74c86286915');\n",
              "          const dataTable =\n",
              "            await google.colab.kernel.invokeFunction('convertToInteractive',\n",
              "                                                     [key], {});\n",
              "          if (!dataTable) return;\n",
              "\n",
              "          const docLinkHtml = 'Like what you see? Visit the ' +\n",
              "            '<a target=\"_blank\" href=https://colab.research.google.com/notebooks/data_table.ipynb>data table notebook</a>'\n",
              "            + ' to learn more about interactive tables.';\n",
              "          element.innerHTML = '';\n",
              "          dataTable['output_type'] = 'display_data';\n",
              "          await google.colab.output.renderOutput(dataTable, element);\n",
              "          const docLink = document.createElement('div');\n",
              "          docLink.innerHTML = docLinkHtml;\n",
              "          element.appendChild(docLink);\n",
              "        }\n",
              "      </script>\n",
              "    </div>\n",
              "  </div>\n",
              "  "
            ]
          },
          "metadata": {},
          "execution_count": 40
        }
      ]
    },
    {
      "cell_type": "code",
      "source": [
        "plt.hist(df.z_bedrooms)\n",
        "plt.title('Histograma Z-Score Bedrooms')\n",
        "plt.xlabel('Z-Score Bedrooms')\n",
        "plt.show()"
      ],
      "metadata": {
        "colab": {
          "base_uri": "https://localhost:8080/",
          "height": 294
        },
        "id": "HrrppWOx7ej6",
        "outputId": "b59f9fc4-0dc9-48f7-8b67-b8d9720ddd22"
      },
      "execution_count": null,
      "outputs": [
        {
          "output_type": "display_data",
          "data": {
            "text/plain": [
              "<Figure size 432x288 with 1 Axes>"
            ],
            "image/png": "[encoded data removed]"
          },
          "metadata": {
            "needs_background": "light"
          }
        }
      ]
    },
    {
      "cell_type": "markdown",
      "source": [
        "###### Z-Score Modificado"
      ],
      "metadata": {
        "id": "OGNiTnK8P2iR"
      }
    },
    {
      "cell_type": "code",
      "source": [
        "mediana_bedroom=np.median(df.property_bedrooms)\n",
        "MAD=np.median(np.absolute(df.property_bedrooms-mediana_bedroom))\n",
        "\n",
        "df['zm_bedrooms']=(df.property_bedrooms - mediana_bedroom)*0.6745/MAD"
      ],
      "metadata": {
        "id": "a2za_c0IP6MI"
      },
      "execution_count": null,
      "outputs": []
    },
    {
      "cell_type": "code",
      "source": [
        "df[(df['zm_bedrooms']>3.5)]"
      ],
      "metadata": {
        "colab": {
          "base_uri": "https://localhost:8080/",
          "height": 142
        },
        "id": "lt2l3VpE804I",
        "outputId": "283bb275-08e0-47cd-a0a8-86fde6975730"
      },
      "execution_count": null,
      "outputs": [
        {
          "output_type": "execute_result",
          "data": {
            "text/plain": [
              "Empty DataFrame\n",
              "Columns: [id, start_date, end_date, created_on, latitud, longitud, place_l2, place_l3, place_l4, operation, property_type, property_rooms, property_bedrooms, property_surface_total, property_surface_covered, property_price, property_currency, property_title, z_rooms, zm_rooms, z_bedrooms, zm_bedrooms]\n",
              "Index: []\n",
              "\n",
              "[0 rows x 22 columns]"
            ],
            "text/html": [
              "\n",
              "  <div id=\"df-a03b922e-2c56-4359-a1a2-c14dd17707ef\">\n",
              "    <div class=\"colab-df-container\">\n",
              "      <div>\n",
              "<style scoped>\n",
              "    .dataframe tbody tr th:only-of-type {\n",
              "        vertical-align: middle;\n",
              "    }\n",
              "\n",
              "    .dataframe tbody tr th {\n",
              "        vertical-align: top;\n",
              "    }\n",
              "\n",
              "    .dataframe thead th {\n",
              "        text-align: right;\n",
              "    }\n",
              "</style>\n",
              "<table border=\"1\" class=\"dataframe\">\n",
              "  <thead>\n",
              "    <tr style=\"text-align: right;\">\n",
              "      <th></th>\n",
              "      <th>id</th>\n",
              "      <th>start_date</th>\n",
              "      <th>end_date</th>\n",
              "      <th>created_on</th>\n",
              "      <th>latitud</th>\n",
              "      <th>longitud</th>\n",
              "      <th>place_l2</th>\n",
              "      <th>place_l3</th>\n",
              "      <th>place_l4</th>\n",
              "      <th>operation</th>\n",
              "      <th>...</th>\n",
              "      <th>property_bedrooms</th>\n",
              "      <th>property_surface_total</th>\n",
              "      <th>property_surface_covered</th>\n",
              "      <th>property_price</th>\n",
              "      <th>property_currency</th>\n",
              "      <th>property_title</th>\n",
              "      <th>z_rooms</th>\n",
              "      <th>zm_rooms</th>\n",
              "      <th>z_bedrooms</th>\n",
              "      <th>zm_bedrooms</th>\n",
              "    </tr>\n",
              "  </thead>\n",
              "  <tbody>\n",
              "  </tbody>\n",
              "</table>\n",
              "<p>0 rows × 22 columns</p>\n",
              "</div>\n",
              "      <button class=\"colab-df-convert\" onclick=\"convertToInteractive('df-a03b922e-2c56-4359-a1a2-c14dd17707ef')\"\n",
              "              title=\"Convert this dataframe to an interactive table.\"\n",
              "              style=\"display:none;\">\n",
              "        \n",
              "  <svg xmlns=\"http://www.w3.org/2000/svg\" height=\"24px\"viewBox=\"0 0 24 24\"\n",
              "       width=\"24px\">\n",
              "    <path d=\"M0 0h24v24H0V0z\" fill=\"none\"/>\n",
              "    <path d=\"M18.56 5.44l.94 2.06.94-2.06 2.06-.94-2.06-.94-.94-2.06-.94 2.06-2.06.94zm-11 1L8.5 8.5l.94-2.06 2.06-.94-2.06-.94L8.5 2.5l-.94 2.06-2.06.94zm10 10l.94 2.06.94-2.06 2.06-.94-2.06-.94-.94-2.06-.94 2.06-2.06.94z\"/><path d=\"M17.41 7.96l-1.37-1.37c-.4-.4-.92-.59-1.43-.59-.52 0-1.04.2-1.43.59L10.3 9.45l-7.72 7.72c-.78.78-.78 2.05 0 2.83L4 21.41c.39.39.9.59 1.41.59.51 0 1.02-.2 1.41-.59l7.78-7.78 2.81-2.81c.8-.78.8-2.07 0-2.86zM5.41 20L4 18.59l7.72-7.72 1.47 1.35L5.41 20z\"/>\n",
              "  </svg>\n",
              "      </button>\n",
              "      \n",
              "  <style>\n",
              "    .colab-df-container {\n",
              "      display:flex;\n",
              "      flex-wrap:wrap;\n",
              "      gap: 12px;\n",
              "    }\n",
              "\n",
              "    .colab-df-convert {\n",
              "      background-color: #E8F0FE;\n",
              "      border: none;\n",
              "      border-radius: 50%;\n",
              "      cursor: pointer;\n",
              "      display: none;\n",
              "      fill: #1967D2;\n",
              "      height: 32px;\n",
              "      padding: 0 0 0 0;\n",
              "      width: 32px;\n",
              "    }\n",
              "\n",
              "    .colab-df-convert:hover {\n",
              "      background-color: #E2EBFA;\n",
              "      box-shadow: 0px 1px 2px rgba(60, 64, 67, 0.3), 0px 1px 3px 1px rgba(60, 64, 67, 0.15);\n",
              "      fill: #174EA6;\n",
              "    }\n",
              "\n",
              "    [theme=dark] .colab-df-convert {\n",
              "      background-color: #3B4455;\n",
              "      fill: #D2E3FC;\n",
              "    }\n",
              "\n",
              "    [theme=dark] .colab-df-convert:hover {\n",
              "      background-color: #434B5C;\n",
              "      box-shadow: 0px 1px 3px 1px rgba(0, 0, 0, 0.15);\n",
              "      filter: drop-shadow(0px 1px 2px rgba(0, 0, 0, 0.3));\n",
              "      fill: #FFFFFF;\n",
              "    }\n",
              "  </style>\n",
              "\n",
              "      <script>\n",
              "        const buttonEl =\n",
              "          document.querySelector('#df-a03b922e-2c56-4359-a1a2-c14dd17707ef button.colab-df-convert');\n",
              "        buttonEl.style.display =\n",
              "          google.colab.kernel.accessAllowed ? 'block' : 'none';\n",
              "\n",
              "        async function convertToInteractive(key) {\n",
              "          const element = document.querySelector('#df-a03b922e-2c56-4359-a1a2-c14dd17707ef');\n",
              "          const dataTable =\n",
              "            await google.colab.kernel.invokeFunction('convertToInteractive',\n",
              "                                                     [key], {});\n",
              "          if (!dataTable) return;\n",
              "\n",
              "          const docLinkHtml = 'Like what you see? Visit the ' +\n",
              "            '<a target=\"_blank\" href=https://colab.research.google.com/notebooks/data_table.ipynb>data table notebook</a>'\n",
              "            + ' to learn more about interactive tables.';\n",
              "          element.innerHTML = '';\n",
              "          dataTable['output_type'] = 'display_data';\n",
              "          await google.colab.output.renderOutput(dataTable, element);\n",
              "          const docLink = document.createElement('div');\n",
              "          docLink.innerHTML = docLinkHtml;\n",
              "          element.appendChild(docLink);\n",
              "        }\n",
              "      </script>\n",
              "    </div>\n",
              "  </div>\n",
              "  "
            ]
          },
          "metadata": {},
          "execution_count": 43
        }
      ]
    },
    {
      "cell_type": "code",
      "source": [
        "df[(df['zm_bedrooms']<-3.5)]"
      ],
      "metadata": {
        "colab": {
          "base_uri": "https://localhost:8080/",
          "height": 142
        },
        "id": "uqyJlc_O87w5",
        "outputId": "8701aa69-19ad-43d2-f2e8-5010d8c2edce"
      },
      "execution_count": null,
      "outputs": [
        {
          "output_type": "execute_result",
          "data": {
            "text/plain": [
              "Empty DataFrame\n",
              "Columns: [id, start_date, end_date, created_on, latitud, longitud, place_l2, place_l3, place_l4, operation, property_type, property_rooms, property_bedrooms, property_surface_total, property_surface_covered, property_price, property_currency, property_title, z_rooms, zm_rooms, z_bedrooms, zm_bedrooms]\n",
              "Index: []\n",
              "\n",
              "[0 rows x 22 columns]"
            ],
            "text/html": [
              "\n",
              "  <div id=\"df-b9333571-3caf-4653-a990-2bb8405b4b62\">\n",
              "    <div class=\"colab-df-container\">\n",
              "      <div>\n",
              "<style scoped>\n",
              "    .dataframe tbody tr th:only-of-type {\n",
              "        vertical-align: middle;\n",
              "    }\n",
              "\n",
              "    .dataframe tbody tr th {\n",
              "        vertical-align: top;\n",
              "    }\n",
              "\n",
              "    .dataframe thead th {\n",
              "        text-align: right;\n",
              "    }\n",
              "</style>\n",
              "<table border=\"1\" class=\"dataframe\">\n",
              "  <thead>\n",
              "    <tr style=\"text-align: right;\">\n",
              "      <th></th>\n",
              "      <th>id</th>\n",
              "      <th>start_date</th>\n",
              "      <th>end_date</th>\n",
              "      <th>created_on</th>\n",
              "      <th>latitud</th>\n",
              "      <th>longitud</th>\n",
              "      <th>place_l2</th>\n",
              "      <th>place_l3</th>\n",
              "      <th>place_l4</th>\n",
              "      <th>operation</th>\n",
              "      <th>...</th>\n",
              "      <th>property_bedrooms</th>\n",
              "      <th>property_surface_total</th>\n",
              "      <th>property_surface_covered</th>\n",
              "      <th>property_price</th>\n",
              "      <th>property_currency</th>\n",
              "      <th>property_title</th>\n",
              "      <th>z_rooms</th>\n",
              "      <th>zm_rooms</th>\n",
              "      <th>z_bedrooms</th>\n",
              "      <th>zm_bedrooms</th>\n",
              "    </tr>\n",
              "  </thead>\n",
              "  <tbody>\n",
              "  </tbody>\n",
              "</table>\n",
              "<p>0 rows × 22 columns</p>\n",
              "</div>\n",
              "      <button class=\"colab-df-convert\" onclick=\"convertToInteractive('df-b9333571-3caf-4653-a990-2bb8405b4b62')\"\n",
              "              title=\"Convert this dataframe to an interactive table.\"\n",
              "              style=\"display:none;\">\n",
              "        \n",
              "  <svg xmlns=\"http://www.w3.org/2000/svg\" height=\"24px\"viewBox=\"0 0 24 24\"\n",
              "       width=\"24px\">\n",
              "    <path d=\"M0 0h24v24H0V0z\" fill=\"none\"/>\n",
              "    <path d=\"M18.56 5.44l.94 2.06.94-2.06 2.06-.94-2.06-.94-.94-2.06-.94 2.06-2.06.94zm-11 1L8.5 8.5l.94-2.06 2.06-.94-2.06-.94L8.5 2.5l-.94 2.06-2.06.94zm10 10l.94 2.06.94-2.06 2.06-.94-2.06-.94-.94-2.06-.94 2.06-2.06.94z\"/><path d=\"M17.41 7.96l-1.37-1.37c-.4-.4-.92-.59-1.43-.59-.52 0-1.04.2-1.43.59L10.3 9.45l-7.72 7.72c-.78.78-.78 2.05 0 2.83L4 21.41c.39.39.9.59 1.41.59.51 0 1.02-.2 1.41-.59l7.78-7.78 2.81-2.81c.8-.78.8-2.07 0-2.86zM5.41 20L4 18.59l7.72-7.72 1.47 1.35L5.41 20z\"/>\n",
              "  </svg>\n",
              "      </button>\n",
              "      \n",
              "  <style>\n",
              "    .colab-df-container {\n",
              "      display:flex;\n",
              "      flex-wrap:wrap;\n",
              "      gap: 12px;\n",
              "    }\n",
              "\n",
              "    .colab-df-convert {\n",
              "      background-color: #E8F0FE;\n",
              "      border: none;\n",
              "      border-radius: 50%;\n",
              "      cursor: pointer;\n",
              "      display: none;\n",
              "      fill: #1967D2;\n",
              "      height: 32px;\n",
              "      padding: 0 0 0 0;\n",
              "      width: 32px;\n",
              "    }\n",
              "\n",
              "    .colab-df-convert:hover {\n",
              "      background-color: #E2EBFA;\n",
              "      box-shadow: 0px 1px 2px rgba(60, 64, 67, 0.3), 0px 1px 3px 1px rgba(60, 64, 67, 0.15);\n",
              "      fill: #174EA6;\n",
              "    }\n",
              "\n",
              "    [theme=dark] .colab-df-convert {\n",
              "      background-color: #3B4455;\n",
              "      fill: #D2E3FC;\n",
              "    }\n",
              "\n",
              "    [theme=dark] .colab-df-convert:hover {\n",
              "      background-color: #434B5C;\n",
              "      box-shadow: 0px 1px 3px 1px rgba(0, 0, 0, 0.15);\n",
              "      filter: drop-shadow(0px 1px 2px rgba(0, 0, 0, 0.3));\n",
              "      fill: #FFFFFF;\n",
              "    }\n",
              "  </style>\n",
              "\n",
              "      <script>\n",
              "        const buttonEl =\n",
              "          document.querySelector('#df-b9333571-3caf-4653-a990-2bb8405b4b62 button.colab-df-convert');\n",
              "        buttonEl.style.display =\n",
              "          google.colab.kernel.accessAllowed ? 'block' : 'none';\n",
              "\n",
              "        async function convertToInteractive(key) {\n",
              "          const element = document.querySelector('#df-b9333571-3caf-4653-a990-2bb8405b4b62');\n",
              "          const dataTable =\n",
              "            await google.colab.kernel.invokeFunction('convertToInteractive',\n",
              "                                                     [key], {});\n",
              "          if (!dataTable) return;\n",
              "\n",
              "          const docLinkHtml = 'Like what you see? Visit the ' +\n",
              "            '<a target=\"_blank\" href=https://colab.research.google.com/notebooks/data_table.ipynb>data table notebook</a>'\n",
              "            + ' to learn more about interactive tables.';\n",
              "          element.innerHTML = '';\n",
              "          dataTable['output_type'] = 'display_data';\n",
              "          await google.colab.output.renderOutput(dataTable, element);\n",
              "          const docLink = document.createElement('div');\n",
              "          docLink.innerHTML = docLinkHtml;\n",
              "          element.appendChild(docLink);\n",
              "        }\n",
              "      </script>\n",
              "    </div>\n",
              "  </div>\n",
              "  "
            ]
          },
          "metadata": {},
          "execution_count": 44
        }
      ]
    },
    {
      "cell_type": "markdown",
      "source": [
        "##### Property price"
      ],
      "metadata": {
        "id": "LWbZVekrIBrI"
      }
    },
    {
      "cell_type": "markdown",
      "source": [
        "###### Box plot"
      ],
      "metadata": {
        "id": "861zSh3bSWNP"
      }
    },
    {
      "cell_type": "code",
      "source": [
        "sns.boxplot(y=df.property_price)\n",
        "plt.show()"
      ],
      "metadata": {
        "colab": {
          "base_uri": "https://localhost:8080/",
          "height": 262
        },
        "id": "9exMnx2nIHUt",
        "outputId": "0e5c4c55-b447-4e5d-a64a-6c88c1d27227"
      },
      "execution_count": null,
      "outputs": [
        {
          "output_type": "display_data",
          "data": {
            "text/plain": [
              "<Figure size 432x288 with 1 Axes>"
            ],
            "image/png": "[encoded data removed]"
          },
          "metadata": {
            "needs_background": "light"
          }
        }
      ]
    },
    {
      "cell_type": "code",
      "source": [
        "# Cuartiles\n",
        "Q1_property_price=df.describe().get(\"property_price\").get(\"25%\")\n",
        "Q3_property_price=df.describe().get(\"property_price\").get(\"75%\")\n",
        "\n",
        "print(\"El valor de Q1 es:\", Q1_property_price)\n",
        "print(\"El valor de Q3 es:\", Q3_property_price)\n",
        "\n",
        "# Rango intercuartil\n",
        "IQR_property_price=Q3_property_price-Q1_property_price\n",
        "\n",
        "# Limites Outliers\n",
        "out_inf=Q1_property_price-1.5*IQR_property_price\n",
        "out_sup=Q3_property_price+1.5*IQR_property_price\n",
        "print(\"El limite inferior del Q1 es:\", out_inf)\n",
        "print(\"El limite superior del Q3 es:\", out_sup)"
      ],
      "metadata": {
        "colab": {
          "base_uri": "https://localhost:8080/"
        },
        "id": "1dp7LTBD91k1",
        "outputId": "429e294f-25ea-4b2f-e286-ccbd6cb75a03"
      },
      "execution_count": null,
      "outputs": [
        {
          "output_type": "stream",
          "name": "stdout",
          "text": [
            "El valor de Q1 es: 95000.0\n",
            "El valor de Q3 es: 237000.0\n",
            "El limite inferior del Q1 es: -118000.0\n",
            "El limite superior del Q3 es: 450000.0\n"
          ]
        }
      ]
    },
    {
      "cell_type": "markdown",
      "source": [
        "Confirmamos que tratamos con un outlier"
      ],
      "metadata": {
        "id": "vI9Lv1Dh-LaF"
      }
    },
    {
      "cell_type": "code",
      "source": [
        "outlier=df[df['property_price']>2]\n",
        "outlier"
      ],
      "metadata": {
        "colab": {
          "base_uri": "https://localhost:8080/",
          "height": 886
        },
        "id": "-uovCEiz-NLZ",
        "outputId": "27470dd1-a034-4b4a-a4b8-17cf397aa1f3"
      },
      "execution_count": null,
      "outputs": [
        {
          "output_type": "execute_result",
          "data": {
            "text/plain": [
              "                              id start_date   end_date created_on    latitud  \\\n",
              "25      CyZu6IaZgmQYGk8jmPajCg== 2021-09-09 2021-09-26 2021-09-09        NaN   \n",
              "42      d3Z0MblSb2IMBoOBMGJEEQ== 2021-09-09 2021-09-26 2021-09-09 -34.637319   \n",
              "43      rL7qPkQnomsMGu2ViS3sBw== 2021-09-09 2021-09-28 2021-09-09 -34.628647   \n",
              "49      vuX/ccLAMVml4qWRFcOJUA== 2021-09-09 2022-01-05 2021-09-09 -34.610027   \n",
              "51      ZTtSCeqZ3HUgf5jjwEzRcw== 2021-09-09 2022-03-09 2021-09-09 -34.631621   \n",
              "...                          ...        ...        ...        ...        ...   \n",
              "460072  v4f5Un9jO7hsD02MWLkKBQ== 2021-01-05 2022-09-02 2021-01-05 -34.603245   \n",
              "460073  Aq/Z+XyS8FHbOOxed4xtTw== 2021-01-05 2021-02-17 2021-01-05 -34.614063   \n",
              "460074  Rmamz8v4Wkh5xF7PA59Jqw== 2021-01-05 2021-01-27 2021-01-05 -34.614175   \n",
              "460075  7yl8Dfx5wobH21YdMU+Kgg== 2021-01-05 2021-01-27 2021-01-05 -34.614175   \n",
              "460090  9OVDfhoDvkY4rr/SX0ggVw== 2021-01-05 2021-01-08 2021-01-05 -34.599790   \n",
              "\n",
              "         longitud         place_l2              place_l3  \\\n",
              "25            NaN  Capital Federal       Capital Federal   \n",
              "42     -58.361124  Capital Federal                  Boca   \n",
              "43     -58.361871  Capital Federal                  Boca   \n",
              "49     -58.401934  Capital Federal                  Once   \n",
              "51     -58.416825  Capital Federal                 Boedo   \n",
              "...           ...              ...                   ...   \n",
              "460072 -58.489810  Capital Federal      Villa del Parque   \n",
              "460073 -58.482814  Capital Federal      Villa del Parque   \n",
              "460074 -58.479062  Capital Federal      Villa del Parque   \n",
              "460075 -58.479062  Capital Federal      Villa del Parque   \n",
              "460090 -58.373411  Capital Federal  Centro / Microcentro   \n",
              "\n",
              "                    place_l4 operation  ... property_bedrooms  \\\n",
              "25           Capital Federal     Venta  ...               3.0   \n",
              "42                      Boca     Venta  ...               2.0   \n",
              "43                      Boca     Venta  ...               3.0   \n",
              "49                      Once     Venta  ...               2.0   \n",
              "51                     Boedo     Venta  ...               2.0   \n",
              "...                      ...       ...  ...               ...   \n",
              "460072      Villa del Parque     Venta  ...               3.0   \n",
              "460073      Villa del Parque     Venta  ...               2.0   \n",
              "460074      Villa del Parque     Venta  ...               1.0   \n",
              "460075      Villa del Parque     Venta  ...               1.0   \n",
              "460090  Centro / Microcentro     Venta  ...               1.0   \n",
              "\n",
              "        property_surface_total  property_surface_covered  property_price  \\\n",
              "25                       171.0                     133.0        210000.0   \n",
              "42                        58.0                      55.0         82900.0   \n",
              "43                        70.0                      70.0         99000.0   \n",
              "49                       104.0                     104.0        146000.0   \n",
              "51                        73.0                      73.0        250000.0   \n",
              "...                        ...                       ...             ...   \n",
              "460072                   130.0                     100.0        220000.0   \n",
              "460073                    68.0                      60.0        161000.0   \n",
              "460074                    51.0                      30.0         75500.0   \n",
              "460075                    37.0                      31.0         74500.0   \n",
              "460090                    84.0                      84.0        135000.0   \n",
              "\n",
              "        property_currency                                     property_title  \\\n",
              "25                    USD        VENTA CASA LLAVE EN MANO - COSTA ESMERALDA    \n",
              "42                    USD             VENTA TRES AMBIENTES LA BOCA PISO ALTO   \n",
              "43                    USD         Departamento - 4 Ambientes - Catalinas Sur   \n",
              "49                    USD                Venta departamento 4 ambientes Once   \n",
              "51                    USD                                         PH - Boedo   \n",
              "...                   ...                                                ...   \n",
              "460072                USD      Espectacular 4 amb130m2 con Balcon Terraza!!!   \n",
              "460073                USD        3 ambientes con cochera listo para habitar!   \n",
              "460074                USD  VENTA MONOAMBIENTE CON PATIO SOL DE MAÑANA ///...   \n",
              "460075                USD  VENTA MONOAMBIENTE APAISADO y DIVISIBLE AL CF ...   \n",
              "460090                USD               VENTA DEPTO 2 1/2 AMBIENTES - CENTRO   \n",
              "\n",
              "         z_rooms zm_rooms  z_bedrooms  zm_bedrooms  \n",
              "25      0.813550      NaN    0.973010          NaN  \n",
              "42      0.116997      NaN    0.078105          NaN  \n",
              "43      0.813550      NaN    0.973010          NaN  \n",
              "49      0.813550      NaN    0.078105          NaN  \n",
              "51      0.813550      NaN    0.078105          NaN  \n",
              "...          ...      ...         ...          ...  \n",
              "460072  0.813550      NaN    0.973010          NaN  \n",
              "460073  0.116997      NaN    0.078105          NaN  \n",
              "460074 -1.276110      NaN   -0.816800          NaN  \n",
              "460075 -1.276110      NaN   -0.816800          NaN  \n",
              "460090 -0.579557      NaN   -0.816800          NaN  \n",
              "\n",
              "[94249 rows x 22 columns]"
            ],
            "text/html": [
              "\n",
              "  <div id=\"df-89d8fccf-a480-41ef-bb7a-f5501e55719a\">\n",
              "    <div class=\"colab-df-container\">\n",
              "      <div>\n",
              "<style scoped>\n",
              "    .dataframe tbody tr th:only-of-type {\n",
              "        vertical-align: middle;\n",
              "    }\n",
              "\n",
              "    .dataframe tbody tr th {\n",
              "        vertical-align: top;\n",
              "    }\n",
              "\n",
              "    .dataframe thead th {\n",
              "        text-align: right;\n",
              "    }\n",
              "</style>\n",
              "<table border=\"1\" class=\"dataframe\">\n",
              "  <thead>\n",
              "    <tr style=\"text-align: right;\">\n",
              "      <th></th>\n",
              "      <th>id</th>\n",
              "      <th>start_date</th>\n",
              "      <th>end_date</th>\n",
              "      <th>created_on</th>\n",
              "      <th>latitud</th>\n",
              "      <th>longitud</th>\n",
              "      <th>place_l2</th>\n",
              "      <th>place_l3</th>\n",
              "      <th>place_l4</th>\n",
              "      <th>operation</th>\n",
              "      <th>...</th>\n",
              "      <th>property_bedrooms</th>\n",
              "      <th>property_surface_total</th>\n",
              "      <th>property_surface_covered</th>\n",
              "      <th>property_price</th>\n",
              "      <th>property_currency</th>\n",
              "      <th>property_title</th>\n",
              "      <th>z_rooms</th>\n",
              "      <th>zm_rooms</th>\n",
              "      <th>z_bedrooms</th>\n",
              "      <th>zm_bedrooms</th>\n",
              "    </tr>\n",
              "  </thead>\n",
              "  <tbody>\n",
              "    <tr>\n",
              "      <th>25</th>\n",
              "      <td>CyZu6IaZgmQYGk8jmPajCg==</td>\n",
              "      <td>2021-09-09</td>\n",
              "      <td>2021-09-26</td>\n",
              "      <td>2021-09-09</td>\n",
              "      <td>NaN</td>\n",
              "      <td>NaN</td>\n",
              "      <td>Capital Federal</td>\n",
              "      <td>Capital Federal</td>\n",
              "      <td>Capital Federal</td>\n",
              "      <td>Venta</td>\n",
              "      <td>...</td>\n",
              "      <td>3.0</td>\n",
              "      <td>171.0</td>\n",
              "      <td>133.0</td>\n",
              "      <td>210000.0</td>\n",
              "      <td>USD</td>\n",
              "      <td>VENTA CASA LLAVE EN MANO - COSTA ESMERALDA</td>\n",
              "      <td>0.813550</td>\n",
              "      <td>NaN</td>\n",
              "      <td>0.973010</td>\n",
              "      <td>NaN</td>\n",
              "    </tr>\n",
              "    <tr>\n",
              "      <th>42</th>\n",
              "      <td>d3Z0MblSb2IMBoOBMGJEEQ==</td>\n",
              "      <td>2021-09-09</td>\n",
              "      <td>2021-09-26</td>\n",
              "      <td>2021-09-09</td>\n",
              "      <td>-34.637319</td>\n",
              "      <td>-58.361124</td>\n",
              "      <td>Capital Federal</td>\n",
              "      <td>Boca</td>\n",
              "      <td>Boca</td>\n",
              "      <td>Venta</td>\n",
              "      <td>...</td>\n",
              "      <td>2.0</td>\n",
              "      <td>58.0</td>\n",
              "      <td>55.0</td>\n",
              "      <td>82900.0</td>\n",
              "      <td>USD</td>\n",
              "      <td>VENTA TRES AMBIENTES LA BOCA PISO ALTO</td>\n",
              "      <td>0.116997</td>\n",
              "      <td>NaN</td>\n",
              "      <td>0.078105</td>\n",
              "      <td>NaN</td>\n",
              "    </tr>\n",
              "    <tr>\n",
              "      <th>43</th>\n",
              "      <td>rL7qPkQnomsMGu2ViS3sBw==</td>\n",
              "      <td>2021-09-09</td>\n",
              "      <td>2021-09-28</td>\n",
              "      <td>2021-09-09</td>\n",
              "      <td>-34.628647</td>\n",
              "      <td>-58.361871</td>\n",
              "      <td>Capital Federal</td>\n",
              "      <td>Boca</td>\n",
              "      <td>Boca</td>\n",
              "      <td>Venta</td>\n",
              "      <td>...</td>\n",
              "      <td>3.0</td>\n",
              "      <td>70.0</td>\n",
              "      <td>70.0</td>\n",
              "      <td>99000.0</td>\n",
              "      <td>USD</td>\n",
              "      <td>Departamento - 4 Ambientes - Catalinas Sur</td>\n",
              "      <td>0.813550</td>\n",
              "      <td>NaN</td>\n",
              "      <td>0.973010</td>\n",
              "      <td>NaN</td>\n",
              "    </tr>\n",
              "    <tr>\n",
              "      <th>49</th>\n",
              "      <td>vuX/ccLAMVml4qWRFcOJUA==</td>\n",
              "      <td>2021-09-09</td>\n",
              "      <td>2022-01-05</td>\n",
              "      <td>2021-09-09</td>\n",
              "      <td>-34.610027</td>\n",
              "      <td>-58.401934</td>\n",
              "      <td>Capital Federal</td>\n",
              "      <td>Once</td>\n",
              "      <td>Once</td>\n",
              "      <td>Venta</td>\n",
              "      <td>...</td>\n",
              "      <td>2.0</td>\n",
              "      <td>104.0</td>\n",
              "      <td>104.0</td>\n",
              "      <td>146000.0</td>\n",
              "      <td>USD</td>\n",
              "      <td>Venta departamento 4 ambientes Once</td>\n",
              "      <td>0.813550</td>\n",
              "      <td>NaN</td>\n",
              "      <td>0.078105</td>\n",
              "      <td>NaN</td>\n",
              "    </tr>\n",
              "    <tr>\n",
              "      <th>51</th>\n",
              "      <td>ZTtSCeqZ3HUgf5jjwEzRcw==</td>\n",
              "      <td>2021-09-09</td>\n",
              "      <td>2022-03-09</td>\n",
              "      <td>2021-09-09</td>\n",
              "      <td>-34.631621</td>\n",
              "      <td>-58.416825</td>\n",
              "      <td>Capital Federal</td>\n",
              "      <td>Boedo</td>\n",
              "      <td>Boedo</td>\n",
              "      <td>Venta</td>\n",
              "      <td>...</td>\n",
              "      <td>2.0</td>\n",
              "      <td>73.0</td>\n",
              "      <td>73.0</td>\n",
              "      <td>250000.0</td>\n",
              "      <td>USD</td>\n",
              "      <td>PH - Boedo</td>\n",
              "      <td>0.813550</td>\n",
              "      <td>NaN</td>\n",
              "      <td>0.078105</td>\n",
              "      <td>NaN</td>\n",
              "    </tr>\n",
              "    <tr>\n",
              "      <th>...</th>\n",
              "      <td>...</td>\n",
              "      <td>...</td>\n",
              "      <td>...</td>\n",
              "      <td>...</td>\n",
              "      <td>...</td>\n",
              "      <td>...</td>\n",
              "      <td>...</td>\n",
              "      <td>...</td>\n",
              "      <td>...</td>\n",
              "      <td>...</td>\n",
              "      <td>...</td>\n",
              "      <td>...</td>\n",
              "      <td>...</td>\n",
              "      <td>...</td>\n",
              "      <td>...</td>\n",
              "      <td>...</td>\n",
              "      <td>...</td>\n",
              "      <td>...</td>\n",
              "      <td>...</td>\n",
              "      <td>...</td>\n",
              "      <td>...</td>\n",
              "    </tr>\n",
              "    <tr>\n",
              "      <th>460072</th>\n",
              "      <td>v4f5Un9jO7hsD02MWLkKBQ==</td>\n",
              "      <td>2021-01-05</td>\n",
              "      <td>2022-09-02</td>\n",
              "      <td>2021-01-05</td>\n",
              "      <td>-34.603245</td>\n",
              "      <td>-58.489810</td>\n",
              "      <td>Capital Federal</td>\n",
              "      <td>Villa del Parque</td>\n",
              "      <td>Villa del Parque</td>\n",
              "      <td>Venta</td>\n",
              "      <td>...</td>\n",
              "      <td>3.0</td>\n",
              "      <td>130.0</td>\n",
              "      <td>100.0</td>\n",
              "      <td>220000.0</td>\n",
              "      <td>USD</td>\n",
              "      <td>Espectacular 4 amb130m2 con Balcon Terraza!!!</td>\n",
              "      <td>0.813550</td>\n",
              "      <td>NaN</td>\n",
              "      <td>0.973010</td>\n",
              "      <td>NaN</td>\n",
              "    </tr>\n",
              "    <tr>\n",
              "      <th>460073</th>\n",
              "      <td>Aq/Z+XyS8FHbOOxed4xtTw==</td>\n",
              "      <td>2021-01-05</td>\n",
              "      <td>2021-02-17</td>\n",
              "      <td>2021-01-05</td>\n",
              "      <td>-34.614063</td>\n",
              "      <td>-58.482814</td>\n",
              "      <td>Capital Federal</td>\n",
              "      <td>Villa del Parque</td>\n",
              "      <td>Villa del Parque</td>\n",
              "      <td>Venta</td>\n",
              "      <td>...</td>\n",
              "      <td>2.0</td>\n",
              "      <td>68.0</td>\n",
              "      <td>60.0</td>\n",
              "      <td>161000.0</td>\n",
              "      <td>USD</td>\n",
              "      <td>3 ambientes con cochera listo para habitar!</td>\n",
              "      <td>0.116997</td>\n",
              "      <td>NaN</td>\n",
              "      <td>0.078105</td>\n",
              "      <td>NaN</td>\n",
              "    </tr>\n",
              "    <tr>\n",
              "      <th>460074</th>\n",
              "      <td>Rmamz8v4Wkh5xF7PA59Jqw==</td>\n",
              "      <td>2021-01-05</td>\n",
              "      <td>2021-01-27</td>\n",
              "      <td>2021-01-05</td>\n",
              "      <td>-34.614175</td>\n",
              "      <td>-58.479062</td>\n",
              "      <td>Capital Federal</td>\n",
              "      <td>Villa del Parque</td>\n",
              "      <td>Villa del Parque</td>\n",
              "      <td>Venta</td>\n",
              "      <td>...</td>\n",
              "      <td>1.0</td>\n",
              "      <td>51.0</td>\n",
              "      <td>30.0</td>\n",
              "      <td>75500.0</td>\n",
              "      <td>USD</td>\n",
              "      <td>VENTA MONOAMBIENTE CON PATIO SOL DE MAÑANA ///...</td>\n",
              "      <td>-1.276110</td>\n",
              "      <td>NaN</td>\n",
              "      <td>-0.816800</td>\n",
              "      <td>NaN</td>\n",
              "    </tr>\n",
              "    <tr>\n",
              "      <th>460075</th>\n",
              "      <td>7yl8Dfx5wobH21YdMU+Kgg==</td>\n",
              "      <td>2021-01-05</td>\n",
              "      <td>2021-01-27</td>\n",
              "      <td>2021-01-05</td>\n",
              "      <td>-34.614175</td>\n",
              "      <td>-58.479062</td>\n",
              "      <td>Capital Federal</td>\n",
              "      <td>Villa del Parque</td>\n",
              "      <td>Villa del Parque</td>\n",
              "      <td>Venta</td>\n",
              "      <td>...</td>\n",
              "      <td>1.0</td>\n",
              "      <td>37.0</td>\n",
              "      <td>31.0</td>\n",
              "      <td>74500.0</td>\n",
              "      <td>USD</td>\n",
              "      <td>VENTA MONOAMBIENTE APAISADO y DIVISIBLE AL CF ...</td>\n",
              "      <td>-1.276110</td>\n",
              "      <td>NaN</td>\n",
              "      <td>-0.816800</td>\n",
              "      <td>NaN</td>\n",
              "    </tr>\n",
              "    <tr>\n",
              "      <th>460090</th>\n",
              "      <td>9OVDfhoDvkY4rr/SX0ggVw==</td>\n",
              "      <td>2021-01-05</td>\n",
              "      <td>2021-01-08</td>\n",
              "      <td>2021-01-05</td>\n",
              "      <td>-34.599790</td>\n",
              "      <td>-58.373411</td>\n",
              "      <td>Capital Federal</td>\n",
              "      <td>Centro / Microcentro</td>\n",
              "      <td>Centro / Microcentro</td>\n",
              "      <td>Venta</td>\n",
              "      <td>...</td>\n",
              "      <td>1.0</td>\n",
              "      <td>84.0</td>\n",
              "      <td>84.0</td>\n",
              "      <td>135000.0</td>\n",
              "      <td>USD</td>\n",
              "      <td>VENTA DEPTO 2 1/2 AMBIENTES - CENTRO</td>\n",
              "      <td>-0.579557</td>\n",
              "      <td>NaN</td>\n",
              "      <td>-0.816800</td>\n",
              "      <td>NaN</td>\n",
              "    </tr>\n",
              "  </tbody>\n",
              "</table>\n",
              "<p>94249 rows × 22 columns</p>\n",
              "</div>\n",
              "      <button class=\"colab-df-convert\" onclick=\"convertToInteractive('df-89d8fccf-a480-41ef-bb7a-f5501e55719a')\"\n",
              "              title=\"Convert this dataframe to an interactive table.\"\n",
              "              style=\"display:none;\">\n",
              "        \n",
              "  <svg xmlns=\"http://www.w3.org/2000/svg\" height=\"24px\"viewBox=\"0 0 24 24\"\n",
              "       width=\"24px\">\n",
              "    <path d=\"M0 0h24v24H0V0z\" fill=\"none\"/>\n",
              "    <path d=\"M18.56 5.44l.94 2.06.94-2.06 2.06-.94-2.06-.94-.94-2.06-.94 2.06-2.06.94zm-11 1L8.5 8.5l.94-2.06 2.06-.94-2.06-.94L8.5 2.5l-.94 2.06-2.06.94zm10 10l.94 2.06.94-2.06 2.06-.94-2.06-.94-.94-2.06-.94 2.06-2.06.94z\"/><path d=\"M17.41 7.96l-1.37-1.37c-.4-.4-.92-.59-1.43-.59-.52 0-1.04.2-1.43.59L10.3 9.45l-7.72 7.72c-.78.78-.78 2.05 0 2.83L4 21.41c.39.39.9.59 1.41.59.51 0 1.02-.2 1.41-.59l7.78-7.78 2.81-2.81c.8-.78.8-2.07 0-2.86zM5.41 20L4 18.59l7.72-7.72 1.47 1.35L5.41 20z\"/>\n",
              "  </svg>\n",
              "      </button>\n",
              "      \n",
              "  <style>\n",
              "    .colab-df-container {\n",
              "      display:flex;\n",
              "      flex-wrap:wrap;\n",
              "      gap: 12px;\n",
              "    }\n",
              "\n",
              "    .colab-df-convert {\n",
              "      background-color: #E8F0FE;\n",
              "      border: none;\n",
              "      border-radius: 50%;\n",
              "      cursor: pointer;\n",
              "      display: none;\n",
              "      fill: #1967D2;\n",
              "      height: 32px;\n",
              "      padding: 0 0 0 0;\n",
              "      width: 32px;\n",
              "    }\n",
              "\n",
              "    .colab-df-convert:hover {\n",
              "      background-color: #E2EBFA;\n",
              "      box-shadow: 0px 1px 2px rgba(60, 64, 67, 0.3), 0px 1px 3px 1px rgba(60, 64, 67, 0.15);\n",
              "      fill: #174EA6;\n",
              "    }\n",
              "\n",
              "    [theme=dark] .colab-df-convert {\n",
              "      background-color: #3B4455;\n",
              "      fill: #D2E3FC;\n",
              "    }\n",
              "\n",
              "    [theme=dark] .colab-df-convert:hover {\n",
              "      background-color: #434B5C;\n",
              "      box-shadow: 0px 1px 3px 1px rgba(0, 0, 0, 0.15);\n",
              "      filter: drop-shadow(0px 1px 2px rgba(0, 0, 0, 0.3));\n",
              "      fill: #FFFFFF;\n",
              "    }\n",
              "  </style>\n",
              "\n",
              "      <script>\n",
              "        const buttonEl =\n",
              "          document.querySelector('#df-89d8fccf-a480-41ef-bb7a-f5501e55719a button.colab-df-convert');\n",
              "        buttonEl.style.display =\n",
              "          google.colab.kernel.accessAllowed ? 'block' : 'none';\n",
              "\n",
              "        async function convertToInteractive(key) {\n",
              "          const element = document.querySelector('#df-89d8fccf-a480-41ef-bb7a-f5501e55719a');\n",
              "          const dataTable =\n",
              "            await google.colab.kernel.invokeFunction('convertToInteractive',\n",
              "                                                     [key], {});\n",
              "          if (!dataTable) return;\n",
              "\n",
              "          const docLinkHtml = 'Like what you see? Visit the ' +\n",
              "            '<a target=\"_blank\" href=https://colab.research.google.com/notebooks/data_table.ipynb>data table notebook</a>'\n",
              "            + ' to learn more about interactive tables.';\n",
              "          element.innerHTML = '';\n",
              "          dataTable['output_type'] = 'display_data';\n",
              "          await google.colab.output.renderOutput(dataTable, element);\n",
              "          const docLink = document.createElement('div');\n",
              "          docLink.innerHTML = docLinkHtml;\n",
              "          element.appendChild(docLink);\n",
              "        }\n",
              "      </script>\n",
              "    </div>\n",
              "  </div>\n",
              "  "
            ]
          },
          "metadata": {},
          "execution_count": 47
        }
      ]
    },
    {
      "cell_type": "markdown",
      "source": [
        "###### Z-Score"
      ],
      "metadata": {
        "id": "Vx4GfNW3SkJ9"
      }
    },
    {
      "cell_type": "code",
      "source": [
        "media_price=np.mean(df.property_price)\n",
        "std_price=np.std(df.property_price)\n",
        "df['z_price']=(df.property_price - media_price)/std_price"
      ],
      "metadata": {
        "id": "ib35t1TYSzXq"
      },
      "execution_count": null,
      "outputs": []
    },
    {
      "cell_type": "code",
      "source": [
        "df[df['z_price']>3]"
      ],
      "metadata": {
        "colab": {
          "base_uri": "https://localhost:8080/",
          "height": 817
        },
        "id": "uXVSdz1HTW4F",
        "outputId": "29f494c8-89e5-4ba9-beb3-24a0b7d0294a"
      },
      "execution_count": null,
      "outputs": [
        {
          "output_type": "execute_result",
          "data": {
            "text/plain": [
              "                              id start_date   end_date created_on    latitud  \\\n",
              "410     S8iZ1eflTJtt4bejzBVktw== 2021-09-09 2021-09-10 2021-09-09 -34.576741   \n",
              "411     FblpEe26U1lQkU5vRzAtmg== 2021-09-09 2021-09-09 2021-09-09 -34.576741   \n",
              "438     taPk4LSPMT26ftJm7/Bh6Q== 2021-09-09 2022-03-06 2021-09-09 -34.575053   \n",
              "448     0Ui0Bm9reiNrJFdUfgXwiA== 2021-09-09 2022-01-27 2021-09-09 -34.577855   \n",
              "629     1Q/fC60k0cGKYTu6hUqf1g== 2021-09-09 2021-09-11 2021-09-09 -34.566536   \n",
              "...                          ...        ...        ...        ...        ...   \n",
              "459724  ZHK1Il6hnxI3iMhjvmD5+g== 2021-01-05 2021-10-16 2021-01-05 -34.587991   \n",
              "459729  gMY0XZIwhoegKoroHdxyrw== 2021-01-05 2022-09-15 2021-01-05 -34.587588   \n",
              "459755  oFcI5JAbOEsVvsk6PhM6fg== 2021-01-05 2022-06-12 2021-01-05 -34.590653   \n",
              "459764  oX3aPs/sStr80cOS+VyxVw== 2021-01-05        NaT 2021-01-05 -34.586441   \n",
              "459997  q3Im3Bm7Mi9ufVUH5rjWxw== 2021-01-05 2021-06-05 2021-01-05 -34.618084   \n",
              "\n",
              "         longitud         place_l2       place_l3       place_l4 operation  \\\n",
              "410    -58.404830  Capital Federal        Palermo  Palermo Chico     Venta   \n",
              "411    -58.404830  Capital Federal        Palermo  Palermo Chico     Venta   \n",
              "438    -58.407958  Capital Federal        Palermo  Palermo Chico     Venta   \n",
              "448    -58.408796  Capital Federal        Palermo  Palermo Chico     Venta   \n",
              "629    -58.448246  Capital Federal       Belgrano       Belgrano     Venta   \n",
              "...           ...              ...            ...            ...       ...   \n",
              "459724 -58.389017  Capital Federal       Recoleta       Recoleta     Venta   \n",
              "459729 -58.389527  Capital Federal       Recoleta       Recoleta     Venta   \n",
              "459755 -58.384325  Capital Federal       Recoleta       Recoleta     Venta   \n",
              "459764 -58.387889  Capital Federal       Recoleta       Recoleta     Venta   \n",
              "459997 -58.359912  Capital Federal  Puerto Madero  Puerto Madero     Venta   \n",
              "\n",
              "        ... property_surface_total  property_surface_covered  property_price  \\\n",
              "410     ...                  400.0                     400.0       2700000.0   \n",
              "411     ...                  400.0                     400.0       2700000.0   \n",
              "438     ...                  282.0                     256.0       2250000.0   \n",
              "448     ...                  304.0                     294.0       1200000.0   \n",
              "629     ...                  214.0                     196.0       1200000.0   \n",
              "...     ...                    ...                       ...             ...   \n",
              "459724  ...                  285.0                     272.0       1250000.0   \n",
              "459729  ...                  271.0                     265.0       1250000.0   \n",
              "459755  ...                  431.0                     415.0       2800000.0   \n",
              "459764  ...                  383.0                     383.0       1700000.0   \n",
              "459997  ...                  315.0                     180.0       2200000.0   \n",
              "\n",
              "        property_currency                                     property_title  \\\n",
              "410                   USD                       Departamento - Palermo Chico   \n",
              "411                   USD                       Departamento - Palermo Chico   \n",
              "438                   USD  Torre Vignoli 282 metros . 3 suites . 2 cocheras    \n",
              "448                   USD  Departamento de 5 ambientes con dependencia  -...   \n",
              "629                   USD                            Departamento - Belgrano   \n",
              "...                   ...                                                ...   \n",
              "459724                USD  Departamento de excelente categoria en venta e...   \n",
              "459729                USD                            Departamento - Recoleta   \n",
              "459755                USD  Departamento de excelente calidad con 5 dormit...   \n",
              "459764                USD  Departamento frances con 2 cocheras en venta e...   \n",
              "459997                USD  Venta Departamento Pent House  4 Ambientes Pil...   \n",
              "\n",
              "         z_rooms zm_rooms z_bedrooms  zm_bedrooms   z_price  \n",
              "410     1.510104      NaN   1.867914          NaN  7.764431  \n",
              "411     1.510104      NaN   1.867914          NaN  7.764431  \n",
              "438     0.813550      NaN   0.973010          NaN  6.352010  \n",
              "448     1.510104      NaN   1.867914          NaN  3.056360  \n",
              "629     0.813550      NaN   0.973010          NaN  3.056360  \n",
              "...          ...      ...        ...          ...       ...  \n",
              "459724  3.599764      NaN   0.973010          NaN  3.213296  \n",
              "459729  2.206657      NaN   0.973010          NaN  3.213296  \n",
              "459755  3.599764      NaN   2.762819          NaN  8.078303  \n",
              "459764  3.599764      NaN   1.867914          NaN  4.625717  \n",
              "459997  0.813550      NaN   0.078105          NaN  6.195074  \n",
              "\n",
              "[1710 rows x 23 columns]"
            ],
            "text/html": [
              "\n",
              "  <div id=\"df-c7a45719-b56a-41d0-9cdd-5990d8037adf\">\n",
              "    <div class=\"colab-df-container\">\n",
              "      <div>\n",
              "<style scoped>\n",
              "    .dataframe tbody tr th:only-of-type {\n",
              "        vertical-align: middle;\n",
              "    }\n",
              "\n",
              "    .dataframe tbody tr th {\n",
              "        vertical-align: top;\n",
              "    }\n",
              "\n",
              "    .dataframe thead th {\n",
              "        text-align: right;\n",
              "    }\n",
              "</style>\n",
              "<table border=\"1\" class=\"dataframe\">\n",
              "  <thead>\n",
              "    <tr style=\"text-align: right;\">\n",
              "      <th></th>\n",
              "      <th>id</th>\n",
              "      <th>start_date</th>\n",
              "      <th>end_date</th>\n",
              "      <th>created_on</th>\n",
              "      <th>latitud</th>\n",
              "      <th>longitud</th>\n",
              "      <th>place_l2</th>\n",
              "      <th>place_l3</th>\n",
              "      <th>place_l4</th>\n",
              "      <th>operation</th>\n",
              "      <th>...</th>\n",
              "      <th>property_surface_total</th>\n",
              "      <th>property_surface_covered</th>\n",
              "      <th>property_price</th>\n",
              "      <th>property_currency</th>\n",
              "      <th>property_title</th>\n",
              "      <th>z_rooms</th>\n",
              "      <th>zm_rooms</th>\n",
              "      <th>z_bedrooms</th>\n",
              "      <th>zm_bedrooms</th>\n",
              "      <th>z_price</th>\n",
              "    </tr>\n",
              "  </thead>\n",
              "  <tbody>\n",
              "    <tr>\n",
              "      <th>410</th>\n",
              "      <td>S8iZ1eflTJtt4bejzBVktw==</td>\n",
              "      <td>2021-09-09</td>\n",
              "      <td>2021-09-10</td>\n",
              "      <td>2021-09-09</td>\n",
              "      <td>-34.576741</td>\n",
              "      <td>-58.404830</td>\n",
              "      <td>Capital Federal</td>\n",
              "      <td>Palermo</td>\n",
              "      <td>Palermo Chico</td>\n",
              "      <td>Venta</td>\n",
              "      <td>...</td>\n",
              "      <td>400.0</td>\n",
              "      <td>400.0</td>\n",
              "      <td>2700000.0</td>\n",
              "      <td>USD</td>\n",
              "      <td>Departamento - Palermo Chico</td>\n",
              "      <td>1.510104</td>\n",
              "      <td>NaN</td>\n",
              "      <td>1.867914</td>\n",
              "      <td>NaN</td>\n",
              "      <td>7.764431</td>\n",
              "    </tr>\n",
              "    <tr>\n",
              "      <th>411</th>\n",
              "      <td>FblpEe26U1lQkU5vRzAtmg==</td>\n",
              "      <td>2021-09-09</td>\n",
              "      <td>2021-09-09</td>\n",
              "      <td>2021-09-09</td>\n",
              "      <td>-34.576741</td>\n",
              "      <td>-58.404830</td>\n",
              "      <td>Capital Federal</td>\n",
              "      <td>Palermo</td>\n",
              "      <td>Palermo Chico</td>\n",
              "      <td>Venta</td>\n",
              "      <td>...</td>\n",
              "      <td>400.0</td>\n",
              "      <td>400.0</td>\n",
              "      <td>2700000.0</td>\n",
              "      <td>USD</td>\n",
              "      <td>Departamento - Palermo Chico</td>\n",
              "      <td>1.510104</td>\n",
              "      <td>NaN</td>\n",
              "      <td>1.867914</td>\n",
              "      <td>NaN</td>\n",
              "      <td>7.764431</td>\n",
              "    </tr>\n",
              "    <tr>\n",
              "      <th>438</th>\n",
              "      <td>taPk4LSPMT26ftJm7/Bh6Q==</td>\n",
              "      <td>2021-09-09</td>\n",
              "      <td>2022-03-06</td>\n",
              "      <td>2021-09-09</td>\n",
              "      <td>-34.575053</td>\n",
              "      <td>-58.407958</td>\n",
              "      <td>Capital Federal</td>\n",
              "      <td>Palermo</td>\n",
              "      <td>Palermo Chico</td>\n",
              "      <td>Venta</td>\n",
              "      <td>...</td>\n",
              "      <td>282.0</td>\n",
              "      <td>256.0</td>\n",
              "      <td>2250000.0</td>\n",
              "      <td>USD</td>\n",
              "      <td>Torre Vignoli 282 metros . 3 suites . 2 cocheras</td>\n",
              "      <td>0.813550</td>\n",
              "      <td>NaN</td>\n",
              "      <td>0.973010</td>\n",
              "      <td>NaN</td>\n",
              "      <td>6.352010</td>\n",
              "    </tr>\n",
              "    <tr>\n",
              "      <th>448</th>\n",
              "      <td>0Ui0Bm9reiNrJFdUfgXwiA==</td>\n",
              "      <td>2021-09-09</td>\n",
              "      <td>2022-01-27</td>\n",
              "      <td>2021-09-09</td>\n",
              "      <td>-34.577855</td>\n",
              "      <td>-58.408796</td>\n",
              "      <td>Capital Federal</td>\n",
              "      <td>Palermo</td>\n",
              "      <td>Palermo Chico</td>\n",
              "      <td>Venta</td>\n",
              "      <td>...</td>\n",
              "      <td>304.0</td>\n",
              "      <td>294.0</td>\n",
              "      <td>1200000.0</td>\n",
              "      <td>USD</td>\n",
              "      <td>Departamento de 5 ambientes con dependencia  -...</td>\n",
              "      <td>1.510104</td>\n",
              "      <td>NaN</td>\n",
              "      <td>1.867914</td>\n",
              "      <td>NaN</td>\n",
              "      <td>3.056360</td>\n",
              "    </tr>\n",
              "    <tr>\n",
              "      <th>629</th>\n",
              "      <td>1Q/fC60k0cGKYTu6hUqf1g==</td>\n",
              "      <td>2021-09-09</td>\n",
              "      <td>2021-09-11</td>\n",
              "      <td>2021-09-09</td>\n",
              "      <td>-34.566536</td>\n",
              "      <td>-58.448246</td>\n",
              "      <td>Capital Federal</td>\n",
              "      <td>Belgrano</td>\n",
              "      <td>Belgrano</td>\n",
              "      <td>Venta</td>\n",
              "      <td>...</td>\n",
              "      <td>214.0</td>\n",
              "      <td>196.0</td>\n",
              "      <td>1200000.0</td>\n",
              "      <td>USD</td>\n",
              "      <td>Departamento - Belgrano</td>\n",
              "      <td>0.813550</td>\n",
              "      <td>NaN</td>\n",
              "      <td>0.973010</td>\n",
              "      <td>NaN</td>\n",
              "      <td>3.056360</td>\n",
              "    </tr>\n",
              "    <tr>\n",
              "      <th>...</th>\n",
              "      <td>...</td>\n",
              "      <td>...</td>\n",
              "      <td>...</td>\n",
              "      <td>...</td>\n",
              "      <td>...</td>\n",
              "      <td>...</td>\n",
              "      <td>...</td>\n",
              "      <td>...</td>\n",
              "      <td>...</td>\n",
              "      <td>...</td>\n",
              "      <td>...</td>\n",
              "      <td>...</td>\n",
              "      <td>...</td>\n",
              "      <td>...</td>\n",
              "      <td>...</td>\n",
              "      <td>...</td>\n",
              "      <td>...</td>\n",
              "      <td>...</td>\n",
              "      <td>...</td>\n",
              "      <td>...</td>\n",
              "      <td>...</td>\n",
              "    </tr>\n",
              "    <tr>\n",
              "      <th>459724</th>\n",
              "      <td>ZHK1Il6hnxI3iMhjvmD5+g==</td>\n",
              "      <td>2021-01-05</td>\n",
              "      <td>2021-10-16</td>\n",
              "      <td>2021-01-05</td>\n",
              "      <td>-34.587991</td>\n",
              "      <td>-58.389017</td>\n",
              "      <td>Capital Federal</td>\n",
              "      <td>Recoleta</td>\n",
              "      <td>Recoleta</td>\n",
              "      <td>Venta</td>\n",
              "      <td>...</td>\n",
              "      <td>285.0</td>\n",
              "      <td>272.0</td>\n",
              "      <td>1250000.0</td>\n",
              "      <td>USD</td>\n",
              "      <td>Departamento de excelente categoria en venta e...</td>\n",
              "      <td>3.599764</td>\n",
              "      <td>NaN</td>\n",
              "      <td>0.973010</td>\n",
              "      <td>NaN</td>\n",
              "      <td>3.213296</td>\n",
              "    </tr>\n",
              "    <tr>\n",
              "      <th>459729</th>\n",
              "      <td>gMY0XZIwhoegKoroHdxyrw==</td>\n",
              "      <td>2021-01-05</td>\n",
              "      <td>2022-09-15</td>\n",
              "      <td>2021-01-05</td>\n",
              "      <td>-34.587588</td>\n",
              "      <td>-58.389527</td>\n",
              "      <td>Capital Federal</td>\n",
              "      <td>Recoleta</td>\n",
              "      <td>Recoleta</td>\n",
              "      <td>Venta</td>\n",
              "      <td>...</td>\n",
              "      <td>271.0</td>\n",
              "      <td>265.0</td>\n",
              "      <td>1250000.0</td>\n",
              "      <td>USD</td>\n",
              "      <td>Departamento - Recoleta</td>\n",
              "      <td>2.206657</td>\n",
              "      <td>NaN</td>\n",
              "      <td>0.973010</td>\n",
              "      <td>NaN</td>\n",
              "      <td>3.213296</td>\n",
              "    </tr>\n",
              "    <tr>\n",
              "      <th>459755</th>\n",
              "      <td>oFcI5JAbOEsVvsk6PhM6fg==</td>\n",
              "      <td>2021-01-05</td>\n",
              "      <td>2022-06-12</td>\n",
              "      <td>2021-01-05</td>\n",
              "      <td>-34.590653</td>\n",
              "      <td>-58.384325</td>\n",
              "      <td>Capital Federal</td>\n",
              "      <td>Recoleta</td>\n",
              "      <td>Recoleta</td>\n",
              "      <td>Venta</td>\n",
              "      <td>...</td>\n",
              "      <td>431.0</td>\n",
              "      <td>415.0</td>\n",
              "      <td>2800000.0</td>\n",
              "      <td>USD</td>\n",
              "      <td>Departamento de excelente calidad con 5 dormit...</td>\n",
              "      <td>3.599764</td>\n",
              "      <td>NaN</td>\n",
              "      <td>2.762819</td>\n",
              "      <td>NaN</td>\n",
              "      <td>8.078303</td>\n",
              "    </tr>\n",
              "    <tr>\n",
              "      <th>459764</th>\n",
              "      <td>oX3aPs/sStr80cOS+VyxVw==</td>\n",
              "      <td>2021-01-05</td>\n",
              "      <td>NaT</td>\n",
              "      <td>2021-01-05</td>\n",
              "      <td>-34.586441</td>\n",
              "      <td>-58.387889</td>\n",
              "      <td>Capital Federal</td>\n",
              "      <td>Recoleta</td>\n",
              "      <td>Recoleta</td>\n",
              "      <td>Venta</td>\n",
              "      <td>...</td>\n",
              "      <td>383.0</td>\n",
              "      <td>383.0</td>\n",
              "      <td>1700000.0</td>\n",
              "      <td>USD</td>\n",
              "      <td>Departamento frances con 2 cocheras en venta e...</td>\n",
              "      <td>3.599764</td>\n",
              "      <td>NaN</td>\n",
              "      <td>1.867914</td>\n",
              "      <td>NaN</td>\n",
              "      <td>4.625717</td>\n",
              "    </tr>\n",
              "    <tr>\n",
              "      <th>459997</th>\n",
              "      <td>q3Im3Bm7Mi9ufVUH5rjWxw==</td>\n",
              "      <td>2021-01-05</td>\n",
              "      <td>2021-06-05</td>\n",
              "      <td>2021-01-05</td>\n",
              "      <td>-34.618084</td>\n",
              "      <td>-58.359912</td>\n",
              "      <td>Capital Federal</td>\n",
              "      <td>Puerto Madero</td>\n",
              "      <td>Puerto Madero</td>\n",
              "      <td>Venta</td>\n",
              "      <td>...</td>\n",
              "      <td>315.0</td>\n",
              "      <td>180.0</td>\n",
              "      <td>2200000.0</td>\n",
              "      <td>USD</td>\n",
              "      <td>Venta Departamento Pent House  4 Ambientes Pil...</td>\n",
              "      <td>0.813550</td>\n",
              "      <td>NaN</td>\n",
              "      <td>0.078105</td>\n",
              "      <td>NaN</td>\n",
              "      <td>6.195074</td>\n",
              "    </tr>\n",
              "  </tbody>\n",
              "</table>\n",
              "<p>1710 rows × 23 columns</p>\n",
              "</div>\n",
              "      <button class=\"colab-df-convert\" onclick=\"convertToInteractive('df-c7a45719-b56a-41d0-9cdd-5990d8037adf')\"\n",
              "              title=\"Convert this dataframe to an interactive table.\"\n",
              "              style=\"display:none;\">\n",
              "        \n",
              "  <svg xmlns=\"http://www.w3.org/2000/svg\" height=\"24px\"viewBox=\"0 0 24 24\"\n",
              "       width=\"24px\">\n",
              "    <path d=\"M0 0h24v24H0V0z\" fill=\"none\"/>\n",
              "    <path d=\"M18.56 5.44l.94 2.06.94-2.06 2.06-.94-2.06-.94-.94-2.06-.94 2.06-2.06.94zm-11 1L8.5 8.5l.94-2.06 2.06-.94-2.06-.94L8.5 2.5l-.94 2.06-2.06.94zm10 10l.94 2.06.94-2.06 2.06-.94-2.06-.94-.94-2.06-.94 2.06-2.06.94z\"/><path d=\"M17.41 7.96l-1.37-1.37c-.4-.4-.92-.59-1.43-.59-.52 0-1.04.2-1.43.59L10.3 9.45l-7.72 7.72c-.78.78-.78 2.05 0 2.83L4 21.41c.39.39.9.59 1.41.59.51 0 1.02-.2 1.41-.59l7.78-7.78 2.81-2.81c.8-.78.8-2.07 0-2.86zM5.41 20L4 18.59l7.72-7.72 1.47 1.35L5.41 20z\"/>\n",
              "  </svg>\n",
              "      </button>\n",
              "      \n",
              "  <style>\n",
              "    .colab-df-container {\n",
              "      display:flex;\n",
              "      flex-wrap:wrap;\n",
              "      gap: 12px;\n",
              "    }\n",
              "\n",
              "    .colab-df-convert {\n",
              "      background-color: #E8F0FE;\n",
              "      border: none;\n",
              "      border-radius: 50%;\n",
              "      cursor: pointer;\n",
              "      display: none;\n",
              "      fill: #1967D2;\n",
              "      height: 32px;\n",
              "      padding: 0 0 0 0;\n",
              "      width: 32px;\n",
              "    }\n",
              "\n",
              "    .colab-df-convert:hover {\n",
              "      background-color: #E2EBFA;\n",
              "      box-shadow: 0px 1px 2px rgba(60, 64, 67, 0.3), 0px 1px 3px 1px rgba(60, 64, 67, 0.15);\n",
              "      fill: #174EA6;\n",
              "    }\n",
              "\n",
              "    [theme=dark] .colab-df-convert {\n",
              "      background-color: #3B4455;\n",
              "      fill: #D2E3FC;\n",
              "    }\n",
              "\n",
              "    [theme=dark] .colab-df-convert:hover {\n",
              "      background-color: #434B5C;\n",
              "      box-shadow: 0px 1px 3px 1px rgba(0, 0, 0, 0.15);\n",
              "      filter: drop-shadow(0px 1px 2px rgba(0, 0, 0, 0.3));\n",
              "      fill: #FFFFFF;\n",
              "    }\n",
              "  </style>\n",
              "\n",
              "      <script>\n",
              "        const buttonEl =\n",
              "          document.querySelector('#df-c7a45719-b56a-41d0-9cdd-5990d8037adf button.colab-df-convert');\n",
              "        buttonEl.style.display =\n",
              "          google.colab.kernel.accessAllowed ? 'block' : 'none';\n",
              "\n",
              "        async function convertToInteractive(key) {\n",
              "          const element = document.querySelector('#df-c7a45719-b56a-41d0-9cdd-5990d8037adf');\n",
              "          const dataTable =\n",
              "            await google.colab.kernel.invokeFunction('convertToInteractive',\n",
              "                                                     [key], {});\n",
              "          if (!dataTable) return;\n",
              "\n",
              "          const docLinkHtml = 'Like what you see? Visit the ' +\n",
              "            '<a target=\"_blank\" href=https://colab.research.google.com/notebooks/data_table.ipynb>data table notebook</a>'\n",
              "            + ' to learn more about interactive tables.';\n",
              "          element.innerHTML = '';\n",
              "          dataTable['output_type'] = 'display_data';\n",
              "          await google.colab.output.renderOutput(dataTable, element);\n",
              "          const docLink = document.createElement('div');\n",
              "          docLink.innerHTML = docLinkHtml;\n",
              "          element.appendChild(docLink);\n",
              "        }\n",
              "      </script>\n",
              "    </div>\n",
              "  </div>\n",
              "  "
            ]
          },
          "metadata": {},
          "execution_count": 55
        }
      ]
    },
    {
      "cell_type": "code",
      "source": [
        "df[df['z_price']<-3]"
      ],
      "metadata": {
        "colab": {
          "base_uri": "https://localhost:8080/",
          "height": 142
        },
        "id": "i0EGvIjiTbxw",
        "outputId": "f1b8579a-b12b-42ba-fae1-9aefa6454b3f"
      },
      "execution_count": null,
      "outputs": [
        {
          "output_type": "execute_result",
          "data": {
            "text/plain": [
              "Empty DataFrame\n",
              "Columns: [id, start_date, end_date, created_on, latitud, longitud, place_l2, place_l3, place_l4, operation, property_type, property_rooms, property_bedrooms, property_surface_total, property_surface_covered, property_price, property_currency, property_title, z_rooms, zm_rooms, z_bedrooms, zm_bedrooms, z_price]\n",
              "Index: []\n",
              "\n",
              "[0 rows x 23 columns]"
            ],
            "text/html": [
              "\n",
              "  <div id=\"df-dc052c7c-5b1a-4366-8a6e-88cbf05515a6\">\n",
              "    <div class=\"colab-df-container\">\n",
              "      <div>\n",
              "<style scoped>\n",
              "    .dataframe tbody tr th:only-of-type {\n",
              "        vertical-align: middle;\n",
              "    }\n",
              "\n",
              "    .dataframe tbody tr th {\n",
              "        vertical-align: top;\n",
              "    }\n",
              "\n",
              "    .dataframe thead th {\n",
              "        text-align: right;\n",
              "    }\n",
              "</style>\n",
              "<table border=\"1\" class=\"dataframe\">\n",
              "  <thead>\n",
              "    <tr style=\"text-align: right;\">\n",
              "      <th></th>\n",
              "      <th>id</th>\n",
              "      <th>start_date</th>\n",
              "      <th>end_date</th>\n",
              "      <th>created_on</th>\n",
              "      <th>latitud</th>\n",
              "      <th>longitud</th>\n",
              "      <th>place_l2</th>\n",
              "      <th>place_l3</th>\n",
              "      <th>place_l4</th>\n",
              "      <th>operation</th>\n",
              "      <th>...</th>\n",
              "      <th>property_surface_total</th>\n",
              "      <th>property_surface_covered</th>\n",
              "      <th>property_price</th>\n",
              "      <th>property_currency</th>\n",
              "      <th>property_title</th>\n",
              "      <th>z_rooms</th>\n",
              "      <th>zm_rooms</th>\n",
              "      <th>z_bedrooms</th>\n",
              "      <th>zm_bedrooms</th>\n",
              "      <th>z_price</th>\n",
              "    </tr>\n",
              "  </thead>\n",
              "  <tbody>\n",
              "  </tbody>\n",
              "</table>\n",
              "<p>0 rows × 23 columns</p>\n",
              "</div>\n",
              "      <button class=\"colab-df-convert\" onclick=\"convertToInteractive('df-dc052c7c-5b1a-4366-8a6e-88cbf05515a6')\"\n",
              "              title=\"Convert this dataframe to an interactive table.\"\n",
              "              style=\"display:none;\">\n",
              "        \n",
              "  <svg xmlns=\"http://www.w3.org/2000/svg\" height=\"24px\"viewBox=\"0 0 24 24\"\n",
              "       width=\"24px\">\n",
              "    <path d=\"M0 0h24v24H0V0z\" fill=\"none\"/>\n",
              "    <path d=\"M18.56 5.44l.94 2.06.94-2.06 2.06-.94-2.06-.94-.94-2.06-.94 2.06-2.06.94zm-11 1L8.5 8.5l.94-2.06 2.06-.94-2.06-.94L8.5 2.5l-.94 2.06-2.06.94zm10 10l.94 2.06.94-2.06 2.06-.94-2.06-.94-.94-2.06-.94 2.06-2.06.94z\"/><path d=\"M17.41 7.96l-1.37-1.37c-.4-.4-.92-.59-1.43-.59-.52 0-1.04.2-1.43.59L10.3 9.45l-7.72 7.72c-.78.78-.78 2.05 0 2.83L4 21.41c.39.39.9.59 1.41.59.51 0 1.02-.2 1.41-.59l7.78-7.78 2.81-2.81c.8-.78.8-2.07 0-2.86zM5.41 20L4 18.59l7.72-7.72 1.47 1.35L5.41 20z\"/>\n",
              "  </svg>\n",
              "      </button>\n",
              "      \n",
              "  <style>\n",
              "    .colab-df-container {\n",
              "      display:flex;\n",
              "      flex-wrap:wrap;\n",
              "      gap: 12px;\n",
              "    }\n",
              "\n",
              "    .colab-df-convert {\n",
              "      background-color: #E8F0FE;\n",
              "      border: none;\n",
              "      border-radius: 50%;\n",
              "      cursor: pointer;\n",
              "      display: none;\n",
              "      fill: #1967D2;\n",
              "      height: 32px;\n",
              "      padding: 0 0 0 0;\n",
              "      width: 32px;\n",
              "    }\n",
              "\n",
              "    .colab-df-convert:hover {\n",
              "      background-color: #E2EBFA;\n",
              "      box-shadow: 0px 1px 2px rgba(60, 64, 67, 0.3), 0px 1px 3px 1px rgba(60, 64, 67, 0.15);\n",
              "      fill: #174EA6;\n",
              "    }\n",
              "\n",
              "    [theme=dark] .colab-df-convert {\n",
              "      background-color: #3B4455;\n",
              "      fill: #D2E3FC;\n",
              "    }\n",
              "\n",
              "    [theme=dark] .colab-df-convert:hover {\n",
              "      background-color: #434B5C;\n",
              "      box-shadow: 0px 1px 3px 1px rgba(0, 0, 0, 0.15);\n",
              "      filter: drop-shadow(0px 1px 2px rgba(0, 0, 0, 0.3));\n",
              "      fill: #FFFFFF;\n",
              "    }\n",
              "  </style>\n",
              "\n",
              "      <script>\n",
              "        const buttonEl =\n",
              "          document.querySelector('#df-dc052c7c-5b1a-4366-8a6e-88cbf05515a6 button.colab-df-convert');\n",
              "        buttonEl.style.display =\n",
              "          google.colab.kernel.accessAllowed ? 'block' : 'none';\n",
              "\n",
              "        async function convertToInteractive(key) {\n",
              "          const element = document.querySelector('#df-dc052c7c-5b1a-4366-8a6e-88cbf05515a6');\n",
              "          const dataTable =\n",
              "            await google.colab.kernel.invokeFunction('convertToInteractive',\n",
              "                                                     [key], {});\n",
              "          if (!dataTable) return;\n",
              "\n",
              "          const docLinkHtml = 'Like what you see? Visit the ' +\n",
              "            '<a target=\"_blank\" href=https://colab.research.google.com/notebooks/data_table.ipynb>data table notebook</a>'\n",
              "            + ' to learn more about interactive tables.';\n",
              "          element.innerHTML = '';\n",
              "          dataTable['output_type'] = 'display_data';\n",
              "          await google.colab.output.renderOutput(dataTable, element);\n",
              "          const docLink = document.createElement('div');\n",
              "          docLink.innerHTML = docLinkHtml;\n",
              "          element.appendChild(docLink);\n",
              "        }\n",
              "      </script>\n",
              "    </div>\n",
              "  </div>\n",
              "  "
            ]
          },
          "metadata": {},
          "execution_count": 56
        }
      ]
    },
    {
      "cell_type": "code",
      "source": [
        "plt.hist(df.z_price)\n",
        "plt.title('Histograma Z-Score Price')\n",
        "plt.xlabel('Z-Score Price')\n",
        "plt.show()"
      ],
      "metadata": {
        "colab": {
          "base_uri": "https://localhost:8080/",
          "height": 294
        },
        "id": "4iApL4TtTgTz",
        "outputId": "fba3830b-3192-4ae7-86bd-7f08f169db8d"
      },
      "execution_count": null,
      "outputs": [
        {
          "output_type": "display_data",
          "data": {
            "text/plain": [
              "<Figure size 432x288 with 1 Axes>"
            ],
            "image/png": "[encoded data removed]"
          },
          "metadata": {
            "needs_background": "light"
          }
        }
      ]
    },
    {
      "cell_type": "markdown",
      "source": [
        "###### Z-Score Modificado"
      ],
      "metadata": {
        "id": "WVFbdCGUSm6D"
      }
    },
    {
      "cell_type": "code",
      "source": [
        "mediana_price=np.median(df.property_price)\n",
        "MAD=np.median(np.absolute(df.property_price-mediana_price))\n",
        "\n",
        "df['zm_price']=(df.property_price - mediana_price)*0.6745/MAD"
      ],
      "metadata": {
        "id": "3_VNeMGmTvP9"
      },
      "execution_count": null,
      "outputs": []
    },
    {
      "cell_type": "code",
      "source": [
        "df[(df['zm_price']>3.5)]"
      ],
      "metadata": {
        "colab": {
          "base_uri": "https://localhost:8080/",
          "height": 817
        },
        "id": "F_WsRtuJT2-h",
        "outputId": "1a63830f-7346-4884-ee9e-e84299399341"
      },
      "execution_count": null,
      "outputs": [
        {
          "output_type": "execute_result",
          "data": {
            "text/plain": [
              "                              id start_date   end_date created_on    latitud  \\\n",
              "58      tgaK6Ibor1zLY5bvNxsXfw== 2021-09-09 2021-09-26 2021-09-09 -34.633730   \n",
              "410     S8iZ1eflTJtt4bejzBVktw== 2021-09-09 2021-09-10 2021-09-09 -34.576741   \n",
              "411     FblpEe26U1lQkU5vRzAtmg== 2021-09-09 2021-09-09 2021-09-09 -34.576741   \n",
              "438     taPk4LSPMT26ftJm7/Bh6Q== 2021-09-09 2022-03-06 2021-09-09 -34.575053   \n",
              "448     0Ui0Bm9reiNrJFdUfgXwiA== 2021-09-09 2022-01-27 2021-09-09 -34.577855   \n",
              "...                          ...        ...        ...        ...        ...   \n",
              "459986  Pxz0dKZgWiL7odLclgK/vA== 2021-01-05        NaT 2021-01-05 -34.613000   \n",
              "459997  q3Im3Bm7Mi9ufVUH5rjWxw== 2021-01-05 2021-06-05 2021-01-05 -34.618084   \n",
              "460002  w+3qsITCAFukJ0S15B8znQ== 2021-01-05 2021-07-07 2021-01-05 -34.618595   \n",
              "460005  U2WS7omU6g9aUPRuyLt+IA== 2021-01-05 2022-06-02 2021-01-05 -34.614730   \n",
              "460025  tmi3A6iVby0lFyguSK1CUw== 2021-01-05 2021-05-03 2021-01-05 -34.578613   \n",
              "\n",
              "         longitud         place_l2       place_l3       place_l4 operation  \\\n",
              "58     -58.424729  Capital Federal          Boedo          Boedo     Venta   \n",
              "410    -58.404830  Capital Federal        Palermo  Palermo Chico     Venta   \n",
              "411    -58.404830  Capital Federal        Palermo  Palermo Chico     Venta   \n",
              "438    -58.407958  Capital Federal        Palermo  Palermo Chico     Venta   \n",
              "448    -58.408796  Capital Federal        Palermo  Palermo Chico     Venta   \n",
              "...           ...              ...            ...            ...       ...   \n",
              "459986 -58.362117  Capital Federal  Puerto Madero  Puerto Madero     Venta   \n",
              "459997 -58.359912  Capital Federal  Puerto Madero  Puerto Madero     Venta   \n",
              "460002 -58.361978  Capital Federal  Puerto Madero  Puerto Madero     Venta   \n",
              "460005 -58.361755  Capital Federal  Puerto Madero  Puerto Madero     Venta   \n",
              "460025 -58.482961  Capital Federal  Villa Urquiza  Villa Urquiza     Venta   \n",
              "\n",
              "        ... property_surface_covered  property_price  property_currency  \\\n",
              "58      ...                    244.0        500000.0                USD   \n",
              "410     ...                    400.0       2700000.0                USD   \n",
              "411     ...                    400.0       2700000.0                USD   \n",
              "438     ...                    256.0       2250000.0                USD   \n",
              "448     ...                    294.0       1200000.0                USD   \n",
              "...     ...                      ...             ...                ...   \n",
              "459986  ...                    163.0        790000.0                USD   \n",
              "459997  ...                    180.0       2200000.0                USD   \n",
              "460002  ...                     56.0        520000.0                USD   \n",
              "460005  ...                     86.0        450000.0                USD   \n",
              "460025  ...                    120.0        470000.0                USD   \n",
              "\n",
              "                                           property_title   z_rooms  zm_rooms  \\\n",
              "58      VENTA CASA BOEDO LOCAL  DEPARTAMENTOS HABITACI...  4.992871       NaN   \n",
              "410                          Departamento - Palermo Chico  1.510104       NaN   \n",
              "411                          Departamento - Palermo Chico  1.510104       NaN   \n",
              "438     Torre Vignoli 282 metros . 3 suites . 2 cocheras   0.813550       NaN   \n",
              "448     Departamento de 5 ambientes con dependencia  -...  1.510104       NaN   \n",
              "...                                                   ...       ...       ...   \n",
              "459986             Departamento en venta en Puerto Madero  0.116997       NaN   \n",
              "459997  Venta Departamento Pent House  4 Ambientes Pil...  0.813550       NaN   \n",
              "460002  Excelente Suite en Hotel SLS Puerto Madero | 2... -0.579557       NaN   \n",
              "460005      Departamento en venta en el Porteño Building  -0.579557       NaN   \n",
              "460025                       Departamento - Villa Urquiza  0.813550       NaN   \n",
              "\n",
              "       z_bedrooms zm_bedrooms   z_price   zm_price  \n",
              "58       7.237343         NaN  0.859260   4.141197  \n",
              "410      1.867914         NaN  7.764431  29.725680  \n",
              "411      1.867914         NaN  7.764431  29.725680  \n",
              "438      0.973010         NaN  6.352010  24.492491  \n",
              "448      1.867914         NaN  3.056360  12.281715  \n",
              "...           ...         ...       ...        ...  \n",
              "459986   0.078105         NaN  1.769487   7.513697  \n",
              "459997   0.078105         NaN  6.195074  23.911025  \n",
              "460002  -0.816800         NaN  0.922034   4.373784  \n",
              "460005  -0.816800         NaN  0.702324   3.559732  \n",
              "460025   0.973010         NaN  0.765099   3.792318  \n",
              "\n",
              "[8631 rows x 24 columns]"
            ],
            "text/html": [
              "\n",
              "  <div id=\"df-72b23fc0-7158-43be-9046-752983eaa856\">\n",
              "    <div class=\"colab-df-container\">\n",
              "      <div>\n",
              "<style scoped>\n",
              "    .dataframe tbody tr th:only-of-type {\n",
              "        vertical-align: middle;\n",
              "    }\n",
              "\n",
              "    .dataframe tbody tr th {\n",
              "        vertical-align: top;\n",
              "    }\n",
              "\n",
              "    .dataframe thead th {\n",
              "        text-align: right;\n",
              "    }\n",
              "</style>\n",
              "<table border=\"1\" class=\"dataframe\">\n",
              "  <thead>\n",
              "    <tr style=\"text-align: right;\">\n",
              "      <th></th>\n",
              "      <th>id</th>\n",
              "      <th>start_date</th>\n",
              "      <th>end_date</th>\n",
              "      <th>created_on</th>\n",
              "      <th>latitud</th>\n",
              "      <th>longitud</th>\n",
              "      <th>place_l2</th>\n",
              "      <th>place_l3</th>\n",
              "      <th>place_l4</th>\n",
              "      <th>operation</th>\n",
              "      <th>...</th>\n",
              "      <th>property_surface_covered</th>\n",
              "      <th>property_price</th>\n",
              "      <th>property_currency</th>\n",
              "      <th>property_title</th>\n",
              "      <th>z_rooms</th>\n",
              "      <th>zm_rooms</th>\n",
              "      <th>z_bedrooms</th>\n",
              "      <th>zm_bedrooms</th>\n",
              "      <th>z_price</th>\n",
              "      <th>zm_price</th>\n",
              "    </tr>\n",
              "  </thead>\n",
              "  <tbody>\n",
              "    <tr>\n",
              "      <th>58</th>\n",
              "      <td>tgaK6Ibor1zLY5bvNxsXfw==</td>\n",
              "      <td>2021-09-09</td>\n",
              "      <td>2021-09-26</td>\n",
              "      <td>2021-09-09</td>\n",
              "      <td>-34.633730</td>\n",
              "      <td>-58.424729</td>\n",
              "      <td>Capital Federal</td>\n",
              "      <td>Boedo</td>\n",
              "      <td>Boedo</td>\n",
              "      <td>Venta</td>\n",
              "      <td>...</td>\n",
              "      <td>244.0</td>\n",
              "      <td>500000.0</td>\n",
              "      <td>USD</td>\n",
              "      <td>VENTA CASA BOEDO LOCAL  DEPARTAMENTOS HABITACI...</td>\n",
              "      <td>4.992871</td>\n",
              "      <td>NaN</td>\n",
              "      <td>7.237343</td>\n",
              "      <td>NaN</td>\n",
              "      <td>0.859260</td>\n",
              "      <td>4.141197</td>\n",
              "    </tr>\n",
              "    <tr>\n",
              "      <th>410</th>\n",
              "      <td>S8iZ1eflTJtt4bejzBVktw==</td>\n",
              "      <td>2021-09-09</td>\n",
              "      <td>2021-09-10</td>\n",
              "      <td>2021-09-09</td>\n",
              "      <td>-34.576741</td>\n",
              "      <td>-58.404830</td>\n",
              "      <td>Capital Federal</td>\n",
              "      <td>Palermo</td>\n",
              "      <td>Palermo Chico</td>\n",
              "      <td>Venta</td>\n",
              "      <td>...</td>\n",
              "      <td>400.0</td>\n",
              "      <td>2700000.0</td>\n",
              "      <td>USD</td>\n",
              "      <td>Departamento - Palermo Chico</td>\n",
              "      <td>1.510104</td>\n",
              "      <td>NaN</td>\n",
              "      <td>1.867914</td>\n",
              "      <td>NaN</td>\n",
              "      <td>7.764431</td>\n",
              "      <td>29.725680</td>\n",
              "    </tr>\n",
              "    <tr>\n",
              "      <th>411</th>\n",
              "      <td>FblpEe26U1lQkU5vRzAtmg==</td>\n",
              "      <td>2021-09-09</td>\n",
              "      <td>2021-09-09</td>\n",
              "      <td>2021-09-09</td>\n",
              "      <td>-34.576741</td>\n",
              "      <td>-58.404830</td>\n",
              "      <td>Capital Federal</td>\n",
              "      <td>Palermo</td>\n",
              "      <td>Palermo Chico</td>\n",
              "      <td>Venta</td>\n",
              "      <td>...</td>\n",
              "      <td>400.0</td>\n",
              "      <td>2700000.0</td>\n",
              "      <td>USD</td>\n",
              "      <td>Departamento - Palermo Chico</td>\n",
              "      <td>1.510104</td>\n",
              "      <td>NaN</td>\n",
              "      <td>1.867914</td>\n",
              "      <td>NaN</td>\n",
              "      <td>7.764431</td>\n",
              "      <td>29.725680</td>\n",
              "    </tr>\n",
              "    <tr>\n",
              "      <th>438</th>\n",
              "      <td>taPk4LSPMT26ftJm7/Bh6Q==</td>\n",
              "      <td>2021-09-09</td>\n",
              "      <td>2022-03-06</td>\n",
              "      <td>2021-09-09</td>\n",
              "      <td>-34.575053</td>\n",
              "      <td>-58.407958</td>\n",
              "      <td>Capital Federal</td>\n",
              "      <td>Palermo</td>\n",
              "      <td>Palermo Chico</td>\n",
              "      <td>Venta</td>\n",
              "      <td>...</td>\n",
              "      <td>256.0</td>\n",
              "      <td>2250000.0</td>\n",
              "      <td>USD</td>\n",
              "      <td>Torre Vignoli 282 metros . 3 suites . 2 cocheras</td>\n",
              "      <td>0.813550</td>\n",
              "      <td>NaN</td>\n",
              "      <td>0.973010</td>\n",
              "      <td>NaN</td>\n",
              "      <td>6.352010</td>\n",
              "      <td>24.492491</td>\n",
              "    </tr>\n",
              "    <tr>\n",
              "      <th>448</th>\n",
              "      <td>0Ui0Bm9reiNrJFdUfgXwiA==</td>\n",
              "      <td>2021-09-09</td>\n",
              "      <td>2022-01-27</td>\n",
              "      <td>2021-09-09</td>\n",
              "      <td>-34.577855</td>\n",
              "      <td>-58.408796</td>\n",
              "      <td>Capital Federal</td>\n",
              "      <td>Palermo</td>\n",
              "      <td>Palermo Chico</td>\n",
              "      <td>Venta</td>\n",
              "      <td>...</td>\n",
              "      <td>294.0</td>\n",
              "      <td>1200000.0</td>\n",
              "      <td>USD</td>\n",
              "      <td>Departamento de 5 ambientes con dependencia  -...</td>\n",
              "      <td>1.510104</td>\n",
              "      <td>NaN</td>\n",
              "      <td>1.867914</td>\n",
              "      <td>NaN</td>\n",
              "      <td>3.056360</td>\n",
              "      <td>12.281715</td>\n",
              "    </tr>\n",
              "    <tr>\n",
              "      <th>...</th>\n",
              "      <td>...</td>\n",
              "      <td>...</td>\n",
              "      <td>...</td>\n",
              "      <td>...</td>\n",
              "      <td>...</td>\n",
              "      <td>...</td>\n",
              "      <td>...</td>\n",
              "      <td>...</td>\n",
              "      <td>...</td>\n",
              "      <td>...</td>\n",
              "      <td>...</td>\n",
              "      <td>...</td>\n",
              "      <td>...</td>\n",
              "      <td>...</td>\n",
              "      <td>...</td>\n",
              "      <td>...</td>\n",
              "      <td>...</td>\n",
              "      <td>...</td>\n",
              "      <td>...</td>\n",
              "      <td>...</td>\n",
              "      <td>...</td>\n",
              "    </tr>\n",
              "    <tr>\n",
              "      <th>459986</th>\n",
              "      <td>Pxz0dKZgWiL7odLclgK/vA==</td>\n",
              "      <td>2021-01-05</td>\n",
              "      <td>NaT</td>\n",
              "      <td>2021-01-05</td>\n",
              "      <td>-34.613000</td>\n",
              "      <td>-58.362117</td>\n",
              "      <td>Capital Federal</td>\n",
              "      <td>Puerto Madero</td>\n",
              "      <td>Puerto Madero</td>\n",
              "      <td>Venta</td>\n",
              "      <td>...</td>\n",
              "      <td>163.0</td>\n",
              "      <td>790000.0</td>\n",
              "      <td>USD</td>\n",
              "      <td>Departamento en venta en Puerto Madero</td>\n",
              "      <td>0.116997</td>\n",
              "      <td>NaN</td>\n",
              "      <td>0.078105</td>\n",
              "      <td>NaN</td>\n",
              "      <td>1.769487</td>\n",
              "      <td>7.513697</td>\n",
              "    </tr>\n",
              "    <tr>\n",
              "      <th>459997</th>\n",
              "      <td>q3Im3Bm7Mi9ufVUH5rjWxw==</td>\n",
              "      <td>2021-01-05</td>\n",
              "      <td>2021-06-05</td>\n",
              "      <td>2021-01-05</td>\n",
              "      <td>-34.618084</td>\n",
              "      <td>-58.359912</td>\n",
              "      <td>Capital Federal</td>\n",
              "      <td>Puerto Madero</td>\n",
              "      <td>Puerto Madero</td>\n",
              "      <td>Venta</td>\n",
              "      <td>...</td>\n",
              "      <td>180.0</td>\n",
              "      <td>2200000.0</td>\n",
              "      <td>USD</td>\n",
              "      <td>Venta Departamento Pent House  4 Ambientes Pil...</td>\n",
              "      <td>0.813550</td>\n",
              "      <td>NaN</td>\n",
              "      <td>0.078105</td>\n",
              "      <td>NaN</td>\n",
              "      <td>6.195074</td>\n",
              "      <td>23.911025</td>\n",
              "    </tr>\n",
              "    <tr>\n",
              "      <th>460002</th>\n",
              "      <td>w+3qsITCAFukJ0S15B8znQ==</td>\n",
              "      <td>2021-01-05</td>\n",
              "      <td>2021-07-07</td>\n",
              "      <td>2021-01-05</td>\n",
              "      <td>-34.618595</td>\n",
              "      <td>-58.361978</td>\n",
              "      <td>Capital Federal</td>\n",
              "      <td>Puerto Madero</td>\n",
              "      <td>Puerto Madero</td>\n",
              "      <td>Venta</td>\n",
              "      <td>...</td>\n",
              "      <td>56.0</td>\n",
              "      <td>520000.0</td>\n",
              "      <td>USD</td>\n",
              "      <td>Excelente Suite en Hotel SLS Puerto Madero | 2...</td>\n",
              "      <td>-0.579557</td>\n",
              "      <td>NaN</td>\n",
              "      <td>-0.816800</td>\n",
              "      <td>NaN</td>\n",
              "      <td>0.922034</td>\n",
              "      <td>4.373784</td>\n",
              "    </tr>\n",
              "    <tr>\n",
              "      <th>460005</th>\n",
              "      <td>U2WS7omU6g9aUPRuyLt+IA==</td>\n",
              "      <td>2021-01-05</td>\n",
              "      <td>2022-06-02</td>\n",
              "      <td>2021-01-05</td>\n",
              "      <td>-34.614730</td>\n",
              "      <td>-58.361755</td>\n",
              "      <td>Capital Federal</td>\n",
              "      <td>Puerto Madero</td>\n",
              "      <td>Puerto Madero</td>\n",
              "      <td>Venta</td>\n",
              "      <td>...</td>\n",
              "      <td>86.0</td>\n",
              "      <td>450000.0</td>\n",
              "      <td>USD</td>\n",
              "      <td>Departamento en venta en el Porteño Building</td>\n",
              "      <td>-0.579557</td>\n",
              "      <td>NaN</td>\n",
              "      <td>-0.816800</td>\n",
              "      <td>NaN</td>\n",
              "      <td>0.702324</td>\n",
              "      <td>3.559732</td>\n",
              "    </tr>\n",
              "    <tr>\n",
              "      <th>460025</th>\n",
              "      <td>tmi3A6iVby0lFyguSK1CUw==</td>\n",
              "      <td>2021-01-05</td>\n",
              "      <td>2021-05-03</td>\n",
              "      <td>2021-01-05</td>\n",
              "      <td>-34.578613</td>\n",
              "      <td>-58.482961</td>\n",
              "      <td>Capital Federal</td>\n",
              "      <td>Villa Urquiza</td>\n",
              "      <td>Villa Urquiza</td>\n",
              "      <td>Venta</td>\n",
              "      <td>...</td>\n",
              "      <td>120.0</td>\n",
              "      <td>470000.0</td>\n",
              "      <td>USD</td>\n",
              "      <td>Departamento - Villa Urquiza</td>\n",
              "      <td>0.813550</td>\n",
              "      <td>NaN</td>\n",
              "      <td>0.973010</td>\n",
              "      <td>NaN</td>\n",
              "      <td>0.765099</td>\n",
              "      <td>3.792318</td>\n",
              "    </tr>\n",
              "  </tbody>\n",
              "</table>\n",
              "<p>8631 rows × 24 columns</p>\n",
              "</div>\n",
              "      <button class=\"colab-df-convert\" onclick=\"convertToInteractive('df-72b23fc0-7158-43be-9046-752983eaa856')\"\n",
              "              title=\"Convert this dataframe to an interactive table.\"\n",
              "              style=\"display:none;\">\n",
              "        \n",
              "  <svg xmlns=\"http://www.w3.org/2000/svg\" height=\"24px\"viewBox=\"0 0 24 24\"\n",
              "       width=\"24px\">\n",
              "    <path d=\"M0 0h24v24H0V0z\" fill=\"none\"/>\n",
              "    <path d=\"M18.56 5.44l.94 2.06.94-2.06 2.06-.94-2.06-.94-.94-2.06-.94 2.06-2.06.94zm-11 1L8.5 8.5l.94-2.06 2.06-.94-2.06-.94L8.5 2.5l-.94 2.06-2.06.94zm10 10l.94 2.06.94-2.06 2.06-.94-2.06-.94-.94-2.06-.94 2.06-2.06.94z\"/><path d=\"M17.41 7.96l-1.37-1.37c-.4-.4-.92-.59-1.43-.59-.52 0-1.04.2-1.43.59L10.3 9.45l-7.72 7.72c-.78.78-.78 2.05 0 2.83L4 21.41c.39.39.9.59 1.41.59.51 0 1.02-.2 1.41-.59l7.78-7.78 2.81-2.81c.8-.78.8-2.07 0-2.86zM5.41 20L4 18.59l7.72-7.72 1.47 1.35L5.41 20z\"/>\n",
              "  </svg>\n",
              "      </button>\n",
              "      \n",
              "  <style>\n",
              "    .colab-df-container {\n",
              "      display:flex;\n",
              "      flex-wrap:wrap;\n",
              "      gap: 12px;\n",
              "    }\n",
              "\n",
              "    .colab-df-convert {\n",
              "      background-color: #E8F0FE;\n",
              "      border: none;\n",
              "      border-radius: 50%;\n",
              "      cursor: pointer;\n",
              "      display: none;\n",
              "      fill: #1967D2;\n",
              "      height: 32px;\n",
              "      padding: 0 0 0 0;\n",
              "      width: 32px;\n",
              "    }\n",
              "\n",
              "    .colab-df-convert:hover {\n",
              "      background-color: #E2EBFA;\n",
              "      box-shadow: 0px 1px 2px rgba(60, 64, 67, 0.3), 0px 1px 3px 1px rgba(60, 64, 67, 0.15);\n",
              "      fill: #174EA6;\n",
              "    }\n",
              "\n",
              "    [theme=dark] .colab-df-convert {\n",
              "      background-color: #3B4455;\n",
              "      fill: #D2E3FC;\n",
              "    }\n",
              "\n",
              "    [theme=dark] .colab-df-convert:hover {\n",
              "      background-color: #434B5C;\n",
              "      box-shadow: 0px 1px 3px 1px rgba(0, 0, 0, 0.15);\n",
              "      filter: drop-shadow(0px 1px 2px rgba(0, 0, 0, 0.3));\n",
              "      fill: #FFFFFF;\n",
              "    }\n",
              "  </style>\n",
              "\n",
              "      <script>\n",
              "        const buttonEl =\n",
              "          document.querySelector('#df-72b23fc0-7158-43be-9046-752983eaa856 button.colab-df-convert');\n",
              "        buttonEl.style.display =\n",
              "          google.colab.kernel.accessAllowed ? 'block' : 'none';\n",
              "\n",
              "        async function convertToInteractive(key) {\n",
              "          const element = document.querySelector('#df-72b23fc0-7158-43be-9046-752983eaa856');\n",
              "          const dataTable =\n",
              "            await google.colab.kernel.invokeFunction('convertToInteractive',\n",
              "                                                     [key], {});\n",
              "          if (!dataTable) return;\n",
              "\n",
              "          const docLinkHtml = 'Like what you see? Visit the ' +\n",
              "            '<a target=\"_blank\" href=https://colab.research.google.com/notebooks/data_table.ipynb>data table notebook</a>'\n",
              "            + ' to learn more about interactive tables.';\n",
              "          element.innerHTML = '';\n",
              "          dataTable['output_type'] = 'display_data';\n",
              "          await google.colab.output.renderOutput(dataTable, element);\n",
              "          const docLink = document.createElement('div');\n",
              "          docLink.innerHTML = docLinkHtml;\n",
              "          element.appendChild(docLink);\n",
              "        }\n",
              "      </script>\n",
              "    </div>\n",
              "  </div>\n",
              "  "
            ]
          },
          "metadata": {},
          "execution_count": 59
        }
      ]
    },
    {
      "cell_type": "code",
      "source": [
        "df[(df['zm_price']<-3.5)]"
      ],
      "metadata": {
        "colab": {
          "base_uri": "https://localhost:8080/",
          "height": 142
        },
        "id": "CNzDv0sVT6XB",
        "outputId": "ece5ca43-812b-4a04-b3ef-c666b4da13fe"
      },
      "execution_count": null,
      "outputs": [
        {
          "output_type": "execute_result",
          "data": {
            "text/plain": [
              "Empty DataFrame\n",
              "Columns: [id, start_date, end_date, created_on, latitud, longitud, place_l2, place_l3, place_l4, operation, property_type, property_rooms, property_bedrooms, property_surface_total, property_surface_covered, property_price, property_currency, property_title, z_rooms, zm_rooms, z_bedrooms, zm_bedrooms, z_price, zm_price]\n",
              "Index: []\n",
              "\n",
              "[0 rows x 24 columns]"
            ],
            "text/html": [
              "\n",
              "  <div id=\"df-881136cd-e4b6-47ee-a839-feaacf52c9af\">\n",
              "    <div class=\"colab-df-container\">\n",
              "      <div>\n",
              "<style scoped>\n",
              "    .dataframe tbody tr th:only-of-type {\n",
              "        vertical-align: middle;\n",
              "    }\n",
              "\n",
              "    .dataframe tbody tr th {\n",
              "        vertical-align: top;\n",
              "    }\n",
              "\n",
              "    .dataframe thead th {\n",
              "        text-align: right;\n",
              "    }\n",
              "</style>\n",
              "<table border=\"1\" class=\"dataframe\">\n",
              "  <thead>\n",
              "    <tr style=\"text-align: right;\">\n",
              "      <th></th>\n",
              "      <th>id</th>\n",
              "      <th>start_date</th>\n",
              "      <th>end_date</th>\n",
              "      <th>created_on</th>\n",
              "      <th>latitud</th>\n",
              "      <th>longitud</th>\n",
              "      <th>place_l2</th>\n",
              "      <th>place_l3</th>\n",
              "      <th>place_l4</th>\n",
              "      <th>operation</th>\n",
              "      <th>...</th>\n",
              "      <th>property_surface_covered</th>\n",
              "      <th>property_price</th>\n",
              "      <th>property_currency</th>\n",
              "      <th>property_title</th>\n",
              "      <th>z_rooms</th>\n",
              "      <th>zm_rooms</th>\n",
              "      <th>z_bedrooms</th>\n",
              "      <th>zm_bedrooms</th>\n",
              "      <th>z_price</th>\n",
              "      <th>zm_price</th>\n",
              "    </tr>\n",
              "  </thead>\n",
              "  <tbody>\n",
              "  </tbody>\n",
              "</table>\n",
              "<p>0 rows × 24 columns</p>\n",
              "</div>\n",
              "      <button class=\"colab-df-convert\" onclick=\"convertToInteractive('df-881136cd-e4b6-47ee-a839-feaacf52c9af')\"\n",
              "              title=\"Convert this dataframe to an interactive table.\"\n",
              "              style=\"display:none;\">\n",
              "        \n",
              "  <svg xmlns=\"http://www.w3.org/2000/svg\" height=\"24px\"viewBox=\"0 0 24 24\"\n",
              "       width=\"24px\">\n",
              "    <path d=\"M0 0h24v24H0V0z\" fill=\"none\"/>\n",
              "    <path d=\"M18.56 5.44l.94 2.06.94-2.06 2.06-.94-2.06-.94-.94-2.06-.94 2.06-2.06.94zm-11 1L8.5 8.5l.94-2.06 2.06-.94-2.06-.94L8.5 2.5l-.94 2.06-2.06.94zm10 10l.94 2.06.94-2.06 2.06-.94-2.06-.94-.94-2.06-.94 2.06-2.06.94z\"/><path d=\"M17.41 7.96l-1.37-1.37c-.4-.4-.92-.59-1.43-.59-.52 0-1.04.2-1.43.59L10.3 9.45l-7.72 7.72c-.78.78-.78 2.05 0 2.83L4 21.41c.39.39.9.59 1.41.59.51 0 1.02-.2 1.41-.59l7.78-7.78 2.81-2.81c.8-.78.8-2.07 0-2.86zM5.41 20L4 18.59l7.72-7.72 1.47 1.35L5.41 20z\"/>\n",
              "  </svg>\n",
              "      </button>\n",
              "      \n",
              "  <style>\n",
              "    .colab-df-container {\n",
              "      display:flex;\n",
              "      flex-wrap:wrap;\n",
              "      gap: 12px;\n",
              "    }\n",
              "\n",
              "    .colab-df-convert {\n",
              "      background-color: #E8F0FE;\n",
              "      border: none;\n",
              "      border-radius: 50%;\n",
              "      cursor: pointer;\n",
              "      display: none;\n",
              "      fill: #1967D2;\n",
              "      height: 32px;\n",
              "      padding: 0 0 0 0;\n",
              "      width: 32px;\n",
              "    }\n",
              "\n",
              "    .colab-df-convert:hover {\n",
              "      background-color: #E2EBFA;\n",
              "      box-shadow: 0px 1px 2px rgba(60, 64, 67, 0.3), 0px 1px 3px 1px rgba(60, 64, 67, 0.15);\n",
              "      fill: #174EA6;\n",
              "    }\n",
              "\n",
              "    [theme=dark] .colab-df-convert {\n",
              "      background-color: #3B4455;\n",
              "      fill: #D2E3FC;\n",
              "    }\n",
              "\n",
              "    [theme=dark] .colab-df-convert:hover {\n",
              "      background-color: #434B5C;\n",
              "      box-shadow: 0px 1px 3px 1px rgba(0, 0, 0, 0.15);\n",
              "      filter: drop-shadow(0px 1px 2px rgba(0, 0, 0, 0.3));\n",
              "      fill: #FFFFFF;\n",
              "    }\n",
              "  </style>\n",
              "\n",
              "      <script>\n",
              "        const buttonEl =\n",
              "          document.querySelector('#df-881136cd-e4b6-47ee-a839-feaacf52c9af button.colab-df-convert');\n",
              "        buttonEl.style.display =\n",
              "          google.colab.kernel.accessAllowed ? 'block' : 'none';\n",
              "\n",
              "        async function convertToInteractive(key) {\n",
              "          const element = document.querySelector('#df-881136cd-e4b6-47ee-a839-feaacf52c9af');\n",
              "          const dataTable =\n",
              "            await google.colab.kernel.invokeFunction('convertToInteractive',\n",
              "                                                     [key], {});\n",
              "          if (!dataTable) return;\n",
              "\n",
              "          const docLinkHtml = 'Like what you see? Visit the ' +\n",
              "            '<a target=\"_blank\" href=https://colab.research.google.com/notebooks/data_table.ipynb>data table notebook</a>'\n",
              "            + ' to learn more about interactive tables.';\n",
              "          element.innerHTML = '';\n",
              "          dataTable['output_type'] = 'display_data';\n",
              "          await google.colab.output.renderOutput(dataTable, element);\n",
              "          const docLink = document.createElement('div');\n",
              "          docLink.innerHTML = docLinkHtml;\n",
              "          element.appendChild(docLink);\n",
              "        }\n",
              "      </script>\n",
              "    </div>\n",
              "  </div>\n",
              "  "
            ]
          },
          "metadata": {},
          "execution_count": 60
        }
      ]
    },
    {
      "cell_type": "code",
      "source": [
        "plt.hist(df.zm_price)\n",
        "plt.title('Histograma Z-Score Modificado Price')\n",
        "plt.xlabel('Z-Score Modificado Price')\n",
        "plt.show()"
      ],
      "metadata": {
        "colab": {
          "base_uri": "https://localhost:8080/",
          "height": 294
        },
        "id": "U2K-YbBNUCTP",
        "outputId": "94c51f4e-acd3-4cff-fbf6-b44426714e51"
      },
      "execution_count": null,
      "outputs": [
        {
          "output_type": "display_data",
          "data": {
            "text/plain": [
              "<Figure size 432x288 with 1 Axes>"
            ],
            "image/png": "[encoded data removed]"
          },
          "metadata": {
            "needs_background": "light"
          }
        }
      ]
    },
    {
      "cell_type": "markdown",
      "metadata": {
        "id": "Bh62tMLLpWt0"
      },
      "source": [
        "#### Outliers multivariados\n",
        "\n",
        "A continuacion vamos a analizar la presencia de outliers utilizando el metodo de Mahalanobis.\n",
        "\n",
        "\n",
        "\n",
        "\n"
      ]
    },
    {
      "cell_type": "markdown",
      "metadata": {
        "id": "jgGd0uFsYYoM"
      },
      "source": [
        "##### Property rooms vs Property bedrooms"
      ]
    },
    {
      "cell_type": "code",
      "execution_count": null,
      "metadata": {
        "colab": {
          "base_uri": "https://localhost:8080/",
          "height": 294
        },
        "id": "vRs4fXeeYjhT",
        "outputId": "5fb9c645-591c-4c92-d168-ee5f8f6dfedc"
      },
      "outputs": [
        {
          "output_type": "display_data",
          "data": {
            "text/plain": [
              "<Figure size 432x288 with 1 Axes>"
            ],
            "image/png": "[encoded data removed]"
          },
          "metadata": {
            "needs_background": "light"
          }
        }
      ],
      "source": [
        "#Scatter Plot\n",
        "plt.scatter(df.property_rooms,df.property_bedrooms)\n",
        "plt.title('Bedrooms vs Rooms')\n",
        "plt.xlabel('Bedrooms')\n",
        "plt.ylabel('Rooms')\n",
        "plt.show()"
      ]
    },
    {
      "cell_type": "markdown",
      "source": [
        "##### Property rooms vs Property surface total"
      ],
      "metadata": {
        "id": "_pMvvDQbaYwr"
      }
    },
    {
      "cell_type": "code",
      "source": [
        "#Scatter Plot\n",
        "plt.scatter(df.property_rooms,df.property_surface_total)\n",
        "plt.title('Rooms vs Surface total')\n",
        "plt.xlabel('Rooms')\n",
        "plt.ylabel('Surface total')\n",
        "plt.show()"
      ],
      "metadata": {
        "colab": {
          "base_uri": "https://localhost:8080/",
          "height": 294
        },
        "id": "gNJ0QvuNaphw",
        "outputId": "2f0d7175-c8fd-4840-bc5d-caa63d14fd3a"
      },
      "execution_count": null,
      "outputs": [
        {
          "output_type": "display_data",
          "data": {
            "text/plain": [
              "<Figure size 432x288 with 1 Axes>"
            ],
            "image/png": "[encoded data removed]"
          },
          "metadata": {
            "needs_background": "light"
          }
        }
      ]
    },
    {
      "cell_type": "markdown",
      "source": [
        "##### Property rooms vs Property surface covered"
      ],
      "metadata": {
        "id": "P9Xq9piabA6s"
      }
    },
    {
      "cell_type": "code",
      "source": [
        "#Scatter Plot\n",
        "plt.scatter(df.property_rooms,df.property_surface_covered)\n",
        "plt.title('Rooms vs Surface covered')\n",
        "plt.xlabel('Rooms')\n",
        "plt.ylabel('Surface covered')\n",
        "plt.show()"
      ],
      "metadata": {
        "colab": {
          "base_uri": "https://localhost:8080/",
          "height": 294
        },
        "id": "xxwGCLpAbGfP",
        "outputId": "622e4583-dfd2-4a5d-9794-ff1ab3b5f52b"
      },
      "execution_count": null,
      "outputs": [
        {
          "output_type": "display_data",
          "data": {
            "text/plain": [
              "<Figure size 432x288 with 1 Axes>"
            ],
            "image/png": "[encoded data removed]"
          },
          "metadata": {
            "needs_background": "light"
          }
        }
      ]
    },
    {
      "cell_type": "markdown",
      "source": [
        "##### Property rooms vs Property price"
      ],
      "metadata": {
        "id": "IJnCYsswbc7w"
      }
    },
    {
      "cell_type": "code",
      "source": [
        "#Scatter Plot\n",
        "plt.scatter(df.property_rooms,df.property_price)\n",
        "plt.title('Rooms vs Price')\n",
        "plt.xlabel('Rooms')\n",
        "plt.ylabel('Price')\n",
        "plt.show()"
      ],
      "metadata": {
        "colab": {
          "base_uri": "https://localhost:8080/",
          "height": 294
        },
        "id": "D-3Lhtg4bhuF",
        "outputId": "fb47d9b1-3a83-4f2f-d57f-78f4487c69d0"
      },
      "execution_count": null,
      "outputs": [
        {
          "output_type": "display_data",
          "data": {
            "text/plain": [
              "<Figure size 432x288 with 1 Axes>"
            ],
            "image/png": "[encoded data removed]"
          },
          "metadata": {
            "needs_background": "light"
          }
        }
      ]
    },
    {
      "cell_type": "markdown",
      "source": [
        "##### Property surface total vs Price -> Mahalanobis\n",
        "Como podemos apreciar en el grafico, la mayor concentracion se presenta en la esquina inferior izquierda, aunque presenta algunos valores dispersos en las cercanias de ambos extremos. Por otro lado hay dos valores particularmente alejados.\n",
        "\n",
        "\n"
      ],
      "metadata": {
        "id": "FDCcd2n3byyE"
      }
    },
    {
      "cell_type": "code",
      "source": [
        "#Scatter Plot\n",
        "plt.scatter(df.property_surface_total,df.property_price)\n",
        "plt.title('Surface total vs Price')\n",
        "plt.xlabel('Surface total')\n",
        "plt.ylabel('Price')\n",
        "plt.show()"
      ],
      "metadata": {
        "colab": {
          "base_uri": "https://localhost:8080/",
          "height": 294
        },
        "id": "GkGwfrSSb8l2",
        "outputId": "872a0bea-22b5-4f95-a4a6-556977b667a6"
      },
      "execution_count": null,
      "outputs": [
        {
          "output_type": "display_data",
          "data": {
            "text/plain": [
              "<Figure size 432x288 with 1 Axes>"
            ],
            "image/png": "[encoded data removed]"
          },
          "metadata": {
            "needs_background": "light"
          }
        }
      ]
    },
    {
      "cell_type": "markdown",
      "source": [
        "Para poder determinar concretamente estos valores, nos ayudamos con el calculo de la distancia de mahalanobis para cada una de las observaciones presentes."
      ],
      "metadata": {
        "id": "2azYCj92nL5r"
      }
    },
    {
      "cell_type": "code",
      "source": [
        "# Calulo el vector de medias\n",
        "#vector_medias=np.mean(df[['property_price','property_surface_total']])\n",
        "\n",
        "# Calculo la diferencia entre las observaciones y el vector de medias\n",
        "#diferencia_x = df[['property_price','property_surface_total']] - vector_medias\n",
        "\n",
        "# Calculo matriz de covarianza y su inversa\n",
        "#covarianza=df[['property_price','property_surface_total']].cov().values\n",
        "#inv_covarianza = np.linalg.inv(covarianza)\n",
        "\n",
        "# Calculamos el cuadrado de la distancia de mahalanobis\n",
        "#dist_mahalanobis = np.dot(np.dot(diferencia_x, inv_covarianza), diferencia_x.T) # me rompe la ram\n",
        "\n",
        "# Vector de observaciones\n",
        "X = df[['property_price','property_surface_total']]\n",
        "sample_X = X.sample(frac=0.1)\n",
        "\n",
        "mu = sample_X.mean()\n",
        "X_diff = X - mu\n",
        "X_diff = X_diff.values.T\n",
        "\n",
        "cov = np.cov(sample_X.values.T)\n",
        "inv_cov = np.linalg.inv(cov)\n",
        "W = sc.linalg.sqrtm(inv_cov)\n",
        "\n",
        "Wx = np.matmul(W, X_diff)\n",
        "\n",
        "mahal_dists = np.array([np.dot(Wx[:, i], Wx[:, i]) for i in range(Wx.shape[1])])\n",
        "mahal_dists\n",
        "\n",
        "#df['mahalanobis'] = dist_mahalanobis.diagonal()"
      ],
      "metadata": {
        "id": "rKtIiaxqnYmT",
        "colab": {
          "base_uri": "https://localhost:8080/"
        },
        "outputId": "c538f20e-0e1f-478d-ae22-2359ee3a369c"
      },
      "execution_count": null,
      "outputs": [
        {
          "output_type": "execute_result",
          "data": {
            "text/plain": [
              "array([0.00933112, 0.21136533, 0.16695798, ..., 0.23361997, 0.23740641,\n",
              "       0.0867207 ])"
            ]
          },
          "metadata": {},
          "execution_count": 53
        }
      ]
    },
    {
      "cell_type": "markdown",
      "metadata": {
        "id": "EqJCNlNL4axE"
      },
      "source": [
        "#  **2. Agrupamiento**"
      ]
    },
    {
      "cell_type": "markdown",
      "metadata": {
        "id": "HOlJzNDc4i3L"
      },
      "source": [
        "#  **3. Clasificación**"
      ]
    },
    {
      "cell_type": "markdown",
      "metadata": {
        "id": "6zkoALij4rrq"
      },
      "source": [
        "#  **4. Regresión**"
      ]
    },
    {
      "cell_type": "markdown",
      "metadata": {
        "id": "UvOkWFJf4u8h"
      },
      "source": [
        "#  **5. Conclusiones**"
      ]
    }
  ],
  "metadata": {
    "colab": {
      "collapsed_sections": [],
      "provenance": []
    },
    "kernelspec": {
      "display_name": "Python 3 (ipykernel)",
      "language": "python",
      "name": "python3"
    },
    "language_info": {
      "codemirror_mode": {
        "name": "ipython",
        "version": 3
      },
      "file_extension": ".py",
      "mimetype": "text/x-python",
      "name": "python",
      "nbconvert_exporter": "python",
      "pygments_lexer": "ipython3",
      "version": "3.10.6"
    }
  },
  "nbformat": 4,
  "nbformat_minor": 0
}