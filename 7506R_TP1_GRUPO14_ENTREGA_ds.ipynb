{
  "cells": [
    {
      "cell_type": "markdown",
      "metadata": {
        "id": "IOHMzhsjZRFe"
      },
      "source": [
        "______________________________________\n",
        "# <center>**Trabajo Practico Nº1 para la Materia *Organización de Datos***</center>\n",
        "\n",
        "*Integrantes*: \n",
        "- 103963\tCarolina Di Matteo\tcdimatteo@fi.uba.ar\n",
        "- 101231\tPablo Salvador Dimartino\tpdimartino@fi.uba.ar\n",
        "- 100113\tJuan Sebastian Burgos\tjsburgos@fi.uba.ar\n",
        "- 104415\tValentina Laura Correa\tvcorrea@fi.uba.ar\n",
        "\n",
        "*Grupo*: 14\n",
        "\n",
        "*Repositorio*: [github](https://github.com/valencorrea/7506R-2C2022-GRUPO14)\n",
        "\n",
        "*Curso*: Rodriguez\n",
        "\n",
        "*Cuatrimestre*: 2c2022\n",
        "______________________________________\n",
        "\n"
      ]
    },
    {
      "cell_type": "markdown",
      "metadata": {
        "id": "112riqhc5x7T"
      },
      "source": [
        "**Set Up**"
      ]
    },
    {
      "cell_type": "code",
      "execution_count": 1,
      "metadata": {
        "colab": {
          "base_uri": "https://localhost:8080/"
        },
        "id": "7w6NFIXYjFYH",
        "outputId": "d4528748-0395-4d09-adeb-2f82f147bceb"
      },
      "outputs": [
        {
          "output_type": "stream",
          "name": "stdout",
          "text": [
            "Mounted at /content/drive\n"
          ]
        }
      ],
      "source": [
        "# Importamos las liberias para los manejos de datos y graficos\n",
        "import pandas as pd\n",
        "import numpy as np\n",
        "import matplotlib.pyplot as plt\n",
        "import seaborn as sns\n",
        "import scipy as sc\n",
        "from sklearn.datasets import load_iris\n",
        "from sklearn.neighbors import LocalOutlierFactor\n",
        "\n",
        "from matplotlib.ticker import PercentFormatter\n",
        "\n",
        "##Ejecución con drive\n",
        "from google.colab import drive\n",
        "drive.mount('/content/drive')\n",
        "properati=pd.read_csv('/content/drive/MyDrive/📔 Organización de Datos (75.06)/TPS/TP1/properati_argentina_2021.csv')\n",
        "\n",
        "# Accedemos al archivo a analizar\n",
        "#properati=pd.read_csv('properati_argentina_2021.csv')\n",
        "\n",
        "\n",
        "import warnings\n",
        "warnings.filterwarnings('ignore')\n"
      ]
    },
    {
      "cell_type": "markdown",
      "metadata": {
        "id": "Q-pkcGlPiCCv"
      },
      "source": [
        "#  **1. Análisis Exploratorio y Preprocesamiento de Datos**"
      ]
    },
    {
      "cell_type": "markdown",
      "metadata": {
        "id": "hwR861Zpj4Wx"
      },
      "source": [
        "## **1a. Exploración Inicial**\n"
      ]
    },
    {
      "cell_type": "markdown",
      "source": [
        "A continuación se realizara un análisis general de cada una de las variables presentes en el dataframe."
      ],
      "metadata": {
        "id": "r1dijE9hlozX"
      }
    },
    {
      "cell_type": "code",
      "execution_count": 2,
      "metadata": {
        "colab": {
          "base_uri": "https://localhost:8080/"
        },
        "id": "KO5MyE1AXcTk",
        "outputId": "714f996a-5590-454c-9fb3-71f71e41e934"
      },
      "outputs": [
        {
          "output_type": "execute_result",
          "data": {
            "text/plain": [
              "id                           object\n",
              "start_date                   object\n",
              "end_date                     object\n",
              "created_on                   object\n",
              "latitud                     float64\n",
              "longitud                    float64\n",
              "place_l2                     object\n",
              "place_l3                     object\n",
              "place_l4                     object\n",
              "place_l5                     object\n",
              "place_l6                    float64\n",
              "operation                    object\n",
              "property_type                object\n",
              "property_rooms              float64\n",
              "property_bedrooms           float64\n",
              "property_surface_total      float64\n",
              "property_surface_covered    float64\n",
              "property_price              float64\n",
              "property_currency            object\n",
              "property_title               object\n",
              "dtype: object"
            ]
          },
          "metadata": {},
          "execution_count": 2
        }
      ],
      "source": [
        "df = properati.copy()\n",
        "df.dtypes"
      ]
    },
    {
      "cell_type": "markdown",
      "metadata": {
        "id": "l4K7r5jnXcTm"
      },
      "source": [
        "Actualmente los únicos dos tipos de datos que tenemos son Float64 y Object.\n",
        "\n",
        "Viendo las primeras entradas, podemos observar que el tipo Object oculta fechas que se adecuan mejor al tipo de datos DateTime."
      ]
    },
    {
      "cell_type": "code",
      "execution_count": 3,
      "metadata": {
        "colab": {
          "base_uri": "https://localhost:8080/",
          "height": 0
        },
        "id": "eDp09StlXcTn",
        "outputId": "a208e085-b381-46c5-a968-7487cd6ad78a"
      },
      "outputs": [
        {
          "output_type": "execute_result",
          "data": {
            "text/plain": [
              "                         id  start_date    end_date  created_on    latitud  \\\n",
              "0  XZq2dFGxBiboHY3Bo/tqlw==  2021-09-09  2022-01-27  2021-09-09 -38.957632   \n",
              "1  8afoK+yMH/rnnlYiktwgNA==  2021-09-09  2021-10-23  2021-09-09 -34.888878   \n",
              "2  iVaG5rBB47dd1Ya4BMXREA==  2021-09-09  2022-03-09  2021-09-09 -32.488717   \n",
              "3  QE1QVMWKAHWkd0qT0FtPWA==  2021-09-09  2022-01-27  2021-09-09 -34.900165   \n",
              "4  tJ5lSk7IysG/71OGhacNZA==  2021-09-09  2022-01-27  2021-09-09 -38.954528   \n",
              "\n",
              "    longitud    place_l2 place_l3 place_l4 place_l5  place_l6 operation  \\\n",
              "0 -68.105443     Neuquén      NaN      NaN      NaN       NaN     Venta   \n",
              "1 -56.092368  Montevideo      NaN      NaN      NaN       NaN     Venta   \n",
              "2 -58.257499  Entre Ríos      NaN      NaN      NaN       NaN     Venta   \n",
              "3 -54.808453   Maldonado      NaN      NaN      NaN       NaN     Venta   \n",
              "4 -68.041862     Neuquén      NaN      NaN      NaN       NaN     Venta   \n",
              "\n",
              "  property_type  property_rooms  property_bedrooms  property_surface_total  \\\n",
              "0          Casa             6.0                NaN                     NaN   \n",
              "1          Casa             4.0                3.0                   193.0   \n",
              "2          Casa             NaN                NaN                   110.0   \n",
              "3          Casa             NaN                3.0                     NaN   \n",
              "4            PH             3.0                2.0                     NaN   \n",
              "\n",
              "   property_surface_covered  property_price property_currency  \\\n",
              "0                     206.0             NaN               NaN   \n",
              "1                     193.0        390000.0               USD   \n",
              "2                      45.0         47000.0               USD   \n",
              "3                     180.0        400000.0               USD   \n",
              "4                      98.0        102000.0               USD   \n",
              "\n",
              "       property_title  \n",
              "0      Casa - Capital  \n",
              "1       Casa - Malvín  \n",
              "2      Casa - Uruguay  \n",
              "3    Casa - El Chorro  \n",
              "4  PH - Villa Farrell  "
            ],
            "text/html": [
              "\n",
              "  <div id=\"df-f5d91d36-17db-4b51-9dd4-a20c1bdb3310\">\n",
              "    <div class=\"colab-df-container\">\n",
              "      <div>\n",
              "<style scoped>\n",
              "    .dataframe tbody tr th:only-of-type {\n",
              "        vertical-align: middle;\n",
              "    }\n",
              "\n",
              "    .dataframe tbody tr th {\n",
              "        vertical-align: top;\n",
              "    }\n",
              "\n",
              "    .dataframe thead th {\n",
              "        text-align: right;\n",
              "    }\n",
              "</style>\n",
              "<table border=\"1\" class=\"dataframe\">\n",
              "  <thead>\n",
              "    <tr style=\"text-align: right;\">\n",
              "      <th></th>\n",
              "      <th>id</th>\n",
              "      <th>start_date</th>\n",
              "      <th>end_date</th>\n",
              "      <th>created_on</th>\n",
              "      <th>latitud</th>\n",
              "      <th>longitud</th>\n",
              "      <th>place_l2</th>\n",
              "      <th>place_l3</th>\n",
              "      <th>place_l4</th>\n",
              "      <th>place_l5</th>\n",
              "      <th>place_l6</th>\n",
              "      <th>operation</th>\n",
              "      <th>property_type</th>\n",
              "      <th>property_rooms</th>\n",
              "      <th>property_bedrooms</th>\n",
              "      <th>property_surface_total</th>\n",
              "      <th>property_surface_covered</th>\n",
              "      <th>property_price</th>\n",
              "      <th>property_currency</th>\n",
              "      <th>property_title</th>\n",
              "    </tr>\n",
              "  </thead>\n",
              "  <tbody>\n",
              "    <tr>\n",
              "      <th>0</th>\n",
              "      <td>XZq2dFGxBiboHY3Bo/tqlw==</td>\n",
              "      <td>2021-09-09</td>\n",
              "      <td>2022-01-27</td>\n",
              "      <td>2021-09-09</td>\n",
              "      <td>-38.957632</td>\n",
              "      <td>-68.105443</td>\n",
              "      <td>Neuquén</td>\n",
              "      <td>NaN</td>\n",
              "      <td>NaN</td>\n",
              "      <td>NaN</td>\n",
              "      <td>NaN</td>\n",
              "      <td>Venta</td>\n",
              "      <td>Casa</td>\n",
              "      <td>6.0</td>\n",
              "      <td>NaN</td>\n",
              "      <td>NaN</td>\n",
              "      <td>206.0</td>\n",
              "      <td>NaN</td>\n",
              "      <td>NaN</td>\n",
              "      <td>Casa - Capital</td>\n",
              "    </tr>\n",
              "    <tr>\n",
              "      <th>1</th>\n",
              "      <td>8afoK+yMH/rnnlYiktwgNA==</td>\n",
              "      <td>2021-09-09</td>\n",
              "      <td>2021-10-23</td>\n",
              "      <td>2021-09-09</td>\n",
              "      <td>-34.888878</td>\n",
              "      <td>-56.092368</td>\n",
              "      <td>Montevideo</td>\n",
              "      <td>NaN</td>\n",
              "      <td>NaN</td>\n",
              "      <td>NaN</td>\n",
              "      <td>NaN</td>\n",
              "      <td>Venta</td>\n",
              "      <td>Casa</td>\n",
              "      <td>4.0</td>\n",
              "      <td>3.0</td>\n",
              "      <td>193.0</td>\n",
              "      <td>193.0</td>\n",
              "      <td>390000.0</td>\n",
              "      <td>USD</td>\n",
              "      <td>Casa - Malvín</td>\n",
              "    </tr>\n",
              "    <tr>\n",
              "      <th>2</th>\n",
              "      <td>iVaG5rBB47dd1Ya4BMXREA==</td>\n",
              "      <td>2021-09-09</td>\n",
              "      <td>2022-03-09</td>\n",
              "      <td>2021-09-09</td>\n",
              "      <td>-32.488717</td>\n",
              "      <td>-58.257499</td>\n",
              "      <td>Entre Ríos</td>\n",
              "      <td>NaN</td>\n",
              "      <td>NaN</td>\n",
              "      <td>NaN</td>\n",
              "      <td>NaN</td>\n",
              "      <td>Venta</td>\n",
              "      <td>Casa</td>\n",
              "      <td>NaN</td>\n",
              "      <td>NaN</td>\n",
              "      <td>110.0</td>\n",
              "      <td>45.0</td>\n",
              "      <td>47000.0</td>\n",
              "      <td>USD</td>\n",
              "      <td>Casa - Uruguay</td>\n",
              "    </tr>\n",
              "    <tr>\n",
              "      <th>3</th>\n",
              "      <td>QE1QVMWKAHWkd0qT0FtPWA==</td>\n",
              "      <td>2021-09-09</td>\n",
              "      <td>2022-01-27</td>\n",
              "      <td>2021-09-09</td>\n",
              "      <td>-34.900165</td>\n",
              "      <td>-54.808453</td>\n",
              "      <td>Maldonado</td>\n",
              "      <td>NaN</td>\n",
              "      <td>NaN</td>\n",
              "      <td>NaN</td>\n",
              "      <td>NaN</td>\n",
              "      <td>Venta</td>\n",
              "      <td>Casa</td>\n",
              "      <td>NaN</td>\n",
              "      <td>3.0</td>\n",
              "      <td>NaN</td>\n",
              "      <td>180.0</td>\n",
              "      <td>400000.0</td>\n",
              "      <td>USD</td>\n",
              "      <td>Casa - El Chorro</td>\n",
              "    </tr>\n",
              "    <tr>\n",
              "      <th>4</th>\n",
              "      <td>tJ5lSk7IysG/71OGhacNZA==</td>\n",
              "      <td>2021-09-09</td>\n",
              "      <td>2022-01-27</td>\n",
              "      <td>2021-09-09</td>\n",
              "      <td>-38.954528</td>\n",
              "      <td>-68.041862</td>\n",
              "      <td>Neuquén</td>\n",
              "      <td>NaN</td>\n",
              "      <td>NaN</td>\n",
              "      <td>NaN</td>\n",
              "      <td>NaN</td>\n",
              "      <td>Venta</td>\n",
              "      <td>PH</td>\n",
              "      <td>3.0</td>\n",
              "      <td>2.0</td>\n",
              "      <td>NaN</td>\n",
              "      <td>98.0</td>\n",
              "      <td>102000.0</td>\n",
              "      <td>USD</td>\n",
              "      <td>PH - Villa Farrell</td>\n",
              "    </tr>\n",
              "  </tbody>\n",
              "</table>\n",
              "</div>\n",
              "      <button class=\"colab-df-convert\" onclick=\"convertToInteractive('df-f5d91d36-17db-4b51-9dd4-a20c1bdb3310')\"\n",
              "              title=\"Convert this dataframe to an interactive table.\"\n",
              "              style=\"display:none;\">\n",
              "        \n",
              "  <svg xmlns=\"http://www.w3.org/2000/svg\" height=\"24px\"viewBox=\"0 0 24 24\"\n",
              "       width=\"24px\">\n",
              "    <path d=\"M0 0h24v24H0V0z\" fill=\"none\"/>\n",
              "    <path d=\"M18.56 5.44l.94 2.06.94-2.06 2.06-.94-2.06-.94-.94-2.06-.94 2.06-2.06.94zm-11 1L8.5 8.5l.94-2.06 2.06-.94-2.06-.94L8.5 2.5l-.94 2.06-2.06.94zm10 10l.94 2.06.94-2.06 2.06-.94-2.06-.94-.94-2.06-.94 2.06-2.06.94z\"/><path d=\"M17.41 7.96l-1.37-1.37c-.4-.4-.92-.59-1.43-.59-.52 0-1.04.2-1.43.59L10.3 9.45l-7.72 7.72c-.78.78-.78 2.05 0 2.83L4 21.41c.39.39.9.59 1.41.59.51 0 1.02-.2 1.41-.59l7.78-7.78 2.81-2.81c.8-.78.8-2.07 0-2.86zM5.41 20L4 18.59l7.72-7.72 1.47 1.35L5.41 20z\"/>\n",
              "  </svg>\n",
              "      </button>\n",
              "      \n",
              "  <style>\n",
              "    .colab-df-container {\n",
              "      display:flex;\n",
              "      flex-wrap:wrap;\n",
              "      gap: 12px;\n",
              "    }\n",
              "\n",
              "    .colab-df-convert {\n",
              "      background-color: #E8F0FE;\n",
              "      border: none;\n",
              "      border-radius: 50%;\n",
              "      cursor: pointer;\n",
              "      display: none;\n",
              "      fill: #1967D2;\n",
              "      height: 32px;\n",
              "      padding: 0 0 0 0;\n",
              "      width: 32px;\n",
              "    }\n",
              "\n",
              "    .colab-df-convert:hover {\n",
              "      background-color: #E2EBFA;\n",
              "      box-shadow: 0px 1px 2px rgba(60, 64, 67, 0.3), 0px 1px 3px 1px rgba(60, 64, 67, 0.15);\n",
              "      fill: #174EA6;\n",
              "    }\n",
              "\n",
              "    [theme=dark] .colab-df-convert {\n",
              "      background-color: #3B4455;\n",
              "      fill: #D2E3FC;\n",
              "    }\n",
              "\n",
              "    [theme=dark] .colab-df-convert:hover {\n",
              "      background-color: #434B5C;\n",
              "      box-shadow: 0px 1px 3px 1px rgba(0, 0, 0, 0.15);\n",
              "      filter: drop-shadow(0px 1px 2px rgba(0, 0, 0, 0.3));\n",
              "      fill: #FFFFFF;\n",
              "    }\n",
              "  </style>\n",
              "\n",
              "      <script>\n",
              "        const buttonEl =\n",
              "          document.querySelector('#df-f5d91d36-17db-4b51-9dd4-a20c1bdb3310 button.colab-df-convert');\n",
              "        buttonEl.style.display =\n",
              "          google.colab.kernel.accessAllowed ? 'block' : 'none';\n",
              "\n",
              "        async function convertToInteractive(key) {\n",
              "          const element = document.querySelector('#df-f5d91d36-17db-4b51-9dd4-a20c1bdb3310');\n",
              "          const dataTable =\n",
              "            await google.colab.kernel.invokeFunction('convertToInteractive',\n",
              "                                                     [key], {});\n",
              "          if (!dataTable) return;\n",
              "\n",
              "          const docLinkHtml = 'Like what you see? Visit the ' +\n",
              "            '<a target=\"_blank\" href=https://colab.research.google.com/notebooks/data_table.ipynb>data table notebook</a>'\n",
              "            + ' to learn more about interactive tables.';\n",
              "          element.innerHTML = '';\n",
              "          dataTable['output_type'] = 'display_data';\n",
              "          await google.colab.output.renderOutput(dataTable, element);\n",
              "          const docLink = document.createElement('div');\n",
              "          docLink.innerHTML = docLinkHtml;\n",
              "          element.appendChild(docLink);\n",
              "        }\n",
              "      </script>\n",
              "    </div>\n",
              "  </div>\n",
              "  "
            ]
          },
          "metadata": {},
          "execution_count": 3
        }
      ],
      "source": [
        "df.head()"
      ]
    },
    {
      "cell_type": "markdown",
      "source": [
        "### Preparación de los datasets\n",
        "\n",
        "---"
      ],
      "metadata": {
        "id": "EJfy4bmhko-0"
      }
    },
    {
      "cell_type": "markdown",
      "metadata": {
        "id": "z9CA-H7PwIHg"
      },
      "source": [
        "Aplicamos los filtros necesarios que figuran en los requerimientos, y cambiamos el dtype de las fechas a DateTime. \n",
        "\n",
        "Por otro lado, determinamos tanto el modelo a entrenar como el que usaremos para realizar las predicciones."
      ]
    },
    {
      "cell_type": "code",
      "execution_count": 4,
      "metadata": {
        "colab": {
          "base_uri": "https://localhost:8080/"
        },
        "id": "LlgRrurjqerq",
        "outputId": "96c309c6-73b1-4805-b676-22ff29bd9c96"
      },
      "outputs": [
        {
          "output_type": "execute_result",
          "data": {
            "text/plain": [
              "['id',\n",
              " 'start_date',\n",
              " 'end_date',\n",
              " 'created_on',\n",
              " 'latitud',\n",
              " 'longitud',\n",
              " 'place_l2',\n",
              " 'place_l3',\n",
              " 'place_l4',\n",
              " 'place_l5',\n",
              " 'place_l6',\n",
              " 'operation',\n",
              " 'property_type',\n",
              " 'property_rooms',\n",
              " 'property_bedrooms',\n",
              " 'property_surface_total',\n",
              " 'property_surface_covered',\n",
              " 'property_price',\n",
              " 'property_currency',\n",
              " 'property_title']"
            ]
          },
          "metadata": {},
          "execution_count": 4
        }
      ],
      "source": [
        "df = df.loc[df['property_type'].isin([\"Casa\", \"PH\", \"Departamento\"])].loc[df['place_l2'].isin([\"Capital Federal\"])].loc[df['operation'].isin([\"Venta\"])].loc[df['property_currency'].isin([\"USD\"])]\n",
        "df['start_date']= pd.to_datetime(df['start_date'])\n",
        "df['created_on']= pd.to_datetime(df['created_on'])\n",
        "df.replace(to_replace=\"9999-12-31\", value=\"\", inplace=True)\n",
        "df['end_date']= pd.to_datetime(df['end_date'])\n",
        "\n",
        "train = df.sample(frac=0.8, random_state=200)\n",
        "test = df.drop(train.index)\n",
        "df.columns.tolist()"
      ]
    },
    {
      "cell_type": "markdown",
      "metadata": {
        "id": "vw_ttu65v1NY"
      },
      "source": [
        "### Descripción de Campos\n",
        "\n",
        "---"
      ]
    },
    {
      "cell_type": "markdown",
      "metadata": {
        "id": "RMXCPaAtmOZb"
      },
      "source": [
        "`id`: Identificador del aviso\n",
        "\n",
        "`start_date`: Fecha de alta del aviso\n",
        "\n",
        "`end_date`: Fecha de baja del aviso\n",
        "\n",
        "`created_on`: Fecha de alta de la primera versión del aviso\n",
        "\n",
        "`latitud`: Ubicación geográfica\n",
        "\n",
        "`longitud`: Ubicación geográfica\n",
        "\n",
        "`place_l2`: Nivel administrativo 2, usualmente provincia\n",
        "\n",
        "`place_l3`: Nivel administrativo 3, usualmente ciudad\n",
        "\n",
        "`place_l4`: Nivel administrativo 4, usualmente barrio\n",
        "\n",
        "`place_l5`: Nivel administrativo 5\n",
        "\n",
        "`place_l6`: Nivel administrativo 6\n",
        "\n",
        "`operation`: Tipo de operación (venta, alquiler)\n",
        "\n",
        "`property_type`: Tipo de propiedad (casa, departamento, ph)\n",
        "\n",
        "`property_rooms`: Cantidad de ambientes\n",
        "\n",
        "`property_bedrooms`: Cantidad de dormitorios\n",
        "\n",
        "`property_surface_total`: Superficie total en metros cuadrados\n",
        "\n",
        "`property_surface_covered`: Superficie cubierta en metros cuadrados\n",
        "\n",
        "`property_price`: Precio publicado en el anuncio\n",
        "\n",
        "`property_currency`: Moneda del precio publicado\n",
        "\n",
        "`property_title`: Título del anuncio"
      ]
    },
    {
      "cell_type": "markdown",
      "metadata": {
        "id": "hRDAhfItwo-E"
      },
      "source": [
        "### Variables Cuantitativas: Medidas de Resumen\n",
        "\n",
        "---"
      ]
    },
    {
      "cell_type": "markdown",
      "metadata": {
        "id": "AIfeq7wxwuSO"
      },
      "source": [
        "Calculamos, para la totalidad de las variables que nos brinda el dataset:\n",
        "- media\n",
        "- mediana\n",
        "- q1\n",
        "- q3 \n",
        "- moda"
      ]
    },
    {
      "cell_type": "code",
      "execution_count": 5,
      "metadata": {
        "colab": {
          "base_uri": "https://localhost:8080/",
          "height": 0
        },
        "id": "roa6hM62oTVv",
        "outputId": "fa0e1804-0780-4ec7-9232-db95cb2de6ed"
      },
      "outputs": [
        {
          "output_type": "execute_result",
          "data": {
            "text/plain": [
              "          latitud   longitud  place_l5  place_l6  property_rooms  \\\n",
              "mean   -34.591481 -58.449795       NaN       NaN        2.822799   \n",
              "25%    -34.615975 -58.466522       NaN       NaN        2.000000   \n",
              "75%    -34.577413 -58.408862       NaN       NaN        4.000000   \n",
              "std      0.181719   0.292630       NaN       NaN        1.426148   \n",
              "median -34.595790 -58.439000       NaN       NaN        3.000000   \n",
              "\n",
              "        property_bedrooms  property_surface_total  property_surface_covered  \\\n",
              "mean             2.014629              109.092970                 87.931932   \n",
              "25%              1.000000               45.000000                 40.000000   \n",
              "75%              3.000000              105.000000                 88.000000   \n",
              "std              1.129767              980.401976                990.927129   \n",
              "median           2.000000               65.000000                 58.000000   \n",
              "\n",
              "        property_price  \n",
              "mean     226238.207185  \n",
              "25%       95000.000000  \n",
              "75%      237000.000000  \n",
              "std      318603.483648  \n",
              "median   143900.000000  "
            ],
            "text/html": [
              "\n",
              "  <div id=\"df-f72730e3-daff-4455-824d-4e42c90174e5\">\n",
              "    <div class=\"colab-df-container\">\n",
              "      <div>\n",
              "<style scoped>\n",
              "    .dataframe tbody tr th:only-of-type {\n",
              "        vertical-align: middle;\n",
              "    }\n",
              "\n",
              "    .dataframe tbody tr th {\n",
              "        vertical-align: top;\n",
              "    }\n",
              "\n",
              "    .dataframe thead th {\n",
              "        text-align: right;\n",
              "    }\n",
              "</style>\n",
              "<table border=\"1\" class=\"dataframe\">\n",
              "  <thead>\n",
              "    <tr style=\"text-align: right;\">\n",
              "      <th></th>\n",
              "      <th>latitud</th>\n",
              "      <th>longitud</th>\n",
              "      <th>place_l5</th>\n",
              "      <th>place_l6</th>\n",
              "      <th>property_rooms</th>\n",
              "      <th>property_bedrooms</th>\n",
              "      <th>property_surface_total</th>\n",
              "      <th>property_surface_covered</th>\n",
              "      <th>property_price</th>\n",
              "    </tr>\n",
              "  </thead>\n",
              "  <tbody>\n",
              "    <tr>\n",
              "      <th>mean</th>\n",
              "      <td>-34.591481</td>\n",
              "      <td>-58.449795</td>\n",
              "      <td>NaN</td>\n",
              "      <td>NaN</td>\n",
              "      <td>2.822799</td>\n",
              "      <td>2.014629</td>\n",
              "      <td>109.092970</td>\n",
              "      <td>87.931932</td>\n",
              "      <td>226238.207185</td>\n",
              "    </tr>\n",
              "    <tr>\n",
              "      <th>25%</th>\n",
              "      <td>-34.615975</td>\n",
              "      <td>-58.466522</td>\n",
              "      <td>NaN</td>\n",
              "      <td>NaN</td>\n",
              "      <td>2.000000</td>\n",
              "      <td>1.000000</td>\n",
              "      <td>45.000000</td>\n",
              "      <td>40.000000</td>\n",
              "      <td>95000.000000</td>\n",
              "    </tr>\n",
              "    <tr>\n",
              "      <th>75%</th>\n",
              "      <td>-34.577413</td>\n",
              "      <td>-58.408862</td>\n",
              "      <td>NaN</td>\n",
              "      <td>NaN</td>\n",
              "      <td>4.000000</td>\n",
              "      <td>3.000000</td>\n",
              "      <td>105.000000</td>\n",
              "      <td>88.000000</td>\n",
              "      <td>237000.000000</td>\n",
              "    </tr>\n",
              "    <tr>\n",
              "      <th>std</th>\n",
              "      <td>0.181719</td>\n",
              "      <td>0.292630</td>\n",
              "      <td>NaN</td>\n",
              "      <td>NaN</td>\n",
              "      <td>1.426148</td>\n",
              "      <td>1.129767</td>\n",
              "      <td>980.401976</td>\n",
              "      <td>990.927129</td>\n",
              "      <td>318603.483648</td>\n",
              "    </tr>\n",
              "    <tr>\n",
              "      <th>median</th>\n",
              "      <td>-34.595790</td>\n",
              "      <td>-58.439000</td>\n",
              "      <td>NaN</td>\n",
              "      <td>NaN</td>\n",
              "      <td>3.000000</td>\n",
              "      <td>2.000000</td>\n",
              "      <td>65.000000</td>\n",
              "      <td>58.000000</td>\n",
              "      <td>143900.000000</td>\n",
              "    </tr>\n",
              "  </tbody>\n",
              "</table>\n",
              "</div>\n",
              "      <button class=\"colab-df-convert\" onclick=\"convertToInteractive('df-f72730e3-daff-4455-824d-4e42c90174e5')\"\n",
              "              title=\"Convert this dataframe to an interactive table.\"\n",
              "              style=\"display:none;\">\n",
              "        \n",
              "  <svg xmlns=\"http://www.w3.org/2000/svg\" height=\"24px\"viewBox=\"0 0 24 24\"\n",
              "       width=\"24px\">\n",
              "    <path d=\"M0 0h24v24H0V0z\" fill=\"none\"/>\n",
              "    <path d=\"M18.56 5.44l.94 2.06.94-2.06 2.06-.94-2.06-.94-.94-2.06-.94 2.06-2.06.94zm-11 1L8.5 8.5l.94-2.06 2.06-.94-2.06-.94L8.5 2.5l-.94 2.06-2.06.94zm10 10l.94 2.06.94-2.06 2.06-.94-2.06-.94-.94-2.06-.94 2.06-2.06.94z\"/><path d=\"M17.41 7.96l-1.37-1.37c-.4-.4-.92-.59-1.43-.59-.52 0-1.04.2-1.43.59L10.3 9.45l-7.72 7.72c-.78.78-.78 2.05 0 2.83L4 21.41c.39.39.9.59 1.41.59.51 0 1.02-.2 1.41-.59l7.78-7.78 2.81-2.81c.8-.78.8-2.07 0-2.86zM5.41 20L4 18.59l7.72-7.72 1.47 1.35L5.41 20z\"/>\n",
              "  </svg>\n",
              "      </button>\n",
              "      \n",
              "  <style>\n",
              "    .colab-df-container {\n",
              "      display:flex;\n",
              "      flex-wrap:wrap;\n",
              "      gap: 12px;\n",
              "    }\n",
              "\n",
              "    .colab-df-convert {\n",
              "      background-color: #E8F0FE;\n",
              "      border: none;\n",
              "      border-radius: 50%;\n",
              "      cursor: pointer;\n",
              "      display: none;\n",
              "      fill: #1967D2;\n",
              "      height: 32px;\n",
              "      padding: 0 0 0 0;\n",
              "      width: 32px;\n",
              "    }\n",
              "\n",
              "    .colab-df-convert:hover {\n",
              "      background-color: #E2EBFA;\n",
              "      box-shadow: 0px 1px 2px rgba(60, 64, 67, 0.3), 0px 1px 3px 1px rgba(60, 64, 67, 0.15);\n",
              "      fill: #174EA6;\n",
              "    }\n",
              "\n",
              "    [theme=dark] .colab-df-convert {\n",
              "      background-color: #3B4455;\n",
              "      fill: #D2E3FC;\n",
              "    }\n",
              "\n",
              "    [theme=dark] .colab-df-convert:hover {\n",
              "      background-color: #434B5C;\n",
              "      box-shadow: 0px 1px 3px 1px rgba(0, 0, 0, 0.15);\n",
              "      filter: drop-shadow(0px 1px 2px rgba(0, 0, 0, 0.3));\n",
              "      fill: #FFFFFF;\n",
              "    }\n",
              "  </style>\n",
              "\n",
              "      <script>\n",
              "        const buttonEl =\n",
              "          document.querySelector('#df-f72730e3-daff-4455-824d-4e42c90174e5 button.colab-df-convert');\n",
              "        buttonEl.style.display =\n",
              "          google.colab.kernel.accessAllowed ? 'block' : 'none';\n",
              "\n",
              "        async function convertToInteractive(key) {\n",
              "          const element = document.querySelector('#df-f72730e3-daff-4455-824d-4e42c90174e5');\n",
              "          const dataTable =\n",
              "            await google.colab.kernel.invokeFunction('convertToInteractive',\n",
              "                                                     [key], {});\n",
              "          if (!dataTable) return;\n",
              "\n",
              "          const docLinkHtml = 'Like what you see? Visit the ' +\n",
              "            '<a target=\"_blank\" href=https://colab.research.google.com/notebooks/data_table.ipynb>data table notebook</a>'\n",
              "            + ' to learn more about interactive tables.';\n",
              "          element.innerHTML = '';\n",
              "          dataTable['output_type'] = 'display_data';\n",
              "          await google.colab.output.renderOutput(dataTable, element);\n",
              "          const docLink = document.createElement('div');\n",
              "          docLink.innerHTML = docLinkHtml;\n",
              "          element.appendChild(docLink);\n",
              "        }\n",
              "      </script>\n",
              "    </div>\n",
              "  </div>\n",
              "  "
            ]
          },
          "metadata": {},
          "execution_count": 5
        }
      ],
      "source": [
        "df.describe().loc[['mean', '25%', '75%', 'std']].append(df.median().rename(\"median\"))"
      ]
    },
    {
      "cell_type": "markdown",
      "metadata": {
        "id": "Gr9usESkxJ6D"
      },
      "source": [
        "### Variables Cualitativas: Cantidades y Frecuencias\n",
        "\n",
        "---"
      ]
    },
    {
      "cell_type": "markdown",
      "source": [
        "Realizamos, para las variables `place_l3`, `place_l4` y `property_type` un cálculo de los diferentes valores así también como sus respectivas frecuencias."
      ],
      "metadata": {
        "id": "P2KWW-GIk9GQ"
      }
    },
    {
      "cell_type": "code",
      "execution_count": 6,
      "metadata": {
        "colab": {
          "base_uri": "https://localhost:8080/"
        },
        "id": "TAlhDGhz2RZd",
        "outputId": "09114e17-1dbb-4b4d-b3aa-02c8ca83af44"
      },
      "outputs": [
        {
          "output_type": "stream",
          "name": "stdout",
          "text": [
            "place_l3 tiene 57 valores diferentes\n"
          ]
        }
      ],
      "source": [
        "print(f\"place_l3 tiene {df.nunique()['place_l3']} valores diferentes\")"
      ]
    },
    {
      "cell_type": "code",
      "execution_count": 7,
      "metadata": {
        "colab": {
          "base_uri": "https://localhost:8080/",
          "height": 0
        },
        "id": "w4pZdqx3yzjl",
        "outputId": "c9c58f5a-6da8-4a07-bf04-5af5843ca111"
      },
      "outputs": [
        {
          "output_type": "execute_result",
          "data": {
            "text/plain": [
              "<matplotlib.axes._subplots.AxesSubplot at 0x7f78742bfcd0>"
            ]
          },
          "metadata": {},
          "execution_count": 7
        },
        {
          "output_type": "display_data",
          "data": {
            "text/plain": [
              "<Figure size 1080x576 with 1 Axes>"
            ],
            "image/png": "[encoded data removed]"
          },
          "metadata": {
            "needs_background": "light"
          }
        }
      ],
      "source": [
        "fig, ax = plt.subplots()\n",
        "df['place_l3'].value_counts().plot(ax=ax, kind='bar', figsize=(15,8), fontsize=12)"
      ]
    },
    {
      "cell_type": "code",
      "execution_count": 8,
      "metadata": {
        "colab": {
          "base_uri": "https://localhost:8080/"
        },
        "id": "u0NU6YMi2UhW",
        "outputId": "10b916ea-8eef-445e-fbe8-673e7422f4a6"
      },
      "outputs": [
        {
          "output_type": "stream",
          "name": "stdout",
          "text": [
            "place_l4 tiene 4 valores diferentes\n"
          ]
        }
      ],
      "source": [
        "print(f\"place_l4 tiene {df.nunique()['place_l4']} valores diferentes\")"
      ]
    },
    {
      "cell_type": "code",
      "execution_count": 9,
      "metadata": {
        "colab": {
          "base_uri": "https://localhost:8080/",
          "height": 0
        },
        "id": "FMlRKspx1RLH",
        "outputId": "d9bb20fa-6315-4960-b13d-8addeb8d7490"
      },
      "outputs": [
        {
          "output_type": "execute_result",
          "data": {
            "text/plain": [
              "<matplotlib.axes._subplots.AxesSubplot at 0x7f7873ba9d50>"
            ]
          },
          "metadata": {},
          "execution_count": 9
        },
        {
          "output_type": "display_data",
          "data": {
            "text/plain": [
              "<Figure size 432x288 with 1 Axes>"
            ],
            "image/png": "[encoded data removed]"
          },
          "metadata": {
            "needs_background": "light"
          }
        }
      ],
      "source": [
        "df['place_l4'].hist()"
      ]
    },
    {
      "cell_type": "code",
      "execution_count": 10,
      "metadata": {
        "colab": {
          "base_uri": "https://localhost:8080/",
          "height": 0
        },
        "id": "QM7Edif4ztMO",
        "outputId": "296b8a05-e01f-4ea8-b0f0-c25fa8cf2dd2"
      },
      "outputs": [
        {
          "output_type": "execute_result",
          "data": {
            "text/plain": [
              "<matplotlib.axes._subplots.AxesSubplot at 0x7f78740f2ad0>"
            ]
          },
          "metadata": {},
          "execution_count": 10
        },
        {
          "output_type": "display_data",
          "data": {
            "text/plain": [
              "<Figure size 432x288 with 1 Axes>"
            ],
            "image/png": "[encoded data removed]"
          },
          "metadata": {
            "needs_background": "light"
          }
        }
      ],
      "source": [
        "df['property_type'].hist()"
      ]
    },
    {
      "cell_type": "code",
      "execution_count": 11,
      "metadata": {
        "colab": {
          "base_uri": "https://localhost:8080/"
        },
        "id": "Q66WQYjz2Xok",
        "outputId": "af986e06-7f71-4205-b94a-18773468f520"
      },
      "outputs": [
        {
          "output_type": "stream",
          "name": "stdout",
          "text": [
            "property_type tiene 3 valores diferentes\n"
          ]
        }
      ],
      "source": [
        "print(f\"property_type tiene {df.nunique()['property_type']} valores diferentes\")"
      ]
    },
    {
      "cell_type": "markdown",
      "metadata": {
        "id": "4bQXzkhg4ipf"
      },
      "source": [
        "### Determinación de Variables Irrelevantes\n",
        "\n",
        "---"
      ]
    },
    {
      "cell_type": "markdown",
      "metadata": {
        "id": "OihHviLu2dV7"
      },
      "source": [
        "Finalmente, podremos decir que dejamos fuera de este análisis particular a las a las siguientes variables que detallamos a continuación:\n",
        "\n",
        "- `operation`: Sólo hay un tipo de operación según lo solicitado en la consigna y es \"Venta\", con lo cual la consideramos irrelevante en el análisis.\n",
        "- `property_currency`: Sólo hay un tipo de cambio según lo solicitado en la consigna y es \"USD\", con lo cual la consideramos irrelevante en el análisis.\n",
        "- `place_l5`: De analizar previamente el dataset con el cual estamos trabajando, detectamos que la columna en cuestión se encuentra vacía, con lo cual la consideramos irrelevante en el análisis.\n",
        "- `place_l6`: De analizar previamente el dataset con el cual estamos trabajando, detectamos que la columna en cuestión se encuentra vacía, con lo cual la consideramos irrelevante en el análisis.\n",
        "- `property_title`: De conocer previamente la información que contiene el dataset, sabemos que la variable en cuestión almacena un único título por publicación, con lo cual la consideramos irrelevante en el análisis."
      ]
    },
    {
      "cell_type": "markdown",
      "metadata": {
        "id": "qvKggsaWB3Y9"
      },
      "source": [
        "### Análisis Gráfico de las Distribuciones de las Variables\n",
        "\n",
        "---\n",
        "\n"
      ]
    },
    {
      "cell_type": "markdown",
      "metadata": {
        "id": "CwrHylmo4v5W"
      },
      "source": [
        "#### Densidad de la variable `latitud`"
      ]
    },
    {
      "cell_type": "code",
      "execution_count": 12,
      "metadata": {
        "colab": {
          "base_uri": "https://localhost:8080/",
          "height": 0
        },
        "id": "hR9T5l7EB2yj",
        "outputId": "a6c46ce9-46f4-43bd-aeb9-1341500e1dbf"
      },
      "outputs": [
        {
          "output_type": "execute_result",
          "data": {
            "text/plain": [
              "<matplotlib.axes._subplots.AxesSubplot at 0x7f7873ac6290>"
            ]
          },
          "metadata": {},
          "execution_count": 12
        },
        {
          "output_type": "display_data",
          "data": {
            "text/plain": [
              "<Figure size 432x288 with 1 Axes>"
            ],
            "image/png": "[encoded data removed]"
          },
          "metadata": {
            "needs_background": "light"
          }
        }
      ],
      "source": [
        "#grf = df['latitud'].plot.kde(title=\"Densidad variable Start date\",xlabel=\"x\",ylabel=\"y\").xlim(-10, 10)\n",
        "#sns.displot(df.latitud, hist=False, kde_kws={'clip': (-10.0, 10.0)})\n",
        "# ver despues de machearlas con los property_types \n",
        "sns.kdeplot(data=df.latitud, gridsize=70)"
      ]
    },
    {
      "cell_type": "markdown",
      "metadata": {
        "id": "uvKB4TpJ40N3"
      },
      "source": [
        "#### Densidad de la variable `longitud`"
      ]
    },
    {
      "cell_type": "code",
      "execution_count": 13,
      "metadata": {
        "colab": {
          "base_uri": "https://localhost:8080/",
          "height": 0
        },
        "id": "E7CNCSjBOklg",
        "outputId": "7e2976c5-80c6-445c-d752-5fa51c66dc1b"
      },
      "outputs": [
        {
          "output_type": "execute_result",
          "data": {
            "text/plain": [
              "<matplotlib.axes._subplots.AxesSubplot at 0x7f7873a8f5d0>"
            ]
          },
          "metadata": {},
          "execution_count": 13
        },
        {
          "output_type": "display_data",
          "data": {
            "text/plain": [
              "<Figure size 432x288 with 1 Axes>"
            ],
            "image/png": "[encoded data removed]"
          },
          "metadata": {
            "needs_background": "light"
          }
        }
      ],
      "source": [
        "sns.kdeplot(data=df.longitud, gridsize=30)\n"
      ]
    },
    {
      "cell_type": "markdown",
      "metadata": {
        "id": "uJY4CRZl5J5k"
      },
      "source": [
        "#### Densidad de la variable `property_price`"
      ]
    },
    {
      "cell_type": "code",
      "execution_count": 14,
      "metadata": {
        "colab": {
          "base_uri": "https://localhost:8080/",
          "height": 0
        },
        "id": "HcH2_gnOOmh3",
        "outputId": "68b4f531-4102-43e4-ca36-77aa1cd7a51a"
      },
      "outputs": [
        {
          "output_type": "execute_result",
          "data": {
            "text/plain": [
              "<matplotlib.axes._subplots.AxesSubplot at 0x7f7873a2f850>"
            ]
          },
          "metadata": {},
          "execution_count": 14
        },
        {
          "output_type": "display_data",
          "data": {
            "text/plain": [
              "<Figure size 432x288 with 1 Axes>"
            ],
            "image/png": "[encoded data removed]"
          },
          "metadata": {
            "needs_background": "light"
          }
        }
      ],
      "source": [
        "sns.kdeplot(data=df.property_price, gridsize=15)\n"
      ]
    },
    {
      "cell_type": "markdown",
      "metadata": {
        "id": "okhaOan15OYp"
      },
      "source": [
        "#### Densidad de la variable `property_rooms`"
      ]
    },
    {
      "cell_type": "code",
      "execution_count": 15,
      "metadata": {
        "colab": {
          "base_uri": "https://localhost:8080/",
          "height": 0
        },
        "id": "9h2fzjdCPYXK",
        "outputId": "29e40cb9-f250-4b57-d701-366a5bccdfe4"
      },
      "outputs": [
        {
          "output_type": "execute_result",
          "data": {
            "text/plain": [
              "<matplotlib.axes._subplots.AxesSubplot at 0x7f78739eae50>"
            ]
          },
          "metadata": {},
          "execution_count": 15
        },
        {
          "output_type": "display_data",
          "data": {
            "text/plain": [
              "<Figure size 432x288 with 1 Axes>"
            ],
            "image/png": "[encoded data removed]"
          },
          "metadata": {
            "needs_background": "light"
          }
        }
      ],
      "source": [
        "sns.countplot(x=df['property_rooms'].dropna().astype('int32'))"
      ]
    },
    {
      "cell_type": "markdown",
      "metadata": {
        "id": "2eCIdUAH5S7v"
      },
      "source": [
        "#### Densidad de la variable `property_surface_covered`"
      ]
    },
    {
      "cell_type": "code",
      "execution_count": 16,
      "metadata": {
        "colab": {
          "base_uri": "https://localhost:8080/",
          "height": 0
        },
        "id": "85vZd9YQO-jP",
        "outputId": "32182e35-0d72-4921-ff3d-2b1b38b4024e"
      },
      "outputs": [
        {
          "output_type": "execute_result",
          "data": {
            "text/plain": [
              "<matplotlib.axes._subplots.AxesSubplot at 0x7f78738de890>"
            ]
          },
          "metadata": {},
          "execution_count": 16
        },
        {
          "output_type": "display_data",
          "data": {
            "text/plain": [
              "<Figure size 432x288 with 1 Axes>"
            ],
            "image/png": "[encoded data removed]"
          },
          "metadata": {
            "needs_background": "light"
          }
        }
      ],
      "source": [
        "sns.kdeplot(data=df.property_surface_covered, gridsize=20)\n"
      ]
    },
    {
      "cell_type": "markdown",
      "metadata": {
        "id": "a2UxzMy1Byn_"
      },
      "source": [
        "### Análisis de las Correlaciones existentes entre las Variables\n",
        "\n",
        "---"
      ]
    },
    {
      "cell_type": "code",
      "execution_count": 17,
      "metadata": {
        "id": "ZKjqGi6LkZku"
      },
      "outputs": [],
      "source": [
        "df.drop([\"place_l5\", \"place_l6\"], axis = 1, inplace = True)"
      ]
    },
    {
      "cell_type": "code",
      "execution_count": 18,
      "metadata": {
        "id": "DHSQHXNUXKLb"
      },
      "outputs": [],
      "source": [
        "#columns = df.columns.tolist()\n",
        "#df_pariplot = df[columns].copy()\n",
        "#graf_pairplot = sns.pairplot(data=df_pariplot, hue=\"property_type\", palette=[\"r\", \"g\", \"b\"])"
      ]
    },
    {
      "cell_type": "markdown",
      "source": [
        "## **1b. Datos Faltantes**"
      ],
      "metadata": {
        "id": "spbOuJjNlmFq"
      }
    },
    {
      "cell_type": "markdown",
      "metadata": {
        "id": "np2LPbxuu6B4"
      },
      "source": [
        "A continuación se realizara un análisis sobre los datos faltantes del dataframe."
      ]
    },
    {
      "cell_type": "markdown",
      "metadata": {
        "id": "Q4IEPQPQesHo"
      },
      "source": [
        "Creamos una copia del dataset hasta el momento para comprar más adelante."
      ]
    },
    {
      "cell_type": "code",
      "execution_count": 19,
      "metadata": {
        "id": "3xELARLUesHo"
      },
      "outputs": [],
      "source": [
        "df_copy = df.copy()"
      ]
    },
    {
      "cell_type": "markdown",
      "metadata": {
        "id": "lbfYKgJs9f1f"
      },
      "source": [
        "### Análisis a Nivel Columna\n",
        "\n",
        "---\n",
        "\n"
      ]
    },
    {
      "cell_type": "markdown",
      "metadata": {
        "id": "hq7Ta0_-_zao"
      },
      "source": [
        "Graficamos, para cada variable, el porcentaje (diferente de cero) de datos faltantes con respecto al total del dataset en escala logarítmica."
      ]
    },
    {
      "cell_type": "code",
      "execution_count": 20,
      "metadata": {
        "colab": {
          "base_uri": "https://localhost:8080/",
          "height": 0
        },
        "id": "jW7CezP1_JS6",
        "outputId": "29bde6c9-5637-48cb-96d6-113d09912aa3"
      },
      "outputs": [
        {
          "output_type": "execute_result",
          "data": {
            "text/plain": [
              "<matplotlib.axes._subplots.AxesSubplot at 0x7f787404fe50>"
            ]
          },
          "metadata": {},
          "execution_count": 20
        },
        {
          "output_type": "display_data",
          "data": {
            "text/plain": [
              "<Figure size 432x288 with 1 Axes>"
            ],
            "image/png": "[encoded data removed]"
          },
          "metadata": {
            "needs_background": "light"
          }
        }
      ],
      "source": [
        "fig, ax = plt.subplots()\n",
        "ax.set_yscale('log')\n",
        "ax.yaxis.set_major_formatter(PercentFormatter())\n",
        "(df.isnull().sum() * 100 / len(df)).replace(0,np.nan).dropna(axis=0,how=\"all\").plot(ax=ax, kind='bar')"
      ]
    },
    {
      "cell_type": "markdown",
      "metadata": {
        "id": "DbhApc81_7dM"
      },
      "source": [
        "### Análisis a Nivel Fila\n",
        "\n",
        "---\n",
        "\n"
      ]
    },
    {
      "cell_type": "markdown",
      "metadata": {
        "id": "jheKR6Asj0ua"
      },
      "source": [
        "Graficamos el porcentaje de filas con n datos faltantes con respecto al total del dataset."
      ]
    },
    {
      "cell_type": "code",
      "execution_count": 21,
      "metadata": {
        "colab": {
          "base_uri": "https://localhost:8080/",
          "height": 0
        },
        "id": "uMghBTBKA0WZ",
        "outputId": "64c29340-c819-493f-94b9-9fa7f77ffa27"
      },
      "outputs": [
        {
          "output_type": "execute_result",
          "data": {
            "text/plain": [
              "<matplotlib.axes._subplots.AxesSubplot at 0x7f78737e6310>"
            ]
          },
          "metadata": {},
          "execution_count": 21
        },
        {
          "output_type": "display_data",
          "data": {
            "text/plain": [
              "<Figure size 432x288 with 1 Axes>"
            ],
            "image/png": "[encoded data removed]"
          },
          "metadata": {
            "needs_background": "light"
          }
        }
      ],
      "source": [
        "fig, ax = plt.subplots()\n",
        "ax.set_yscale('log')\n",
        "ax.yaxis.set_major_formatter(PercentFormatter(decimals=3))\n",
        "(df.isnull().sum(axis=1).value_counts().sort_index() * 100 / len(df)).plot(ax=ax, kind='bar')"
      ]
    },
    {
      "cell_type": "markdown",
      "metadata": {
        "id": "0q6ERteJjxdz"
      },
      "source": [
        "### Reparación de Valores Faltantes\n",
        "\n",
        "---\n",
        "\n"
      ]
    },
    {
      "cell_type": "markdown",
      "metadata": {
        "id": "K89jrcMrkaiu"
      },
      "source": [
        "A continuación se detallan posibles estrategias para reparar los valores faltantes del dataset."
      ]
    },
    {
      "cell_type": "markdown",
      "metadata": {
        "id": "hEATXRqcXcT3"
      },
      "source": [
        "Reemplazamos las locaciones no definidas por el nivel superior"
      ]
    },
    {
      "cell_type": "code",
      "execution_count": 22,
      "metadata": {
        "id": "aIx-73J1XcT3"
      },
      "outputs": [],
      "source": [
        "df.place_l3.fillna(df.place_l2, inplace=True)\n",
        "df.place_l4.fillna(df.place_l3, inplace=True)"
      ]
    },
    {
      "cell_type": "markdown",
      "metadata": {
        "id": "k7akSY6CXcT3"
      },
      "source": [
        "Reemplazamos la cantidad de dormitorios no definidos por la media calculada filtrando por cantidad total de habitaciones.\n"
      ]
    },
    {
      "cell_type": "code",
      "execution_count": 23,
      "metadata": {
        "id": "-IZkF60XXcT3"
      },
      "outputs": [],
      "source": [
        "cant = df.loc[(df['property_bedrooms'].isna()) & (df['property_rooms'].notna())].property_rooms.value_counts().index.values\n",
        "\n",
        "for i in cant:\n",
        "    median = df.loc[(df['property_bedrooms'].notna()) & (df['property_rooms'] == i)].property_bedrooms.median()\n",
        "    df.loc[(df['property_bedrooms'].isna()) & (df[\"property_rooms\"] == i), \"property_bedrooms\"] = df.loc[(df['property_bedrooms'].isna()) & (df[\"property_rooms\"] == i), \"property_bedrooms\"].fillna(median)\n"
      ]
    },
    {
      "cell_type": "markdown",
      "metadata": {
        "id": "Fb7BxQmYXcT4"
      },
      "source": [
        "Luego reemplazamos la cantidad total de habitaciones no definidas por la media calculada filtrando por cantidad de dormitorios.\n",
        "\n",
        "Esto redujo el porcentaje de valores no definidos para los dormitorios y habitaciones a menos de 1%, desde 10% y 1,5% respectivamente."
      ]
    },
    {
      "cell_type": "code",
      "execution_count": 24,
      "metadata": {
        "colab": {
          "base_uri": "https://localhost:8080/",
          "height": 0
        },
        "id": "Su6ZSNH2XcT4",
        "outputId": "1f87d6f4-875a-4d16-d7b0-b33fcc48fdec",
        "scrolled": false
      },
      "outputs": [
        {
          "output_type": "execute_result",
          "data": {
            "text/plain": [
              "<matplotlib.axes._subplots.AxesSubplot at 0x7f7870e19810>"
            ]
          },
          "metadata": {},
          "execution_count": 24
        },
        {
          "output_type": "display_data",
          "data": {
            "text/plain": [
              "<Figure size 432x288 with 1 Axes>"
            ],
            "image/png": "[encoded data removed]"
          },
          "metadata": {
            "needs_background": "light"
          }
        }
      ],
      "source": [
        "cant = df.loc[(df['property_rooms'].isna()) & (df['property_bedrooms'].notna())].property_bedrooms.value_counts().index.values\n",
        "\n",
        "for i in cant:\n",
        "    median = df.loc[(df['property_rooms'].notna()) & (df['property_bedrooms'] == i)].property_rooms.median()\n",
        "    df.loc[(df['property_rooms'].isna()) & (df[\"property_bedrooms\"] == i), \"property_rooms\"] = df.loc[(df['property_rooms'].isna()) & (df[\"property_bedrooms\"] == i), \"property_rooms\"].fillna(median)\n",
        "    \n",
        "fig, ax = plt.subplots()\n",
        "ax.yaxis.set_major_formatter(PercentFormatter())\n",
        "(df.isnull().sum() * 100 / len(df)).replace(0,np.nan).dropna(axis=0,how=\"all\").plot(ax=ax, kind='bar')\n"
      ]
    },
    {
      "cell_type": "markdown",
      "metadata": {
        "id": "jO4Y_Ib7XcT4"
      },
      "source": [
        "Cuando se tiene la superficie total pero no la cubierta o viceversa, reemplazamos los valores faltantes con su contraparte"
      ]
    },
    {
      "cell_type": "code",
      "execution_count": 25,
      "metadata": {
        "colab": {
          "base_uri": "https://localhost:8080/",
          "height": 0
        },
        "id": "_WzR-_KPXcT4",
        "outputId": "e854f18f-b1c6-402a-c83a-b24e5f9d863a",
        "scrolled": false
      },
      "outputs": [
        {
          "output_type": "execute_result",
          "data": {
            "text/plain": [
              "<matplotlib.axes._subplots.AxesSubplot at 0x7f7870d60410>"
            ]
          },
          "metadata": {},
          "execution_count": 25
        },
        {
          "output_type": "display_data",
          "data": {
            "text/plain": [
              "<Figure size 432x288 with 1 Axes>"
            ],
            "image/png": "[encoded data removed]"
          },
          "metadata": {
            "needs_background": "light"
          }
        }
      ],
      "source": [
        "df.property_surface_total.fillna(df.property_surface_covered, inplace=True)\n",
        "df.property_surface_covered.fillna(df.property_surface_total, inplace=True)\n",
        "\n",
        "fig, ax = plt.subplots()\n",
        "ax.yaxis.set_major_formatter(PercentFormatter())\n",
        "(df.isnull().sum() * 100 / len(df)).replace(0,np.nan).dropna(axis=0,how=\"all\").plot(ax=ax, kind='bar')"
      ]
    },
    {
      "cell_type": "code",
      "execution_count": 26,
      "metadata": {
        "colab": {
          "base_uri": "https://localhost:8080/",
          "height": 0
        },
        "id": "KLVPdUGHesHr",
        "outputId": "323c33b0-97b9-42f9-f41c-aa4f07f31990"
      },
      "outputs": [
        {
          "output_type": "execute_result",
          "data": {
            "text/plain": [
              "<matplotlib.axes._subplots.AxesSubplot at 0x7f7870ccefd0>"
            ]
          },
          "metadata": {},
          "execution_count": 26
        },
        {
          "output_type": "display_data",
          "data": {
            "text/plain": [
              "<Figure size 432x288 with 1 Axes>"
            ],
            "image/png": "[encoded data removed]"
          },
          "metadata": {
            "needs_background": "light"
          }
        }
      ],
      "source": [
        "df.loc[df[\"place_l4\"] == \"Palermo\"].latitud.plot.density(color = \"red\")\n",
        "for barrio in df[\"place_l4\"].unique() :\n",
        "    lat_median = df.loc[(df[\"place_l4\"] == barrio) & (df['latitud'].notna()) ].latitud.median()\n",
        "    df.loc[(df[\"place_l4\"] == barrio) & (df['latitud'].isna()), \"latitud\"] = df.loc[(df[\"place_l4\"] == barrio) & (df['latitud'].isna()), \"latitud\"].fillna(lat_median)\n",
        "\n",
        "df.loc[df[\"place_l4\"] == \"Palermo\"].latitud.plot.density(color = \"green\")"
      ]
    },
    {
      "cell_type": "code",
      "execution_count": 27,
      "metadata": {
        "scrolled": true,
        "colab": {
          "base_uri": "https://localhost:8080/",
          "height": 0
        },
        "id": "ygwyi2eFesHr",
        "outputId": "03240854-d45f-4e01-97fe-c466a12b7364"
      },
      "outputs": [
        {
          "output_type": "execute_result",
          "data": {
            "text/plain": [
              "<matplotlib.axes._subplots.AxesSubplot at 0x7f7870c41310>"
            ]
          },
          "metadata": {},
          "execution_count": 27
        },
        {
          "output_type": "display_data",
          "data": {
            "text/plain": [
              "<Figure size 432x288 with 1 Axes>"
            ],
            "image/png": "[encoded data removed]"
          },
          "metadata": {
            "needs_background": "light"
          }
        }
      ],
      "source": [
        "df.loc[df[\"place_l4\"] == \"Palermo\"].longitud.plot.density(color = \"red\")\n",
        "for barrio in df[\"place_l4\"].unique() :\n",
        "    long_median = df.loc[(df[\"place_l4\"] == barrio) & (df['longitud'].notna())].longitud.median()\n",
        "    df.loc[(df[\"place_l4\"] == barrio) & (df['longitud'].isna()), \"longitud\"] = df.loc[(df[\"place_l4\"] == barrio) & (df['longitud'].isna()), \"longitud\"].fillna(long_median)\n",
        "    \n",
        "df.loc[df[\"place_l4\"] == \"Palermo\"].longitud.plot.density(color = \"green\")"
      ]
    },
    {
      "cell_type": "code",
      "execution_count": 28,
      "metadata": {
        "colab": {
          "base_uri": "https://localhost:8080/",
          "height": 0
        },
        "id": "zZbi7wSnesHs",
        "outputId": "d18133d2-6035-4079-f1a9-1f4fa06555a1"
      },
      "outputs": [
        {
          "output_type": "execute_result",
          "data": {
            "text/plain": [
              "<matplotlib.axes._subplots.AxesSubplot at 0x7f7870bab0d0>"
            ]
          },
          "metadata": {},
          "execution_count": 28
        },
        {
          "output_type": "display_data",
          "data": {
            "text/plain": [
              "<Figure size 432x288 with 1 Axes>"
            ],
            "image/png": "[encoded data removed]"
          },
          "metadata": {
            "needs_background": "light"
          }
        }
      ],
      "source": [
        "fig, ax = plt.subplots()\n",
        "ax.set_yscale('log')\n",
        "ax.yaxis.set_major_formatter(PercentFormatter())\n",
        "(df_copy.isnull().sum() * 100 / len(df_copy)).replace(0,np.nan).dropna(axis=0,how=\"all\").plot(ax=ax, kind='bar', color=\"red\", zorder=0)"
      ]
    },
    {
      "cell_type": "code",
      "execution_count": 29,
      "metadata": {
        "colab": {
          "base_uri": "https://localhost:8080/",
          "height": 0
        },
        "id": "mtCk0iiMesHs",
        "outputId": "a549f8bd-651b-40f8-df6a-bcbc72aa4171"
      },
      "outputs": [
        {
          "output_type": "execute_result",
          "data": {
            "text/plain": [
              "<matplotlib.axes._subplots.AxesSubplot at 0x7f7870af6190>"
            ]
          },
          "metadata": {},
          "execution_count": 29
        },
        {
          "output_type": "display_data",
          "data": {
            "text/plain": [
              "<Figure size 432x288 with 1 Axes>"
            ],
            "image/png": "[encoded data removed]"
          },
          "metadata": {
            "needs_background": "light"
          }
        }
      ],
      "source": [
        "fig, ax = plt.subplots()\n",
        "ax.yaxis.set_major_formatter(PercentFormatter())\n",
        "(df.isnull().sum() * 100 / len(df)).replace(0,np.nan).dropna(axis=0,how=\"all\").plot(ax=ax, kind='bar', color=\"green\", zorder=1)"
      ]
    },
    {
      "cell_type": "code",
      "execution_count": 29,
      "metadata": {
        "id": "mVTqYKvTesHs"
      },
      "outputs": [],
      "source": []
    },
    {
      "cell_type": "markdown",
      "metadata": {
        "id": "Uu2cbHO-XcT5"
      },
      "source": [
        "## FALTA ARREGLAR LATITUD Y LONGITUD."
      ]
    },
    {
      "cell_type": "markdown",
      "source": [
        "## **1c. Valores atípicos**"
      ],
      "metadata": {
        "id": "uMQ3wbPYl63N"
      }
    },
    {
      "cell_type": "markdown",
      "metadata": {
        "id": "tka5n3H2lieQ"
      },
      "source": [
        "A continuación se realizara un análisis sobre los valores atípicos presentes en el dataframe. En la totalidad del dataset logramos detectar outliers tanto univariados (presentes en una unica variable) como multivariados (se encuentran en un espacio n-dimensional)."
      ]
    },
    {
      "cell_type": "markdown",
      "metadata": {
        "id": "EqszohR2zpv0"
      },
      "source": [
        "### Outliers univariados\n",
        "\n",
        "---"
      ]
    },
    {
      "cell_type": "markdown",
      "source": [
        "Para el análisis de outliers de tipo univariados estaremos utilizando tanto el método de Box Plot como los métodos de Z-Score y Z-Score Modificado.\n",
        "\n",
        "Mientras que el primero nos brindará información respecto de los topes superiores e inferiores de los cuartiles Q3 y Q1 respectivamente, los gráficos de Z-Score y Z-Score modificado nos permitirán visualizar de forma eficiente cómo se distribuye la masa de observaciones respecto de la media, y -por tanto- poder determinar de forma más precisa cuáles son los valores atípicos.\n",
        "\n",
        "Por último, podremos destacar cuáles son las características de los valores en cuestión pudiendo clasificar los mismos en: global, contextual y colectivo."
      ],
      "metadata": {
        "id": "DmGYmivrVhbC"
      }
    },
    {
      "cell_type": "markdown",
      "metadata": {
        "id": "bqiL3eGYy2Qh"
      },
      "source": [
        "#### Property rooms"
      ]
    },
    {
      "cell_type": "markdown",
      "source": [
        "##### Box plot"
      ],
      "metadata": {
        "id": "fHLfYF6Omlly"
      }
    },
    {
      "cell_type": "code",
      "execution_count": 30,
      "metadata": {
        "colab": {
          "base_uri": "https://localhost:8080/",
          "height": 252
        },
        "id": "oGoAYUuZyy3i",
        "outputId": "ae608e1f-b940-40e8-a82a-5ee364acdce4"
      },
      "outputs": [
        {
          "output_type": "display_data",
          "data": {
            "text/plain": [
              "<Figure size 432x288 with 1 Axes>"
            ],
            "image/png": "[encoded data removed]"
          },
          "metadata": {
            "needs_background": "light"
          }
        }
      ],
      "source": [
        "sns.boxplot(y=df.property_rooms)\n",
        "plt.show()"
      ]
    },
    {
      "cell_type": "code",
      "execution_count": 31,
      "metadata": {
        "colab": {
          "base_uri": "https://localhost:8080/"
        },
        "id": "14wdDBSN0Hex",
        "outputId": "5440e48d-355d-424c-b721-fe343003fe51"
      },
      "outputs": [
        {
          "output_type": "stream",
          "name": "stdout",
          "text": [
            "El valor de Q1 es: 2.0\n",
            "El valor de Q3 es: 4.0\n",
            "El limite inferior del Q1 es: -1.0\n",
            "El limite superior del Q3 es: 7.0\n"
          ]
        }
      ],
      "source": [
        "# Cuartiles\n",
        "Q1_property_rooms=df.describe().get(\"property_rooms\").get(\"25%\")\n",
        "Q3_property_rooms=df.describe().get(\"property_rooms\").get(\"75%\")\n",
        "\n",
        "print(\"El valor de Q1 es:\", Q1_property_rooms)\n",
        "print(\"El valor de Q3 es:\", Q3_property_rooms)\n",
        "\n",
        "# Rango intercuartil\n",
        "IQR_property_rooms=Q3_property_rooms-Q1_property_rooms\n",
        "\n",
        "# Limites Outliers\n",
        "out_inf=Q1_property_rooms-1.5*IQR_property_rooms\n",
        "out_sup=Q3_property_rooms+1.5*IQR_property_rooms\n",
        "print(\"El limite inferior del Q1 es:\", out_inf)\n",
        "print(\"El limite superior del Q3 es:\", out_sup)"
      ]
    },
    {
      "cell_type": "markdown",
      "metadata": {
        "id": "CLQuUcKre8Pe"
      },
      "source": [
        "Confirmamos que tratamos con un outlier notando la relacion por ejemplo con la variable property rooms"
      ]
    },
    {
      "cell_type": "code",
      "execution_count": 32,
      "metadata": {
        "colab": {
          "base_uri": "https://localhost:8080/",
          "height": 887
        },
        "id": "e5sLgEI2fCcI",
        "outputId": "954f6ad1-57fb-4c52-9ef1-a8485b272c24"
      },
      "outputs": [
        {
          "output_type": "execute_result",
          "data": {
            "text/plain": [
              "                              id start_date   end_date created_on    latitud  \\\n",
              "58      tgaK6Ibor1zLY5bvNxsXfw== 2021-09-09 2021-09-26 2021-09-09 -34.633730   \n",
              "834     DW1aOtw9rrmcRJKrXV8lQQ== 2021-09-09 2022-03-09 2021-09-09 -34.586193   \n",
              "1040    hg7z9YXumyiWLjMo6ed2Eg== 2021-09-09 2022-03-09 2021-09-09 -34.620750   \n",
              "1108    emutcNxb0N+nIgC7KPMFow== 2021-09-09 2022-03-09 2021-09-09 -34.620750   \n",
              "1349    fwH71WfOi+vE4kdGMHfWNQ== 2021-09-09 2022-03-09 2021-09-09 -34.620750   \n",
              "...                          ...        ...        ...        ...        ...   \n",
              "459706  rhZ7e0ygquCQbMZX+WCIcA== 2021-01-05 2021-02-03 2021-01-05 -34.592037   \n",
              "459724  ZHK1Il6hnxI3iMhjvmD5+g== 2021-01-05 2021-10-16 2021-01-05 -34.587991   \n",
              "459755  oFcI5JAbOEsVvsk6PhM6fg== 2021-01-05 2022-06-12 2021-01-05 -34.590653   \n",
              "459764  oX3aPs/sStr80cOS+VyxVw== 2021-01-05        NaT 2021-01-05 -34.586441   \n",
              "459922  tO370Sb5BxaIjD5RxajSog== 2021-01-05 2021-08-02 2021-01-05 -34.590893   \n",
              "\n",
              "         longitud         place_l2         place_l3         place_l4  \\\n",
              "58     -58.424729  Capital Federal            Boedo            Boedo   \n",
              "834    -58.396815  Capital Federal         Recoleta         Recoleta   \n",
              "1040   -58.502759  Capital Federal       Villa Luro       Villa Luro   \n",
              "1108   -58.502759  Capital Federal     Monte Castro     Monte Castro   \n",
              "1349   -58.502759  Capital Federal  Velez Sarsfield  Velez Sarsfield   \n",
              "...           ...              ...              ...              ...   \n",
              "459706 -58.396064  Capital Federal         Recoleta         Recoleta   \n",
              "459724 -58.389017  Capital Federal         Recoleta         Recoleta   \n",
              "459755 -58.384325  Capital Federal         Recoleta         Recoleta   \n",
              "459764 -58.387889  Capital Federal         Recoleta         Recoleta   \n",
              "459922 -58.408146  Capital Federal     Barrio Norte     Barrio Norte   \n",
              "\n",
              "       operation property_type  property_rooms  property_bedrooms  \\\n",
              "58         Venta          Casa            10.0               10.0   \n",
              "834        Venta  Departamento             9.0                4.0   \n",
              "1040       Venta          Casa             8.0                6.0   \n",
              "1108       Venta          Casa             8.0                6.0   \n",
              "1349       Venta          Casa             8.0                6.0   \n",
              "...          ...           ...             ...                ...   \n",
              "459706     Venta  Departamento             8.0                5.0   \n",
              "459724     Venta  Departamento             8.0                3.0   \n",
              "459755     Venta  Departamento             8.0                5.0   \n",
              "459764     Venta  Departamento             8.0                4.0   \n",
              "459922     Venta  Departamento            10.0                9.0   \n",
              "\n",
              "        property_surface_total  property_surface_covered  property_price  \\\n",
              "58                       394.0                     244.0        500000.0   \n",
              "834                      390.0                     340.0       1200000.0   \n",
              "1040                     201.0                     201.0        345000.0   \n",
              "1108                     201.0                     201.0        345000.0   \n",
              "1349                     201.0                     201.0        345000.0   \n",
              "...                        ...                       ...             ...   \n",
              "459706                   256.0                     256.0        800000.0   \n",
              "459724                   285.0                     272.0       1250000.0   \n",
              "459755                   431.0                     415.0       2800000.0   \n",
              "459764                   383.0                     383.0       1700000.0   \n",
              "459922                   145.0                     145.0        300000.0   \n",
              "\n",
              "       property_currency                                     property_title  \n",
              "58                   USD  VENTA CASA BOEDO LOCAL  DEPARTAMENTOS HABITACI...  \n",
              "834                  USD  “La Isla”-Gelly Obes-Copérnico-Espectacular pi...  \n",
              "1040                 USD            Casa Ideal Dos Familias  - Monte Castro  \n",
              "1108                 USD            Casa Ideal Dos Familias  - Monte Castro  \n",
              "1349                 USD            Casa Ideal Dos Familias  - Monte Castro  \n",
              "...                  ...                                                ...  \n",
              "459706               USD  Excelente departamento con cochera en venta en...  \n",
              "459724               USD  Departamento de excelente categoria en venta e...  \n",
              "459755               USD  Departamento de excelente calidad con 5 dormit...  \n",
              "459764               USD  Departamento frances con 2 cocheras en venta e...  \n",
              "459922               USD           Enorme 10 amb de 145m2 - ideal inversión  \n",
              "\n",
              "[774 rows x 18 columns]"
            ],
            "text/html": [
              "\n",
              "  <div id=\"df-b2aab392-f40e-4ff2-bf22-45488fcfe144\">\n",
              "    <div class=\"colab-df-container\">\n",
              "      <div>\n",
              "<style scoped>\n",
              "    .dataframe tbody tr th:only-of-type {\n",
              "        vertical-align: middle;\n",
              "    }\n",
              "\n",
              "    .dataframe tbody tr th {\n",
              "        vertical-align: top;\n",
              "    }\n",
              "\n",
              "    .dataframe thead th {\n",
              "        text-align: right;\n",
              "    }\n",
              "</style>\n",
              "<table border=\"1\" class=\"dataframe\">\n",
              "  <thead>\n",
              "    <tr style=\"text-align: right;\">\n",
              "      <th></th>\n",
              "      <th>id</th>\n",
              "      <th>start_date</th>\n",
              "      <th>end_date</th>\n",
              "      <th>created_on</th>\n",
              "      <th>latitud</th>\n",
              "      <th>longitud</th>\n",
              "      <th>place_l2</th>\n",
              "      <th>place_l3</th>\n",
              "      <th>place_l4</th>\n",
              "      <th>operation</th>\n",
              "      <th>property_type</th>\n",
              "      <th>property_rooms</th>\n",
              "      <th>property_bedrooms</th>\n",
              "      <th>property_surface_total</th>\n",
              "      <th>property_surface_covered</th>\n",
              "      <th>property_price</th>\n",
              "      <th>property_currency</th>\n",
              "      <th>property_title</th>\n",
              "    </tr>\n",
              "  </thead>\n",
              "  <tbody>\n",
              "    <tr>\n",
              "      <th>58</th>\n",
              "      <td>tgaK6Ibor1zLY5bvNxsXfw==</td>\n",
              "      <td>2021-09-09</td>\n",
              "      <td>2021-09-26</td>\n",
              "      <td>2021-09-09</td>\n",
              "      <td>-34.633730</td>\n",
              "      <td>-58.424729</td>\n",
              "      <td>Capital Federal</td>\n",
              "      <td>Boedo</td>\n",
              "      <td>Boedo</td>\n",
              "      <td>Venta</td>\n",
              "      <td>Casa</td>\n",
              "      <td>10.0</td>\n",
              "      <td>10.0</td>\n",
              "      <td>394.0</td>\n",
              "      <td>244.0</td>\n",
              "      <td>500000.0</td>\n",
              "      <td>USD</td>\n",
              "      <td>VENTA CASA BOEDO LOCAL  DEPARTAMENTOS HABITACI...</td>\n",
              "    </tr>\n",
              "    <tr>\n",
              "      <th>834</th>\n",
              "      <td>DW1aOtw9rrmcRJKrXV8lQQ==</td>\n",
              "      <td>2021-09-09</td>\n",
              "      <td>2022-03-09</td>\n",
              "      <td>2021-09-09</td>\n",
              "      <td>-34.586193</td>\n",
              "      <td>-58.396815</td>\n",
              "      <td>Capital Federal</td>\n",
              "      <td>Recoleta</td>\n",
              "      <td>Recoleta</td>\n",
              "      <td>Venta</td>\n",
              "      <td>Departamento</td>\n",
              "      <td>9.0</td>\n",
              "      <td>4.0</td>\n",
              "      <td>390.0</td>\n",
              "      <td>340.0</td>\n",
              "      <td>1200000.0</td>\n",
              "      <td>USD</td>\n",
              "      <td>“La Isla”-Gelly Obes-Copérnico-Espectacular pi...</td>\n",
              "    </tr>\n",
              "    <tr>\n",
              "      <th>1040</th>\n",
              "      <td>hg7z9YXumyiWLjMo6ed2Eg==</td>\n",
              "      <td>2021-09-09</td>\n",
              "      <td>2022-03-09</td>\n",
              "      <td>2021-09-09</td>\n",
              "      <td>-34.620750</td>\n",
              "      <td>-58.502759</td>\n",
              "      <td>Capital Federal</td>\n",
              "      <td>Villa Luro</td>\n",
              "      <td>Villa Luro</td>\n",
              "      <td>Venta</td>\n",
              "      <td>Casa</td>\n",
              "      <td>8.0</td>\n",
              "      <td>6.0</td>\n",
              "      <td>201.0</td>\n",
              "      <td>201.0</td>\n",
              "      <td>345000.0</td>\n",
              "      <td>USD</td>\n",
              "      <td>Casa Ideal Dos Familias  - Monte Castro</td>\n",
              "    </tr>\n",
              "    <tr>\n",
              "      <th>1108</th>\n",
              "      <td>emutcNxb0N+nIgC7KPMFow==</td>\n",
              "      <td>2021-09-09</td>\n",
              "      <td>2022-03-09</td>\n",
              "      <td>2021-09-09</td>\n",
              "      <td>-34.620750</td>\n",
              "      <td>-58.502759</td>\n",
              "      <td>Capital Federal</td>\n",
              "      <td>Monte Castro</td>\n",
              "      <td>Monte Castro</td>\n",
              "      <td>Venta</td>\n",
              "      <td>Casa</td>\n",
              "      <td>8.0</td>\n",
              "      <td>6.0</td>\n",
              "      <td>201.0</td>\n",
              "      <td>201.0</td>\n",
              "      <td>345000.0</td>\n",
              "      <td>USD</td>\n",
              "      <td>Casa Ideal Dos Familias  - Monte Castro</td>\n",
              "    </tr>\n",
              "    <tr>\n",
              "      <th>1349</th>\n",
              "      <td>fwH71WfOi+vE4kdGMHfWNQ==</td>\n",
              "      <td>2021-09-09</td>\n",
              "      <td>2022-03-09</td>\n",
              "      <td>2021-09-09</td>\n",
              "      <td>-34.620750</td>\n",
              "      <td>-58.502759</td>\n",
              "      <td>Capital Federal</td>\n",
              "      <td>Velez Sarsfield</td>\n",
              "      <td>Velez Sarsfield</td>\n",
              "      <td>Venta</td>\n",
              "      <td>Casa</td>\n",
              "      <td>8.0</td>\n",
              "      <td>6.0</td>\n",
              "      <td>201.0</td>\n",
              "      <td>201.0</td>\n",
              "      <td>345000.0</td>\n",
              "      <td>USD</td>\n",
              "      <td>Casa Ideal Dos Familias  - Monte Castro</td>\n",
              "    </tr>\n",
              "    <tr>\n",
              "      <th>...</th>\n",
              "      <td>...</td>\n",
              "      <td>...</td>\n",
              "      <td>...</td>\n",
              "      <td>...</td>\n",
              "      <td>...</td>\n",
              "      <td>...</td>\n",
              "      <td>...</td>\n",
              "      <td>...</td>\n",
              "      <td>...</td>\n",
              "      <td>...</td>\n",
              "      <td>...</td>\n",
              "      <td>...</td>\n",
              "      <td>...</td>\n",
              "      <td>...</td>\n",
              "      <td>...</td>\n",
              "      <td>...</td>\n",
              "      <td>...</td>\n",
              "      <td>...</td>\n",
              "    </tr>\n",
              "    <tr>\n",
              "      <th>459706</th>\n",
              "      <td>rhZ7e0ygquCQbMZX+WCIcA==</td>\n",
              "      <td>2021-01-05</td>\n",
              "      <td>2021-02-03</td>\n",
              "      <td>2021-01-05</td>\n",
              "      <td>-34.592037</td>\n",
              "      <td>-58.396064</td>\n",
              "      <td>Capital Federal</td>\n",
              "      <td>Recoleta</td>\n",
              "      <td>Recoleta</td>\n",
              "      <td>Venta</td>\n",
              "      <td>Departamento</td>\n",
              "      <td>8.0</td>\n",
              "      <td>5.0</td>\n",
              "      <td>256.0</td>\n",
              "      <td>256.0</td>\n",
              "      <td>800000.0</td>\n",
              "      <td>USD</td>\n",
              "      <td>Excelente departamento con cochera en venta en...</td>\n",
              "    </tr>\n",
              "    <tr>\n",
              "      <th>459724</th>\n",
              "      <td>ZHK1Il6hnxI3iMhjvmD5+g==</td>\n",
              "      <td>2021-01-05</td>\n",
              "      <td>2021-10-16</td>\n",
              "      <td>2021-01-05</td>\n",
              "      <td>-34.587991</td>\n",
              "      <td>-58.389017</td>\n",
              "      <td>Capital Federal</td>\n",
              "      <td>Recoleta</td>\n",
              "      <td>Recoleta</td>\n",
              "      <td>Venta</td>\n",
              "      <td>Departamento</td>\n",
              "      <td>8.0</td>\n",
              "      <td>3.0</td>\n",
              "      <td>285.0</td>\n",
              "      <td>272.0</td>\n",
              "      <td>1250000.0</td>\n",
              "      <td>USD</td>\n",
              "      <td>Departamento de excelente categoria en venta e...</td>\n",
              "    </tr>\n",
              "    <tr>\n",
              "      <th>459755</th>\n",
              "      <td>oFcI5JAbOEsVvsk6PhM6fg==</td>\n",
              "      <td>2021-01-05</td>\n",
              "      <td>2022-06-12</td>\n",
              "      <td>2021-01-05</td>\n",
              "      <td>-34.590653</td>\n",
              "      <td>-58.384325</td>\n",
              "      <td>Capital Federal</td>\n",
              "      <td>Recoleta</td>\n",
              "      <td>Recoleta</td>\n",
              "      <td>Venta</td>\n",
              "      <td>Departamento</td>\n",
              "      <td>8.0</td>\n",
              "      <td>5.0</td>\n",
              "      <td>431.0</td>\n",
              "      <td>415.0</td>\n",
              "      <td>2800000.0</td>\n",
              "      <td>USD</td>\n",
              "      <td>Departamento de excelente calidad con 5 dormit...</td>\n",
              "    </tr>\n",
              "    <tr>\n",
              "      <th>459764</th>\n",
              "      <td>oX3aPs/sStr80cOS+VyxVw==</td>\n",
              "      <td>2021-01-05</td>\n",
              "      <td>NaT</td>\n",
              "      <td>2021-01-05</td>\n",
              "      <td>-34.586441</td>\n",
              "      <td>-58.387889</td>\n",
              "      <td>Capital Federal</td>\n",
              "      <td>Recoleta</td>\n",
              "      <td>Recoleta</td>\n",
              "      <td>Venta</td>\n",
              "      <td>Departamento</td>\n",
              "      <td>8.0</td>\n",
              "      <td>4.0</td>\n",
              "      <td>383.0</td>\n",
              "      <td>383.0</td>\n",
              "      <td>1700000.0</td>\n",
              "      <td>USD</td>\n",
              "      <td>Departamento frances con 2 cocheras en venta e...</td>\n",
              "    </tr>\n",
              "    <tr>\n",
              "      <th>459922</th>\n",
              "      <td>tO370Sb5BxaIjD5RxajSog==</td>\n",
              "      <td>2021-01-05</td>\n",
              "      <td>2021-08-02</td>\n",
              "      <td>2021-01-05</td>\n",
              "      <td>-34.590893</td>\n",
              "      <td>-58.408146</td>\n",
              "      <td>Capital Federal</td>\n",
              "      <td>Barrio Norte</td>\n",
              "      <td>Barrio Norte</td>\n",
              "      <td>Venta</td>\n",
              "      <td>Departamento</td>\n",
              "      <td>10.0</td>\n",
              "      <td>9.0</td>\n",
              "      <td>145.0</td>\n",
              "      <td>145.0</td>\n",
              "      <td>300000.0</td>\n",
              "      <td>USD</td>\n",
              "      <td>Enorme 10 amb de 145m2 - ideal inversión</td>\n",
              "    </tr>\n",
              "  </tbody>\n",
              "</table>\n",
              "<p>774 rows × 18 columns</p>\n",
              "</div>\n",
              "      <button class=\"colab-df-convert\" onclick=\"convertToInteractive('df-b2aab392-f40e-4ff2-bf22-45488fcfe144')\"\n",
              "              title=\"Convert this dataframe to an interactive table.\"\n",
              "              style=\"display:none;\">\n",
              "        \n",
              "  <svg xmlns=\"http://www.w3.org/2000/svg\" height=\"24px\"viewBox=\"0 0 24 24\"\n",
              "       width=\"24px\">\n",
              "    <path d=\"M0 0h24v24H0V0z\" fill=\"none\"/>\n",
              "    <path d=\"M18.56 5.44l.94 2.06.94-2.06 2.06-.94-2.06-.94-.94-2.06-.94 2.06-2.06.94zm-11 1L8.5 8.5l.94-2.06 2.06-.94-2.06-.94L8.5 2.5l-.94 2.06-2.06.94zm10 10l.94 2.06.94-2.06 2.06-.94-2.06-.94-.94-2.06-.94 2.06-2.06.94z\"/><path d=\"M17.41 7.96l-1.37-1.37c-.4-.4-.92-.59-1.43-.59-.52 0-1.04.2-1.43.59L10.3 9.45l-7.72 7.72c-.78.78-.78 2.05 0 2.83L4 21.41c.39.39.9.59 1.41.59.51 0 1.02-.2 1.41-.59l7.78-7.78 2.81-2.81c.8-.78.8-2.07 0-2.86zM5.41 20L4 18.59l7.72-7.72 1.47 1.35L5.41 20z\"/>\n",
              "  </svg>\n",
              "      </button>\n",
              "      \n",
              "  <style>\n",
              "    .colab-df-container {\n",
              "      display:flex;\n",
              "      flex-wrap:wrap;\n",
              "      gap: 12px;\n",
              "    }\n",
              "\n",
              "    .colab-df-convert {\n",
              "      background-color: #E8F0FE;\n",
              "      border: none;\n",
              "      border-radius: 50%;\n",
              "      cursor: pointer;\n",
              "      display: none;\n",
              "      fill: #1967D2;\n",
              "      height: 32px;\n",
              "      padding: 0 0 0 0;\n",
              "      width: 32px;\n",
              "    }\n",
              "\n",
              "    .colab-df-convert:hover {\n",
              "      background-color: #E2EBFA;\n",
              "      box-shadow: 0px 1px 2px rgba(60, 64, 67, 0.3), 0px 1px 3px 1px rgba(60, 64, 67, 0.15);\n",
              "      fill: #174EA6;\n",
              "    }\n",
              "\n",
              "    [theme=dark] .colab-df-convert {\n",
              "      background-color: #3B4455;\n",
              "      fill: #D2E3FC;\n",
              "    }\n",
              "\n",
              "    [theme=dark] .colab-df-convert:hover {\n",
              "      background-color: #434B5C;\n",
              "      box-shadow: 0px 1px 3px 1px rgba(0, 0, 0, 0.15);\n",
              "      filter: drop-shadow(0px 1px 2px rgba(0, 0, 0, 0.3));\n",
              "      fill: #FFFFFF;\n",
              "    }\n",
              "  </style>\n",
              "\n",
              "      <script>\n",
              "        const buttonEl =\n",
              "          document.querySelector('#df-b2aab392-f40e-4ff2-bf22-45488fcfe144 button.colab-df-convert');\n",
              "        buttonEl.style.display =\n",
              "          google.colab.kernel.accessAllowed ? 'block' : 'none';\n",
              "\n",
              "        async function convertToInteractive(key) {\n",
              "          const element = document.querySelector('#df-b2aab392-f40e-4ff2-bf22-45488fcfe144');\n",
              "          const dataTable =\n",
              "            await google.colab.kernel.invokeFunction('convertToInteractive',\n",
              "                                                     [key], {});\n",
              "          if (!dataTable) return;\n",
              "\n",
              "          const docLinkHtml = 'Like what you see? Visit the ' +\n",
              "            '<a target=\"_blank\" href=https://colab.research.google.com/notebooks/data_table.ipynb>data table notebook</a>'\n",
              "            + ' to learn more about interactive tables.';\n",
              "          element.innerHTML = '';\n",
              "          dataTable['output_type'] = 'display_data';\n",
              "          await google.colab.output.renderOutput(dataTable, element);\n",
              "          const docLink = document.createElement('div');\n",
              "          docLink.innerHTML = docLinkHtml;\n",
              "          element.appendChild(docLink);\n",
              "        }\n",
              "      </script>\n",
              "    </div>\n",
              "  </div>\n",
              "  "
            ]
          },
          "metadata": {},
          "execution_count": 32
        }
      ],
      "source": [
        "outlier=df[df['property_rooms']>7]\n",
        "outlier"
      ]
    },
    {
      "cell_type": "code",
      "execution_count": 33,
      "metadata": {
        "colab": {
          "base_uri": "https://localhost:8080/",
          "height": 113
        },
        "id": "o__23mrf1nCq",
        "outputId": "542234bf-ef22-43f3-9070-ea13fccdf195"
      },
      "outputs": [
        {
          "output_type": "execute_result",
          "data": {
            "text/plain": [
              "Empty DataFrame\n",
              "Columns: [id, start_date, end_date, created_on, latitud, longitud, place_l2, place_l3, place_l4, operation, property_type, property_rooms, property_bedrooms, property_surface_total, property_surface_covered, property_price, property_currency, property_title]\n",
              "Index: []"
            ],
            "text/html": [
              "\n",
              "  <div id=\"df-9b82fc86-7933-4ed1-8213-f94c92112e23\">\n",
              "    <div class=\"colab-df-container\">\n",
              "      <div>\n",
              "<style scoped>\n",
              "    .dataframe tbody tr th:only-of-type {\n",
              "        vertical-align: middle;\n",
              "    }\n",
              "\n",
              "    .dataframe tbody tr th {\n",
              "        vertical-align: top;\n",
              "    }\n",
              "\n",
              "    .dataframe thead th {\n",
              "        text-align: right;\n",
              "    }\n",
              "</style>\n",
              "<table border=\"1\" class=\"dataframe\">\n",
              "  <thead>\n",
              "    <tr style=\"text-align: right;\">\n",
              "      <th></th>\n",
              "      <th>id</th>\n",
              "      <th>start_date</th>\n",
              "      <th>end_date</th>\n",
              "      <th>created_on</th>\n",
              "      <th>latitud</th>\n",
              "      <th>longitud</th>\n",
              "      <th>place_l2</th>\n",
              "      <th>place_l3</th>\n",
              "      <th>place_l4</th>\n",
              "      <th>operation</th>\n",
              "      <th>property_type</th>\n",
              "      <th>property_rooms</th>\n",
              "      <th>property_bedrooms</th>\n",
              "      <th>property_surface_total</th>\n",
              "      <th>property_surface_covered</th>\n",
              "      <th>property_price</th>\n",
              "      <th>property_currency</th>\n",
              "      <th>property_title</th>\n",
              "    </tr>\n",
              "  </thead>\n",
              "  <tbody>\n",
              "  </tbody>\n",
              "</table>\n",
              "</div>\n",
              "      <button class=\"colab-df-convert\" onclick=\"convertToInteractive('df-9b82fc86-7933-4ed1-8213-f94c92112e23')\"\n",
              "              title=\"Convert this dataframe to an interactive table.\"\n",
              "              style=\"display:none;\">\n",
              "        \n",
              "  <svg xmlns=\"http://www.w3.org/2000/svg\" height=\"24px\"viewBox=\"0 0 24 24\"\n",
              "       width=\"24px\">\n",
              "    <path d=\"M0 0h24v24H0V0z\" fill=\"none\"/>\n",
              "    <path d=\"M18.56 5.44l.94 2.06.94-2.06 2.06-.94-2.06-.94-.94-2.06-.94 2.06-2.06.94zm-11 1L8.5 8.5l.94-2.06 2.06-.94-2.06-.94L8.5 2.5l-.94 2.06-2.06.94zm10 10l.94 2.06.94-2.06 2.06-.94-2.06-.94-.94-2.06-.94 2.06-2.06.94z\"/><path d=\"M17.41 7.96l-1.37-1.37c-.4-.4-.92-.59-1.43-.59-.52 0-1.04.2-1.43.59L10.3 9.45l-7.72 7.72c-.78.78-.78 2.05 0 2.83L4 21.41c.39.39.9.59 1.41.59.51 0 1.02-.2 1.41-.59l7.78-7.78 2.81-2.81c.8-.78.8-2.07 0-2.86zM5.41 20L4 18.59l7.72-7.72 1.47 1.35L5.41 20z\"/>\n",
              "  </svg>\n",
              "      </button>\n",
              "      \n",
              "  <style>\n",
              "    .colab-df-container {\n",
              "      display:flex;\n",
              "      flex-wrap:wrap;\n",
              "      gap: 12px;\n",
              "    }\n",
              "\n",
              "    .colab-df-convert {\n",
              "      background-color: #E8F0FE;\n",
              "      border: none;\n",
              "      border-radius: 50%;\n",
              "      cursor: pointer;\n",
              "      display: none;\n",
              "      fill: #1967D2;\n",
              "      height: 32px;\n",
              "      padding: 0 0 0 0;\n",
              "      width: 32px;\n",
              "    }\n",
              "\n",
              "    .colab-df-convert:hover {\n",
              "      background-color: #E2EBFA;\n",
              "      box-shadow: 0px 1px 2px rgba(60, 64, 67, 0.3), 0px 1px 3px 1px rgba(60, 64, 67, 0.15);\n",
              "      fill: #174EA6;\n",
              "    }\n",
              "\n",
              "    [theme=dark] .colab-df-convert {\n",
              "      background-color: #3B4455;\n",
              "      fill: #D2E3FC;\n",
              "    }\n",
              "\n",
              "    [theme=dark] .colab-df-convert:hover {\n",
              "      background-color: #434B5C;\n",
              "      box-shadow: 0px 1px 3px 1px rgba(0, 0, 0, 0.15);\n",
              "      filter: drop-shadow(0px 1px 2px rgba(0, 0, 0, 0.3));\n",
              "      fill: #FFFFFF;\n",
              "    }\n",
              "  </style>\n",
              "\n",
              "      <script>\n",
              "        const buttonEl =\n",
              "          document.querySelector('#df-9b82fc86-7933-4ed1-8213-f94c92112e23 button.colab-df-convert');\n",
              "        buttonEl.style.display =\n",
              "          google.colab.kernel.accessAllowed ? 'block' : 'none';\n",
              "\n",
              "        async function convertToInteractive(key) {\n",
              "          const element = document.querySelector('#df-9b82fc86-7933-4ed1-8213-f94c92112e23');\n",
              "          const dataTable =\n",
              "            await google.colab.kernel.invokeFunction('convertToInteractive',\n",
              "                                                     [key], {});\n",
              "          if (!dataTable) return;\n",
              "\n",
              "          const docLinkHtml = 'Like what you see? Visit the ' +\n",
              "            '<a target=\"_blank\" href=https://colab.research.google.com/notebooks/data_table.ipynb>data table notebook</a>'\n",
              "            + ' to learn more about interactive tables.';\n",
              "          element.innerHTML = '';\n",
              "          dataTable['output_type'] = 'display_data';\n",
              "          await google.colab.output.renderOutput(dataTable, element);\n",
              "          const docLink = document.createElement('div');\n",
              "          docLink.innerHTML = docLinkHtml;\n",
              "          element.appendChild(docLink);\n",
              "        }\n",
              "      </script>\n",
              "    </div>\n",
              "  </div>\n",
              "  "
            ]
          },
          "metadata": {},
          "execution_count": 33
        }
      ],
      "source": [
        "outlier=df[df['property_rooms']<1]\n",
        "outlier"
      ]
    },
    {
      "cell_type": "markdown",
      "source": [
        "##### Z-Score"
      ],
      "metadata": {
        "id": "MMVhTNsrmo7R"
      }
    },
    {
      "cell_type": "code",
      "execution_count": 34,
      "metadata": {
        "id": "3NMvnrOn3JnA"
      },
      "outputs": [],
      "source": [
        "media_rooms=np.mean(df.property_rooms)\n",
        "std_rooms=np.std(df.property_rooms)\n",
        "df['z_rooms']=(df.property_rooms - media_rooms)/std_rooms"
      ]
    },
    {
      "cell_type": "code",
      "execution_count": 35,
      "metadata": {
        "colab": {
          "base_uri": "https://localhost:8080/",
          "height": 887
        },
        "id": "EFK5SClm30fL",
        "outputId": "dabd05a4-72ff-439a-b7e4-c3f8e0a99a63"
      },
      "outputs": [
        {
          "output_type": "execute_result",
          "data": {
            "text/plain": [
              "                              id start_date   end_date created_on    latitud  \\\n",
              "58      tgaK6Ibor1zLY5bvNxsXfw== 2021-09-09 2021-09-26 2021-09-09 -34.633730   \n",
              "834     DW1aOtw9rrmcRJKrXV8lQQ== 2021-09-09 2022-03-09 2021-09-09 -34.586193   \n",
              "1040    hg7z9YXumyiWLjMo6ed2Eg== 2021-09-09 2022-03-09 2021-09-09 -34.620750   \n",
              "1108    emutcNxb0N+nIgC7KPMFow== 2021-09-09 2022-03-09 2021-09-09 -34.620750   \n",
              "1349    fwH71WfOi+vE4kdGMHfWNQ== 2021-09-09 2022-03-09 2021-09-09 -34.620750   \n",
              "...                          ...        ...        ...        ...        ...   \n",
              "459706  rhZ7e0ygquCQbMZX+WCIcA== 2021-01-05 2021-02-03 2021-01-05 -34.592037   \n",
              "459724  ZHK1Il6hnxI3iMhjvmD5+g== 2021-01-05 2021-10-16 2021-01-05 -34.587991   \n",
              "459755  oFcI5JAbOEsVvsk6PhM6fg== 2021-01-05 2022-06-12 2021-01-05 -34.590653   \n",
              "459764  oX3aPs/sStr80cOS+VyxVw== 2021-01-05        NaT 2021-01-05 -34.586441   \n",
              "459922  tO370Sb5BxaIjD5RxajSog== 2021-01-05 2021-08-02 2021-01-05 -34.590893   \n",
              "\n",
              "         longitud         place_l2         place_l3         place_l4  \\\n",
              "58     -58.424729  Capital Federal            Boedo            Boedo   \n",
              "834    -58.396815  Capital Federal         Recoleta         Recoleta   \n",
              "1040   -58.502759  Capital Federal       Villa Luro       Villa Luro   \n",
              "1108   -58.502759  Capital Federal     Monte Castro     Monte Castro   \n",
              "1349   -58.502759  Capital Federal  Velez Sarsfield  Velez Sarsfield   \n",
              "...           ...              ...              ...              ...   \n",
              "459706 -58.396064  Capital Federal         Recoleta         Recoleta   \n",
              "459724 -58.389017  Capital Federal         Recoleta         Recoleta   \n",
              "459755 -58.384325  Capital Federal         Recoleta         Recoleta   \n",
              "459764 -58.387889  Capital Federal         Recoleta         Recoleta   \n",
              "459922 -58.408146  Capital Federal     Barrio Norte     Barrio Norte   \n",
              "\n",
              "       operation property_type  property_rooms  property_bedrooms  \\\n",
              "58         Venta          Casa            10.0               10.0   \n",
              "834        Venta  Departamento             9.0                4.0   \n",
              "1040       Venta          Casa             8.0                6.0   \n",
              "1108       Venta          Casa             8.0                6.0   \n",
              "1349       Venta          Casa             8.0                6.0   \n",
              "...          ...           ...             ...                ...   \n",
              "459706     Venta  Departamento             8.0                5.0   \n",
              "459724     Venta  Departamento             8.0                3.0   \n",
              "459755     Venta  Departamento             8.0                5.0   \n",
              "459764     Venta  Departamento             8.0                4.0   \n",
              "459922     Venta  Departamento            10.0                9.0   \n",
              "\n",
              "        property_surface_total  property_surface_covered  property_price  \\\n",
              "58                       394.0                     244.0        500000.0   \n",
              "834                      390.0                     340.0       1200000.0   \n",
              "1040                     201.0                     201.0        345000.0   \n",
              "1108                     201.0                     201.0        345000.0   \n",
              "1349                     201.0                     201.0        345000.0   \n",
              "...                        ...                       ...             ...   \n",
              "459706                   256.0                     256.0        800000.0   \n",
              "459724                   285.0                     272.0       1250000.0   \n",
              "459755                   431.0                     415.0       2800000.0   \n",
              "459764                   383.0                     383.0       1700000.0   \n",
              "459922                   145.0                     145.0        300000.0   \n",
              "\n",
              "       property_currency                                     property_title  \\\n",
              "58                   USD  VENTA CASA BOEDO LOCAL  DEPARTAMENTOS HABITACI...   \n",
              "834                  USD  “La Isla”-Gelly Obes-Copérnico-Espectacular pi...   \n",
              "1040                 USD            Casa Ideal Dos Familias  - Monte Castro   \n",
              "1108                 USD            Casa Ideal Dos Familias  - Monte Castro   \n",
              "1349                 USD            Casa Ideal Dos Familias  - Monte Castro   \n",
              "...                  ...                                                ...   \n",
              "459706               USD  Excelente departamento con cochera en venta en...   \n",
              "459724               USD  Departamento de excelente categoria en venta e...   \n",
              "459755               USD  Departamento de excelente calidad con 5 dormit...   \n",
              "459764               USD  Departamento frances con 2 cocheras en venta e...   \n",
              "459922               USD           Enorme 10 amb de 145m2 - ideal inversión   \n",
              "\n",
              "         z_rooms  \n",
              "58      4.992871  \n",
              "834     4.296317  \n",
              "1040    3.599764  \n",
              "1108    3.599764  \n",
              "1349    3.599764  \n",
              "...          ...  \n",
              "459706  3.599764  \n",
              "459724  3.599764  \n",
              "459755  3.599764  \n",
              "459764  3.599764  \n",
              "459922  4.992871  \n",
              "\n",
              "[774 rows x 19 columns]"
            ],
            "text/html": [
              "\n",
              "  <div id=\"df-21fb3899-9c9a-4084-9cc8-af988c3b9372\">\n",
              "    <div class=\"colab-df-container\">\n",
              "      <div>\n",
              "<style scoped>\n",
              "    .dataframe tbody tr th:only-of-type {\n",
              "        vertical-align: middle;\n",
              "    }\n",
              "\n",
              "    .dataframe tbody tr th {\n",
              "        vertical-align: top;\n",
              "    }\n",
              "\n",
              "    .dataframe thead th {\n",
              "        text-align: right;\n",
              "    }\n",
              "</style>\n",
              "<table border=\"1\" class=\"dataframe\">\n",
              "  <thead>\n",
              "    <tr style=\"text-align: right;\">\n",
              "      <th></th>\n",
              "      <th>id</th>\n",
              "      <th>start_date</th>\n",
              "      <th>end_date</th>\n",
              "      <th>created_on</th>\n",
              "      <th>latitud</th>\n",
              "      <th>longitud</th>\n",
              "      <th>place_l2</th>\n",
              "      <th>place_l3</th>\n",
              "      <th>place_l4</th>\n",
              "      <th>operation</th>\n",
              "      <th>property_type</th>\n",
              "      <th>property_rooms</th>\n",
              "      <th>property_bedrooms</th>\n",
              "      <th>property_surface_total</th>\n",
              "      <th>property_surface_covered</th>\n",
              "      <th>property_price</th>\n",
              "      <th>property_currency</th>\n",
              "      <th>property_title</th>\n",
              "      <th>z_rooms</th>\n",
              "    </tr>\n",
              "  </thead>\n",
              "  <tbody>\n",
              "    <tr>\n",
              "      <th>58</th>\n",
              "      <td>tgaK6Ibor1zLY5bvNxsXfw==</td>\n",
              "      <td>2021-09-09</td>\n",
              "      <td>2021-09-26</td>\n",
              "      <td>2021-09-09</td>\n",
              "      <td>-34.633730</td>\n",
              "      <td>-58.424729</td>\n",
              "      <td>Capital Federal</td>\n",
              "      <td>Boedo</td>\n",
              "      <td>Boedo</td>\n",
              "      <td>Venta</td>\n",
              "      <td>Casa</td>\n",
              "      <td>10.0</td>\n",
              "      <td>10.0</td>\n",
              "      <td>394.0</td>\n",
              "      <td>244.0</td>\n",
              "      <td>500000.0</td>\n",
              "      <td>USD</td>\n",
              "      <td>VENTA CASA BOEDO LOCAL  DEPARTAMENTOS HABITACI...</td>\n",
              "      <td>4.992871</td>\n",
              "    </tr>\n",
              "    <tr>\n",
              "      <th>834</th>\n",
              "      <td>DW1aOtw9rrmcRJKrXV8lQQ==</td>\n",
              "      <td>2021-09-09</td>\n",
              "      <td>2022-03-09</td>\n",
              "      <td>2021-09-09</td>\n",
              "      <td>-34.586193</td>\n",
              "      <td>-58.396815</td>\n",
              "      <td>Capital Federal</td>\n",
              "      <td>Recoleta</td>\n",
              "      <td>Recoleta</td>\n",
              "      <td>Venta</td>\n",
              "      <td>Departamento</td>\n",
              "      <td>9.0</td>\n",
              "      <td>4.0</td>\n",
              "      <td>390.0</td>\n",
              "      <td>340.0</td>\n",
              "      <td>1200000.0</td>\n",
              "      <td>USD</td>\n",
              "      <td>“La Isla”-Gelly Obes-Copérnico-Espectacular pi...</td>\n",
              "      <td>4.296317</td>\n",
              "    </tr>\n",
              "    <tr>\n",
              "      <th>1040</th>\n",
              "      <td>hg7z9YXumyiWLjMo6ed2Eg==</td>\n",
              "      <td>2021-09-09</td>\n",
              "      <td>2022-03-09</td>\n",
              "      <td>2021-09-09</td>\n",
              "      <td>-34.620750</td>\n",
              "      <td>-58.502759</td>\n",
              "      <td>Capital Federal</td>\n",
              "      <td>Villa Luro</td>\n",
              "      <td>Villa Luro</td>\n",
              "      <td>Venta</td>\n",
              "      <td>Casa</td>\n",
              "      <td>8.0</td>\n",
              "      <td>6.0</td>\n",
              "      <td>201.0</td>\n",
              "      <td>201.0</td>\n",
              "      <td>345000.0</td>\n",
              "      <td>USD</td>\n",
              "      <td>Casa Ideal Dos Familias  - Monte Castro</td>\n",
              "      <td>3.599764</td>\n",
              "    </tr>\n",
              "    <tr>\n",
              "      <th>1108</th>\n",
              "      <td>emutcNxb0N+nIgC7KPMFow==</td>\n",
              "      <td>2021-09-09</td>\n",
              "      <td>2022-03-09</td>\n",
              "      <td>2021-09-09</td>\n",
              "      <td>-34.620750</td>\n",
              "      <td>-58.502759</td>\n",
              "      <td>Capital Federal</td>\n",
              "      <td>Monte Castro</td>\n",
              "      <td>Monte Castro</td>\n",
              "      <td>Venta</td>\n",
              "      <td>Casa</td>\n",
              "      <td>8.0</td>\n",
              "      <td>6.0</td>\n",
              "      <td>201.0</td>\n",
              "      <td>201.0</td>\n",
              "      <td>345000.0</td>\n",
              "      <td>USD</td>\n",
              "      <td>Casa Ideal Dos Familias  - Monte Castro</td>\n",
              "      <td>3.599764</td>\n",
              "    </tr>\n",
              "    <tr>\n",
              "      <th>1349</th>\n",
              "      <td>fwH71WfOi+vE4kdGMHfWNQ==</td>\n",
              "      <td>2021-09-09</td>\n",
              "      <td>2022-03-09</td>\n",
              "      <td>2021-09-09</td>\n",
              "      <td>-34.620750</td>\n",
              "      <td>-58.502759</td>\n",
              "      <td>Capital Federal</td>\n",
              "      <td>Velez Sarsfield</td>\n",
              "      <td>Velez Sarsfield</td>\n",
              "      <td>Venta</td>\n",
              "      <td>Casa</td>\n",
              "      <td>8.0</td>\n",
              "      <td>6.0</td>\n",
              "      <td>201.0</td>\n",
              "      <td>201.0</td>\n",
              "      <td>345000.0</td>\n",
              "      <td>USD</td>\n",
              "      <td>Casa Ideal Dos Familias  - Monte Castro</td>\n",
              "      <td>3.599764</td>\n",
              "    </tr>\n",
              "    <tr>\n",
              "      <th>...</th>\n",
              "      <td>...</td>\n",
              "      <td>...</td>\n",
              "      <td>...</td>\n",
              "      <td>...</td>\n",
              "      <td>...</td>\n",
              "      <td>...</td>\n",
              "      <td>...</td>\n",
              "      <td>...</td>\n",
              "      <td>...</td>\n",
              "      <td>...</td>\n",
              "      <td>...</td>\n",
              "      <td>...</td>\n",
              "      <td>...</td>\n",
              "      <td>...</td>\n",
              "      <td>...</td>\n",
              "      <td>...</td>\n",
              "      <td>...</td>\n",
              "      <td>...</td>\n",
              "      <td>...</td>\n",
              "    </tr>\n",
              "    <tr>\n",
              "      <th>459706</th>\n",
              "      <td>rhZ7e0ygquCQbMZX+WCIcA==</td>\n",
              "      <td>2021-01-05</td>\n",
              "      <td>2021-02-03</td>\n",
              "      <td>2021-01-05</td>\n",
              "      <td>-34.592037</td>\n",
              "      <td>-58.396064</td>\n",
              "      <td>Capital Federal</td>\n",
              "      <td>Recoleta</td>\n",
              "      <td>Recoleta</td>\n",
              "      <td>Venta</td>\n",
              "      <td>Departamento</td>\n",
              "      <td>8.0</td>\n",
              "      <td>5.0</td>\n",
              "      <td>256.0</td>\n",
              "      <td>256.0</td>\n",
              "      <td>800000.0</td>\n",
              "      <td>USD</td>\n",
              "      <td>Excelente departamento con cochera en venta en...</td>\n",
              "      <td>3.599764</td>\n",
              "    </tr>\n",
              "    <tr>\n",
              "      <th>459724</th>\n",
              "      <td>ZHK1Il6hnxI3iMhjvmD5+g==</td>\n",
              "      <td>2021-01-05</td>\n",
              "      <td>2021-10-16</td>\n",
              "      <td>2021-01-05</td>\n",
              "      <td>-34.587991</td>\n",
              "      <td>-58.389017</td>\n",
              "      <td>Capital Federal</td>\n",
              "      <td>Recoleta</td>\n",
              "      <td>Recoleta</td>\n",
              "      <td>Venta</td>\n",
              "      <td>Departamento</td>\n",
              "      <td>8.0</td>\n",
              "      <td>3.0</td>\n",
              "      <td>285.0</td>\n",
              "      <td>272.0</td>\n",
              "      <td>1250000.0</td>\n",
              "      <td>USD</td>\n",
              "      <td>Departamento de excelente categoria en venta e...</td>\n",
              "      <td>3.599764</td>\n",
              "    </tr>\n",
              "    <tr>\n",
              "      <th>459755</th>\n",
              "      <td>oFcI5JAbOEsVvsk6PhM6fg==</td>\n",
              "      <td>2021-01-05</td>\n",
              "      <td>2022-06-12</td>\n",
              "      <td>2021-01-05</td>\n",
              "      <td>-34.590653</td>\n",
              "      <td>-58.384325</td>\n",
              "      <td>Capital Federal</td>\n",
              "      <td>Recoleta</td>\n",
              "      <td>Recoleta</td>\n",
              "      <td>Venta</td>\n",
              "      <td>Departamento</td>\n",
              "      <td>8.0</td>\n",
              "      <td>5.0</td>\n",
              "      <td>431.0</td>\n",
              "      <td>415.0</td>\n",
              "      <td>2800000.0</td>\n",
              "      <td>USD</td>\n",
              "      <td>Departamento de excelente calidad con 5 dormit...</td>\n",
              "      <td>3.599764</td>\n",
              "    </tr>\n",
              "    <tr>\n",
              "      <th>459764</th>\n",
              "      <td>oX3aPs/sStr80cOS+VyxVw==</td>\n",
              "      <td>2021-01-05</td>\n",
              "      <td>NaT</td>\n",
              "      <td>2021-01-05</td>\n",
              "      <td>-34.586441</td>\n",
              "      <td>-58.387889</td>\n",
              "      <td>Capital Federal</td>\n",
              "      <td>Recoleta</td>\n",
              "      <td>Recoleta</td>\n",
              "      <td>Venta</td>\n",
              "      <td>Departamento</td>\n",
              "      <td>8.0</td>\n",
              "      <td>4.0</td>\n",
              "      <td>383.0</td>\n",
              "      <td>383.0</td>\n",
              "      <td>1700000.0</td>\n",
              "      <td>USD</td>\n",
              "      <td>Departamento frances con 2 cocheras en venta e...</td>\n",
              "      <td>3.599764</td>\n",
              "    </tr>\n",
              "    <tr>\n",
              "      <th>459922</th>\n",
              "      <td>tO370Sb5BxaIjD5RxajSog==</td>\n",
              "      <td>2021-01-05</td>\n",
              "      <td>2021-08-02</td>\n",
              "      <td>2021-01-05</td>\n",
              "      <td>-34.590893</td>\n",
              "      <td>-58.408146</td>\n",
              "      <td>Capital Federal</td>\n",
              "      <td>Barrio Norte</td>\n",
              "      <td>Barrio Norte</td>\n",
              "      <td>Venta</td>\n",
              "      <td>Departamento</td>\n",
              "      <td>10.0</td>\n",
              "      <td>9.0</td>\n",
              "      <td>145.0</td>\n",
              "      <td>145.0</td>\n",
              "      <td>300000.0</td>\n",
              "      <td>USD</td>\n",
              "      <td>Enorme 10 amb de 145m2 - ideal inversión</td>\n",
              "      <td>4.992871</td>\n",
              "    </tr>\n",
              "  </tbody>\n",
              "</table>\n",
              "<p>774 rows × 19 columns</p>\n",
              "</div>\n",
              "      <button class=\"colab-df-convert\" onclick=\"convertToInteractive('df-21fb3899-9c9a-4084-9cc8-af988c3b9372')\"\n",
              "              title=\"Convert this dataframe to an interactive table.\"\n",
              "              style=\"display:none;\">\n",
              "        \n",
              "  <svg xmlns=\"http://www.w3.org/2000/svg\" height=\"24px\"viewBox=\"0 0 24 24\"\n",
              "       width=\"24px\">\n",
              "    <path d=\"M0 0h24v24H0V0z\" fill=\"none\"/>\n",
              "    <path d=\"M18.56 5.44l.94 2.06.94-2.06 2.06-.94-2.06-.94-.94-2.06-.94 2.06-2.06.94zm-11 1L8.5 8.5l.94-2.06 2.06-.94-2.06-.94L8.5 2.5l-.94 2.06-2.06.94zm10 10l.94 2.06.94-2.06 2.06-.94-2.06-.94-.94-2.06-.94 2.06-2.06.94z\"/><path d=\"M17.41 7.96l-1.37-1.37c-.4-.4-.92-.59-1.43-.59-.52 0-1.04.2-1.43.59L10.3 9.45l-7.72 7.72c-.78.78-.78 2.05 0 2.83L4 21.41c.39.39.9.59 1.41.59.51 0 1.02-.2 1.41-.59l7.78-7.78 2.81-2.81c.8-.78.8-2.07 0-2.86zM5.41 20L4 18.59l7.72-7.72 1.47 1.35L5.41 20z\"/>\n",
              "  </svg>\n",
              "      </button>\n",
              "      \n",
              "  <style>\n",
              "    .colab-df-container {\n",
              "      display:flex;\n",
              "      flex-wrap:wrap;\n",
              "      gap: 12px;\n",
              "    }\n",
              "\n",
              "    .colab-df-convert {\n",
              "      background-color: #E8F0FE;\n",
              "      border: none;\n",
              "      border-radius: 50%;\n",
              "      cursor: pointer;\n",
              "      display: none;\n",
              "      fill: #1967D2;\n",
              "      height: 32px;\n",
              "      padding: 0 0 0 0;\n",
              "      width: 32px;\n",
              "    }\n",
              "\n",
              "    .colab-df-convert:hover {\n",
              "      background-color: #E2EBFA;\n",
              "      box-shadow: 0px 1px 2px rgba(60, 64, 67, 0.3), 0px 1px 3px 1px rgba(60, 64, 67, 0.15);\n",
              "      fill: #174EA6;\n",
              "    }\n",
              "\n",
              "    [theme=dark] .colab-df-convert {\n",
              "      background-color: #3B4455;\n",
              "      fill: #D2E3FC;\n",
              "    }\n",
              "\n",
              "    [theme=dark] .colab-df-convert:hover {\n",
              "      background-color: #434B5C;\n",
              "      box-shadow: 0px 1px 3px 1px rgba(0, 0, 0, 0.15);\n",
              "      filter: drop-shadow(0px 1px 2px rgba(0, 0, 0, 0.3));\n",
              "      fill: #FFFFFF;\n",
              "    }\n",
              "  </style>\n",
              "\n",
              "      <script>\n",
              "        const buttonEl =\n",
              "          document.querySelector('#df-21fb3899-9c9a-4084-9cc8-af988c3b9372 button.colab-df-convert');\n",
              "        buttonEl.style.display =\n",
              "          google.colab.kernel.accessAllowed ? 'block' : 'none';\n",
              "\n",
              "        async function convertToInteractive(key) {\n",
              "          const element = document.querySelector('#df-21fb3899-9c9a-4084-9cc8-af988c3b9372');\n",
              "          const dataTable =\n",
              "            await google.colab.kernel.invokeFunction('convertToInteractive',\n",
              "                                                     [key], {});\n",
              "          if (!dataTable) return;\n",
              "\n",
              "          const docLinkHtml = 'Like what you see? Visit the ' +\n",
              "            '<a target=\"_blank\" href=https://colab.research.google.com/notebooks/data_table.ipynb>data table notebook</a>'\n",
              "            + ' to learn more about interactive tables.';\n",
              "          element.innerHTML = '';\n",
              "          dataTable['output_type'] = 'display_data';\n",
              "          await google.colab.output.renderOutput(dataTable, element);\n",
              "          const docLink = document.createElement('div');\n",
              "          docLink.innerHTML = docLinkHtml;\n",
              "          element.appendChild(docLink);\n",
              "        }\n",
              "      </script>\n",
              "    </div>\n",
              "  </div>\n",
              "  "
            ]
          },
          "metadata": {},
          "execution_count": 35
        }
      ],
      "source": [
        "df[df['z_rooms']>3]"
      ]
    },
    {
      "cell_type": "code",
      "execution_count": 36,
      "metadata": {
        "colab": {
          "base_uri": "https://localhost:8080/",
          "height": 113
        },
        "id": "1ZqQuyN239ch",
        "outputId": "affb3d20-ae4c-4268-c73d-077cc04e31b3"
      },
      "outputs": [
        {
          "output_type": "execute_result",
          "data": {
            "text/plain": [
              "Empty DataFrame\n",
              "Columns: [id, start_date, end_date, created_on, latitud, longitud, place_l2, place_l3, place_l4, operation, property_type, property_rooms, property_bedrooms, property_surface_total, property_surface_covered, property_price, property_currency, property_title, z_rooms]\n",
              "Index: []"
            ],
            "text/html": [
              "\n",
              "  <div id=\"df-58c65d5f-2965-409a-85c9-b9019c4400a2\">\n",
              "    <div class=\"colab-df-container\">\n",
              "      <div>\n",
              "<style scoped>\n",
              "    .dataframe tbody tr th:only-of-type {\n",
              "        vertical-align: middle;\n",
              "    }\n",
              "\n",
              "    .dataframe tbody tr th {\n",
              "        vertical-align: top;\n",
              "    }\n",
              "\n",
              "    .dataframe thead th {\n",
              "        text-align: right;\n",
              "    }\n",
              "</style>\n",
              "<table border=\"1\" class=\"dataframe\">\n",
              "  <thead>\n",
              "    <tr style=\"text-align: right;\">\n",
              "      <th></th>\n",
              "      <th>id</th>\n",
              "      <th>start_date</th>\n",
              "      <th>end_date</th>\n",
              "      <th>created_on</th>\n",
              "      <th>latitud</th>\n",
              "      <th>longitud</th>\n",
              "      <th>place_l2</th>\n",
              "      <th>place_l3</th>\n",
              "      <th>place_l4</th>\n",
              "      <th>operation</th>\n",
              "      <th>property_type</th>\n",
              "      <th>property_rooms</th>\n",
              "      <th>property_bedrooms</th>\n",
              "      <th>property_surface_total</th>\n",
              "      <th>property_surface_covered</th>\n",
              "      <th>property_price</th>\n",
              "      <th>property_currency</th>\n",
              "      <th>property_title</th>\n",
              "      <th>z_rooms</th>\n",
              "    </tr>\n",
              "  </thead>\n",
              "  <tbody>\n",
              "  </tbody>\n",
              "</table>\n",
              "</div>\n",
              "      <button class=\"colab-df-convert\" onclick=\"convertToInteractive('df-58c65d5f-2965-409a-85c9-b9019c4400a2')\"\n",
              "              title=\"Convert this dataframe to an interactive table.\"\n",
              "              style=\"display:none;\">\n",
              "        \n",
              "  <svg xmlns=\"http://www.w3.org/2000/svg\" height=\"24px\"viewBox=\"0 0 24 24\"\n",
              "       width=\"24px\">\n",
              "    <path d=\"M0 0h24v24H0V0z\" fill=\"none\"/>\n",
              "    <path d=\"M18.56 5.44l.94 2.06.94-2.06 2.06-.94-2.06-.94-.94-2.06-.94 2.06-2.06.94zm-11 1L8.5 8.5l.94-2.06 2.06-.94-2.06-.94L8.5 2.5l-.94 2.06-2.06.94zm10 10l.94 2.06.94-2.06 2.06-.94-2.06-.94-.94-2.06-.94 2.06-2.06.94z\"/><path d=\"M17.41 7.96l-1.37-1.37c-.4-.4-.92-.59-1.43-.59-.52 0-1.04.2-1.43.59L10.3 9.45l-7.72 7.72c-.78.78-.78 2.05 0 2.83L4 21.41c.39.39.9.59 1.41.59.51 0 1.02-.2 1.41-.59l7.78-7.78 2.81-2.81c.8-.78.8-2.07 0-2.86zM5.41 20L4 18.59l7.72-7.72 1.47 1.35L5.41 20z\"/>\n",
              "  </svg>\n",
              "      </button>\n",
              "      \n",
              "  <style>\n",
              "    .colab-df-container {\n",
              "      display:flex;\n",
              "      flex-wrap:wrap;\n",
              "      gap: 12px;\n",
              "    }\n",
              "\n",
              "    .colab-df-convert {\n",
              "      background-color: #E8F0FE;\n",
              "      border: none;\n",
              "      border-radius: 50%;\n",
              "      cursor: pointer;\n",
              "      display: none;\n",
              "      fill: #1967D2;\n",
              "      height: 32px;\n",
              "      padding: 0 0 0 0;\n",
              "      width: 32px;\n",
              "    }\n",
              "\n",
              "    .colab-df-convert:hover {\n",
              "      background-color: #E2EBFA;\n",
              "      box-shadow: 0px 1px 2px rgba(60, 64, 67, 0.3), 0px 1px 3px 1px rgba(60, 64, 67, 0.15);\n",
              "      fill: #174EA6;\n",
              "    }\n",
              "\n",
              "    [theme=dark] .colab-df-convert {\n",
              "      background-color: #3B4455;\n",
              "      fill: #D2E3FC;\n",
              "    }\n",
              "\n",
              "    [theme=dark] .colab-df-convert:hover {\n",
              "      background-color: #434B5C;\n",
              "      box-shadow: 0px 1px 3px 1px rgba(0, 0, 0, 0.15);\n",
              "      filter: drop-shadow(0px 1px 2px rgba(0, 0, 0, 0.3));\n",
              "      fill: #FFFFFF;\n",
              "    }\n",
              "  </style>\n",
              "\n",
              "      <script>\n",
              "        const buttonEl =\n",
              "          document.querySelector('#df-58c65d5f-2965-409a-85c9-b9019c4400a2 button.colab-df-convert');\n",
              "        buttonEl.style.display =\n",
              "          google.colab.kernel.accessAllowed ? 'block' : 'none';\n",
              "\n",
              "        async function convertToInteractive(key) {\n",
              "          const element = document.querySelector('#df-58c65d5f-2965-409a-85c9-b9019c4400a2');\n",
              "          const dataTable =\n",
              "            await google.colab.kernel.invokeFunction('convertToInteractive',\n",
              "                                                     [key], {});\n",
              "          if (!dataTable) return;\n",
              "\n",
              "          const docLinkHtml = 'Like what you see? Visit the ' +\n",
              "            '<a target=\"_blank\" href=https://colab.research.google.com/notebooks/data_table.ipynb>data table notebook</a>'\n",
              "            + ' to learn more about interactive tables.';\n",
              "          element.innerHTML = '';\n",
              "          dataTable['output_type'] = 'display_data';\n",
              "          await google.colab.output.renderOutput(dataTable, element);\n",
              "          const docLink = document.createElement('div');\n",
              "          docLink.innerHTML = docLinkHtml;\n",
              "          element.appendChild(docLink);\n",
              "        }\n",
              "      </script>\n",
              "    </div>\n",
              "  </div>\n",
              "  "
            ]
          },
          "metadata": {},
          "execution_count": 36
        }
      ],
      "source": [
        "df[df['z_rooms']<-3]"
      ]
    },
    {
      "cell_type": "code",
      "execution_count": 37,
      "metadata": {
        "colab": {
          "base_uri": "https://localhost:8080/",
          "height": 295
        },
        "id": "reIPSjCn4YSX",
        "outputId": "eb10d36c-a054-42c2-8ea4-f3cdaed096e4"
      },
      "outputs": [
        {
          "output_type": "display_data",
          "data": {
            "text/plain": [
              "<Figure size 432x288 with 1 Axes>"
            ],
            "image/png": "[encoded data removed]"
          },
          "metadata": {
            "needs_background": "light"
          }
        }
      ],
      "source": [
        "plt.hist(df.z_rooms, bins=50, range=(-2,6))\n",
        "plt.title('Histograma Z-Score Rooms')\n",
        "plt.xlabel('Z-Score Rooms')\n",
        "plt.show()"
      ]
    },
    {
      "cell_type": "markdown",
      "source": [
        "##### Z-Score Modificado"
      ],
      "metadata": {
        "id": "KVhtCn-vmrDk"
      }
    },
    {
      "cell_type": "code",
      "execution_count": 38,
      "metadata": {
        "id": "S_9vzJSv3eQ9"
      },
      "outputs": [],
      "source": [
        "mediana_room=np.median(df.property_rooms)\n",
        "\n",
        "MAD=np.median(np.absolute(df.property_rooms-mediana_room))\n",
        "\n",
        "df['zm_rooms']=(df.property_rooms - mediana_room)*0.6745/MAD"
      ]
    },
    {
      "cell_type": "code",
      "execution_count": 39,
      "metadata": {
        "colab": {
          "base_uri": "https://localhost:8080/",
          "height": 113
        },
        "id": "TYhesN1X44n0",
        "outputId": "c38468b1-b96b-4224-9776-80d32192d904"
      },
      "outputs": [
        {
          "output_type": "execute_result",
          "data": {
            "text/plain": [
              "Empty DataFrame\n",
              "Columns: [id, start_date, end_date, created_on, latitud, longitud, place_l2, place_l3, place_l4, operation, property_type, property_rooms, property_bedrooms, property_surface_total, property_surface_covered, property_price, property_currency, property_title, z_rooms, zm_rooms]\n",
              "Index: []"
            ],
            "text/html": [
              "\n",
              "  <div id=\"df-50f2b8fd-9f6a-413a-9dff-b3e549f14ecb\">\n",
              "    <div class=\"colab-df-container\">\n",
              "      <div>\n",
              "<style scoped>\n",
              "    .dataframe tbody tr th:only-of-type {\n",
              "        vertical-align: middle;\n",
              "    }\n",
              "\n",
              "    .dataframe tbody tr th {\n",
              "        vertical-align: top;\n",
              "    }\n",
              "\n",
              "    .dataframe thead th {\n",
              "        text-align: right;\n",
              "    }\n",
              "</style>\n",
              "<table border=\"1\" class=\"dataframe\">\n",
              "  <thead>\n",
              "    <tr style=\"text-align: right;\">\n",
              "      <th></th>\n",
              "      <th>id</th>\n",
              "      <th>start_date</th>\n",
              "      <th>end_date</th>\n",
              "      <th>created_on</th>\n",
              "      <th>latitud</th>\n",
              "      <th>longitud</th>\n",
              "      <th>place_l2</th>\n",
              "      <th>place_l3</th>\n",
              "      <th>place_l4</th>\n",
              "      <th>operation</th>\n",
              "      <th>property_type</th>\n",
              "      <th>property_rooms</th>\n",
              "      <th>property_bedrooms</th>\n",
              "      <th>property_surface_total</th>\n",
              "      <th>property_surface_covered</th>\n",
              "      <th>property_price</th>\n",
              "      <th>property_currency</th>\n",
              "      <th>property_title</th>\n",
              "      <th>z_rooms</th>\n",
              "      <th>zm_rooms</th>\n",
              "    </tr>\n",
              "  </thead>\n",
              "  <tbody>\n",
              "  </tbody>\n",
              "</table>\n",
              "</div>\n",
              "      <button class=\"colab-df-convert\" onclick=\"convertToInteractive('df-50f2b8fd-9f6a-413a-9dff-b3e549f14ecb')\"\n",
              "              title=\"Convert this dataframe to an interactive table.\"\n",
              "              style=\"display:none;\">\n",
              "        \n",
              "  <svg xmlns=\"http://www.w3.org/2000/svg\" height=\"24px\"viewBox=\"0 0 24 24\"\n",
              "       width=\"24px\">\n",
              "    <path d=\"M0 0h24v24H0V0z\" fill=\"none\"/>\n",
              "    <path d=\"M18.56 5.44l.94 2.06.94-2.06 2.06-.94-2.06-.94-.94-2.06-.94 2.06-2.06.94zm-11 1L8.5 8.5l.94-2.06 2.06-.94-2.06-.94L8.5 2.5l-.94 2.06-2.06.94zm10 10l.94 2.06.94-2.06 2.06-.94-2.06-.94-.94-2.06-.94 2.06-2.06.94z\"/><path d=\"M17.41 7.96l-1.37-1.37c-.4-.4-.92-.59-1.43-.59-.52 0-1.04.2-1.43.59L10.3 9.45l-7.72 7.72c-.78.78-.78 2.05 0 2.83L4 21.41c.39.39.9.59 1.41.59.51 0 1.02-.2 1.41-.59l7.78-7.78 2.81-2.81c.8-.78.8-2.07 0-2.86zM5.41 20L4 18.59l7.72-7.72 1.47 1.35L5.41 20z\"/>\n",
              "  </svg>\n",
              "      </button>\n",
              "      \n",
              "  <style>\n",
              "    .colab-df-container {\n",
              "      display:flex;\n",
              "      flex-wrap:wrap;\n",
              "      gap: 12px;\n",
              "    }\n",
              "\n",
              "    .colab-df-convert {\n",
              "      background-color: #E8F0FE;\n",
              "      border: none;\n",
              "      border-radius: 50%;\n",
              "      cursor: pointer;\n",
              "      display: none;\n",
              "      fill: #1967D2;\n",
              "      height: 32px;\n",
              "      padding: 0 0 0 0;\n",
              "      width: 32px;\n",
              "    }\n",
              "\n",
              "    .colab-df-convert:hover {\n",
              "      background-color: #E2EBFA;\n",
              "      box-shadow: 0px 1px 2px rgba(60, 64, 67, 0.3), 0px 1px 3px 1px rgba(60, 64, 67, 0.15);\n",
              "      fill: #174EA6;\n",
              "    }\n",
              "\n",
              "    [theme=dark] .colab-df-convert {\n",
              "      background-color: #3B4455;\n",
              "      fill: #D2E3FC;\n",
              "    }\n",
              "\n",
              "    [theme=dark] .colab-df-convert:hover {\n",
              "      background-color: #434B5C;\n",
              "      box-shadow: 0px 1px 3px 1px rgba(0, 0, 0, 0.15);\n",
              "      filter: drop-shadow(0px 1px 2px rgba(0, 0, 0, 0.3));\n",
              "      fill: #FFFFFF;\n",
              "    }\n",
              "  </style>\n",
              "\n",
              "      <script>\n",
              "        const buttonEl =\n",
              "          document.querySelector('#df-50f2b8fd-9f6a-413a-9dff-b3e549f14ecb button.colab-df-convert');\n",
              "        buttonEl.style.display =\n",
              "          google.colab.kernel.accessAllowed ? 'block' : 'none';\n",
              "\n",
              "        async function convertToInteractive(key) {\n",
              "          const element = document.querySelector('#df-50f2b8fd-9f6a-413a-9dff-b3e549f14ecb');\n",
              "          const dataTable =\n",
              "            await google.colab.kernel.invokeFunction('convertToInteractive',\n",
              "                                                     [key], {});\n",
              "          if (!dataTable) return;\n",
              "\n",
              "          const docLinkHtml = 'Like what you see? Visit the ' +\n",
              "            '<a target=\"_blank\" href=https://colab.research.google.com/notebooks/data_table.ipynb>data table notebook</a>'\n",
              "            + ' to learn more about interactive tables.';\n",
              "          element.innerHTML = '';\n",
              "          dataTable['output_type'] = 'display_data';\n",
              "          await google.colab.output.renderOutput(dataTable, element);\n",
              "          const docLink = document.createElement('div');\n",
              "          docLink.innerHTML = docLinkHtml;\n",
              "          element.appendChild(docLink);\n",
              "        }\n",
              "      </script>\n",
              "    </div>\n",
              "  </div>\n",
              "  "
            ]
          },
          "metadata": {},
          "execution_count": 39
        }
      ],
      "source": [
        "df[(df['zm_rooms']>3.5)]"
      ]
    },
    {
      "cell_type": "code",
      "execution_count": 40,
      "metadata": {
        "colab": {
          "base_uri": "https://localhost:8080/",
          "height": 113
        },
        "id": "dCB1gZHh4_fK",
        "outputId": "c764e01a-b06d-407e-e62e-c5444967d18e"
      },
      "outputs": [
        {
          "output_type": "execute_result",
          "data": {
            "text/plain": [
              "Empty DataFrame\n",
              "Columns: [id, start_date, end_date, created_on, latitud, longitud, place_l2, place_l3, place_l4, operation, property_type, property_rooms, property_bedrooms, property_surface_total, property_surface_covered, property_price, property_currency, property_title, z_rooms, zm_rooms]\n",
              "Index: []"
            ],
            "text/html": [
              "\n",
              "  <div id=\"df-0733b24a-5a7a-449c-87a4-04ff8d4aa495\">\n",
              "    <div class=\"colab-df-container\">\n",
              "      <div>\n",
              "<style scoped>\n",
              "    .dataframe tbody tr th:only-of-type {\n",
              "        vertical-align: middle;\n",
              "    }\n",
              "\n",
              "    .dataframe tbody tr th {\n",
              "        vertical-align: top;\n",
              "    }\n",
              "\n",
              "    .dataframe thead th {\n",
              "        text-align: right;\n",
              "    }\n",
              "</style>\n",
              "<table border=\"1\" class=\"dataframe\">\n",
              "  <thead>\n",
              "    <tr style=\"text-align: right;\">\n",
              "      <th></th>\n",
              "      <th>id</th>\n",
              "      <th>start_date</th>\n",
              "      <th>end_date</th>\n",
              "      <th>created_on</th>\n",
              "      <th>latitud</th>\n",
              "      <th>longitud</th>\n",
              "      <th>place_l2</th>\n",
              "      <th>place_l3</th>\n",
              "      <th>place_l4</th>\n",
              "      <th>operation</th>\n",
              "      <th>property_type</th>\n",
              "      <th>property_rooms</th>\n",
              "      <th>property_bedrooms</th>\n",
              "      <th>property_surface_total</th>\n",
              "      <th>property_surface_covered</th>\n",
              "      <th>property_price</th>\n",
              "      <th>property_currency</th>\n",
              "      <th>property_title</th>\n",
              "      <th>z_rooms</th>\n",
              "      <th>zm_rooms</th>\n",
              "    </tr>\n",
              "  </thead>\n",
              "  <tbody>\n",
              "  </tbody>\n",
              "</table>\n",
              "</div>\n",
              "      <button class=\"colab-df-convert\" onclick=\"convertToInteractive('df-0733b24a-5a7a-449c-87a4-04ff8d4aa495')\"\n",
              "              title=\"Convert this dataframe to an interactive table.\"\n",
              "              style=\"display:none;\">\n",
              "        \n",
              "  <svg xmlns=\"http://www.w3.org/2000/svg\" height=\"24px\"viewBox=\"0 0 24 24\"\n",
              "       width=\"24px\">\n",
              "    <path d=\"M0 0h24v24H0V0z\" fill=\"none\"/>\n",
              "    <path d=\"M18.56 5.44l.94 2.06.94-2.06 2.06-.94-2.06-.94-.94-2.06-.94 2.06-2.06.94zm-11 1L8.5 8.5l.94-2.06 2.06-.94-2.06-.94L8.5 2.5l-.94 2.06-2.06.94zm10 10l.94 2.06.94-2.06 2.06-.94-2.06-.94-.94-2.06-.94 2.06-2.06.94z\"/><path d=\"M17.41 7.96l-1.37-1.37c-.4-.4-.92-.59-1.43-.59-.52 0-1.04.2-1.43.59L10.3 9.45l-7.72 7.72c-.78.78-.78 2.05 0 2.83L4 21.41c.39.39.9.59 1.41.59.51 0 1.02-.2 1.41-.59l7.78-7.78 2.81-2.81c.8-.78.8-2.07 0-2.86zM5.41 20L4 18.59l7.72-7.72 1.47 1.35L5.41 20z\"/>\n",
              "  </svg>\n",
              "      </button>\n",
              "      \n",
              "  <style>\n",
              "    .colab-df-container {\n",
              "      display:flex;\n",
              "      flex-wrap:wrap;\n",
              "      gap: 12px;\n",
              "    }\n",
              "\n",
              "    .colab-df-convert {\n",
              "      background-color: #E8F0FE;\n",
              "      border: none;\n",
              "      border-radius: 50%;\n",
              "      cursor: pointer;\n",
              "      display: none;\n",
              "      fill: #1967D2;\n",
              "      height: 32px;\n",
              "      padding: 0 0 0 0;\n",
              "      width: 32px;\n",
              "    }\n",
              "\n",
              "    .colab-df-convert:hover {\n",
              "      background-color: #E2EBFA;\n",
              "      box-shadow: 0px 1px 2px rgba(60, 64, 67, 0.3), 0px 1px 3px 1px rgba(60, 64, 67, 0.15);\n",
              "      fill: #174EA6;\n",
              "    }\n",
              "\n",
              "    [theme=dark] .colab-df-convert {\n",
              "      background-color: #3B4455;\n",
              "      fill: #D2E3FC;\n",
              "    }\n",
              "\n",
              "    [theme=dark] .colab-df-convert:hover {\n",
              "      background-color: #434B5C;\n",
              "      box-shadow: 0px 1px 3px 1px rgba(0, 0, 0, 0.15);\n",
              "      filter: drop-shadow(0px 1px 2px rgba(0, 0, 0, 0.3));\n",
              "      fill: #FFFFFF;\n",
              "    }\n",
              "  </style>\n",
              "\n",
              "      <script>\n",
              "        const buttonEl =\n",
              "          document.querySelector('#df-0733b24a-5a7a-449c-87a4-04ff8d4aa495 button.colab-df-convert');\n",
              "        buttonEl.style.display =\n",
              "          google.colab.kernel.accessAllowed ? 'block' : 'none';\n",
              "\n",
              "        async function convertToInteractive(key) {\n",
              "          const element = document.querySelector('#df-0733b24a-5a7a-449c-87a4-04ff8d4aa495');\n",
              "          const dataTable =\n",
              "            await google.colab.kernel.invokeFunction('convertToInteractive',\n",
              "                                                     [key], {});\n",
              "          if (!dataTable) return;\n",
              "\n",
              "          const docLinkHtml = 'Like what you see? Visit the ' +\n",
              "            '<a target=\"_blank\" href=https://colab.research.google.com/notebooks/data_table.ipynb>data table notebook</a>'\n",
              "            + ' to learn more about interactive tables.';\n",
              "          element.innerHTML = '';\n",
              "          dataTable['output_type'] = 'display_data';\n",
              "          await google.colab.output.renderOutput(dataTable, element);\n",
              "          const docLink = document.createElement('div');\n",
              "          docLink.innerHTML = docLinkHtml;\n",
              "          element.appendChild(docLink);\n",
              "        }\n",
              "      </script>\n",
              "    </div>\n",
              "  </div>\n",
              "  "
            ]
          },
          "metadata": {},
          "execution_count": 40
        }
      ],
      "source": [
        "df[(df['zm_rooms']<-3.5)]"
      ]
    },
    {
      "cell_type": "code",
      "execution_count": 41,
      "metadata": {
        "colab": {
          "base_uri": "https://localhost:8080/",
          "height": 295
        },
        "id": "y3nngO0HVms0",
        "outputId": "52bff200-593a-4bc3-94ea-279423a3cc10"
      },
      "outputs": [
        {
          "output_type": "display_data",
          "data": {
            "text/plain": [
              "<Figure size 432x288 with 1 Axes>"
            ],
            "image/png": "[encoded data removed]"
          },
          "metadata": {
            "needs_background": "light"
          }
        }
      ],
      "source": [
        "plt.hist(df.zm_rooms, bins=50, range=(-2,6))\n",
        "plt.title('Histograma Z-Score Modificado Rooms')\n",
        "plt.xlabel('Z-Score Modificado Rooms')\n",
        "plt.show()"
      ]
    },
    {
      "cell_type": "markdown",
      "metadata": {
        "id": "cmPjvnVDhvWi"
      },
      "source": [
        "##### Características"
      ]
    },
    {
      "cell_type": "markdown",
      "metadata": {
        "id": "cRu2mBWKh0Zs"
      },
      "source": [
        "Del análisis de los 3 gráficos previamente presentados, podemos concluir que, puesto que existe una gran masa conjunta de observaciones que superan el límite superior del tercer cuartil, podríamos decir que los outliers en cuestión son del tipo colectivo."
      ]
    },
    {
      "cell_type": "markdown",
      "metadata": {
        "id": "TsWBLuvVy-YK"
      },
      "source": [
        "#### Property bedrooms\n",
        "\n",
        "Al igual que los ambientes, podemos notar tambien aca la presencia de algunos valores lejanos a los extremos de los cuartiles que usamos de referencia. En particular tenemos uno notoriamente distanciado cercano al numero 70."
      ]
    },
    {
      "cell_type": "markdown",
      "metadata": {
        "id": "G1zEwYCrRmnD"
      },
      "source": [
        "Repetimos los metodos anteriores."
      ]
    },
    {
      "cell_type": "markdown",
      "metadata": {
        "id": "KiJLnkY_Rpyi"
      },
      "source": [
        " ##### Box plot\n"
      ]
    },
    {
      "cell_type": "code",
      "execution_count": 42,
      "metadata": {
        "colab": {
          "base_uri": "https://localhost:8080/",
          "height": 252
        },
        "id": "JLkz5m6HrAoP",
        "outputId": "bd5be387-a141-4454-eb28-7b71911427e9"
      },
      "outputs": [
        {
          "output_type": "display_data",
          "data": {
            "text/plain": [
              "<Figure size 432x288 with 1 Axes>"
            ],
            "image/png": "[encoded data removed]"
          },
          "metadata": {
            "needs_background": "light"
          }
        }
      ],
      "source": [
        "sns.boxplot(y=df.property_bedrooms)\n",
        "plt.show()"
      ]
    },
    {
      "cell_type": "code",
      "execution_count": 43,
      "metadata": {
        "colab": {
          "base_uri": "https://localhost:8080/"
        },
        "id": "6iH1LhJKzEPs",
        "outputId": "c03fe4f2-6c30-46b6-cf5e-53d2e777c39d"
      },
      "outputs": [
        {
          "output_type": "stream",
          "name": "stdout",
          "text": [
            "El valor de Q1 es: 1.0\n",
            "El valor de Q3 es: 3.0\n",
            "El limite inferior del Q1 es: -2.0\n",
            "El limite superior del Q3 es: 6.0\n"
          ]
        }
      ],
      "source": [
        "# Cuartiles\n",
        "Q1_property_bedrooms=df.describe().get(\"property_bedrooms\").get(\"25%\")\n",
        "Q3_property_bedrooms=df.describe().get(\"property_bedrooms\").get(\"75%\")\n",
        "\n",
        "print(\"El valor de Q1 es:\", Q1_property_bedrooms)\n",
        "print(\"El valor de Q3 es:\", Q3_property_bedrooms)\n",
        "\n",
        "# Rango intercuartil\n",
        "IQR_property_bedrooms=Q3_property_bedrooms-Q1_property_bedrooms\n",
        "\n",
        "# Limites Outliers\n",
        "out_inf=Q1_property_bedrooms-1.5*IQR_property_bedrooms\n",
        "out_sup=Q3_property_bedrooms+1.5*IQR_property_bedrooms\n",
        "print(\"El limite inferior del Q1 es:\", out_inf)\n",
        "print(\"El limite superior del Q3 es:\", out_sup)"
      ]
    },
    {
      "cell_type": "markdown",
      "metadata": {
        "id": "Edc0IGA4Idm8"
      },
      "source": [
        "Confirmamos que tratamos con un outlier notando la relacion por ejemplo con la variable property rooms"
      ]
    },
    {
      "cell_type": "code",
      "execution_count": 44,
      "metadata": {
        "colab": {
          "base_uri": "https://localhost:8080/",
          "height": 818
        },
        "id": "gXQYiWVCItCA",
        "outputId": "bea0c6e7-159a-439d-c208-4e2d681dc53e"
      },
      "outputs": [
        {
          "output_type": "execute_result",
          "data": {
            "text/plain": [
              "                              id start_date   end_date created_on    latitud  \\\n",
              "58      tgaK6Ibor1zLY5bvNxsXfw== 2021-09-09 2021-09-26 2021-09-09 -34.633730   \n",
              "1800    xOxObQG9UHaTxLPYGOtK4w== 2021-12-17 2022-02-09 2021-12-17 -34.616128   \n",
              "3071    r6wObBTHokmjYtHqvcAlyQ== 2021-02-20 2021-03-01 2021-02-20 -34.623590   \n",
              "6355    PZJRORTIAvMTvI3A+FLDUQ== 2021-10-29 2021-11-03 2021-10-29 -34.577180   \n",
              "6869    vtFpL0vRYrdtMyLuHCrhkQ== 2021-02-09        NaT 2021-02-09 -34.631952   \n",
              "...                          ...        ...        ...        ...        ...   \n",
              "451439  xAhwsSTSgi3S3LwevVCiLA== 2021-12-16 2021-12-21 2021-12-16 -34.609154   \n",
              "457063  D2v8pvBdj56lpVuQPiSbQA== 2021-05-08 2021-05-20 2021-05-08 -34.572554   \n",
              "457064  rWpwKlxzNHvQYcrs+sBijQ== 2021-05-08 2021-05-20 2021-05-08 -34.572554   \n",
              "458873  JklH0r8XBsFn3380WryLIw== 2021-01-05        NaT 2021-01-05 -34.625353   \n",
              "459922  tO370Sb5BxaIjD5RxajSog== 2021-01-05 2021-08-02 2021-01-05 -34.590893   \n",
              "\n",
              "         longitud         place_l2       place_l3       place_l4 operation  \\\n",
              "58     -58.424729  Capital Federal          Boedo          Boedo     Venta   \n",
              "1800   -58.394715  Capital Federal      Balvanera      Balvanera     Venta   \n",
              "3071   -58.401566  Capital Federal  San Cristobal  San Cristobal     Venta   \n",
              "6355   -58.451264  Capital Federal     Colegiales     Colegiales     Venta   \n",
              "6869   -58.373878  Capital Federal       Barracas       Barracas     Venta   \n",
              "...           ...              ...            ...            ...       ...   \n",
              "451439 -58.383631  Capital Federal       Congreso       Congreso     Venta   \n",
              "457063 -58.469842  Capital Federal       Belgrano       Belgrano     Venta   \n",
              "457064 -58.469842  Capital Federal       Belgrano       Belgrano     Venta   \n",
              "458873 -58.372014  Capital Federal      San Telmo      San Telmo     Venta   \n",
              "459922 -58.408146  Capital Federal   Barrio Norte   Barrio Norte     Venta   \n",
              "\n",
              "       property_type  property_rooms  property_bedrooms  \\\n",
              "58              Casa            10.0               10.0   \n",
              "1800            Casa             8.0                7.0   \n",
              "3071              PH            15.0               15.0   \n",
              "6355    Departamento             6.0                8.0   \n",
              "6869            Casa             8.0                7.0   \n",
              "...              ...             ...                ...   \n",
              "451439  Departamento            10.0                9.0   \n",
              "457063          Casa             8.0                7.0   \n",
              "457064          Casa             8.0                7.0   \n",
              "458873          Casa            12.0               12.0   \n",
              "459922  Departamento            10.0                9.0   \n",
              "\n",
              "        property_surface_total  property_surface_covered  property_price  \\\n",
              "58                       394.0                     244.0        500000.0   \n",
              "1800                     164.0                     143.0        215000.0   \n",
              "3071                     355.0                     215.0        220000.0   \n",
              "6355                     424.0                     324.0        660000.0   \n",
              "6869                     350.0                     350.0        550000.0   \n",
              "...                        ...                       ...             ...   \n",
              "451439                   240.0                     227.0        370000.0   \n",
              "457063                   400.0                     400.0        920000.0   \n",
              "457064                   400.0                     400.0        920000.0   \n",
              "458873                   820.0                     820.0        550000.0   \n",
              "459922                   145.0                     145.0        300000.0   \n",
              "\n",
              "       property_currency                                     property_title  \\\n",
              "58                   USD  VENTA CASA BOEDO LOCAL  DEPARTAMENTOS HABITACI...   \n",
              "1800                 USD             Casa 8 Ambientes ubicada en Balvanera    \n",
              "3071                 USD     PH 15 AMBIENTES HOTEL A RECICLAR San Cristóbal   \n",
              "6355                 USD  DEPARTAMENTOS CON 2 UNIDADES COMPLEMENTARIAS E...   \n",
              "6869                 USD                EXCELENTE  CASA EN TERRENO  PROPIO    \n",
              "...                  ...                                                ...   \n",
              "451439               USD  Venta 10 amb - Congreso - Edificio Historico A...   \n",
              "457063               USD                        Casa - Belgrano R - Esquina   \n",
              "457064               USD  Casa - Belgrano R - Lote propio - Esquina - Oc...   \n",
              "458873               USD                       Casa de  820 m2 en San Telmo   \n",
              "459922               USD           Enorme 10 amb de 145m2 - ideal inversión   \n",
              "\n",
              "         z_rooms  zm_rooms  \n",
              "58      4.992871       NaN  \n",
              "1800    3.599764       NaN  \n",
              "3071    8.475638       NaN  \n",
              "6355    2.206657       NaN  \n",
              "6869    3.599764       NaN  \n",
              "...          ...       ...  \n",
              "451439  4.992871       NaN  \n",
              "457063  3.599764       NaN  \n",
              "457064  3.599764       NaN  \n",
              "458873  6.385977       NaN  \n",
              "459922  4.992871       NaN  \n",
              "\n",
              "[289 rows x 20 columns]"
            ],
            "text/html": [
              "\n",
              "  <div id=\"df-493bf082-8983-49d9-bad6-c34c95b58870\">\n",
              "    <div class=\"colab-df-container\">\n",
              "      <div>\n",
              "<style scoped>\n",
              "    .dataframe tbody tr th:only-of-type {\n",
              "        vertical-align: middle;\n",
              "    }\n",
              "\n",
              "    .dataframe tbody tr th {\n",
              "        vertical-align: top;\n",
              "    }\n",
              "\n",
              "    .dataframe thead th {\n",
              "        text-align: right;\n",
              "    }\n",
              "</style>\n",
              "<table border=\"1\" class=\"dataframe\">\n",
              "  <thead>\n",
              "    <tr style=\"text-align: right;\">\n",
              "      <th></th>\n",
              "      <th>id</th>\n",
              "      <th>start_date</th>\n",
              "      <th>end_date</th>\n",
              "      <th>created_on</th>\n",
              "      <th>latitud</th>\n",
              "      <th>longitud</th>\n",
              "      <th>place_l2</th>\n",
              "      <th>place_l3</th>\n",
              "      <th>place_l4</th>\n",
              "      <th>operation</th>\n",
              "      <th>property_type</th>\n",
              "      <th>property_rooms</th>\n",
              "      <th>property_bedrooms</th>\n",
              "      <th>property_surface_total</th>\n",
              "      <th>property_surface_covered</th>\n",
              "      <th>property_price</th>\n",
              "      <th>property_currency</th>\n",
              "      <th>property_title</th>\n",
              "      <th>z_rooms</th>\n",
              "      <th>zm_rooms</th>\n",
              "    </tr>\n",
              "  </thead>\n",
              "  <tbody>\n",
              "    <tr>\n",
              "      <th>58</th>\n",
              "      <td>tgaK6Ibor1zLY5bvNxsXfw==</td>\n",
              "      <td>2021-09-09</td>\n",
              "      <td>2021-09-26</td>\n",
              "      <td>2021-09-09</td>\n",
              "      <td>-34.633730</td>\n",
              "      <td>-58.424729</td>\n",
              "      <td>Capital Federal</td>\n",
              "      <td>Boedo</td>\n",
              "      <td>Boedo</td>\n",
              "      <td>Venta</td>\n",
              "      <td>Casa</td>\n",
              "      <td>10.0</td>\n",
              "      <td>10.0</td>\n",
              "      <td>394.0</td>\n",
              "      <td>244.0</td>\n",
              "      <td>500000.0</td>\n",
              "      <td>USD</td>\n",
              "      <td>VENTA CASA BOEDO LOCAL  DEPARTAMENTOS HABITACI...</td>\n",
              "      <td>4.992871</td>\n",
              "      <td>NaN</td>\n",
              "    </tr>\n",
              "    <tr>\n",
              "      <th>1800</th>\n",
              "      <td>xOxObQG9UHaTxLPYGOtK4w==</td>\n",
              "      <td>2021-12-17</td>\n",
              "      <td>2022-02-09</td>\n",
              "      <td>2021-12-17</td>\n",
              "      <td>-34.616128</td>\n",
              "      <td>-58.394715</td>\n",
              "      <td>Capital Federal</td>\n",
              "      <td>Balvanera</td>\n",
              "      <td>Balvanera</td>\n",
              "      <td>Venta</td>\n",
              "      <td>Casa</td>\n",
              "      <td>8.0</td>\n",
              "      <td>7.0</td>\n",
              "      <td>164.0</td>\n",
              "      <td>143.0</td>\n",
              "      <td>215000.0</td>\n",
              "      <td>USD</td>\n",
              "      <td>Casa 8 Ambientes ubicada en Balvanera</td>\n",
              "      <td>3.599764</td>\n",
              "      <td>NaN</td>\n",
              "    </tr>\n",
              "    <tr>\n",
              "      <th>3071</th>\n",
              "      <td>r6wObBTHokmjYtHqvcAlyQ==</td>\n",
              "      <td>2021-02-20</td>\n",
              "      <td>2021-03-01</td>\n",
              "      <td>2021-02-20</td>\n",
              "      <td>-34.623590</td>\n",
              "      <td>-58.401566</td>\n",
              "      <td>Capital Federal</td>\n",
              "      <td>San Cristobal</td>\n",
              "      <td>San Cristobal</td>\n",
              "      <td>Venta</td>\n",
              "      <td>PH</td>\n",
              "      <td>15.0</td>\n",
              "      <td>15.0</td>\n",
              "      <td>355.0</td>\n",
              "      <td>215.0</td>\n",
              "      <td>220000.0</td>\n",
              "      <td>USD</td>\n",
              "      <td>PH 15 AMBIENTES HOTEL A RECICLAR San Cristóbal</td>\n",
              "      <td>8.475638</td>\n",
              "      <td>NaN</td>\n",
              "    </tr>\n",
              "    <tr>\n",
              "      <th>6355</th>\n",
              "      <td>PZJRORTIAvMTvI3A+FLDUQ==</td>\n",
              "      <td>2021-10-29</td>\n",
              "      <td>2021-11-03</td>\n",
              "      <td>2021-10-29</td>\n",
              "      <td>-34.577180</td>\n",
              "      <td>-58.451264</td>\n",
              "      <td>Capital Federal</td>\n",
              "      <td>Colegiales</td>\n",
              "      <td>Colegiales</td>\n",
              "      <td>Venta</td>\n",
              "      <td>Departamento</td>\n",
              "      <td>6.0</td>\n",
              "      <td>8.0</td>\n",
              "      <td>424.0</td>\n",
              "      <td>324.0</td>\n",
              "      <td>660000.0</td>\n",
              "      <td>USD</td>\n",
              "      <td>DEPARTAMENTOS CON 2 UNIDADES COMPLEMENTARIAS E...</td>\n",
              "      <td>2.206657</td>\n",
              "      <td>NaN</td>\n",
              "    </tr>\n",
              "    <tr>\n",
              "      <th>6869</th>\n",
              "      <td>vtFpL0vRYrdtMyLuHCrhkQ==</td>\n",
              "      <td>2021-02-09</td>\n",
              "      <td>NaT</td>\n",
              "      <td>2021-02-09</td>\n",
              "      <td>-34.631952</td>\n",
              "      <td>-58.373878</td>\n",
              "      <td>Capital Federal</td>\n",
              "      <td>Barracas</td>\n",
              "      <td>Barracas</td>\n",
              "      <td>Venta</td>\n",
              "      <td>Casa</td>\n",
              "      <td>8.0</td>\n",
              "      <td>7.0</td>\n",
              "      <td>350.0</td>\n",
              "      <td>350.0</td>\n",
              "      <td>550000.0</td>\n",
              "      <td>USD</td>\n",
              "      <td>EXCELENTE  CASA EN TERRENO  PROPIO</td>\n",
              "      <td>3.599764</td>\n",
              "      <td>NaN</td>\n",
              "    </tr>\n",
              "    <tr>\n",
              "      <th>...</th>\n",
              "      <td>...</td>\n",
              "      <td>...</td>\n",
              "      <td>...</td>\n",
              "      <td>...</td>\n",
              "      <td>...</td>\n",
              "      <td>...</td>\n",
              "      <td>...</td>\n",
              "      <td>...</td>\n",
              "      <td>...</td>\n",
              "      <td>...</td>\n",
              "      <td>...</td>\n",
              "      <td>...</td>\n",
              "      <td>...</td>\n",
              "      <td>...</td>\n",
              "      <td>...</td>\n",
              "      <td>...</td>\n",
              "      <td>...</td>\n",
              "      <td>...</td>\n",
              "      <td>...</td>\n",
              "      <td>...</td>\n",
              "    </tr>\n",
              "    <tr>\n",
              "      <th>451439</th>\n",
              "      <td>xAhwsSTSgi3S3LwevVCiLA==</td>\n",
              "      <td>2021-12-16</td>\n",
              "      <td>2021-12-21</td>\n",
              "      <td>2021-12-16</td>\n",
              "      <td>-34.609154</td>\n",
              "      <td>-58.383631</td>\n",
              "      <td>Capital Federal</td>\n",
              "      <td>Congreso</td>\n",
              "      <td>Congreso</td>\n",
              "      <td>Venta</td>\n",
              "      <td>Departamento</td>\n",
              "      <td>10.0</td>\n",
              "      <td>9.0</td>\n",
              "      <td>240.0</td>\n",
              "      <td>227.0</td>\n",
              "      <td>370000.0</td>\n",
              "      <td>USD</td>\n",
              "      <td>Venta 10 amb - Congreso - Edificio Historico A...</td>\n",
              "      <td>4.992871</td>\n",
              "      <td>NaN</td>\n",
              "    </tr>\n",
              "    <tr>\n",
              "      <th>457063</th>\n",
              "      <td>D2v8pvBdj56lpVuQPiSbQA==</td>\n",
              "      <td>2021-05-08</td>\n",
              "      <td>2021-05-20</td>\n",
              "      <td>2021-05-08</td>\n",
              "      <td>-34.572554</td>\n",
              "      <td>-58.469842</td>\n",
              "      <td>Capital Federal</td>\n",
              "      <td>Belgrano</td>\n",
              "      <td>Belgrano</td>\n",
              "      <td>Venta</td>\n",
              "      <td>Casa</td>\n",
              "      <td>8.0</td>\n",
              "      <td>7.0</td>\n",
              "      <td>400.0</td>\n",
              "      <td>400.0</td>\n",
              "      <td>920000.0</td>\n",
              "      <td>USD</td>\n",
              "      <td>Casa - Belgrano R - Esquina</td>\n",
              "      <td>3.599764</td>\n",
              "      <td>NaN</td>\n",
              "    </tr>\n",
              "    <tr>\n",
              "      <th>457064</th>\n",
              "      <td>rWpwKlxzNHvQYcrs+sBijQ==</td>\n",
              "      <td>2021-05-08</td>\n",
              "      <td>2021-05-20</td>\n",
              "      <td>2021-05-08</td>\n",
              "      <td>-34.572554</td>\n",
              "      <td>-58.469842</td>\n",
              "      <td>Capital Federal</td>\n",
              "      <td>Belgrano</td>\n",
              "      <td>Belgrano</td>\n",
              "      <td>Venta</td>\n",
              "      <td>Casa</td>\n",
              "      <td>8.0</td>\n",
              "      <td>7.0</td>\n",
              "      <td>400.0</td>\n",
              "      <td>400.0</td>\n",
              "      <td>920000.0</td>\n",
              "      <td>USD</td>\n",
              "      <td>Casa - Belgrano R - Lote propio - Esquina - Oc...</td>\n",
              "      <td>3.599764</td>\n",
              "      <td>NaN</td>\n",
              "    </tr>\n",
              "    <tr>\n",
              "      <th>458873</th>\n",
              "      <td>JklH0r8XBsFn3380WryLIw==</td>\n",
              "      <td>2021-01-05</td>\n",
              "      <td>NaT</td>\n",
              "      <td>2021-01-05</td>\n",
              "      <td>-34.625353</td>\n",
              "      <td>-58.372014</td>\n",
              "      <td>Capital Federal</td>\n",
              "      <td>San Telmo</td>\n",
              "      <td>San Telmo</td>\n",
              "      <td>Venta</td>\n",
              "      <td>Casa</td>\n",
              "      <td>12.0</td>\n",
              "      <td>12.0</td>\n",
              "      <td>820.0</td>\n",
              "      <td>820.0</td>\n",
              "      <td>550000.0</td>\n",
              "      <td>USD</td>\n",
              "      <td>Casa de  820 m2 en San Telmo</td>\n",
              "      <td>6.385977</td>\n",
              "      <td>NaN</td>\n",
              "    </tr>\n",
              "    <tr>\n",
              "      <th>459922</th>\n",
              "      <td>tO370Sb5BxaIjD5RxajSog==</td>\n",
              "      <td>2021-01-05</td>\n",
              "      <td>2021-08-02</td>\n",
              "      <td>2021-01-05</td>\n",
              "      <td>-34.590893</td>\n",
              "      <td>-58.408146</td>\n",
              "      <td>Capital Federal</td>\n",
              "      <td>Barrio Norte</td>\n",
              "      <td>Barrio Norte</td>\n",
              "      <td>Venta</td>\n",
              "      <td>Departamento</td>\n",
              "      <td>10.0</td>\n",
              "      <td>9.0</td>\n",
              "      <td>145.0</td>\n",
              "      <td>145.0</td>\n",
              "      <td>300000.0</td>\n",
              "      <td>USD</td>\n",
              "      <td>Enorme 10 amb de 145m2 - ideal inversión</td>\n",
              "      <td>4.992871</td>\n",
              "      <td>NaN</td>\n",
              "    </tr>\n",
              "  </tbody>\n",
              "</table>\n",
              "<p>289 rows × 20 columns</p>\n",
              "</div>\n",
              "      <button class=\"colab-df-convert\" onclick=\"convertToInteractive('df-493bf082-8983-49d9-bad6-c34c95b58870')\"\n",
              "              title=\"Convert this dataframe to an interactive table.\"\n",
              "              style=\"display:none;\">\n",
              "        \n",
              "  <svg xmlns=\"http://www.w3.org/2000/svg\" height=\"24px\"viewBox=\"0 0 24 24\"\n",
              "       width=\"24px\">\n",
              "    <path d=\"M0 0h24v24H0V0z\" fill=\"none\"/>\n",
              "    <path d=\"M18.56 5.44l.94 2.06.94-2.06 2.06-.94-2.06-.94-.94-2.06-.94 2.06-2.06.94zm-11 1L8.5 8.5l.94-2.06 2.06-.94-2.06-.94L8.5 2.5l-.94 2.06-2.06.94zm10 10l.94 2.06.94-2.06 2.06-.94-2.06-.94-.94-2.06-.94 2.06-2.06.94z\"/><path d=\"M17.41 7.96l-1.37-1.37c-.4-.4-.92-.59-1.43-.59-.52 0-1.04.2-1.43.59L10.3 9.45l-7.72 7.72c-.78.78-.78 2.05 0 2.83L4 21.41c.39.39.9.59 1.41.59.51 0 1.02-.2 1.41-.59l7.78-7.78 2.81-2.81c.8-.78.8-2.07 0-2.86zM5.41 20L4 18.59l7.72-7.72 1.47 1.35L5.41 20z\"/>\n",
              "  </svg>\n",
              "      </button>\n",
              "      \n",
              "  <style>\n",
              "    .colab-df-container {\n",
              "      display:flex;\n",
              "      flex-wrap:wrap;\n",
              "      gap: 12px;\n",
              "    }\n",
              "\n",
              "    .colab-df-convert {\n",
              "      background-color: #E8F0FE;\n",
              "      border: none;\n",
              "      border-radius: 50%;\n",
              "      cursor: pointer;\n",
              "      display: none;\n",
              "      fill: #1967D2;\n",
              "      height: 32px;\n",
              "      padding: 0 0 0 0;\n",
              "      width: 32px;\n",
              "    }\n",
              "\n",
              "    .colab-df-convert:hover {\n",
              "      background-color: #E2EBFA;\n",
              "      box-shadow: 0px 1px 2px rgba(60, 64, 67, 0.3), 0px 1px 3px 1px rgba(60, 64, 67, 0.15);\n",
              "      fill: #174EA6;\n",
              "    }\n",
              "\n",
              "    [theme=dark] .colab-df-convert {\n",
              "      background-color: #3B4455;\n",
              "      fill: #D2E3FC;\n",
              "    }\n",
              "\n",
              "    [theme=dark] .colab-df-convert:hover {\n",
              "      background-color: #434B5C;\n",
              "      box-shadow: 0px 1px 3px 1px rgba(0, 0, 0, 0.15);\n",
              "      filter: drop-shadow(0px 1px 2px rgba(0, 0, 0, 0.3));\n",
              "      fill: #FFFFFF;\n",
              "    }\n",
              "  </style>\n",
              "\n",
              "      <script>\n",
              "        const buttonEl =\n",
              "          document.querySelector('#df-493bf082-8983-49d9-bad6-c34c95b58870 button.colab-df-convert');\n",
              "        buttonEl.style.display =\n",
              "          google.colab.kernel.accessAllowed ? 'block' : 'none';\n",
              "\n",
              "        async function convertToInteractive(key) {\n",
              "          const element = document.querySelector('#df-493bf082-8983-49d9-bad6-c34c95b58870');\n",
              "          const dataTable =\n",
              "            await google.colab.kernel.invokeFunction('convertToInteractive',\n",
              "                                                     [key], {});\n",
              "          if (!dataTable) return;\n",
              "\n",
              "          const docLinkHtml = 'Like what you see? Visit the ' +\n",
              "            '<a target=\"_blank\" href=https://colab.research.google.com/notebooks/data_table.ipynb>data table notebook</a>'\n",
              "            + ' to learn more about interactive tables.';\n",
              "          element.innerHTML = '';\n",
              "          dataTable['output_type'] = 'display_data';\n",
              "          await google.colab.output.renderOutput(dataTable, element);\n",
              "          const docLink = document.createElement('div');\n",
              "          docLink.innerHTML = docLinkHtml;\n",
              "          element.appendChild(docLink);\n",
              "        }\n",
              "      </script>\n",
              "    </div>\n",
              "  </div>\n",
              "  "
            ]
          },
          "metadata": {},
          "execution_count": 44
        }
      ],
      "source": [
        "outlier=df[df['property_bedrooms']>6]\n",
        "outlier"
      ]
    },
    {
      "cell_type": "markdown",
      "metadata": {
        "id": "1GdBZQygZZ0c"
      },
      "source": [
        "##### Z-Score"
      ]
    },
    {
      "cell_type": "code",
      "execution_count": 45,
      "metadata": {
        "id": "cy5ihKZsOcta"
      },
      "outputs": [],
      "source": [
        "media_bedrooms=np.mean(df.property_bedrooms)\n",
        "std_bedrooms=np.std(df.property_bedrooms)\n",
        "df['z_bedrooms']=(df.property_bedrooms - media_bedrooms)/std_bedrooms"
      ]
    },
    {
      "cell_type": "code",
      "execution_count": 46,
      "metadata": {
        "colab": {
          "base_uri": "https://localhost:8080/",
          "height": 835
        },
        "id": "6lvupSX_8n9C",
        "outputId": "0e3be849-d5b5-4918-d393-68b5756a4181"
      },
      "outputs": [
        {
          "output_type": "execute_result",
          "data": {
            "text/plain": [
              "                              id start_date   end_date created_on    latitud  \\\n",
              "58      tgaK6Ibor1zLY5bvNxsXfw== 2021-09-09 2021-09-26 2021-09-09 -34.633730   \n",
              "1040    hg7z9YXumyiWLjMo6ed2Eg== 2021-09-09 2022-03-09 2021-09-09 -34.620750   \n",
              "1108    emutcNxb0N+nIgC7KPMFow== 2021-09-09 2022-03-09 2021-09-09 -34.620750   \n",
              "1349    fwH71WfOi+vE4kdGMHfWNQ== 2021-09-09 2022-03-09 2021-09-09 -34.620750   \n",
              "1363    rfG2Nb7079oZOP8wAKuwXA== 2021-09-09 2022-03-09 2021-09-09 -34.620750   \n",
              "...                          ...        ...        ...        ...        ...   \n",
              "457366  addYhPIIGDmKeww0LFYSTg== 2021-05-08 2021-06-05 2021-05-08 -34.631404   \n",
              "457782  zThHFYUg/ZODnN9ekjwgFg== 2021-05-08 2021-06-05 2021-05-08 -34.581524   \n",
              "458670  naEatqtTCG8ALXICib4ZxQ== 2021-01-05 2022-08-12 2021-01-05 -34.577390   \n",
              "458873  JklH0r8XBsFn3380WryLIw== 2021-01-05        NaT 2021-01-05 -34.625353   \n",
              "459922  tO370Sb5BxaIjD5RxajSog== 2021-01-05 2021-08-02 2021-01-05 -34.590893   \n",
              "\n",
              "         longitud         place_l2          place_l3          place_l4  \\\n",
              "58     -58.424729  Capital Federal             Boedo             Boedo   \n",
              "1040   -58.502759  Capital Federal        Villa Luro        Villa Luro   \n",
              "1108   -58.502759  Capital Federal      Monte Castro      Monte Castro   \n",
              "1349   -58.502759  Capital Federal   Velez Sarsfield   Velez Sarsfield   \n",
              "1363   -58.502759  Capital Federal  Villa Santa Rita  Villa Santa Rita   \n",
              "...           ...              ...               ...               ...   \n",
              "457366 -58.403266  Capital Federal  Parque Patricios  Parque Patricios   \n",
              "457782 -58.403588  Capital Federal           Palermo           Palermo   \n",
              "458670 -58.475421  Capital Federal     Villa Urquiza     Villa Urquiza   \n",
              "458873 -58.372014  Capital Federal         San Telmo         San Telmo   \n",
              "459922 -58.408146  Capital Federal      Barrio Norte      Barrio Norte   \n",
              "\n",
              "       operation  ... property_rooms  property_bedrooms  \\\n",
              "58         Venta  ...           10.0               10.0   \n",
              "1040       Venta  ...            8.0                6.0   \n",
              "1108       Venta  ...            8.0                6.0   \n",
              "1349       Venta  ...            8.0                6.0   \n",
              "1363       Venta  ...            8.0                6.0   \n",
              "...          ...  ...            ...                ...   \n",
              "457366     Venta  ...            7.0                6.0   \n",
              "457782     Venta  ...           10.0                6.0   \n",
              "458670     Venta  ...            5.0                6.0   \n",
              "458873     Venta  ...           12.0               12.0   \n",
              "459922     Venta  ...           10.0                9.0   \n",
              "\n",
              "        property_surface_total  property_surface_covered  property_price  \\\n",
              "58                       394.0                     244.0        500000.0   \n",
              "1040                     201.0                     201.0        345000.0   \n",
              "1108                     201.0                     201.0        345000.0   \n",
              "1349                     201.0                     201.0        345000.0   \n",
              "1363                     201.0                     201.0        345000.0   \n",
              "...                        ...                       ...             ...   \n",
              "457366                   280.0                     230.0        426000.0   \n",
              "457782                   520.0                     500.0       3300000.0   \n",
              "458670                   125.0                     100.0        265000.0   \n",
              "458873                   820.0                     820.0        550000.0   \n",
              "459922                   145.0                     145.0        300000.0   \n",
              "\n",
              "        property_currency                                     property_title  \\\n",
              "58                    USD  VENTA CASA BOEDO LOCAL  DEPARTAMENTOS HABITACI...   \n",
              "1040                  USD            Casa Ideal Dos Familias  - Monte Castro   \n",
              "1108                  USD            Casa Ideal Dos Familias  - Monte Castro   \n",
              "1349                  USD            Casa Ideal Dos Familias  - Monte Castro   \n",
              "1363                  USD            Casa Ideal Dos Familias  - Monte Castro   \n",
              "...                   ...                                                ...   \n",
              "457366                USD                            Casa - Parque Patricios   \n",
              "457782                USD                         Venta Departamento Palermo   \n",
              "458670                USD  Alvarez Thomas 2400 Exc PH SIN EXPENSAS-  5 am...   \n",
              "458873                USD                       Casa de  820 m2 en San Telmo   \n",
              "459922                USD           Enorme 10 amb de 145m2 - ideal inversión   \n",
              "\n",
              "         z_rooms  zm_rooms  z_bedrooms  \n",
              "58      4.992871       NaN    7.237343  \n",
              "1040    3.599764       NaN    3.657724  \n",
              "1108    3.599764       NaN    3.657724  \n",
              "1349    3.599764       NaN    3.657724  \n",
              "1363    3.599764       NaN    3.657724  \n",
              "...          ...       ...         ...  \n",
              "457366  2.903210       NaN    3.657724  \n",
              "457782  4.992871       NaN    3.657724  \n",
              "458670  1.510104       NaN    3.657724  \n",
              "458873  6.385977       NaN    9.027152  \n",
              "459922  4.992871       NaN    6.342438  \n",
              "\n",
              "[540 rows x 21 columns]"
            ],
            "text/html": [
              "\n",
              "  <div id=\"df-0dac0ca3-673b-4e05-b797-7cc9eb6f922e\">\n",
              "    <div class=\"colab-df-container\">\n",
              "      <div>\n",
              "<style scoped>\n",
              "    .dataframe tbody tr th:only-of-type {\n",
              "        vertical-align: middle;\n",
              "    }\n",
              "\n",
              "    .dataframe tbody tr th {\n",
              "        vertical-align: top;\n",
              "    }\n",
              "\n",
              "    .dataframe thead th {\n",
              "        text-align: right;\n",
              "    }\n",
              "</style>\n",
              "<table border=\"1\" class=\"dataframe\">\n",
              "  <thead>\n",
              "    <tr style=\"text-align: right;\">\n",
              "      <th></th>\n",
              "      <th>id</th>\n",
              "      <th>start_date</th>\n",
              "      <th>end_date</th>\n",
              "      <th>created_on</th>\n",
              "      <th>latitud</th>\n",
              "      <th>longitud</th>\n",
              "      <th>place_l2</th>\n",
              "      <th>place_l3</th>\n",
              "      <th>place_l4</th>\n",
              "      <th>operation</th>\n",
              "      <th>...</th>\n",
              "      <th>property_rooms</th>\n",
              "      <th>property_bedrooms</th>\n",
              "      <th>property_surface_total</th>\n",
              "      <th>property_surface_covered</th>\n",
              "      <th>property_price</th>\n",
              "      <th>property_currency</th>\n",
              "      <th>property_title</th>\n",
              "      <th>z_rooms</th>\n",
              "      <th>zm_rooms</th>\n",
              "      <th>z_bedrooms</th>\n",
              "    </tr>\n",
              "  </thead>\n",
              "  <tbody>\n",
              "    <tr>\n",
              "      <th>58</th>\n",
              "      <td>tgaK6Ibor1zLY5bvNxsXfw==</td>\n",
              "      <td>2021-09-09</td>\n",
              "      <td>2021-09-26</td>\n",
              "      <td>2021-09-09</td>\n",
              "      <td>-34.633730</td>\n",
              "      <td>-58.424729</td>\n",
              "      <td>Capital Federal</td>\n",
              "      <td>Boedo</td>\n",
              "      <td>Boedo</td>\n",
              "      <td>Venta</td>\n",
              "      <td>...</td>\n",
              "      <td>10.0</td>\n",
              "      <td>10.0</td>\n",
              "      <td>394.0</td>\n",
              "      <td>244.0</td>\n",
              "      <td>500000.0</td>\n",
              "      <td>USD</td>\n",
              "      <td>VENTA CASA BOEDO LOCAL  DEPARTAMENTOS HABITACI...</td>\n",
              "      <td>4.992871</td>\n",
              "      <td>NaN</td>\n",
              "      <td>7.237343</td>\n",
              "    </tr>\n",
              "    <tr>\n",
              "      <th>1040</th>\n",
              "      <td>hg7z9YXumyiWLjMo6ed2Eg==</td>\n",
              "      <td>2021-09-09</td>\n",
              "      <td>2022-03-09</td>\n",
              "      <td>2021-09-09</td>\n",
              "      <td>-34.620750</td>\n",
              "      <td>-58.502759</td>\n",
              "      <td>Capital Federal</td>\n",
              "      <td>Villa Luro</td>\n",
              "      <td>Villa Luro</td>\n",
              "      <td>Venta</td>\n",
              "      <td>...</td>\n",
              "      <td>8.0</td>\n",
              "      <td>6.0</td>\n",
              "      <td>201.0</td>\n",
              "      <td>201.0</td>\n",
              "      <td>345000.0</td>\n",
              "      <td>USD</td>\n",
              "      <td>Casa Ideal Dos Familias  - Monte Castro</td>\n",
              "      <td>3.599764</td>\n",
              "      <td>NaN</td>\n",
              "      <td>3.657724</td>\n",
              "    </tr>\n",
              "    <tr>\n",
              "      <th>1108</th>\n",
              "      <td>emutcNxb0N+nIgC7KPMFow==</td>\n",
              "      <td>2021-09-09</td>\n",
              "      <td>2022-03-09</td>\n",
              "      <td>2021-09-09</td>\n",
              "      <td>-34.620750</td>\n",
              "      <td>-58.502759</td>\n",
              "      <td>Capital Federal</td>\n",
              "      <td>Monte Castro</td>\n",
              "      <td>Monte Castro</td>\n",
              "      <td>Venta</td>\n",
              "      <td>...</td>\n",
              "      <td>8.0</td>\n",
              "      <td>6.0</td>\n",
              "      <td>201.0</td>\n",
              "      <td>201.0</td>\n",
              "      <td>345000.0</td>\n",
              "      <td>USD</td>\n",
              "      <td>Casa Ideal Dos Familias  - Monte Castro</td>\n",
              "      <td>3.599764</td>\n",
              "      <td>NaN</td>\n",
              "      <td>3.657724</td>\n",
              "    </tr>\n",
              "    <tr>\n",
              "      <th>1349</th>\n",
              "      <td>fwH71WfOi+vE4kdGMHfWNQ==</td>\n",
              "      <td>2021-09-09</td>\n",
              "      <td>2022-03-09</td>\n",
              "      <td>2021-09-09</td>\n",
              "      <td>-34.620750</td>\n",
              "      <td>-58.502759</td>\n",
              "      <td>Capital Federal</td>\n",
              "      <td>Velez Sarsfield</td>\n",
              "      <td>Velez Sarsfield</td>\n",
              "      <td>Venta</td>\n",
              "      <td>...</td>\n",
              "      <td>8.0</td>\n",
              "      <td>6.0</td>\n",
              "      <td>201.0</td>\n",
              "      <td>201.0</td>\n",
              "      <td>345000.0</td>\n",
              "      <td>USD</td>\n",
              "      <td>Casa Ideal Dos Familias  - Monte Castro</td>\n",
              "      <td>3.599764</td>\n",
              "      <td>NaN</td>\n",
              "      <td>3.657724</td>\n",
              "    </tr>\n",
              "    <tr>\n",
              "      <th>1363</th>\n",
              "      <td>rfG2Nb7079oZOP8wAKuwXA==</td>\n",
              "      <td>2021-09-09</td>\n",
              "      <td>2022-03-09</td>\n",
              "      <td>2021-09-09</td>\n",
              "      <td>-34.620750</td>\n",
              "      <td>-58.502759</td>\n",
              "      <td>Capital Federal</td>\n",
              "      <td>Villa Santa Rita</td>\n",
              "      <td>Villa Santa Rita</td>\n",
              "      <td>Venta</td>\n",
              "      <td>...</td>\n",
              "      <td>8.0</td>\n",
              "      <td>6.0</td>\n",
              "      <td>201.0</td>\n",
              "      <td>201.0</td>\n",
              "      <td>345000.0</td>\n",
              "      <td>USD</td>\n",
              "      <td>Casa Ideal Dos Familias  - Monte Castro</td>\n",
              "      <td>3.599764</td>\n",
              "      <td>NaN</td>\n",
              "      <td>3.657724</td>\n",
              "    </tr>\n",
              "    <tr>\n",
              "      <th>...</th>\n",
              "      <td>...</td>\n",
              "      <td>...</td>\n",
              "      <td>...</td>\n",
              "      <td>...</td>\n",
              "      <td>...</td>\n",
              "      <td>...</td>\n",
              "      <td>...</td>\n",
              "      <td>...</td>\n",
              "      <td>...</td>\n",
              "      <td>...</td>\n",
              "      <td>...</td>\n",
              "      <td>...</td>\n",
              "      <td>...</td>\n",
              "      <td>...</td>\n",
              "      <td>...</td>\n",
              "      <td>...</td>\n",
              "      <td>...</td>\n",
              "      <td>...</td>\n",
              "      <td>...</td>\n",
              "      <td>...</td>\n",
              "      <td>...</td>\n",
              "    </tr>\n",
              "    <tr>\n",
              "      <th>457366</th>\n",
              "      <td>addYhPIIGDmKeww0LFYSTg==</td>\n",
              "      <td>2021-05-08</td>\n",
              "      <td>2021-06-05</td>\n",
              "      <td>2021-05-08</td>\n",
              "      <td>-34.631404</td>\n",
              "      <td>-58.403266</td>\n",
              "      <td>Capital Federal</td>\n",
              "      <td>Parque Patricios</td>\n",
              "      <td>Parque Patricios</td>\n",
              "      <td>Venta</td>\n",
              "      <td>...</td>\n",
              "      <td>7.0</td>\n",
              "      <td>6.0</td>\n",
              "      <td>280.0</td>\n",
              "      <td>230.0</td>\n",
              "      <td>426000.0</td>\n",
              "      <td>USD</td>\n",
              "      <td>Casa - Parque Patricios</td>\n",
              "      <td>2.903210</td>\n",
              "      <td>NaN</td>\n",
              "      <td>3.657724</td>\n",
              "    </tr>\n",
              "    <tr>\n",
              "      <th>457782</th>\n",
              "      <td>zThHFYUg/ZODnN9ekjwgFg==</td>\n",
              "      <td>2021-05-08</td>\n",
              "      <td>2021-06-05</td>\n",
              "      <td>2021-05-08</td>\n",
              "      <td>-34.581524</td>\n",
              "      <td>-58.403588</td>\n",
              "      <td>Capital Federal</td>\n",
              "      <td>Palermo</td>\n",
              "      <td>Palermo</td>\n",
              "      <td>Venta</td>\n",
              "      <td>...</td>\n",
              "      <td>10.0</td>\n",
              "      <td>6.0</td>\n",
              "      <td>520.0</td>\n",
              "      <td>500.0</td>\n",
              "      <td>3300000.0</td>\n",
              "      <td>USD</td>\n",
              "      <td>Venta Departamento Palermo</td>\n",
              "      <td>4.992871</td>\n",
              "      <td>NaN</td>\n",
              "      <td>3.657724</td>\n",
              "    </tr>\n",
              "    <tr>\n",
              "      <th>458670</th>\n",
              "      <td>naEatqtTCG8ALXICib4ZxQ==</td>\n",
              "      <td>2021-01-05</td>\n",
              "      <td>2022-08-12</td>\n",
              "      <td>2021-01-05</td>\n",
              "      <td>-34.577390</td>\n",
              "      <td>-58.475421</td>\n",
              "      <td>Capital Federal</td>\n",
              "      <td>Villa Urquiza</td>\n",
              "      <td>Villa Urquiza</td>\n",
              "      <td>Venta</td>\n",
              "      <td>...</td>\n",
              "      <td>5.0</td>\n",
              "      <td>6.0</td>\n",
              "      <td>125.0</td>\n",
              "      <td>100.0</td>\n",
              "      <td>265000.0</td>\n",
              "      <td>USD</td>\n",
              "      <td>Alvarez Thomas 2400 Exc PH SIN EXPENSAS-  5 am...</td>\n",
              "      <td>1.510104</td>\n",
              "      <td>NaN</td>\n",
              "      <td>3.657724</td>\n",
              "    </tr>\n",
              "    <tr>\n",
              "      <th>458873</th>\n",
              "      <td>JklH0r8XBsFn3380WryLIw==</td>\n",
              "      <td>2021-01-05</td>\n",
              "      <td>NaT</td>\n",
              "      <td>2021-01-05</td>\n",
              "      <td>-34.625353</td>\n",
              "      <td>-58.372014</td>\n",
              "      <td>Capital Federal</td>\n",
              "      <td>San Telmo</td>\n",
              "      <td>San Telmo</td>\n",
              "      <td>Venta</td>\n",
              "      <td>...</td>\n",
              "      <td>12.0</td>\n",
              "      <td>12.0</td>\n",
              "      <td>820.0</td>\n",
              "      <td>820.0</td>\n",
              "      <td>550000.0</td>\n",
              "      <td>USD</td>\n",
              "      <td>Casa de  820 m2 en San Telmo</td>\n",
              "      <td>6.385977</td>\n",
              "      <td>NaN</td>\n",
              "      <td>9.027152</td>\n",
              "    </tr>\n",
              "    <tr>\n",
              "      <th>459922</th>\n",
              "      <td>tO370Sb5BxaIjD5RxajSog==</td>\n",
              "      <td>2021-01-05</td>\n",
              "      <td>2021-08-02</td>\n",
              "      <td>2021-01-05</td>\n",
              "      <td>-34.590893</td>\n",
              "      <td>-58.408146</td>\n",
              "      <td>Capital Federal</td>\n",
              "      <td>Barrio Norte</td>\n",
              "      <td>Barrio Norte</td>\n",
              "      <td>Venta</td>\n",
              "      <td>...</td>\n",
              "      <td>10.0</td>\n",
              "      <td>9.0</td>\n",
              "      <td>145.0</td>\n",
              "      <td>145.0</td>\n",
              "      <td>300000.0</td>\n",
              "      <td>USD</td>\n",
              "      <td>Enorme 10 amb de 145m2 - ideal inversión</td>\n",
              "      <td>4.992871</td>\n",
              "      <td>NaN</td>\n",
              "      <td>6.342438</td>\n",
              "    </tr>\n",
              "  </tbody>\n",
              "</table>\n",
              "<p>540 rows × 21 columns</p>\n",
              "</div>\n",
              "      <button class=\"colab-df-convert\" onclick=\"convertToInteractive('df-0dac0ca3-673b-4e05-b797-7cc9eb6f922e')\"\n",
              "              title=\"Convert this dataframe to an interactive table.\"\n",
              "              style=\"display:none;\">\n",
              "        \n",
              "  <svg xmlns=\"http://www.w3.org/2000/svg\" height=\"24px\"viewBox=\"0 0 24 24\"\n",
              "       width=\"24px\">\n",
              "    <path d=\"M0 0h24v24H0V0z\" fill=\"none\"/>\n",
              "    <path d=\"M18.56 5.44l.94 2.06.94-2.06 2.06-.94-2.06-.94-.94-2.06-.94 2.06-2.06.94zm-11 1L8.5 8.5l.94-2.06 2.06-.94-2.06-.94L8.5 2.5l-.94 2.06-2.06.94zm10 10l.94 2.06.94-2.06 2.06-.94-2.06-.94-.94-2.06-.94 2.06-2.06.94z\"/><path d=\"M17.41 7.96l-1.37-1.37c-.4-.4-.92-.59-1.43-.59-.52 0-1.04.2-1.43.59L10.3 9.45l-7.72 7.72c-.78.78-.78 2.05 0 2.83L4 21.41c.39.39.9.59 1.41.59.51 0 1.02-.2 1.41-.59l7.78-7.78 2.81-2.81c.8-.78.8-2.07 0-2.86zM5.41 20L4 18.59l7.72-7.72 1.47 1.35L5.41 20z\"/>\n",
              "  </svg>\n",
              "      </button>\n",
              "      \n",
              "  <style>\n",
              "    .colab-df-container {\n",
              "      display:flex;\n",
              "      flex-wrap:wrap;\n",
              "      gap: 12px;\n",
              "    }\n",
              "\n",
              "    .colab-df-convert {\n",
              "      background-color: #E8F0FE;\n",
              "      border: none;\n",
              "      border-radius: 50%;\n",
              "      cursor: pointer;\n",
              "      display: none;\n",
              "      fill: #1967D2;\n",
              "      height: 32px;\n",
              "      padding: 0 0 0 0;\n",
              "      width: 32px;\n",
              "    }\n",
              "\n",
              "    .colab-df-convert:hover {\n",
              "      background-color: #E2EBFA;\n",
              "      box-shadow: 0px 1px 2px rgba(60, 64, 67, 0.3), 0px 1px 3px 1px rgba(60, 64, 67, 0.15);\n",
              "      fill: #174EA6;\n",
              "    }\n",
              "\n",
              "    [theme=dark] .colab-df-convert {\n",
              "      background-color: #3B4455;\n",
              "      fill: #D2E3FC;\n",
              "    }\n",
              "\n",
              "    [theme=dark] .colab-df-convert:hover {\n",
              "      background-color: #434B5C;\n",
              "      box-shadow: 0px 1px 3px 1px rgba(0, 0, 0, 0.15);\n",
              "      filter: drop-shadow(0px 1px 2px rgba(0, 0, 0, 0.3));\n",
              "      fill: #FFFFFF;\n",
              "    }\n",
              "  </style>\n",
              "\n",
              "      <script>\n",
              "        const buttonEl =\n",
              "          document.querySelector('#df-0dac0ca3-673b-4e05-b797-7cc9eb6f922e button.colab-df-convert');\n",
              "        buttonEl.style.display =\n",
              "          google.colab.kernel.accessAllowed ? 'block' : 'none';\n",
              "\n",
              "        async function convertToInteractive(key) {\n",
              "          const element = document.querySelector('#df-0dac0ca3-673b-4e05-b797-7cc9eb6f922e');\n",
              "          const dataTable =\n",
              "            await google.colab.kernel.invokeFunction('convertToInteractive',\n",
              "                                                     [key], {});\n",
              "          if (!dataTable) return;\n",
              "\n",
              "          const docLinkHtml = 'Like what you see? Visit the ' +\n",
              "            '<a target=\"_blank\" href=https://colab.research.google.com/notebooks/data_table.ipynb>data table notebook</a>'\n",
              "            + ' to learn more about interactive tables.';\n",
              "          element.innerHTML = '';\n",
              "          dataTable['output_type'] = 'display_data';\n",
              "          await google.colab.output.renderOutput(dataTable, element);\n",
              "          const docLink = document.createElement('div');\n",
              "          docLink.innerHTML = docLinkHtml;\n",
              "          element.appendChild(docLink);\n",
              "        }\n",
              "      </script>\n",
              "    </div>\n",
              "  </div>\n",
              "  "
            ]
          },
          "metadata": {},
          "execution_count": 46
        }
      ],
      "source": [
        "df[df['z_bedrooms']>3]"
      ]
    },
    {
      "cell_type": "code",
      "execution_count": 47,
      "metadata": {
        "colab": {
          "base_uri": "https://localhost:8080/",
          "height": 143
        },
        "id": "St5VezN38seV",
        "outputId": "83630a2d-3e13-4b8a-c073-bbc6bd963fac"
      },
      "outputs": [
        {
          "output_type": "execute_result",
          "data": {
            "text/plain": [
              "Empty DataFrame\n",
              "Columns: [id, start_date, end_date, created_on, latitud, longitud, place_l2, place_l3, place_l4, operation, property_type, property_rooms, property_bedrooms, property_surface_total, property_surface_covered, property_price, property_currency, property_title, z_rooms, zm_rooms, z_bedrooms]\n",
              "Index: []\n",
              "\n",
              "[0 rows x 21 columns]"
            ],
            "text/html": [
              "\n",
              "  <div id=\"df-29c1b58a-35b4-45ed-84d7-eb04492033ca\">\n",
              "    <div class=\"colab-df-container\">\n",
              "      <div>\n",
              "<style scoped>\n",
              "    .dataframe tbody tr th:only-of-type {\n",
              "        vertical-align: middle;\n",
              "    }\n",
              "\n",
              "    .dataframe tbody tr th {\n",
              "        vertical-align: top;\n",
              "    }\n",
              "\n",
              "    .dataframe thead th {\n",
              "        text-align: right;\n",
              "    }\n",
              "</style>\n",
              "<table border=\"1\" class=\"dataframe\">\n",
              "  <thead>\n",
              "    <tr style=\"text-align: right;\">\n",
              "      <th></th>\n",
              "      <th>id</th>\n",
              "      <th>start_date</th>\n",
              "      <th>end_date</th>\n",
              "      <th>created_on</th>\n",
              "      <th>latitud</th>\n",
              "      <th>longitud</th>\n",
              "      <th>place_l2</th>\n",
              "      <th>place_l3</th>\n",
              "      <th>place_l4</th>\n",
              "      <th>operation</th>\n",
              "      <th>...</th>\n",
              "      <th>property_rooms</th>\n",
              "      <th>property_bedrooms</th>\n",
              "      <th>property_surface_total</th>\n",
              "      <th>property_surface_covered</th>\n",
              "      <th>property_price</th>\n",
              "      <th>property_currency</th>\n",
              "      <th>property_title</th>\n",
              "      <th>z_rooms</th>\n",
              "      <th>zm_rooms</th>\n",
              "      <th>z_bedrooms</th>\n",
              "    </tr>\n",
              "  </thead>\n",
              "  <tbody>\n",
              "  </tbody>\n",
              "</table>\n",
              "<p>0 rows × 21 columns</p>\n",
              "</div>\n",
              "      <button class=\"colab-df-convert\" onclick=\"convertToInteractive('df-29c1b58a-35b4-45ed-84d7-eb04492033ca')\"\n",
              "              title=\"Convert this dataframe to an interactive table.\"\n",
              "              style=\"display:none;\">\n",
              "        \n",
              "  <svg xmlns=\"http://www.w3.org/2000/svg\" height=\"24px\"viewBox=\"0 0 24 24\"\n",
              "       width=\"24px\">\n",
              "    <path d=\"M0 0h24v24H0V0z\" fill=\"none\"/>\n",
              "    <path d=\"M18.56 5.44l.94 2.06.94-2.06 2.06-.94-2.06-.94-.94-2.06-.94 2.06-2.06.94zm-11 1L8.5 8.5l.94-2.06 2.06-.94-2.06-.94L8.5 2.5l-.94 2.06-2.06.94zm10 10l.94 2.06.94-2.06 2.06-.94-2.06-.94-.94-2.06-.94 2.06-2.06.94z\"/><path d=\"M17.41 7.96l-1.37-1.37c-.4-.4-.92-.59-1.43-.59-.52 0-1.04.2-1.43.59L10.3 9.45l-7.72 7.72c-.78.78-.78 2.05 0 2.83L4 21.41c.39.39.9.59 1.41.59.51 0 1.02-.2 1.41-.59l7.78-7.78 2.81-2.81c.8-.78.8-2.07 0-2.86zM5.41 20L4 18.59l7.72-7.72 1.47 1.35L5.41 20z\"/>\n",
              "  </svg>\n",
              "      </button>\n",
              "      \n",
              "  <style>\n",
              "    .colab-df-container {\n",
              "      display:flex;\n",
              "      flex-wrap:wrap;\n",
              "      gap: 12px;\n",
              "    }\n",
              "\n",
              "    .colab-df-convert {\n",
              "      background-color: #E8F0FE;\n",
              "      border: none;\n",
              "      border-radius: 50%;\n",
              "      cursor: pointer;\n",
              "      display: none;\n",
              "      fill: #1967D2;\n",
              "      height: 32px;\n",
              "      padding: 0 0 0 0;\n",
              "      width: 32px;\n",
              "    }\n",
              "\n",
              "    .colab-df-convert:hover {\n",
              "      background-color: #E2EBFA;\n",
              "      box-shadow: 0px 1px 2px rgba(60, 64, 67, 0.3), 0px 1px 3px 1px rgba(60, 64, 67, 0.15);\n",
              "      fill: #174EA6;\n",
              "    }\n",
              "\n",
              "    [theme=dark] .colab-df-convert {\n",
              "      background-color: #3B4455;\n",
              "      fill: #D2E3FC;\n",
              "    }\n",
              "\n",
              "    [theme=dark] .colab-df-convert:hover {\n",
              "      background-color: #434B5C;\n",
              "      box-shadow: 0px 1px 3px 1px rgba(0, 0, 0, 0.15);\n",
              "      filter: drop-shadow(0px 1px 2px rgba(0, 0, 0, 0.3));\n",
              "      fill: #FFFFFF;\n",
              "    }\n",
              "  </style>\n",
              "\n",
              "      <script>\n",
              "        const buttonEl =\n",
              "          document.querySelector('#df-29c1b58a-35b4-45ed-84d7-eb04492033ca button.colab-df-convert');\n",
              "        buttonEl.style.display =\n",
              "          google.colab.kernel.accessAllowed ? 'block' : 'none';\n",
              "\n",
              "        async function convertToInteractive(key) {\n",
              "          const element = document.querySelector('#df-29c1b58a-35b4-45ed-84d7-eb04492033ca');\n",
              "          const dataTable =\n",
              "            await google.colab.kernel.invokeFunction('convertToInteractive',\n",
              "                                                     [key], {});\n",
              "          if (!dataTable) return;\n",
              "\n",
              "          const docLinkHtml = 'Like what you see? Visit the ' +\n",
              "            '<a target=\"_blank\" href=https://colab.research.google.com/notebooks/data_table.ipynb>data table notebook</a>'\n",
              "            + ' to learn more about interactive tables.';\n",
              "          element.innerHTML = '';\n",
              "          dataTable['output_type'] = 'display_data';\n",
              "          await google.colab.output.renderOutput(dataTable, element);\n",
              "          const docLink = document.createElement('div');\n",
              "          docLink.innerHTML = docLinkHtml;\n",
              "          element.appendChild(docLink);\n",
              "        }\n",
              "      </script>\n",
              "    </div>\n",
              "  </div>\n",
              "  "
            ]
          },
          "metadata": {},
          "execution_count": 47
        }
      ],
      "source": [
        "df[df['z_bedrooms']<-3]"
      ]
    },
    {
      "cell_type": "code",
      "execution_count": 48,
      "metadata": {
        "colab": {
          "base_uri": "https://localhost:8080/",
          "height": 295
        },
        "id": "HrrppWOx7ej6",
        "outputId": "44b3ed6b-1388-4efb-ac16-b9de677705e5"
      },
      "outputs": [
        {
          "output_type": "display_data",
          "data": {
            "text/plain": [
              "<Figure size 432x288 with 1 Axes>"
            ],
            "image/png": "[encoded data removed]"
          },
          "metadata": {
            "needs_background": "light"
          }
        }
      ],
      "source": [
        "plt.hist(df.z_bedrooms, bins=50, range=(-2,6))\n",
        "plt.title('Histograma Z-Score Bedrooms')\n",
        "plt.xlabel('Z-Score Bedrooms')\n",
        "plt.show()"
      ]
    },
    {
      "cell_type": "markdown",
      "metadata": {
        "id": "OGNiTnK8P2iR"
      },
      "source": [
        "##### Z-Score Modificado"
      ]
    },
    {
      "cell_type": "code",
      "execution_count": 49,
      "metadata": {
        "id": "a2za_c0IP6MI"
      },
      "outputs": [],
      "source": [
        "mediana_bedroom=np.median(df.property_bedrooms)\n",
        "MAD=np.median(np.absolute(df.property_bedrooms-mediana_bedroom))\n",
        "\n",
        "df['zm_bedrooms']=(df.property_bedrooms - mediana_bedroom)*0.6745/MAD"
      ]
    },
    {
      "cell_type": "code",
      "execution_count": 50,
      "metadata": {
        "colab": {
          "base_uri": "https://localhost:8080/",
          "height": 143
        },
        "id": "lt2l3VpE804I",
        "outputId": "686e7476-5545-43d5-8e04-31be3f76413d"
      },
      "outputs": [
        {
          "output_type": "execute_result",
          "data": {
            "text/plain": [
              "Empty DataFrame\n",
              "Columns: [id, start_date, end_date, created_on, latitud, longitud, place_l2, place_l3, place_l4, operation, property_type, property_rooms, property_bedrooms, property_surface_total, property_surface_covered, property_price, property_currency, property_title, z_rooms, zm_rooms, z_bedrooms, zm_bedrooms]\n",
              "Index: []\n",
              "\n",
              "[0 rows x 22 columns]"
            ],
            "text/html": [
              "\n",
              "  <div id=\"df-8b2ffed0-8251-41f8-810e-60359cfe6fbd\">\n",
              "    <div class=\"colab-df-container\">\n",
              "      <div>\n",
              "<style scoped>\n",
              "    .dataframe tbody tr th:only-of-type {\n",
              "        vertical-align: middle;\n",
              "    }\n",
              "\n",
              "    .dataframe tbody tr th {\n",
              "        vertical-align: top;\n",
              "    }\n",
              "\n",
              "    .dataframe thead th {\n",
              "        text-align: right;\n",
              "    }\n",
              "</style>\n",
              "<table border=\"1\" class=\"dataframe\">\n",
              "  <thead>\n",
              "    <tr style=\"text-align: right;\">\n",
              "      <th></th>\n",
              "      <th>id</th>\n",
              "      <th>start_date</th>\n",
              "      <th>end_date</th>\n",
              "      <th>created_on</th>\n",
              "      <th>latitud</th>\n",
              "      <th>longitud</th>\n",
              "      <th>place_l2</th>\n",
              "      <th>place_l3</th>\n",
              "      <th>place_l4</th>\n",
              "      <th>operation</th>\n",
              "      <th>...</th>\n",
              "      <th>property_bedrooms</th>\n",
              "      <th>property_surface_total</th>\n",
              "      <th>property_surface_covered</th>\n",
              "      <th>property_price</th>\n",
              "      <th>property_currency</th>\n",
              "      <th>property_title</th>\n",
              "      <th>z_rooms</th>\n",
              "      <th>zm_rooms</th>\n",
              "      <th>z_bedrooms</th>\n",
              "      <th>zm_bedrooms</th>\n",
              "    </tr>\n",
              "  </thead>\n",
              "  <tbody>\n",
              "  </tbody>\n",
              "</table>\n",
              "<p>0 rows × 22 columns</p>\n",
              "</div>\n",
              "      <button class=\"colab-df-convert\" onclick=\"convertToInteractive('df-8b2ffed0-8251-41f8-810e-60359cfe6fbd')\"\n",
              "              title=\"Convert this dataframe to an interactive table.\"\n",
              "              style=\"display:none;\">\n",
              "        \n",
              "  <svg xmlns=\"http://www.w3.org/2000/svg\" height=\"24px\"viewBox=\"0 0 24 24\"\n",
              "       width=\"24px\">\n",
              "    <path d=\"M0 0h24v24H0V0z\" fill=\"none\"/>\n",
              "    <path d=\"M18.56 5.44l.94 2.06.94-2.06 2.06-.94-2.06-.94-.94-2.06-.94 2.06-2.06.94zm-11 1L8.5 8.5l.94-2.06 2.06-.94-2.06-.94L8.5 2.5l-.94 2.06-2.06.94zm10 10l.94 2.06.94-2.06 2.06-.94-2.06-.94-.94-2.06-.94 2.06-2.06.94z\"/><path d=\"M17.41 7.96l-1.37-1.37c-.4-.4-.92-.59-1.43-.59-.52 0-1.04.2-1.43.59L10.3 9.45l-7.72 7.72c-.78.78-.78 2.05 0 2.83L4 21.41c.39.39.9.59 1.41.59.51 0 1.02-.2 1.41-.59l7.78-7.78 2.81-2.81c.8-.78.8-2.07 0-2.86zM5.41 20L4 18.59l7.72-7.72 1.47 1.35L5.41 20z\"/>\n",
              "  </svg>\n",
              "      </button>\n",
              "      \n",
              "  <style>\n",
              "    .colab-df-container {\n",
              "      display:flex;\n",
              "      flex-wrap:wrap;\n",
              "      gap: 12px;\n",
              "    }\n",
              "\n",
              "    .colab-df-convert {\n",
              "      background-color: #E8F0FE;\n",
              "      border: none;\n",
              "      border-radius: 50%;\n",
              "      cursor: pointer;\n",
              "      display: none;\n",
              "      fill: #1967D2;\n",
              "      height: 32px;\n",
              "      padding: 0 0 0 0;\n",
              "      width: 32px;\n",
              "    }\n",
              "\n",
              "    .colab-df-convert:hover {\n",
              "      background-color: #E2EBFA;\n",
              "      box-shadow: 0px 1px 2px rgba(60, 64, 67, 0.3), 0px 1px 3px 1px rgba(60, 64, 67, 0.15);\n",
              "      fill: #174EA6;\n",
              "    }\n",
              "\n",
              "    [theme=dark] .colab-df-convert {\n",
              "      background-color: #3B4455;\n",
              "      fill: #D2E3FC;\n",
              "    }\n",
              "\n",
              "    [theme=dark] .colab-df-convert:hover {\n",
              "      background-color: #434B5C;\n",
              "      box-shadow: 0px 1px 3px 1px rgba(0, 0, 0, 0.15);\n",
              "      filter: drop-shadow(0px 1px 2px rgba(0, 0, 0, 0.3));\n",
              "      fill: #FFFFFF;\n",
              "    }\n",
              "  </style>\n",
              "\n",
              "      <script>\n",
              "        const buttonEl =\n",
              "          document.querySelector('#df-8b2ffed0-8251-41f8-810e-60359cfe6fbd button.colab-df-convert');\n",
              "        buttonEl.style.display =\n",
              "          google.colab.kernel.accessAllowed ? 'block' : 'none';\n",
              "\n",
              "        async function convertToInteractive(key) {\n",
              "          const element = document.querySelector('#df-8b2ffed0-8251-41f8-810e-60359cfe6fbd');\n",
              "          const dataTable =\n",
              "            await google.colab.kernel.invokeFunction('convertToInteractive',\n",
              "                                                     [key], {});\n",
              "          if (!dataTable) return;\n",
              "\n",
              "          const docLinkHtml = 'Like what you see? Visit the ' +\n",
              "            '<a target=\"_blank\" href=https://colab.research.google.com/notebooks/data_table.ipynb>data table notebook</a>'\n",
              "            + ' to learn more about interactive tables.';\n",
              "          element.innerHTML = '';\n",
              "          dataTable['output_type'] = 'display_data';\n",
              "          await google.colab.output.renderOutput(dataTable, element);\n",
              "          const docLink = document.createElement('div');\n",
              "          docLink.innerHTML = docLinkHtml;\n",
              "          element.appendChild(docLink);\n",
              "        }\n",
              "      </script>\n",
              "    </div>\n",
              "  </div>\n",
              "  "
            ]
          },
          "metadata": {},
          "execution_count": 50
        }
      ],
      "source": [
        "df[(df['zm_bedrooms']>3.5)]"
      ]
    },
    {
      "cell_type": "code",
      "execution_count": 51,
      "metadata": {
        "colab": {
          "base_uri": "https://localhost:8080/",
          "height": 143
        },
        "id": "uqyJlc_O87w5",
        "outputId": "a07e1bdc-e056-40ac-a2f0-0dc2d8644fae"
      },
      "outputs": [
        {
          "output_type": "execute_result",
          "data": {
            "text/plain": [
              "Empty DataFrame\n",
              "Columns: [id, start_date, end_date, created_on, latitud, longitud, place_l2, place_l3, place_l4, operation, property_type, property_rooms, property_bedrooms, property_surface_total, property_surface_covered, property_price, property_currency, property_title, z_rooms, zm_rooms, z_bedrooms, zm_bedrooms]\n",
              "Index: []\n",
              "\n",
              "[0 rows x 22 columns]"
            ],
            "text/html": [
              "\n",
              "  <div id=\"df-ac5b2f5c-28b2-450a-8cbd-72c804d2d531\">\n",
              "    <div class=\"colab-df-container\">\n",
              "      <div>\n",
              "<style scoped>\n",
              "    .dataframe tbody tr th:only-of-type {\n",
              "        vertical-align: middle;\n",
              "    }\n",
              "\n",
              "    .dataframe tbody tr th {\n",
              "        vertical-align: top;\n",
              "    }\n",
              "\n",
              "    .dataframe thead th {\n",
              "        text-align: right;\n",
              "    }\n",
              "</style>\n",
              "<table border=\"1\" class=\"dataframe\">\n",
              "  <thead>\n",
              "    <tr style=\"text-align: right;\">\n",
              "      <th></th>\n",
              "      <th>id</th>\n",
              "      <th>start_date</th>\n",
              "      <th>end_date</th>\n",
              "      <th>created_on</th>\n",
              "      <th>latitud</th>\n",
              "      <th>longitud</th>\n",
              "      <th>place_l2</th>\n",
              "      <th>place_l3</th>\n",
              "      <th>place_l4</th>\n",
              "      <th>operation</th>\n",
              "      <th>...</th>\n",
              "      <th>property_bedrooms</th>\n",
              "      <th>property_surface_total</th>\n",
              "      <th>property_surface_covered</th>\n",
              "      <th>property_price</th>\n",
              "      <th>property_currency</th>\n",
              "      <th>property_title</th>\n",
              "      <th>z_rooms</th>\n",
              "      <th>zm_rooms</th>\n",
              "      <th>z_bedrooms</th>\n",
              "      <th>zm_bedrooms</th>\n",
              "    </tr>\n",
              "  </thead>\n",
              "  <tbody>\n",
              "  </tbody>\n",
              "</table>\n",
              "<p>0 rows × 22 columns</p>\n",
              "</div>\n",
              "      <button class=\"colab-df-convert\" onclick=\"convertToInteractive('df-ac5b2f5c-28b2-450a-8cbd-72c804d2d531')\"\n",
              "              title=\"Convert this dataframe to an interactive table.\"\n",
              "              style=\"display:none;\">\n",
              "        \n",
              "  <svg xmlns=\"http://www.w3.org/2000/svg\" height=\"24px\"viewBox=\"0 0 24 24\"\n",
              "       width=\"24px\">\n",
              "    <path d=\"M0 0h24v24H0V0z\" fill=\"none\"/>\n",
              "    <path d=\"M18.56 5.44l.94 2.06.94-2.06 2.06-.94-2.06-.94-.94-2.06-.94 2.06-2.06.94zm-11 1L8.5 8.5l.94-2.06 2.06-.94-2.06-.94L8.5 2.5l-.94 2.06-2.06.94zm10 10l.94 2.06.94-2.06 2.06-.94-2.06-.94-.94-2.06-.94 2.06-2.06.94z\"/><path d=\"M17.41 7.96l-1.37-1.37c-.4-.4-.92-.59-1.43-.59-.52 0-1.04.2-1.43.59L10.3 9.45l-7.72 7.72c-.78.78-.78 2.05 0 2.83L4 21.41c.39.39.9.59 1.41.59.51 0 1.02-.2 1.41-.59l7.78-7.78 2.81-2.81c.8-.78.8-2.07 0-2.86zM5.41 20L4 18.59l7.72-7.72 1.47 1.35L5.41 20z\"/>\n",
              "  </svg>\n",
              "      </button>\n",
              "      \n",
              "  <style>\n",
              "    .colab-df-container {\n",
              "      display:flex;\n",
              "      flex-wrap:wrap;\n",
              "      gap: 12px;\n",
              "    }\n",
              "\n",
              "    .colab-df-convert {\n",
              "      background-color: #E8F0FE;\n",
              "      border: none;\n",
              "      border-radius: 50%;\n",
              "      cursor: pointer;\n",
              "      display: none;\n",
              "      fill: #1967D2;\n",
              "      height: 32px;\n",
              "      padding: 0 0 0 0;\n",
              "      width: 32px;\n",
              "    }\n",
              "\n",
              "    .colab-df-convert:hover {\n",
              "      background-color: #E2EBFA;\n",
              "      box-shadow: 0px 1px 2px rgba(60, 64, 67, 0.3), 0px 1px 3px 1px rgba(60, 64, 67, 0.15);\n",
              "      fill: #174EA6;\n",
              "    }\n",
              "\n",
              "    [theme=dark] .colab-df-convert {\n",
              "      background-color: #3B4455;\n",
              "      fill: #D2E3FC;\n",
              "    }\n",
              "\n",
              "    [theme=dark] .colab-df-convert:hover {\n",
              "      background-color: #434B5C;\n",
              "      box-shadow: 0px 1px 3px 1px rgba(0, 0, 0, 0.15);\n",
              "      filter: drop-shadow(0px 1px 2px rgba(0, 0, 0, 0.3));\n",
              "      fill: #FFFFFF;\n",
              "    }\n",
              "  </style>\n",
              "\n",
              "      <script>\n",
              "        const buttonEl =\n",
              "          document.querySelector('#df-ac5b2f5c-28b2-450a-8cbd-72c804d2d531 button.colab-df-convert');\n",
              "        buttonEl.style.display =\n",
              "          google.colab.kernel.accessAllowed ? 'block' : 'none';\n",
              "\n",
              "        async function convertToInteractive(key) {\n",
              "          const element = document.querySelector('#df-ac5b2f5c-28b2-450a-8cbd-72c804d2d531');\n",
              "          const dataTable =\n",
              "            await google.colab.kernel.invokeFunction('convertToInteractive',\n",
              "                                                     [key], {});\n",
              "          if (!dataTable) return;\n",
              "\n",
              "          const docLinkHtml = 'Like what you see? Visit the ' +\n",
              "            '<a target=\"_blank\" href=https://colab.research.google.com/notebooks/data_table.ipynb>data table notebook</a>'\n",
              "            + ' to learn more about interactive tables.';\n",
              "          element.innerHTML = '';\n",
              "          dataTable['output_type'] = 'display_data';\n",
              "          await google.colab.output.renderOutput(dataTable, element);\n",
              "          const docLink = document.createElement('div');\n",
              "          docLink.innerHTML = docLinkHtml;\n",
              "          element.appendChild(docLink);\n",
              "        }\n",
              "      </script>\n",
              "    </div>\n",
              "  </div>\n",
              "  "
            ]
          },
          "metadata": {},
          "execution_count": 51
        }
      ],
      "source": [
        "df[(df['zm_bedrooms']<-3.5)]"
      ]
    },
    {
      "cell_type": "code",
      "execution_count": 52,
      "metadata": {
        "colab": {
          "base_uri": "https://localhost:8080/",
          "height": 295
        },
        "id": "cgQpJ-xerUwJ",
        "outputId": "2cbf5114-92ea-4fc1-8ac2-24b934670f1c"
      },
      "outputs": [
        {
          "output_type": "display_data",
          "data": {
            "text/plain": [
              "<Figure size 432x288 with 1 Axes>"
            ],
            "image/png": "[encoded data removed]"
          },
          "metadata": {
            "needs_background": "light"
          }
        }
      ],
      "source": [
        "plt.hist(df.zm_bedrooms, bins=50, range=(-2,6))\n",
        "plt.title('Histograma Z-Score Modificado Bedrooms')\n",
        "plt.xlabel('Z-Score Modificado Bedrooms')\n",
        "plt.show()"
      ]
    },
    {
      "cell_type": "markdown",
      "metadata": {
        "id": "1w47xuftricI"
      },
      "source": [
        "##### Características"
      ]
    },
    {
      "cell_type": "markdown",
      "metadata": {
        "id": "yuvpKmsyrjEB"
      },
      "source": [
        "Del análisis de los 3 gráficos previamente presentados, podemos concluir que, puesto que existe una gran masa conjunta de observaciones atípicas y una singular -también atípica- lejana a la masa en cuestión- podríamos decir que los outliers son del tipo colectivo (para la masa de observaciones cerca del máximo para el tercer cuartil) y global (para la singular por encima del resto de las observaciones)."
      ]
    },
    {
      "cell_type": "markdown",
      "metadata": {
        "id": "LWbZVekrIBrI"
      },
      "source": [
        "#### Property price"
      ]
    },
    {
      "cell_type": "markdown",
      "metadata": {
        "id": "861zSh3bSWNP"
      },
      "source": [
        "##### Box plot"
      ]
    },
    {
      "cell_type": "code",
      "execution_count": 53,
      "metadata": {
        "colab": {
          "base_uri": "https://localhost:8080/",
          "height": 263
        },
        "id": "9exMnx2nIHUt",
        "outputId": "71589185-9f7a-4d1d-f47d-7ca3ee3f4f51"
      },
      "outputs": [
        {
          "output_type": "display_data",
          "data": {
            "text/plain": [
              "<Figure size 432x288 with 1 Axes>"
            ],
            "image/png": "[encoded data removed]"
          },
          "metadata": {
            "needs_background": "light"
          }
        }
      ],
      "source": [
        "sns.boxplot(y=df.property_price)\n",
        "plt.show()"
      ]
    },
    {
      "cell_type": "code",
      "execution_count": 54,
      "metadata": {
        "colab": {
          "base_uri": "https://localhost:8080/"
        },
        "id": "1dp7LTBD91k1",
        "outputId": "3d8fb355-520b-437a-8b3d-fbd94e1dcd89"
      },
      "outputs": [
        {
          "output_type": "stream",
          "name": "stdout",
          "text": [
            "El valor de Q1 es: 95000.0\n",
            "El valor de Q3 es: 237000.0\n",
            "El limite inferior del Q1 es: -118000.0\n",
            "El limite superior del Q3 es: 450000.0\n"
          ]
        }
      ],
      "source": [
        "# Cuartiles\n",
        "Q1_property_price=df.describe().get(\"property_price\").get(\"25%\")\n",
        "Q3_property_price=df.describe().get(\"property_price\").get(\"75%\")\n",
        "\n",
        "print(\"El valor de Q1 es:\", Q1_property_price)\n",
        "print(\"El valor de Q3 es:\", Q3_property_price)\n",
        "\n",
        "# Rango intercuartil\n",
        "IQR_property_price=Q3_property_price-Q1_property_price\n",
        "\n",
        "# Limites Outliers\n",
        "out_inf=Q1_property_price-1.5*IQR_property_price\n",
        "out_sup=Q3_property_price+1.5*IQR_property_price\n",
        "print(\"El limite inferior del Q1 es:\", out_inf)\n",
        "print(\"El limite superior del Q3 es:\", out_sup)"
      ]
    },
    {
      "cell_type": "markdown",
      "metadata": {
        "id": "vI9Lv1Dh-LaF"
      },
      "source": [
        "Confirmamos que tratamos con un outlier"
      ]
    },
    {
      "cell_type": "code",
      "execution_count": 55,
      "metadata": {
        "colab": {
          "base_uri": "https://localhost:8080/",
          "height": 818
        },
        "id": "-uovCEiz-NLZ",
        "outputId": "b9bc6874-f2a0-438d-a98d-c193ca12d58d"
      },
      "outputs": [
        {
          "output_type": "execute_result",
          "data": {
            "text/plain": [
              "                              id start_date   end_date created_on    latitud  \\\n",
              "58      tgaK6Ibor1zLY5bvNxsXfw== 2021-09-09 2021-09-26 2021-09-09 -34.633730   \n",
              "410     S8iZ1eflTJtt4bejzBVktw== 2021-09-09 2021-09-10 2021-09-09 -34.576741   \n",
              "411     FblpEe26U1lQkU5vRzAtmg== 2021-09-09 2021-09-09 2021-09-09 -34.576741   \n",
              "438     taPk4LSPMT26ftJm7/Bh6Q== 2021-09-09 2022-03-06 2021-09-09 -34.575053   \n",
              "448     0Ui0Bm9reiNrJFdUfgXwiA== 2021-09-09 2022-01-27 2021-09-09 -34.577855   \n",
              "...                          ...        ...        ...        ...        ...   \n",
              "459868  flZJmrO8SSTHv+d+AoanUw== 2021-01-05 2021-04-20 2021-01-05 -34.626835   \n",
              "459986  Pxz0dKZgWiL7odLclgK/vA== 2021-01-05        NaT 2021-01-05 -34.613000   \n",
              "459997  q3Im3Bm7Mi9ufVUH5rjWxw== 2021-01-05 2021-06-05 2021-01-05 -34.618084   \n",
              "460002  w+3qsITCAFukJ0S15B8znQ== 2021-01-05 2021-07-07 2021-01-05 -34.618595   \n",
              "460025  tmi3A6iVby0lFyguSK1CUw== 2021-01-05 2021-05-03 2021-01-05 -34.578613   \n",
              "\n",
              "         longitud         place_l2       place_l3       place_l4 operation  \\\n",
              "58     -58.424729  Capital Federal          Boedo          Boedo     Venta   \n",
              "410    -58.404830  Capital Federal        Palermo  Palermo Chico     Venta   \n",
              "411    -58.404830  Capital Federal        Palermo  Palermo Chico     Venta   \n",
              "438    -58.407958  Capital Federal        Palermo  Palermo Chico     Venta   \n",
              "448    -58.408796  Capital Federal        Palermo  Palermo Chico     Venta   \n",
              "...           ...              ...            ...            ...       ...   \n",
              "459868 -58.372299  Capital Federal      San Telmo      San Telmo     Venta   \n",
              "459986 -58.362117  Capital Federal  Puerto Madero  Puerto Madero     Venta   \n",
              "459997 -58.359912  Capital Federal  Puerto Madero  Puerto Madero     Venta   \n",
              "460002 -58.361978  Capital Federal  Puerto Madero  Puerto Madero     Venta   \n",
              "460025 -58.482961  Capital Federal  Villa Urquiza  Villa Urquiza     Venta   \n",
              "\n",
              "        ... property_bedrooms  property_surface_total  \\\n",
              "58      ...              10.0                   394.0   \n",
              "410     ...               4.0                   400.0   \n",
              "411     ...               4.0                   400.0   \n",
              "438     ...               3.0                   282.0   \n",
              "448     ...               4.0                   304.0   \n",
              "...     ...               ...                     ...   \n",
              "459868  ...               2.0                   174.0   \n",
              "459986  ...               2.0                   176.0   \n",
              "459997  ...               2.0                   315.0   \n",
              "460002  ...               1.0                    68.0   \n",
              "460025  ...               3.0                   125.0   \n",
              "\n",
              "        property_surface_covered  property_price  property_currency  \\\n",
              "58                         244.0        500000.0                USD   \n",
              "410                        400.0       2700000.0                USD   \n",
              "411                        400.0       2700000.0                USD   \n",
              "438                        256.0       2250000.0                USD   \n",
              "448                        294.0       1200000.0                USD   \n",
              "...                          ...             ...                ...   \n",
              "459868                     155.0        530000.0                USD   \n",
              "459986                     163.0        790000.0                USD   \n",
              "459997                     180.0       2200000.0                USD   \n",
              "460002                      56.0        520000.0                USD   \n",
              "460025                     120.0        470000.0                USD   \n",
              "\n",
              "                                           property_title   z_rooms zm_rooms  \\\n",
              "58      VENTA CASA BOEDO LOCAL  DEPARTAMENTOS HABITACI...  4.992871      NaN   \n",
              "410                          Departamento - Palermo Chico  1.510104      NaN   \n",
              "411                          Departamento - Palermo Chico  1.510104      NaN   \n",
              "438     Torre Vignoli 282 metros . 3 suites . 2 cocheras   0.813550      NaN   \n",
              "448     Departamento de 5 ambientes con dependencia  -...  1.510104      NaN   \n",
              "...                                                   ...       ...      ...   \n",
              "459868        La esquina mas linda de San Telmo en venta   1.510104      NaN   \n",
              "459986             Departamento en venta en Puerto Madero  0.116997      NaN   \n",
              "459997  Venta Departamento Pent House  4 Ambientes Pil...  0.813550      NaN   \n",
              "460002  Excelente Suite en Hotel SLS Puerto Madero | 2... -0.579557      NaN   \n",
              "460025                       Departamento - Villa Urquiza  0.813550      NaN   \n",
              "\n",
              "        z_bedrooms  zm_bedrooms  \n",
              "58        7.237343          NaN  \n",
              "410       1.867914          NaN  \n",
              "411       1.867914          NaN  \n",
              "438       0.973010          NaN  \n",
              "448       1.867914          NaN  \n",
              "...            ...          ...  \n",
              "459868    0.078105          NaN  \n",
              "459986    0.078105          NaN  \n",
              "459997    0.078105          NaN  \n",
              "460002   -0.816800          NaN  \n",
              "460025    0.973010          NaN  \n",
              "\n",
              "[8097 rows x 22 columns]"
            ],
            "text/html": [
              "\n",
              "  <div id=\"df-a5cf8d21-2bf0-4179-b646-0dda12d922c1\">\n",
              "    <div class=\"colab-df-container\">\n",
              "      <div>\n",
              "<style scoped>\n",
              "    .dataframe tbody tr th:only-of-type {\n",
              "        vertical-align: middle;\n",
              "    }\n",
              "\n",
              "    .dataframe tbody tr th {\n",
              "        vertical-align: top;\n",
              "    }\n",
              "\n",
              "    .dataframe thead th {\n",
              "        text-align: right;\n",
              "    }\n",
              "</style>\n",
              "<table border=\"1\" class=\"dataframe\">\n",
              "  <thead>\n",
              "    <tr style=\"text-align: right;\">\n",
              "      <th></th>\n",
              "      <th>id</th>\n",
              "      <th>start_date</th>\n",
              "      <th>end_date</th>\n",
              "      <th>created_on</th>\n",
              "      <th>latitud</th>\n",
              "      <th>longitud</th>\n",
              "      <th>place_l2</th>\n",
              "      <th>place_l3</th>\n",
              "      <th>place_l4</th>\n",
              "      <th>operation</th>\n",
              "      <th>...</th>\n",
              "      <th>property_bedrooms</th>\n",
              "      <th>property_surface_total</th>\n",
              "      <th>property_surface_covered</th>\n",
              "      <th>property_price</th>\n",
              "      <th>property_currency</th>\n",
              "      <th>property_title</th>\n",
              "      <th>z_rooms</th>\n",
              "      <th>zm_rooms</th>\n",
              "      <th>z_bedrooms</th>\n",
              "      <th>zm_bedrooms</th>\n",
              "    </tr>\n",
              "  </thead>\n",
              "  <tbody>\n",
              "    <tr>\n",
              "      <th>58</th>\n",
              "      <td>tgaK6Ibor1zLY5bvNxsXfw==</td>\n",
              "      <td>2021-09-09</td>\n",
              "      <td>2021-09-26</td>\n",
              "      <td>2021-09-09</td>\n",
              "      <td>-34.633730</td>\n",
              "      <td>-58.424729</td>\n",
              "      <td>Capital Federal</td>\n",
              "      <td>Boedo</td>\n",
              "      <td>Boedo</td>\n",
              "      <td>Venta</td>\n",
              "      <td>...</td>\n",
              "      <td>10.0</td>\n",
              "      <td>394.0</td>\n",
              "      <td>244.0</td>\n",
              "      <td>500000.0</td>\n",
              "      <td>USD</td>\n",
              "      <td>VENTA CASA BOEDO LOCAL  DEPARTAMENTOS HABITACI...</td>\n",
              "      <td>4.992871</td>\n",
              "      <td>NaN</td>\n",
              "      <td>7.237343</td>\n",
              "      <td>NaN</td>\n",
              "    </tr>\n",
              "    <tr>\n",
              "      <th>410</th>\n",
              "      <td>S8iZ1eflTJtt4bejzBVktw==</td>\n",
              "      <td>2021-09-09</td>\n",
              "      <td>2021-09-10</td>\n",
              "      <td>2021-09-09</td>\n",
              "      <td>-34.576741</td>\n",
              "      <td>-58.404830</td>\n",
              "      <td>Capital Federal</td>\n",
              "      <td>Palermo</td>\n",
              "      <td>Palermo Chico</td>\n",
              "      <td>Venta</td>\n",
              "      <td>...</td>\n",
              "      <td>4.0</td>\n",
              "      <td>400.0</td>\n",
              "      <td>400.0</td>\n",
              "      <td>2700000.0</td>\n",
              "      <td>USD</td>\n",
              "      <td>Departamento - Palermo Chico</td>\n",
              "      <td>1.510104</td>\n",
              "      <td>NaN</td>\n",
              "      <td>1.867914</td>\n",
              "      <td>NaN</td>\n",
              "    </tr>\n",
              "    <tr>\n",
              "      <th>411</th>\n",
              "      <td>FblpEe26U1lQkU5vRzAtmg==</td>\n",
              "      <td>2021-09-09</td>\n",
              "      <td>2021-09-09</td>\n",
              "      <td>2021-09-09</td>\n",
              "      <td>-34.576741</td>\n",
              "      <td>-58.404830</td>\n",
              "      <td>Capital Federal</td>\n",
              "      <td>Palermo</td>\n",
              "      <td>Palermo Chico</td>\n",
              "      <td>Venta</td>\n",
              "      <td>...</td>\n",
              "      <td>4.0</td>\n",
              "      <td>400.0</td>\n",
              "      <td>400.0</td>\n",
              "      <td>2700000.0</td>\n",
              "      <td>USD</td>\n",
              "      <td>Departamento - Palermo Chico</td>\n",
              "      <td>1.510104</td>\n",
              "      <td>NaN</td>\n",
              "      <td>1.867914</td>\n",
              "      <td>NaN</td>\n",
              "    </tr>\n",
              "    <tr>\n",
              "      <th>438</th>\n",
              "      <td>taPk4LSPMT26ftJm7/Bh6Q==</td>\n",
              "      <td>2021-09-09</td>\n",
              "      <td>2022-03-06</td>\n",
              "      <td>2021-09-09</td>\n",
              "      <td>-34.575053</td>\n",
              "      <td>-58.407958</td>\n",
              "      <td>Capital Federal</td>\n",
              "      <td>Palermo</td>\n",
              "      <td>Palermo Chico</td>\n",
              "      <td>Venta</td>\n",
              "      <td>...</td>\n",
              "      <td>3.0</td>\n",
              "      <td>282.0</td>\n",
              "      <td>256.0</td>\n",
              "      <td>2250000.0</td>\n",
              "      <td>USD</td>\n",
              "      <td>Torre Vignoli 282 metros . 3 suites . 2 cocheras</td>\n",
              "      <td>0.813550</td>\n",
              "      <td>NaN</td>\n",
              "      <td>0.973010</td>\n",
              "      <td>NaN</td>\n",
              "    </tr>\n",
              "    <tr>\n",
              "      <th>448</th>\n",
              "      <td>0Ui0Bm9reiNrJFdUfgXwiA==</td>\n",
              "      <td>2021-09-09</td>\n",
              "      <td>2022-01-27</td>\n",
              "      <td>2021-09-09</td>\n",
              "      <td>-34.577855</td>\n",
              "      <td>-58.408796</td>\n",
              "      <td>Capital Federal</td>\n",
              "      <td>Palermo</td>\n",
              "      <td>Palermo Chico</td>\n",
              "      <td>Venta</td>\n",
              "      <td>...</td>\n",
              "      <td>4.0</td>\n",
              "      <td>304.0</td>\n",
              "      <td>294.0</td>\n",
              "      <td>1200000.0</td>\n",
              "      <td>USD</td>\n",
              "      <td>Departamento de 5 ambientes con dependencia  -...</td>\n",
              "      <td>1.510104</td>\n",
              "      <td>NaN</td>\n",
              "      <td>1.867914</td>\n",
              "      <td>NaN</td>\n",
              "    </tr>\n",
              "    <tr>\n",
              "      <th>...</th>\n",
              "      <td>...</td>\n",
              "      <td>...</td>\n",
              "      <td>...</td>\n",
              "      <td>...</td>\n",
              "      <td>...</td>\n",
              "      <td>...</td>\n",
              "      <td>...</td>\n",
              "      <td>...</td>\n",
              "      <td>...</td>\n",
              "      <td>...</td>\n",
              "      <td>...</td>\n",
              "      <td>...</td>\n",
              "      <td>...</td>\n",
              "      <td>...</td>\n",
              "      <td>...</td>\n",
              "      <td>...</td>\n",
              "      <td>...</td>\n",
              "      <td>...</td>\n",
              "      <td>...</td>\n",
              "      <td>...</td>\n",
              "      <td>...</td>\n",
              "    </tr>\n",
              "    <tr>\n",
              "      <th>459868</th>\n",
              "      <td>flZJmrO8SSTHv+d+AoanUw==</td>\n",
              "      <td>2021-01-05</td>\n",
              "      <td>2021-04-20</td>\n",
              "      <td>2021-01-05</td>\n",
              "      <td>-34.626835</td>\n",
              "      <td>-58.372299</td>\n",
              "      <td>Capital Federal</td>\n",
              "      <td>San Telmo</td>\n",
              "      <td>San Telmo</td>\n",
              "      <td>Venta</td>\n",
              "      <td>...</td>\n",
              "      <td>2.0</td>\n",
              "      <td>174.0</td>\n",
              "      <td>155.0</td>\n",
              "      <td>530000.0</td>\n",
              "      <td>USD</td>\n",
              "      <td>La esquina mas linda de San Telmo en venta</td>\n",
              "      <td>1.510104</td>\n",
              "      <td>NaN</td>\n",
              "      <td>0.078105</td>\n",
              "      <td>NaN</td>\n",
              "    </tr>\n",
              "    <tr>\n",
              "      <th>459986</th>\n",
              "      <td>Pxz0dKZgWiL7odLclgK/vA==</td>\n",
              "      <td>2021-01-05</td>\n",
              "      <td>NaT</td>\n",
              "      <td>2021-01-05</td>\n",
              "      <td>-34.613000</td>\n",
              "      <td>-58.362117</td>\n",
              "      <td>Capital Federal</td>\n",
              "      <td>Puerto Madero</td>\n",
              "      <td>Puerto Madero</td>\n",
              "      <td>Venta</td>\n",
              "      <td>...</td>\n",
              "      <td>2.0</td>\n",
              "      <td>176.0</td>\n",
              "      <td>163.0</td>\n",
              "      <td>790000.0</td>\n",
              "      <td>USD</td>\n",
              "      <td>Departamento en venta en Puerto Madero</td>\n",
              "      <td>0.116997</td>\n",
              "      <td>NaN</td>\n",
              "      <td>0.078105</td>\n",
              "      <td>NaN</td>\n",
              "    </tr>\n",
              "    <tr>\n",
              "      <th>459997</th>\n",
              "      <td>q3Im3Bm7Mi9ufVUH5rjWxw==</td>\n",
              "      <td>2021-01-05</td>\n",
              "      <td>2021-06-05</td>\n",
              "      <td>2021-01-05</td>\n",
              "      <td>-34.618084</td>\n",
              "      <td>-58.359912</td>\n",
              "      <td>Capital Federal</td>\n",
              "      <td>Puerto Madero</td>\n",
              "      <td>Puerto Madero</td>\n",
              "      <td>Venta</td>\n",
              "      <td>...</td>\n",
              "      <td>2.0</td>\n",
              "      <td>315.0</td>\n",
              "      <td>180.0</td>\n",
              "      <td>2200000.0</td>\n",
              "      <td>USD</td>\n",
              "      <td>Venta Departamento Pent House  4 Ambientes Pil...</td>\n",
              "      <td>0.813550</td>\n",
              "      <td>NaN</td>\n",
              "      <td>0.078105</td>\n",
              "      <td>NaN</td>\n",
              "    </tr>\n",
              "    <tr>\n",
              "      <th>460002</th>\n",
              "      <td>w+3qsITCAFukJ0S15B8znQ==</td>\n",
              "      <td>2021-01-05</td>\n",
              "      <td>2021-07-07</td>\n",
              "      <td>2021-01-05</td>\n",
              "      <td>-34.618595</td>\n",
              "      <td>-58.361978</td>\n",
              "      <td>Capital Federal</td>\n",
              "      <td>Puerto Madero</td>\n",
              "      <td>Puerto Madero</td>\n",
              "      <td>Venta</td>\n",
              "      <td>...</td>\n",
              "      <td>1.0</td>\n",
              "      <td>68.0</td>\n",
              "      <td>56.0</td>\n",
              "      <td>520000.0</td>\n",
              "      <td>USD</td>\n",
              "      <td>Excelente Suite en Hotel SLS Puerto Madero | 2...</td>\n",
              "      <td>-0.579557</td>\n",
              "      <td>NaN</td>\n",
              "      <td>-0.816800</td>\n",
              "      <td>NaN</td>\n",
              "    </tr>\n",
              "    <tr>\n",
              "      <th>460025</th>\n",
              "      <td>tmi3A6iVby0lFyguSK1CUw==</td>\n",
              "      <td>2021-01-05</td>\n",
              "      <td>2021-05-03</td>\n",
              "      <td>2021-01-05</td>\n",
              "      <td>-34.578613</td>\n",
              "      <td>-58.482961</td>\n",
              "      <td>Capital Federal</td>\n",
              "      <td>Villa Urquiza</td>\n",
              "      <td>Villa Urquiza</td>\n",
              "      <td>Venta</td>\n",
              "      <td>...</td>\n",
              "      <td>3.0</td>\n",
              "      <td>125.0</td>\n",
              "      <td>120.0</td>\n",
              "      <td>470000.0</td>\n",
              "      <td>USD</td>\n",
              "      <td>Departamento - Villa Urquiza</td>\n",
              "      <td>0.813550</td>\n",
              "      <td>NaN</td>\n",
              "      <td>0.973010</td>\n",
              "      <td>NaN</td>\n",
              "    </tr>\n",
              "  </tbody>\n",
              "</table>\n",
              "<p>8097 rows × 22 columns</p>\n",
              "</div>\n",
              "      <button class=\"colab-df-convert\" onclick=\"convertToInteractive('df-a5cf8d21-2bf0-4179-b646-0dda12d922c1')\"\n",
              "              title=\"Convert this dataframe to an interactive table.\"\n",
              "              style=\"display:none;\">\n",
              "        \n",
              "  <svg xmlns=\"http://www.w3.org/2000/svg\" height=\"24px\"viewBox=\"0 0 24 24\"\n",
              "       width=\"24px\">\n",
              "    <path d=\"M0 0h24v24H0V0z\" fill=\"none\"/>\n",
              "    <path d=\"M18.56 5.44l.94 2.06.94-2.06 2.06-.94-2.06-.94-.94-2.06-.94 2.06-2.06.94zm-11 1L8.5 8.5l.94-2.06 2.06-.94-2.06-.94L8.5 2.5l-.94 2.06-2.06.94zm10 10l.94 2.06.94-2.06 2.06-.94-2.06-.94-.94-2.06-.94 2.06-2.06.94z\"/><path d=\"M17.41 7.96l-1.37-1.37c-.4-.4-.92-.59-1.43-.59-.52 0-1.04.2-1.43.59L10.3 9.45l-7.72 7.72c-.78.78-.78 2.05 0 2.83L4 21.41c.39.39.9.59 1.41.59.51 0 1.02-.2 1.41-.59l7.78-7.78 2.81-2.81c.8-.78.8-2.07 0-2.86zM5.41 20L4 18.59l7.72-7.72 1.47 1.35L5.41 20z\"/>\n",
              "  </svg>\n",
              "      </button>\n",
              "      \n",
              "  <style>\n",
              "    .colab-df-container {\n",
              "      display:flex;\n",
              "      flex-wrap:wrap;\n",
              "      gap: 12px;\n",
              "    }\n",
              "\n",
              "    .colab-df-convert {\n",
              "      background-color: #E8F0FE;\n",
              "      border: none;\n",
              "      border-radius: 50%;\n",
              "      cursor: pointer;\n",
              "      display: none;\n",
              "      fill: #1967D2;\n",
              "      height: 32px;\n",
              "      padding: 0 0 0 0;\n",
              "      width: 32px;\n",
              "    }\n",
              "\n",
              "    .colab-df-convert:hover {\n",
              "      background-color: #E2EBFA;\n",
              "      box-shadow: 0px 1px 2px rgba(60, 64, 67, 0.3), 0px 1px 3px 1px rgba(60, 64, 67, 0.15);\n",
              "      fill: #174EA6;\n",
              "    }\n",
              "\n",
              "    [theme=dark] .colab-df-convert {\n",
              "      background-color: #3B4455;\n",
              "      fill: #D2E3FC;\n",
              "    }\n",
              "\n",
              "    [theme=dark] .colab-df-convert:hover {\n",
              "      background-color: #434B5C;\n",
              "      box-shadow: 0px 1px 3px 1px rgba(0, 0, 0, 0.15);\n",
              "      filter: drop-shadow(0px 1px 2px rgba(0, 0, 0, 0.3));\n",
              "      fill: #FFFFFF;\n",
              "    }\n",
              "  </style>\n",
              "\n",
              "      <script>\n",
              "        const buttonEl =\n",
              "          document.querySelector('#df-a5cf8d21-2bf0-4179-b646-0dda12d922c1 button.colab-df-convert');\n",
              "        buttonEl.style.display =\n",
              "          google.colab.kernel.accessAllowed ? 'block' : 'none';\n",
              "\n",
              "        async function convertToInteractive(key) {\n",
              "          const element = document.querySelector('#df-a5cf8d21-2bf0-4179-b646-0dda12d922c1');\n",
              "          const dataTable =\n",
              "            await google.colab.kernel.invokeFunction('convertToInteractive',\n",
              "                                                     [key], {});\n",
              "          if (!dataTable) return;\n",
              "\n",
              "          const docLinkHtml = 'Like what you see? Visit the ' +\n",
              "            '<a target=\"_blank\" href=https://colab.research.google.com/notebooks/data_table.ipynb>data table notebook</a>'\n",
              "            + ' to learn more about interactive tables.';\n",
              "          element.innerHTML = '';\n",
              "          dataTable['output_type'] = 'display_data';\n",
              "          await google.colab.output.renderOutput(dataTable, element);\n",
              "          const docLink = document.createElement('div');\n",
              "          docLink.innerHTML = docLinkHtml;\n",
              "          element.appendChild(docLink);\n",
              "        }\n",
              "      </script>\n",
              "    </div>\n",
              "  </div>\n",
              "  "
            ]
          },
          "metadata": {},
          "execution_count": 55
        }
      ],
      "source": [
        "outlier=df[df['property_price']>450000]\n",
        "outlier"
      ]
    },
    {
      "cell_type": "markdown",
      "metadata": {
        "id": "Vx4GfNW3SkJ9"
      },
      "source": [
        "##### Z-Score"
      ]
    },
    {
      "cell_type": "code",
      "execution_count": 56,
      "metadata": {
        "id": "ib35t1TYSzXq"
      },
      "outputs": [],
      "source": [
        "media_price=np.mean(df.property_price)\n",
        "std_price=np.std(df.property_price)\n",
        "df['z_price']=(df.property_price - media_price)/std_price"
      ]
    },
    {
      "cell_type": "code",
      "execution_count": 57,
      "metadata": {
        "colab": {
          "base_uri": "https://localhost:8080/",
          "height": 852
        },
        "id": "uXVSdz1HTW4F",
        "outputId": "91b3d343-1b62-48e0-b864-004335e87096"
      },
      "outputs": [
        {
          "output_type": "execute_result",
          "data": {
            "text/plain": [
              "                              id start_date   end_date created_on    latitud  \\\n",
              "410     S8iZ1eflTJtt4bejzBVktw== 2021-09-09 2021-09-10 2021-09-09 -34.576741   \n",
              "411     FblpEe26U1lQkU5vRzAtmg== 2021-09-09 2021-09-09 2021-09-09 -34.576741   \n",
              "438     taPk4LSPMT26ftJm7/Bh6Q== 2021-09-09 2022-03-06 2021-09-09 -34.575053   \n",
              "448     0Ui0Bm9reiNrJFdUfgXwiA== 2021-09-09 2022-01-27 2021-09-09 -34.577855   \n",
              "629     1Q/fC60k0cGKYTu6hUqf1g== 2021-09-09 2021-09-11 2021-09-09 -34.566536   \n",
              "...                          ...        ...        ...        ...        ...   \n",
              "459724  ZHK1Il6hnxI3iMhjvmD5+g== 2021-01-05 2021-10-16 2021-01-05 -34.587991   \n",
              "459729  gMY0XZIwhoegKoroHdxyrw== 2021-01-05 2022-09-15 2021-01-05 -34.587588   \n",
              "459755  oFcI5JAbOEsVvsk6PhM6fg== 2021-01-05 2022-06-12 2021-01-05 -34.590653   \n",
              "459764  oX3aPs/sStr80cOS+VyxVw== 2021-01-05        NaT 2021-01-05 -34.586441   \n",
              "459997  q3Im3Bm7Mi9ufVUH5rjWxw== 2021-01-05 2021-06-05 2021-01-05 -34.618084   \n",
              "\n",
              "         longitud         place_l2       place_l3       place_l4 operation  \\\n",
              "410    -58.404830  Capital Federal        Palermo  Palermo Chico     Venta   \n",
              "411    -58.404830  Capital Federal        Palermo  Palermo Chico     Venta   \n",
              "438    -58.407958  Capital Federal        Palermo  Palermo Chico     Venta   \n",
              "448    -58.408796  Capital Federal        Palermo  Palermo Chico     Venta   \n",
              "629    -58.448246  Capital Federal       Belgrano       Belgrano     Venta   \n",
              "...           ...              ...            ...            ...       ...   \n",
              "459724 -58.389017  Capital Federal       Recoleta       Recoleta     Venta   \n",
              "459729 -58.389527  Capital Federal       Recoleta       Recoleta     Venta   \n",
              "459755 -58.384325  Capital Federal       Recoleta       Recoleta     Venta   \n",
              "459764 -58.387889  Capital Federal       Recoleta       Recoleta     Venta   \n",
              "459997 -58.359912  Capital Federal  Puerto Madero  Puerto Madero     Venta   \n",
              "\n",
              "        ... property_surface_total  property_surface_covered  property_price  \\\n",
              "410     ...                  400.0                     400.0       2700000.0   \n",
              "411     ...                  400.0                     400.0       2700000.0   \n",
              "438     ...                  282.0                     256.0       2250000.0   \n",
              "448     ...                  304.0                     294.0       1200000.0   \n",
              "629     ...                  214.0                     196.0       1200000.0   \n",
              "...     ...                    ...                       ...             ...   \n",
              "459724  ...                  285.0                     272.0       1250000.0   \n",
              "459729  ...                  271.0                     265.0       1250000.0   \n",
              "459755  ...                  431.0                     415.0       2800000.0   \n",
              "459764  ...                  383.0                     383.0       1700000.0   \n",
              "459997  ...                  315.0                     180.0       2200000.0   \n",
              "\n",
              "        property_currency                                     property_title  \\\n",
              "410                   USD                       Departamento - Palermo Chico   \n",
              "411                   USD                       Departamento - Palermo Chico   \n",
              "438                   USD  Torre Vignoli 282 metros . 3 suites . 2 cocheras    \n",
              "448                   USD  Departamento de 5 ambientes con dependencia  -...   \n",
              "629                   USD                            Departamento - Belgrano   \n",
              "...                   ...                                                ...   \n",
              "459724                USD  Departamento de excelente categoria en venta e...   \n",
              "459729                USD                            Departamento - Recoleta   \n",
              "459755                USD  Departamento de excelente calidad con 5 dormit...   \n",
              "459764                USD  Departamento frances con 2 cocheras en venta e...   \n",
              "459997                USD  Venta Departamento Pent House  4 Ambientes Pil...   \n",
              "\n",
              "         z_rooms zm_rooms z_bedrooms  zm_bedrooms   z_price  \n",
              "410     1.510104      NaN   1.867914          NaN  7.764431  \n",
              "411     1.510104      NaN   1.867914          NaN  7.764431  \n",
              "438     0.813550      NaN   0.973010          NaN  6.352010  \n",
              "448     1.510104      NaN   1.867914          NaN  3.056360  \n",
              "629     0.813550      NaN   0.973010          NaN  3.056360  \n",
              "...          ...      ...        ...          ...       ...  \n",
              "459724  3.599764      NaN   0.973010          NaN  3.213296  \n",
              "459729  2.206657      NaN   0.973010          NaN  3.213296  \n",
              "459755  3.599764      NaN   2.762819          NaN  8.078303  \n",
              "459764  3.599764      NaN   1.867914          NaN  4.625717  \n",
              "459997  0.813550      NaN   0.078105          NaN  6.195074  \n",
              "\n",
              "[1710 rows x 23 columns]"
            ],
            "text/html": [
              "\n",
              "  <div id=\"df-77618bad-bd83-443e-ac93-b1febf7b7fb6\">\n",
              "    <div class=\"colab-df-container\">\n",
              "      <div>\n",
              "<style scoped>\n",
              "    .dataframe tbody tr th:only-of-type {\n",
              "        vertical-align: middle;\n",
              "    }\n",
              "\n",
              "    .dataframe tbody tr th {\n",
              "        vertical-align: top;\n",
              "    }\n",
              "\n",
              "    .dataframe thead th {\n",
              "        text-align: right;\n",
              "    }\n",
              "</style>\n",
              "<table border=\"1\" class=\"dataframe\">\n",
              "  <thead>\n",
              "    <tr style=\"text-align: right;\">\n",
              "      <th></th>\n",
              "      <th>id</th>\n",
              "      <th>start_date</th>\n",
              "      <th>end_date</th>\n",
              "      <th>created_on</th>\n",
              "      <th>latitud</th>\n",
              "      <th>longitud</th>\n",
              "      <th>place_l2</th>\n",
              "      <th>place_l3</th>\n",
              "      <th>place_l4</th>\n",
              "      <th>operation</th>\n",
              "      <th>...</th>\n",
              "      <th>property_surface_total</th>\n",
              "      <th>property_surface_covered</th>\n",
              "      <th>property_price</th>\n",
              "      <th>property_currency</th>\n",
              "      <th>property_title</th>\n",
              "      <th>z_rooms</th>\n",
              "      <th>zm_rooms</th>\n",
              "      <th>z_bedrooms</th>\n",
              "      <th>zm_bedrooms</th>\n",
              "      <th>z_price</th>\n",
              "    </tr>\n",
              "  </thead>\n",
              "  <tbody>\n",
              "    <tr>\n",
              "      <th>410</th>\n",
              "      <td>S8iZ1eflTJtt4bejzBVktw==</td>\n",
              "      <td>2021-09-09</td>\n",
              "      <td>2021-09-10</td>\n",
              "      <td>2021-09-09</td>\n",
              "      <td>-34.576741</td>\n",
              "      <td>-58.404830</td>\n",
              "      <td>Capital Federal</td>\n",
              "      <td>Palermo</td>\n",
              "      <td>Palermo Chico</td>\n",
              "      <td>Venta</td>\n",
              "      <td>...</td>\n",
              "      <td>400.0</td>\n",
              "      <td>400.0</td>\n",
              "      <td>2700000.0</td>\n",
              "      <td>USD</td>\n",
              "      <td>Departamento - Palermo Chico</td>\n",
              "      <td>1.510104</td>\n",
              "      <td>NaN</td>\n",
              "      <td>1.867914</td>\n",
              "      <td>NaN</td>\n",
              "      <td>7.764431</td>\n",
              "    </tr>\n",
              "    <tr>\n",
              "      <th>411</th>\n",
              "      <td>FblpEe26U1lQkU5vRzAtmg==</td>\n",
              "      <td>2021-09-09</td>\n",
              "      <td>2021-09-09</td>\n",
              "      <td>2021-09-09</td>\n",
              "      <td>-34.576741</td>\n",
              "      <td>-58.404830</td>\n",
              "      <td>Capital Federal</td>\n",
              "      <td>Palermo</td>\n",
              "      <td>Palermo Chico</td>\n",
              "      <td>Venta</td>\n",
              "      <td>...</td>\n",
              "      <td>400.0</td>\n",
              "      <td>400.0</td>\n",
              "      <td>2700000.0</td>\n",
              "      <td>USD</td>\n",
              "      <td>Departamento - Palermo Chico</td>\n",
              "      <td>1.510104</td>\n",
              "      <td>NaN</td>\n",
              "      <td>1.867914</td>\n",
              "      <td>NaN</td>\n",
              "      <td>7.764431</td>\n",
              "    </tr>\n",
              "    <tr>\n",
              "      <th>438</th>\n",
              "      <td>taPk4LSPMT26ftJm7/Bh6Q==</td>\n",
              "      <td>2021-09-09</td>\n",
              "      <td>2022-03-06</td>\n",
              "      <td>2021-09-09</td>\n",
              "      <td>-34.575053</td>\n",
              "      <td>-58.407958</td>\n",
              "      <td>Capital Federal</td>\n",
              "      <td>Palermo</td>\n",
              "      <td>Palermo Chico</td>\n",
              "      <td>Venta</td>\n",
              "      <td>...</td>\n",
              "      <td>282.0</td>\n",
              "      <td>256.0</td>\n",
              "      <td>2250000.0</td>\n",
              "      <td>USD</td>\n",
              "      <td>Torre Vignoli 282 metros . 3 suites . 2 cocheras</td>\n",
              "      <td>0.813550</td>\n",
              "      <td>NaN</td>\n",
              "      <td>0.973010</td>\n",
              "      <td>NaN</td>\n",
              "      <td>6.352010</td>\n",
              "    </tr>\n",
              "    <tr>\n",
              "      <th>448</th>\n",
              "      <td>0Ui0Bm9reiNrJFdUfgXwiA==</td>\n",
              "      <td>2021-09-09</td>\n",
              "      <td>2022-01-27</td>\n",
              "      <td>2021-09-09</td>\n",
              "      <td>-34.577855</td>\n",
              "      <td>-58.408796</td>\n",
              "      <td>Capital Federal</td>\n",
              "      <td>Palermo</td>\n",
              "      <td>Palermo Chico</td>\n",
              "      <td>Venta</td>\n",
              "      <td>...</td>\n",
              "      <td>304.0</td>\n",
              "      <td>294.0</td>\n",
              "      <td>1200000.0</td>\n",
              "      <td>USD</td>\n",
              "      <td>Departamento de 5 ambientes con dependencia  -...</td>\n",
              "      <td>1.510104</td>\n",
              "      <td>NaN</td>\n",
              "      <td>1.867914</td>\n",
              "      <td>NaN</td>\n",
              "      <td>3.056360</td>\n",
              "    </tr>\n",
              "    <tr>\n",
              "      <th>629</th>\n",
              "      <td>1Q/fC60k0cGKYTu6hUqf1g==</td>\n",
              "      <td>2021-09-09</td>\n",
              "      <td>2021-09-11</td>\n",
              "      <td>2021-09-09</td>\n",
              "      <td>-34.566536</td>\n",
              "      <td>-58.448246</td>\n",
              "      <td>Capital Federal</td>\n",
              "      <td>Belgrano</td>\n",
              "      <td>Belgrano</td>\n",
              "      <td>Venta</td>\n",
              "      <td>...</td>\n",
              "      <td>214.0</td>\n",
              "      <td>196.0</td>\n",
              "      <td>1200000.0</td>\n",
              "      <td>USD</td>\n",
              "      <td>Departamento - Belgrano</td>\n",
              "      <td>0.813550</td>\n",
              "      <td>NaN</td>\n",
              "      <td>0.973010</td>\n",
              "      <td>NaN</td>\n",
              "      <td>3.056360</td>\n",
              "    </tr>\n",
              "    <tr>\n",
              "      <th>...</th>\n",
              "      <td>...</td>\n",
              "      <td>...</td>\n",
              "      <td>...</td>\n",
              "      <td>...</td>\n",
              "      <td>...</td>\n",
              "      <td>...</td>\n",
              "      <td>...</td>\n",
              "      <td>...</td>\n",
              "      <td>...</td>\n",
              "      <td>...</td>\n",
              "      <td>...</td>\n",
              "      <td>...</td>\n",
              "      <td>...</td>\n",
              "      <td>...</td>\n",
              "      <td>...</td>\n",
              "      <td>...</td>\n",
              "      <td>...</td>\n",
              "      <td>...</td>\n",
              "      <td>...</td>\n",
              "      <td>...</td>\n",
              "      <td>...</td>\n",
              "    </tr>\n",
              "    <tr>\n",
              "      <th>459724</th>\n",
              "      <td>ZHK1Il6hnxI3iMhjvmD5+g==</td>\n",
              "      <td>2021-01-05</td>\n",
              "      <td>2021-10-16</td>\n",
              "      <td>2021-01-05</td>\n",
              "      <td>-34.587991</td>\n",
              "      <td>-58.389017</td>\n",
              "      <td>Capital Federal</td>\n",
              "      <td>Recoleta</td>\n",
              "      <td>Recoleta</td>\n",
              "      <td>Venta</td>\n",
              "      <td>...</td>\n",
              "      <td>285.0</td>\n",
              "      <td>272.0</td>\n",
              "      <td>1250000.0</td>\n",
              "      <td>USD</td>\n",
              "      <td>Departamento de excelente categoria en venta e...</td>\n",
              "      <td>3.599764</td>\n",
              "      <td>NaN</td>\n",
              "      <td>0.973010</td>\n",
              "      <td>NaN</td>\n",
              "      <td>3.213296</td>\n",
              "    </tr>\n",
              "    <tr>\n",
              "      <th>459729</th>\n",
              "      <td>gMY0XZIwhoegKoroHdxyrw==</td>\n",
              "      <td>2021-01-05</td>\n",
              "      <td>2022-09-15</td>\n",
              "      <td>2021-01-05</td>\n",
              "      <td>-34.587588</td>\n",
              "      <td>-58.389527</td>\n",
              "      <td>Capital Federal</td>\n",
              "      <td>Recoleta</td>\n",
              "      <td>Recoleta</td>\n",
              "      <td>Venta</td>\n",
              "      <td>...</td>\n",
              "      <td>271.0</td>\n",
              "      <td>265.0</td>\n",
              "      <td>1250000.0</td>\n",
              "      <td>USD</td>\n",
              "      <td>Departamento - Recoleta</td>\n",
              "      <td>2.206657</td>\n",
              "      <td>NaN</td>\n",
              "      <td>0.973010</td>\n",
              "      <td>NaN</td>\n",
              "      <td>3.213296</td>\n",
              "    </tr>\n",
              "    <tr>\n",
              "      <th>459755</th>\n",
              "      <td>oFcI5JAbOEsVvsk6PhM6fg==</td>\n",
              "      <td>2021-01-05</td>\n",
              "      <td>2022-06-12</td>\n",
              "      <td>2021-01-05</td>\n",
              "      <td>-34.590653</td>\n",
              "      <td>-58.384325</td>\n",
              "      <td>Capital Federal</td>\n",
              "      <td>Recoleta</td>\n",
              "      <td>Recoleta</td>\n",
              "      <td>Venta</td>\n",
              "      <td>...</td>\n",
              "      <td>431.0</td>\n",
              "      <td>415.0</td>\n",
              "      <td>2800000.0</td>\n",
              "      <td>USD</td>\n",
              "      <td>Departamento de excelente calidad con 5 dormit...</td>\n",
              "      <td>3.599764</td>\n",
              "      <td>NaN</td>\n",
              "      <td>2.762819</td>\n",
              "      <td>NaN</td>\n",
              "      <td>8.078303</td>\n",
              "    </tr>\n",
              "    <tr>\n",
              "      <th>459764</th>\n",
              "      <td>oX3aPs/sStr80cOS+VyxVw==</td>\n",
              "      <td>2021-01-05</td>\n",
              "      <td>NaT</td>\n",
              "      <td>2021-01-05</td>\n",
              "      <td>-34.586441</td>\n",
              "      <td>-58.387889</td>\n",
              "      <td>Capital Federal</td>\n",
              "      <td>Recoleta</td>\n",
              "      <td>Recoleta</td>\n",
              "      <td>Venta</td>\n",
              "      <td>...</td>\n",
              "      <td>383.0</td>\n",
              "      <td>383.0</td>\n",
              "      <td>1700000.0</td>\n",
              "      <td>USD</td>\n",
              "      <td>Departamento frances con 2 cocheras en venta e...</td>\n",
              "      <td>3.599764</td>\n",
              "      <td>NaN</td>\n",
              "      <td>1.867914</td>\n",
              "      <td>NaN</td>\n",
              "      <td>4.625717</td>\n",
              "    </tr>\n",
              "    <tr>\n",
              "      <th>459997</th>\n",
              "      <td>q3Im3Bm7Mi9ufVUH5rjWxw==</td>\n",
              "      <td>2021-01-05</td>\n",
              "      <td>2021-06-05</td>\n",
              "      <td>2021-01-05</td>\n",
              "      <td>-34.618084</td>\n",
              "      <td>-58.359912</td>\n",
              "      <td>Capital Federal</td>\n",
              "      <td>Puerto Madero</td>\n",
              "      <td>Puerto Madero</td>\n",
              "      <td>Venta</td>\n",
              "      <td>...</td>\n",
              "      <td>315.0</td>\n",
              "      <td>180.0</td>\n",
              "      <td>2200000.0</td>\n",
              "      <td>USD</td>\n",
              "      <td>Venta Departamento Pent House  4 Ambientes Pil...</td>\n",
              "      <td>0.813550</td>\n",
              "      <td>NaN</td>\n",
              "      <td>0.078105</td>\n",
              "      <td>NaN</td>\n",
              "      <td>6.195074</td>\n",
              "    </tr>\n",
              "  </tbody>\n",
              "</table>\n",
              "<p>1710 rows × 23 columns</p>\n",
              "</div>\n",
              "      <button class=\"colab-df-convert\" onclick=\"convertToInteractive('df-77618bad-bd83-443e-ac93-b1febf7b7fb6')\"\n",
              "              title=\"Convert this dataframe to an interactive table.\"\n",
              "              style=\"display:none;\">\n",
              "        \n",
              "  <svg xmlns=\"http://www.w3.org/2000/svg\" height=\"24px\"viewBox=\"0 0 24 24\"\n",
              "       width=\"24px\">\n",
              "    <path d=\"M0 0h24v24H0V0z\" fill=\"none\"/>\n",
              "    <path d=\"M18.56 5.44l.94 2.06.94-2.06 2.06-.94-2.06-.94-.94-2.06-.94 2.06-2.06.94zm-11 1L8.5 8.5l.94-2.06 2.06-.94-2.06-.94L8.5 2.5l-.94 2.06-2.06.94zm10 10l.94 2.06.94-2.06 2.06-.94-2.06-.94-.94-2.06-.94 2.06-2.06.94z\"/><path d=\"M17.41 7.96l-1.37-1.37c-.4-.4-.92-.59-1.43-.59-.52 0-1.04.2-1.43.59L10.3 9.45l-7.72 7.72c-.78.78-.78 2.05 0 2.83L4 21.41c.39.39.9.59 1.41.59.51 0 1.02-.2 1.41-.59l7.78-7.78 2.81-2.81c.8-.78.8-2.07 0-2.86zM5.41 20L4 18.59l7.72-7.72 1.47 1.35L5.41 20z\"/>\n",
              "  </svg>\n",
              "      </button>\n",
              "      \n",
              "  <style>\n",
              "    .colab-df-container {\n",
              "      display:flex;\n",
              "      flex-wrap:wrap;\n",
              "      gap: 12px;\n",
              "    }\n",
              "\n",
              "    .colab-df-convert {\n",
              "      background-color: #E8F0FE;\n",
              "      border: none;\n",
              "      border-radius: 50%;\n",
              "      cursor: pointer;\n",
              "      display: none;\n",
              "      fill: #1967D2;\n",
              "      height: 32px;\n",
              "      padding: 0 0 0 0;\n",
              "      width: 32px;\n",
              "    }\n",
              "\n",
              "    .colab-df-convert:hover {\n",
              "      background-color: #E2EBFA;\n",
              "      box-shadow: 0px 1px 2px rgba(60, 64, 67, 0.3), 0px 1px 3px 1px rgba(60, 64, 67, 0.15);\n",
              "      fill: #174EA6;\n",
              "    }\n",
              "\n",
              "    [theme=dark] .colab-df-convert {\n",
              "      background-color: #3B4455;\n",
              "      fill: #D2E3FC;\n",
              "    }\n",
              "\n",
              "    [theme=dark] .colab-df-convert:hover {\n",
              "      background-color: #434B5C;\n",
              "      box-shadow: 0px 1px 3px 1px rgba(0, 0, 0, 0.15);\n",
              "      filter: drop-shadow(0px 1px 2px rgba(0, 0, 0, 0.3));\n",
              "      fill: #FFFFFF;\n",
              "    }\n",
              "  </style>\n",
              "\n",
              "      <script>\n",
              "        const buttonEl =\n",
              "          document.querySelector('#df-77618bad-bd83-443e-ac93-b1febf7b7fb6 button.colab-df-convert');\n",
              "        buttonEl.style.display =\n",
              "          google.colab.kernel.accessAllowed ? 'block' : 'none';\n",
              "\n",
              "        async function convertToInteractive(key) {\n",
              "          const element = document.querySelector('#df-77618bad-bd83-443e-ac93-b1febf7b7fb6');\n",
              "          const dataTable =\n",
              "            await google.colab.kernel.invokeFunction('convertToInteractive',\n",
              "                                                     [key], {});\n",
              "          if (!dataTable) return;\n",
              "\n",
              "          const docLinkHtml = 'Like what you see? Visit the ' +\n",
              "            '<a target=\"_blank\" href=https://colab.research.google.com/notebooks/data_table.ipynb>data table notebook</a>'\n",
              "            + ' to learn more about interactive tables.';\n",
              "          element.innerHTML = '';\n",
              "          dataTable['output_type'] = 'display_data';\n",
              "          await google.colab.output.renderOutput(dataTable, element);\n",
              "          const docLink = document.createElement('div');\n",
              "          docLink.innerHTML = docLinkHtml;\n",
              "          element.appendChild(docLink);\n",
              "        }\n",
              "      </script>\n",
              "    </div>\n",
              "  </div>\n",
              "  "
            ]
          },
          "metadata": {},
          "execution_count": 57
        }
      ],
      "source": [
        "df[df['z_price']>3]"
      ]
    },
    {
      "cell_type": "code",
      "execution_count": 58,
      "metadata": {
        "colab": {
          "base_uri": "https://localhost:8080/",
          "height": 143
        },
        "id": "i0EGvIjiTbxw",
        "outputId": "0ac76322-d565-4c50-afe4-30f272465a4e"
      },
      "outputs": [
        {
          "output_type": "execute_result",
          "data": {
            "text/plain": [
              "Empty DataFrame\n",
              "Columns: [id, start_date, end_date, created_on, latitud, longitud, place_l2, place_l3, place_l4, operation, property_type, property_rooms, property_bedrooms, property_surface_total, property_surface_covered, property_price, property_currency, property_title, z_rooms, zm_rooms, z_bedrooms, zm_bedrooms, z_price]\n",
              "Index: []\n",
              "\n",
              "[0 rows x 23 columns]"
            ],
            "text/html": [
              "\n",
              "  <div id=\"df-a58b0b12-c4a5-4a67-b5e4-742a7e9ed910\">\n",
              "    <div class=\"colab-df-container\">\n",
              "      <div>\n",
              "<style scoped>\n",
              "    .dataframe tbody tr th:only-of-type {\n",
              "        vertical-align: middle;\n",
              "    }\n",
              "\n",
              "    .dataframe tbody tr th {\n",
              "        vertical-align: top;\n",
              "    }\n",
              "\n",
              "    .dataframe thead th {\n",
              "        text-align: right;\n",
              "    }\n",
              "</style>\n",
              "<table border=\"1\" class=\"dataframe\">\n",
              "  <thead>\n",
              "    <tr style=\"text-align: right;\">\n",
              "      <th></th>\n",
              "      <th>id</th>\n",
              "      <th>start_date</th>\n",
              "      <th>end_date</th>\n",
              "      <th>created_on</th>\n",
              "      <th>latitud</th>\n",
              "      <th>longitud</th>\n",
              "      <th>place_l2</th>\n",
              "      <th>place_l3</th>\n",
              "      <th>place_l4</th>\n",
              "      <th>operation</th>\n",
              "      <th>...</th>\n",
              "      <th>property_surface_total</th>\n",
              "      <th>property_surface_covered</th>\n",
              "      <th>property_price</th>\n",
              "      <th>property_currency</th>\n",
              "      <th>property_title</th>\n",
              "      <th>z_rooms</th>\n",
              "      <th>zm_rooms</th>\n",
              "      <th>z_bedrooms</th>\n",
              "      <th>zm_bedrooms</th>\n",
              "      <th>z_price</th>\n",
              "    </tr>\n",
              "  </thead>\n",
              "  <tbody>\n",
              "  </tbody>\n",
              "</table>\n",
              "<p>0 rows × 23 columns</p>\n",
              "</div>\n",
              "      <button class=\"colab-df-convert\" onclick=\"convertToInteractive('df-a58b0b12-c4a5-4a67-b5e4-742a7e9ed910')\"\n",
              "              title=\"Convert this dataframe to an interactive table.\"\n",
              "              style=\"display:none;\">\n",
              "        \n",
              "  <svg xmlns=\"http://www.w3.org/2000/svg\" height=\"24px\"viewBox=\"0 0 24 24\"\n",
              "       width=\"24px\">\n",
              "    <path d=\"M0 0h24v24H0V0z\" fill=\"none\"/>\n",
              "    <path d=\"M18.56 5.44l.94 2.06.94-2.06 2.06-.94-2.06-.94-.94-2.06-.94 2.06-2.06.94zm-11 1L8.5 8.5l.94-2.06 2.06-.94-2.06-.94L8.5 2.5l-.94 2.06-2.06.94zm10 10l.94 2.06.94-2.06 2.06-.94-2.06-.94-.94-2.06-.94 2.06-2.06.94z\"/><path d=\"M17.41 7.96l-1.37-1.37c-.4-.4-.92-.59-1.43-.59-.52 0-1.04.2-1.43.59L10.3 9.45l-7.72 7.72c-.78.78-.78 2.05 0 2.83L4 21.41c.39.39.9.59 1.41.59.51 0 1.02-.2 1.41-.59l7.78-7.78 2.81-2.81c.8-.78.8-2.07 0-2.86zM5.41 20L4 18.59l7.72-7.72 1.47 1.35L5.41 20z\"/>\n",
              "  </svg>\n",
              "      </button>\n",
              "      \n",
              "  <style>\n",
              "    .colab-df-container {\n",
              "      display:flex;\n",
              "      flex-wrap:wrap;\n",
              "      gap: 12px;\n",
              "    }\n",
              "\n",
              "    .colab-df-convert {\n",
              "      background-color: #E8F0FE;\n",
              "      border: none;\n",
              "      border-radius: 50%;\n",
              "      cursor: pointer;\n",
              "      display: none;\n",
              "      fill: #1967D2;\n",
              "      height: 32px;\n",
              "      padding: 0 0 0 0;\n",
              "      width: 32px;\n",
              "    }\n",
              "\n",
              "    .colab-df-convert:hover {\n",
              "      background-color: #E2EBFA;\n",
              "      box-shadow: 0px 1px 2px rgba(60, 64, 67, 0.3), 0px 1px 3px 1px rgba(60, 64, 67, 0.15);\n",
              "      fill: #174EA6;\n",
              "    }\n",
              "\n",
              "    [theme=dark] .colab-df-convert {\n",
              "      background-color: #3B4455;\n",
              "      fill: #D2E3FC;\n",
              "    }\n",
              "\n",
              "    [theme=dark] .colab-df-convert:hover {\n",
              "      background-color: #434B5C;\n",
              "      box-shadow: 0px 1px 3px 1px rgba(0, 0, 0, 0.15);\n",
              "      filter: drop-shadow(0px 1px 2px rgba(0, 0, 0, 0.3));\n",
              "      fill: #FFFFFF;\n",
              "    }\n",
              "  </style>\n",
              "\n",
              "      <script>\n",
              "        const buttonEl =\n",
              "          document.querySelector('#df-a58b0b12-c4a5-4a67-b5e4-742a7e9ed910 button.colab-df-convert');\n",
              "        buttonEl.style.display =\n",
              "          google.colab.kernel.accessAllowed ? 'block' : 'none';\n",
              "\n",
              "        async function convertToInteractive(key) {\n",
              "          const element = document.querySelector('#df-a58b0b12-c4a5-4a67-b5e4-742a7e9ed910');\n",
              "          const dataTable =\n",
              "            await google.colab.kernel.invokeFunction('convertToInteractive',\n",
              "                                                     [key], {});\n",
              "          if (!dataTable) return;\n",
              "\n",
              "          const docLinkHtml = 'Like what you see? Visit the ' +\n",
              "            '<a target=\"_blank\" href=https://colab.research.google.com/notebooks/data_table.ipynb>data table notebook</a>'\n",
              "            + ' to learn more about interactive tables.';\n",
              "          element.innerHTML = '';\n",
              "          dataTable['output_type'] = 'display_data';\n",
              "          await google.colab.output.renderOutput(dataTable, element);\n",
              "          const docLink = document.createElement('div');\n",
              "          docLink.innerHTML = docLinkHtml;\n",
              "          element.appendChild(docLink);\n",
              "        }\n",
              "      </script>\n",
              "    </div>\n",
              "  </div>\n",
              "  "
            ]
          },
          "metadata": {},
          "execution_count": 58
        }
      ],
      "source": [
        "df[df['z_price']<-3]"
      ]
    },
    {
      "cell_type": "code",
      "execution_count": 59,
      "metadata": {
        "colab": {
          "base_uri": "https://localhost:8080/",
          "height": 295
        },
        "id": "4iApL4TtTgTz",
        "outputId": "c84a6659-bd15-4d4c-e4e9-b651edca238c"
      },
      "outputs": [
        {
          "output_type": "display_data",
          "data": {
            "text/plain": [
              "<Figure size 432x288 with 1 Axes>"
            ],
            "image/png": "[encoded data removed]"
          },
          "metadata": {
            "needs_background": "light"
          }
        }
      ],
      "source": [
        "plt.hist(df.z_price, bins=300, range=(-1,10))\n",
        "plt.title('Histograma Z-Score Price')\n",
        "plt.xlabel('Z-Score Price')\n",
        "plt.show()"
      ]
    },
    {
      "cell_type": "markdown",
      "metadata": {
        "id": "WVFbdCGUSm6D"
      },
      "source": [
        "##### Z-Score Modificado"
      ]
    },
    {
      "cell_type": "code",
      "execution_count": 60,
      "metadata": {
        "id": "3_VNeMGmTvP9"
      },
      "outputs": [],
      "source": [
        "mediana_price=np.median(df.property_price)\n",
        "MAD=np.median(np.absolute(df.property_price-mediana_price))\n",
        "\n",
        "df['zm_price']=(df.property_price - mediana_price)*0.6745/MAD"
      ]
    },
    {
      "cell_type": "code",
      "execution_count": 61,
      "metadata": {
        "colab": {
          "base_uri": "https://localhost:8080/",
          "height": 818
        },
        "id": "F_WsRtuJT2-h",
        "outputId": "fd660449-1e89-443e-d04c-af398734e51c"
      },
      "outputs": [
        {
          "output_type": "execute_result",
          "data": {
            "text/plain": [
              "                              id start_date   end_date created_on    latitud  \\\n",
              "58      tgaK6Ibor1zLY5bvNxsXfw== 2021-09-09 2021-09-26 2021-09-09 -34.633730   \n",
              "410     S8iZ1eflTJtt4bejzBVktw== 2021-09-09 2021-09-10 2021-09-09 -34.576741   \n",
              "411     FblpEe26U1lQkU5vRzAtmg== 2021-09-09 2021-09-09 2021-09-09 -34.576741   \n",
              "438     taPk4LSPMT26ftJm7/Bh6Q== 2021-09-09 2022-03-06 2021-09-09 -34.575053   \n",
              "448     0Ui0Bm9reiNrJFdUfgXwiA== 2021-09-09 2022-01-27 2021-09-09 -34.577855   \n",
              "...                          ...        ...        ...        ...        ...   \n",
              "459986  Pxz0dKZgWiL7odLclgK/vA== 2021-01-05        NaT 2021-01-05 -34.613000   \n",
              "459997  q3Im3Bm7Mi9ufVUH5rjWxw== 2021-01-05 2021-06-05 2021-01-05 -34.618084   \n",
              "460002  w+3qsITCAFukJ0S15B8znQ== 2021-01-05 2021-07-07 2021-01-05 -34.618595   \n",
              "460005  U2WS7omU6g9aUPRuyLt+IA== 2021-01-05 2022-06-02 2021-01-05 -34.614730   \n",
              "460025  tmi3A6iVby0lFyguSK1CUw== 2021-01-05 2021-05-03 2021-01-05 -34.578613   \n",
              "\n",
              "         longitud         place_l2       place_l3       place_l4 operation  \\\n",
              "58     -58.424729  Capital Federal          Boedo          Boedo     Venta   \n",
              "410    -58.404830  Capital Federal        Palermo  Palermo Chico     Venta   \n",
              "411    -58.404830  Capital Federal        Palermo  Palermo Chico     Venta   \n",
              "438    -58.407958  Capital Federal        Palermo  Palermo Chico     Venta   \n",
              "448    -58.408796  Capital Federal        Palermo  Palermo Chico     Venta   \n",
              "...           ...              ...            ...            ...       ...   \n",
              "459986 -58.362117  Capital Federal  Puerto Madero  Puerto Madero     Venta   \n",
              "459997 -58.359912  Capital Federal  Puerto Madero  Puerto Madero     Venta   \n",
              "460002 -58.361978  Capital Federal  Puerto Madero  Puerto Madero     Venta   \n",
              "460005 -58.361755  Capital Federal  Puerto Madero  Puerto Madero     Venta   \n",
              "460025 -58.482961  Capital Federal  Villa Urquiza  Villa Urquiza     Venta   \n",
              "\n",
              "        ... property_surface_covered  property_price  property_currency  \\\n",
              "58      ...                    244.0        500000.0                USD   \n",
              "410     ...                    400.0       2700000.0                USD   \n",
              "411     ...                    400.0       2700000.0                USD   \n",
              "438     ...                    256.0       2250000.0                USD   \n",
              "448     ...                    294.0       1200000.0                USD   \n",
              "...     ...                      ...             ...                ...   \n",
              "459986  ...                    163.0        790000.0                USD   \n",
              "459997  ...                    180.0       2200000.0                USD   \n",
              "460002  ...                     56.0        520000.0                USD   \n",
              "460005  ...                     86.0        450000.0                USD   \n",
              "460025  ...                    120.0        470000.0                USD   \n",
              "\n",
              "                                           property_title   z_rooms  zm_rooms  \\\n",
              "58      VENTA CASA BOEDO LOCAL  DEPARTAMENTOS HABITACI...  4.992871       NaN   \n",
              "410                          Departamento - Palermo Chico  1.510104       NaN   \n",
              "411                          Departamento - Palermo Chico  1.510104       NaN   \n",
              "438     Torre Vignoli 282 metros . 3 suites . 2 cocheras   0.813550       NaN   \n",
              "448     Departamento de 5 ambientes con dependencia  -...  1.510104       NaN   \n",
              "...                                                   ...       ...       ...   \n",
              "459986             Departamento en venta en Puerto Madero  0.116997       NaN   \n",
              "459997  Venta Departamento Pent House  4 Ambientes Pil...  0.813550       NaN   \n",
              "460002  Excelente Suite en Hotel SLS Puerto Madero | 2... -0.579557       NaN   \n",
              "460005      Departamento en venta en el Porteño Building  -0.579557       NaN   \n",
              "460025                       Departamento - Villa Urquiza  0.813550       NaN   \n",
              "\n",
              "       z_bedrooms zm_bedrooms   z_price   zm_price  \n",
              "58       7.237343         NaN  0.859260   4.141197  \n",
              "410      1.867914         NaN  7.764431  29.725680  \n",
              "411      1.867914         NaN  7.764431  29.725680  \n",
              "438      0.973010         NaN  6.352010  24.492491  \n",
              "448      1.867914         NaN  3.056360  12.281715  \n",
              "...           ...         ...       ...        ...  \n",
              "459986   0.078105         NaN  1.769487   7.513697  \n",
              "459997   0.078105         NaN  6.195074  23.911025  \n",
              "460002  -0.816800         NaN  0.922034   4.373784  \n",
              "460005  -0.816800         NaN  0.702324   3.559732  \n",
              "460025   0.973010         NaN  0.765099   3.792318  \n",
              "\n",
              "[8631 rows x 24 columns]"
            ],
            "text/html": [
              "\n",
              "  <div id=\"df-562ba60b-435b-44af-9f5f-64d143c095c0\">\n",
              "    <div class=\"colab-df-container\">\n",
              "      <div>\n",
              "<style scoped>\n",
              "    .dataframe tbody tr th:only-of-type {\n",
              "        vertical-align: middle;\n",
              "    }\n",
              "\n",
              "    .dataframe tbody tr th {\n",
              "        vertical-align: top;\n",
              "    }\n",
              "\n",
              "    .dataframe thead th {\n",
              "        text-align: right;\n",
              "    }\n",
              "</style>\n",
              "<table border=\"1\" class=\"dataframe\">\n",
              "  <thead>\n",
              "    <tr style=\"text-align: right;\">\n",
              "      <th></th>\n",
              "      <th>id</th>\n",
              "      <th>start_date</th>\n",
              "      <th>end_date</th>\n",
              "      <th>created_on</th>\n",
              "      <th>latitud</th>\n",
              "      <th>longitud</th>\n",
              "      <th>place_l2</th>\n",
              "      <th>place_l3</th>\n",
              "      <th>place_l4</th>\n",
              "      <th>operation</th>\n",
              "      <th>...</th>\n",
              "      <th>property_surface_covered</th>\n",
              "      <th>property_price</th>\n",
              "      <th>property_currency</th>\n",
              "      <th>property_title</th>\n",
              "      <th>z_rooms</th>\n",
              "      <th>zm_rooms</th>\n",
              "      <th>z_bedrooms</th>\n",
              "      <th>zm_bedrooms</th>\n",
              "      <th>z_price</th>\n",
              "      <th>zm_price</th>\n",
              "    </tr>\n",
              "  </thead>\n",
              "  <tbody>\n",
              "    <tr>\n",
              "      <th>58</th>\n",
              "      <td>tgaK6Ibor1zLY5bvNxsXfw==</td>\n",
              "      <td>2021-09-09</td>\n",
              "      <td>2021-09-26</td>\n",
              "      <td>2021-09-09</td>\n",
              "      <td>-34.633730</td>\n",
              "      <td>-58.424729</td>\n",
              "      <td>Capital Federal</td>\n",
              "      <td>Boedo</td>\n",
              "      <td>Boedo</td>\n",
              "      <td>Venta</td>\n",
              "      <td>...</td>\n",
              "      <td>244.0</td>\n",
              "      <td>500000.0</td>\n",
              "      <td>USD</td>\n",
              "      <td>VENTA CASA BOEDO LOCAL  DEPARTAMENTOS HABITACI...</td>\n",
              "      <td>4.992871</td>\n",
              "      <td>NaN</td>\n",
              "      <td>7.237343</td>\n",
              "      <td>NaN</td>\n",
              "      <td>0.859260</td>\n",
              "      <td>4.141197</td>\n",
              "    </tr>\n",
              "    <tr>\n",
              "      <th>410</th>\n",
              "      <td>S8iZ1eflTJtt4bejzBVktw==</td>\n",
              "      <td>2021-09-09</td>\n",
              "      <td>2021-09-10</td>\n",
              "      <td>2021-09-09</td>\n",
              "      <td>-34.576741</td>\n",
              "      <td>-58.404830</td>\n",
              "      <td>Capital Federal</td>\n",
              "      <td>Palermo</td>\n",
              "      <td>Palermo Chico</td>\n",
              "      <td>Venta</td>\n",
              "      <td>...</td>\n",
              "      <td>400.0</td>\n",
              "      <td>2700000.0</td>\n",
              "      <td>USD</td>\n",
              "      <td>Departamento - Palermo Chico</td>\n",
              "      <td>1.510104</td>\n",
              "      <td>NaN</td>\n",
              "      <td>1.867914</td>\n",
              "      <td>NaN</td>\n",
              "      <td>7.764431</td>\n",
              "      <td>29.725680</td>\n",
              "    </tr>\n",
              "    <tr>\n",
              "      <th>411</th>\n",
              "      <td>FblpEe26U1lQkU5vRzAtmg==</td>\n",
              "      <td>2021-09-09</td>\n",
              "      <td>2021-09-09</td>\n",
              "      <td>2021-09-09</td>\n",
              "      <td>-34.576741</td>\n",
              "      <td>-58.404830</td>\n",
              "      <td>Capital Federal</td>\n",
              "      <td>Palermo</td>\n",
              "      <td>Palermo Chico</td>\n",
              "      <td>Venta</td>\n",
              "      <td>...</td>\n",
              "      <td>400.0</td>\n",
              "      <td>2700000.0</td>\n",
              "      <td>USD</td>\n",
              "      <td>Departamento - Palermo Chico</td>\n",
              "      <td>1.510104</td>\n",
              "      <td>NaN</td>\n",
              "      <td>1.867914</td>\n",
              "      <td>NaN</td>\n",
              "      <td>7.764431</td>\n",
              "      <td>29.725680</td>\n",
              "    </tr>\n",
              "    <tr>\n",
              "      <th>438</th>\n",
              "      <td>taPk4LSPMT26ftJm7/Bh6Q==</td>\n",
              "      <td>2021-09-09</td>\n",
              "      <td>2022-03-06</td>\n",
              "      <td>2021-09-09</td>\n",
              "      <td>-34.575053</td>\n",
              "      <td>-58.407958</td>\n",
              "      <td>Capital Federal</td>\n",
              "      <td>Palermo</td>\n",
              "      <td>Palermo Chico</td>\n",
              "      <td>Venta</td>\n",
              "      <td>...</td>\n",
              "      <td>256.0</td>\n",
              "      <td>2250000.0</td>\n",
              "      <td>USD</td>\n",
              "      <td>Torre Vignoli 282 metros . 3 suites . 2 cocheras</td>\n",
              "      <td>0.813550</td>\n",
              "      <td>NaN</td>\n",
              "      <td>0.973010</td>\n",
              "      <td>NaN</td>\n",
              "      <td>6.352010</td>\n",
              "      <td>24.492491</td>\n",
              "    </tr>\n",
              "    <tr>\n",
              "      <th>448</th>\n",
              "      <td>0Ui0Bm9reiNrJFdUfgXwiA==</td>\n",
              "      <td>2021-09-09</td>\n",
              "      <td>2022-01-27</td>\n",
              "      <td>2021-09-09</td>\n",
              "      <td>-34.577855</td>\n",
              "      <td>-58.408796</td>\n",
              "      <td>Capital Federal</td>\n",
              "      <td>Palermo</td>\n",
              "      <td>Palermo Chico</td>\n",
              "      <td>Venta</td>\n",
              "      <td>...</td>\n",
              "      <td>294.0</td>\n",
              "      <td>1200000.0</td>\n",
              "      <td>USD</td>\n",
              "      <td>Departamento de 5 ambientes con dependencia  -...</td>\n",
              "      <td>1.510104</td>\n",
              "      <td>NaN</td>\n",
              "      <td>1.867914</td>\n",
              "      <td>NaN</td>\n",
              "      <td>3.056360</td>\n",
              "      <td>12.281715</td>\n",
              "    </tr>\n",
              "    <tr>\n",
              "      <th>...</th>\n",
              "      <td>...</td>\n",
              "      <td>...</td>\n",
              "      <td>...</td>\n",
              "      <td>...</td>\n",
              "      <td>...</td>\n",
              "      <td>...</td>\n",
              "      <td>...</td>\n",
              "      <td>...</td>\n",
              "      <td>...</td>\n",
              "      <td>...</td>\n",
              "      <td>...</td>\n",
              "      <td>...</td>\n",
              "      <td>...</td>\n",
              "      <td>...</td>\n",
              "      <td>...</td>\n",
              "      <td>...</td>\n",
              "      <td>...</td>\n",
              "      <td>...</td>\n",
              "      <td>...</td>\n",
              "      <td>...</td>\n",
              "      <td>...</td>\n",
              "    </tr>\n",
              "    <tr>\n",
              "      <th>459986</th>\n",
              "      <td>Pxz0dKZgWiL7odLclgK/vA==</td>\n",
              "      <td>2021-01-05</td>\n",
              "      <td>NaT</td>\n",
              "      <td>2021-01-05</td>\n",
              "      <td>-34.613000</td>\n",
              "      <td>-58.362117</td>\n",
              "      <td>Capital Federal</td>\n",
              "      <td>Puerto Madero</td>\n",
              "      <td>Puerto Madero</td>\n",
              "      <td>Venta</td>\n",
              "      <td>...</td>\n",
              "      <td>163.0</td>\n",
              "      <td>790000.0</td>\n",
              "      <td>USD</td>\n",
              "      <td>Departamento en venta en Puerto Madero</td>\n",
              "      <td>0.116997</td>\n",
              "      <td>NaN</td>\n",
              "      <td>0.078105</td>\n",
              "      <td>NaN</td>\n",
              "      <td>1.769487</td>\n",
              "      <td>7.513697</td>\n",
              "    </tr>\n",
              "    <tr>\n",
              "      <th>459997</th>\n",
              "      <td>q3Im3Bm7Mi9ufVUH5rjWxw==</td>\n",
              "      <td>2021-01-05</td>\n",
              "      <td>2021-06-05</td>\n",
              "      <td>2021-01-05</td>\n",
              "      <td>-34.618084</td>\n",
              "      <td>-58.359912</td>\n",
              "      <td>Capital Federal</td>\n",
              "      <td>Puerto Madero</td>\n",
              "      <td>Puerto Madero</td>\n",
              "      <td>Venta</td>\n",
              "      <td>...</td>\n",
              "      <td>180.0</td>\n",
              "      <td>2200000.0</td>\n",
              "      <td>USD</td>\n",
              "      <td>Venta Departamento Pent House  4 Ambientes Pil...</td>\n",
              "      <td>0.813550</td>\n",
              "      <td>NaN</td>\n",
              "      <td>0.078105</td>\n",
              "      <td>NaN</td>\n",
              "      <td>6.195074</td>\n",
              "      <td>23.911025</td>\n",
              "    </tr>\n",
              "    <tr>\n",
              "      <th>460002</th>\n",
              "      <td>w+3qsITCAFukJ0S15B8znQ==</td>\n",
              "      <td>2021-01-05</td>\n",
              "      <td>2021-07-07</td>\n",
              "      <td>2021-01-05</td>\n",
              "      <td>-34.618595</td>\n",
              "      <td>-58.361978</td>\n",
              "      <td>Capital Federal</td>\n",
              "      <td>Puerto Madero</td>\n",
              "      <td>Puerto Madero</td>\n",
              "      <td>Venta</td>\n",
              "      <td>...</td>\n",
              "      <td>56.0</td>\n",
              "      <td>520000.0</td>\n",
              "      <td>USD</td>\n",
              "      <td>Excelente Suite en Hotel SLS Puerto Madero | 2...</td>\n",
              "      <td>-0.579557</td>\n",
              "      <td>NaN</td>\n",
              "      <td>-0.816800</td>\n",
              "      <td>NaN</td>\n",
              "      <td>0.922034</td>\n",
              "      <td>4.373784</td>\n",
              "    </tr>\n",
              "    <tr>\n",
              "      <th>460005</th>\n",
              "      <td>U2WS7omU6g9aUPRuyLt+IA==</td>\n",
              "      <td>2021-01-05</td>\n",
              "      <td>2022-06-02</td>\n",
              "      <td>2021-01-05</td>\n",
              "      <td>-34.614730</td>\n",
              "      <td>-58.361755</td>\n",
              "      <td>Capital Federal</td>\n",
              "      <td>Puerto Madero</td>\n",
              "      <td>Puerto Madero</td>\n",
              "      <td>Venta</td>\n",
              "      <td>...</td>\n",
              "      <td>86.0</td>\n",
              "      <td>450000.0</td>\n",
              "      <td>USD</td>\n",
              "      <td>Departamento en venta en el Porteño Building</td>\n",
              "      <td>-0.579557</td>\n",
              "      <td>NaN</td>\n",
              "      <td>-0.816800</td>\n",
              "      <td>NaN</td>\n",
              "      <td>0.702324</td>\n",
              "      <td>3.559732</td>\n",
              "    </tr>\n",
              "    <tr>\n",
              "      <th>460025</th>\n",
              "      <td>tmi3A6iVby0lFyguSK1CUw==</td>\n",
              "      <td>2021-01-05</td>\n",
              "      <td>2021-05-03</td>\n",
              "      <td>2021-01-05</td>\n",
              "      <td>-34.578613</td>\n",
              "      <td>-58.482961</td>\n",
              "      <td>Capital Federal</td>\n",
              "      <td>Villa Urquiza</td>\n",
              "      <td>Villa Urquiza</td>\n",
              "      <td>Venta</td>\n",
              "      <td>...</td>\n",
              "      <td>120.0</td>\n",
              "      <td>470000.0</td>\n",
              "      <td>USD</td>\n",
              "      <td>Departamento - Villa Urquiza</td>\n",
              "      <td>0.813550</td>\n",
              "      <td>NaN</td>\n",
              "      <td>0.973010</td>\n",
              "      <td>NaN</td>\n",
              "      <td>0.765099</td>\n",
              "      <td>3.792318</td>\n",
              "    </tr>\n",
              "  </tbody>\n",
              "</table>\n",
              "<p>8631 rows × 24 columns</p>\n",
              "</div>\n",
              "      <button class=\"colab-df-convert\" onclick=\"convertToInteractive('df-562ba60b-435b-44af-9f5f-64d143c095c0')\"\n",
              "              title=\"Convert this dataframe to an interactive table.\"\n",
              "              style=\"display:none;\">\n",
              "        \n",
              "  <svg xmlns=\"http://www.w3.org/2000/svg\" height=\"24px\"viewBox=\"0 0 24 24\"\n",
              "       width=\"24px\">\n",
              "    <path d=\"M0 0h24v24H0V0z\" fill=\"none\"/>\n",
              "    <path d=\"M18.56 5.44l.94 2.06.94-2.06 2.06-.94-2.06-.94-.94-2.06-.94 2.06-2.06.94zm-11 1L8.5 8.5l.94-2.06 2.06-.94-2.06-.94L8.5 2.5l-.94 2.06-2.06.94zm10 10l.94 2.06.94-2.06 2.06-.94-2.06-.94-.94-2.06-.94 2.06-2.06.94z\"/><path d=\"M17.41 7.96l-1.37-1.37c-.4-.4-.92-.59-1.43-.59-.52 0-1.04.2-1.43.59L10.3 9.45l-7.72 7.72c-.78.78-.78 2.05 0 2.83L4 21.41c.39.39.9.59 1.41.59.51 0 1.02-.2 1.41-.59l7.78-7.78 2.81-2.81c.8-.78.8-2.07 0-2.86zM5.41 20L4 18.59l7.72-7.72 1.47 1.35L5.41 20z\"/>\n",
              "  </svg>\n",
              "      </button>\n",
              "      \n",
              "  <style>\n",
              "    .colab-df-container {\n",
              "      display:flex;\n",
              "      flex-wrap:wrap;\n",
              "      gap: 12px;\n",
              "    }\n",
              "\n",
              "    .colab-df-convert {\n",
              "      background-color: #E8F0FE;\n",
              "      border: none;\n",
              "      border-radius: 50%;\n",
              "      cursor: pointer;\n",
              "      display: none;\n",
              "      fill: #1967D2;\n",
              "      height: 32px;\n",
              "      padding: 0 0 0 0;\n",
              "      width: 32px;\n",
              "    }\n",
              "\n",
              "    .colab-df-convert:hover {\n",
              "      background-color: #E2EBFA;\n",
              "      box-shadow: 0px 1px 2px rgba(60, 64, 67, 0.3), 0px 1px 3px 1px rgba(60, 64, 67, 0.15);\n",
              "      fill: #174EA6;\n",
              "    }\n",
              "\n",
              "    [theme=dark] .colab-df-convert {\n",
              "      background-color: #3B4455;\n",
              "      fill: #D2E3FC;\n",
              "    }\n",
              "\n",
              "    [theme=dark] .colab-df-convert:hover {\n",
              "      background-color: #434B5C;\n",
              "      box-shadow: 0px 1px 3px 1px rgba(0, 0, 0, 0.15);\n",
              "      filter: drop-shadow(0px 1px 2px rgba(0, 0, 0, 0.3));\n",
              "      fill: #FFFFFF;\n",
              "    }\n",
              "  </style>\n",
              "\n",
              "      <script>\n",
              "        const buttonEl =\n",
              "          document.querySelector('#df-562ba60b-435b-44af-9f5f-64d143c095c0 button.colab-df-convert');\n",
              "        buttonEl.style.display =\n",
              "          google.colab.kernel.accessAllowed ? 'block' : 'none';\n",
              "\n",
              "        async function convertToInteractive(key) {\n",
              "          const element = document.querySelector('#df-562ba60b-435b-44af-9f5f-64d143c095c0');\n",
              "          const dataTable =\n",
              "            await google.colab.kernel.invokeFunction('convertToInteractive',\n",
              "                                                     [key], {});\n",
              "          if (!dataTable) return;\n",
              "\n",
              "          const docLinkHtml = 'Like what you see? Visit the ' +\n",
              "            '<a target=\"_blank\" href=https://colab.research.google.com/notebooks/data_table.ipynb>data table notebook</a>'\n",
              "            + ' to learn more about interactive tables.';\n",
              "          element.innerHTML = '';\n",
              "          dataTable['output_type'] = 'display_data';\n",
              "          await google.colab.output.renderOutput(dataTable, element);\n",
              "          const docLink = document.createElement('div');\n",
              "          docLink.innerHTML = docLinkHtml;\n",
              "          element.appendChild(docLink);\n",
              "        }\n",
              "      </script>\n",
              "    </div>\n",
              "  </div>\n",
              "  "
            ]
          },
          "metadata": {},
          "execution_count": 61
        }
      ],
      "source": [
        "df[(df['zm_price']>3.5)]"
      ]
    },
    {
      "cell_type": "code",
      "execution_count": 62,
      "metadata": {
        "colab": {
          "base_uri": "https://localhost:8080/",
          "height": 143
        },
        "id": "CNzDv0sVT6XB",
        "outputId": "17133ca7-de15-4796-f395-98c0189bf2c9"
      },
      "outputs": [
        {
          "output_type": "execute_result",
          "data": {
            "text/plain": [
              "Empty DataFrame\n",
              "Columns: [id, start_date, end_date, created_on, latitud, longitud, place_l2, place_l3, place_l4, operation, property_type, property_rooms, property_bedrooms, property_surface_total, property_surface_covered, property_price, property_currency, property_title, z_rooms, zm_rooms, z_bedrooms, zm_bedrooms, z_price, zm_price]\n",
              "Index: []\n",
              "\n",
              "[0 rows x 24 columns]"
            ],
            "text/html": [
              "\n",
              "  <div id=\"df-3ebc93b2-ff9e-4b06-a428-7889e040a29a\">\n",
              "    <div class=\"colab-df-container\">\n",
              "      <div>\n",
              "<style scoped>\n",
              "    .dataframe tbody tr th:only-of-type {\n",
              "        vertical-align: middle;\n",
              "    }\n",
              "\n",
              "    .dataframe tbody tr th {\n",
              "        vertical-align: top;\n",
              "    }\n",
              "\n",
              "    .dataframe thead th {\n",
              "        text-align: right;\n",
              "    }\n",
              "</style>\n",
              "<table border=\"1\" class=\"dataframe\">\n",
              "  <thead>\n",
              "    <tr style=\"text-align: right;\">\n",
              "      <th></th>\n",
              "      <th>id</th>\n",
              "      <th>start_date</th>\n",
              "      <th>end_date</th>\n",
              "      <th>created_on</th>\n",
              "      <th>latitud</th>\n",
              "      <th>longitud</th>\n",
              "      <th>place_l2</th>\n",
              "      <th>place_l3</th>\n",
              "      <th>place_l4</th>\n",
              "      <th>operation</th>\n",
              "      <th>...</th>\n",
              "      <th>property_surface_covered</th>\n",
              "      <th>property_price</th>\n",
              "      <th>property_currency</th>\n",
              "      <th>property_title</th>\n",
              "      <th>z_rooms</th>\n",
              "      <th>zm_rooms</th>\n",
              "      <th>z_bedrooms</th>\n",
              "      <th>zm_bedrooms</th>\n",
              "      <th>z_price</th>\n",
              "      <th>zm_price</th>\n",
              "    </tr>\n",
              "  </thead>\n",
              "  <tbody>\n",
              "  </tbody>\n",
              "</table>\n",
              "<p>0 rows × 24 columns</p>\n",
              "</div>\n",
              "      <button class=\"colab-df-convert\" onclick=\"convertToInteractive('df-3ebc93b2-ff9e-4b06-a428-7889e040a29a')\"\n",
              "              title=\"Convert this dataframe to an interactive table.\"\n",
              "              style=\"display:none;\">\n",
              "        \n",
              "  <svg xmlns=\"http://www.w3.org/2000/svg\" height=\"24px\"viewBox=\"0 0 24 24\"\n",
              "       width=\"24px\">\n",
              "    <path d=\"M0 0h24v24H0V0z\" fill=\"none\"/>\n",
              "    <path d=\"M18.56 5.44l.94 2.06.94-2.06 2.06-.94-2.06-.94-.94-2.06-.94 2.06-2.06.94zm-11 1L8.5 8.5l.94-2.06 2.06-.94-2.06-.94L8.5 2.5l-.94 2.06-2.06.94zm10 10l.94 2.06.94-2.06 2.06-.94-2.06-.94-.94-2.06-.94 2.06-2.06.94z\"/><path d=\"M17.41 7.96l-1.37-1.37c-.4-.4-.92-.59-1.43-.59-.52 0-1.04.2-1.43.59L10.3 9.45l-7.72 7.72c-.78.78-.78 2.05 0 2.83L4 21.41c.39.39.9.59 1.41.59.51 0 1.02-.2 1.41-.59l7.78-7.78 2.81-2.81c.8-.78.8-2.07 0-2.86zM5.41 20L4 18.59l7.72-7.72 1.47 1.35L5.41 20z\"/>\n",
              "  </svg>\n",
              "      </button>\n",
              "      \n",
              "  <style>\n",
              "    .colab-df-container {\n",
              "      display:flex;\n",
              "      flex-wrap:wrap;\n",
              "      gap: 12px;\n",
              "    }\n",
              "\n",
              "    .colab-df-convert {\n",
              "      background-color: #E8F0FE;\n",
              "      border: none;\n",
              "      border-radius: 50%;\n",
              "      cursor: pointer;\n",
              "      display: none;\n",
              "      fill: #1967D2;\n",
              "      height: 32px;\n",
              "      padding: 0 0 0 0;\n",
              "      width: 32px;\n",
              "    }\n",
              "\n",
              "    .colab-df-convert:hover {\n",
              "      background-color: #E2EBFA;\n",
              "      box-shadow: 0px 1px 2px rgba(60, 64, 67, 0.3), 0px 1px 3px 1px rgba(60, 64, 67, 0.15);\n",
              "      fill: #174EA6;\n",
              "    }\n",
              "\n",
              "    [theme=dark] .colab-df-convert {\n",
              "      background-color: #3B4455;\n",
              "      fill: #D2E3FC;\n",
              "    }\n",
              "\n",
              "    [theme=dark] .colab-df-convert:hover {\n",
              "      background-color: #434B5C;\n",
              "      box-shadow: 0px 1px 3px 1px rgba(0, 0, 0, 0.15);\n",
              "      filter: drop-shadow(0px 1px 2px rgba(0, 0, 0, 0.3));\n",
              "      fill: #FFFFFF;\n",
              "    }\n",
              "  </style>\n",
              "\n",
              "      <script>\n",
              "        const buttonEl =\n",
              "          document.querySelector('#df-3ebc93b2-ff9e-4b06-a428-7889e040a29a button.colab-df-convert');\n",
              "        buttonEl.style.display =\n",
              "          google.colab.kernel.accessAllowed ? 'block' : 'none';\n",
              "\n",
              "        async function convertToInteractive(key) {\n",
              "          const element = document.querySelector('#df-3ebc93b2-ff9e-4b06-a428-7889e040a29a');\n",
              "          const dataTable =\n",
              "            await google.colab.kernel.invokeFunction('convertToInteractive',\n",
              "                                                     [key], {});\n",
              "          if (!dataTable) return;\n",
              "\n",
              "          const docLinkHtml = 'Like what you see? Visit the ' +\n",
              "            '<a target=\"_blank\" href=https://colab.research.google.com/notebooks/data_table.ipynb>data table notebook</a>'\n",
              "            + ' to learn more about interactive tables.';\n",
              "          element.innerHTML = '';\n",
              "          dataTable['output_type'] = 'display_data';\n",
              "          await google.colab.output.renderOutput(dataTable, element);\n",
              "          const docLink = document.createElement('div');\n",
              "          docLink.innerHTML = docLinkHtml;\n",
              "          element.appendChild(docLink);\n",
              "        }\n",
              "      </script>\n",
              "    </div>\n",
              "  </div>\n",
              "  "
            ]
          },
          "metadata": {},
          "execution_count": 62
        }
      ],
      "source": [
        "df[(df['zm_price']<-3.5)]"
      ]
    },
    {
      "cell_type": "code",
      "execution_count": 63,
      "metadata": {
        "colab": {
          "base_uri": "https://localhost:8080/",
          "height": 295
        },
        "id": "U2K-YbBNUCTP",
        "outputId": "f7d1bdea-6a14-46c2-9343-8e193353a49a"
      },
      "outputs": [
        {
          "output_type": "display_data",
          "data": {
            "text/plain": [
              "<Figure size 432x288 with 1 Axes>"
            ],
            "image/png": "[encoded data removed]"
          },
          "metadata": {
            "needs_background": "light"
          }
        }
      ],
      "source": [
        "plt.hist(df.z_price, bins=300, range=(-1,10))\n",
        "plt.title('Histograma Z-Score Modificado Price')\n",
        "plt.xlabel('Z-Score Modificado Price')\n",
        "plt.show()"
      ]
    },
    {
      "cell_type": "markdown",
      "metadata": {
        "id": "9MyvMs8lsYyt"
      },
      "source": [
        "##### Características"
      ]
    },
    {
      "cell_type": "markdown",
      "metadata": {
        "id": "tiLhO3GAsalH"
      },
      "source": [
        "Nuevamente, concluimos que al existir una gran masa conjunta de observaciones atípicas y una singular -también atípica- lejana a la masa en cuestión- podríamos decir que los outliers son del tipo colectivo (para la masa de observaciones cerca del máximo para el tercer cuartil) y global (para la observación singular por encima del resto de las observaciones)."
      ]
    },
    {
      "cell_type": "markdown",
      "source": [
        "### Outliers multivariados\n",
        "\n",
        "---"
      ],
      "metadata": {
        "id": "tWu2rN88m30d"
      }
    },
    {
      "cell_type": "markdown",
      "metadata": {
        "id": "Bh62tMLLpWt0"
      },
      "source": [
        "Para el análisis de outliers de tipo multivariados estaremos utilizando el método de Mahalanobis el cual nos brinda información respecto de la distancia de las observaciones agrupando las similares en clusters, evidenciando así los puntos aislados que pasaremos a considerar como valores atípicos.\n",
        "\n",
        "Por último, podremos destacar cuáles son las características de los valores en cuestión pudiendo clasificar los mismos en: global, contextual y colectivo."
      ]
    },
    {
      "cell_type": "markdown",
      "source": [
        "#### Preparación del dataset para el estudio de Mahalanobis"
      ],
      "metadata": {
        "id": "O6GN0gKdaF7v"
      }
    },
    {
      "cell_type": "markdown",
      "metadata": {
        "id": "cDbKixhpE8IJ"
      },
      "source": [
        "Para la utilización del método, analizamos la presencia de valores `nan` en nuestro dataset y analizamos la posibilidad de descartar los mismos en caso de existir nulos."
      ]
    },
    {
      "cell_type": "code",
      "execution_count": 64,
      "metadata": {
        "colab": {
          "base_uri": "https://localhost:8080/"
        },
        "id": "aAjGYSS2E9W-",
        "outputId": "ec904775-f5ca-48b9-c3e8-e6f3b7500ebd"
      },
      "outputs": [
        {
          "output_type": "execute_result",
          "data": {
            "text/plain": [
              "id                              0\n",
              "start_date                      0\n",
              "end_date                     5041\n",
              "created_on                      0\n",
              "latitud                         0\n",
              "longitud                        0\n",
              "place_l2                        0\n",
              "place_l3                        0\n",
              "place_l4                        0\n",
              "operation                       0\n",
              "property_type                   0\n",
              "property_rooms                432\n",
              "property_bedrooms             433\n",
              "property_surface_total          0\n",
              "property_surface_covered        0\n",
              "property_price                  0\n",
              "property_currency               0\n",
              "property_title                  0\n",
              "z_rooms                       432\n",
              "zm_rooms                    94249\n",
              "z_bedrooms                    433\n",
              "zm_bedrooms                 94249\n",
              "z_price                         0\n",
              "zm_price                        0\n",
              "dtype: int64"
            ]
          },
          "metadata": {},
          "execution_count": 64
        }
      ],
      "source": [
        "mahal = df.copy()\n",
        "mahal.isnull().sum()"
      ]
    },
    {
      "cell_type": "markdown",
      "metadata": {
        "id": "EHRzXV9XFVtK"
      },
      "source": [
        "Procedemos a eliminar los registros en cuestión dado que representan una pequeña porción del dataset y no se verán afectados los resultados."
      ]
    },
    {
      "cell_type": "code",
      "execution_count": 65,
      "metadata": {
        "colab": {
          "base_uri": "https://localhost:8080/"
        },
        "id": "tkxj_hrlFYjO",
        "outputId": "4b29811d-5209-423c-9b1a-b696e9e6da5c"
      },
      "outputs": [
        {
          "output_type": "execute_result",
          "data": {
            "text/plain": [
              "id                              0\n",
              "start_date                      0\n",
              "end_date                     5005\n",
              "created_on                      0\n",
              "latitud                         0\n",
              "longitud                        0\n",
              "place_l2                        0\n",
              "place_l3                        0\n",
              "place_l4                        0\n",
              "operation                       0\n",
              "property_type                   0\n",
              "property_rooms                  0\n",
              "property_bedrooms               0\n",
              "property_surface_total          0\n",
              "property_surface_covered        0\n",
              "property_price                  0\n",
              "property_currency               0\n",
              "property_title                  0\n",
              "z_rooms                         0\n",
              "zm_rooms                    93816\n",
              "z_bedrooms                      0\n",
              "zm_bedrooms                 93816\n",
              "z_price                         0\n",
              "zm_price                        0\n",
              "dtype: int64"
            ]
          },
          "metadata": {},
          "execution_count": 65
        }
      ],
      "source": [
        "mahal.dropna(subset=['property_rooms', 'property_bedrooms'], inplace = True)\n",
        "mahal.isnull().sum()"
      ]
    },
    {
      "cell_type": "markdown",
      "metadata": {
        "id": "FDCcd2n3byyE"
      },
      "source": [
        "#### Property surface total vs Price\n",
        "\n"
      ]
    },
    {
      "cell_type": "markdown",
      "metadata": {
        "id": "uKcUsJkf1n-0"
      },
      "source": [
        "##### Scatter\n"
      ]
    },
    {
      "cell_type": "code",
      "execution_count": 66,
      "metadata": {
        "colab": {
          "base_uri": "https://localhost:8080/",
          "height": 295
        },
        "id": "GkGwfrSSb8l2",
        "outputId": "b2eff381-304e-4a13-83f1-814c847491aa"
      },
      "outputs": [
        {
          "output_type": "display_data",
          "data": {
            "text/plain": [
              "<Figure size 432x288 with 1 Axes>"
            ],
            "image/png": "[encoded data removed]"
          },
          "metadata": {
            "needs_background": "light"
          }
        }
      ],
      "source": [
        "plt.scatter(mahal.property_surface_total,mahal.property_price)\n",
        "plt.title('Surface total vs Price')\n",
        "plt.xlabel('Surface total')\n",
        "plt.ylabel('Price')\n",
        "plt.show()"
      ]
    },
    {
      "cell_type": "markdown",
      "metadata": {
        "id": "8iBqpFym1_Nu"
      },
      "source": [
        "##### Mahalanobis"
      ]
    },
    {
      "cell_type": "code",
      "execution_count": 67,
      "metadata": {
        "colab": {
          "base_uri": "https://localhost:8080/",
          "height": 490
        },
        "id": "JTyhPYlofXyZ",
        "outputId": "2398eb71-c6aa-4431-afbe-e9bd82de2216"
      },
      "outputs": [
        {
          "output_type": "execute_result",
          "data": {
            "text/plain": [
              "                          id start_date   end_date created_on    latitud  \\\n",
              "25  CyZu6IaZgmQYGk8jmPajCg== 2021-09-09 2021-09-26 2021-09-09 -32.966425   \n",
              "42  d3Z0MblSb2IMBoOBMGJEEQ== 2021-09-09 2021-09-26 2021-09-09 -34.637319   \n",
              "43  rL7qPkQnomsMGu2ViS3sBw== 2021-09-09 2021-09-28 2021-09-09 -34.628647   \n",
              "49  vuX/ccLAMVml4qWRFcOJUA== 2021-09-09 2022-01-05 2021-09-09 -34.610027   \n",
              "51  ZTtSCeqZ3HUgf5jjwEzRcw== 2021-09-09 2022-03-09 2021-09-09 -34.631621   \n",
              "\n",
              "     longitud         place_l2         place_l3         place_l4 operation  \\\n",
              "25 -60.857846  Capital Federal  Capital Federal  Capital Federal     Venta   \n",
              "42 -58.361124  Capital Federal             Boca             Boca     Venta   \n",
              "43 -58.361871  Capital Federal             Boca             Boca     Venta   \n",
              "49 -58.401934  Capital Federal             Once             Once     Venta   \n",
              "51 -58.416825  Capital Federal            Boedo            Boedo     Venta   \n",
              "\n",
              "    ... property_price  property_currency  \\\n",
              "25  ...       210000.0                USD   \n",
              "42  ...        82900.0                USD   \n",
              "43  ...        99000.0                USD   \n",
              "49  ...       146000.0                USD   \n",
              "51  ...       250000.0                USD   \n",
              "\n",
              "                                 property_title   z_rooms  zm_rooms  \\\n",
              "25  VENTA CASA LLAVE EN MANO - COSTA ESMERALDA   0.813550       NaN   \n",
              "42       VENTA TRES AMBIENTES LA BOCA PISO ALTO  0.116997       NaN   \n",
              "43   Departamento - 4 Ambientes - Catalinas Sur  0.813550       NaN   \n",
              "49          Venta departamento 4 ambientes Once  0.813550       NaN   \n",
              "51                                   PH - Boedo  0.813550       NaN   \n",
              "\n",
              "    z_bedrooms zm_bedrooms   z_price  zm_price  mahal_sfto_prc  \n",
              "25    0.973010         NaN -0.050967  0.768697        0.005260  \n",
              "42    0.078105         NaN -0.449898 -0.709388        0.157132  \n",
              "43    0.973010         NaN -0.399364 -0.522156        0.123476  \n",
              "49    0.078105         NaN -0.251845  0.024422        0.048771  \n",
              "51    0.078105         NaN  0.074581  1.233870        0.006606  \n",
              "\n",
              "[5 rows x 25 columns]"
            ],
            "text/html": [
              "\n",
              "  <div id=\"df-c3fff5f9-569d-4395-a7a6-14d9b105eb30\">\n",
              "    <div class=\"colab-df-container\">\n",
              "      <div>\n",
              "<style scoped>\n",
              "    .dataframe tbody tr th:only-of-type {\n",
              "        vertical-align: middle;\n",
              "    }\n",
              "\n",
              "    .dataframe tbody tr th {\n",
              "        vertical-align: top;\n",
              "    }\n",
              "\n",
              "    .dataframe thead th {\n",
              "        text-align: right;\n",
              "    }\n",
              "</style>\n",
              "<table border=\"1\" class=\"dataframe\">\n",
              "  <thead>\n",
              "    <tr style=\"text-align: right;\">\n",
              "      <th></th>\n",
              "      <th>id</th>\n",
              "      <th>start_date</th>\n",
              "      <th>end_date</th>\n",
              "      <th>created_on</th>\n",
              "      <th>latitud</th>\n",
              "      <th>longitud</th>\n",
              "      <th>place_l2</th>\n",
              "      <th>place_l3</th>\n",
              "      <th>place_l4</th>\n",
              "      <th>operation</th>\n",
              "      <th>...</th>\n",
              "      <th>property_price</th>\n",
              "      <th>property_currency</th>\n",
              "      <th>property_title</th>\n",
              "      <th>z_rooms</th>\n",
              "      <th>zm_rooms</th>\n",
              "      <th>z_bedrooms</th>\n",
              "      <th>zm_bedrooms</th>\n",
              "      <th>z_price</th>\n",
              "      <th>zm_price</th>\n",
              "      <th>mahal_sfto_prc</th>\n",
              "    </tr>\n",
              "  </thead>\n",
              "  <tbody>\n",
              "    <tr>\n",
              "      <th>25</th>\n",
              "      <td>CyZu6IaZgmQYGk8jmPajCg==</td>\n",
              "      <td>2021-09-09</td>\n",
              "      <td>2021-09-26</td>\n",
              "      <td>2021-09-09</td>\n",
              "      <td>-32.966425</td>\n",
              "      <td>-60.857846</td>\n",
              "      <td>Capital Federal</td>\n",
              "      <td>Capital Federal</td>\n",
              "      <td>Capital Federal</td>\n",
              "      <td>Venta</td>\n",
              "      <td>...</td>\n",
              "      <td>210000.0</td>\n",
              "      <td>USD</td>\n",
              "      <td>VENTA CASA LLAVE EN MANO - COSTA ESMERALDA</td>\n",
              "      <td>0.813550</td>\n",
              "      <td>NaN</td>\n",
              "      <td>0.973010</td>\n",
              "      <td>NaN</td>\n",
              "      <td>-0.050967</td>\n",
              "      <td>0.768697</td>\n",
              "      <td>0.005260</td>\n",
              "    </tr>\n",
              "    <tr>\n",
              "      <th>42</th>\n",
              "      <td>d3Z0MblSb2IMBoOBMGJEEQ==</td>\n",
              "      <td>2021-09-09</td>\n",
              "      <td>2021-09-26</td>\n",
              "      <td>2021-09-09</td>\n",
              "      <td>-34.637319</td>\n",
              "      <td>-58.361124</td>\n",
              "      <td>Capital Federal</td>\n",
              "      <td>Boca</td>\n",
              "      <td>Boca</td>\n",
              "      <td>Venta</td>\n",
              "      <td>...</td>\n",
              "      <td>82900.0</td>\n",
              "      <td>USD</td>\n",
              "      <td>VENTA TRES AMBIENTES LA BOCA PISO ALTO</td>\n",
              "      <td>0.116997</td>\n",
              "      <td>NaN</td>\n",
              "      <td>0.078105</td>\n",
              "      <td>NaN</td>\n",
              "      <td>-0.449898</td>\n",
              "      <td>-0.709388</td>\n",
              "      <td>0.157132</td>\n",
              "    </tr>\n",
              "    <tr>\n",
              "      <th>43</th>\n",
              "      <td>rL7qPkQnomsMGu2ViS3sBw==</td>\n",
              "      <td>2021-09-09</td>\n",
              "      <td>2021-09-28</td>\n",
              "      <td>2021-09-09</td>\n",
              "      <td>-34.628647</td>\n",
              "      <td>-58.361871</td>\n",
              "      <td>Capital Federal</td>\n",
              "      <td>Boca</td>\n",
              "      <td>Boca</td>\n",
              "      <td>Venta</td>\n",
              "      <td>...</td>\n",
              "      <td>99000.0</td>\n",
              "      <td>USD</td>\n",
              "      <td>Departamento - 4 Ambientes - Catalinas Sur</td>\n",
              "      <td>0.813550</td>\n",
              "      <td>NaN</td>\n",
              "      <td>0.973010</td>\n",
              "      <td>NaN</td>\n",
              "      <td>-0.399364</td>\n",
              "      <td>-0.522156</td>\n",
              "      <td>0.123476</td>\n",
              "    </tr>\n",
              "    <tr>\n",
              "      <th>49</th>\n",
              "      <td>vuX/ccLAMVml4qWRFcOJUA==</td>\n",
              "      <td>2021-09-09</td>\n",
              "      <td>2022-01-05</td>\n",
              "      <td>2021-09-09</td>\n",
              "      <td>-34.610027</td>\n",
              "      <td>-58.401934</td>\n",
              "      <td>Capital Federal</td>\n",
              "      <td>Once</td>\n",
              "      <td>Once</td>\n",
              "      <td>Venta</td>\n",
              "      <td>...</td>\n",
              "      <td>146000.0</td>\n",
              "      <td>USD</td>\n",
              "      <td>Venta departamento 4 ambientes Once</td>\n",
              "      <td>0.813550</td>\n",
              "      <td>NaN</td>\n",
              "      <td>0.078105</td>\n",
              "      <td>NaN</td>\n",
              "      <td>-0.251845</td>\n",
              "      <td>0.024422</td>\n",
              "      <td>0.048771</td>\n",
              "    </tr>\n",
              "    <tr>\n",
              "      <th>51</th>\n",
              "      <td>ZTtSCeqZ3HUgf5jjwEzRcw==</td>\n",
              "      <td>2021-09-09</td>\n",
              "      <td>2022-03-09</td>\n",
              "      <td>2021-09-09</td>\n",
              "      <td>-34.631621</td>\n",
              "      <td>-58.416825</td>\n",
              "      <td>Capital Federal</td>\n",
              "      <td>Boedo</td>\n",
              "      <td>Boedo</td>\n",
              "      <td>Venta</td>\n",
              "      <td>...</td>\n",
              "      <td>250000.0</td>\n",
              "      <td>USD</td>\n",
              "      <td>PH - Boedo</td>\n",
              "      <td>0.813550</td>\n",
              "      <td>NaN</td>\n",
              "      <td>0.078105</td>\n",
              "      <td>NaN</td>\n",
              "      <td>0.074581</td>\n",
              "      <td>1.233870</td>\n",
              "      <td>0.006606</td>\n",
              "    </tr>\n",
              "  </tbody>\n",
              "</table>\n",
              "<p>5 rows × 25 columns</p>\n",
              "</div>\n",
              "      <button class=\"colab-df-convert\" onclick=\"convertToInteractive('df-c3fff5f9-569d-4395-a7a6-14d9b105eb30')\"\n",
              "              title=\"Convert this dataframe to an interactive table.\"\n",
              "              style=\"display:none;\">\n",
              "        \n",
              "  <svg xmlns=\"http://www.w3.org/2000/svg\" height=\"24px\"viewBox=\"0 0 24 24\"\n",
              "       width=\"24px\">\n",
              "    <path d=\"M0 0h24v24H0V0z\" fill=\"none\"/>\n",
              "    <path d=\"M18.56 5.44l.94 2.06.94-2.06 2.06-.94-2.06-.94-.94-2.06-.94 2.06-2.06.94zm-11 1L8.5 8.5l.94-2.06 2.06-.94-2.06-.94L8.5 2.5l-.94 2.06-2.06.94zm10 10l.94 2.06.94-2.06 2.06-.94-2.06-.94-.94-2.06-.94 2.06-2.06.94z\"/><path d=\"M17.41 7.96l-1.37-1.37c-.4-.4-.92-.59-1.43-.59-.52 0-1.04.2-1.43.59L10.3 9.45l-7.72 7.72c-.78.78-.78 2.05 0 2.83L4 21.41c.39.39.9.59 1.41.59.51 0 1.02-.2 1.41-.59l7.78-7.78 2.81-2.81c.8-.78.8-2.07 0-2.86zM5.41 20L4 18.59l7.72-7.72 1.47 1.35L5.41 20z\"/>\n",
              "  </svg>\n",
              "      </button>\n",
              "      \n",
              "  <style>\n",
              "    .colab-df-container {\n",
              "      display:flex;\n",
              "      flex-wrap:wrap;\n",
              "      gap: 12px;\n",
              "    }\n",
              "\n",
              "    .colab-df-convert {\n",
              "      background-color: #E8F0FE;\n",
              "      border: none;\n",
              "      border-radius: 50%;\n",
              "      cursor: pointer;\n",
              "      display: none;\n",
              "      fill: #1967D2;\n",
              "      height: 32px;\n",
              "      padding: 0 0 0 0;\n",
              "      width: 32px;\n",
              "    }\n",
              "\n",
              "    .colab-df-convert:hover {\n",
              "      background-color: #E2EBFA;\n",
              "      box-shadow: 0px 1px 2px rgba(60, 64, 67, 0.3), 0px 1px 3px 1px rgba(60, 64, 67, 0.15);\n",
              "      fill: #174EA6;\n",
              "    }\n",
              "\n",
              "    [theme=dark] .colab-df-convert {\n",
              "      background-color: #3B4455;\n",
              "      fill: #D2E3FC;\n",
              "    }\n",
              "\n",
              "    [theme=dark] .colab-df-convert:hover {\n",
              "      background-color: #434B5C;\n",
              "      box-shadow: 0px 1px 3px 1px rgba(0, 0, 0, 0.15);\n",
              "      filter: drop-shadow(0px 1px 2px rgba(0, 0, 0, 0.3));\n",
              "      fill: #FFFFFF;\n",
              "    }\n",
              "  </style>\n",
              "\n",
              "      <script>\n",
              "        const buttonEl =\n",
              "          document.querySelector('#df-c3fff5f9-569d-4395-a7a6-14d9b105eb30 button.colab-df-convert');\n",
              "        buttonEl.style.display =\n",
              "          google.colab.kernel.accessAllowed ? 'block' : 'none';\n",
              "\n",
              "        async function convertToInteractive(key) {\n",
              "          const element = document.querySelector('#df-c3fff5f9-569d-4395-a7a6-14d9b105eb30');\n",
              "          const dataTable =\n",
              "            await google.colab.kernel.invokeFunction('convertToInteractive',\n",
              "                                                     [key], {});\n",
              "          if (!dataTable) return;\n",
              "\n",
              "          const docLinkHtml = 'Like what you see? Visit the ' +\n",
              "            '<a target=\"_blank\" href=https://colab.research.google.com/notebooks/data_table.ipynb>data table notebook</a>'\n",
              "            + ' to learn more about interactive tables.';\n",
              "          element.innerHTML = '';\n",
              "          dataTable['output_type'] = 'display_data';\n",
              "          await google.colab.output.renderOutput(dataTable, element);\n",
              "          const docLink = document.createElement('div');\n",
              "          docLink.innerHTML = docLinkHtml;\n",
              "          element.appendChild(docLink);\n",
              "        }\n",
              "      </script>\n",
              "    </div>\n",
              "  </div>\n",
              "  "
            ]
          },
          "metadata": {},
          "execution_count": 67
        }
      ],
      "source": [
        "X = mahal[['property_surface_total','property_price']] # Tomamos las columnas a comparar\n",
        "sample_X = X.sample(frac=0.1) # Retorna una muestra de los datos\n",
        "\n",
        "mu = sample_X.mean() # Calculamos la media\n",
        "X_diff = X - mu\n",
        "X_diff = X_diff.values.T\n",
        "\n",
        "cov = np.cov(sample_X.values.T) # Calculamos la matriz de covarianza\n",
        "inv_cov = np.linalg.inv(cov) # Le calculamos su inversa\n",
        "W = sc.linalg.sqrtm(inv_cov) # Tomamos raiz cuadrada \n",
        "\n",
        "Wx = np.matmul(W, X_diff) # Hacemos el producto de ambas matrices\n",
        "\n",
        "mahal['mahal_sfto_prc'] = np.array([np.dot(Wx[:, i], Wx[:, i]) for i in range(Wx.shape[1])])\n",
        "\n",
        "mahal.head()"
      ]
    },
    {
      "cell_type": "code",
      "execution_count": 68,
      "metadata": {
        "colab": {
          "base_uri": "https://localhost:8080/"
        },
        "id": "bj6Du93vjjOc",
        "outputId": "9c78a341-06ef-4fdb-9890-6c3e76dc1143"
      },
      "outputs": [
        {
          "output_type": "execute_result",
          "data": {
            "text/plain": [
              "array([2.61527486e-06, 2.61527486e-06, 2.61527486e-06, ...,\n",
              "       9.28910891e+03, 1.40553358e+04, 1.74272423e+04])"
            ]
          },
          "metadata": {},
          "execution_count": 68
        }
      ],
      "source": [
        "np.sort(mahal.mahal_sfto_prc) # Ordenamos distancias calculadas de menor a mayor"
      ]
    },
    {
      "cell_type": "code",
      "execution_count": 69,
      "metadata": {
        "colab": {
          "base_uri": "https://localhost:8080/",
          "height": 296
        },
        "id": "z071CPmkjwqa",
        "outputId": "263b844d-db5a-458a-f88b-b860ca40647b"
      },
      "outputs": [
        {
          "output_type": "display_data",
          "data": {
            "text/plain": [
              "<Figure size 432x288 with 1 Axes>"
            ],
            "image/png": "[encoded data removed]"
          },
          "metadata": {
            "needs_background": "light"
          }
        }
      ],
      "source": [
        "umbral=10000\n",
        "mahal[mahal['mahal_sfto_prc']>umbral] # Observaciones anómalas\n",
        "\n",
        "es_outlier = (mahal['mahal_sfto_prc'] > umbral)\n",
        "\n",
        "sns.scatterplot(x=mahal.property_surface_total,y=mahal.property_price, hue=es_outlier) #Grafico scatter\n",
        "plt.legend(bbox_to_anchor=(1.05, 1), loc='upper left', borderaxespad=0, title=\"Outlier\")\n",
        "plt.title('Dispersograma Price vs Surface total')\n",
        "plt.show()"
      ]
    },
    {
      "cell_type": "markdown",
      "metadata": {
        "id": "p-Zyr5U718aG"
      },
      "source": [
        "##### Caracteristicas"
      ]
    },
    {
      "cell_type": "markdown",
      "metadata": {
        "id": "0ahgztA61x4s"
      },
      "source": [
        "Podemos visualizar que los valores que se encuentran particularmente alejados de la masa de observaciones caben dentro de la clasificación de outliers globales."
      ]
    },
    {
      "cell_type": "markdown",
      "metadata": {
        "id": "jgGd0uFsYYoM"
      },
      "source": [
        "#### Property rooms vs Property bedrooms"
      ]
    },
    {
      "cell_type": "markdown",
      "metadata": {
        "id": "S7fmoqM02VfE"
      },
      "source": [
        "##### Scatter"
      ]
    },
    {
      "cell_type": "code",
      "execution_count": 70,
      "metadata": {
        "colab": {
          "base_uri": "https://localhost:8080/",
          "height": 295
        },
        "id": "vRs4fXeeYjhT",
        "outputId": "62f3a18d-0d58-45b6-95f1-b11390ee7a23"
      },
      "outputs": [
        {
          "output_type": "display_data",
          "data": {
            "text/plain": [
              "<Figure size 432x288 with 1 Axes>"
            ],
            "image/png": "[encoded data removed]"
          },
          "metadata": {
            "needs_background": "light"
          }
        }
      ],
      "source": [
        "plt.scatter(mahal.property_rooms,mahal.property_bedrooms)\n",
        "plt.title('Bedrooms vs Rooms')\n",
        "plt.xlabel('Bedrooms')\n",
        "plt.ylabel('Rooms')\n",
        "plt.show()"
      ]
    },
    {
      "cell_type": "markdown",
      "metadata": {
        "id": "wKLR3uXZ2Xpj"
      },
      "source": [
        "##### Mahalanobis"
      ]
    },
    {
      "cell_type": "code",
      "execution_count": 71,
      "metadata": {
        "colab": {
          "base_uri": "https://localhost:8080/",
          "height": 490
        },
        "id": "yZTjLSXeD9tf",
        "outputId": "223acb68-c760-4df2-f10f-0937476709c0"
      },
      "outputs": [
        {
          "output_type": "execute_result",
          "data": {
            "text/plain": [
              "                          id start_date   end_date created_on    latitud  \\\n",
              "25  CyZu6IaZgmQYGk8jmPajCg== 2021-09-09 2021-09-26 2021-09-09 -32.966425   \n",
              "42  d3Z0MblSb2IMBoOBMGJEEQ== 2021-09-09 2021-09-26 2021-09-09 -34.637319   \n",
              "43  rL7qPkQnomsMGu2ViS3sBw== 2021-09-09 2021-09-28 2021-09-09 -34.628647   \n",
              "49  vuX/ccLAMVml4qWRFcOJUA== 2021-09-09 2022-01-05 2021-09-09 -34.610027   \n",
              "51  ZTtSCeqZ3HUgf5jjwEzRcw== 2021-09-09 2022-03-09 2021-09-09 -34.631621   \n",
              "\n",
              "     longitud         place_l2         place_l3         place_l4 operation  \\\n",
              "25 -60.857846  Capital Federal  Capital Federal  Capital Federal     Venta   \n",
              "42 -58.361124  Capital Federal             Boca             Boca     Venta   \n",
              "43 -58.361871  Capital Federal             Boca             Boca     Venta   \n",
              "49 -58.401934  Capital Federal             Once             Once     Venta   \n",
              "51 -58.416825  Capital Federal            Boedo            Boedo     Venta   \n",
              "\n",
              "    ... property_currency                               property_title  \\\n",
              "25  ...               USD  VENTA CASA LLAVE EN MANO - COSTA ESMERALDA    \n",
              "42  ...               USD       VENTA TRES AMBIENTES LA BOCA PISO ALTO   \n",
              "43  ...               USD   Departamento - 4 Ambientes - Catalinas Sur   \n",
              "49  ...               USD          Venta departamento 4 ambientes Once   \n",
              "51  ...               USD                                   PH - Boedo   \n",
              "\n",
              "     z_rooms  zm_rooms  z_bedrooms  zm_bedrooms   z_price  zm_price  \\\n",
              "25  0.813550       NaN    0.973010          NaN -0.050967  0.768697   \n",
              "42  0.116997       NaN    0.078105          NaN -0.449898 -0.709388   \n",
              "43  0.813550       NaN    0.973010          NaN -0.399364 -0.522156   \n",
              "49  0.813550       NaN    0.078105          NaN -0.251845  0.024422   \n",
              "51  0.813550       NaN    0.078105          NaN  0.074581  1.233870   \n",
              "\n",
              "    mahal_sfto_prc  mahal_ro_bdro  \n",
              "25        0.005260       1.063182  \n",
              "42        0.157132       0.014208  \n",
              "43        0.123476       1.063182  \n",
              "49        0.048771       3.063334  \n",
              "51        0.006606       3.063334  \n",
              "\n",
              "[5 rows x 26 columns]"
            ],
            "text/html": [
              "\n",
              "  <div id=\"df-1a8f5d3c-1e2b-4cf8-a5fb-df929631a0e2\">\n",
              "    <div class=\"colab-df-container\">\n",
              "      <div>\n",
              "<style scoped>\n",
              "    .dataframe tbody tr th:only-of-type {\n",
              "        vertical-align: middle;\n",
              "    }\n",
              "\n",
              "    .dataframe tbody tr th {\n",
              "        vertical-align: top;\n",
              "    }\n",
              "\n",
              "    .dataframe thead th {\n",
              "        text-align: right;\n",
              "    }\n",
              "</style>\n",
              "<table border=\"1\" class=\"dataframe\">\n",
              "  <thead>\n",
              "    <tr style=\"text-align: right;\">\n",
              "      <th></th>\n",
              "      <th>id</th>\n",
              "      <th>start_date</th>\n",
              "      <th>end_date</th>\n",
              "      <th>created_on</th>\n",
              "      <th>latitud</th>\n",
              "      <th>longitud</th>\n",
              "      <th>place_l2</th>\n",
              "      <th>place_l3</th>\n",
              "      <th>place_l4</th>\n",
              "      <th>operation</th>\n",
              "      <th>...</th>\n",
              "      <th>property_currency</th>\n",
              "      <th>property_title</th>\n",
              "      <th>z_rooms</th>\n",
              "      <th>zm_rooms</th>\n",
              "      <th>z_bedrooms</th>\n",
              "      <th>zm_bedrooms</th>\n",
              "      <th>z_price</th>\n",
              "      <th>zm_price</th>\n",
              "      <th>mahal_sfto_prc</th>\n",
              "      <th>mahal_ro_bdro</th>\n",
              "    </tr>\n",
              "  </thead>\n",
              "  <tbody>\n",
              "    <tr>\n",
              "      <th>25</th>\n",
              "      <td>CyZu6IaZgmQYGk8jmPajCg==</td>\n",
              "      <td>2021-09-09</td>\n",
              "      <td>2021-09-26</td>\n",
              "      <td>2021-09-09</td>\n",
              "      <td>-32.966425</td>\n",
              "      <td>-60.857846</td>\n",
              "      <td>Capital Federal</td>\n",
              "      <td>Capital Federal</td>\n",
              "      <td>Capital Federal</td>\n",
              "      <td>Venta</td>\n",
              "      <td>...</td>\n",
              "      <td>USD</td>\n",
              "      <td>VENTA CASA LLAVE EN MANO - COSTA ESMERALDA</td>\n",
              "      <td>0.813550</td>\n",
              "      <td>NaN</td>\n",
              "      <td>0.973010</td>\n",
              "      <td>NaN</td>\n",
              "      <td>-0.050967</td>\n",
              "      <td>0.768697</td>\n",
              "      <td>0.005260</td>\n",
              "      <td>1.063182</td>\n",
              "    </tr>\n",
              "    <tr>\n",
              "      <th>42</th>\n",
              "      <td>d3Z0MblSb2IMBoOBMGJEEQ==</td>\n",
              "      <td>2021-09-09</td>\n",
              "      <td>2021-09-26</td>\n",
              "      <td>2021-09-09</td>\n",
              "      <td>-34.637319</td>\n",
              "      <td>-58.361124</td>\n",
              "      <td>Capital Federal</td>\n",
              "      <td>Boca</td>\n",
              "      <td>Boca</td>\n",
              "      <td>Venta</td>\n",
              "      <td>...</td>\n",
              "      <td>USD</td>\n",
              "      <td>VENTA TRES AMBIENTES LA BOCA PISO ALTO</td>\n",
              "      <td>0.116997</td>\n",
              "      <td>NaN</td>\n",
              "      <td>0.078105</td>\n",
              "      <td>NaN</td>\n",
              "      <td>-0.449898</td>\n",
              "      <td>-0.709388</td>\n",
              "      <td>0.157132</td>\n",
              "      <td>0.014208</td>\n",
              "    </tr>\n",
              "    <tr>\n",
              "      <th>43</th>\n",
              "      <td>rL7qPkQnomsMGu2ViS3sBw==</td>\n",
              "      <td>2021-09-09</td>\n",
              "      <td>2021-09-28</td>\n",
              "      <td>2021-09-09</td>\n",
              "      <td>-34.628647</td>\n",
              "      <td>-58.361871</td>\n",
              "      <td>Capital Federal</td>\n",
              "      <td>Boca</td>\n",
              "      <td>Boca</td>\n",
              "      <td>Venta</td>\n",
              "      <td>...</td>\n",
              "      <td>USD</td>\n",
              "      <td>Departamento - 4 Ambientes - Catalinas Sur</td>\n",
              "      <td>0.813550</td>\n",
              "      <td>NaN</td>\n",
              "      <td>0.973010</td>\n",
              "      <td>NaN</td>\n",
              "      <td>-0.399364</td>\n",
              "      <td>-0.522156</td>\n",
              "      <td>0.123476</td>\n",
              "      <td>1.063182</td>\n",
              "    </tr>\n",
              "    <tr>\n",
              "      <th>49</th>\n",
              "      <td>vuX/ccLAMVml4qWRFcOJUA==</td>\n",
              "      <td>2021-09-09</td>\n",
              "      <td>2022-01-05</td>\n",
              "      <td>2021-09-09</td>\n",
              "      <td>-34.610027</td>\n",
              "      <td>-58.401934</td>\n",
              "      <td>Capital Federal</td>\n",
              "      <td>Once</td>\n",
              "      <td>Once</td>\n",
              "      <td>Venta</td>\n",
              "      <td>...</td>\n",
              "      <td>USD</td>\n",
              "      <td>Venta departamento 4 ambientes Once</td>\n",
              "      <td>0.813550</td>\n",
              "      <td>NaN</td>\n",
              "      <td>0.078105</td>\n",
              "      <td>NaN</td>\n",
              "      <td>-0.251845</td>\n",
              "      <td>0.024422</td>\n",
              "      <td>0.048771</td>\n",
              "      <td>3.063334</td>\n",
              "    </tr>\n",
              "    <tr>\n",
              "      <th>51</th>\n",
              "      <td>ZTtSCeqZ3HUgf5jjwEzRcw==</td>\n",
              "      <td>2021-09-09</td>\n",
              "      <td>2022-03-09</td>\n",
              "      <td>2021-09-09</td>\n",
              "      <td>-34.631621</td>\n",
              "      <td>-58.416825</td>\n",
              "      <td>Capital Federal</td>\n",
              "      <td>Boedo</td>\n",
              "      <td>Boedo</td>\n",
              "      <td>Venta</td>\n",
              "      <td>...</td>\n",
              "      <td>USD</td>\n",
              "      <td>PH - Boedo</td>\n",
              "      <td>0.813550</td>\n",
              "      <td>NaN</td>\n",
              "      <td>0.078105</td>\n",
              "      <td>NaN</td>\n",
              "      <td>0.074581</td>\n",
              "      <td>1.233870</td>\n",
              "      <td>0.006606</td>\n",
              "      <td>3.063334</td>\n",
              "    </tr>\n",
              "  </tbody>\n",
              "</table>\n",
              "<p>5 rows × 26 columns</p>\n",
              "</div>\n",
              "      <button class=\"colab-df-convert\" onclick=\"convertToInteractive('df-1a8f5d3c-1e2b-4cf8-a5fb-df929631a0e2')\"\n",
              "              title=\"Convert this dataframe to an interactive table.\"\n",
              "              style=\"display:none;\">\n",
              "        \n",
              "  <svg xmlns=\"http://www.w3.org/2000/svg\" height=\"24px\"viewBox=\"0 0 24 24\"\n",
              "       width=\"24px\">\n",
              "    <path d=\"M0 0h24v24H0V0z\" fill=\"none\"/>\n",
              "    <path d=\"M18.56 5.44l.94 2.06.94-2.06 2.06-.94-2.06-.94-.94-2.06-.94 2.06-2.06.94zm-11 1L8.5 8.5l.94-2.06 2.06-.94-2.06-.94L8.5 2.5l-.94 2.06-2.06.94zm10 10l.94 2.06.94-2.06 2.06-.94-2.06-.94-.94-2.06-.94 2.06-2.06.94z\"/><path d=\"M17.41 7.96l-1.37-1.37c-.4-.4-.92-.59-1.43-.59-.52 0-1.04.2-1.43.59L10.3 9.45l-7.72 7.72c-.78.78-.78 2.05 0 2.83L4 21.41c.39.39.9.59 1.41.59.51 0 1.02-.2 1.41-.59l7.78-7.78 2.81-2.81c.8-.78.8-2.07 0-2.86zM5.41 20L4 18.59l7.72-7.72 1.47 1.35L5.41 20z\"/>\n",
              "  </svg>\n",
              "      </button>\n",
              "      \n",
              "  <style>\n",
              "    .colab-df-container {\n",
              "      display:flex;\n",
              "      flex-wrap:wrap;\n",
              "      gap: 12px;\n",
              "    }\n",
              "\n",
              "    .colab-df-convert {\n",
              "      background-color: #E8F0FE;\n",
              "      border: none;\n",
              "      border-radius: 50%;\n",
              "      cursor: pointer;\n",
              "      display: none;\n",
              "      fill: #1967D2;\n",
              "      height: 32px;\n",
              "      padding: 0 0 0 0;\n",
              "      width: 32px;\n",
              "    }\n",
              "\n",
              "    .colab-df-convert:hover {\n",
              "      background-color: #E2EBFA;\n",
              "      box-shadow: 0px 1px 2px rgba(60, 64, 67, 0.3), 0px 1px 3px 1px rgba(60, 64, 67, 0.15);\n",
              "      fill: #174EA6;\n",
              "    }\n",
              "\n",
              "    [theme=dark] .colab-df-convert {\n",
              "      background-color: #3B4455;\n",
              "      fill: #D2E3FC;\n",
              "    }\n",
              "\n",
              "    [theme=dark] .colab-df-convert:hover {\n",
              "      background-color: #434B5C;\n",
              "      box-shadow: 0px 1px 3px 1px rgba(0, 0, 0, 0.15);\n",
              "      filter: drop-shadow(0px 1px 2px rgba(0, 0, 0, 0.3));\n",
              "      fill: #FFFFFF;\n",
              "    }\n",
              "  </style>\n",
              "\n",
              "      <script>\n",
              "        const buttonEl =\n",
              "          document.querySelector('#df-1a8f5d3c-1e2b-4cf8-a5fb-df929631a0e2 button.colab-df-convert');\n",
              "        buttonEl.style.display =\n",
              "          google.colab.kernel.accessAllowed ? 'block' : 'none';\n",
              "\n",
              "        async function convertToInteractive(key) {\n",
              "          const element = document.querySelector('#df-1a8f5d3c-1e2b-4cf8-a5fb-df929631a0e2');\n",
              "          const dataTable =\n",
              "            await google.colab.kernel.invokeFunction('convertToInteractive',\n",
              "                                                     [key], {});\n",
              "          if (!dataTable) return;\n",
              "\n",
              "          const docLinkHtml = 'Like what you see? Visit the ' +\n",
              "            '<a target=\"_blank\" href=https://colab.research.google.com/notebooks/data_table.ipynb>data table notebook</a>'\n",
              "            + ' to learn more about interactive tables.';\n",
              "          element.innerHTML = '';\n",
              "          dataTable['output_type'] = 'display_data';\n",
              "          await google.colab.output.renderOutput(dataTable, element);\n",
              "          const docLink = document.createElement('div');\n",
              "          docLink.innerHTML = docLinkHtml;\n",
              "          element.appendChild(docLink);\n",
              "        }\n",
              "      </script>\n",
              "    </div>\n",
              "  </div>\n",
              "  "
            ]
          },
          "metadata": {},
          "execution_count": 71
        }
      ],
      "source": [
        "X = mahal[['property_rooms','property_bedrooms']] # Tomamos las columnas a comparar\n",
        "sample_X = X.sample(frac=0.1) # Retorna una muestra de los datos\n",
        "\n",
        "mu = sample_X.mean() # Calculamos la media\n",
        "X_diff = X - mu\n",
        "X_diff = X_diff.values.T\n",
        "\n",
        "cov = np.cov(sample_X.values.T) # Calculamos la matriz de covarianza\n",
        "inv_cov = np.linalg.inv(cov) # Le calculamos su inversa\n",
        "W = sc.linalg.sqrtm(inv_cov) # Tomamos raiz cuadrada \n",
        "\n",
        "Wx = np.matmul(W, X_diff) # Hacemos el producto de ambas matrices\n",
        "\n",
        "mahal['mahal_ro_bdro'] = np.array([np.dot(Wx[:, i], Wx[:, i]) for i in range(Wx.shape[1])])\n",
        "\n",
        "mahal.head()"
      ]
    },
    {
      "cell_type": "code",
      "execution_count": 72,
      "metadata": {
        "colab": {
          "base_uri": "https://localhost:8080/"
        },
        "id": "N6aTg3D6Khhh",
        "outputId": "af17fabc-543e-4a45-adde-24d85bf10a48"
      },
      "outputs": [
        {
          "output_type": "execute_result",
          "data": {
            "text/plain": [
              "array([1.42075202e-02, 1.42075202e-02, 1.42075202e-02, ...,\n",
              "       4.32942560e+03, 4.94856825e+03, 2.32967253e+04])"
            ]
          },
          "metadata": {},
          "execution_count": 72
        }
      ],
      "source": [
        "np.sort(mahal.mahal_ro_bdro) # Ordenamos distancias calculadas de menor a mayor"
      ]
    },
    {
      "cell_type": "code",
      "execution_count": 73,
      "metadata": {
        "colab": {
          "base_uri": "https://localhost:8080/",
          "height": 296
        },
        "id": "T_WJdwzRKnkW",
        "outputId": "63a83f76-dabb-4366-d9ed-30063300b428"
      },
      "outputs": [
        {
          "output_type": "display_data",
          "data": {
            "text/plain": [
              "<Figure size 432x288 with 1 Axes>"
            ],
            "image/png": "[encoded data removed]"
          },
          "metadata": {
            "needs_background": "light"
          }
        }
      ],
      "source": [
        "umbral=700\n",
        "mahal[mahal['mahal_ro_bdro']>umbral] # Observaciones anómalas\n",
        "\n",
        "es_outlier = (mahal['mahal_ro_bdro'] > umbral)\n",
        "\n",
        "sns.scatterplot(x=mahal.property_rooms,y=mahal.property_bedrooms, hue=es_outlier) #Grafico scatter\n",
        "plt.legend(bbox_to_anchor=(1.05, 1), loc='upper left', borderaxespad=0, title=\"Outlier\")\n",
        "plt.title('Dispersograma Rooms vs Bedrooms')\n",
        "plt.show()"
      ]
    },
    {
      "cell_type": "markdown",
      "metadata": {
        "id": "9Vad7u9j2jca"
      },
      "source": [
        "##### Caracteristicas"
      ]
    },
    {
      "cell_type": "markdown",
      "metadata": {
        "id": "MkeAQzTb2iU7"
      },
      "source": [
        "Notamos que estamos en presencia de outliers en su mayoría globales, con la particularidad de que tenemos algunos casos de valores atípicos colectivos en las cercanías del rango equivalente a 30 respecto del eje `property_bedrooms`.\n",
        "\n",
        "Adicionalmente, cabe destacar que hay dos valores particularmente alejados. Siguiendo esta línea, llegamos a la conclusión de que estamos en presencia de outliers globales."
      ]
    },
    {
      "cell_type": "markdown",
      "metadata": {
        "id": "_pMvvDQbaYwr"
      },
      "source": [
        "#### Property rooms vs Property surface total"
      ]
    },
    {
      "cell_type": "markdown",
      "metadata": {
        "id": "ji3Gob3l3ilT"
      },
      "source": [
        "##### Scatter\n"
      ]
    },
    {
      "cell_type": "code",
      "execution_count": 74,
      "metadata": {
        "colab": {
          "base_uri": "https://localhost:8080/",
          "height": 295
        },
        "id": "gNJ0QvuNaphw",
        "outputId": "7ecde1fe-bbd8-48db-acca-77ca49aa4590"
      },
      "outputs": [
        {
          "output_type": "display_data",
          "data": {
            "text/plain": [
              "<Figure size 432x288 with 1 Axes>"
            ],
            "image/png": "[encoded data removed]"
          },
          "metadata": {
            "needs_background": "light"
          }
        }
      ],
      "source": [
        "plt.scatter(mahal.property_rooms,mahal.property_surface_total)\n",
        "plt.title('Rooms vs Surface total')\n",
        "plt.xlabel('Rooms')\n",
        "plt.ylabel('Surface total')\n",
        "plt.show()"
      ]
    },
    {
      "cell_type": "markdown",
      "metadata": {
        "id": "3jvVtP2X3lRi"
      },
      "source": [
        "##### Mahalanobis"
      ]
    },
    {
      "cell_type": "markdown",
      "metadata": {
        "id": "CMJ1cRkH3qXa"
      },
      "source": [
        "Para poder determinar concretamente estos valores atipicos, nos ayudamos con el calculo de la distancia de mahalanobis para cada una de las observaciones presentes."
      ]
    },
    {
      "cell_type": "code",
      "execution_count": 75,
      "metadata": {
        "colab": {
          "base_uri": "https://localhost:8080/",
          "height": 490
        },
        "id": "u9pXJ1RrLpyI",
        "outputId": "6014e39d-45ff-4413-f875-aff54970f218"
      },
      "outputs": [
        {
          "output_type": "execute_result",
          "data": {
            "text/plain": [
              "                          id start_date   end_date created_on    latitud  \\\n",
              "25  CyZu6IaZgmQYGk8jmPajCg== 2021-09-09 2021-09-26 2021-09-09 -32.966425   \n",
              "42  d3Z0MblSb2IMBoOBMGJEEQ== 2021-09-09 2021-09-26 2021-09-09 -34.637319   \n",
              "43  rL7qPkQnomsMGu2ViS3sBw== 2021-09-09 2021-09-28 2021-09-09 -34.628647   \n",
              "49  vuX/ccLAMVml4qWRFcOJUA== 2021-09-09 2022-01-05 2021-09-09 -34.610027   \n",
              "51  ZTtSCeqZ3HUgf5jjwEzRcw== 2021-09-09 2022-03-09 2021-09-09 -34.631621   \n",
              "\n",
              "     longitud         place_l2         place_l3         place_l4 operation  \\\n",
              "25 -60.857846  Capital Federal  Capital Federal  Capital Federal     Venta   \n",
              "42 -58.361124  Capital Federal             Boca             Boca     Venta   \n",
              "43 -58.361871  Capital Federal             Boca             Boca     Venta   \n",
              "49 -58.401934  Capital Federal             Once             Once     Venta   \n",
              "51 -58.416825  Capital Federal            Boedo            Boedo     Venta   \n",
              "\n",
              "    ...                               property_title   z_rooms  zm_rooms  \\\n",
              "25  ...  VENTA CASA LLAVE EN MANO - COSTA ESMERALDA   0.813550       NaN   \n",
              "42  ...       VENTA TRES AMBIENTES LA BOCA PISO ALTO  0.116997       NaN   \n",
              "43  ...   Departamento - 4 Ambientes - Catalinas Sur  0.813550       NaN   \n",
              "49  ...          Venta departamento 4 ambientes Once  0.813550       NaN   \n",
              "51  ...                                   PH - Boedo  0.813550       NaN   \n",
              "\n",
              "    z_bedrooms  zm_bedrooms   z_price  zm_price mahal_sfto_prc  mahal_ro_bdro  \\\n",
              "25    0.973010          NaN -0.050967  0.768697       0.005260       1.063182   \n",
              "42    0.078105          NaN -0.449898 -0.709388       0.157132       0.014208   \n",
              "43    0.973010          NaN -0.399364 -0.522156       0.123476       1.063182   \n",
              "49    0.078105          NaN -0.251845  0.024422       0.048771       3.063334   \n",
              "51    0.078105          NaN  0.074581  1.233870       0.006606       3.063334   \n",
              "\n",
              "    mahal_ro_sfto  \n",
              "25       0.681406  \n",
              "42       0.016731  \n",
              "43       0.687329  \n",
              "49       0.684093  \n",
              "51       0.686993  \n",
              "\n",
              "[5 rows x 27 columns]"
            ],
            "text/html": [
              "\n",
              "  <div id=\"df-487067c7-8306-439f-9618-574556e699af\">\n",
              "    <div class=\"colab-df-container\">\n",
              "      <div>\n",
              "<style scoped>\n",
              "    .dataframe tbody tr th:only-of-type {\n",
              "        vertical-align: middle;\n",
              "    }\n",
              "\n",
              "    .dataframe tbody tr th {\n",
              "        vertical-align: top;\n",
              "    }\n",
              "\n",
              "    .dataframe thead th {\n",
              "        text-align: right;\n",
              "    }\n",
              "</style>\n",
              "<table border=\"1\" class=\"dataframe\">\n",
              "  <thead>\n",
              "    <tr style=\"text-align: right;\">\n",
              "      <th></th>\n",
              "      <th>id</th>\n",
              "      <th>start_date</th>\n",
              "      <th>end_date</th>\n",
              "      <th>created_on</th>\n",
              "      <th>latitud</th>\n",
              "      <th>longitud</th>\n",
              "      <th>place_l2</th>\n",
              "      <th>place_l3</th>\n",
              "      <th>place_l4</th>\n",
              "      <th>operation</th>\n",
              "      <th>...</th>\n",
              "      <th>property_title</th>\n",
              "      <th>z_rooms</th>\n",
              "      <th>zm_rooms</th>\n",
              "      <th>z_bedrooms</th>\n",
              "      <th>zm_bedrooms</th>\n",
              "      <th>z_price</th>\n",
              "      <th>zm_price</th>\n",
              "      <th>mahal_sfto_prc</th>\n",
              "      <th>mahal_ro_bdro</th>\n",
              "      <th>mahal_ro_sfto</th>\n",
              "    </tr>\n",
              "  </thead>\n",
              "  <tbody>\n",
              "    <tr>\n",
              "      <th>25</th>\n",
              "      <td>CyZu6IaZgmQYGk8jmPajCg==</td>\n",
              "      <td>2021-09-09</td>\n",
              "      <td>2021-09-26</td>\n",
              "      <td>2021-09-09</td>\n",
              "      <td>-32.966425</td>\n",
              "      <td>-60.857846</td>\n",
              "      <td>Capital Federal</td>\n",
              "      <td>Capital Federal</td>\n",
              "      <td>Capital Federal</td>\n",
              "      <td>Venta</td>\n",
              "      <td>...</td>\n",
              "      <td>VENTA CASA LLAVE EN MANO - COSTA ESMERALDA</td>\n",
              "      <td>0.813550</td>\n",
              "      <td>NaN</td>\n",
              "      <td>0.973010</td>\n",
              "      <td>NaN</td>\n",
              "      <td>-0.050967</td>\n",
              "      <td>0.768697</td>\n",
              "      <td>0.005260</td>\n",
              "      <td>1.063182</td>\n",
              "      <td>0.681406</td>\n",
              "    </tr>\n",
              "    <tr>\n",
              "      <th>42</th>\n",
              "      <td>d3Z0MblSb2IMBoOBMGJEEQ==</td>\n",
              "      <td>2021-09-09</td>\n",
              "      <td>2021-09-26</td>\n",
              "      <td>2021-09-09</td>\n",
              "      <td>-34.637319</td>\n",
              "      <td>-58.361124</td>\n",
              "      <td>Capital Federal</td>\n",
              "      <td>Boca</td>\n",
              "      <td>Boca</td>\n",
              "      <td>Venta</td>\n",
              "      <td>...</td>\n",
              "      <td>VENTA TRES AMBIENTES LA BOCA PISO ALTO</td>\n",
              "      <td>0.116997</td>\n",
              "      <td>NaN</td>\n",
              "      <td>0.078105</td>\n",
              "      <td>NaN</td>\n",
              "      <td>-0.449898</td>\n",
              "      <td>-0.709388</td>\n",
              "      <td>0.157132</td>\n",
              "      <td>0.014208</td>\n",
              "      <td>0.016731</td>\n",
              "    </tr>\n",
              "    <tr>\n",
              "      <th>43</th>\n",
              "      <td>rL7qPkQnomsMGu2ViS3sBw==</td>\n",
              "      <td>2021-09-09</td>\n",
              "      <td>2021-09-28</td>\n",
              "      <td>2021-09-09</td>\n",
              "      <td>-34.628647</td>\n",
              "      <td>-58.361871</td>\n",
              "      <td>Capital Federal</td>\n",
              "      <td>Boca</td>\n",
              "      <td>Boca</td>\n",
              "      <td>Venta</td>\n",
              "      <td>...</td>\n",
              "      <td>Departamento - 4 Ambientes - Catalinas Sur</td>\n",
              "      <td>0.813550</td>\n",
              "      <td>NaN</td>\n",
              "      <td>0.973010</td>\n",
              "      <td>NaN</td>\n",
              "      <td>-0.399364</td>\n",
              "      <td>-0.522156</td>\n",
              "      <td>0.123476</td>\n",
              "      <td>1.063182</td>\n",
              "      <td>0.687329</td>\n",
              "    </tr>\n",
              "    <tr>\n",
              "      <th>49</th>\n",
              "      <td>vuX/ccLAMVml4qWRFcOJUA==</td>\n",
              "      <td>2021-09-09</td>\n",
              "      <td>2022-01-05</td>\n",
              "      <td>2021-09-09</td>\n",
              "      <td>-34.610027</td>\n",
              "      <td>-58.401934</td>\n",
              "      <td>Capital Federal</td>\n",
              "      <td>Once</td>\n",
              "      <td>Once</td>\n",
              "      <td>Venta</td>\n",
              "      <td>...</td>\n",
              "      <td>Venta departamento 4 ambientes Once</td>\n",
              "      <td>0.813550</td>\n",
              "      <td>NaN</td>\n",
              "      <td>0.078105</td>\n",
              "      <td>NaN</td>\n",
              "      <td>-0.251845</td>\n",
              "      <td>0.024422</td>\n",
              "      <td>0.048771</td>\n",
              "      <td>3.063334</td>\n",
              "      <td>0.684093</td>\n",
              "    </tr>\n",
              "    <tr>\n",
              "      <th>51</th>\n",
              "      <td>ZTtSCeqZ3HUgf5jjwEzRcw==</td>\n",
              "      <td>2021-09-09</td>\n",
              "      <td>2022-03-09</td>\n",
              "      <td>2021-09-09</td>\n",
              "      <td>-34.631621</td>\n",
              "      <td>-58.416825</td>\n",
              "      <td>Capital Federal</td>\n",
              "      <td>Boedo</td>\n",
              "      <td>Boedo</td>\n",
              "      <td>Venta</td>\n",
              "      <td>...</td>\n",
              "      <td>PH - Boedo</td>\n",
              "      <td>0.813550</td>\n",
              "      <td>NaN</td>\n",
              "      <td>0.078105</td>\n",
              "      <td>NaN</td>\n",
              "      <td>0.074581</td>\n",
              "      <td>1.233870</td>\n",
              "      <td>0.006606</td>\n",
              "      <td>3.063334</td>\n",
              "      <td>0.686993</td>\n",
              "    </tr>\n",
              "  </tbody>\n",
              "</table>\n",
              "<p>5 rows × 27 columns</p>\n",
              "</div>\n",
              "      <button class=\"colab-df-convert\" onclick=\"convertToInteractive('df-487067c7-8306-439f-9618-574556e699af')\"\n",
              "              title=\"Convert this dataframe to an interactive table.\"\n",
              "              style=\"display:none;\">\n",
              "        \n",
              "  <svg xmlns=\"http://www.w3.org/2000/svg\" height=\"24px\"viewBox=\"0 0 24 24\"\n",
              "       width=\"24px\">\n",
              "    <path d=\"M0 0h24v24H0V0z\" fill=\"none\"/>\n",
              "    <path d=\"M18.56 5.44l.94 2.06.94-2.06 2.06-.94-2.06-.94-.94-2.06-.94 2.06-2.06.94zm-11 1L8.5 8.5l.94-2.06 2.06-.94-2.06-.94L8.5 2.5l-.94 2.06-2.06.94zm10 10l.94 2.06.94-2.06 2.06-.94-2.06-.94-.94-2.06-.94 2.06-2.06.94z\"/><path d=\"M17.41 7.96l-1.37-1.37c-.4-.4-.92-.59-1.43-.59-.52 0-1.04.2-1.43.59L10.3 9.45l-7.72 7.72c-.78.78-.78 2.05 0 2.83L4 21.41c.39.39.9.59 1.41.59.51 0 1.02-.2 1.41-.59l7.78-7.78 2.81-2.81c.8-.78.8-2.07 0-2.86zM5.41 20L4 18.59l7.72-7.72 1.47 1.35L5.41 20z\"/>\n",
              "  </svg>\n",
              "      </button>\n",
              "      \n",
              "  <style>\n",
              "    .colab-df-container {\n",
              "      display:flex;\n",
              "      flex-wrap:wrap;\n",
              "      gap: 12px;\n",
              "    }\n",
              "\n",
              "    .colab-df-convert {\n",
              "      background-color: #E8F0FE;\n",
              "      border: none;\n",
              "      border-radius: 50%;\n",
              "      cursor: pointer;\n",
              "      display: none;\n",
              "      fill: #1967D2;\n",
              "      height: 32px;\n",
              "      padding: 0 0 0 0;\n",
              "      width: 32px;\n",
              "    }\n",
              "\n",
              "    .colab-df-convert:hover {\n",
              "      background-color: #E2EBFA;\n",
              "      box-shadow: 0px 1px 2px rgba(60, 64, 67, 0.3), 0px 1px 3px 1px rgba(60, 64, 67, 0.15);\n",
              "      fill: #174EA6;\n",
              "    }\n",
              "\n",
              "    [theme=dark] .colab-df-convert {\n",
              "      background-color: #3B4455;\n",
              "      fill: #D2E3FC;\n",
              "    }\n",
              "\n",
              "    [theme=dark] .colab-df-convert:hover {\n",
              "      background-color: #434B5C;\n",
              "      box-shadow: 0px 1px 3px 1px rgba(0, 0, 0, 0.15);\n",
              "      filter: drop-shadow(0px 1px 2px rgba(0, 0, 0, 0.3));\n",
              "      fill: #FFFFFF;\n",
              "    }\n",
              "  </style>\n",
              "\n",
              "      <script>\n",
              "        const buttonEl =\n",
              "          document.querySelector('#df-487067c7-8306-439f-9618-574556e699af button.colab-df-convert');\n",
              "        buttonEl.style.display =\n",
              "          google.colab.kernel.accessAllowed ? 'block' : 'none';\n",
              "\n",
              "        async function convertToInteractive(key) {\n",
              "          const element = document.querySelector('#df-487067c7-8306-439f-9618-574556e699af');\n",
              "          const dataTable =\n",
              "            await google.colab.kernel.invokeFunction('convertToInteractive',\n",
              "                                                     [key], {});\n",
              "          if (!dataTable) return;\n",
              "\n",
              "          const docLinkHtml = 'Like what you see? Visit the ' +\n",
              "            '<a target=\"_blank\" href=https://colab.research.google.com/notebooks/data_table.ipynb>data table notebook</a>'\n",
              "            + ' to learn more about interactive tables.';\n",
              "          element.innerHTML = '';\n",
              "          dataTable['output_type'] = 'display_data';\n",
              "          await google.colab.output.renderOutput(dataTable, element);\n",
              "          const docLink = document.createElement('div');\n",
              "          docLink.innerHTML = docLinkHtml;\n",
              "          element.appendChild(docLink);\n",
              "        }\n",
              "      </script>\n",
              "    </div>\n",
              "  </div>\n",
              "  "
            ]
          },
          "metadata": {},
          "execution_count": 75
        }
      ],
      "source": [
        "X = mahal[['property_rooms','property_surface_total']] # Tomamos las columnas a comparar\n",
        "sample_X = X.sample(frac=0.1) # Retorna una muestra de los datos\n",
        "\n",
        "mu = sample_X.mean() # Calculamos la media\n",
        "X_diff = X - mu\n",
        "X_diff = X_diff.values.T\n",
        "\n",
        "cov = np.cov(sample_X.values.T) # Calculamos la matriz de covarianza\n",
        "inv_cov = np.linalg.inv(cov) # Le calculamos su inversa\n",
        "W = sc.linalg.sqrtm(inv_cov) # Tomamos raiz cuadrada \n",
        "\n",
        "Wx = np.matmul(W, X_diff) # Hacemos el producto de ambas matrices\n",
        "\n",
        "mahal['mahal_ro_sfto'] = np.array([np.dot(Wx[:, i], Wx[:, i]) for i in range(Wx.shape[1])])\n",
        "\n",
        "mahal.head()"
      ]
    },
    {
      "cell_type": "code",
      "execution_count": 76,
      "metadata": {
        "colab": {
          "base_uri": "https://localhost:8080/"
        },
        "id": "Q4YL5w0LL8UE",
        "outputId": "8d4858a1-8a8b-4eaa-f67a-73df5b41ca01"
      },
      "outputs": [
        {
          "output_type": "execute_result",
          "data": {
            "text/plain": [
              "array([1.46184662e-02, 1.46184662e-02, 1.46184662e-02, ...,\n",
              "       5.44005915e+03, 8.22408294e+03, 1.01991739e+04])"
            ]
          },
          "metadata": {},
          "execution_count": 76
        }
      ],
      "source": [
        "np.sort(mahal.mahal_ro_sfto) # Ordenamos distancias calculadas de menor a mayor"
      ]
    },
    {
      "cell_type": "code",
      "execution_count": 77,
      "metadata": {
        "colab": {
          "base_uri": "https://localhost:8080/",
          "height": 296
        },
        "id": "yEGG5CCAMAaP",
        "outputId": "a4fbfdb8-1267-4246-886c-2fc2f864676d"
      },
      "outputs": [
        {
          "output_type": "display_data",
          "data": {
            "text/plain": [
              "<Figure size 432x288 with 1 Axes>"
            ],
            "image/png": "[encoded data removed]"
          },
          "metadata": {
            "needs_background": "light"
          }
        }
      ],
      "source": [
        "umbral=5000\n",
        "mahal[mahal['mahal_ro_sfto']>umbral] # Observaciones anómalas\n",
        "\n",
        "es_outlier = (mahal['mahal_ro_sfto'] > umbral)\n",
        "\n",
        "sns.scatterplot(x=mahal.property_rooms,y=mahal.property_surface_total, hue=es_outlier) #Grafico scatter\n",
        "plt.legend(bbox_to_anchor=(1.05, 1), loc='upper left', borderaxespad=0, title=\"Outlier\")\n",
        "plt.title('Dispersograma Rooms vs Surface Total')\n",
        "plt.show()"
      ]
    },
    {
      "cell_type": "markdown",
      "metadata": {
        "id": "_StTuEOO3sCT"
      },
      "source": [
        "##### Caracteristicas"
      ]
    },
    {
      "cell_type": "markdown",
      "metadata": {
        "id": "7xPLNS4j3xiq"
      },
      "source": [
        "En esta nueva comparación, contamos -una vez más- con la presencia de registros aislados en la parte superior izquierda que podríamos clasificarlos como outliers globales."
      ]
    },
    {
      "cell_type": "markdown",
      "metadata": {
        "id": "P9Xq9piabA6s"
      },
      "source": [
        "#### Property rooms vs Property surface covered"
      ]
    },
    {
      "cell_type": "markdown",
      "metadata": {
        "id": "zkDPFnw64WDQ"
      },
      "source": [
        "##### Scatter"
      ]
    },
    {
      "cell_type": "code",
      "execution_count": 78,
      "metadata": {
        "colab": {
          "base_uri": "https://localhost:8080/",
          "height": 295
        },
        "id": "xxwGCLpAbGfP",
        "outputId": "0825518b-303f-464b-d60f-09b2dbca6e5b"
      },
      "outputs": [
        {
          "output_type": "display_data",
          "data": {
            "text/plain": [
              "<Figure size 432x288 with 1 Axes>"
            ],
            "image/png": "[encoded data removed]"
          },
          "metadata": {
            "needs_background": "light"
          }
        }
      ],
      "source": [
        "plt.scatter(df.property_rooms,df.property_surface_covered)\n",
        "plt.title('Rooms vs Surface covered')\n",
        "plt.xlabel('Rooms')\n",
        "plt.ylabel('Surface covered')\n",
        "plt.show()"
      ]
    },
    {
      "cell_type": "markdown",
      "metadata": {
        "id": "Af-JvZsC4YEX"
      },
      "source": [
        "##### Mahalanobis"
      ]
    },
    {
      "cell_type": "code",
      "execution_count": 79,
      "metadata": {
        "colab": {
          "base_uri": "https://localhost:8080/",
          "height": 386
        },
        "id": "ahiV6hvmNQ57",
        "outputId": "65a5e7ac-178a-44d8-874c-d832da2cb2e6"
      },
      "outputs": [
        {
          "output_type": "execute_result",
          "data": {
            "text/plain": [
              "                          id start_date   end_date created_on    latitud  \\\n",
              "25  CyZu6IaZgmQYGk8jmPajCg== 2021-09-09 2021-09-26 2021-09-09 -32.966425   \n",
              "42  d3Z0MblSb2IMBoOBMGJEEQ== 2021-09-09 2021-09-26 2021-09-09 -34.637319   \n",
              "43  rL7qPkQnomsMGu2ViS3sBw== 2021-09-09 2021-09-28 2021-09-09 -34.628647   \n",
              "49  vuX/ccLAMVml4qWRFcOJUA== 2021-09-09 2022-01-05 2021-09-09 -34.610027   \n",
              "51  ZTtSCeqZ3HUgf5jjwEzRcw== 2021-09-09 2022-03-09 2021-09-09 -34.631621   \n",
              "\n",
              "     longitud         place_l2         place_l3         place_l4 operation  \\\n",
              "25 -60.857846  Capital Federal  Capital Federal  Capital Federal     Venta   \n",
              "42 -58.361124  Capital Federal             Boca             Boca     Venta   \n",
              "43 -58.361871  Capital Federal             Boca             Boca     Venta   \n",
              "49 -58.401934  Capital Federal             Once             Once     Venta   \n",
              "51 -58.416825  Capital Federal            Boedo            Boedo     Venta   \n",
              "\n",
              "    ...   z_rooms  zm_rooms  z_bedrooms  zm_bedrooms   z_price  zm_price  \\\n",
              "25  ...  0.813550       NaN    0.973010          NaN -0.050967  0.768697   \n",
              "42  ...  0.116997       NaN    0.078105          NaN -0.449898 -0.709388   \n",
              "43  ...  0.813550       NaN    0.973010          NaN -0.399364 -0.522156   \n",
              "49  ...  0.813550       NaN    0.078105          NaN -0.251845  0.024422   \n",
              "51  ...  0.813550       NaN    0.078105          NaN  0.074581  1.233870   \n",
              "\n",
              "   mahal_sfto_prc mahal_ro_bdro  mahal_ro_sfto  mahal_ro_sfcv  \n",
              "25       0.005260      1.063182       0.681406       0.673421  \n",
              "42       0.157132      0.014208       0.016731       0.144764  \n",
              "43       0.123476      1.063182       0.687329       1.045785  \n",
              "49       0.048771      3.063334       0.684093       0.712687  \n",
              "51       0.006606      3.063334       0.686993       1.003930  \n",
              "\n",
              "[5 rows x 28 columns]"
            ],
            "text/html": [
              "\n",
              "  <div id=\"df-eb2e2af1-30f1-469c-8010-a169a9d05aea\">\n",
              "    <div class=\"colab-df-container\">\n",
              "      <div>\n",
              "<style scoped>\n",
              "    .dataframe tbody tr th:only-of-type {\n",
              "        vertical-align: middle;\n",
              "    }\n",
              "\n",
              "    .dataframe tbody tr th {\n",
              "        vertical-align: top;\n",
              "    }\n",
              "\n",
              "    .dataframe thead th {\n",
              "        text-align: right;\n",
              "    }\n",
              "</style>\n",
              "<table border=\"1\" class=\"dataframe\">\n",
              "  <thead>\n",
              "    <tr style=\"text-align: right;\">\n",
              "      <th></th>\n",
              "      <th>id</th>\n",
              "      <th>start_date</th>\n",
              "      <th>end_date</th>\n",
              "      <th>created_on</th>\n",
              "      <th>latitud</th>\n",
              "      <th>longitud</th>\n",
              "      <th>place_l2</th>\n",
              "      <th>place_l3</th>\n",
              "      <th>place_l4</th>\n",
              "      <th>operation</th>\n",
              "      <th>...</th>\n",
              "      <th>z_rooms</th>\n",
              "      <th>zm_rooms</th>\n",
              "      <th>z_bedrooms</th>\n",
              "      <th>zm_bedrooms</th>\n",
              "      <th>z_price</th>\n",
              "      <th>zm_price</th>\n",
              "      <th>mahal_sfto_prc</th>\n",
              "      <th>mahal_ro_bdro</th>\n",
              "      <th>mahal_ro_sfto</th>\n",
              "      <th>mahal_ro_sfcv</th>\n",
              "    </tr>\n",
              "  </thead>\n",
              "  <tbody>\n",
              "    <tr>\n",
              "      <th>25</th>\n",
              "      <td>CyZu6IaZgmQYGk8jmPajCg==</td>\n",
              "      <td>2021-09-09</td>\n",
              "      <td>2021-09-26</td>\n",
              "      <td>2021-09-09</td>\n",
              "      <td>-32.966425</td>\n",
              "      <td>-60.857846</td>\n",
              "      <td>Capital Federal</td>\n",
              "      <td>Capital Federal</td>\n",
              "      <td>Capital Federal</td>\n",
              "      <td>Venta</td>\n",
              "      <td>...</td>\n",
              "      <td>0.813550</td>\n",
              "      <td>NaN</td>\n",
              "      <td>0.973010</td>\n",
              "      <td>NaN</td>\n",
              "      <td>-0.050967</td>\n",
              "      <td>0.768697</td>\n",
              "      <td>0.005260</td>\n",
              "      <td>1.063182</td>\n",
              "      <td>0.681406</td>\n",
              "      <td>0.673421</td>\n",
              "    </tr>\n",
              "    <tr>\n",
              "      <th>42</th>\n",
              "      <td>d3Z0MblSb2IMBoOBMGJEEQ==</td>\n",
              "      <td>2021-09-09</td>\n",
              "      <td>2021-09-26</td>\n",
              "      <td>2021-09-09</td>\n",
              "      <td>-34.637319</td>\n",
              "      <td>-58.361124</td>\n",
              "      <td>Capital Federal</td>\n",
              "      <td>Boca</td>\n",
              "      <td>Boca</td>\n",
              "      <td>Venta</td>\n",
              "      <td>...</td>\n",
              "      <td>0.116997</td>\n",
              "      <td>NaN</td>\n",
              "      <td>0.078105</td>\n",
              "      <td>NaN</td>\n",
              "      <td>-0.449898</td>\n",
              "      <td>-0.709388</td>\n",
              "      <td>0.157132</td>\n",
              "      <td>0.014208</td>\n",
              "      <td>0.016731</td>\n",
              "      <td>0.144764</td>\n",
              "    </tr>\n",
              "    <tr>\n",
              "      <th>43</th>\n",
              "      <td>rL7qPkQnomsMGu2ViS3sBw==</td>\n",
              "      <td>2021-09-09</td>\n",
              "      <td>2021-09-28</td>\n",
              "      <td>2021-09-09</td>\n",
              "      <td>-34.628647</td>\n",
              "      <td>-58.361871</td>\n",
              "      <td>Capital Federal</td>\n",
              "      <td>Boca</td>\n",
              "      <td>Boca</td>\n",
              "      <td>Venta</td>\n",
              "      <td>...</td>\n",
              "      <td>0.813550</td>\n",
              "      <td>NaN</td>\n",
              "      <td>0.973010</td>\n",
              "      <td>NaN</td>\n",
              "      <td>-0.399364</td>\n",
              "      <td>-0.522156</td>\n",
              "      <td>0.123476</td>\n",
              "      <td>1.063182</td>\n",
              "      <td>0.687329</td>\n",
              "      <td>1.045785</td>\n",
              "    </tr>\n",
              "    <tr>\n",
              "      <th>49</th>\n",
              "      <td>vuX/ccLAMVml4qWRFcOJUA==</td>\n",
              "      <td>2021-09-09</td>\n",
              "      <td>2022-01-05</td>\n",
              "      <td>2021-09-09</td>\n",
              "      <td>-34.610027</td>\n",
              "      <td>-58.401934</td>\n",
              "      <td>Capital Federal</td>\n",
              "      <td>Once</td>\n",
              "      <td>Once</td>\n",
              "      <td>Venta</td>\n",
              "      <td>...</td>\n",
              "      <td>0.813550</td>\n",
              "      <td>NaN</td>\n",
              "      <td>0.078105</td>\n",
              "      <td>NaN</td>\n",
              "      <td>-0.251845</td>\n",
              "      <td>0.024422</td>\n",
              "      <td>0.048771</td>\n",
              "      <td>3.063334</td>\n",
              "      <td>0.684093</td>\n",
              "      <td>0.712687</td>\n",
              "    </tr>\n",
              "    <tr>\n",
              "      <th>51</th>\n",
              "      <td>ZTtSCeqZ3HUgf5jjwEzRcw==</td>\n",
              "      <td>2021-09-09</td>\n",
              "      <td>2022-03-09</td>\n",
              "      <td>2021-09-09</td>\n",
              "      <td>-34.631621</td>\n",
              "      <td>-58.416825</td>\n",
              "      <td>Capital Federal</td>\n",
              "      <td>Boedo</td>\n",
              "      <td>Boedo</td>\n",
              "      <td>Venta</td>\n",
              "      <td>...</td>\n",
              "      <td>0.813550</td>\n",
              "      <td>NaN</td>\n",
              "      <td>0.078105</td>\n",
              "      <td>NaN</td>\n",
              "      <td>0.074581</td>\n",
              "      <td>1.233870</td>\n",
              "      <td>0.006606</td>\n",
              "      <td>3.063334</td>\n",
              "      <td>0.686993</td>\n",
              "      <td>1.003930</td>\n",
              "    </tr>\n",
              "  </tbody>\n",
              "</table>\n",
              "<p>5 rows × 28 columns</p>\n",
              "</div>\n",
              "      <button class=\"colab-df-convert\" onclick=\"convertToInteractive('df-eb2e2af1-30f1-469c-8010-a169a9d05aea')\"\n",
              "              title=\"Convert this dataframe to an interactive table.\"\n",
              "              style=\"display:none;\">\n",
              "        \n",
              "  <svg xmlns=\"http://www.w3.org/2000/svg\" height=\"24px\"viewBox=\"0 0 24 24\"\n",
              "       width=\"24px\">\n",
              "    <path d=\"M0 0h24v24H0V0z\" fill=\"none\"/>\n",
              "    <path d=\"M18.56 5.44l.94 2.06.94-2.06 2.06-.94-2.06-.94-.94-2.06-.94 2.06-2.06.94zm-11 1L8.5 8.5l.94-2.06 2.06-.94-2.06-.94L8.5 2.5l-.94 2.06-2.06.94zm10 10l.94 2.06.94-2.06 2.06-.94-2.06-.94-.94-2.06-.94 2.06-2.06.94z\"/><path d=\"M17.41 7.96l-1.37-1.37c-.4-.4-.92-.59-1.43-.59-.52 0-1.04.2-1.43.59L10.3 9.45l-7.72 7.72c-.78.78-.78 2.05 0 2.83L4 21.41c.39.39.9.59 1.41.59.51 0 1.02-.2 1.41-.59l7.78-7.78 2.81-2.81c.8-.78.8-2.07 0-2.86zM5.41 20L4 18.59l7.72-7.72 1.47 1.35L5.41 20z\"/>\n",
              "  </svg>\n",
              "      </button>\n",
              "      \n",
              "  <style>\n",
              "    .colab-df-container {\n",
              "      display:flex;\n",
              "      flex-wrap:wrap;\n",
              "      gap: 12px;\n",
              "    }\n",
              "\n",
              "    .colab-df-convert {\n",
              "      background-color: #E8F0FE;\n",
              "      border: none;\n",
              "      border-radius: 50%;\n",
              "      cursor: pointer;\n",
              "      display: none;\n",
              "      fill: #1967D2;\n",
              "      height: 32px;\n",
              "      padding: 0 0 0 0;\n",
              "      width: 32px;\n",
              "    }\n",
              "\n",
              "    .colab-df-convert:hover {\n",
              "      background-color: #E2EBFA;\n",
              "      box-shadow: 0px 1px 2px rgba(60, 64, 67, 0.3), 0px 1px 3px 1px rgba(60, 64, 67, 0.15);\n",
              "      fill: #174EA6;\n",
              "    }\n",
              "\n",
              "    [theme=dark] .colab-df-convert {\n",
              "      background-color: #3B4455;\n",
              "      fill: #D2E3FC;\n",
              "    }\n",
              "\n",
              "    [theme=dark] .colab-df-convert:hover {\n",
              "      background-color: #434B5C;\n",
              "      box-shadow: 0px 1px 3px 1px rgba(0, 0, 0, 0.15);\n",
              "      filter: drop-shadow(0px 1px 2px rgba(0, 0, 0, 0.3));\n",
              "      fill: #FFFFFF;\n",
              "    }\n",
              "  </style>\n",
              "\n",
              "      <script>\n",
              "        const buttonEl =\n",
              "          document.querySelector('#df-eb2e2af1-30f1-469c-8010-a169a9d05aea button.colab-df-convert');\n",
              "        buttonEl.style.display =\n",
              "          google.colab.kernel.accessAllowed ? 'block' : 'none';\n",
              "\n",
              "        async function convertToInteractive(key) {\n",
              "          const element = document.querySelector('#df-eb2e2af1-30f1-469c-8010-a169a9d05aea');\n",
              "          const dataTable =\n",
              "            await google.colab.kernel.invokeFunction('convertToInteractive',\n",
              "                                                     [key], {});\n",
              "          if (!dataTable) return;\n",
              "\n",
              "          const docLinkHtml = 'Like what you see? Visit the ' +\n",
              "            '<a target=\"_blank\" href=https://colab.research.google.com/notebooks/data_table.ipynb>data table notebook</a>'\n",
              "            + ' to learn more about interactive tables.';\n",
              "          element.innerHTML = '';\n",
              "          dataTable['output_type'] = 'display_data';\n",
              "          await google.colab.output.renderOutput(dataTable, element);\n",
              "          const docLink = document.createElement('div');\n",
              "          docLink.innerHTML = docLinkHtml;\n",
              "          element.appendChild(docLink);\n",
              "        }\n",
              "      </script>\n",
              "    </div>\n",
              "  </div>\n",
              "  "
            ]
          },
          "metadata": {},
          "execution_count": 79
        }
      ],
      "source": [
        "X = mahal[['property_rooms','property_surface_covered']] # Tomamos las columnas a comparar\n",
        "sample_X = X.sample(frac=0.1) # Retorna una muestra de los datos\n",
        "\n",
        "mu = sample_X.mean() # Calculamos la media\n",
        "X_diff = X - mu\n",
        "X_diff = X_diff.values.T\n",
        "\n",
        "cov = np.cov(sample_X.values.T) # Calculamos la matriz de covarianza\n",
        "inv_cov = np.linalg.inv(cov) # Le calculamos su inversa\n",
        "W = sc.linalg.sqrtm(inv_cov) # Tomamos raiz cuadrada \n",
        "\n",
        "Wx = np.matmul(W, X_diff) # Hacemos el producto de ambas matrices\n",
        "\n",
        "mahal['mahal_ro_sfcv'] = np.array([np.dot(Wx[:, i], Wx[:, i]) for i in range(Wx.shape[1])])\n",
        "\n",
        "mahal.head()"
      ]
    },
    {
      "cell_type": "code",
      "execution_count": 80,
      "metadata": {
        "colab": {
          "base_uri": "https://localhost:8080/"
        },
        "id": "MAMvXrd_NYlV",
        "outputId": "bdf1b5d0-d46a-4477-fa42-3bc430b55b39"
      },
      "outputs": [
        {
          "output_type": "execute_result",
          "data": {
            "text/plain": [
              "array([1.47385650e-02, 1.47385650e-02, 1.47385650e-02, ...,\n",
              "       9.20489829e+05, 1.33821604e+06, 2.02345645e+06])"
            ]
          },
          "metadata": {},
          "execution_count": 80
        }
      ],
      "source": [
        "np.sort(mahal.mahal_ro_sfcv) # Ordenamos distancias calculadas de menor a mayor"
      ]
    },
    {
      "cell_type": "code",
      "execution_count": 81,
      "metadata": {
        "colab": {
          "base_uri": "https://localhost:8080/",
          "height": 296
        },
        "id": "UelzDswkNcLw",
        "outputId": "3849baea-b44d-433d-e68f-6b4dae8ad1e5"
      },
      "outputs": [
        {
          "output_type": "display_data",
          "data": {
            "text/plain": [
              "<Figure size 432x288 with 1 Axes>"
            ],
            "image/png": "[encoded data removed]"
          },
          "metadata": {
            "needs_background": "light"
          }
        }
      ],
      "source": [
        "umbral=3000\n",
        "mahal[mahal['mahal_ro_sfcv']>umbral] # Observaciones anómalas\n",
        "\n",
        "es_outlier = (mahal['mahal_ro_sfcv'] > umbral)\n",
        "\n",
        "sns.scatterplot(x=mahal.property_rooms,y=mahal.property_surface_covered, hue=es_outlier) #Grafico scatter\n",
        "plt.legend(bbox_to_anchor=(1.05, 1), loc='upper left', borderaxespad=0, title=\"Outlier\")\n",
        "plt.title('Dispersograma Rooms vs Surface Covered')\n",
        "plt.show()"
      ]
    },
    {
      "cell_type": "markdown",
      "metadata": {
        "id": "reLbiJTs4dmn"
      },
      "source": [
        "##### Caracteristicas"
      ]
    },
    {
      "cell_type": "markdown",
      "metadata": {
        "id": "1hPsFDmd4l5L"
      },
      "source": [
        "Luego de la comparación de surface covered vs property rooms, notamos que nuevamente estamos en presencia de outliers, en particular esta vez todos de carácter global.\n"
      ]
    },
    {
      "cell_type": "markdown",
      "metadata": {
        "id": "IJnCYsswbc7w"
      },
      "source": [
        "#### Property rooms vs Property price"
      ]
    },
    {
      "cell_type": "markdown",
      "metadata": {
        "id": "mFd7sTLU5et1"
      },
      "source": [
        "##### Scatter"
      ]
    },
    {
      "cell_type": "code",
      "execution_count": 82,
      "metadata": {
        "colab": {
          "base_uri": "https://localhost:8080/",
          "height": 295
        },
        "id": "D-3Lhtg4bhuF",
        "outputId": "9073cac9-dbf4-4e8e-f952-fb3d6fa390ef"
      },
      "outputs": [
        {
          "output_type": "display_data",
          "data": {
            "text/plain": [
              "<Figure size 432x288 with 1 Axes>"
            ],
            "image/png": "[encoded data removed]"
          },
          "metadata": {
            "needs_background": "light"
          }
        }
      ],
      "source": [
        "plt.scatter(mahal.property_rooms,mahal.property_price)\n",
        "plt.title('Rooms vs Price')\n",
        "plt.xlabel('Rooms')\n",
        "plt.ylabel('Price')\n",
        "plt.show()"
      ]
    },
    {
      "cell_type": "markdown",
      "metadata": {
        "id": "eNEQTKBa5g-Q"
      },
      "source": [
        "##### Mahalanobis"
      ]
    },
    {
      "cell_type": "code",
      "execution_count": 83,
      "metadata": {
        "colab": {
          "base_uri": "https://localhost:8080/",
          "height": 386
        },
        "id": "xH9rEoPMNyt8",
        "outputId": "e039e20f-76a3-4399-afcb-e9040fdd75c8"
      },
      "outputs": [
        {
          "output_type": "execute_result",
          "data": {
            "text/plain": [
              "                          id start_date   end_date created_on    latitud  \\\n",
              "25  CyZu6IaZgmQYGk8jmPajCg== 2021-09-09 2021-09-26 2021-09-09 -32.966425   \n",
              "42  d3Z0MblSb2IMBoOBMGJEEQ== 2021-09-09 2021-09-26 2021-09-09 -34.637319   \n",
              "43  rL7qPkQnomsMGu2ViS3sBw== 2021-09-09 2021-09-28 2021-09-09 -34.628647   \n",
              "49  vuX/ccLAMVml4qWRFcOJUA== 2021-09-09 2022-01-05 2021-09-09 -34.610027   \n",
              "51  ZTtSCeqZ3HUgf5jjwEzRcw== 2021-09-09 2022-03-09 2021-09-09 -34.631621   \n",
              "\n",
              "     longitud         place_l2         place_l3         place_l4 operation  \\\n",
              "25 -60.857846  Capital Federal  Capital Federal  Capital Federal     Venta   \n",
              "42 -58.361124  Capital Federal             Boca             Boca     Venta   \n",
              "43 -58.361871  Capital Federal             Boca             Boca     Venta   \n",
              "49 -58.401934  Capital Federal             Once             Once     Venta   \n",
              "51 -58.416825  Capital Federal            Boedo            Boedo     Venta   \n",
              "\n",
              "    ... zm_rooms  z_bedrooms  zm_bedrooms   z_price  zm_price  mahal_sfto_prc  \\\n",
              "25  ...      NaN    0.973010          NaN -0.050967  0.768697        0.005260   \n",
              "42  ...      NaN    0.078105          NaN -0.449898 -0.709388        0.157132   \n",
              "43  ...      NaN    0.973010          NaN -0.399364 -0.522156        0.123476   \n",
              "49  ...      NaN    0.078105          NaN -0.251845  0.024422        0.048771   \n",
              "51  ...      NaN    0.078105          NaN  0.074581  1.233870        0.006606   \n",
              "\n",
              "   mahal_ro_bdro mahal_ro_sfto  mahal_ro_sfcv  mahal_ro_pr  \n",
              "25      1.063182      0.681406       0.673421     0.884653  \n",
              "42      0.014208      0.016731       0.144764     0.378088  \n",
              "43      1.063182      0.687329       1.045785     1.481214  \n",
              "49      3.063334      0.684093       0.712687     1.186803  \n",
              "51      3.063334      0.686993       1.003930     0.753637  \n",
              "\n",
              "[5 rows x 29 columns]"
            ],
            "text/html": [
              "\n",
              "  <div id=\"df-0a2bde37-de2b-46f5-8509-a5f31828d0c8\">\n",
              "    <div class=\"colab-df-container\">\n",
              "      <div>\n",
              "<style scoped>\n",
              "    .dataframe tbody tr th:only-of-type {\n",
              "        vertical-align: middle;\n",
              "    }\n",
              "\n",
              "    .dataframe tbody tr th {\n",
              "        vertical-align: top;\n",
              "    }\n",
              "\n",
              "    .dataframe thead th {\n",
              "        text-align: right;\n",
              "    }\n",
              "</style>\n",
              "<table border=\"1\" class=\"dataframe\">\n",
              "  <thead>\n",
              "    <tr style=\"text-align: right;\">\n",
              "      <th></th>\n",
              "      <th>id</th>\n",
              "      <th>start_date</th>\n",
              "      <th>end_date</th>\n",
              "      <th>created_on</th>\n",
              "      <th>latitud</th>\n",
              "      <th>longitud</th>\n",
              "      <th>place_l2</th>\n",
              "      <th>place_l3</th>\n",
              "      <th>place_l4</th>\n",
              "      <th>operation</th>\n",
              "      <th>...</th>\n",
              "      <th>zm_rooms</th>\n",
              "      <th>z_bedrooms</th>\n",
              "      <th>zm_bedrooms</th>\n",
              "      <th>z_price</th>\n",
              "      <th>zm_price</th>\n",
              "      <th>mahal_sfto_prc</th>\n",
              "      <th>mahal_ro_bdro</th>\n",
              "      <th>mahal_ro_sfto</th>\n",
              "      <th>mahal_ro_sfcv</th>\n",
              "      <th>mahal_ro_pr</th>\n",
              "    </tr>\n",
              "  </thead>\n",
              "  <tbody>\n",
              "    <tr>\n",
              "      <th>25</th>\n",
              "      <td>CyZu6IaZgmQYGk8jmPajCg==</td>\n",
              "      <td>2021-09-09</td>\n",
              "      <td>2021-09-26</td>\n",
              "      <td>2021-09-09</td>\n",
              "      <td>-32.966425</td>\n",
              "      <td>-60.857846</td>\n",
              "      <td>Capital Federal</td>\n",
              "      <td>Capital Federal</td>\n",
              "      <td>Capital Federal</td>\n",
              "      <td>Venta</td>\n",
              "      <td>...</td>\n",
              "      <td>NaN</td>\n",
              "      <td>0.973010</td>\n",
              "      <td>NaN</td>\n",
              "      <td>-0.050967</td>\n",
              "      <td>0.768697</td>\n",
              "      <td>0.005260</td>\n",
              "      <td>1.063182</td>\n",
              "      <td>0.681406</td>\n",
              "      <td>0.673421</td>\n",
              "      <td>0.884653</td>\n",
              "    </tr>\n",
              "    <tr>\n",
              "      <th>42</th>\n",
              "      <td>d3Z0MblSb2IMBoOBMGJEEQ==</td>\n",
              "      <td>2021-09-09</td>\n",
              "      <td>2021-09-26</td>\n",
              "      <td>2021-09-09</td>\n",
              "      <td>-34.637319</td>\n",
              "      <td>-58.361124</td>\n",
              "      <td>Capital Federal</td>\n",
              "      <td>Boca</td>\n",
              "      <td>Boca</td>\n",
              "      <td>Venta</td>\n",
              "      <td>...</td>\n",
              "      <td>NaN</td>\n",
              "      <td>0.078105</td>\n",
              "      <td>NaN</td>\n",
              "      <td>-0.449898</td>\n",
              "      <td>-0.709388</td>\n",
              "      <td>0.157132</td>\n",
              "      <td>0.014208</td>\n",
              "      <td>0.016731</td>\n",
              "      <td>0.144764</td>\n",
              "      <td>0.378088</td>\n",
              "    </tr>\n",
              "    <tr>\n",
              "      <th>43</th>\n",
              "      <td>rL7qPkQnomsMGu2ViS3sBw==</td>\n",
              "      <td>2021-09-09</td>\n",
              "      <td>2021-09-28</td>\n",
              "      <td>2021-09-09</td>\n",
              "      <td>-34.628647</td>\n",
              "      <td>-58.361871</td>\n",
              "      <td>Capital Federal</td>\n",
              "      <td>Boca</td>\n",
              "      <td>Boca</td>\n",
              "      <td>Venta</td>\n",
              "      <td>...</td>\n",
              "      <td>NaN</td>\n",
              "      <td>0.973010</td>\n",
              "      <td>NaN</td>\n",
              "      <td>-0.399364</td>\n",
              "      <td>-0.522156</td>\n",
              "      <td>0.123476</td>\n",
              "      <td>1.063182</td>\n",
              "      <td>0.687329</td>\n",
              "      <td>1.045785</td>\n",
              "      <td>1.481214</td>\n",
              "    </tr>\n",
              "    <tr>\n",
              "      <th>49</th>\n",
              "      <td>vuX/ccLAMVml4qWRFcOJUA==</td>\n",
              "      <td>2021-09-09</td>\n",
              "      <td>2022-01-05</td>\n",
              "      <td>2021-09-09</td>\n",
              "      <td>-34.610027</td>\n",
              "      <td>-58.401934</td>\n",
              "      <td>Capital Federal</td>\n",
              "      <td>Once</td>\n",
              "      <td>Once</td>\n",
              "      <td>Venta</td>\n",
              "      <td>...</td>\n",
              "      <td>NaN</td>\n",
              "      <td>0.078105</td>\n",
              "      <td>NaN</td>\n",
              "      <td>-0.251845</td>\n",
              "      <td>0.024422</td>\n",
              "      <td>0.048771</td>\n",
              "      <td>3.063334</td>\n",
              "      <td>0.684093</td>\n",
              "      <td>0.712687</td>\n",
              "      <td>1.186803</td>\n",
              "    </tr>\n",
              "    <tr>\n",
              "      <th>51</th>\n",
              "      <td>ZTtSCeqZ3HUgf5jjwEzRcw==</td>\n",
              "      <td>2021-09-09</td>\n",
              "      <td>2022-03-09</td>\n",
              "      <td>2021-09-09</td>\n",
              "      <td>-34.631621</td>\n",
              "      <td>-58.416825</td>\n",
              "      <td>Capital Federal</td>\n",
              "      <td>Boedo</td>\n",
              "      <td>Boedo</td>\n",
              "      <td>Venta</td>\n",
              "      <td>...</td>\n",
              "      <td>NaN</td>\n",
              "      <td>0.078105</td>\n",
              "      <td>NaN</td>\n",
              "      <td>0.074581</td>\n",
              "      <td>1.233870</td>\n",
              "      <td>0.006606</td>\n",
              "      <td>3.063334</td>\n",
              "      <td>0.686993</td>\n",
              "      <td>1.003930</td>\n",
              "      <td>0.753637</td>\n",
              "    </tr>\n",
              "  </tbody>\n",
              "</table>\n",
              "<p>5 rows × 29 columns</p>\n",
              "</div>\n",
              "      <button class=\"colab-df-convert\" onclick=\"convertToInteractive('df-0a2bde37-de2b-46f5-8509-a5f31828d0c8')\"\n",
              "              title=\"Convert this dataframe to an interactive table.\"\n",
              "              style=\"display:none;\">\n",
              "        \n",
              "  <svg xmlns=\"http://www.w3.org/2000/svg\" height=\"24px\"viewBox=\"0 0 24 24\"\n",
              "       width=\"24px\">\n",
              "    <path d=\"M0 0h24v24H0V0z\" fill=\"none\"/>\n",
              "    <path d=\"M18.56 5.44l.94 2.06.94-2.06 2.06-.94-2.06-.94-.94-2.06-.94 2.06-2.06.94zm-11 1L8.5 8.5l.94-2.06 2.06-.94-2.06-.94L8.5 2.5l-.94 2.06-2.06.94zm10 10l.94 2.06.94-2.06 2.06-.94-2.06-.94-.94-2.06-.94 2.06-2.06.94z\"/><path d=\"M17.41 7.96l-1.37-1.37c-.4-.4-.92-.59-1.43-.59-.52 0-1.04.2-1.43.59L10.3 9.45l-7.72 7.72c-.78.78-.78 2.05 0 2.83L4 21.41c.39.39.9.59 1.41.59.51 0 1.02-.2 1.41-.59l7.78-7.78 2.81-2.81c.8-.78.8-2.07 0-2.86zM5.41 20L4 18.59l7.72-7.72 1.47 1.35L5.41 20z\"/>\n",
              "  </svg>\n",
              "      </button>\n",
              "      \n",
              "  <style>\n",
              "    .colab-df-container {\n",
              "      display:flex;\n",
              "      flex-wrap:wrap;\n",
              "      gap: 12px;\n",
              "    }\n",
              "\n",
              "    .colab-df-convert {\n",
              "      background-color: #E8F0FE;\n",
              "      border: none;\n",
              "      border-radius: 50%;\n",
              "      cursor: pointer;\n",
              "      display: none;\n",
              "      fill: #1967D2;\n",
              "      height: 32px;\n",
              "      padding: 0 0 0 0;\n",
              "      width: 32px;\n",
              "    }\n",
              "\n",
              "    .colab-df-convert:hover {\n",
              "      background-color: #E2EBFA;\n",
              "      box-shadow: 0px 1px 2px rgba(60, 64, 67, 0.3), 0px 1px 3px 1px rgba(60, 64, 67, 0.15);\n",
              "      fill: #174EA6;\n",
              "    }\n",
              "\n",
              "    [theme=dark] .colab-df-convert {\n",
              "      background-color: #3B4455;\n",
              "      fill: #D2E3FC;\n",
              "    }\n",
              "\n",
              "    [theme=dark] .colab-df-convert:hover {\n",
              "      background-color: #434B5C;\n",
              "      box-shadow: 0px 1px 3px 1px rgba(0, 0, 0, 0.15);\n",
              "      filter: drop-shadow(0px 1px 2px rgba(0, 0, 0, 0.3));\n",
              "      fill: #FFFFFF;\n",
              "    }\n",
              "  </style>\n",
              "\n",
              "      <script>\n",
              "        const buttonEl =\n",
              "          document.querySelector('#df-0a2bde37-de2b-46f5-8509-a5f31828d0c8 button.colab-df-convert');\n",
              "        buttonEl.style.display =\n",
              "          google.colab.kernel.accessAllowed ? 'block' : 'none';\n",
              "\n",
              "        async function convertToInteractive(key) {\n",
              "          const element = document.querySelector('#df-0a2bde37-de2b-46f5-8509-a5f31828d0c8');\n",
              "          const dataTable =\n",
              "            await google.colab.kernel.invokeFunction('convertToInteractive',\n",
              "                                                     [key], {});\n",
              "          if (!dataTable) return;\n",
              "\n",
              "          const docLinkHtml = 'Like what you see? Visit the ' +\n",
              "            '<a target=\"_blank\" href=https://colab.research.google.com/notebooks/data_table.ipynb>data table notebook</a>'\n",
              "            + ' to learn more about interactive tables.';\n",
              "          element.innerHTML = '';\n",
              "          dataTable['output_type'] = 'display_data';\n",
              "          await google.colab.output.renderOutput(dataTable, element);\n",
              "          const docLink = document.createElement('div');\n",
              "          docLink.innerHTML = docLinkHtml;\n",
              "          element.appendChild(docLink);\n",
              "        }\n",
              "      </script>\n",
              "    </div>\n",
              "  </div>\n",
              "  "
            ]
          },
          "metadata": {},
          "execution_count": 83
        }
      ],
      "source": [
        "X = mahal[['property_rooms','property_price']] # Tomamos las columnas a comparar\n",
        "sample_X = X.sample(frac=0.1) # Retorna una muestra de los datos\n",
        "\n",
        "mu = sample_X.mean() # Calculamos la media\n",
        "X_diff = X - mu\n",
        "X_diff = X_diff.values.T\n",
        "\n",
        "cov = np.cov(sample_X.values.T) # Calculamos la matriz de covarianza\n",
        "inv_cov = np.linalg.inv(cov) # Le calculamos su inversa\n",
        "W = sc.linalg.sqrtm(inv_cov) # Tomamos raiz cuadrada \n",
        "\n",
        "Wx = np.matmul(W, X_diff) # Hacemos el producto de ambas matrices\n",
        "\n",
        "mahal['mahal_ro_pr'] = np.array([np.dot(Wx[:, i], Wx[:, i]) for i in range(Wx.shape[1])])\n",
        "\n",
        "mahal.head()"
      ]
    },
    {
      "cell_type": "code",
      "execution_count": 84,
      "metadata": {
        "colab": {
          "base_uri": "https://localhost:8080/"
        },
        "id": "N6ZUZYJuN5Cp",
        "outputId": "d000876c-fb79-4f0a-f0b2-53aad158d0e0"
      },
      "outputs": [
        {
          "output_type": "execute_result",
          "data": {
            "text/plain": [
              "array([1.33149574e-02, 1.33149574e-02, 1.33149574e-02, ...,\n",
              "       1.17787766e+03, 1.85630453e+03, 6.22118105e+03])"
            ]
          },
          "metadata": {},
          "execution_count": 84
        }
      ],
      "source": [
        "np.sort(mahal.mahal_ro_pr) # Ordenamos distancias calculadas de menor a mayor"
      ]
    },
    {
      "cell_type": "code",
      "execution_count": 85,
      "metadata": {
        "colab": {
          "base_uri": "https://localhost:8080/",
          "height": 296
        },
        "id": "sJXBf_FUN8rJ",
        "outputId": "516840ae-b74f-4a6c-8e1f-ea736aac3c3c"
      },
      "outputs": [
        {
          "output_type": "display_data",
          "data": {
            "text/plain": [
              "<Figure size 432x288 with 1 Axes>"
            ],
            "image/png": "[encoded data removed]"
          },
          "metadata": {
            "needs_background": "light"
          }
        }
      ],
      "source": [
        "umbral=700\n",
        "mahal[mahal['mahal_ro_pr']>umbral] # Observaciones anómalas\n",
        "\n",
        "es_outlier = (mahal['mahal_ro_pr'] > umbral)\n",
        "\n",
        "sns.scatterplot(x=mahal.property_rooms,y=mahal.property_price, hue=es_outlier) #Grafico scatter\n",
        "plt.legend(bbox_to_anchor=(1.05, 1), loc='upper left', borderaxespad=0, title=\"Outlier\")\n",
        "plt.title('Dispersograma Rooms vs Price')\n",
        "plt.show()"
      ]
    },
    {
      "cell_type": "markdown",
      "metadata": {
        "id": "Ct6Kn7rx5mQQ"
      },
      "source": [
        "##### Caracteristicas"
      ]
    },
    {
      "cell_type": "markdown",
      "metadata": {
        "id": "SaMjqKhk5pWn"
      },
      "source": [
        "Nuevamente visualizamos outliers globales."
      ]
    },
    {
      "cell_type": "markdown",
      "metadata": {
        "id": "aHfdjOZg7xj8"
      },
      "source": [
        "### Tratamiento"
      ]
    },
    {
      "cell_type": "markdown",
      "metadata": {
        "id": "EqJCNlNL4axE"
      },
      "source": [
        "#  **2. Agrupamiento**"
      ]
    },
    {
      "cell_type": "code",
      "execution_count": 86,
      "metadata": {
        "id": "fXI9omNGesIF"
      },
      "outputs": [],
      "source": [
        "CABA_lat = -34.611817\n",
        "CABA_long = -58.446881\n",
        "\n",
        "df = df.loc[((CABA_lat - 0.5) < df[\"latitud\"]) & (df[\"latitud\"] < (CABA_lat + 0.5))]\n",
        "df = df.loc[((CABA_long - 0.5) < df[\"longitud\"]) & (df[\"longitud\"] < (CABA_long + 0.5))]"
      ]
    },
    {
      "cell_type": "code",
      "execution_count": 87,
      "metadata": {
        "scrolled": false,
        "colab": {
          "base_uri": "https://localhost:8080/",
          "height": 369
        },
        "id": "8fBmheOOesIF",
        "outputId": "c4503553-0473-4620-ef17-3b6b53c9ffcf"
      },
      "outputs": [
        {
          "output_type": "display_data",
          "data": {
            "text/plain": [
              "<Figure size 432x288 with 1 Axes>"
            ],
            "image/png": "[encoded data removed]"
          },
          "metadata": {
            "needs_background": "light"
          }
        },
        {
          "output_type": "execute_result",
          "data": {
            "text/plain": [
              "array([[-58.43835861, -34.57768474],\n",
              "       [-58.49842739, -34.62274404],\n",
              "       [-58.38115782, -34.61559713],\n",
              "       [-58.47253098, -34.56319   ],\n",
              "       [-58.44443939, -34.62196051],\n",
              "       [-58.40742252, -34.59505365]])"
            ]
          },
          "metadata": {},
          "execution_count": 87
        }
      ],
      "source": [
        "from sklearn.cluster import KMeans\n",
        "# import geopandas as gpd\n",
        "# countries = gpd.read_file(gpd.datasets.get_path(\"naturalearth_lowres\"))\n",
        "# countries[countries[\"name\"] == \"Argentina\"].plot(color=\"lightgrey\", figsize=(20,10))\n",
        "\n",
        "x_ejemplo1 = np.column_stack((df.longitud.tolist(), df.latitud.tolist()))\n",
        "# x_ejemplo1 = np.column_stack((properati.longitud.replace(np.nan,0).tolist(), properati.latitud.replace(np.nan,0).tolist()))\n",
        "\n",
        "kmeans = KMeans(n_clusters=6)  #Creamos un objeto de la clase KMeans para realizar el agrupamiento\n",
        "kmeans.fit(x_ejemplo1) #Entrenamos el algoritmo para que aprenda cómo agrupar\n",
        "y_kmeans = kmeans.predict(x_ejemplo1)\n",
        "plt.scatter(x_ejemplo1[:, 0], x_ejemplo1[:, 1], c=y_kmeans, s=10, cmap='viridis')\n",
        "\n",
        "centers = kmeans.cluster_centers_\n",
        "plt.scatter(centers[:, 0], centers[:, 1], c='red', s=50, alpha=0.5,marker='.')\n",
        "plt.show()\n",
        "centers"
      ]
    },
    {
      "cell_type": "code",
      "execution_count": 88,
      "metadata": {
        "colab": {
          "base_uri": "https://localhost:8080/",
          "height": 388
        },
        "id": "SQcssEy8esIF",
        "outputId": "db09e912-2e6d-4c9f-9aaf-0ef4a1e08f5b"
      },
      "outputs": [
        {
          "output_type": "display_data",
          "data": {
            "text/plain": [
              "<Figure size 432x432 with 1 Axes>"
            ],
            "image/png": "[encoded data removed]"
          },
          "metadata": {
            "needs_background": "light"
          }
        }
      ],
      "source": [
        "sse = []\n",
        "list_k = list(range(1, 10))\n",
        "\n",
        "for k in list_k:\n",
        "    km = KMeans(n_clusters=k)\n",
        "    km.fit(x_ejemplo1)\n",
        "    sse.append(km.inertia_)\n",
        "    \n",
        "plt.figure(figsize=(6, 6))\n",
        "plt.plot(list_k, sse, '-o')\n",
        "plt.xlabel(r'Cantidad de clusters')\n",
        "plt.ylabel('SSE')\n",
        "plt.show()"
      ]
    },
    {
      "cell_type": "markdown",
      "metadata": {
        "id": "HOlJzNDc4i3L"
      },
      "source": [
        "#  **3. Clasificación**"
      ]
    },
    {
      "cell_type": "markdown",
      "metadata": {
        "id": "6zkoALij4rrq"
      },
      "source": [
        "#  **4. Regresión**"
      ]
    },
    {
      "cell_type": "markdown",
      "metadata": {
        "id": "UvOkWFJf4u8h"
      },
      "source": [
        "#  **5. Conclusiones**"
      ]
    }
  ],
  "metadata": {
    "colab": {
      "collapsed_sections": [
        "hwR861Zpj4Wx",
        "EJfy4bmhko-0",
        "vw_ttu65v1NY",
        "hRDAhfItwo-E",
        "Gr9usESkxJ6D",
        "4bQXzkhg4ipf",
        "qvKggsaWB3Y9",
        "spbOuJjNlmFq",
        "lbfYKgJs9f1f",
        "DbhApc81_7dM",
        "0q6ERteJjxdz"
      ],
      "provenance": [],
      "toc_visible": true
    },
    "kernelspec": {
      "display_name": "Python 3 (ipykernel)",
      "language": "python",
      "name": "python3"
    },
    "language_info": {
      "codemirror_mode": {
        "name": "ipython",
        "version": 3
      },
      "file_extension": ".py",
      "mimetype": "text/x-python",
      "name": "python",
      "nbconvert_exporter": "python",
      "pygments_lexer": "ipython3",
      "version": "3.10.6"
    }
  },
  "nbformat": 4,
  "nbformat_minor": 0
}