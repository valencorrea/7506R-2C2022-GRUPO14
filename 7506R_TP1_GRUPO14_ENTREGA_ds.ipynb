{
  "cells": [
    {
      "cell_type": "markdown",
      "metadata": {
        "id": "view-in-github",
        "colab_type": "text"
      },
      "source": [
        "<a href=\"https://colab.research.google.com/github/valencorrea/7506R-2C2022-GRUPO14/blob/main/7506R_TP1_GRUPO14_ENTREGA_ds.ipynb\" target=\"_parent\"><img src=\"https://colab.research.google.com/assets/colab-badge.svg\" alt=\"Open In Colab\"/></a>"
      ]
    },
    {
      "cell_type": "markdown",
      "metadata": {
        "id": "IOHMzhsjZRFe"
      },
      "source": [
        "______________________________________\n",
        "# <center>**Trabajo Practico Nº1 para la Materia *Organización de Datos***</center>\n",
        "\n",
        "*Integrantes*: \n",
        "- 103963\tCarolina Di Matteo\tcdimatteo@fi.uba.ar\n",
        "- 101231\tPablo Salvador Dimartino\tpdimartino@fi.uba.ar\n",
        "- 100113\tJuan Sebastian Burgos\tjsburgos@fi.uba.ar\n",
        "- 104415\tValentina Laura Correa\tvcorrea@fi.uba.ar\n",
        "\n",
        "*Grupo*: 14\n",
        "\n",
        "*Repositorio*: [github](https://github.com/valencorrea/7506R-2C2022-GRUPO14)\n",
        "\n",
        "*Curso*: Rodriguez\n",
        "\n",
        "*Cuatrimestre*: 2c2022\n",
        "______________________________________\n",
        "\n"
      ]
    },
    {
      "cell_type": "markdown",
      "metadata": {
        "id": "112riqhc5x7T"
      },
      "source": [
        "**Set Up**"
      ]
    },
    {
      "cell_type": "code",
      "execution_count": 1,
      "metadata": {
        "colab": {
          "base_uri": "https://localhost:8080/"
        },
        "id": "7w6NFIXYjFYH",
        "outputId": "b06b4185-0315-4d5c-9bbd-c5557d49e567"
      },
      "outputs": [
        {
          "output_type": "stream",
          "name": "stdout",
          "text": [
            "Mounted at /content/drive\n"
          ]
        }
      ],
      "source": [
        "# Importamos las liberias para los manejos de datos y graficos\n",
        "import pandas as pd\n",
        "import numpy as np\n",
        "import matplotlib.pyplot as plt\n",
        "import seaborn as sns\n",
        "\n",
        "from matplotlib.ticker import PercentFormatter\n",
        "from google.colab import drive\n",
        "\n",
        "# Establecemos conecciones necesarias para poder usar nuestra base\n",
        "drive.mount('/content/drive')\n",
        "\n",
        "# Accedemos al archivo a analizar\n",
        "properati=pd.read_csv('/content/drive/MyDrive/📔 Organización de Datos (75.06)/TPS/TP1/properati_argentina_2021.csv')\n",
        "# properati=pd.read_csv('properati_argentina_2021.csv')\n",
        "\n",
        "\n",
        "import warnings\n",
        "warnings.filterwarnings('ignore')\n"
      ]
    },
    {
      "cell_type": "markdown",
      "metadata": {
        "id": "Q-pkcGlPiCCv"
      },
      "source": [
        "#  **1. Análisis Exploratorio y Preprocesamiento de Datos**"
      ]
    },
    {
      "cell_type": "markdown",
      "metadata": {
        "id": "hwR861Zpj4Wx"
      },
      "source": [
        "## **1a. Exploración Inicial**\n",
        "A continuación se realizara un análisis general de cada una de las variables presentes en el dataframe."
      ]
    },
    {
      "cell_type": "code",
      "execution_count": 2,
      "metadata": {
        "colab": {
          "base_uri": "https://localhost:8080/"
        },
        "id": "KO5MyE1AXcTk",
        "outputId": "4eb77dc8-ef9c-4df6-8db4-9edaff0119f5"
      },
      "outputs": [
        {
          "output_type": "execute_result",
          "data": {
            "text/plain": [
              "id                           object\n",
              "start_date                   object\n",
              "end_date                     object\n",
              "created_on                   object\n",
              "latitud                     float64\n",
              "longitud                    float64\n",
              "place_l2                     object\n",
              "place_l3                     object\n",
              "place_l4                     object\n",
              "place_l5                     object\n",
              "place_l6                    float64\n",
              "operation                    object\n",
              "property_type                object\n",
              "property_rooms              float64\n",
              "property_bedrooms           float64\n",
              "property_surface_total      float64\n",
              "property_surface_covered    float64\n",
              "property_price              float64\n",
              "property_currency            object\n",
              "property_title               object\n",
              "dtype: object"
            ]
          },
          "metadata": {},
          "execution_count": 2
        }
      ],
      "source": [
        "df = properati.copy()\n",
        "df.dtypes"
      ]
    },
    {
      "cell_type": "markdown",
      "metadata": {
        "id": "l4K7r5jnXcTm"
      },
      "source": [
        "Actualmente los únicos dos tipos de datos que tenemos son Float64 y Object.\n",
        "\n",
        "Viendo las primeras entradas, podemos observar que el tipo Object oculta fechas que se adecuan mejor al tipo de datos DateTime."
      ]
    },
    {
      "cell_type": "code",
      "execution_count": 3,
      "metadata": {
        "colab": {
          "base_uri": "https://localhost:8080/",
          "height": 356
        },
        "id": "eDp09StlXcTn",
        "outputId": "6a1ecd38-c5a8-474c-f8b7-a89ac3672719"
      },
      "outputs": [
        {
          "output_type": "execute_result",
          "data": {
            "text/plain": [
              "                         id  start_date    end_date  created_on    latitud  \\\n",
              "0  XZq2dFGxBiboHY3Bo/tqlw==  2021-09-09  2022-01-27  2021-09-09 -38.957632   \n",
              "1  8afoK+yMH/rnnlYiktwgNA==  2021-09-09  2021-10-23  2021-09-09 -34.888878   \n",
              "2  iVaG5rBB47dd1Ya4BMXREA==  2021-09-09  2022-03-09  2021-09-09 -32.488717   \n",
              "3  QE1QVMWKAHWkd0qT0FtPWA==  2021-09-09  2022-01-27  2021-09-09 -34.900165   \n",
              "4  tJ5lSk7IysG/71OGhacNZA==  2021-09-09  2022-01-27  2021-09-09 -38.954528   \n",
              "\n",
              "    longitud    place_l2 place_l3 place_l4 place_l5  place_l6 operation  \\\n",
              "0 -68.105443     Neuquén      NaN      NaN      NaN       NaN     Venta   \n",
              "1 -56.092368  Montevideo      NaN      NaN      NaN       NaN     Venta   \n",
              "2 -58.257499  Entre Ríos      NaN      NaN      NaN       NaN     Venta   \n",
              "3 -54.808453   Maldonado      NaN      NaN      NaN       NaN     Venta   \n",
              "4 -68.041862     Neuquén      NaN      NaN      NaN       NaN     Venta   \n",
              "\n",
              "  property_type  property_rooms  property_bedrooms  property_surface_total  \\\n",
              "0          Casa             6.0                NaN                     NaN   \n",
              "1          Casa             4.0                3.0                   193.0   \n",
              "2          Casa             NaN                NaN                   110.0   \n",
              "3          Casa             NaN                3.0                     NaN   \n",
              "4            PH             3.0                2.0                     NaN   \n",
              "\n",
              "   property_surface_covered  property_price property_currency  \\\n",
              "0                     206.0             NaN               NaN   \n",
              "1                     193.0        390000.0               USD   \n",
              "2                      45.0         47000.0               USD   \n",
              "3                     180.0        400000.0               USD   \n",
              "4                      98.0        102000.0               USD   \n",
              "\n",
              "       property_title  \n",
              "0      Casa - Capital  \n",
              "1       Casa - Malvín  \n",
              "2      Casa - Uruguay  \n",
              "3    Casa - El Chorro  \n",
              "4  PH - Villa Farrell  "
            ],
            "text/html": [
              "\n",
              "  <div id=\"df-668ba28e-1f30-4a46-aeda-e57b84e4023c\">\n",
              "    <div class=\"colab-df-container\">\n",
              "      <div>\n",
              "<style scoped>\n",
              "    .dataframe tbody tr th:only-of-type {\n",
              "        vertical-align: middle;\n",
              "    }\n",
              "\n",
              "    .dataframe tbody tr th {\n",
              "        vertical-align: top;\n",
              "    }\n",
              "\n",
              "    .dataframe thead th {\n",
              "        text-align: right;\n",
              "    }\n",
              "</style>\n",
              "<table border=\"1\" class=\"dataframe\">\n",
              "  <thead>\n",
              "    <tr style=\"text-align: right;\">\n",
              "      <th></th>\n",
              "      <th>id</th>\n",
              "      <th>start_date</th>\n",
              "      <th>end_date</th>\n",
              "      <th>created_on</th>\n",
              "      <th>latitud</th>\n",
              "      <th>longitud</th>\n",
              "      <th>place_l2</th>\n",
              "      <th>place_l3</th>\n",
              "      <th>place_l4</th>\n",
              "      <th>place_l5</th>\n",
              "      <th>place_l6</th>\n",
              "      <th>operation</th>\n",
              "      <th>property_type</th>\n",
              "      <th>property_rooms</th>\n",
              "      <th>property_bedrooms</th>\n",
              "      <th>property_surface_total</th>\n",
              "      <th>property_surface_covered</th>\n",
              "      <th>property_price</th>\n",
              "      <th>property_currency</th>\n",
              "      <th>property_title</th>\n",
              "    </tr>\n",
              "  </thead>\n",
              "  <tbody>\n",
              "    <tr>\n",
              "      <th>0</th>\n",
              "      <td>XZq2dFGxBiboHY3Bo/tqlw==</td>\n",
              "      <td>2021-09-09</td>\n",
              "      <td>2022-01-27</td>\n",
              "      <td>2021-09-09</td>\n",
              "      <td>-38.957632</td>\n",
              "      <td>-68.105443</td>\n",
              "      <td>Neuquén</td>\n",
              "      <td>NaN</td>\n",
              "      <td>NaN</td>\n",
              "      <td>NaN</td>\n",
              "      <td>NaN</td>\n",
              "      <td>Venta</td>\n",
              "      <td>Casa</td>\n",
              "      <td>6.0</td>\n",
              "      <td>NaN</td>\n",
              "      <td>NaN</td>\n",
              "      <td>206.0</td>\n",
              "      <td>NaN</td>\n",
              "      <td>NaN</td>\n",
              "      <td>Casa - Capital</td>\n",
              "    </tr>\n",
              "    <tr>\n",
              "      <th>1</th>\n",
              "      <td>8afoK+yMH/rnnlYiktwgNA==</td>\n",
              "      <td>2021-09-09</td>\n",
              "      <td>2021-10-23</td>\n",
              "      <td>2021-09-09</td>\n",
              "      <td>-34.888878</td>\n",
              "      <td>-56.092368</td>\n",
              "      <td>Montevideo</td>\n",
              "      <td>NaN</td>\n",
              "      <td>NaN</td>\n",
              "      <td>NaN</td>\n",
              "      <td>NaN</td>\n",
              "      <td>Venta</td>\n",
              "      <td>Casa</td>\n",
              "      <td>4.0</td>\n",
              "      <td>3.0</td>\n",
              "      <td>193.0</td>\n",
              "      <td>193.0</td>\n",
              "      <td>390000.0</td>\n",
              "      <td>USD</td>\n",
              "      <td>Casa - Malvín</td>\n",
              "    </tr>\n",
              "    <tr>\n",
              "      <th>2</th>\n",
              "      <td>iVaG5rBB47dd1Ya4BMXREA==</td>\n",
              "      <td>2021-09-09</td>\n",
              "      <td>2022-03-09</td>\n",
              "      <td>2021-09-09</td>\n",
              "      <td>-32.488717</td>\n",
              "      <td>-58.257499</td>\n",
              "      <td>Entre Ríos</td>\n",
              "      <td>NaN</td>\n",
              "      <td>NaN</td>\n",
              "      <td>NaN</td>\n",
              "      <td>NaN</td>\n",
              "      <td>Venta</td>\n",
              "      <td>Casa</td>\n",
              "      <td>NaN</td>\n",
              "      <td>NaN</td>\n",
              "      <td>110.0</td>\n",
              "      <td>45.0</td>\n",
              "      <td>47000.0</td>\n",
              "      <td>USD</td>\n",
              "      <td>Casa - Uruguay</td>\n",
              "    </tr>\n",
              "    <tr>\n",
              "      <th>3</th>\n",
              "      <td>QE1QVMWKAHWkd0qT0FtPWA==</td>\n",
              "      <td>2021-09-09</td>\n",
              "      <td>2022-01-27</td>\n",
              "      <td>2021-09-09</td>\n",
              "      <td>-34.900165</td>\n",
              "      <td>-54.808453</td>\n",
              "      <td>Maldonado</td>\n",
              "      <td>NaN</td>\n",
              "      <td>NaN</td>\n",
              "      <td>NaN</td>\n",
              "      <td>NaN</td>\n",
              "      <td>Venta</td>\n",
              "      <td>Casa</td>\n",
              "      <td>NaN</td>\n",
              "      <td>3.0</td>\n",
              "      <td>NaN</td>\n",
              "      <td>180.0</td>\n",
              "      <td>400000.0</td>\n",
              "      <td>USD</td>\n",
              "      <td>Casa - El Chorro</td>\n",
              "    </tr>\n",
              "    <tr>\n",
              "      <th>4</th>\n",
              "      <td>tJ5lSk7IysG/71OGhacNZA==</td>\n",
              "      <td>2021-09-09</td>\n",
              "      <td>2022-01-27</td>\n",
              "      <td>2021-09-09</td>\n",
              "      <td>-38.954528</td>\n",
              "      <td>-68.041862</td>\n",
              "      <td>Neuquén</td>\n",
              "      <td>NaN</td>\n",
              "      <td>NaN</td>\n",
              "      <td>NaN</td>\n",
              "      <td>NaN</td>\n",
              "      <td>Venta</td>\n",
              "      <td>PH</td>\n",
              "      <td>3.0</td>\n",
              "      <td>2.0</td>\n",
              "      <td>NaN</td>\n",
              "      <td>98.0</td>\n",
              "      <td>102000.0</td>\n",
              "      <td>USD</td>\n",
              "      <td>PH - Villa Farrell</td>\n",
              "    </tr>\n",
              "  </tbody>\n",
              "</table>\n",
              "</div>\n",
              "      <button class=\"colab-df-convert\" onclick=\"convertToInteractive('df-668ba28e-1f30-4a46-aeda-e57b84e4023c')\"\n",
              "              title=\"Convert this dataframe to an interactive table.\"\n",
              "              style=\"display:none;\">\n",
              "        \n",
              "  <svg xmlns=\"http://www.w3.org/2000/svg\" height=\"24px\"viewBox=\"0 0 24 24\"\n",
              "       width=\"24px\">\n",
              "    <path d=\"M0 0h24v24H0V0z\" fill=\"none\"/>\n",
              "    <path d=\"M18.56 5.44l.94 2.06.94-2.06 2.06-.94-2.06-.94-.94-2.06-.94 2.06-2.06.94zm-11 1L8.5 8.5l.94-2.06 2.06-.94-2.06-.94L8.5 2.5l-.94 2.06-2.06.94zm10 10l.94 2.06.94-2.06 2.06-.94-2.06-.94-.94-2.06-.94 2.06-2.06.94z\"/><path d=\"M17.41 7.96l-1.37-1.37c-.4-.4-.92-.59-1.43-.59-.52 0-1.04.2-1.43.59L10.3 9.45l-7.72 7.72c-.78.78-.78 2.05 0 2.83L4 21.41c.39.39.9.59 1.41.59.51 0 1.02-.2 1.41-.59l7.78-7.78 2.81-2.81c.8-.78.8-2.07 0-2.86zM5.41 20L4 18.59l7.72-7.72 1.47 1.35L5.41 20z\"/>\n",
              "  </svg>\n",
              "      </button>\n",
              "      \n",
              "  <style>\n",
              "    .colab-df-container {\n",
              "      display:flex;\n",
              "      flex-wrap:wrap;\n",
              "      gap: 12px;\n",
              "    }\n",
              "\n",
              "    .colab-df-convert {\n",
              "      background-color: #E8F0FE;\n",
              "      border: none;\n",
              "      border-radius: 50%;\n",
              "      cursor: pointer;\n",
              "      display: none;\n",
              "      fill: #1967D2;\n",
              "      height: 32px;\n",
              "      padding: 0 0 0 0;\n",
              "      width: 32px;\n",
              "    }\n",
              "\n",
              "    .colab-df-convert:hover {\n",
              "      background-color: #E2EBFA;\n",
              "      box-shadow: 0px 1px 2px rgba(60, 64, 67, 0.3), 0px 1px 3px 1px rgba(60, 64, 67, 0.15);\n",
              "      fill: #174EA6;\n",
              "    }\n",
              "\n",
              "    [theme=dark] .colab-df-convert {\n",
              "      background-color: #3B4455;\n",
              "      fill: #D2E3FC;\n",
              "    }\n",
              "\n",
              "    [theme=dark] .colab-df-convert:hover {\n",
              "      background-color: #434B5C;\n",
              "      box-shadow: 0px 1px 3px 1px rgba(0, 0, 0, 0.15);\n",
              "      filter: drop-shadow(0px 1px 2px rgba(0, 0, 0, 0.3));\n",
              "      fill: #FFFFFF;\n",
              "    }\n",
              "  </style>\n",
              "\n",
              "      <script>\n",
              "        const buttonEl =\n",
              "          document.querySelector('#df-668ba28e-1f30-4a46-aeda-e57b84e4023c button.colab-df-convert');\n",
              "        buttonEl.style.display =\n",
              "          google.colab.kernel.accessAllowed ? 'block' : 'none';\n",
              "\n",
              "        async function convertToInteractive(key) {\n",
              "          const element = document.querySelector('#df-668ba28e-1f30-4a46-aeda-e57b84e4023c');\n",
              "          const dataTable =\n",
              "            await google.colab.kernel.invokeFunction('convertToInteractive',\n",
              "                                                     [key], {});\n",
              "          if (!dataTable) return;\n",
              "\n",
              "          const docLinkHtml = 'Like what you see? Visit the ' +\n",
              "            '<a target=\"_blank\" href=https://colab.research.google.com/notebooks/data_table.ipynb>data table notebook</a>'\n",
              "            + ' to learn more about interactive tables.';\n",
              "          element.innerHTML = '';\n",
              "          dataTable['output_type'] = 'display_data';\n",
              "          await google.colab.output.renderOutput(dataTable, element);\n",
              "          const docLink = document.createElement('div');\n",
              "          docLink.innerHTML = docLinkHtml;\n",
              "          element.appendChild(docLink);\n",
              "        }\n",
              "      </script>\n",
              "    </div>\n",
              "  </div>\n",
              "  "
            ]
          },
          "metadata": {},
          "execution_count": 3
        }
      ],
      "source": [
        "df.head()"
      ]
    },
    {
      "cell_type": "markdown",
      "metadata": {
        "id": "z9CA-H7PwIHg"
      },
      "source": [
        "### Preparación de los datasets\n",
        "\n",
        "Aplicamos los filtros necesarios que figuran en los requerimientos, y cambiamos el dtype de las fechas a DateTime. \n",
        "\n",
        "Por otro lado, determinamos tanto el modelo a entrenar como el que usaremos para realizar las predicciones."
      ]
    },
    {
      "cell_type": "code",
      "execution_count": 4,
      "metadata": {
        "id": "LlgRrurjqerq",
        "colab": {
          "base_uri": "https://localhost:8080/"
        },
        "outputId": "7d0c7f73-1ccc-4ef3-9977-34c3824d5771"
      },
      "outputs": [
        {
          "output_type": "execute_result",
          "data": {
            "text/plain": [
              "['id',\n",
              " 'start_date',\n",
              " 'end_date',\n",
              " 'created_on',\n",
              " 'latitud',\n",
              " 'longitud',\n",
              " 'place_l2',\n",
              " 'place_l3',\n",
              " 'place_l4',\n",
              " 'place_l5',\n",
              " 'place_l6',\n",
              " 'operation',\n",
              " 'property_type',\n",
              " 'property_rooms',\n",
              " 'property_bedrooms',\n",
              " 'property_surface_total',\n",
              " 'property_surface_covered',\n",
              " 'property_price',\n",
              " 'property_currency',\n",
              " 'property_title']"
            ]
          },
          "metadata": {},
          "execution_count": 4
        }
      ],
      "source": [
        "df = df.loc[df['property_type'].isin([\"Casa\", \"PH\", \"Departamento\"])].loc[df['place_l2'].isin([\"Capital Federal\"])].loc[df['operation'].isin([\"Venta\"])].loc[df['property_currency'].isin([\"USD\"])]\n",
        "df['start_date']= pd.to_datetime(df['start_date'])\n",
        "df['created_on']= pd.to_datetime(df['created_on'])\n",
        "df.replace(to_replace=\"9999-12-31\", value=\"\", inplace=True)\n",
        "df['end_date']= pd.to_datetime(df['end_date'])\n",
        "\n",
        "train = df.sample(frac=0.8, random_state=200)\n",
        "test = df.drop(train.index)\n",
        "df.columns.tolist()"
      ]
    },
    {
      "cell_type": "markdown",
      "metadata": {
        "id": "vw_ttu65v1NY"
      },
      "source": [
        "### Descripción de Campos"
      ]
    },
    {
      "cell_type": "markdown",
      "metadata": {
        "id": "RMXCPaAtmOZb"
      },
      "source": [
        "`id`: Identificador del aviso\n",
        "\n",
        "`start_date`: Fecha de alta del aviso\n",
        "\n",
        "`end_date`: Fecha de baja del aviso\n",
        "\n",
        "`created_on`: Fecha de alta de la primera versión del aviso\n",
        "\n",
        "`latitud`: Ubicación geográfica\n",
        "\n",
        "`longitud`: Ubicación geográfica\n",
        "\n",
        "`place_l2`: Nivel administrativo 2, usualmente provincia\n",
        "\n",
        "`place_l3`: Nivel administrativo 3, usualmente ciudad\n",
        "\n",
        "`place_l4`: Nivel administrativo 4, usualmente barrio\n",
        "\n",
        "`place_l5`: Nivel administrativo 5\n",
        "\n",
        "`place_l6`: Nivel administrativo 6\n",
        "\n",
        "`operation`: Tipo de operación (venta, alquiler)\n",
        "\n",
        "`property_type`: Tipo de propiedad (casa, departamento, ph)\n",
        "\n",
        "`property_rooms`: Cantidad de ambientes\n",
        "\n",
        "`property_bedrooms`: Cantidad de dormitorios\n",
        "\n",
        "`property_surface_total`: Superficie total en metros cuadrados\n",
        "\n",
        "`property_surface_covered`: Superficie cubierta en metros cuadrados\n",
        "\n",
        "`property_price`: Precio publicado en el anuncio\n",
        "\n",
        "`property_currency`: Moneda del precio publicado\n",
        "\n",
        "`property_title`: Título del anuncio"
      ]
    },
    {
      "cell_type": "markdown",
      "metadata": {
        "id": "hRDAhfItwo-E"
      },
      "source": [
        "### Variables Cuantitativas: Medidas de Resumen"
      ]
    },
    {
      "cell_type": "markdown",
      "metadata": {
        "id": "AIfeq7wxwuSO"
      },
      "source": [
        "Calculamos, para la totalidad de las variables que nos brinda el dataset:\n",
        "- media\n",
        "- mediana\n",
        "- q1\n",
        "- q3 \n",
        "- moda"
      ]
    },
    {
      "cell_type": "code",
      "execution_count": 5,
      "metadata": {
        "colab": {
          "base_uri": "https://localhost:8080/",
          "height": 270
        },
        "id": "roa6hM62oTVv",
        "outputId": "18e1ef2d-bddf-436a-f332-d215bb227d3e"
      },
      "outputs": [
        {
          "output_type": "execute_result",
          "data": {
            "text/plain": [
              "          latitud   longitud  place_l5  place_l6  property_rooms  \\\n",
              "mean   -34.591481 -58.449795       NaN       NaN        2.822799   \n",
              "25%    -34.615975 -58.466522       NaN       NaN        2.000000   \n",
              "75%    -34.577413 -58.408862       NaN       NaN        4.000000   \n",
              "std      0.181719   0.292630       NaN       NaN        1.426148   \n",
              "median -34.595790 -58.439000       NaN       NaN        3.000000   \n",
              "\n",
              "        property_bedrooms  property_surface_total  property_surface_covered  \\\n",
              "mean             2.014629              109.092970                 87.931932   \n",
              "25%              1.000000               45.000000                 40.000000   \n",
              "75%              3.000000              105.000000                 88.000000   \n",
              "std              1.129767              980.401976                990.927129   \n",
              "median           2.000000               65.000000                 58.000000   \n",
              "\n",
              "        property_price  \n",
              "mean     226238.207185  \n",
              "25%       95000.000000  \n",
              "75%      237000.000000  \n",
              "std      318603.483648  \n",
              "median   143900.000000  "
            ],
            "text/html": [
              "\n",
              "  <div id=\"df-0403e907-43d3-4c1a-8a4b-98eb3bb5b1f0\">\n",
              "    <div class=\"colab-df-container\">\n",
              "      <div>\n",
              "<style scoped>\n",
              "    .dataframe tbody tr th:only-of-type {\n",
              "        vertical-align: middle;\n",
              "    }\n",
              "\n",
              "    .dataframe tbody tr th {\n",
              "        vertical-align: top;\n",
              "    }\n",
              "\n",
              "    .dataframe thead th {\n",
              "        text-align: right;\n",
              "    }\n",
              "</style>\n",
              "<table border=\"1\" class=\"dataframe\">\n",
              "  <thead>\n",
              "    <tr style=\"text-align: right;\">\n",
              "      <th></th>\n",
              "      <th>latitud</th>\n",
              "      <th>longitud</th>\n",
              "      <th>place_l5</th>\n",
              "      <th>place_l6</th>\n",
              "      <th>property_rooms</th>\n",
              "      <th>property_bedrooms</th>\n",
              "      <th>property_surface_total</th>\n",
              "      <th>property_surface_covered</th>\n",
              "      <th>property_price</th>\n",
              "    </tr>\n",
              "  </thead>\n",
              "  <tbody>\n",
              "    <tr>\n",
              "      <th>mean</th>\n",
              "      <td>-34.591481</td>\n",
              "      <td>-58.449795</td>\n",
              "      <td>NaN</td>\n",
              "      <td>NaN</td>\n",
              "      <td>2.822799</td>\n",
              "      <td>2.014629</td>\n",
              "      <td>109.092970</td>\n",
              "      <td>87.931932</td>\n",
              "      <td>226238.207185</td>\n",
              "    </tr>\n",
              "    <tr>\n",
              "      <th>25%</th>\n",
              "      <td>-34.615975</td>\n",
              "      <td>-58.466522</td>\n",
              "      <td>NaN</td>\n",
              "      <td>NaN</td>\n",
              "      <td>2.000000</td>\n",
              "      <td>1.000000</td>\n",
              "      <td>45.000000</td>\n",
              "      <td>40.000000</td>\n",
              "      <td>95000.000000</td>\n",
              "    </tr>\n",
              "    <tr>\n",
              "      <th>75%</th>\n",
              "      <td>-34.577413</td>\n",
              "      <td>-58.408862</td>\n",
              "      <td>NaN</td>\n",
              "      <td>NaN</td>\n",
              "      <td>4.000000</td>\n",
              "      <td>3.000000</td>\n",
              "      <td>105.000000</td>\n",
              "      <td>88.000000</td>\n",
              "      <td>237000.000000</td>\n",
              "    </tr>\n",
              "    <tr>\n",
              "      <th>std</th>\n",
              "      <td>0.181719</td>\n",
              "      <td>0.292630</td>\n",
              "      <td>NaN</td>\n",
              "      <td>NaN</td>\n",
              "      <td>1.426148</td>\n",
              "      <td>1.129767</td>\n",
              "      <td>980.401976</td>\n",
              "      <td>990.927129</td>\n",
              "      <td>318603.483648</td>\n",
              "    </tr>\n",
              "    <tr>\n",
              "      <th>median</th>\n",
              "      <td>-34.595790</td>\n",
              "      <td>-58.439000</td>\n",
              "      <td>NaN</td>\n",
              "      <td>NaN</td>\n",
              "      <td>3.000000</td>\n",
              "      <td>2.000000</td>\n",
              "      <td>65.000000</td>\n",
              "      <td>58.000000</td>\n",
              "      <td>143900.000000</td>\n",
              "    </tr>\n",
              "  </tbody>\n",
              "</table>\n",
              "</div>\n",
              "      <button class=\"colab-df-convert\" onclick=\"convertToInteractive('df-0403e907-43d3-4c1a-8a4b-98eb3bb5b1f0')\"\n",
              "              title=\"Convert this dataframe to an interactive table.\"\n",
              "              style=\"display:none;\">\n",
              "        \n",
              "  <svg xmlns=\"http://www.w3.org/2000/svg\" height=\"24px\"viewBox=\"0 0 24 24\"\n",
              "       width=\"24px\">\n",
              "    <path d=\"M0 0h24v24H0V0z\" fill=\"none\"/>\n",
              "    <path d=\"M18.56 5.44l.94 2.06.94-2.06 2.06-.94-2.06-.94-.94-2.06-.94 2.06-2.06.94zm-11 1L8.5 8.5l.94-2.06 2.06-.94-2.06-.94L8.5 2.5l-.94 2.06-2.06.94zm10 10l.94 2.06.94-2.06 2.06-.94-2.06-.94-.94-2.06-.94 2.06-2.06.94z\"/><path d=\"M17.41 7.96l-1.37-1.37c-.4-.4-.92-.59-1.43-.59-.52 0-1.04.2-1.43.59L10.3 9.45l-7.72 7.72c-.78.78-.78 2.05 0 2.83L4 21.41c.39.39.9.59 1.41.59.51 0 1.02-.2 1.41-.59l7.78-7.78 2.81-2.81c.8-.78.8-2.07 0-2.86zM5.41 20L4 18.59l7.72-7.72 1.47 1.35L5.41 20z\"/>\n",
              "  </svg>\n",
              "      </button>\n",
              "      \n",
              "  <style>\n",
              "    .colab-df-container {\n",
              "      display:flex;\n",
              "      flex-wrap:wrap;\n",
              "      gap: 12px;\n",
              "    }\n",
              "\n",
              "    .colab-df-convert {\n",
              "      background-color: #E8F0FE;\n",
              "      border: none;\n",
              "      border-radius: 50%;\n",
              "      cursor: pointer;\n",
              "      display: none;\n",
              "      fill: #1967D2;\n",
              "      height: 32px;\n",
              "      padding: 0 0 0 0;\n",
              "      width: 32px;\n",
              "    }\n",
              "\n",
              "    .colab-df-convert:hover {\n",
              "      background-color: #E2EBFA;\n",
              "      box-shadow: 0px 1px 2px rgba(60, 64, 67, 0.3), 0px 1px 3px 1px rgba(60, 64, 67, 0.15);\n",
              "      fill: #174EA6;\n",
              "    }\n",
              "\n",
              "    [theme=dark] .colab-df-convert {\n",
              "      background-color: #3B4455;\n",
              "      fill: #D2E3FC;\n",
              "    }\n",
              "\n",
              "    [theme=dark] .colab-df-convert:hover {\n",
              "      background-color: #434B5C;\n",
              "      box-shadow: 0px 1px 3px 1px rgba(0, 0, 0, 0.15);\n",
              "      filter: drop-shadow(0px 1px 2px rgba(0, 0, 0, 0.3));\n",
              "      fill: #FFFFFF;\n",
              "    }\n",
              "  </style>\n",
              "\n",
              "      <script>\n",
              "        const buttonEl =\n",
              "          document.querySelector('#df-0403e907-43d3-4c1a-8a4b-98eb3bb5b1f0 button.colab-df-convert');\n",
              "        buttonEl.style.display =\n",
              "          google.colab.kernel.accessAllowed ? 'block' : 'none';\n",
              "\n",
              "        async function convertToInteractive(key) {\n",
              "          const element = document.querySelector('#df-0403e907-43d3-4c1a-8a4b-98eb3bb5b1f0');\n",
              "          const dataTable =\n",
              "            await google.colab.kernel.invokeFunction('convertToInteractive',\n",
              "                                                     [key], {});\n",
              "          if (!dataTable) return;\n",
              "\n",
              "          const docLinkHtml = 'Like what you see? Visit the ' +\n",
              "            '<a target=\"_blank\" href=https://colab.research.google.com/notebooks/data_table.ipynb>data table notebook</a>'\n",
              "            + ' to learn more about interactive tables.';\n",
              "          element.innerHTML = '';\n",
              "          dataTable['output_type'] = 'display_data';\n",
              "          await google.colab.output.renderOutput(dataTable, element);\n",
              "          const docLink = document.createElement('div');\n",
              "          docLink.innerHTML = docLinkHtml;\n",
              "          element.appendChild(docLink);\n",
              "        }\n",
              "      </script>\n",
              "    </div>\n",
              "  </div>\n",
              "  "
            ]
          },
          "metadata": {},
          "execution_count": 5
        }
      ],
      "source": [
        "df.describe().loc[['mean', '25%', '75%', 'std']].append(df.median().rename(\"median\"))"
      ]
    },
    {
      "cell_type": "markdown",
      "metadata": {
        "id": "Gr9usESkxJ6D"
      },
      "source": [
        "### Variables Cualitativas: Cantidades y Frecuencias\n",
        "\n",
        "Realizamos, para las variables `place_l3`, `place_l4` y `property_type` un cálculo de los diferentes valores así también como sus respectivas frecuencias."
      ]
    },
    {
      "cell_type": "code",
      "execution_count": 6,
      "metadata": {
        "colab": {
          "base_uri": "https://localhost:8080/"
        },
        "id": "TAlhDGhz2RZd",
        "outputId": "86d82724-7d48-47bd-fb20-d8021b379d13"
      },
      "outputs": [
        {
          "output_type": "stream",
          "name": "stdout",
          "text": [
            "place_l3 tiene 57 valores diferentes\n"
          ]
        }
      ],
      "source": [
        "print(f\"place_l3 tiene {df.nunique()['place_l3']} valores diferentes\")"
      ]
    },
    {
      "cell_type": "code",
      "execution_count": 7,
      "metadata": {
        "colab": {
          "base_uri": "https://localhost:8080/",
          "height": 613
        },
        "id": "w4pZdqx3yzjl",
        "outputId": "110bd273-8d95-4b21-dec4-529c30fedfb3"
      },
      "outputs": [
        {
          "output_type": "execute_result",
          "data": {
            "text/plain": [
              "<matplotlib.axes._subplots.AxesSubplot at 0x7f9106eab710>"
            ]
          },
          "metadata": {},
          "execution_count": 7
        },
        {
          "output_type": "display_data",
          "data": {
            "text/plain": [
              "<Figure size 1080x576 with 1 Axes>"
            ],
            "image/png": "[encoded data removed]"
          },
          "metadata": {
            "needs_background": "light"
          }
        }
      ],
      "source": [
        "fig, ax = plt.subplots()\n",
        "df['place_l3'].value_counts().plot(ax=ax, kind='bar', figsize=(15,8), fontsize=12)"
      ]
    },
    {
      "cell_type": "code",
      "execution_count": 8,
      "metadata": {
        "colab": {
          "base_uri": "https://localhost:8080/"
        },
        "id": "u0NU6YMi2UhW",
        "outputId": "349e1873-4b86-4180-ac6b-1fde664c9234"
      },
      "outputs": [
        {
          "output_type": "stream",
          "name": "stdout",
          "text": [
            "place_l4 tiene 4 valores diferentes\n"
          ]
        }
      ],
      "source": [
        "print(f\"place_l4 tiene {df.nunique()['place_l4']} valores diferentes\")"
      ]
    },
    {
      "cell_type": "code",
      "execution_count": 9,
      "metadata": {
        "colab": {
          "base_uri": "https://localhost:8080/",
          "height": 283
        },
        "id": "FMlRKspx1RLH",
        "outputId": "81f43f09-07f9-46c2-905c-d7f2fc18058c"
      },
      "outputs": [
        {
          "output_type": "execute_result",
          "data": {
            "text/plain": [
              "<matplotlib.axes._subplots.AxesSubplot at 0x7f9100ca14d0>"
            ]
          },
          "metadata": {},
          "execution_count": 9
        },
        {
          "output_type": "display_data",
          "data": {
            "text/plain": [
              "<Figure size 432x288 with 1 Axes>"
            ],
            "image/png": "[encoded data removed]"
          },
          "metadata": {
            "needs_background": "light"
          }
        }
      ],
      "source": [
        "df['place_l4'].hist()"
      ]
    },
    {
      "cell_type": "code",
      "execution_count": 10,
      "metadata": {
        "colab": {
          "base_uri": "https://localhost:8080/",
          "height": 283
        },
        "id": "QM7Edif4ztMO",
        "outputId": "2bd41966-b223-4bd3-d515-5b9f43f43b15"
      },
      "outputs": [
        {
          "output_type": "execute_result",
          "data": {
            "text/plain": [
              "<matplotlib.axes._subplots.AxesSubplot at 0x7f9101166390>"
            ]
          },
          "metadata": {},
          "execution_count": 10
        },
        {
          "output_type": "display_data",
          "data": {
            "text/plain": [
              "<Figure size 432x288 with 1 Axes>"
            ],
            "image/png": "[encoded data removed]"
          },
          "metadata": {
            "needs_background": "light"
          }
        }
      ],
      "source": [
        "df['property_type'].hist()"
      ]
    },
    {
      "cell_type": "code",
      "execution_count": 11,
      "metadata": {
        "colab": {
          "base_uri": "https://localhost:8080/"
        },
        "id": "Q66WQYjz2Xok",
        "outputId": "1d59b17e-4c1e-4716-98e5-e4ad9b110d9b"
      },
      "outputs": [
        {
          "output_type": "stream",
          "name": "stdout",
          "text": [
            "property_type tiene 3 valores diferentes\n"
          ]
        }
      ],
      "source": [
        "print(f\"property_type tiene {df.nunique()['property_type']} valores diferentes\")"
      ]
    },
    {
      "cell_type": "markdown",
      "metadata": {
        "id": "4bQXzkhg4ipf"
      },
      "source": [
        "### Determinación de Variables Irrelevantes"
      ]
    },
    {
      "cell_type": "markdown",
      "metadata": {
        "id": "OihHviLu2dV7"
      },
      "source": [
        "Finalmente, podremos decir que dejamos fuera de este análisis particular a las a las siguientes variables que detallamos a continuación:\n",
        "\n",
        "- `operation`: Sólo hay un tipo de operación según lo solicitado en la consigna y es \"Venta\", con lo cual la consideramos irrelevante en el análisis.\n",
        "- `property_currency`: Sólo hay un tipo de cambio según lo solicitado en la consigna y es \"USD\", con lo cual la consideramos irrelevante en el análisis.\n",
        "- `place_l5`: De analizar previamente el dataset con el cual estamos trabajando, detectamos que la columna en cuestión se encuentra vacía, con lo cual la consideramos irrelevante en el análisis.\n",
        "- `place_l6`: De analizar previamente el dataset con el cual estamos trabajando, detectamos que la columna en cuestión se encuentra vacía, con lo cual la consideramos irrelevante en el análisis.\n",
        "- `property_title`: De conocer previamente la información que contiene el dataset, sabemos que la variable en cuestión almacena un único título por publicación, con lo cual la consideramos irrelevante en el análisis."
      ]
    },
    {
      "cell_type": "markdown",
      "metadata": {
        "id": "qvKggsaWB3Y9"
      },
      "source": [
        "### Análisis Gráfico de las Distribuciones de las Variables"
      ]
    },
    {
      "cell_type": "markdown",
      "metadata": {
        "id": "CwrHylmo4v5W"
      },
      "source": [
        "##### Densidad de la variable `latitud`"
      ]
    },
    {
      "cell_type": "code",
      "execution_count": 12,
      "metadata": {
        "colab": {
          "base_uri": "https://localhost:8080/",
          "height": 297
        },
        "id": "hR9T5l7EB2yj",
        "outputId": "2fa9cef4-cd67-4963-8699-381ee68a1d57"
      },
      "outputs": [
        {
          "output_type": "execute_result",
          "data": {
            "text/plain": [
              "<matplotlib.axes._subplots.AxesSubplot at 0x7f9100bc1750>"
            ]
          },
          "metadata": {},
          "execution_count": 12
        },
        {
          "output_type": "display_data",
          "data": {
            "text/plain": [
              "<Figure size 432x288 with 1 Axes>"
            ],
            "image/png": "[encoded data removed]"
          },
          "metadata": {
            "needs_background": "light"
          }
        }
      ],
      "source": [
        "#grf = df['latitud'].plot.kde(title=\"Densidad variable Start date\",xlabel=\"x\",ylabel=\"y\").xlim(-10, 10)\n",
        "#sns.displot(df.latitud, hist=False, kde_kws={'clip': (-10.0, 10.0)})\n",
        "# ver despues de machearlas con los property_types \n",
        "sns.kdeplot(data=df.latitud, gridsize=70)"
      ]
    },
    {
      "cell_type": "markdown",
      "metadata": {
        "id": "uvKB4TpJ40N3"
      },
      "source": [
        "##### Densidad de la variable `longitud`"
      ]
    },
    {
      "cell_type": "code",
      "execution_count": 13,
      "metadata": {
        "colab": {
          "base_uri": "https://localhost:8080/",
          "height": 297
        },
        "id": "E7CNCSjBOklg",
        "outputId": "304177fa-84ab-4dd2-cb53-7f2984537efd"
      },
      "outputs": [
        {
          "output_type": "execute_result",
          "data": {
            "text/plain": [
              "<matplotlib.axes._subplots.AxesSubplot at 0x7f9100b8add0>"
            ]
          },
          "metadata": {},
          "execution_count": 13
        },
        {
          "output_type": "display_data",
          "data": {
            "text/plain": [
              "<Figure size 432x288 with 1 Axes>"
            ],
            "image/png": "[encoded data removed]"
          },
          "metadata": {
            "needs_background": "light"
          }
        }
      ],
      "source": [
        "sns.kdeplot(data=df.longitud, gridsize=30)\n"
      ]
    },
    {
      "cell_type": "markdown",
      "metadata": {
        "id": "uJY4CRZl5J5k"
      },
      "source": [
        "##### Densidad de la variable `property_price`"
      ]
    },
    {
      "cell_type": "code",
      "execution_count": 14,
      "metadata": {
        "colab": {
          "base_uri": "https://localhost:8080/",
          "height": 310
        },
        "id": "HcH2_gnOOmh3",
        "outputId": "9e07aca8-afc4-47d0-869c-1507cf85866f"
      },
      "outputs": [
        {
          "output_type": "execute_result",
          "data": {
            "text/plain": [
              "<matplotlib.axes._subplots.AxesSubplot at 0x7f9100b37e50>"
            ]
          },
          "metadata": {},
          "execution_count": 14
        },
        {
          "output_type": "display_data",
          "data": {
            "text/plain": [
              "<Figure size 432x288 with 1 Axes>"
            ],
            "image/png": "[encoded data removed]"
          },
          "metadata": {
            "needs_background": "light"
          }
        }
      ],
      "source": [
        "sns.kdeplot(data=df.property_price, gridsize=15)\n"
      ]
    },
    {
      "cell_type": "markdown",
      "metadata": {
        "id": "okhaOan15OYp"
      },
      "source": [
        "##### Densidad de la variable `property_rooms`"
      ]
    },
    {
      "cell_type": "code",
      "execution_count": 15,
      "metadata": {
        "colab": {
          "base_uri": "https://localhost:8080/",
          "height": 298
        },
        "id": "9h2fzjdCPYXK",
        "outputId": "00a2fa93-6855-4bca-c861-e6b1782c92a5"
      },
      "outputs": [
        {
          "output_type": "execute_result",
          "data": {
            "text/plain": [
              "<matplotlib.axes._subplots.AxesSubplot at 0x7f9100ae8c50>"
            ]
          },
          "metadata": {},
          "execution_count": 15
        },
        {
          "output_type": "display_data",
          "data": {
            "text/plain": [
              "<Figure size 432x288 with 1 Axes>"
            ],
            "image/png": "[encoded data removed]"
          },
          "metadata": {
            "needs_background": "light"
          }
        }
      ],
      "source": [
        "sns.countplot(x=df['property_rooms'].dropna().astype('int32'))"
      ]
    },
    {
      "cell_type": "markdown",
      "metadata": {
        "id": "2eCIdUAH5S7v"
      },
      "source": [
        "##### Densidad de la variable `property_surface_covered`"
      ]
    },
    {
      "cell_type": "code",
      "execution_count": 16,
      "metadata": {
        "colab": {
          "base_uri": "https://localhost:8080/",
          "height": 310
        },
        "id": "85vZd9YQO-jP",
        "outputId": "d5d981c9-4174-4d22-bf36-634746b07b19"
      },
      "outputs": [
        {
          "output_type": "execute_result",
          "data": {
            "text/plain": [
              "<matplotlib.axes._subplots.AxesSubplot at 0x7f9100b44650>"
            ]
          },
          "metadata": {},
          "execution_count": 16
        },
        {
          "output_type": "display_data",
          "data": {
            "text/plain": [
              "<Figure size 432x288 with 1 Axes>"
            ],
            "image/png": "[encoded data removed]"
          },
          "metadata": {
            "needs_background": "light"
          }
        }
      ],
      "source": [
        "sns.kdeplot(data=df.property_surface_covered, gridsize=20)\n"
      ]
    },
    {
      "cell_type": "markdown",
      "metadata": {
        "id": "a2UxzMy1Byn_"
      },
      "source": [
        "### Análisis de las Correlaciones existentes entre las Variables"
      ]
    },
    {
      "cell_type": "code",
      "execution_count": 17,
      "metadata": {
        "id": "ZKjqGi6LkZku"
      },
      "outputs": [],
      "source": [
        "df.drop([\"place_l5\", \"place_l6\"], axis = 1, inplace = True)"
      ]
    },
    {
      "cell_type": "code",
      "execution_count": 18,
      "metadata": {
        "id": "DHSQHXNUXKLb"
      },
      "outputs": [],
      "source": [
        "#columns = df.columns.tolist()\n",
        "#df_pariplot = df[columns].copy()\n",
        "#graf_pairplot = sns.pairplot(data=df_pariplot, hue=\"property_type\", palette=[\"r\", \"g\", \"b\"])"
      ]
    },
    {
      "cell_type": "markdown",
      "metadata": {
        "id": "np2LPbxuu6B4"
      },
      "source": [
        "## **1b. Datos Faltantes**\n",
        "A continuación se realizara un análisis sobre los datos faltantes del dataframe."
      ]
    },
    {
      "cell_type": "markdown",
      "metadata": {
        "id": "lbfYKgJs9f1f"
      },
      "source": [
        "### Análisis a Nivel Columna"
      ]
    },
    {
      "cell_type": "markdown",
      "metadata": {
        "id": "hq7Ta0_-_zao"
      },
      "source": [
        "Graficamos, para cada variable, el porcentaje (diferente de cero) de datos faltantes con respecto al total del dataset en escala logarítmica."
      ]
    },
    {
      "cell_type": "code",
      "execution_count": 19,
      "metadata": {
        "colab": {
          "base_uri": "https://localhost:8080/",
          "height": 403
        },
        "id": "jW7CezP1_JS6",
        "outputId": "3b2cdcec-e7e1-48dd-e752-976e8b04d842"
      },
      "outputs": [
        {
          "output_type": "execute_result",
          "data": {
            "text/plain": [
              "<matplotlib.axes._subplots.AxesSubplot at 0x7f90fde62290>"
            ]
          },
          "metadata": {},
          "execution_count": 19
        },
        {
          "output_type": "display_data",
          "data": {
            "text/plain": [
              "<Figure size 432x288 with 1 Axes>"
            ],
            "image/png": "[encoded data removed]"
          },
          "metadata": {
            "needs_background": "light"
          }
        }
      ],
      "source": [
        "fig, ax = plt.subplots()\n",
        "ax.set_yscale('log')\n",
        "ax.yaxis.set_major_formatter(PercentFormatter())\n",
        "(df.isnull().sum() * 100 / len(df)).replace(0,np.nan).dropna(axis=0,how=\"all\").plot(ax=ax, kind='bar')"
      ]
    },
    {
      "cell_type": "markdown",
      "metadata": {
        "id": "DbhApc81_7dM"
      },
      "source": [
        "### Análisis a Nivel Fila"
      ]
    },
    {
      "cell_type": "markdown",
      "metadata": {
        "id": "jheKR6Asj0ua"
      },
      "source": [
        "Graficamos el porcentaje de filas con n datos faltantes con respecto al total del dataset."
      ]
    },
    {
      "cell_type": "code",
      "execution_count": 20,
      "metadata": {
        "colab": {
          "base_uri": "https://localhost:8080/",
          "height": 280
        },
        "id": "uMghBTBKA0WZ",
        "outputId": "cb191d58-fa17-48b3-fbb0-b94670e30731"
      },
      "outputs": [
        {
          "output_type": "execute_result",
          "data": {
            "text/plain": [
              "<matplotlib.axes._subplots.AxesSubplot at 0x7f91008e5250>"
            ]
          },
          "metadata": {},
          "execution_count": 20
        },
        {
          "output_type": "display_data",
          "data": {
            "text/plain": [
              "<Figure size 432x288 with 1 Axes>"
            ],
            "image/png": "[encoded data removed]"
          },
          "metadata": {
            "needs_background": "light"
          }
        }
      ],
      "source": [
        "fig, ax = plt.subplots()\n",
        "ax.set_yscale('log')\n",
        "ax.yaxis.set_major_formatter(PercentFormatter(decimals=3))\n",
        "(df.isnull().sum(axis=1).value_counts().sort_index() * 100 / len(df)).plot(ax=ax, kind='bar')"
      ]
    },
    {
      "cell_type": "markdown",
      "metadata": {
        "id": "0q6ERteJjxdz"
      },
      "source": [
        "### Reparación de Valores Faltantes"
      ]
    },
    {
      "cell_type": "markdown",
      "metadata": {
        "id": "K89jrcMrkaiu"
      },
      "source": [
        "A continuación se detallan posibles estrategias para reparar los valores faltantes del dataset."
      ]
    },
    {
      "cell_type": "markdown",
      "metadata": {
        "id": "hEATXRqcXcT3"
      },
      "source": [
        "Reemplazamos las locaciones no definidas por el nivel superior"
      ]
    },
    {
      "cell_type": "code",
      "execution_count": 21,
      "metadata": {
        "id": "aIx-73J1XcT3"
      },
      "outputs": [],
      "source": [
        "df.place_l3.fillna(df.place_l2, inplace=True)\n",
        "df.place_l4.fillna(df.place_l3, inplace=True)"
      ]
    },
    {
      "cell_type": "markdown",
      "metadata": {
        "id": "k7akSY6CXcT3"
      },
      "source": [
        "Reemplazamos la cantidad de dormitorios no definidos por la media calculada filtrando por cantidad total de habitaciones.\n"
      ]
    },
    {
      "cell_type": "code",
      "execution_count": 22,
      "metadata": {
        "id": "-IZkF60XXcT3"
      },
      "outputs": [],
      "source": [
        "cant = df.loc[(df['property_bedrooms'].isna()) & (df['property_rooms'].notna())].property_rooms.value_counts().index.values\n",
        "\n",
        "for i in cant:\n",
        "    median = df.loc[(df['property_bedrooms'].notna()) & (df['property_rooms'] == i)].property_bedrooms.median()\n",
        "    df.loc[(df['property_bedrooms'].isna()) & (df[\"property_rooms\"] == i), \"property_bedrooms\"] = df.loc[(df['property_bedrooms'].isna()) & (df[\"property_rooms\"] == i), \"property_bedrooms\"].fillna(median)\n"
      ]
    },
    {
      "cell_type": "markdown",
      "metadata": {
        "id": "Fb7BxQmYXcT4"
      },
      "source": [
        "Luego reemplazamos la cantidad total de habitaciones no definidas por la media calculada filtrando por cantidad de dormitorios.\n",
        "\n",
        "Esto redujo el porcentaje de valores no definidos para los dormitorios y habitaciones a menos de 1%, desde 10% y 1,5% respectivamente."
      ]
    },
    {
      "cell_type": "code",
      "execution_count": 23,
      "metadata": {
        "scrolled": false,
        "colab": {
          "base_uri": "https://localhost:8080/",
          "height": 403
        },
        "id": "Su6ZSNH2XcT4",
        "outputId": "a011e48a-11be-4d37-d564-e1a71b413db9"
      },
      "outputs": [
        {
          "output_type": "execute_result",
          "data": {
            "text/plain": [
              "<matplotlib.axes._subplots.AxesSubplot at 0x7f90fdf3bed0>"
            ]
          },
          "metadata": {},
          "execution_count": 23
        },
        {
          "output_type": "display_data",
          "data": {
            "text/plain": [
              "<Figure size 432x288 with 1 Axes>"
            ],
            "image/png": "[encoded data removed]"
          },
          "metadata": {
            "needs_background": "light"
          }
        }
      ],
      "source": [
        "cant = df.loc[(df['property_rooms'].isna()) & (df['property_bedrooms'].notna())].property_bedrooms.value_counts().index.values\n",
        "\n",
        "for i in cant:\n",
        "    median = df.loc[(df['property_rooms'].notna()) & (df['property_bedrooms'] == i)].property_rooms.median()\n",
        "    df.loc[(df['property_rooms'].isna()) & (df[\"property_bedrooms\"] == i), \"property_rooms\"] = df.loc[(df['property_rooms'].isna()) & (df[\"property_bedrooms\"] == i), \"property_rooms\"].fillna(median)\n",
        "    \n",
        "fig, ax = plt.subplots()\n",
        "ax.yaxis.set_major_formatter(PercentFormatter())\n",
        "(df.isnull().sum() * 100 / len(df)).replace(0,np.nan).dropna(axis=0,how=\"all\").plot(ax=ax, kind='bar')\n"
      ]
    },
    {
      "cell_type": "markdown",
      "metadata": {
        "id": "jO4Y_Ib7XcT4"
      },
      "source": [
        "Cuando se tiene la superficie total pero no la cubierta o viceversa, reemplazamos los valores faltantes con su contraparte"
      ]
    },
    {
      "cell_type": "code",
      "execution_count": 24,
      "metadata": {
        "colab": {
          "base_uri": "https://localhost:8080/",
          "height": 370
        },
        "id": "_WzR-_KPXcT4",
        "outputId": "f4086248-c5d3-4787-c4cf-62ea02c440c0"
      },
      "outputs": [
        {
          "output_type": "execute_result",
          "data": {
            "text/plain": [
              "<matplotlib.axes._subplots.AxesSubplot at 0x7f90fdeb4cd0>"
            ]
          },
          "metadata": {},
          "execution_count": 24
        },
        {
          "output_type": "display_data",
          "data": {
            "text/plain": [
              "<Figure size 432x288 with 1 Axes>"
            ],
            "image/png": "[encoded data removed]"
          },
          "metadata": {
            "needs_background": "light"
          }
        }
      ],
      "source": [
        "df.property_surface_total.fillna(df.property_surface_covered, inplace=True)\n",
        "df.property_surface_covered.fillna(df.property_surface_total, inplace=True)\n",
        "\n",
        "fig, ax = plt.subplots()\n",
        "ax.yaxis.set_major_formatter(PercentFormatter())\n",
        "(df.isnull().sum() * 100 / len(df)).replace(0,np.nan).dropna(axis=0,how=\"all\").plot(ax=ax, kind='bar')"
      ]
    },
    {
      "cell_type": "markdown",
      "metadata": {
        "id": "Uu2cbHO-XcT5"
      },
      "source": [
        "# FALTA ARREGLAR LATITUD Y LONGITUD."
      ]
    },
    {
      "cell_type": "markdown",
      "metadata": {
        "id": "tka5n3H2lieQ"
      },
      "source": [
        "## **1c. Valores atípicos**\n",
        "\n",
        "A continuación se realizara un análisis sobre los valores atípicos presentes en el dataframe."
      ]
    },
    {
      "cell_type": "markdown",
      "metadata": {
        "id": "li-HVdE_oEtb"
      },
      "source": [
        "### Detección\n",
        "\n",
        "En la totalidad del dataset logramos detectar outliers tanto univariados (presentes en una unica variable) como multivariados (se encuentran en un espacio n-dimensional).\n",
        "\n",
        "\n"
      ]
    },
    {
      "cell_type": "markdown",
      "metadata": {
        "id": "EqszohR2zpv0"
      },
      "source": [
        "#### Outliers univariados\n",
        "\n",
        "Utilizando los gráficos de tipo Box-Plot vamos a intentar identificarlos:"
      ]
    },
    {
      "cell_type": "markdown",
      "metadata": {
        "id": "bqiL3eGYy2Qh"
      },
      "source": [
        "##### Property rooms\n",
        "\n",
        "Como se puede observar en el siguiente grafico, tenemos una serie de valores atipicos referenciados a la cantidad de ambientes de las propiedades. Si tomamos en cuenta los extremos de los cuartiles que calculamos a continuacion, notamos que algunos quedan excesivamente altos en comparacion."
      ]
    },
    {
      "cell_type": "code",
      "execution_count": 25,
      "metadata": {
        "colab": {
          "base_uri": "https://localhost:8080/",
          "height": 252
        },
        "id": "oGoAYUuZyy3i",
        "outputId": "81a1513f-f39a-4240-b6d2-be92a07290a4"
      },
      "outputs": [
        {
          "output_type": "display_data",
          "data": {
            "text/plain": [
              "<Figure size 432x288 with 1 Axes>"
            ],
            "image/png": "[encoded data removed]"
          },
          "metadata": {
            "needs_background": "light"
          }
        }
      ],
      "source": [
        "sns.boxplot(y=df.property_rooms)\n",
        "plt.show()"
      ]
    },
    {
      "cell_type": "code",
      "execution_count": 26,
      "metadata": {
        "colab": {
          "base_uri": "https://localhost:8080/"
        },
        "id": "14wdDBSN0Hex",
        "outputId": "625a48c4-c0e3-466e-eade-6db8403d3f3b"
      },
      "outputs": [
        {
          "output_type": "stream",
          "name": "stdout",
          "text": [
            "El valor de Q1 es: 2.0\n",
            "El valor de Q3 es: 4.0\n",
            "El limite inferior del Q1 es: -1.0\n",
            "El limite superior del Q3 es: 7.0\n"
          ]
        }
      ],
      "source": [
        "# Cuartiles\n",
        "Q1_property_rooms=df.describe().get(\"property_rooms\").get(\"25%\")\n",
        "Q3_property_rooms=df.describe().get(\"property_rooms\").get(\"75%\")\n",
        "\n",
        "print(\"El valor de Q1 es:\", Q1_property_rooms)\n",
        "print(\"El valor de Q3 es:\", Q3_property_rooms)\n",
        "\n",
        "# Rango intercuartil\n",
        "IQR_property_rooms=Q3_property_rooms-Q1_property_rooms\n",
        "\n",
        "# Limites Outliers\n",
        "out_inf=Q1_property_rooms-1.5*IQR_property_rooms\n",
        "out_sup=Q3_property_rooms+1.5*IQR_property_rooms\n",
        "print(\"El limite inferior del Q1 es:\", out_inf)\n",
        "print(\"El limite superior del Q3 es:\", out_sup)"
      ]
    },
    {
      "cell_type": "markdown",
      "metadata": {
        "id": "TsWBLuvVy-YK"
      },
      "source": [
        "##### Property bedrooms\n",
        "\n",
        "Al igual que los ambientes, podemos notar tambien aca la presencia de algunos valores lejanos a los extremos de los cuartiles que usamos de referencia. En particular tenemos uno notoriamente distanciado cercano al numero 70."
      ]
    },
    {
      "cell_type": "code",
      "execution_count": 27,
      "metadata": {
        "colab": {
          "base_uri": "https://localhost:8080/",
          "height": 252
        },
        "id": "JLkz5m6HrAoP",
        "outputId": "116e82ce-528f-47f2-e7c3-004264bfe3c8"
      },
      "outputs": [
        {
          "output_type": "display_data",
          "data": {
            "text/plain": [
              "<Figure size 432x288 with 1 Axes>"
            ],
            "image/png": "[encoded data removed]"
          },
          "metadata": {
            "needs_background": "light"
          }
        }
      ],
      "source": [
        "sns.boxplot(y=df.property_bedrooms)\n",
        "plt.show()"
      ]
    },
    {
      "cell_type": "code",
      "execution_count": 28,
      "metadata": {
        "colab": {
          "base_uri": "https://localhost:8080/"
        },
        "id": "6iH1LhJKzEPs",
        "outputId": "5978b663-e828-4198-be0a-6277dc1d48ff"
      },
      "outputs": [
        {
          "output_type": "stream",
          "name": "stdout",
          "text": [
            "El valor de Q1 es: 1.0\n",
            "El valor de Q3 es: 3.0\n",
            "El limite inferior del Q1 es: -2.0\n",
            "El limite superior del Q3 es: 6.0\n"
          ]
        }
      ],
      "source": [
        "# Cuartiles\n",
        "Q1_property_bedrooms=df.describe().get(\"property_bedrooms\").get(\"25%\")\n",
        "Q3_property_bedrooms=df.describe().get(\"property_bedrooms\").get(\"75%\")\n",
        "\n",
        "print(\"El valor de Q1 es:\", Q1_property_bedrooms)\n",
        "print(\"El valor de Q3 es:\", Q3_property_bedrooms)\n",
        "\n",
        "# Rango intercuartil\n",
        "IQR_property_bedrooms=Q3_property_bedrooms-Q1_property_bedrooms\n",
        "\n",
        "# Limites Outliers\n",
        "out_inf=Q1_property_bedrooms-1.5*IQR_property_bedrooms\n",
        "out_sup=Q3_property_bedrooms+1.5*IQR_property_bedrooms\n",
        "print(\"El limite inferior del Q1 es:\", out_inf)\n",
        "print(\"El limite superior del Q3 es:\", out_sup)"
      ]
    },
    {
      "cell_type": "markdown",
      "metadata": {
        "id": "Bh62tMLLpWt0"
      },
      "source": [
        "#### Outliers multivariados\n",
        "\n",
        "A continuacion vamos a analizar la presencia de outliers utilizando el metodo de Mahalanobis.\n",
        "\n",
        "\n",
        "\n",
        "\n"
      ]
    },
    {
      "cell_type": "markdown",
      "metadata": {
        "id": "jgGd0uFsYYoM"
      },
      "source": [
        "##### Property rooms vs Property bedrooms"
      ]
    },
    {
      "cell_type": "code",
      "execution_count": 29,
      "metadata": {
        "colab": {
          "base_uri": "https://localhost:8080/",
          "height": 294
        },
        "id": "vRs4fXeeYjhT",
        "outputId": "2f0ff218-9e13-4277-fe78-f48f0bcd0cbe"
      },
      "outputs": [
        {
          "output_type": "display_data",
          "data": {
            "text/plain": [
              "<Figure size 432x288 with 1 Axes>"
            ],
            "image/png": "[encoded data removed]"
          },
          "metadata": {
            "needs_background": "light"
          }
        }
      ],
      "source": [
        "#Scatter Plot\n",
        "plt.scatter(df.property_rooms,df.property_bedrooms)\n",
        "plt.title('Bedrooms vs Rooms')\n",
        "plt.xlabel('Bedrooms')\n",
        "plt.ylabel('Rooms')\n",
        "plt.show()"
      ]
    },
    {
      "cell_type": "markdown",
      "source": [
        "##### Property rooms vs Property surface total"
      ],
      "metadata": {
        "id": "_pMvvDQbaYwr"
      }
    },
    {
      "cell_type": "code",
      "source": [
        "#Scatter Plot\n",
        "plt.scatter(df.property_rooms,df.property_surface_total)\n",
        "plt.title('Rooms vs Surface total')\n",
        "plt.xlabel('Rooms')\n",
        "plt.ylabel('Surface total')\n",
        "plt.show()"
      ],
      "metadata": {
        "colab": {
          "base_uri": "https://localhost:8080/",
          "height": 294
        },
        "id": "gNJ0QvuNaphw",
        "outputId": "298d06c6-3acb-4f84-e6d0-4bbc5c6b59c2"
      },
      "execution_count": 30,
      "outputs": [
        {
          "output_type": "display_data",
          "data": {
            "text/plain": [
              "<Figure size 432x288 with 1 Axes>"
            ],
            "image/png": "[encoded data removed]"
          },
          "metadata": {
            "needs_background": "light"
          }
        }
      ]
    },
    {
      "cell_type": "markdown",
      "source": [
        "##### Property rooms vs Property surface covered"
      ],
      "metadata": {
        "id": "P9Xq9piabA6s"
      }
    },
    {
      "cell_type": "code",
      "source": [
        "#Scatter Plot\n",
        "plt.scatter(df.property_rooms,df.property_surface_covered)\n",
        "plt.title('Rooms vs Surface covered')\n",
        "plt.xlabel('Rooms')\n",
        "plt.ylabel('Surface covered')\n",
        "plt.show()"
      ],
      "metadata": {
        "colab": {
          "base_uri": "https://localhost:8080/",
          "height": 294
        },
        "id": "xxwGCLpAbGfP",
        "outputId": "2bfbf958-a01c-49d7-eedf-6aa66d5781f4"
      },
      "execution_count": 31,
      "outputs": [
        {
          "output_type": "display_data",
          "data": {
            "text/plain": [
              "<Figure size 432x288 with 1 Axes>"
            ],
            "image/png": "[encoded data removed]"
          },
          "metadata": {
            "needs_background": "light"
          }
        }
      ]
    },
    {
      "cell_type": "markdown",
      "source": [
        "##### Property rooms vs Property price"
      ],
      "metadata": {
        "id": "IJnCYsswbc7w"
      }
    },
    {
      "cell_type": "code",
      "source": [
        "#Scatter Plot\n",
        "plt.scatter(df.property_rooms,df.property_price)\n",
        "plt.title('Rooms vs Price')\n",
        "plt.xlabel('Rooms')\n",
        "plt.ylabel('Price')\n",
        "plt.show()"
      ],
      "metadata": {
        "colab": {
          "base_uri": "https://localhost:8080/",
          "height": 294
        },
        "id": "D-3Lhtg4bhuF",
        "outputId": "3875911f-3af8-4cec-8d2f-a64565dafa2c"
      },
      "execution_count": 32,
      "outputs": [
        {
          "output_type": "display_data",
          "data": {
            "text/plain": [
              "<Figure size 432x288 with 1 Axes>"
            ],
            "image/png": "[encoded data removed]"
          },
          "metadata": {
            "needs_background": "light"
          }
        }
      ]
    },
    {
      "cell_type": "markdown",
      "source": [
        "##### Property surface total vs Price -> Mahalanobis\n",
        "Como podemos apreciar en el grafico, la mayor concentracion se presenta en la esquina inferior izquierda, aunque presenta algunos valores dispersos en las cercanias de ambos extremos. Por otro lado hay dos valores particularmente alejados.\n",
        "\n",
        "\n"
      ],
      "metadata": {
        "id": "FDCcd2n3byyE"
      }
    },
    {
      "cell_type": "code",
      "source": [
        "#Scatter Plot\n",
        "plt.scatter(df.property_surface_total,df.property_price)\n",
        "plt.title('Surface total vs Price')\n",
        "plt.xlabel('Surface total')\n",
        "plt.ylabel('Price')\n",
        "plt.show()"
      ],
      "metadata": {
        "colab": {
          "base_uri": "https://localhost:8080/",
          "height": 294
        },
        "id": "GkGwfrSSb8l2",
        "outputId": "eb22a9b3-56ba-4d23-c63d-b9fbcd50792e"
      },
      "execution_count": 33,
      "outputs": [
        {
          "output_type": "display_data",
          "data": {
            "text/plain": [
              "<Figure size 432x288 with 1 Axes>"
            ],
            "image/png": "[encoded data removed]"
          },
          "metadata": {
            "needs_background": "light"
          }
        }
      ]
    },
    {
      "cell_type": "markdown",
      "source": [
        "Para poder determinar concretamente estos valores, nos ayudamos con el calculo de la distancia de mahalanobis para cada una de las observaciones presentes."
      ],
      "metadata": {
        "id": "2azYCj92nL5r"
      }
    },
    {
      "cell_type": "code",
      "source": [
        "# Calulo el vector de medias\n",
        "vector_medias=np.mean(df[['property_price','property_surface_total']])\n",
        "\n",
        "# Calculo la diferencia entre las observaciones y el vector de medias\n",
        "diferencia_x = df[['property_price','property_surface_total']] - vector_medias\n",
        "\n",
        "# Calculo matriz de covarianza y su inversa\n",
        "covarianza=df[['property_price','property_surface_total']].cov().values\n",
        "inv_covarianza = np.linalg.inv(covarianza)\n",
        "\n",
        "# Calculamos el cuadrado de la distancia de mahalanobis\n",
        "dist_mahalanobis = np.dot(np.dot(diferencia_x, inv_covarianza), diferencia_x.T) # me rompe la ram\n",
        "\n",
        "#df['mahalanobis'] = dist_mahalanobis.diagonal()"
      ],
      "metadata": {
        "id": "rKtIiaxqnYmT"
      },
      "execution_count": null,
      "outputs": []
    },
    {
      "cell_type": "markdown",
      "metadata": {
        "id": "EqJCNlNL4axE"
      },
      "source": [
        "#  **2. Agrupamiento**"
      ]
    },
    {
      "cell_type": "markdown",
      "metadata": {
        "id": "HOlJzNDc4i3L"
      },
      "source": [
        "#  **3. Clasificación**"
      ]
    },
    {
      "cell_type": "markdown",
      "metadata": {
        "id": "6zkoALij4rrq"
      },
      "source": [
        "#  **4. Regresión**"
      ]
    },
    {
      "cell_type": "markdown",
      "metadata": {
        "id": "UvOkWFJf4u8h"
      },
      "source": [
        "#  **5. Conclusiones**"
      ]
    }
  ],
  "metadata": {
    "colab": {
      "collapsed_sections": [],
      "provenance": [],
      "include_colab_link": true
    },
    "kernelspec": {
      "display_name": "Python 3 (ipykernel)",
      "language": "python",
      "name": "python3"
    },
    "language_info": {
      "codemirror_mode": {
        "name": "ipython",
        "version": 3
      },
      "file_extension": ".py",
      "mimetype": "text/x-python",
      "name": "python",
      "nbconvert_exporter": "python",
      "pygments_lexer": "ipython3",
      "version": "3.10.6"
    }
  },
  "nbformat": 4,
  "nbformat_minor": 0
}