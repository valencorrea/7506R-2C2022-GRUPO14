{
 "cells": [
  {
   "cell_type": "markdown",
   "metadata": {
    "id": "IOHMzhsjZRFe"
   },
   "source": [
    "______________________________________\n",
    "# <center>**Trabajo Practico Nº1 para la Materia *Organización de Datos***</center>\n",
    "\n",
    "*Integrantes*: \n",
    "- 103963\tCarolina Di Matteo\tcdimatteo@fi.uba.ar\n",
    "- 101231\tPablo Salvador Dimartino\tpdimartino@fi.uba.ar\n",
    "- 100113\tJuan Sebastian Burgos\tjsburgos@fi.uba.ar\n",
    "- 104415\tValentina Laura Correa\tvcorrea@fi.uba.ar\n",
    "\n",
    "*Grupo*: 14\n",
    "\n",
    "*Repositorio*: [github](https://github.com/valencorrea/7506R-2C2022-GRUPO14)\n",
    "\n",
    "*Curso*: Rodriguez\n",
    "\n",
    "*Cuatrimestre*: 2c2022\n",
    "______________________________________\n",
    "\n"
   ]
  },
  {
   "cell_type": "markdown",
   "metadata": {
    "id": "112riqhc5x7T"
   },
   "source": [
    "**Set Up**"
   ]
  },
  {
   "cell_type": "code",
   "execution_count": 1,
   "metadata": {
    "colab": {
     "base_uri": "https://localhost:8080/"
    },
    "id": "K9lC6pJTrHUb",
    "outputId": "b9a47bde-216d-44af-be1b-d711435b8581"
   },
   "outputs": [
    {
     "name": "stdout",
     "output_type": "stream",
     "text": [
      "Note: you may need to restart the kernel to use updated packages.\n"
     ]
    },
    {
     "name": "stderr",
     "output_type": "stream",
     "text": [
      "ERROR: Invalid requirement: \"'dtreeviz'\"\n"
     ]
    }
   ],
   "source": [
    "pip install 'dtreeviz'"
   ]
  },
  {
   "cell_type": "code",
   "execution_count": 2,
   "metadata": {
    "colab": {
     "base_uri": "https://localhost:8080/"
    },
    "id": "7w6NFIXYjFYH",
    "outputId": "c23f1f8d-899c-4ef9-f6b8-90c058e9860c"
   },
   "outputs": [],
   "source": [
    "#Importación de librerías\n",
    "import dtreeviz.trees as dtreeviz\n",
    "\n",
    "import numpy as np\n",
    "\n",
    "import matplotlib.pyplot as plt\n",
    "from matplotlib.ticker import PercentFormatter\n",
    "\n",
    "import pandas as pd\n",
    "\n",
    "import seaborn as sns\n",
    "\n",
    "import scipy as sc\n",
    "\n",
    "import sklearn as sk\n",
    "from sklearn.neighbors import LocalOutlierFactor\n",
    "from sklearn.preprocessing import StandardScaler, MinMaxScaler\n",
    "from sklearn.decomposition import PCA\n",
    "from sklearn.model_selection import StratifiedKFold, KFold, RandomizedSearchCV, train_test_split\n",
    "from sklearn import tree\n",
    "from sklearn.tree import DecisionTreeClassifier\n",
    "from sklearn.metrics import make_scorer, confusion_matrix, precision_recall_curve, roc_curve, recall_score, accuracy_score, f1_score\n",
    "\n",
    "#Configuración de Warnings\n",
    "import warnings\n",
    "warnings.filterwarnings('ignore')\n",
    "warnings.simplefilter(action='ignore', category=FutureWarning)\n",
    "warnings.simplefilter(action='ignore', category=UserWarning)\n",
    "\n",
    "#Ejecución con Drive\n",
    "#from google.colab import drive\n",
    "#drive.mount('/content/drive')\n",
    "#properati=pd.read_csv('/content/drive/MyDrive/📔 Organización de Datos (75.06)/TPS/TP1/properati_argentina_2021.csv')\n",
    "properati=pd.read_csv('properati_argentina_2021.csv')"
   ]
  },
  {
   "cell_type": "markdown",
   "metadata": {
    "id": "Q-pkcGlPiCCv"
   },
   "source": [
    "#  **1. Análisis Exploratorio y Preprocesamiento de Datos**"
   ]
  },
  {
   "cell_type": "markdown",
   "metadata": {
    "id": "hwR861Zpj4Wx"
   },
   "source": [
    "## **1a. Exploración Inicial**\n"
   ]
  },
  {
   "cell_type": "markdown",
   "metadata": {
    "id": "r1dijE9hlozX"
   },
   "source": [
    "A continuación se realizará un análisis general de cada una de las variables presentes en el dataframe."
   ]
  },
  {
   "cell_type": "code",
   "execution_count": 3,
   "metadata": {
    "colab": {
     "base_uri": "https://localhost:8080/"
    },
    "id": "KO5MyE1AXcTk",
    "outputId": "39ab38a4-b966-459c-b043-8e5d56a523f8"
   },
   "outputs": [
    {
     "data": {
      "text/plain": [
       "id                           object\n",
       "start_date                   object\n",
       "end_date                     object\n",
       "created_on                   object\n",
       "latitud                     float64\n",
       "longitud                    float64\n",
       "place_l2                     object\n",
       "place_l3                     object\n",
       "place_l4                     object\n",
       "place_l5                     object\n",
       "place_l6                    float64\n",
       "operation                    object\n",
       "property_type                object\n",
       "property_rooms              float64\n",
       "property_bedrooms           float64\n",
       "property_surface_total      float64\n",
       "property_surface_covered    float64\n",
       "property_price              float64\n",
       "property_currency            object\n",
       "property_title               object\n",
       "dtype: object"
      ]
     },
     "execution_count": 3,
     "metadata": {},
     "output_type": "execute_result"
    }
   ],
   "source": [
    "df = properati.copy()\n",
    "df.dtypes"
   ]
  },
  {
   "cell_type": "markdown",
   "metadata": {
    "id": "l4K7r5jnXcTm"
   },
   "source": [
    "Actualmente los únicos dos tipos de datos que tenemos son Float64 y Object.\n",
    "\n",
    "Viendo las primeras entradas, podemos observar que el tipo Object oculta fechas que se adecuan mejor al tipo de datos DateTime."
   ]
  },
  {
   "cell_type": "code",
   "execution_count": 4,
   "metadata": {
    "colab": {
     "base_uri": "https://localhost:8080/",
     "height": 357
    },
    "id": "eDp09StlXcTn",
    "outputId": "2a226435-b496-487e-cee9-421112ef7b0b"
   },
   "outputs": [
    {
     "data": {
      "text/html": [
       "<div>\n",
       "<style scoped>\n",
       "    .dataframe tbody tr th:only-of-type {\n",
       "        vertical-align: middle;\n",
       "    }\n",
       "\n",
       "    .dataframe tbody tr th {\n",
       "        vertical-align: top;\n",
       "    }\n",
       "\n",
       "    .dataframe thead th {\n",
       "        text-align: right;\n",
       "    }\n",
       "</style>\n",
       "<table border=\"1\" class=\"dataframe\">\n",
       "  <thead>\n",
       "    <tr style=\"text-align: right;\">\n",
       "      <th></th>\n",
       "      <th>id</th>\n",
       "      <th>start_date</th>\n",
       "      <th>end_date</th>\n",
       "      <th>created_on</th>\n",
       "      <th>latitud</th>\n",
       "      <th>longitud</th>\n",
       "      <th>place_l2</th>\n",
       "      <th>place_l3</th>\n",
       "      <th>place_l4</th>\n",
       "      <th>place_l5</th>\n",
       "      <th>place_l6</th>\n",
       "      <th>operation</th>\n",
       "      <th>property_type</th>\n",
       "      <th>property_rooms</th>\n",
       "      <th>property_bedrooms</th>\n",
       "      <th>property_surface_total</th>\n",
       "      <th>property_surface_covered</th>\n",
       "      <th>property_price</th>\n",
       "      <th>property_currency</th>\n",
       "      <th>property_title</th>\n",
       "    </tr>\n",
       "  </thead>\n",
       "  <tbody>\n",
       "    <tr>\n",
       "      <th>0</th>\n",
       "      <td>XZq2dFGxBiboHY3Bo/tqlw==</td>\n",
       "      <td>2021-09-09</td>\n",
       "      <td>2022-01-27</td>\n",
       "      <td>2021-09-09</td>\n",
       "      <td>-38.957632</td>\n",
       "      <td>-68.105443</td>\n",
       "      <td>Neuquén</td>\n",
       "      <td>NaN</td>\n",
       "      <td>NaN</td>\n",
       "      <td>NaN</td>\n",
       "      <td>NaN</td>\n",
       "      <td>Venta</td>\n",
       "      <td>Casa</td>\n",
       "      <td>6.0</td>\n",
       "      <td>NaN</td>\n",
       "      <td>NaN</td>\n",
       "      <td>206.0</td>\n",
       "      <td>NaN</td>\n",
       "      <td>NaN</td>\n",
       "      <td>Casa - Capital</td>\n",
       "    </tr>\n",
       "    <tr>\n",
       "      <th>1</th>\n",
       "      <td>8afoK+yMH/rnnlYiktwgNA==</td>\n",
       "      <td>2021-09-09</td>\n",
       "      <td>2021-10-23</td>\n",
       "      <td>2021-09-09</td>\n",
       "      <td>-34.888878</td>\n",
       "      <td>-56.092368</td>\n",
       "      <td>Montevideo</td>\n",
       "      <td>NaN</td>\n",
       "      <td>NaN</td>\n",
       "      <td>NaN</td>\n",
       "      <td>NaN</td>\n",
       "      <td>Venta</td>\n",
       "      <td>Casa</td>\n",
       "      <td>4.0</td>\n",
       "      <td>3.0</td>\n",
       "      <td>193.0</td>\n",
       "      <td>193.0</td>\n",
       "      <td>390000.0</td>\n",
       "      <td>USD</td>\n",
       "      <td>Casa - Malvín</td>\n",
       "    </tr>\n",
       "    <tr>\n",
       "      <th>2</th>\n",
       "      <td>iVaG5rBB47dd1Ya4BMXREA==</td>\n",
       "      <td>2021-09-09</td>\n",
       "      <td>2022-03-09</td>\n",
       "      <td>2021-09-09</td>\n",
       "      <td>-32.488717</td>\n",
       "      <td>-58.257499</td>\n",
       "      <td>Entre Ríos</td>\n",
       "      <td>NaN</td>\n",
       "      <td>NaN</td>\n",
       "      <td>NaN</td>\n",
       "      <td>NaN</td>\n",
       "      <td>Venta</td>\n",
       "      <td>Casa</td>\n",
       "      <td>NaN</td>\n",
       "      <td>NaN</td>\n",
       "      <td>110.0</td>\n",
       "      <td>45.0</td>\n",
       "      <td>47000.0</td>\n",
       "      <td>USD</td>\n",
       "      <td>Casa - Uruguay</td>\n",
       "    </tr>\n",
       "    <tr>\n",
       "      <th>3</th>\n",
       "      <td>QE1QVMWKAHWkd0qT0FtPWA==</td>\n",
       "      <td>2021-09-09</td>\n",
       "      <td>2022-01-27</td>\n",
       "      <td>2021-09-09</td>\n",
       "      <td>-34.900165</td>\n",
       "      <td>-54.808453</td>\n",
       "      <td>Maldonado</td>\n",
       "      <td>NaN</td>\n",
       "      <td>NaN</td>\n",
       "      <td>NaN</td>\n",
       "      <td>NaN</td>\n",
       "      <td>Venta</td>\n",
       "      <td>Casa</td>\n",
       "      <td>NaN</td>\n",
       "      <td>3.0</td>\n",
       "      <td>NaN</td>\n",
       "      <td>180.0</td>\n",
       "      <td>400000.0</td>\n",
       "      <td>USD</td>\n",
       "      <td>Casa - El Chorro</td>\n",
       "    </tr>\n",
       "    <tr>\n",
       "      <th>4</th>\n",
       "      <td>tJ5lSk7IysG/71OGhacNZA==</td>\n",
       "      <td>2021-09-09</td>\n",
       "      <td>2022-01-27</td>\n",
       "      <td>2021-09-09</td>\n",
       "      <td>-38.954528</td>\n",
       "      <td>-68.041862</td>\n",
       "      <td>Neuquén</td>\n",
       "      <td>NaN</td>\n",
       "      <td>NaN</td>\n",
       "      <td>NaN</td>\n",
       "      <td>NaN</td>\n",
       "      <td>Venta</td>\n",
       "      <td>PH</td>\n",
       "      <td>3.0</td>\n",
       "      <td>2.0</td>\n",
       "      <td>NaN</td>\n",
       "      <td>98.0</td>\n",
       "      <td>102000.0</td>\n",
       "      <td>USD</td>\n",
       "      <td>PH - Villa Farrell</td>\n",
       "    </tr>\n",
       "  </tbody>\n",
       "</table>\n",
       "</div>"
      ],
      "text/plain": [
       "                         id  start_date    end_date  created_on    latitud  \\\n",
       "0  XZq2dFGxBiboHY3Bo/tqlw==  2021-09-09  2022-01-27  2021-09-09 -38.957632   \n",
       "1  8afoK+yMH/rnnlYiktwgNA==  2021-09-09  2021-10-23  2021-09-09 -34.888878   \n",
       "2  iVaG5rBB47dd1Ya4BMXREA==  2021-09-09  2022-03-09  2021-09-09 -32.488717   \n",
       "3  QE1QVMWKAHWkd0qT0FtPWA==  2021-09-09  2022-01-27  2021-09-09 -34.900165   \n",
       "4  tJ5lSk7IysG/71OGhacNZA==  2021-09-09  2022-01-27  2021-09-09 -38.954528   \n",
       "\n",
       "    longitud    place_l2 place_l3 place_l4 place_l5  place_l6 operation  \\\n",
       "0 -68.105443     Neuquén      NaN      NaN      NaN       NaN     Venta   \n",
       "1 -56.092368  Montevideo      NaN      NaN      NaN       NaN     Venta   \n",
       "2 -58.257499  Entre Ríos      NaN      NaN      NaN       NaN     Venta   \n",
       "3 -54.808453   Maldonado      NaN      NaN      NaN       NaN     Venta   \n",
       "4 -68.041862     Neuquén      NaN      NaN      NaN       NaN     Venta   \n",
       "\n",
       "  property_type  property_rooms  property_bedrooms  property_surface_total  \\\n",
       "0          Casa             6.0                NaN                     NaN   \n",
       "1          Casa             4.0                3.0                   193.0   \n",
       "2          Casa             NaN                NaN                   110.0   \n",
       "3          Casa             NaN                3.0                     NaN   \n",
       "4            PH             3.0                2.0                     NaN   \n",
       "\n",
       "   property_surface_covered  property_price property_currency  \\\n",
       "0                     206.0             NaN               NaN   \n",
       "1                     193.0        390000.0               USD   \n",
       "2                      45.0         47000.0               USD   \n",
       "3                     180.0        400000.0               USD   \n",
       "4                      98.0        102000.0               USD   \n",
       "\n",
       "       property_title  \n",
       "0      Casa - Capital  \n",
       "1       Casa - Malvín  \n",
       "2      Casa - Uruguay  \n",
       "3    Casa - El Chorro  \n",
       "4  PH - Villa Farrell  "
      ]
     },
     "execution_count": 4,
     "metadata": {},
     "output_type": "execute_result"
    }
   ],
   "source": [
    "df.head()"
   ]
  },
  {
   "cell_type": "markdown",
   "metadata": {
    "id": "EJfy4bmhko-0"
   },
   "source": [
    "### Preparación de los datasets\n",
    "\n",
    "---"
   ]
  },
  {
   "cell_type": "markdown",
   "metadata": {
    "id": "z9CA-H7PwIHg"
   },
   "source": [
    "Aplicamos los filtros necesarios que figuran en los requerimientos, y cambiamos el dtype de las fechas a DateTime. \n",
    "\n",
    "Por otro lado, determinamos tanto el modelo a entrenar como el que usaremos para realizar las predicciones."
   ]
  },
  {
   "cell_type": "code",
   "execution_count": 5,
   "metadata": {
    "colab": {
     "base_uri": "https://localhost:8080/"
    },
    "id": "LlgRrurjqerq",
    "outputId": "e9d7d6c7-6e0d-4339-9788-0ca459e0ff89"
   },
   "outputs": [
    {
     "data": {
      "text/plain": [
       "['id',\n",
       " 'start_date',\n",
       " 'end_date',\n",
       " 'created_on',\n",
       " 'latitud',\n",
       " 'longitud',\n",
       " 'place_l2',\n",
       " 'place_l3',\n",
       " 'place_l4',\n",
       " 'place_l5',\n",
       " 'place_l6',\n",
       " 'property_type',\n",
       " 'property_rooms',\n",
       " 'property_bedrooms',\n",
       " 'property_surface_total',\n",
       " 'property_surface_covered',\n",
       " 'property_price']"
      ]
     },
     "execution_count": 5,
     "metadata": {},
     "output_type": "execute_result"
    }
   ],
   "source": [
    "df = df.loc[df['property_type'].isin([\"Casa\", \"PH\", \"Departamento\"])].loc[df['place_l2'].isin([\"Capital Federal\"])].loc[df['operation'].isin([\"Venta\"])].loc[df['property_currency'].isin([\"USD\"])]\n",
    "df['start_date']= pd.to_datetime(df['start_date'])\n",
    "df['created_on']= pd.to_datetime(df['created_on'])\n",
    "df.replace(to_replace=\"9999-12-31\", value=\"\", inplace=True)\n",
    "df['end_date']= pd.to_datetime(df['end_date'])\n",
    "df.drop(\"operation\", inplace=True, axis=1)\n",
    "df.drop(\"property_currency\", inplace=True, axis=1)\n",
    "df.drop(\"property_title\", inplace=True, axis=1)\n",
    "train = df.sample(frac=0.8, random_state=200)\n",
    "test = df.drop(train.index)\n",
    "df.columns.tolist()"
   ]
  },
  {
   "cell_type": "markdown",
   "metadata": {
    "id": "vw_ttu65v1NY"
   },
   "source": [
    "### Descripción de Campos\n",
    "\n",
    "---"
   ]
  },
  {
   "cell_type": "markdown",
   "metadata": {
    "id": "RMXCPaAtmOZb"
   },
   "source": [
    "`id`: Identificador del aviso\n",
    "\n",
    "`start_date`: Fecha de alta del aviso\n",
    "\n",
    "`end_date`: Fecha de baja del aviso\n",
    "\n",
    "`created_on`: Fecha de alta de la primera versión del aviso\n",
    "\n",
    "`latitud`: Ubicación geográfica\n",
    "\n",
    "`longitud`: Ubicación geográfica\n",
    "\n",
    "`place_l2`: Nivel administrativo 2, usualmente provincia\n",
    "\n",
    "`place_l3`: Nivel administrativo 3, usualmente ciudad\n",
    "\n",
    "`place_l4`: Nivel administrativo 4, usualmente barrio\n",
    "\n",
    "`place_l5`: Nivel administrativo 5\n",
    "\n",
    "`place_l6`: Nivel administrativo 6\n",
    "\n",
    "`operation`: Tipo de operación (venta, alquiler)\n",
    "\n",
    "`property_type`: Tipo de propiedad (casa, departamento, ph)\n",
    "\n",
    "`property_rooms`: Cantidad de ambientes\n",
    "\n",
    "`property_bedrooms`: Cantidad de dormitorios\n",
    "\n",
    "`property_surface_total`: Superficie total en metros cuadrados\n",
    "\n",
    "`property_surface_covered`: Superficie cubierta en metros cuadrados\n",
    "\n",
    "`property_price`: Precio publicado en el anuncio\n",
    "\n",
    "`property_currency`: Moneda del precio publicado\n",
    "\n",
    "`property_title`: Título del anuncio"
   ]
  },
  {
   "cell_type": "markdown",
   "metadata": {
    "id": "hRDAhfItwo-E"
   },
   "source": [
    "### Variables Cuantitativas: Medidas de Resumen\n",
    "\n",
    "---"
   ]
  },
  {
   "cell_type": "markdown",
   "metadata": {
    "id": "AIfeq7wxwuSO"
   },
   "source": [
    "Calculamos, para la totalidad de las variables que nos brinda el dataset:\n",
    "- media\n",
    "- mediana\n",
    "- q1\n",
    "- q3 \n",
    "- moda"
   ]
  },
  {
   "cell_type": "code",
   "execution_count": 6,
   "metadata": {
    "colab": {
     "base_uri": "https://localhost:8080/",
     "height": 270
    },
    "id": "roa6hM62oTVv",
    "outputId": "6381afe4-50d0-4215-ec8b-567e12aef1a8"
   },
   "outputs": [
    {
     "data": {
      "text/html": [
       "<div>\n",
       "<style scoped>\n",
       "    .dataframe tbody tr th:only-of-type {\n",
       "        vertical-align: middle;\n",
       "    }\n",
       "\n",
       "    .dataframe tbody tr th {\n",
       "        vertical-align: top;\n",
       "    }\n",
       "\n",
       "    .dataframe thead th {\n",
       "        text-align: right;\n",
       "    }\n",
       "</style>\n",
       "<table border=\"1\" class=\"dataframe\">\n",
       "  <thead>\n",
       "    <tr style=\"text-align: right;\">\n",
       "      <th></th>\n",
       "      <th>latitud</th>\n",
       "      <th>longitud</th>\n",
       "      <th>place_l5</th>\n",
       "      <th>place_l6</th>\n",
       "      <th>property_rooms</th>\n",
       "      <th>property_bedrooms</th>\n",
       "      <th>property_surface_total</th>\n",
       "      <th>property_surface_covered</th>\n",
       "      <th>property_price</th>\n",
       "    </tr>\n",
       "  </thead>\n",
       "  <tbody>\n",
       "    <tr>\n",
       "      <th>mean</th>\n",
       "      <td>-34.591481</td>\n",
       "      <td>-58.449795</td>\n",
       "      <td>NaN</td>\n",
       "      <td>NaN</td>\n",
       "      <td>2.822799</td>\n",
       "      <td>2.014629</td>\n",
       "      <td>109.092970</td>\n",
       "      <td>87.931932</td>\n",
       "      <td>226238.207185</td>\n",
       "    </tr>\n",
       "    <tr>\n",
       "      <th>25%</th>\n",
       "      <td>-34.615975</td>\n",
       "      <td>-58.466522</td>\n",
       "      <td>NaN</td>\n",
       "      <td>NaN</td>\n",
       "      <td>2.000000</td>\n",
       "      <td>1.000000</td>\n",
       "      <td>45.000000</td>\n",
       "      <td>40.000000</td>\n",
       "      <td>95000.000000</td>\n",
       "    </tr>\n",
       "    <tr>\n",
       "      <th>75%</th>\n",
       "      <td>-34.577413</td>\n",
       "      <td>-58.408862</td>\n",
       "      <td>NaN</td>\n",
       "      <td>NaN</td>\n",
       "      <td>4.000000</td>\n",
       "      <td>3.000000</td>\n",
       "      <td>105.000000</td>\n",
       "      <td>88.000000</td>\n",
       "      <td>237000.000000</td>\n",
       "    </tr>\n",
       "    <tr>\n",
       "      <th>std</th>\n",
       "      <td>0.181719</td>\n",
       "      <td>0.292630</td>\n",
       "      <td>NaN</td>\n",
       "      <td>NaN</td>\n",
       "      <td>1.426148</td>\n",
       "      <td>1.129767</td>\n",
       "      <td>980.401976</td>\n",
       "      <td>990.927129</td>\n",
       "      <td>318603.483648</td>\n",
       "    </tr>\n",
       "    <tr>\n",
       "      <th>median</th>\n",
       "      <td>-34.595790</td>\n",
       "      <td>-58.439000</td>\n",
       "      <td>NaN</td>\n",
       "      <td>NaN</td>\n",
       "      <td>3.000000</td>\n",
       "      <td>2.000000</td>\n",
       "      <td>65.000000</td>\n",
       "      <td>58.000000</td>\n",
       "      <td>143900.000000</td>\n",
       "    </tr>\n",
       "  </tbody>\n",
       "</table>\n",
       "</div>"
      ],
      "text/plain": [
       "          latitud   longitud  place_l5  place_l6  property_rooms  \\\n",
       "mean   -34.591481 -58.449795       NaN       NaN        2.822799   \n",
       "25%    -34.615975 -58.466522       NaN       NaN        2.000000   \n",
       "75%    -34.577413 -58.408862       NaN       NaN        4.000000   \n",
       "std      0.181719   0.292630       NaN       NaN        1.426148   \n",
       "median -34.595790 -58.439000       NaN       NaN        3.000000   \n",
       "\n",
       "        property_bedrooms  property_surface_total  property_surface_covered  \\\n",
       "mean             2.014629              109.092970                 87.931932   \n",
       "25%              1.000000               45.000000                 40.000000   \n",
       "75%              3.000000              105.000000                 88.000000   \n",
       "std              1.129767              980.401976                990.927129   \n",
       "median           2.000000               65.000000                 58.000000   \n",
       "\n",
       "        property_price  \n",
       "mean     226238.207185  \n",
       "25%       95000.000000  \n",
       "75%      237000.000000  \n",
       "std      318603.483648  \n",
       "median   143900.000000  "
      ]
     },
     "execution_count": 6,
     "metadata": {},
     "output_type": "execute_result"
    }
   ],
   "source": [
    "df.describe().loc[['mean', '25%', '75%', 'std']].append(df.median().rename(\"median\"))"
   ]
  },
  {
   "cell_type": "markdown",
   "metadata": {
    "id": "Gr9usESkxJ6D"
   },
   "source": [
    "### Variables Cualitativas: Cantidades y Frecuencias\n",
    "\n",
    "---"
   ]
  },
  {
   "cell_type": "markdown",
   "metadata": {
    "id": "P2KWW-GIk9GQ"
   },
   "source": [
    "Realizamos, para las variables `place_l3`, `place_l4` y `property_type` un cálculo de los diferentes valores así también como sus respectivas frecuencias."
   ]
  },
  {
   "cell_type": "code",
   "execution_count": 7,
   "metadata": {
    "colab": {
     "base_uri": "https://localhost:8080/"
    },
    "id": "TAlhDGhz2RZd",
    "outputId": "da2b7be8-9218-4c20-de77-a90ccbea7083"
   },
   "outputs": [
    {
     "name": "stdout",
     "output_type": "stream",
     "text": [
      "place_l3 tiene 57 valores diferentes\n"
     ]
    }
   ],
   "source": [
    "print(f\"place_l3 tiene {df.nunique()['place_l3']} valores diferentes\")"
   ]
  },
  {
   "cell_type": "code",
   "execution_count": 8,
   "metadata": {
    "colab": {
     "base_uri": "https://localhost:8080/",
     "height": 612
    },
    "id": "w4pZdqx3yzjl",
    "outputId": "61e46a66-0ba7-45cf-8084-2112b3d431a0"
   },
   "outputs": [
    {
     "data": {
      "text/plain": [
       "<AxesSubplot: >"
      ]
     },
     "execution_count": 8,
     "metadata": {},
     "output_type": "execute_result"
    },
    {
     "data": {
      "image/png": "[encoded data removed]",
      "text/plain": [
       "<Figure size 1500x800 with 1 Axes>"
      ]
     },
     "metadata": {},
     "output_type": "display_data"
    }
   ],
   "source": [
    "fig, ax = plt.subplots()\n",
    "df['place_l3'].value_counts().plot(ax=ax, kind='bar', figsize=(15,8), fontsize=12)"
   ]
  },
  {
   "cell_type": "code",
   "execution_count": 9,
   "metadata": {
    "colab": {
     "base_uri": "https://localhost:8080/"
    },
    "id": "u0NU6YMi2UhW",
    "outputId": "2a4c2375-47f8-4cb6-c692-e0cf845b91ff"
   },
   "outputs": [
    {
     "name": "stdout",
     "output_type": "stream",
     "text": [
      "place_l4 tiene 4 valores diferentes\n"
     ]
    }
   ],
   "source": [
    "print(f\"place_l4 tiene {df.nunique()['place_l4']} valores diferentes\")"
   ]
  },
  {
   "cell_type": "code",
   "execution_count": 10,
   "metadata": {
    "colab": {
     "base_uri": "https://localhost:8080/",
     "height": 282
    },
    "id": "FMlRKspx1RLH",
    "outputId": "dbc0a43e-52f6-4486-8288-72be44c7a3bd"
   },
   "outputs": [
    {
     "data": {
      "text/plain": [
       "<AxesSubplot: >"
      ]
     },
     "execution_count": 10,
     "metadata": {},
     "output_type": "execute_result"
    },
    {
     "data": {
      "image/png": "[encoded data removed]",
      "text/plain": [
       "<Figure size 640x480 with 1 Axes>"
      ]
     },
     "metadata": {},
     "output_type": "display_data"
    }
   ],
   "source": [
    "df['place_l4'].hist()"
   ]
  },
  {
   "cell_type": "code",
   "execution_count": 11,
   "metadata": {
    "colab": {
     "base_uri": "https://localhost:8080/",
     "height": 282
    },
    "id": "QM7Edif4ztMO",
    "outputId": "3579ebbf-a74e-4df3-d718-bc472bfb09a9"
   },
   "outputs": [
    {
     "data": {
      "text/plain": [
       "<AxesSubplot: >"
      ]
     },
     "execution_count": 11,
     "metadata": {},
     "output_type": "execute_result"
    },
    {
     "data": {
      "image/png": "[encoded data removed]",
      "text/plain": [
       "<Figure size 640x480 with 1 Axes>"
      ]
     },
     "metadata": {},
     "output_type": "display_data"
    }
   ],
   "source": [
    "df['property_type'].hist()"
   ]
  },
  {
   "cell_type": "code",
   "execution_count": 12,
   "metadata": {
    "colab": {
     "base_uri": "https://localhost:8080/"
    },
    "id": "Q66WQYjz2Xok",
    "outputId": "dbc38c81-8392-43c2-ab70-e9f2d4841e1a"
   },
   "outputs": [
    {
     "name": "stdout",
     "output_type": "stream",
     "text": [
      "property_type tiene 3 valores diferentes\n"
     ]
    }
   ],
   "source": [
    "print(f\"property_type tiene {df.nunique()['property_type']} valores diferentes\")"
   ]
  },
  {
   "cell_type": "markdown",
   "metadata": {
    "id": "4bQXzkhg4ipf"
   },
   "source": [
    "### Determinación de Variables Irrelevantes\n",
    "\n",
    "---"
   ]
  },
  {
   "cell_type": "markdown",
   "metadata": {
    "id": "OihHviLu2dV7"
   },
   "source": [
    "Finalmente, podremos decir que dejamos fuera de este análisis particular a las a las siguientes variables que detallamos a continuación:\n",
    "\n",
    "- `operation`: Sólo hay un tipo de operación según lo solicitado en la consigna y es \"Venta\", con lo cual la consideramos irrelevante en el análisis.\n",
    "- `property_currency`: Sólo hay un tipo de cambio según lo solicitado en la consigna y es \"USD\", con lo cual la consideramos irrelevante en el análisis.\n",
    "- `place_l5`: De analizar previamente el dataset con el cual estamos trabajando, detectamos que la columna en cuestión se encuentra vacía, con lo cual la consideramos irrelevante en el análisis.\n",
    "- `place_l6`: De analizar previamente el dataset con el cual estamos trabajando, detectamos que la columna en cuestión se encuentra vacía, con lo cual la consideramos irrelevante en el análisis.\n",
    "- `property_title`: De conocer previamente la información que contiene el dataset, sabemos que la variable en cuestión almacena un único título por publicación, con lo cual la consideramos irrelevante en el análisis."
   ]
  },
  {
   "cell_type": "markdown",
   "metadata": {
    "id": "qvKggsaWB3Y9"
   },
   "source": [
    "### Análisis Gráfico de las Distribuciones de las Variables\n",
    "\n",
    "---\n",
    "\n"
   ]
  },
  {
   "cell_type": "markdown",
   "metadata": {
    "id": "CwrHylmo4v5W"
   },
   "source": [
    "#### Densidad de la variable `latitud`"
   ]
  },
  {
   "cell_type": "code",
   "execution_count": 13,
   "metadata": {
    "colab": {
     "base_uri": "https://localhost:8080/",
     "height": 296
    },
    "id": "hR9T5l7EB2yj",
    "outputId": "d3ac161a-711a-4406-a8d9-264e4295ee80"
   },
   "outputs": [
    {
     "data": {
      "text/plain": [
       "<AxesSubplot: xlabel='latitud', ylabel='Density'>"
      ]
     },
     "execution_count": 13,
     "metadata": {},
     "output_type": "execute_result"
    },
    {
     "data": {
      "image/png": "[encoded data removed]",
      "text/plain": [
       "<Figure size 640x480 with 1 Axes>"
      ]
     },
     "metadata": {},
     "output_type": "display_data"
    }
   ],
   "source": [
    "sns.kdeplot(data=df.latitud, gridsize=70)"
   ]
  },
  {
   "cell_type": "markdown",
   "metadata": {
    "id": "uvKB4TpJ40N3"
   },
   "source": [
    "#### Densidad de la variable `longitud`"
   ]
  },
  {
   "cell_type": "code",
   "execution_count": 14,
   "metadata": {
    "colab": {
     "base_uri": "https://localhost:8080/",
     "height": 296
    },
    "id": "E7CNCSjBOklg",
    "outputId": "2771bb61-e2c6-49c1-a733-c23ac8b9a403"
   },
   "outputs": [
    {
     "data": {
      "text/plain": [
       "<AxesSubplot: xlabel='longitud', ylabel='Density'>"
      ]
     },
     "execution_count": 14,
     "metadata": {},
     "output_type": "execute_result"
    },
    {
     "data": {
      "image/png": "[encoded data removed]",
      "text/plain": [
       "<Figure size 640x480 with 1 Axes>"
      ]
     },
     "metadata": {},
     "output_type": "display_data"
    }
   ],
   "source": [
    "sns.kdeplot(data=df.longitud, gridsize=30)\n"
   ]
  },
  {
   "cell_type": "markdown",
   "metadata": {
    "id": "uJY4CRZl5J5k"
   },
   "source": [
    "#### Densidad de la variable `property_price`"
   ]
  },
  {
   "cell_type": "code",
   "execution_count": 15,
   "metadata": {
    "colab": {
     "base_uri": "https://localhost:8080/",
     "height": 308
    },
    "id": "HcH2_gnOOmh3",
    "outputId": "a21dbe22-eff6-48e8-ff0e-db3643a12e36"
   },
   "outputs": [
    {
     "data": {
      "text/plain": [
       "<AxesSubplot: xlabel='property_price', ylabel='Density'>"
      ]
     },
     "execution_count": 15,
     "metadata": {},
     "output_type": "execute_result"
    },
    {
     "data": {
      "image/png": "[encoded data removed]",
      "text/plain": [
       "<Figure size 640x480 with 1 Axes>"
      ]
     },
     "metadata": {},
     "output_type": "display_data"
    }
   ],
   "source": [
    "sns.kdeplot(data=df.property_price, gridsize=15)\n"
   ]
  },
  {
   "cell_type": "markdown",
   "metadata": {
    "id": "okhaOan15OYp"
   },
   "source": [
    "#### Densidad de la variable `property_rooms`"
   ]
  },
  {
   "cell_type": "code",
   "execution_count": 16,
   "metadata": {
    "colab": {
     "base_uri": "https://localhost:8080/",
     "height": 297
    },
    "id": "9h2fzjdCPYXK",
    "outputId": "c8565f6f-d903-4f3b-fd34-03b4033d753a"
   },
   "outputs": [
    {
     "data": {
      "text/plain": [
       "<AxesSubplot: xlabel='property_rooms', ylabel='count'>"
      ]
     },
     "execution_count": 16,
     "metadata": {},
     "output_type": "execute_result"
    },
    {
     "data": {
      "image/png": "[encoded data removed]",
      "text/plain": [
       "<Figure size 640x480 with 1 Axes>"
      ]
     },
     "metadata": {},
     "output_type": "display_data"
    }
   ],
   "source": [
    "sns.countplot(x=df['property_rooms'].dropna().astype('int32'))"
   ]
  },
  {
   "cell_type": "markdown",
   "metadata": {
    "id": "2eCIdUAH5S7v"
   },
   "source": [
    "#### Densidad de la variable `property_surface_covered`"
   ]
  },
  {
   "cell_type": "code",
   "execution_count": 17,
   "metadata": {
    "colab": {
     "base_uri": "https://localhost:8080/",
     "height": 308
    },
    "id": "85vZd9YQO-jP",
    "outputId": "eab4a89f-11be-4ca3-b815-4d3c1b44774a"
   },
   "outputs": [
    {
     "data": {
      "text/plain": [
       "<AxesSubplot: xlabel='property_surface_covered', ylabel='Density'>"
      ]
     },
     "execution_count": 17,
     "metadata": {},
     "output_type": "execute_result"
    },
    {
     "data": {
      "image/png": "[encoded data removed]",
      "text/plain": [
       "<Figure size 640x480 with 1 Axes>"
      ]
     },
     "metadata": {},
     "output_type": "display_data"
    }
   ],
   "source": [
    "sns.kdeplot(data=df.property_surface_covered, gridsize=3)\n"
   ]
  },
  {
   "cell_type": "markdown",
   "metadata": {
    "id": "a2UxzMy1Byn_"
   },
   "source": [
    "### Análisis de las Correlaciones existentes entre las Variables\n",
    "\n",
    "---"
   ]
  },
  {
   "cell_type": "code",
   "execution_count": 18,
   "metadata": {
    "id": "ZKjqGi6LkZku"
   },
   "outputs": [],
   "source": [
    "df.drop([\"place_l5\", \"place_l6\"], axis = 1, inplace = True)"
   ]
  },
  {
   "cell_type": "code",
   "execution_count": null,
   "metadata": {
    "colab": {
     "base_uri": "https://localhost:8080/",
     "height": 858
    },
    "id": "DHSQHXNUXKLb",
    "outputId": "ae5f2ca2-4b21-4e21-bc4d-bb91db642c5c"
   },
   "outputs": [],
   "source": [
    "columns = df.columns.tolist()\n",
    "df_pariplot = df[columns].copy()\n",
    "# graf_pairplot = sns.pairplot(data=df_pariplot, hue=\"property_type\", palette=[\"r\", \"g\", \"b\"])"
   ]
  },
  {
   "cell_type": "markdown",
   "metadata": {
    "id": "spbOuJjNlmFq"
   },
   "source": [
    "## **1b. Datos Faltantes**"
   ]
  },
  {
   "cell_type": "markdown",
   "metadata": {
    "id": "np2LPbxuu6B4"
   },
   "source": [
    "A continuación se realizara un análisis sobre los datos faltantes del dataframe."
   ]
  },
  {
   "cell_type": "markdown",
   "metadata": {
    "id": "Q4IEPQPQesHo"
   },
   "source": [
    "Creamos una copia del dataset hasta el momento para comparar más adelante."
   ]
  },
  {
   "cell_type": "code",
   "execution_count": null,
   "metadata": {
    "id": "3xELARLUesHo"
   },
   "outputs": [],
   "source": [
    "df_copy = df.copy()"
   ]
  },
  {
   "cell_type": "markdown",
   "metadata": {
    "id": "lbfYKgJs9f1f"
   },
   "source": [
    "### Análisis a Nivel Columna\n",
    "\n",
    "---\n",
    "\n"
   ]
  },
  {
   "cell_type": "markdown",
   "metadata": {
    "id": "hq7Ta0_-_zao"
   },
   "source": [
    "Graficamos, para cada variable, el porcentaje (diferente de cero) de datos faltantes con respecto al total del dataset en escala logarítmica."
   ]
  },
  {
   "cell_type": "code",
   "execution_count": null,
   "metadata": {
    "colab": {
     "base_uri": "https://localhost:8080/",
     "height": 402
    },
    "id": "jW7CezP1_JS6",
    "outputId": "64a2bdc1-3d30-4d80-eb09-efd5efc8a9d6"
   },
   "outputs": [],
   "source": [
    "fig, ax = plt.subplots()\n",
    "ax.set_yscale('log')\n",
    "ax.yaxis.set_major_formatter(PercentFormatter())\n",
    "(df.isnull().sum() * 100 / len(df)).replace(0,np.nan).dropna(axis=0,how=\"all\").plot(ax=ax, kind='bar')"
   ]
  },
  {
   "cell_type": "markdown",
   "metadata": {
    "id": "DbhApc81_7dM"
   },
   "source": [
    "### Análisis a Nivel Fila\n",
    "\n",
    "---\n",
    "\n"
   ]
  },
  {
   "cell_type": "markdown",
   "metadata": {
    "id": "jheKR6Asj0ua"
   },
   "source": [
    "Graficamos el porcentaje de filas con n datos faltantes con respecto al total del dataset."
   ]
  },
  {
   "cell_type": "code",
   "execution_count": null,
   "metadata": {
    "colab": {
     "base_uri": "https://localhost:8080/",
     "height": 280
    },
    "id": "uMghBTBKA0WZ",
    "outputId": "235354e6-698c-4e64-ccc4-b0245080bb23"
   },
   "outputs": [],
   "source": [
    "fig, ax = plt.subplots()\n",
    "ax.set_yscale('log')\n",
    "ax.yaxis.set_major_formatter(PercentFormatter(decimals=3))\n",
    "(df.isnull().sum(axis=1).value_counts().sort_index() * 100 / len(df)).plot(ax=ax, kind='bar')"
   ]
  },
  {
   "cell_type": "markdown",
   "metadata": {
    "id": "0q6ERteJjxdz"
   },
   "source": [
    "### Reparación de Valores Faltantes\n",
    "\n",
    "---\n",
    "\n"
   ]
  },
  {
   "cell_type": "markdown",
   "metadata": {
    "id": "K89jrcMrkaiu"
   },
   "source": [
    "A continuación se detallan posibles estrategias para reparar los valores faltantes del dataset."
   ]
  },
  {
   "cell_type": "markdown",
   "metadata": {
    "id": "hEATXRqcXcT3"
   },
   "source": [
    "Reemplazamos las locaciones no definidas por el nivel superior"
   ]
  },
  {
   "cell_type": "code",
   "execution_count": null,
   "metadata": {
    "id": "aIx-73J1XcT3"
   },
   "outputs": [],
   "source": [
    "df.place_l3.fillna(df.place_l2, inplace=True)\n",
    "df.place_l4.fillna(df.place_l3, inplace=True)"
   ]
  },
  {
   "cell_type": "markdown",
   "metadata": {
    "id": "k7akSY6CXcT3"
   },
   "source": [
    "Reemplazamos la cantidad de dormitorios no definidos por la media calculada filtrando por cantidad total de habitaciones.\n"
   ]
  },
  {
   "cell_type": "code",
   "execution_count": null,
   "metadata": {
    "id": "-IZkF60XXcT3"
   },
   "outputs": [],
   "source": [
    "cant = df.loc[(df['property_bedrooms'].isna()) & (df['property_rooms'].notna())].property_rooms.value_counts().index.values\n",
    "\n",
    "for i in cant:\n",
    "    median = df.loc[(df['property_bedrooms'].notna()) & (df['property_rooms'] == i)].property_bedrooms.median()\n",
    "    df.loc[(df['property_bedrooms'].isna()) & (df[\"property_rooms\"] == i), \"property_bedrooms\"] = df.loc[(df['property_bedrooms'].isna()) & (df[\"property_rooms\"] == i), \"property_bedrooms\"].fillna(median)\n"
   ]
  },
  {
   "cell_type": "markdown",
   "metadata": {
    "id": "Fb7BxQmYXcT4"
   },
   "source": [
    "Luego reemplazamos la cantidad total de habitaciones no definidas por la media calculada filtrando por cantidad de dormitorios.\n",
    "\n",
    "Esto redujo el porcentaje de valores no definidos para los dormitorios y habitaciones a menos de 1%, desde 10% y 1,5% respectivamente."
   ]
  },
  {
   "cell_type": "code",
   "execution_count": null,
   "metadata": {
    "colab": {
     "base_uri": "https://localhost:8080/",
     "height": 402
    },
    "id": "Su6ZSNH2XcT4",
    "outputId": "32840ffc-2f2b-4c9e-d46b-15daab5c2539",
    "scrolled": false
   },
   "outputs": [],
   "source": [
    "cant = df.loc[(df['property_rooms'].isna()) & (df['property_bedrooms'].notna())].property_bedrooms.value_counts().index.values\n",
    "\n",
    "for i in cant:\n",
    "    median = df.loc[(df['property_rooms'].notna()) & (df['property_bedrooms'] == i)].property_rooms.median()\n",
    "    df.loc[(df['property_rooms'].isna()) & (df[\"property_bedrooms\"] == i), \"property_rooms\"] = df.loc[(df['property_rooms'].isna()) & (df[\"property_bedrooms\"] == i), \"property_rooms\"].fillna(median)\n",
    "    \n",
    "fig, ax = plt.subplots()\n",
    "ax.yaxis.set_major_formatter(PercentFormatter())\n",
    "(df.isnull().sum() * 100 / len(df)).replace(0,np.nan).dropna(axis=0,how=\"all\").plot(ax=ax, kind='bar')\n"
   ]
  },
  {
   "cell_type": "markdown",
   "metadata": {
    "id": "jO4Y_Ib7XcT4"
   },
   "source": [
    "Cuando se tiene la superficie total pero no la cubierta o viceversa, reemplazamos los valores faltantes con su contraparte"
   ]
  },
  {
   "cell_type": "code",
   "execution_count": null,
   "metadata": {
    "colab": {
     "base_uri": "https://localhost:8080/",
     "height": 369
    },
    "id": "_WzR-_KPXcT4",
    "outputId": "05af1ec8-0268-415c-c905-3bd5de9e2a42",
    "scrolled": false
   },
   "outputs": [],
   "source": [
    "df.property_surface_total.fillna(df.property_surface_covered, inplace=True)\n",
    "df.property_surface_covered.fillna(df.property_surface_total, inplace=True)\n",
    "\n",
    "fig, ax = plt.subplots()\n",
    "ax.yaxis.set_major_formatter(PercentFormatter())\n",
    "(df.isnull().sum() * 100 / len(df)).replace(0,np.nan).dropna(axis=0,how=\"all\").plot(ax=ax, kind='bar')"
   ]
  },
  {
   "cell_type": "code",
   "execution_count": null,
   "metadata": {
    "colab": {
     "base_uri": "https://localhost:8080/",
     "height": 282
    },
    "id": "KLVPdUGHesHr",
    "outputId": "c33fe0c0-0fdc-4c1c-e2f3-00b648d2680c"
   },
   "outputs": [],
   "source": [
    "df.loc[df[\"place_l4\"] == \"Palermo\"].latitud.plot.density(color = \"red\")\n",
    "for barrio in df[\"place_l4\"].unique() :\n",
    "    lat_median = df.loc[(df[\"place_l4\"] == barrio) & (df['latitud'].notna()) ].latitud.median()\n",
    "    df.loc[(df[\"place_l4\"] == barrio) & (df['latitud'].isna()), \"latitud\"] = df.loc[(df[\"place_l4\"] == barrio) & (df['latitud'].isna()), \"latitud\"].fillna(lat_median)\n",
    "\n",
    "df.loc[df[\"place_l4\"] == \"Palermo\"].latitud.plot.density(color = \"green\")"
   ]
  },
  {
   "cell_type": "code",
   "execution_count": null,
   "metadata": {
    "colab": {
     "base_uri": "https://localhost:8080/",
     "height": 282
    },
    "id": "ygwyi2eFesHr",
    "outputId": "13bcdacf-314b-4334-f38f-dd0f46fd61db",
    "scrolled": true
   },
   "outputs": [],
   "source": [
    "df.loc[df[\"place_l4\"] == \"Palermo\"].longitud.plot.density(color = \"red\")\n",
    "for barrio in df[\"place_l4\"].unique() :\n",
    "    long_median = df.loc[(df[\"place_l4\"] == barrio) & (df['longitud'].notna())].longitud.median()\n",
    "    df.loc[(df[\"place_l4\"] == barrio) & (df['longitud'].isna()), \"longitud\"] = df.loc[(df[\"place_l4\"] == barrio) & (df['longitud'].isna()), \"longitud\"].fillna(long_median)\n",
    "    \n",
    "df.loc[df[\"place_l4\"] == \"Palermo\"].longitud.plot.density(color = \"green\")"
   ]
  },
  {
   "cell_type": "code",
   "execution_count": null,
   "metadata": {
    "colab": {
     "base_uri": "https://localhost:8080/",
     "height": 402
    },
    "id": "zZbi7wSnesHs",
    "outputId": "ffce6a1b-747b-4339-faa5-1729d4ed9a56"
   },
   "outputs": [],
   "source": [
    "fig, ax = plt.subplots()\n",
    "ax.set_yscale('log')\n",
    "ax.yaxis.set_major_formatter(PercentFormatter())\n",
    "(df_copy.isnull().sum() * 100 / len(df_copy)).replace(0,np.nan).dropna(axis=0,how=\"all\").plot(ax=ax, kind='bar', color=\"red\", zorder=0)"
   ]
  },
  {
   "cell_type": "code",
   "execution_count": null,
   "metadata": {
    "colab": {
     "base_uri": "https://localhost:8080/",
     "height": 369
    },
    "id": "mtCk0iiMesHs",
    "outputId": "e6261484-13d1-4f0b-f173-1c8952866f91"
   },
   "outputs": [],
   "source": [
    "fig, ax = plt.subplots()\n",
    "ax.yaxis.set_major_formatter(PercentFormatter())\n",
    "(df.isnull().sum() * 100 / len(df)).replace(0,np.nan).dropna(axis=0,how=\"all\").plot(ax=ax, kind='bar', color=\"green\", zorder=1)"
   ]
  },
  {
   "cell_type": "markdown",
   "metadata": {
    "id": "uMQ3wbPYl63N"
   },
   "source": [
    "## **1c. Valores atípicos**"
   ]
  },
  {
   "cell_type": "markdown",
   "metadata": {
    "id": "tka5n3H2lieQ"
   },
   "source": [
    "A continuación se realizara un análisis sobre los valores atípicos presentes en el dataframe. En la totalidad del dataset logramos detectar outliers tanto univariados (presentes en una unica variable) como multivariados (se encuentran en un espacio n-dimensional)."
   ]
  },
  {
   "cell_type": "markdown",
   "metadata": {
    "id": "EqszohR2zpv0"
   },
   "source": [
    "### Outliers univariados\n",
    "\n",
    "---"
   ]
  },
  {
   "cell_type": "markdown",
   "metadata": {
    "id": "DmGYmivrVhbC"
   },
   "source": [
    "Para el análisis de outliers de tipo univariados estaremos utilizando tanto el método de Box Plot como los métodos de Z-Score y Z-Score Modificado.\n",
    "\n",
    "Mientras que el primero nos brindará información respecto de los topes superiores e inferiores de los cuartiles Q3 y Q1 respectivamente, los gráficos de Z-Score y Z-Score modificado nos permitirán visualizar de forma eficiente cómo se distribuye la masa de observaciones respecto de la media, y -por tanto- poder determinar de forma más precisa cuáles son los valores atípicos.\n",
    "\n",
    "Por último, podremos destacar cuáles son las características de los valores en cuestión pudiendo clasificar los mismos en: global, contextual y colectivo."
   ]
  },
  {
   "cell_type": "markdown",
   "metadata": {
    "id": "bqiL3eGYy2Qh"
   },
   "source": [
    "#### Property rooms"
   ]
  },
  {
   "cell_type": "markdown",
   "metadata": {
    "id": "fHLfYF6Omlly"
   },
   "source": [
    "##### Box plot"
   ]
  },
  {
   "cell_type": "code",
   "execution_count": null,
   "metadata": {
    "colab": {
     "base_uri": "https://localhost:8080/",
     "height": 252
    },
    "id": "oGoAYUuZyy3i",
    "outputId": "bc47718c-e0c0-4e87-a016-47560357867c"
   },
   "outputs": [],
   "source": [
    "sns.boxplot(y=df.property_rooms)\n",
    "plt.show()"
   ]
  },
  {
   "cell_type": "code",
   "execution_count": null,
   "metadata": {
    "colab": {
     "base_uri": "https://localhost:8080/"
    },
    "id": "14wdDBSN0Hex",
    "outputId": "09cccc50-9d9d-400e-e3ab-8a8c290463c3"
   },
   "outputs": [],
   "source": [
    "Q1_property_rooms=df.describe().get(\"property_rooms\").get(\"25%\")\n",
    "Q3_property_rooms=df.describe().get(\"property_rooms\").get(\"75%\")\n",
    "\n",
    "print(\"El valor de Q1 es:\", Q1_property_rooms)\n",
    "print(\"El valor de Q3 es:\", Q3_property_rooms)\n",
    "\n",
    "IQR_property_rooms=Q3_property_rooms-Q1_property_rooms\n",
    "\n",
    "out_inf=Q1_property_rooms-1.5*IQR_property_rooms\n",
    "out_sup=Q3_property_rooms+1.5*IQR_property_rooms\n",
    "print(\"El limite inferior del Q1 es:\", out_inf)\n",
    "print(\"El limite superior del Q3 es:\", out_sup)"
   ]
  },
  {
   "cell_type": "markdown",
   "metadata": {
    "id": "MMVhTNsrmo7R"
   },
   "source": [
    "##### Z-Score"
   ]
  },
  {
   "cell_type": "code",
   "execution_count": null,
   "metadata": {
    "id": "3NMvnrOn3JnA"
   },
   "outputs": [],
   "source": [
    "media_rooms=np.mean(df.property_rooms)\n",
    "std_rooms=np.std(df.property_rooms)\n",
    "df['z_rooms']=(df.property_rooms - media_rooms)/std_rooms"
   ]
  },
  {
   "cell_type": "markdown",
   "metadata": {
    "id": "lkvoW1wS9p7d"
   },
   "source": [
    "Estudiamos si existen datos para el método de Z-Score utilizando la regla de oro (|Z|>3)."
   ]
  },
  {
   "cell_type": "code",
   "execution_count": null,
   "metadata": {
    "colab": {
     "base_uri": "https://localhost:8080/",
     "height": 461
    },
    "id": "EFK5SClm30fL",
    "outputId": "815d0c0f-73df-45dd-f142-a8e89c9570cc"
   },
   "outputs": [],
   "source": [
    "df[df['z_rooms']>3].head()"
   ]
  },
  {
   "cell_type": "code",
   "execution_count": null,
   "metadata": {
    "colab": {
     "base_uri": "https://localhost:8080/",
     "height": 113
    },
    "id": "1ZqQuyN239ch",
    "outputId": "55a715a3-4533-4eb6-90ad-49fca6a75689"
   },
   "outputs": [],
   "source": [
    "df[df['z_rooms']<-3].head()"
   ]
  },
  {
   "cell_type": "code",
   "execution_count": null,
   "metadata": {
    "colab": {
     "base_uri": "https://localhost:8080/",
     "height": 294
    },
    "id": "reIPSjCn4YSX",
    "outputId": "0b945a4b-ed78-4f3a-f03c-b007f16f9086"
   },
   "outputs": [],
   "source": [
    "plt.hist(df.z_rooms, bins=20, range=(-2,6))\n",
    "plt.title('Histograma Z-Score Rooms')\n",
    "plt.xlabel('Z-Score Rooms')\n",
    "plt.show()"
   ]
  },
  {
   "cell_type": "markdown",
   "metadata": {
    "id": "KVhtCn-vmrDk"
   },
   "source": [
    "##### Z-Score Modificado"
   ]
  },
  {
   "cell_type": "code",
   "execution_count": null,
   "metadata": {
    "id": "S_9vzJSv3eQ9"
   },
   "outputs": [],
   "source": [
    "mediana_room=np.nanmedian(df.property_rooms)\n",
    "\n",
    "MAD=np.nanmedian(np.absolute(df.property_rooms-mediana_room))\n",
    "\n",
    "df['zm_rooms']=(df.property_rooms - mediana_room)*0.6745/MAD"
   ]
  },
  {
   "cell_type": "markdown",
   "metadata": {
    "id": "ugjG4d-p-I64"
   },
   "source": [
    "Estudiamos si existen datos para el método de Z-Score Modificado utilizando la regla de oro (|Z|>3.5)."
   ]
  },
  {
   "cell_type": "code",
   "execution_count": null,
   "metadata": {
    "colab": {
     "base_uri": "https://localhost:8080/",
     "height": 478
    },
    "id": "TYhesN1X44n0",
    "outputId": "967fcef0-bd2d-423e-8177-b2bcefa962a8"
   },
   "outputs": [],
   "source": [
    "df[(df['zm_rooms']>3.5)].head()"
   ]
  },
  {
   "cell_type": "code",
   "execution_count": null,
   "metadata": {
    "colab": {
     "base_uri": "https://localhost:8080/",
     "height": 113
    },
    "id": "dCB1gZHh4_fK",
    "outputId": "509ac516-ae93-4136-f393-d5d7b45f6b2d"
   },
   "outputs": [],
   "source": [
    "df[(df['zm_rooms']<-3.5)].head()"
   ]
  },
  {
   "cell_type": "code",
   "execution_count": null,
   "metadata": {
    "colab": {
     "base_uri": "https://localhost:8080/",
     "height": 294
    },
    "id": "y3nngO0HVms0",
    "outputId": "4ad9ee67-04cc-4416-a7d9-24da50901cf0"
   },
   "outputs": [],
   "source": [
    "plt.hist(df.zm_rooms, bins=50, range=(-2,6))\n",
    "plt.title('Histograma Z-Score Modificado Rooms')\n",
    "plt.xlabel('Z-Score Modificado Rooms')\n",
    "plt.show()"
   ]
  },
  {
   "cell_type": "markdown",
   "metadata": {
    "id": "cmPjvnVDhvWi"
   },
   "source": [
    "##### Características"
   ]
  },
  {
   "cell_type": "markdown",
   "metadata": {
    "id": "cRu2mBWKh0Zs"
   },
   "source": [
    "Del análisis de los 3 gráficos previamente presentados, podemos concluir que, puesto que existe una gran masa conjunta de observaciones que superan el límite superior del tercer cuartil, podríamos decir que los outliers en cuestión son del tipo colectivo."
   ]
  },
  {
   "cell_type": "markdown",
   "metadata": {
    "id": "TsWBLuvVy-YK"
   },
   "source": [
    "#### Property bedrooms"
   ]
  },
  {
   "cell_type": "markdown",
   "metadata": {
    "id": "KiJLnkY_Rpyi"
   },
   "source": [
    " ##### Box plot\n"
   ]
  },
  {
   "cell_type": "code",
   "execution_count": null,
   "metadata": {
    "colab": {
     "base_uri": "https://localhost:8080/",
     "height": 252
    },
    "id": "JLkz5m6HrAoP",
    "outputId": "acbd70ee-2b36-455a-ae2d-124450728248"
   },
   "outputs": [],
   "source": [
    "sns.boxplot(y=df.property_bedrooms)\n",
    "plt.show()"
   ]
  },
  {
   "cell_type": "code",
   "execution_count": null,
   "metadata": {
    "colab": {
     "base_uri": "https://localhost:8080/"
    },
    "id": "6iH1LhJKzEPs",
    "outputId": "486e7a80-4f2b-4e72-c8b9-165934fccbad"
   },
   "outputs": [],
   "source": [
    "Q1_property_bedrooms=df.describe().get(\"property_bedrooms\").get(\"25%\")\n",
    "Q3_property_bedrooms=df.describe().get(\"property_bedrooms\").get(\"75%\")\n",
    "\n",
    "print(\"El valor de Q1 es:\", Q1_property_bedrooms)\n",
    "print(\"El valor de Q3 es:\", Q3_property_bedrooms)\n",
    "\n",
    "IQR_property_bedrooms=Q3_property_bedrooms-Q1_property_bedrooms\n",
    "\n",
    "out_inf=Q1_property_bedrooms-1.5*IQR_property_bedrooms\n",
    "out_sup=Q3_property_bedrooms+1.5*IQR_property_bedrooms\n",
    "print(\"El limite inferior del Q1 es:\", out_inf)\n",
    "print(\"El limite superior del Q3 es:\", out_sup)"
   ]
  },
  {
   "cell_type": "markdown",
   "metadata": {
    "id": "1GdBZQygZZ0c"
   },
   "source": [
    "##### Z-Score"
   ]
  },
  {
   "cell_type": "code",
   "execution_count": null,
   "metadata": {
    "id": "cy5ihKZsOcta"
   },
   "outputs": [],
   "source": [
    "media_bedrooms=np.mean(df.property_bedrooms)\n",
    "std_bedrooms=np.std(df.property_bedrooms)\n",
    "df['z_bedrooms']=(df.property_bedrooms - media_bedrooms)/std_bedrooms"
   ]
  },
  {
   "cell_type": "markdown",
   "metadata": {
    "id": "U2t3eRnZ-Uov"
   },
   "source": [
    "Estudiamos si existen datos para el método de Z-Score utilizando la regla de oro (|Z|>3)."
   ]
  },
  {
   "cell_type": "code",
   "execution_count": null,
   "metadata": {
    "colab": {
     "base_uri": "https://localhost:8080/",
     "height": 490
    },
    "id": "6lvupSX_8n9C",
    "outputId": "4278ff61-7493-489b-f2f1-6e3c556a0555"
   },
   "outputs": [],
   "source": [
    "df[df['z_bedrooms']>3].head()"
   ]
  },
  {
   "cell_type": "code",
   "execution_count": null,
   "metadata": {
    "colab": {
     "base_uri": "https://localhost:8080/",
     "height": 142
    },
    "id": "St5VezN38seV",
    "outputId": "8054c4ee-40c9-4f0a-af02-1434d0c4975b"
   },
   "outputs": [],
   "source": [
    "df[df['z_bedrooms']<-3].head()"
   ]
  },
  {
   "cell_type": "code",
   "execution_count": null,
   "metadata": {
    "colab": {
     "base_uri": "https://localhost:8080/",
     "height": 294
    },
    "id": "HrrppWOx7ej6",
    "outputId": "0e8a5a8e-7c72-49a5-92b9-c2343e300d5e"
   },
   "outputs": [],
   "source": [
    "plt.hist(df.z_bedrooms, bins=10, range=(-2,6))\n",
    "plt.title('Histograma Z-Score Bedrooms')\n",
    "plt.xlabel('Z-Score Bedrooms')\n",
    "plt.show()"
   ]
  },
  {
   "cell_type": "markdown",
   "metadata": {
    "id": "OGNiTnK8P2iR"
   },
   "source": [
    "##### Z-Score Modificado"
   ]
  },
  {
   "cell_type": "code",
   "execution_count": null,
   "metadata": {
    "id": "a2za_c0IP6MI"
   },
   "outputs": [],
   "source": [
    "mediana_bedroom=np.nanmedian(df.property_bedrooms)\n",
    "MAD=np.nanmedian(np.absolute(df.property_bedrooms-mediana_bedroom))\n",
    "\n",
    "df['zm_bedrooms']=(df.property_bedrooms - mediana_bedroom)*0.6745/MAD"
   ]
  },
  {
   "cell_type": "markdown",
   "metadata": {
    "id": "anPmXIna-dp4"
   },
   "source": [
    "Estudiamos si existen datos para el método de Z-Score Modificado utilizando la regla de oro (|Z|>3.5)."
   ]
  },
  {
   "cell_type": "code",
   "execution_count": null,
   "metadata": {
    "colab": {
     "base_uri": "https://localhost:8080/",
     "height": 473
    },
    "id": "lt2l3VpE804I",
    "outputId": "6ab1cdd0-db40-4880-92cd-eda46b77f5f8"
   },
   "outputs": [],
   "source": [
    "df[(df['zm_bedrooms']>3.5)].head()"
   ]
  },
  {
   "cell_type": "code",
   "execution_count": null,
   "metadata": {
    "colab": {
     "base_uri": "https://localhost:8080/",
     "height": 142
    },
    "id": "uqyJlc_O87w5",
    "outputId": "25d7c331-353d-467a-ab51-9661e7200834"
   },
   "outputs": [],
   "source": [
    "df[(df['zm_bedrooms']<-3.5)].head()"
   ]
  },
  {
   "cell_type": "code",
   "execution_count": null,
   "metadata": {
    "colab": {
     "base_uri": "https://localhost:8080/",
     "height": 294
    },
    "id": "cgQpJ-xerUwJ",
    "outputId": "95f452d7-0f14-4145-b08b-c02635e24f20"
   },
   "outputs": [],
   "source": [
    "plt.hist(df.zm_bedrooms, bins=50, range=(-2,6))\n",
    "plt.title('Histograma Z-Score Modificado Bedrooms')\n",
    "plt.xlabel('Z-Score Modificado Bedrooms')\n",
    "plt.show()"
   ]
  },
  {
   "cell_type": "markdown",
   "metadata": {
    "id": "1w47xuftricI"
   },
   "source": [
    "##### Características"
   ]
  },
  {
   "cell_type": "markdown",
   "metadata": {
    "id": "yuvpKmsyrjEB"
   },
   "source": [
    "Del análisis de los 3 gráficos previamente presentados, podemos concluir que, puesto que existe una gran masa conjunta de observaciones atípicas y una singular -también atípica- lejana a la masa en cuestión- podríamos decir que los outliers son del tipo colectivo (para la masa de observaciones cerca del máximo para el tercer cuartil) y global (para la singular por encima del resto de las observaciones)."
   ]
  },
  {
   "cell_type": "markdown",
   "metadata": {
    "id": "LWbZVekrIBrI"
   },
   "source": [
    "#### Property price"
   ]
  },
  {
   "cell_type": "markdown",
   "metadata": {
    "id": "861zSh3bSWNP"
   },
   "source": [
    "##### Box plot"
   ]
  },
  {
   "cell_type": "code",
   "execution_count": null,
   "metadata": {
    "colab": {
     "base_uri": "https://localhost:8080/",
     "height": 262
    },
    "id": "9exMnx2nIHUt",
    "outputId": "cb41ff3a-98de-437b-ff19-14e444428648"
   },
   "outputs": [],
   "source": [
    "sns.boxplot(y=df.property_price)\n",
    "plt.show()"
   ]
  },
  {
   "cell_type": "code",
   "execution_count": null,
   "metadata": {
    "colab": {
     "base_uri": "https://localhost:8080/"
    },
    "id": "1dp7LTBD91k1",
    "outputId": "bd2b0b97-4b7b-4c41-aaf9-6b4e1ac3635a"
   },
   "outputs": [],
   "source": [
    "Q1_property_price=df.describe().get(\"property_price\").get(\"25%\")\n",
    "Q3_property_price=df.describe().get(\"property_price\").get(\"75%\")\n",
    "\n",
    "print(\"El valor de Q1 es:\", Q1_property_price)\n",
    "print(\"El valor de Q3 es:\", Q3_property_price)\n",
    "\n",
    "IQR_property_price=Q3_property_price-Q1_property_price\n",
    "\n",
    "out_inf=Q1_property_price-1.5*IQR_property_price\n",
    "out_sup=Q3_property_price+1.5*IQR_property_price\n",
    "print(\"El limite inferior del Q1 es:\", out_inf)\n",
    "print(\"El limite superior del Q3 es:\", out_sup)"
   ]
  },
  {
   "cell_type": "markdown",
   "metadata": {
    "id": "Vx4GfNW3SkJ9"
   },
   "source": [
    "##### Z-Score"
   ]
  },
  {
   "cell_type": "code",
   "execution_count": null,
   "metadata": {
    "id": "ib35t1TYSzXq"
   },
   "outputs": [],
   "source": [
    "media_price=np.mean(df.property_price)\n",
    "std_price=np.std(df.property_price)\n",
    "df['z_price']=(df.property_price - media_price)/std_price"
   ]
  },
  {
   "cell_type": "markdown",
   "metadata": {
    "id": "ojnjkN-r-k7y"
   },
   "source": [
    "Estudiamos si existen datos para el método de Z-Score utilizando la regla de oro (|Z|>3)."
   ]
  },
  {
   "cell_type": "code",
   "execution_count": null,
   "metadata": {
    "colab": {
     "base_uri": "https://localhost:8080/",
     "height": 421
    },
    "id": "uXVSdz1HTW4F",
    "outputId": "f859f9a7-108f-47ce-c4d5-6ade235ff17c"
   },
   "outputs": [],
   "source": [
    "df[df['z_price']>3].head()"
   ]
  },
  {
   "cell_type": "code",
   "execution_count": null,
   "metadata": {
    "colab": {
     "base_uri": "https://localhost:8080/",
     "height": 142
    },
    "id": "i0EGvIjiTbxw",
    "outputId": "a9cb745d-5881-4c0c-f93e-efcb5d77ced2"
   },
   "outputs": [],
   "source": [
    "df[df['z_price']<-3].head()"
   ]
  },
  {
   "cell_type": "code",
   "execution_count": null,
   "metadata": {
    "colab": {
     "base_uri": "https://localhost:8080/",
     "height": 294
    },
    "id": "4iApL4TtTgTz",
    "outputId": "5b4ed4e2-2c04-46f7-8646-6a33e14152bf"
   },
   "outputs": [],
   "source": [
    "plt.hist(df.z_price, bins=400, range=(-1,1))\n",
    "plt.title('Histograma Z-Score Price')\n",
    "plt.xlabel('Z-Score Price')\n",
    "plt.show()"
   ]
  },
  {
   "cell_type": "markdown",
   "metadata": {
    "id": "WVFbdCGUSm6D"
   },
   "source": [
    "##### Z-Score Modificado"
   ]
  },
  {
   "cell_type": "code",
   "execution_count": null,
   "metadata": {
    "id": "3_VNeMGmTvP9"
   },
   "outputs": [],
   "source": [
    "mediana_price=np.nanmedian(df.property_price)\n",
    "MAD=np.nanmedian(np.absolute(df.property_price-mediana_price))\n",
    "\n",
    "df['zm_price']=(df.property_price - mediana_price)*0.6745/MAD"
   ]
  },
  {
   "cell_type": "markdown",
   "metadata": {
    "id": "zrWzqvd9-p41"
   },
   "source": [
    "Estudiamos si existen datos para el método de Z-Score Modificado utilizando la regla de oro (|Z|>3.5)."
   ]
  },
  {
   "cell_type": "code",
   "execution_count": null,
   "metadata": {
    "colab": {
     "base_uri": "https://localhost:8080/",
     "height": 456
    },
    "id": "F_WsRtuJT2-h",
    "outputId": "a8291ab8-cd8d-44b6-9447-607f2f957e89"
   },
   "outputs": [],
   "source": [
    "df[(df['zm_price']>3.5)].head()"
   ]
  },
  {
   "cell_type": "code",
   "execution_count": null,
   "metadata": {
    "colab": {
     "base_uri": "https://localhost:8080/",
     "height": 142
    },
    "id": "CNzDv0sVT6XB",
    "outputId": "f641b9db-2c24-43fb-a5c4-a5049abc7eb3"
   },
   "outputs": [],
   "source": [
    "df[(df['zm_price']<-3.5)].head()"
   ]
  },
  {
   "cell_type": "code",
   "execution_count": null,
   "metadata": {
    "colab": {
     "base_uri": "https://localhost:8080/",
     "height": 294
    },
    "id": "U2K-YbBNUCTP",
    "outputId": "a463834f-86ad-49e5-9c0c-9d9c7a845101"
   },
   "outputs": [],
   "source": [
    "plt.hist(df.zm_price, bins=300, range=(-1,4))\n",
    "plt.title('Histograma Z-Score Modificado Price')\n",
    "plt.xlabel('Z-Score Modificado Price')\n",
    "plt.show()"
   ]
  },
  {
   "cell_type": "markdown",
   "metadata": {
    "id": "9MyvMs8lsYyt"
   },
   "source": [
    "##### Características"
   ]
  },
  {
   "cell_type": "markdown",
   "metadata": {
    "id": "tiLhO3GAsalH"
   },
   "source": [
    "Nuevamente, concluimos que al existir una gran masa conjunta de observaciones atípicas y una singular -también atípica- lejana a la masa en cuestión- podríamos decir que los outliers son del tipo colectivo (para la masa de observaciones cerca del máximo para el tercer cuartil) y global (para la observación singular por encima del resto de las observaciones)."
   ]
  },
  {
   "cell_type": "markdown",
   "metadata": {
    "id": "Z_eqNgOP2NRN"
   },
   "source": [
    "#### Property surface covered"
   ]
  },
  {
   "cell_type": "markdown",
   "metadata": {
    "id": "RGS0ZT8i2NRO"
   },
   "source": [
    "##### Box plot"
   ]
  },
  {
   "cell_type": "code",
   "execution_count": null,
   "metadata": {
    "colab": {
     "base_uri": "https://localhost:8080/",
     "height": 252
    },
    "id": "rEsEB2z-2NRO",
    "outputId": "5845dd62-b5f0-441c-e877-00502ddc8090"
   },
   "outputs": [],
   "source": [
    "sns.boxplot(y=df.property_surface_covered)\n",
    "plt.show()"
   ]
  },
  {
   "cell_type": "code",
   "execution_count": null,
   "metadata": {
    "colab": {
     "base_uri": "https://localhost:8080/"
    },
    "id": "dM8nqn0A2NRO",
    "outputId": "a626fdb5-00b1-4b7f-d823-98c765e5a769"
   },
   "outputs": [],
   "source": [
    "Q1_property_surface_covered=df.describe().get(\"property_surface_covered\").get(\"25%\")\n",
    "Q3_property_surface_covered=df.describe().get(\"property_surface_covered\").get(\"75%\")\n",
    "\n",
    "print(\"El valor de Q1 es:\", Q1_property_surface_covered)\n",
    "print(\"El valor de Q3 es:\", Q3_property_surface_covered)\n",
    "\n",
    "IQR_property_surface_covered=Q3_property_surface_covered-Q1_property_surface_covered\n",
    "\n",
    "out_inf=Q1_property_surface_covered-1.5*IQR_property_surface_covered\n",
    "out_sup=Q3_property_surface_covered+1.5*IQR_property_surface_covered\n",
    "print(\"El limite inferior del Q1 es:\", out_inf)\n",
    "print(\"El limite superior del Q3 es:\", out_sup)"
   ]
  },
  {
   "cell_type": "markdown",
   "metadata": {
    "id": "ZnQJ2wj62NRP"
   },
   "source": [
    "##### Z-Score"
   ]
  },
  {
   "cell_type": "code",
   "execution_count": null,
   "metadata": {
    "id": "Q2KE0GCM2NRP"
   },
   "outputs": [],
   "source": [
    "media_surface_covered=np.mean(df.property_surface_covered)\n",
    "std_surface_covered=np.std(df.property_surface_covered)\n",
    "df['z_surface_covered']=(df.property_surface_covered - media_surface_covered)/std_surface_covered"
   ]
  },
  {
   "cell_type": "markdown",
   "metadata": {
    "id": "cyWzPd8_-toW"
   },
   "source": [
    "Estudiamos si existen datos para el método de Z-Score utilizando la regla de oro (|Z|>3)."
   ]
  },
  {
   "cell_type": "code",
   "execution_count": null,
   "metadata": {
    "colab": {
     "base_uri": "https://localhost:8080/",
     "height": 577
    },
    "id": "5PBVSxTT2NRP",
    "outputId": "cff55a13-dc70-4b25-a73d-70e2562e46da"
   },
   "outputs": [],
   "source": [
    "df[df['z_surface_covered']>3].head()"
   ]
  },
  {
   "cell_type": "code",
   "execution_count": null,
   "metadata": {
    "colab": {
     "base_uri": "https://localhost:8080/",
     "height": 142
    },
    "id": "cgGALsee2NRP",
    "outputId": "3b8cd64d-667b-43da-c11f-cd5b39aaa436"
   },
   "outputs": [],
   "source": [
    "df[df['z_surface_covered']<-3].head()"
   ]
  },
  {
   "cell_type": "code",
   "execution_count": null,
   "metadata": {
    "colab": {
     "base_uri": "https://localhost:8080/",
     "height": 294
    },
    "id": "PPCj09X42NRP",
    "outputId": "c9632118-73fb-4ef0-a7cf-07845ed2782a"
   },
   "outputs": [],
   "source": [
    "plt.hist(df.z_surface_covered, bins=300, range=(-0.1,0.3))\n",
    "plt.title('Histograma Z-Score Surface Covered')\n",
    "plt.xlabel('Z-Score Surface Covered')\n",
    "plt.show()"
   ]
  },
  {
   "cell_type": "markdown",
   "metadata": {
    "id": "FzB_DU2F2NRP"
   },
   "source": [
    "##### Z-Score Modificado"
   ]
  },
  {
   "cell_type": "code",
   "execution_count": null,
   "metadata": {
    "id": "lHACVZRA2NRP"
   },
   "outputs": [],
   "source": [
    "mediana_surface_covered=np.nanmedian(df.property_surface_covered)\n",
    "MAD=np.nanmedian(np.absolute(df.property_surface_covered-mediana_surface_covered))\n",
    "\n",
    "df['zm_surface_covered']=(df.property_surface_covered - mediana_surface_covered)*0.6745/MAD"
   ]
  },
  {
   "cell_type": "markdown",
   "metadata": {
    "id": "1YB0kdu9-zdu"
   },
   "source": [
    "Estudiamos si existen datos para el método de Z-Score Modificado utilizando la regla de oro (|Z|>3.5)."
   ]
  },
  {
   "cell_type": "code",
   "execution_count": null,
   "metadata": {
    "colab": {
     "base_uri": "https://localhost:8080/",
     "height": 456
    },
    "id": "puxfvTQW2NRQ",
    "outputId": "20fdf6fe-857e-45a9-db4c-2dfb51670e92"
   },
   "outputs": [],
   "source": [
    "df[(df['zm_surface_covered']>3.5)].head()"
   ]
  },
  {
   "cell_type": "code",
   "execution_count": null,
   "metadata": {
    "colab": {
     "base_uri": "https://localhost:8080/",
     "height": 142
    },
    "id": "dEYow0E82NRQ",
    "outputId": "1aeaadb3-365c-4fa6-852a-2c9a68aff0a2"
   },
   "outputs": [],
   "source": [
    "df[(df['zm_surface_covered']<-3.5)].head()"
   ]
  },
  {
   "cell_type": "code",
   "execution_count": null,
   "metadata": {
    "colab": {
     "base_uri": "https://localhost:8080/",
     "height": 294
    },
    "id": "01Zy8XAl2NRQ",
    "outputId": "86f3ed46-7e2a-4cd2-ff94-3bd4d7202322"
   },
   "outputs": [],
   "source": [
    "plt.hist(df.zm_surface_covered, bins=300, range=(-3,10))\n",
    "plt.title('Histograma Z-Score Modificado Surface Covered')\n",
    "plt.xlabel('Z-Score Modificado Surface Covered')\n",
    "plt.show()"
   ]
  },
  {
   "cell_type": "markdown",
   "metadata": {
    "id": "p0XIjpsx2NRQ"
   },
   "source": [
    "##### Características"
   ]
  },
  {
   "cell_type": "markdown",
   "metadata": {
    "id": "b6tP4ul_2NRQ"
   },
   "source": [
    "Nuevamente, concluimos que al existir una gran masa conjunta de observaciones atípicas y una singular -también atípica- lejana a la masa en cuestión- podríamos decir que los outliers son del tipo colectivo (para la masa de observaciones cerca del máximo para el tercer cuartil) y global (para la observación singular por encima del resto de las observaciones)."
   ]
  },
  {
   "cell_type": "markdown",
   "metadata": {
    "id": "KUObCSTS3qoN"
   },
   "source": [
    "#### Property surface total"
   ]
  },
  {
   "cell_type": "markdown",
   "metadata": {
    "id": "oHKI2jWT3qoN"
   },
   "source": [
    "##### Box plot"
   ]
  },
  {
   "cell_type": "code",
   "execution_count": null,
   "metadata": {
    "colab": {
     "base_uri": "https://localhost:8080/",
     "height": 252
    },
    "id": "GUpgkmyn3qoN",
    "outputId": "4deb5740-fa09-4774-da4a-f49f998aa4ea"
   },
   "outputs": [],
   "source": [
    "sns.boxplot(y=df.property_surface_total)\n",
    "plt.show()"
   ]
  },
  {
   "cell_type": "code",
   "execution_count": null,
   "metadata": {
    "colab": {
     "base_uri": "https://localhost:8080/"
    },
    "id": "hAYx0Dbc3qoO",
    "outputId": "7da5c782-51bc-42ac-807f-387e623bb4b5"
   },
   "outputs": [],
   "source": [
    "Q1_property_surface_total=df.describe().get(\"property_surface_total\").get(\"25%\")\n",
    "Q3_property_surface_total=df.describe().get(\"property_surface_total\").get(\"75%\")\n",
    "\n",
    "print(\"El valor de Q1 es:\", Q1_property_surface_total)\n",
    "print(\"El valor de Q3 es:\", Q3_property_surface_total)\n",
    "\n",
    "IQR_property_surface_total=Q3_property_surface_total-Q1_property_surface_total\n",
    "\n",
    "out_inf=Q1_property_surface_total-1.5*IQR_property_surface_total\n",
    "out_sup=Q3_property_surface_total+1.5*IQR_property_surface_total\n",
    "print(\"El limite inferior del Q1 es:\", out_inf)\n",
    "print(\"El limite superior del Q3 es:\", out_sup)"
   ]
  },
  {
   "cell_type": "markdown",
   "metadata": {
    "id": "_GAWH2nO3qoO"
   },
   "source": [
    "##### Z-Score"
   ]
  },
  {
   "cell_type": "code",
   "execution_count": null,
   "metadata": {
    "id": "7F9DsA8E3qoO"
   },
   "outputs": [],
   "source": [
    "media_surface_total=np.mean(df.property_surface_total)\n",
    "std_surface_total=np.std(df.property_surface_total)\n",
    "df['z_surface_total']=(df.property_surface_total - media_surface_total)/std_surface_total"
   ]
  },
  {
   "cell_type": "markdown",
   "metadata": {
    "id": "gJHZdX4f-4yt"
   },
   "source": [
    "Estudiamos si existen datos para el método de Z-Score utilizando la regla de oro (|Z|>3)."
   ]
  },
  {
   "cell_type": "code",
   "execution_count": null,
   "metadata": {
    "colab": {
     "base_uri": "https://localhost:8080/",
     "height": 594
    },
    "id": "VVZmthJN3qoO",
    "outputId": "5be4488c-6d02-412a-938d-94c66e059fdf"
   },
   "outputs": [],
   "source": [
    "df[df['z_surface_total']>3].head()"
   ]
  },
  {
   "cell_type": "code",
   "execution_count": null,
   "metadata": {
    "colab": {
     "base_uri": "https://localhost:8080/",
     "height": 142
    },
    "id": "LSVbapJK3qoP",
    "outputId": "dcb5d786-ef13-4e3a-9dea-432793950cf8"
   },
   "outputs": [],
   "source": [
    "df[df['z_surface_total']<-3].head()"
   ]
  },
  {
   "cell_type": "code",
   "execution_count": null,
   "metadata": {
    "colab": {
     "base_uri": "https://localhost:8080/",
     "height": 294
    },
    "id": "B0ZgRPgU3qoP",
    "outputId": "38c04695-7f7b-448f-c578-c8196cb00496"
   },
   "outputs": [],
   "source": [
    "plt.hist(df.z_surface_total, bins=300, range=(-0.1,0.1))\n",
    "plt.title('Histograma Z-Score Surface Total')\n",
    "plt.xlabel('Z-Score Surface Total')\n",
    "plt.show()"
   ]
  },
  {
   "cell_type": "markdown",
   "metadata": {
    "id": "v-T5qHSI3qoP"
   },
   "source": [
    "##### Z-Score Modificado"
   ]
  },
  {
   "cell_type": "code",
   "execution_count": null,
   "metadata": {
    "id": "A4qlvzFC3qoP"
   },
   "outputs": [],
   "source": [
    "mediana_surface_total=np.nanmedian(df.property_surface_total)\n",
    "MAD=np.nanmedian(np.absolute(df.property_surface_total-mediana_surface_total))\n",
    "\n",
    "df['zm_surface_total']=(df.property_surface_total - mediana_surface_total)*0.6745/MAD"
   ]
  },
  {
   "cell_type": "markdown",
   "metadata": {
    "id": "LoQ05TJr_Agg"
   },
   "source": [
    "Estudiamos si existen datos para el método de Z-Score Modificado utilizando la regla de oro (|Z|>3.5)."
   ]
  },
  {
   "cell_type": "code",
   "execution_count": null,
   "metadata": {
    "colab": {
     "base_uri": "https://localhost:8080/",
     "height": 386
    },
    "id": "6MfCxKT63qoP",
    "outputId": "f0eb430d-75f6-4892-92f7-afeb32649378"
   },
   "outputs": [],
   "source": [
    "df[(df['zm_surface_total']>3.5)].head()"
   ]
  },
  {
   "cell_type": "code",
   "execution_count": null,
   "metadata": {
    "colab": {
     "base_uri": "https://localhost:8080/",
     "height": 142
    },
    "id": "83CuIKOl3qoP",
    "outputId": "f37a2fbe-6a7e-425b-bf2f-a08b12fb274c"
   },
   "outputs": [],
   "source": [
    "df[(df['zm_surface_total']<-3.5)].head()"
   ]
  },
  {
   "cell_type": "code",
   "execution_count": null,
   "metadata": {
    "colab": {
     "base_uri": "https://localhost:8080/",
     "height": 294
    },
    "id": "rLESZPIJ3qoP",
    "outputId": "586ef674-b7cc-49e4-9a9e-a5667a6aa476"
   },
   "outputs": [],
   "source": [
    "plt.hist(df.zm_surface_total, bins=100, range=(-2,4))\n",
    "plt.title('Histograma Z-Score Modificado Surface Total')\n",
    "plt.xlabel('Z-Score Modificado Surface Total')\n",
    "plt.show()"
   ]
  },
  {
   "cell_type": "markdown",
   "metadata": {
    "id": "KJmMY38O3qoQ"
   },
   "source": [
    "##### Características"
   ]
  },
  {
   "cell_type": "markdown",
   "metadata": {
    "id": "-N5aGk733qoQ"
   },
   "source": [
    "Nuevamente, concluimos que al existir una gran masa conjunta de observaciones atípicas y una singular -también atípica- lejana a la masa en cuestión- podríamos decir que los outliers son del tipo colectivo (para la masa de observaciones cerca del máximo para el tercer cuartil) y global (para la observación singular por encima del resto de las observaciones)."
   ]
  },
  {
   "cell_type": "markdown",
   "metadata": {
    "id": "tWu2rN88m30d"
   },
   "source": [
    "### Outliers multivariados\n",
    "\n",
    "---"
   ]
  },
  {
   "cell_type": "markdown",
   "metadata": {
    "id": "Bh62tMLLpWt0"
   },
   "source": [
    "Para el análisis de outliers de tipo multivariados estaremos utilizando el método de Mahalanobis el cual nos brinda información respecto de la distancia de las observaciones agrupando las similares en clusters, evidenciando así los puntos aislados que pasaremos a considerar como valores atípicos.\n",
    "\n",
    "Por último, podremos destacar cuáles son las características de los valores en cuestión pudiendo clasificar los mismos en: global, contextual y colectivo."
   ]
  },
  {
   "cell_type": "markdown",
   "metadata": {
    "id": "O6GN0gKdaF7v"
   },
   "source": [
    "#### Preparación del dataset para el estudio de Mahalanobis"
   ]
  },
  {
   "cell_type": "markdown",
   "metadata": {
    "id": "cDbKixhpE8IJ"
   },
   "source": [
    "Para la utilización del método, analizamos la presencia de valores `nan` en nuestro dataset y analizamos la posibilidad de descartar los mismos en caso de existir nulos."
   ]
  },
  {
   "cell_type": "code",
   "execution_count": null,
   "metadata": {
    "colab": {
     "base_uri": "https://localhost:8080/"
    },
    "id": "aAjGYSS2E9W-",
    "outputId": "729c4fe8-3bd5-4e62-91ae-e9a216001a20"
   },
   "outputs": [],
   "source": [
    "mahal = df.copy()\n",
    "mahal.isnull().sum()"
   ]
  },
  {
   "cell_type": "markdown",
   "metadata": {
    "id": "EHRzXV9XFVtK"
   },
   "source": [
    "Procedemos a eliminar los registros en cuestión dado que representan una pequeña porción del dataset y no se verán afectados los resultados."
   ]
  },
  {
   "cell_type": "code",
   "execution_count": null,
   "metadata": {
    "colab": {
     "base_uri": "https://localhost:8080/"
    },
    "id": "tkxj_hrlFYjO",
    "outputId": "6c982252-cd14-41b0-9408-6483a14d3d3e"
   },
   "outputs": [],
   "source": [
    "mahal.dropna(subset=['property_rooms', 'property_bedrooms'], inplace = True)\n",
    "mahal.isnull().sum()"
   ]
  },
  {
   "cell_type": "markdown",
   "metadata": {
    "id": "FDCcd2n3byyE"
   },
   "source": [
    "#### Property surface total vs Price\n",
    "\n"
   ]
  },
  {
   "cell_type": "markdown",
   "metadata": {
    "id": "uKcUsJkf1n-0"
   },
   "source": [
    "##### Scatter\n"
   ]
  },
  {
   "cell_type": "code",
   "execution_count": null,
   "metadata": {
    "colab": {
     "base_uri": "https://localhost:8080/",
     "height": 294
    },
    "id": "GkGwfrSSb8l2",
    "outputId": "c9d7fcb3-0805-49ca-f428-d384d265ba7b"
   },
   "outputs": [],
   "source": [
    "plt.scatter(mahal.property_surface_total,mahal.property_price)\n",
    "plt.title('Surface total vs Price')\n",
    "plt.xlabel('Surface total')\n",
    "plt.ylabel('Price')\n",
    "plt.show()"
   ]
  },
  {
   "cell_type": "markdown",
   "metadata": {
    "id": "8iBqpFym1_Nu"
   },
   "source": [
    "##### Mahalanobis"
   ]
  },
  {
   "cell_type": "code",
   "execution_count": null,
   "metadata": {
    "colab": {
     "base_uri": "https://localhost:8080/",
     "height": 386
    },
    "id": "JTyhPYlofXyZ",
    "outputId": "0fc7a6aa-a178-491d-e653-27e8ce43c711"
   },
   "outputs": [],
   "source": [
    "X = mahal[['property_surface_total','property_price']]\n",
    "sample_X = X.sample(frac=0.1)\n",
    "\n",
    "mu = sample_X.mean()\n",
    "X_diff = X - mu\n",
    "X_diff = X_diff.values.T\n",
    "\n",
    "cov = np.cov(sample_X.values.T)\n",
    "inv_cov = np.linalg.inv(cov)\n",
    "W = sc.linalg.sqrtm(inv_cov)\n",
    "\n",
    "Wx = np.matmul(W, X_diff)\n",
    "\n",
    "mahal['mahal_sfto_prc'] = np.array([np.dot(Wx[:, i], Wx[:, i]) for i in range(Wx.shape[1])])\n",
    "\n",
    "mahal.head()"
   ]
  },
  {
   "cell_type": "code",
   "execution_count": null,
   "metadata": {
    "colab": {
     "base_uri": "https://localhost:8080/"
    },
    "id": "bj6Du93vjjOc",
    "outputId": "920629ce-6ca4-4ec3-bf31-d9704642f328"
   },
   "outputs": [],
   "source": [
    "np.sort(mahal.mahal_sfto_prc)"
   ]
  },
  {
   "cell_type": "code",
   "execution_count": null,
   "metadata": {
    "colab": {
     "base_uri": "https://localhost:8080/",
     "height": 296
    },
    "id": "z071CPmkjwqa",
    "outputId": "68b4bd58-09ed-4a54-f4f1-9a3623d1274a"
   },
   "outputs": [],
   "source": [
    "umbral=10000\n",
    "mahal[mahal['mahal_sfto_prc']>umbral]\n",
    "\n",
    "es_outlier = (mahal['mahal_sfto_prc'] > umbral)\n",
    "\n",
    "sns.scatterplot(x=mahal.property_surface_total,y=mahal.property_price, hue=es_outlier)\n",
    "plt.legend(bbox_to_anchor=(1.05, 1), loc='upper left', borderaxespad=0, title=\"Outlier\")\n",
    "plt.title('Dispersograma Price vs Surface total')\n",
    "plt.show()"
   ]
  },
  {
   "cell_type": "markdown",
   "metadata": {
    "id": "p-Zyr5U718aG"
   },
   "source": [
    "##### Caracteristicas"
   ]
  },
  {
   "cell_type": "markdown",
   "metadata": {
    "id": "0ahgztA61x4s"
   },
   "source": [
    "Podemos visualizar que los valores que se encuentran particularmente alejados de la masa de observaciones caben dentro de la clasificación de outliers globales."
   ]
  },
  {
   "cell_type": "markdown",
   "metadata": {
    "id": "jgGd0uFsYYoM"
   },
   "source": [
    "#### Property rooms vs Property bedrooms"
   ]
  },
  {
   "cell_type": "markdown",
   "metadata": {
    "id": "S7fmoqM02VfE"
   },
   "source": [
    "##### Scatter"
   ]
  },
  {
   "cell_type": "code",
   "execution_count": null,
   "metadata": {
    "colab": {
     "base_uri": "https://localhost:8080/",
     "height": 294
    },
    "id": "vRs4fXeeYjhT",
    "outputId": "9f4b9418-c8ed-4b2c-cf17-1812f3a8a3b2"
   },
   "outputs": [],
   "source": [
    "plt.scatter(mahal.property_rooms,mahal.property_bedrooms)\n",
    "plt.title('Bedrooms vs Rooms')\n",
    "plt.xlabel('Bedrooms')\n",
    "plt.ylabel('Rooms')\n",
    "plt.show()"
   ]
  },
  {
   "cell_type": "markdown",
   "metadata": {
    "id": "wKLR3uXZ2Xpj"
   },
   "source": [
    "##### Mahalanobis"
   ]
  },
  {
   "cell_type": "code",
   "execution_count": null,
   "metadata": {
    "colab": {
     "base_uri": "https://localhost:8080/",
     "height": 386
    },
    "id": "yZTjLSXeD9tf",
    "outputId": "58122e5c-7cca-4189-cee2-a9c1510352c9"
   },
   "outputs": [],
   "source": [
    "X = mahal[['property_rooms','property_bedrooms']]\n",
    "sample_X = X.sample(frac=0.1)\n",
    "\n",
    "mu = sample_X.mean()\n",
    "X_diff = X - mu\n",
    "X_diff = X_diff.values.T\n",
    "\n",
    "cov = np.cov(sample_X.values.T)\n",
    "inv_cov = np.linalg.inv(cov)\n",
    "W = sc.linalg.sqrtm(inv_cov)\n",
    "\n",
    "Wx = np.matmul(W, X_diff)\n",
    "\n",
    "mahal['mahal_ro_bdro'] = np.array([np.dot(Wx[:, i], Wx[:, i]) for i in range(Wx.shape[1])])\n",
    "\n",
    "mahal.head()"
   ]
  },
  {
   "cell_type": "code",
   "execution_count": null,
   "metadata": {
    "colab": {
     "base_uri": "https://localhost:8080/"
    },
    "id": "N6aTg3D6Khhh",
    "outputId": "ba4380b1-ec89-4082-ad97-a29188e0ef40"
   },
   "outputs": [],
   "source": [
    "np.sort(mahal.mahal_ro_bdro)"
   ]
  },
  {
   "cell_type": "code",
   "execution_count": null,
   "metadata": {
    "colab": {
     "base_uri": "https://localhost:8080/",
     "height": 296
    },
    "id": "T_WJdwzRKnkW",
    "outputId": "95200d92-08f0-41b7-ba64-f4fc1a5089c8"
   },
   "outputs": [],
   "source": [
    "umbral=700\n",
    "mahal[mahal['mahal_ro_bdro']>umbral]\n",
    "\n",
    "es_outlier = (mahal['mahal_ro_bdro'] > umbral)\n",
    "\n",
    "sns.scatterplot(x=mahal.property_rooms,y=mahal.property_bedrooms, hue=es_outlier)\n",
    "plt.legend(bbox_to_anchor=(1.05, 1), loc='upper left', borderaxespad=0, title=\"Outlier\")\n",
    "plt.title('Dispersograma Rooms vs Bedrooms')\n",
    "plt.show()"
   ]
  },
  {
   "cell_type": "markdown",
   "metadata": {
    "id": "9Vad7u9j2jca"
   },
   "source": [
    "##### Caracteristicas"
   ]
  },
  {
   "cell_type": "markdown",
   "metadata": {
    "id": "MkeAQzTb2iU7"
   },
   "source": [
    "Notamos que estamos en presencia de outliers en su mayoría globales, con la particularidad de que tenemos algunos casos de valores atípicos colectivos en las cercanías del rango equivalente a 30 respecto del eje `property_bedrooms`.\n",
    "\n",
    "Adicionalmente, cabe destacar que hay dos valores particularmente alejados. Siguiendo esta línea, llegamos a la conclusión de que estamos en presencia de outliers globales."
   ]
  },
  {
   "cell_type": "markdown",
   "metadata": {
    "id": "_pMvvDQbaYwr"
   },
   "source": [
    "#### Property rooms vs Property surface total"
   ]
  },
  {
   "cell_type": "markdown",
   "metadata": {
    "id": "ji3Gob3l3ilT"
   },
   "source": [
    "##### Scatter\n"
   ]
  },
  {
   "cell_type": "code",
   "execution_count": null,
   "metadata": {
    "colab": {
     "base_uri": "https://localhost:8080/",
     "height": 294
    },
    "id": "gNJ0QvuNaphw",
    "outputId": "f2aa7379-173a-4342-db14-f145da208c11"
   },
   "outputs": [],
   "source": [
    "plt.scatter(mahal.property_rooms,mahal.property_surface_total)\n",
    "plt.title('Rooms vs Surface total')\n",
    "plt.xlabel('Rooms')\n",
    "plt.ylabel('Surface total')\n",
    "plt.show()"
   ]
  },
  {
   "cell_type": "markdown",
   "metadata": {
    "id": "3jvVtP2X3lRi"
   },
   "source": [
    "##### Mahalanobis"
   ]
  },
  {
   "cell_type": "markdown",
   "metadata": {
    "id": "CMJ1cRkH3qXa"
   },
   "source": [
    "Para poder determinar concretamente estos valores atipicos, nos ayudamos con el calculo de la distancia de mahalanobis para cada una de las observaciones presentes."
   ]
  },
  {
   "cell_type": "code",
   "execution_count": null,
   "metadata": {
    "colab": {
     "base_uri": "https://localhost:8080/",
     "height": 386
    },
    "id": "u9pXJ1RrLpyI",
    "outputId": "61113adf-d561-46d7-e408-9a734fbf8881"
   },
   "outputs": [],
   "source": [
    "X = mahal[['property_rooms','property_surface_total']]\n",
    "sample_X = X.sample(frac=0.1)\n",
    "\n",
    "mu = sample_X.mean()\n",
    "X_diff = X - mu\n",
    "X_diff = X_diff.values.T\n",
    "\n",
    "cov = np.cov(sample_X.values.T)\n",
    "inv_cov = np.linalg.inv(cov)\n",
    "W = sc.linalg.sqrtm(inv_cov)\n",
    "\n",
    "Wx = np.matmul(W, X_diff)\n",
    "\n",
    "mahal['mahal_ro_sfto'] = np.array([np.dot(Wx[:, i], Wx[:, i]) for i in range(Wx.shape[1])])\n",
    "\n",
    "mahal.head()"
   ]
  },
  {
   "cell_type": "code",
   "execution_count": null,
   "metadata": {
    "colab": {
     "base_uri": "https://localhost:8080/"
    },
    "id": "Q4YL5w0LL8UE",
    "outputId": "dba7158e-e6fd-4a6b-afa2-ea5bedd0dffa"
   },
   "outputs": [],
   "source": [
    "np.sort(mahal.mahal_ro_sfto)"
   ]
  },
  {
   "cell_type": "code",
   "execution_count": null,
   "metadata": {
    "colab": {
     "base_uri": "https://localhost:8080/",
     "height": 296
    },
    "id": "yEGG5CCAMAaP",
    "outputId": "9d275faa-bf89-4a26-bf08-951fbd69fee8"
   },
   "outputs": [],
   "source": [
    "umbral=5000\n",
    "mahal[mahal['mahal_ro_sfto']>umbral]\n",
    "\n",
    "es_outlier = (mahal['mahal_ro_sfto'] > umbral)\n",
    "\n",
    "sns.scatterplot(x=mahal.property_rooms,y=mahal.property_surface_total, hue=es_outlier)\n",
    "plt.legend(bbox_to_anchor=(1.05, 1), loc='upper left', borderaxespad=0, title=\"Outlier\")\n",
    "plt.title('Dispersograma Rooms vs Surface Total')\n",
    "plt.show()"
   ]
  },
  {
   "cell_type": "markdown",
   "metadata": {
    "id": "_StTuEOO3sCT"
   },
   "source": [
    "##### Caracteristicas"
   ]
  },
  {
   "cell_type": "markdown",
   "metadata": {
    "id": "7xPLNS4j3xiq"
   },
   "source": [
    "En esta nueva comparación, contamos -una vez más- con la presencia de registros aislados en la parte superior izquierda que podríamos clasificarlos como outliers globales."
   ]
  },
  {
   "cell_type": "markdown",
   "metadata": {
    "id": "P9Xq9piabA6s"
   },
   "source": [
    "#### Property rooms vs Property surface covered"
   ]
  },
  {
   "cell_type": "markdown",
   "metadata": {
    "id": "zkDPFnw64WDQ"
   },
   "source": [
    "##### Scatter"
   ]
  },
  {
   "cell_type": "code",
   "execution_count": null,
   "metadata": {
    "colab": {
     "base_uri": "https://localhost:8080/",
     "height": 294
    },
    "id": "xxwGCLpAbGfP",
    "outputId": "db20ef0b-82a0-458a-9cde-db8e00008261"
   },
   "outputs": [],
   "source": [
    "plt.scatter(df.property_rooms,df.property_surface_covered)\n",
    "plt.title('Rooms vs Surface covered')\n",
    "plt.xlabel('Rooms')\n",
    "plt.ylabel('Surface covered')\n",
    "plt.show()"
   ]
  },
  {
   "cell_type": "markdown",
   "metadata": {
    "id": "Af-JvZsC4YEX"
   },
   "source": [
    "##### Mahalanobis"
   ]
  },
  {
   "cell_type": "code",
   "execution_count": null,
   "metadata": {
    "colab": {
     "base_uri": "https://localhost:8080/",
     "height": 386
    },
    "id": "ahiV6hvmNQ57",
    "outputId": "ba02c43f-7c50-4d56-dd82-437e6a12f833"
   },
   "outputs": [],
   "source": [
    "X = mahal[['property_rooms','property_surface_covered']]\n",
    "sample_X = X.sample(frac=0.1)\n",
    "\n",
    "mu = sample_X.mean()\n",
    "X_diff = X - mu\n",
    "X_diff = X_diff.values.T\n",
    "\n",
    "cov = np.cov(sample_X.values.T)\n",
    "inv_cov = np.linalg.inv(cov)\n",
    "W = sc.linalg.sqrtm(inv_cov)\n",
    "\n",
    "Wx = np.matmul(W, X_diff)\n",
    "\n",
    "mahal['mahal_ro_sfcv'] = np.array([np.dot(Wx[:, i], Wx[:, i]) for i in range(Wx.shape[1])])\n",
    "\n",
    "mahal.head()"
   ]
  },
  {
   "cell_type": "code",
   "execution_count": null,
   "metadata": {
    "colab": {
     "base_uri": "https://localhost:8080/"
    },
    "id": "MAMvXrd_NYlV",
    "outputId": "55647ebd-5c76-4911-a8cf-13f030035583"
   },
   "outputs": [],
   "source": [
    "np.sort(mahal.mahal_ro_sfcv)"
   ]
  },
  {
   "cell_type": "code",
   "execution_count": null,
   "metadata": {
    "colab": {
     "base_uri": "https://localhost:8080/",
     "height": 296
    },
    "id": "UelzDswkNcLw",
    "outputId": "16b00815-1a50-4d59-a0e6-3166e548b444"
   },
   "outputs": [],
   "source": [
    "umbral=3000\n",
    "mahal[mahal['mahal_ro_sfcv']>umbral]\n",
    "\n",
    "es_outlier = (mahal['mahal_ro_sfcv'] > umbral)\n",
    "\n",
    "sns.scatterplot(x=mahal.property_rooms,y=mahal.property_surface_covered, hue=es_outlier)\n",
    "plt.legend(bbox_to_anchor=(1.05, 1), loc='upper left', borderaxespad=0, title=\"Outlier\")\n",
    "plt.title('Dispersograma Rooms vs Surface Covered')\n",
    "plt.show()"
   ]
  },
  {
   "cell_type": "markdown",
   "metadata": {
    "id": "reLbiJTs4dmn"
   },
   "source": [
    "##### Caracteristicas"
   ]
  },
  {
   "cell_type": "markdown",
   "metadata": {
    "id": "1hPsFDmd4l5L"
   },
   "source": [
    "Luego de la comparación de surface covered vs property rooms, notamos que nuevamente estamos en presencia de outliers, en particular esta vez todos de carácter global.\n"
   ]
  },
  {
   "cell_type": "markdown",
   "metadata": {
    "id": "IJnCYsswbc7w"
   },
   "source": [
    "#### Property rooms vs Property price"
   ]
  },
  {
   "cell_type": "markdown",
   "metadata": {
    "id": "mFd7sTLU5et1"
   },
   "source": [
    "##### Scatter"
   ]
  },
  {
   "cell_type": "code",
   "execution_count": null,
   "metadata": {
    "colab": {
     "base_uri": "https://localhost:8080/",
     "height": 294
    },
    "id": "D-3Lhtg4bhuF",
    "outputId": "12d8f890-1426-49a9-af81-8ab9f4c2bfd2"
   },
   "outputs": [],
   "source": [
    "plt.scatter(mahal.property_rooms,mahal.property_price)\n",
    "plt.title('Rooms vs Price')\n",
    "plt.xlabel('Rooms')\n",
    "plt.ylabel('Price')\n",
    "plt.show()"
   ]
  },
  {
   "cell_type": "markdown",
   "metadata": {
    "id": "eNEQTKBa5g-Q"
   },
   "source": [
    "##### Mahalanobis"
   ]
  },
  {
   "cell_type": "code",
   "execution_count": null,
   "metadata": {
    "colab": {
     "base_uri": "https://localhost:8080/",
     "height": 386
    },
    "id": "xH9rEoPMNyt8",
    "outputId": "0df69097-bbd1-497d-c539-4a206d498e8c"
   },
   "outputs": [],
   "source": [
    "X = mahal[['property_rooms','property_price']]\n",
    "sample_X = X.sample(frac=0.1)\n",
    "\n",
    "mu = sample_X.mean()\n",
    "X_diff = X - mu\n",
    "X_diff = X_diff.values.T\n",
    "\n",
    "cov = np.cov(sample_X.values.T)\n",
    "inv_cov = np.linalg.inv(cov)\n",
    "W = sc.linalg.sqrtm(inv_cov)\n",
    "\n",
    "Wx = np.matmul(W, X_diff)\n",
    "\n",
    "mahal['mahal_ro_pr'] = np.array([np.dot(Wx[:, i], Wx[:, i]) for i in range(Wx.shape[1])])\n",
    "\n",
    "mahal.head()"
   ]
  },
  {
   "cell_type": "code",
   "execution_count": null,
   "metadata": {
    "colab": {
     "base_uri": "https://localhost:8080/"
    },
    "id": "N6ZUZYJuN5Cp",
    "outputId": "7d2d208b-bb8d-46d5-9304-1a31cfab13a5"
   },
   "outputs": [],
   "source": [
    "np.sort(mahal.mahal_ro_pr)"
   ]
  },
  {
   "cell_type": "code",
   "execution_count": null,
   "metadata": {
    "colab": {
     "base_uri": "https://localhost:8080/",
     "height": 296
    },
    "id": "sJXBf_FUN8rJ",
    "outputId": "e25b382b-72dd-434c-9ba2-6113c0f5f07f"
   },
   "outputs": [],
   "source": [
    "umbral=700\n",
    "mahal[mahal['mahal_ro_pr']>umbral]\n",
    "\n",
    "es_outlier = (mahal['mahal_ro_pr'] > umbral)\n",
    "\n",
    "sns.scatterplot(x=mahal.property_rooms,y=mahal.property_price, hue=es_outlier)\n",
    "plt.legend(bbox_to_anchor=(1.05, 1), loc='upper left', borderaxespad=0, title=\"Outlier\")\n",
    "plt.title('Dispersograma Rooms vs Price')\n",
    "plt.show()"
   ]
  },
  {
   "cell_type": "markdown",
   "metadata": {
    "id": "Ct6Kn7rx5mQQ"
   },
   "source": [
    "##### Caracteristicas"
   ]
  },
  {
   "cell_type": "markdown",
   "metadata": {
    "id": "SaMjqKhk5pWn"
   },
   "source": [
    "Nuevamente visualizamos outliers globales."
   ]
  },
  {
   "cell_type": "markdown",
   "metadata": {
    "id": "aHfdjOZg7xj8"
   },
   "source": [
    "### Tratamiento"
   ]
  },
  {
   "cell_type": "markdown",
   "metadata": {
    "id": "wlbWTK2ZmX_U"
   },
   "source": [
    "Para cada una de las variables, estudiamos si es posible eliminar los valores atípicos encontrados con los métodos previamente descriptos analizando la proporción que estos representan sobre el total de los valores, teniendo en cuenta la decisión de admitir una tolerancia del 10% de otuliers."
   ]
  },
  {
   "cell_type": "markdown",
   "metadata": {
    "id": "WV2kFJxHmEkU"
   },
   "source": [
    "#### Property rooms"
   ]
  },
  {
   "cell_type": "code",
   "execution_count": null,
   "metadata": {
    "colab": {
     "base_uri": "https://localhost:8080/"
    },
    "id": "aMWHEvjBmi2h",
    "outputId": "a51d2903-06ba-43b8-df37-3378fe6f75da"
   },
   "outputs": [],
   "source": [
    "rooms_outliers_porcentaje = df[(df['zm_rooms']>3.5)].shape[0]/df['zm_rooms'].shape[0]*100\n",
    "\n",
    "print(f\"Los valores atípicos encontrados para property_rooms representan un {round(rooms_outliers_porcentaje, 3)}% del total del dataset.\")"
   ]
  },
  {
   "cell_type": "markdown",
   "metadata": {
    "id": "d16Bun7Oz6do"
   },
   "source": [
    "Eliminamos los outliers del dataset:"
   ]
  },
  {
   "cell_type": "code",
   "execution_count": null,
   "metadata": {
    "id": "M7FcCCe5z9Xo"
   },
   "outputs": [],
   "source": [
    "df.drop(df[df['zm_rooms']>3.5].index, inplace=True)"
   ]
  },
  {
   "cell_type": "markdown",
   "metadata": {
    "id": "p1BS-d8LmR04"
   },
   "source": [
    "#### Property bedrooms"
   ]
  },
  {
   "cell_type": "code",
   "execution_count": null,
   "metadata": {
    "colab": {
     "base_uri": "https://localhost:8080/"
    },
    "id": "BX-zeg8MzC75",
    "outputId": "fd5af370-7222-41d8-e5e4-9128191e36f6"
   },
   "outputs": [],
   "source": [
    "bedrooms_outliers_porcentaje = df[(df['zm_bedrooms']>3.5)].shape[0]/df['zm_bedrooms'].shape[0]*100\n",
    "\n",
    "print(f\"Los valores atípicos encontrados para property_bedrooms representan un {round(bedrooms_outliers_porcentaje, 3)}% del total del dataset.\")"
   ]
  },
  {
   "cell_type": "code",
   "execution_count": null,
   "metadata": {
    "id": "RjxlgYK10gYH"
   },
   "outputs": [],
   "source": [
    "df.drop(df[df['zm_bedrooms']>3.5].index, inplace=True)"
   ]
  },
  {
   "cell_type": "markdown",
   "metadata": {
    "id": "KTrY9wGBmUpg"
   },
   "source": [
    "#### Property price"
   ]
  },
  {
   "cell_type": "code",
   "execution_count": null,
   "metadata": {
    "colab": {
     "base_uri": "https://localhost:8080/"
    },
    "id": "2e6XR8hbzKBp",
    "outputId": "39f8e622-6a36-464e-b67c-234c9ea971c7"
   },
   "outputs": [],
   "source": [
    "price_outliers_porcentaje = df[(df['zm_price']>3.5)].shape[0]/df['zm_price'].shape[0]*100\n",
    "\n",
    "print(f\"Los valores atípicos encontrados para property_price representan un {round(price_outliers_porcentaje, 3)}% del total del dataset.\")"
   ]
  },
  {
   "cell_type": "code",
   "execution_count": null,
   "metadata": {
    "id": "80kp-jnS0kgh"
   },
   "outputs": [],
   "source": [
    "df.drop(df[df['zm_price']>3.5].index, inplace=True)"
   ]
  },
  {
   "cell_type": "markdown",
   "metadata": {
    "id": "v_UiK31k8oxR"
   },
   "source": [
    "#### Property surface covered"
   ]
  },
  {
   "cell_type": "code",
   "execution_count": null,
   "metadata": {
    "colab": {
     "base_uri": "https://localhost:8080/"
    },
    "id": "aeQ2GLun8oxT",
    "outputId": "1e9ee207-7d04-422a-8889-430147a68601"
   },
   "outputs": [],
   "source": [
    "surface_covered_outliers_porcentaje = df[(df['zm_surface_covered']>3.5)].shape[0]/df['zm_surface_covered'].shape[0]*100\n",
    "\n",
    "print(f\"Los valores atípicos encontrados para property_surface_covered representan un {round(surface_covered_outliers_porcentaje, 3)}% del total del dataset.\")"
   ]
  },
  {
   "cell_type": "code",
   "execution_count": null,
   "metadata": {
    "id": "Nie4YPnP8oxT"
   },
   "outputs": [],
   "source": [
    "df.drop(df[df['zm_surface_covered']>3.5].index, inplace=True)"
   ]
  },
  {
   "cell_type": "markdown",
   "metadata": {
    "id": "-PzVC75k8pRY"
   },
   "source": [
    "#### Property surface total"
   ]
  },
  {
   "cell_type": "code",
   "execution_count": null,
   "metadata": {
    "colab": {
     "base_uri": "https://localhost:8080/"
    },
    "id": "F09by2Pi8pRZ",
    "outputId": "4736605e-5273-4956-d8f0-be622baf6c9c"
   },
   "outputs": [],
   "source": [
    "surface_total_outliers_porcentaje = df[(df['zm_surface_total']>3.5)].shape[0]/df['zm_surface_total'].shape[0]*100\n",
    "\n",
    "print(f\"Los valores atípicos encontrados para property_surface_total representan un {round(surface_total_outliers_porcentaje, 3)}% del total del dataset.\")"
   ]
  },
  {
   "cell_type": "code",
   "execution_count": null,
   "metadata": {
    "id": "SRC1LUGS8pRZ"
   },
   "outputs": [],
   "source": [
    "df.drop(df[df['zm_surface_total']>3.5].index, inplace=True)"
   ]
  },
  {
   "cell_type": "markdown",
   "metadata": {
    "id": "5UQ70TvdGVpZ"
   },
   "source": [
    "## **1d. Reducción de la dimensionalidad**"
   ]
  },
  {
   "cell_type": "markdown",
   "metadata": {
    "id": "KEE3B9nPGcNF"
   },
   "source": [
    "Para realizar la reducción de la dimensionalidad del dataset, estaremos utilizando el algoritmo PCA con el objetivo de reducir la dimensión del problema descartando la información redundante existente."
   ]
  },
  {
   "cell_type": "markdown",
   "metadata": {
    "id": "XeBTDBdj9S6c"
   },
   "source": [
    "Generamos un nuevo dataset de reducción de dimensionalidad:"
   ]
  },
  {
   "cell_type": "code",
   "execution_count": null,
   "metadata": {
    "id": "mxc3FRh99WfV"
   },
   "outputs": [],
   "source": [
    "df_reduc = df.copy()"
   ]
  },
  {
   "cell_type": "markdown",
   "metadata": {
    "id": "3vsy81WvJCpJ"
   },
   "source": [
    "Antes de ejecutar el algoritmo, verificamos que no existan nulos para las variables de importancia que no brinden información de relevancia. En caso de existir, los eliminamos."
   ]
  },
  {
   "cell_type": "code",
   "execution_count": null,
   "metadata": {
    "id": "QyVjpMEDJOMe"
   },
   "outputs": [],
   "source": [
    "df_reduc.drop(df_reduc[df_reduc['property_rooms'].isna()].index, inplace=True)\n",
    "df_reduc.drop(df_reduc[df_reduc['property_bedrooms'].isna()].index, inplace=True)\n",
    "df_reduc.drop(df_reduc[df_reduc['property_price'].isna()].index, inplace=True)\n",
    "df_reduc.drop(df_reduc[df_reduc['property_surface_covered'].isna()].index, inplace=True)\n",
    "df_reduc.drop(df_reduc[df_reduc['property_surface_total'].isna()].index, inplace=True)"
   ]
  },
  {
   "cell_type": "code",
   "execution_count": null,
   "metadata": {
    "id": "4xwYslhcH3Gm"
   },
   "outputs": [],
   "source": [
    "columnas_elegidas = ['property_rooms', 'property_bedrooms', 'property_price', 'property_surface_covered', 'property_surface_total']\n",
    "\n",
    "x = df_reduc.loc[:, columnas_elegidas].values\n",
    "x = StandardScaler().fit_transform(x)"
   ]
  },
  {
   "cell_type": "code",
   "execution_count": null,
   "metadata": {
    "id": "3Dxomi--IRhL"
   },
   "outputs": [],
   "source": [
    "pca = PCA(n_components=5)\n",
    "x_transformada = pca.fit_transform(x)\n",
    "\n",
    "pca_df_aux = pd.DataFrame(data = x_transformada\n",
    "             , columns = ['cp_1', 'cp_2','cp_3','cp_4','cp_5'])"
   ]
  },
  {
   "cell_type": "code",
   "execution_count": null,
   "metadata": {
    "colab": {
     "base_uri": "https://localhost:8080/",
     "height": 206
    },
    "id": "vCaDQWqTJ865",
    "outputId": "808f555c-cc5e-4994-a076-26c6fcc96c71"
   },
   "outputs": [],
   "source": [
    "df_reduc['target'] = 0\n",
    "target = pd.DataFrame((np.column_stack(df_reduc['target'])).tolist()).T\n",
    "df_pca = pd.concat([pca_df_aux, target], axis = 1)\n",
    "df_pca.columns= ['cp_1', 'cp_2','cp_3','cp_4', 'cp_5','target']\n",
    "df_pca.head()"
   ]
  },
  {
   "cell_type": "code",
   "execution_count": null,
   "metadata": {
    "colab": {
     "base_uri": "https://localhost:8080/",
     "height": 912
    },
    "id": "hL4pN2O9CI7n",
    "outputId": "76297ef7-f98c-4b50-b7ef-27cce39bef41"
   },
   "outputs": [],
   "source": [
    "targets = ['Casa', 'PH', 'Departamento']\n",
    "\n",
    "fig = plt.figure(figsize = (20,20))\n",
    "\n",
    "c = df_pca['target']\n",
    "\n",
    "## plot 1\n",
    "\n",
    "ax = fig.add_subplot(2, 4, 1) \n",
    "\n",
    "x = df_pca['cp_1']\n",
    "y = df_pca['cp_3']\n",
    "\n",
    "ax.scatter(x = x, y = y, c = c)\n",
    "\n",
    "ax.set_xlabel('rooms', fontsize = 10)\n",
    "ax.set_ylabel('price', fontsize = 10)\n",
    "ax.grid()\n",
    "\n",
    "## plot 2\n",
    "\n",
    "ax = fig.add_subplot(2, 4, 2) \n",
    "\n",
    "x = df_pca['cp_2']\n",
    "\n",
    "ax.scatter(x = x, y = y, c = c)\n",
    "\n",
    "ax.set_xlabel('bedrooms', fontsize = 10)\n",
    "ax.set_ylabel('price', fontsize = 10)\n",
    "ax.grid()\n",
    "\n",
    "## plot 3\n",
    "\n",
    "ax = fig.add_subplot(2, 4, 3) \n",
    "\n",
    "x = df_pca['cp_1']\n",
    "y = df_pca['cp_4']\n",
    "\n",
    "ax.scatter(x = x, y = y, c = c)\n",
    "\n",
    "ax.set_xlabel('rooms', fontsize = 10)\n",
    "ax.set_ylabel('surface_covered', fontsize = 10)\n",
    "ax.grid()\n",
    "\n",
    "## plot 4\n",
    "\n",
    "ax = fig.add_subplot(2, 4, 4) \n",
    "\n",
    "y = df_pca['cp_5']\n",
    "\n",
    "ax.scatter(x = x, y = y, c = c)\n",
    "\n",
    "ax.set_xlabel('rooms', fontsize = 10)\n",
    "ax.set_ylabel('surface_total', fontsize = 10)\n",
    "ax.grid()\n",
    "\n",
    "## plot 5\n",
    "\n",
    "ax = fig.add_subplot(2, 4, 5) \n",
    "\n",
    "x = df_pca['cp_2']\n",
    "y = df_pca['cp_4']\n",
    "\n",
    "ax.scatter(x = x, y = y, c = c)\n",
    "\n",
    "ax.set_xlabel('bedrooms', fontsize = 10)\n",
    "ax.set_ylabel('surface_covered', fontsize = 10)\n",
    "ax.grid()\n",
    "\n",
    "## plot 6\n",
    "\n",
    "ax = fig.add_subplot(2, 4, 6) \n",
    "\n",
    "y = df_pca['cp_5']\n",
    "\n",
    "ax.scatter(x = x, y = y, c = c)\n",
    "\n",
    "ax.set_xlabel('bedrooms', fontsize = 10)\n",
    "ax.set_ylabel('surface_total', fontsize = 10)\n",
    "ax.grid()\n",
    "\n",
    "## plot 7\n",
    "\n",
    "ax = fig.add_subplot(2, 4, 7) \n",
    "\n",
    "x = df_pca['cp_3']\n",
    "y = df_pca['cp_4']\n",
    "\n",
    "ax.scatter(x = x, y = y, c = c)\n",
    "\n",
    "ax.set_xlabel('price', fontsize = 10)\n",
    "ax.set_ylabel('surface_covered', fontsize = 10)\n",
    "ax.grid()\n",
    "\n",
    "## plot 8\n",
    "\n",
    "ax = fig.add_subplot(2, 4, 8) \n",
    "\n",
    "y = df_pca['cp_5']\n",
    "\n",
    "ax.scatter(x = x, y = y, c = c)\n",
    "\n",
    "ax.set_xlabel('price', fontsize = 10)\n",
    "ax.set_ylabel('surface_total', fontsize = 10)\n",
    "ax.grid()\n",
    "\n",
    "plt.show()"
   ]
  },
  {
   "cell_type": "code",
   "execution_count": null,
   "metadata": {
    "colab": {
     "base_uri": "https://localhost:8080/",
     "height": 278
    },
    "id": "Uvlpi_wKb8Eg",
    "outputId": "a19e9900-2977-433f-888b-a5b66ba015b6"
   },
   "outputs": [],
   "source": [
    "varianza_explicada = pca.explained_variance_ratio_\n",
    "list_x = list(range(1, len(varianza_explicada)+1))\n",
    "\n",
    "plt.figure(figsize=(6, 4))\n",
    "plt.plot(list_x, varianza_explicada, '-o')\n",
    "plt.xlabel(r'Componentes Principales')\n",
    "plt.ylabel('Varianza explicada')\n",
    "plt.show()"
   ]
  },
  {
   "cell_type": "markdown",
   "metadata": {
    "id": "EqJCNlNL4axE"
   },
   "source": [
    "#  **2. Agrupamiento**"
   ]
  },
  {
   "cell_type": "markdown",
   "metadata": {
    "id": "dIdy4iiUubBh"
   },
   "source": [
    "Primero removemos entradas del dataframe que contienen coordenadas fuera de CABA\n",
    "\n"
   ]
  },
  {
   "cell_type": "code",
   "execution_count": null,
   "metadata": {
    "id": "_wl6rE4buct8"
   },
   "outputs": [],
   "source": [
    "from sklearn.cluster import KMeans\n",
    "from sklearn.metrics import silhouette_score\n",
    "\n",
    "CABA_lat = -34.611817\n",
    "CABA_long = -58.446881\n",
    "\n",
    "df = df.loc[((CABA_lat - 0.5) < df[\"latitud\"]) & (df[\"latitud\"] < (CABA_lat + 0.5))]\n",
    "df = df.loc[((CABA_long - 0.5) < df[\"longitud\"]) & (df[\"longitud\"] < (CABA_long + 0.5))]"
   ]
  },
  {
   "cell_type": "markdown",
   "metadata": {
    "id": "N4rusljXue0F"
   },
   "source": [
    "El primer análisis de clustering lo realizamos entre las variables longitud y latitud, viendo la tendencia al agrupamiento que existe en la posición geográfica:\n",
    "\n"
   ]
  },
  {
   "cell_type": "code",
   "execution_count": null,
   "metadata": {
    "colab": {
     "base_uri": "https://localhost:8080/",
     "height": 388
    },
    "id": "NBmWOJxyueiW",
    "outputId": "65381eae-d13f-451e-c6dd-52189c499fbd"
   },
   "outputs": [],
   "source": [
    "X = np.column_stack((df.longitud.tolist(), df.latitud.tolist()))\n",
    "\n",
    "sse = []\n",
    "list_k = list(range(2, 10))\n",
    "\n",
    "for k in list_k:\n",
    "    km = KMeans(n_clusters=k)\n",
    "    km.fit(X)\n",
    "    sse.append(km.inertia_)\n",
    "    \n",
    "plt.figure(figsize=(6, 6))\n",
    "plt.plot(list_k, sse, '-o')\n",
    "plt.xlabel(r'Cantidad de clusters')\n",
    "plt.ylabel('SSE')\n",
    "plt.show()"
   ]
  },
  {
   "cell_type": "markdown",
   "metadata": {
    "id": "y6CnrAOLu0ZV"
   },
   "source": [
    "Utilizando 5 clusters\n",
    "\n"
   ]
  },
  {
   "cell_type": "code",
   "execution_count": null,
   "metadata": {
    "colab": {
     "base_uri": "https://localhost:8080/",
     "height": 282
    },
    "id": "rJzuDGJKu2vV",
    "outputId": "ea8412de-5c4c-46fc-fb82-beec9cc95036"
   },
   "outputs": [],
   "source": [
    "kmeans = KMeans(n_clusters=5)\n",
    "kmeans.fit(X)\n",
    "y_kmeans = kmeans.predict(X)\n",
    "plt.scatter(X[:, 0], X[:, 1], c=y_kmeans, s=10)\n",
    "\n",
    "centers = kmeans.cluster_centers_\n",
    "plt.scatter(centers[:, 0], centers[:, 1], c='red', s=50, alpha=0.5,marker='.')\n",
    "plt.show()\n",
    "print (\"Silhouette Score para 5 clusters = \" + str(silhouette_score(X, y_kmeans)))"
   ]
  },
  {
   "cell_type": "markdown",
   "metadata": {
    "id": "bnkw7i8lu60C"
   },
   "source": [
    "Utilizando 3 clusters\n",
    "\n"
   ]
  },
  {
   "cell_type": "code",
   "execution_count": null,
   "metadata": {
    "colab": {
     "base_uri": "https://localhost:8080/",
     "height": 282
    },
    "id": "nEi4D2G7vCYB",
    "outputId": "3d06e8b4-c8f7-43c1-a8b5-ca31a813cf7e"
   },
   "outputs": [],
   "source": [
    "kmeans = KMeans(n_clusters=3)\n",
    "kmeans.fit(X)\n",
    "y_kmeans = kmeans.predict(X)\n",
    "plt.scatter(X[:, 0], X[:, 1], c=y_kmeans, s=10)\n",
    "\n",
    "centers = kmeans.cluster_centers_\n",
    "plt.scatter(centers[:, 0], centers[:, 1], c='red', s=50, alpha=0.5,marker='.')\n",
    "plt.show()\n",
    "\n",
    "print (\"Silhouette Score para 3 clusters = \" + str(silhouette_score(X, y_kmeans)))"
   ]
  },
  {
   "cell_type": "markdown",
   "metadata": {
    "id": "S9Cfh4WovFCK"
   },
   "source": [
    "Viendo la curva de cantidad de clusters contra la distancia media al centroide (SSE) podemos ver que no existen clusters definidos, no se ve un claro codo en el cual elegir un numero de clusters ideal. No existen agrupamientos definidos.\n",
    "\n",
    "Un segundo análisis que decidimos realizar es si existe clustering entre tres variables: longitud, latitud y precio. Obtuvimos los mismos resultados que el caso anterior:"
   ]
  },
  {
   "cell_type": "code",
   "execution_count": null,
   "metadata": {
    "colab": {
     "base_uri": "https://localhost:8080/",
     "height": 1000
    },
    "id": "vPNpw9mbvIKB",
    "outputId": "6e5c1867-f363-47cb-dabe-f7d192689658"
   },
   "outputs": [],
   "source": [
    "X = df.iloc[:,[5,4,15]].values\n",
    "\n",
    "sse = []\n",
    "list_k = list(range(2, 10))\n",
    "\n",
    "for k in list_k:\n",
    "    km = KMeans(n_clusters=k)\n",
    "    km.fit(X)\n",
    "    sse.append(km.inertia_)\n",
    "    \n",
    "plt.figure(figsize=(6, 6))\n",
    "plt.plot(list_k, sse, '-o')\n",
    "plt.xlabel(r'Cantidad de clusters')\n",
    "plt.ylabel('SSE')\n",
    "plt.show()\n",
    "\n",
    "fig = plt.figure(figsize=(15,15))\n",
    "ax = fig.add_subplot(projection='3d')\n",
    "\n",
    "kmeans = KMeans(n_clusters=3)\n",
    "kmeans.fit(X)\n",
    "y_kmeans = kmeans.predict(X)\n",
    "\n",
    "centers = kmeans.cluster_centers_\n",
    "ax.scatter(X[:,0], X[:,1], X[:,2], c=y_kmeans, s=0.2)\n",
    "ax.scatter(centers[:,0], centers[:,1], centers[:,2], c=\"red\", s=500, marker=\"o\")"
   ]
  },
  {
   "cell_type": "code",
   "execution_count": null,
   "metadata": {
    "colab": {
     "base_uri": "https://localhost:8080/",
     "height": 282
    },
    "id": "y2CMKTAOvKjI",
    "outputId": "2cca7cc6-59a3-4b5e-c18e-cdf474d5fe55"
   },
   "outputs": [],
   "source": [
    "plt.scatter(X[:, 0], X[:, 1], c=y_kmeans, s=1)\n"
   ]
  },
  {
   "cell_type": "markdown",
   "metadata": {
    "id": "liWj6wzPvMZx"
   },
   "source": [
    "Como no obtuvimos un clustering definido, buscamos ver si existía un agrupamiento entre ubicación geográfica y precio por metro cuadrado. Los resultados fueron similares."
   ]
  },
  {
   "cell_type": "code",
   "execution_count": null,
   "metadata": {
    "colab": {
     "base_uri": "https://localhost:8080/",
     "height": 398
    },
    "id": "O4S_PNOsvODl",
    "outputId": "dc368e5a-63e0-41ff-af03-e00c5098880b"
   },
   "outputs": [],
   "source": [
    "df[\"property_m2price\"] = df[\"property_price\"] / df[\"property_surface_total\"]\n",
    "X = df.iloc[:,[5,4, df.shape[1]-1]].loc[(df.property_m2price < 5000)].values\n",
    "sse = []\n",
    "sscore = []\n",
    "list_k = list(range(2, 10))\n",
    "\n",
    "for k in list_k:\n",
    "    km = KMeans(n_clusters=k)\n",
    "    km.fit(X)\n",
    "    y_kmeans = km.predict(X)\n",
    "    sse.append(km.inertia_)\n",
    "    sscore.append(silhouette_score(X, y_kmeans))\n",
    "    \n",
    "plt.figure(figsize=(6, 6))\n",
    "plt.plot(list_k, sse, '-o')\n",
    "plt.xlabel(r'Cantidad de clusters')\n",
    "plt.ylabel('SSE')\n",
    "plt.show()"
   ]
  },
  {
   "cell_type": "code",
   "execution_count": null,
   "metadata": {
    "colab": {
     "base_uri": "https://localhost:8080/",
     "height": 864
    },
    "id": "KfKWbxDVvPxu",
    "outputId": "372047a8-1714-42d0-af32-bad78e0edca8"
   },
   "outputs": [],
   "source": [
    "fig = plt.figure(figsize=(15,15))\n",
    "ax = fig.add_subplot(projection='3d')\n",
    "\n",
    "kmeans = KMeans(n_clusters=3)\n",
    "kmeans.fit(X)\n",
    "y_kmeans = kmeans.predict(X)\n",
    "ax.scatter(X[:,0], X[:,1], X[:,2], c=y_kmeans, s=5)"
   ]
  },
  {
   "cell_type": "code",
   "execution_count": null,
   "metadata": {
    "colab": {
     "base_uri": "https://localhost:8080/",
     "height": 282
    },
    "id": "Dccg0CL_vReg",
    "outputId": "70750433-d404-4f75-b4af-b6394b9a0811"
   },
   "outputs": [],
   "source": [
    "plt.scatter(X[:, 0], X[:, 1], c=y_kmeans, s=10)\n"
   ]
  },
  {
   "cell_type": "code",
   "execution_count": null,
   "metadata": {
    "colab": {
     "base_uri": "https://localhost:8080/",
     "height": 388
    },
    "id": "Cyye8CgUvTHe",
    "outputId": "3cb63fb2-79bc-4d77-c13a-82a6ed8190c2"
   },
   "outputs": [],
   "source": [
    "plt.figure(figsize=(6, 6))\n",
    "plt.plot(list_k, sscore, '-o')\n",
    "plt.xlabel(r'Cantidad de clusters')\n",
    "plt.ylabel('Silhouette Score')\n",
    "plt.show()"
   ]
  },
  {
   "cell_type": "code",
   "execution_count": null,
   "metadata": {
    "colab": {
     "base_uri": "https://localhost:8080/",
     "height": 646
    },
    "id": "nVJ_LBjvvVKL",
    "outputId": "3fafda28-ab45-4c21-e972-97b06c929449"
   },
   "outputs": [],
   "source": [
    "X = df.iloc[:,[15,13]].values\n",
    "\n",
    "sse = []\n",
    "list_k = list(range(2, 10))\n",
    "\n",
    "for k in list_k:\n",
    "    km = KMeans(n_clusters=k)\n",
    "    km.fit(X)\n",
    "    sse.append(km.inertia_)\n",
    "    \n",
    "plt.figure(figsize=(6, 6))\n",
    "plt.plot(list_k, sse, '-o')\n",
    "plt.xlabel(r'Cantidad de clusters')\n",
    "plt.ylabel('SSE')\n",
    "plt.show()\n",
    "\n",
    "kmeans = KMeans(n_clusters=5, max_iter=900)\n",
    "kmeans.fit(X)\n",
    "y_kmeans = kmeans.predict(X)\n",
    "plt.scatter(X[:, 1], X[:, 0], c=y_kmeans, s=0.3)\n",
    "\n",
    "centers = kmeans.cluster_centers_\n",
    "plt.scatter(centers[:, 1], centers[:, 0], c='red', s=50, alpha=0.5,marker='.')\n",
    "plt.show()"
   ]
  },
  {
   "cell_type": "code",
   "execution_count": null,
   "metadata": {
    "colab": {
     "base_uri": "https://localhost:8080/",
     "height": 646
    },
    "id": "994LzM1kvXeR",
    "outputId": "7cd58a87-c103-40ce-e1e8-2b5298e2353e"
   },
   "outputs": [],
   "source": [
    "X = df.iloc[:,[11,14]].loc[df.property_rooms.notna()].values\n",
    "\n",
    "sse = []\n",
    "list_k = list(range(2, 10))\n",
    "\n",
    "for k in list_k:\n",
    "   km = KMeans(n_clusters=k)\n",
    "   km.fit(X)\n",
    "   sse.append(km.inertia_)\n",
    "    \n",
    "plt.figure(figsize=(6, 6))\n",
    "plt.plot(list_k, sse, '-o')\n",
    "plt.xlabel(r'Cantidad de clusters')\n",
    "plt.ylabel('SSE')\n",
    "plt.show()\n",
    "\n",
    "kmeans = KMeans(n_clusters=5, max_iter=900)\n",
    "kmeans.fit(X)\n",
    "y_kmeans = kmeans.predict(X)\n",
    "plt.scatter(X[:, 1], X[:, 0], c=y_kmeans, s=0.3)\n",
    "\n",
    "centers = kmeans.cluster_centers_\n",
    "plt.scatter(centers[:, 1], centers[:, 0], c='red', s=50, alpha=0.5,marker='.')\n",
    "plt.show()"
   ]
  },
  {
   "cell_type": "markdown",
   "metadata": {
    "id": "HOlJzNDc4i3L"
   },
   "source": [
    "#  **3. Clasificación**"
   ]
  },
  {
   "cell_type": "markdown",
   "metadata": {
    "id": "0K4ZTj7KrhKN"
   },
   "source": [
    "## **3a. Construcción del target**"
   ]
  },
  {
   "cell_type": "markdown",
   "metadata": {},
   "source": [
    "Primera alternativa, variable pxm2 en 3 intervalos con igual cantidad de observaciones."
   ]
  },
  {
   "cell_type": "code",
   "execution_count": null,
   "metadata": {
    "id": "CyLyG29fv9OI"
   },
   "outputs": [],
   "source": [
    "df['precioxm2'] = df['property_price']/df['property_surface_total']\n",
    "df.sort_values(by=[\"precioxm2\"], inplace=True)"
   ]
  },
  {
   "cell_type": "code",
   "execution_count": null,
   "metadata": {},
   "outputs": [],
   "source": [
    "df['tipo_precio_1'] = pd.qcut(x=df['precioxm2'], q=3, labels=['bajo', 'medio', 'alto'])\n",
    "df.value_counts(\"tipo_precio_1\")"
   ]
  },
  {
   "cell_type": "code",
   "execution_count": null,
   "metadata": {},
   "outputs": [],
   "source": [
    "df['tipo_precio_2'] = pd.qcut(x=df['precioxm2'], q=4, labels=['bajo', 'medio', 'medio2', 'alto'])\n",
    "df['tipo_precio_2'].replace(\"medio2\",\"medio\")\n",
    "df.value_counts(\"tipo_precio_2\")"
   ]
  },
  {
   "cell_type": "code",
   "execution_count": null,
   "metadata": {
    "colab": {
     "base_uri": "https://localhost:8080/",
     "height": 308
    },
    "id": "sHwlNN_V1Vs2",
    "outputId": "406ce84a-9009-4af9-f33e-7b213f8b84bf"
   },
   "outputs": [],
   "source": [
    "sns.kdeplot(data=df.precioxm2, gridsize=15)"
   ]
  },
  {
   "cell_type": "code",
   "execution_count": null,
   "metadata": {
    "colab": {
     "base_uri": "https://localhost:8080/",
     "height": 308
    },
    "id": "nYLj9lPV19ll",
    "outputId": "7c8d0480-5ddb-48ca-ba34-fbafa16dfcfe"
   },
   "outputs": [],
   "source": [
    "sns.kdeplot(data=df, x=\"precioxm2\", hue=\"property_type\", gridsize=15)"
   ]
  },
  {
   "cell_type": "code",
   "execution_count": null,
   "metadata": {
    "colab": {
     "base_uri": "https://localhost:8080/",
     "height": 284
    },
    "id": "wXd3nAlS6lj3",
    "outputId": "3dd7fd41-fb9b-4bf8-beea-8469af7dd7e5"
   },
   "outputs": [],
   "source": [
    "df.loc[df['property_type'].isin([\"Casa\"])]['tipo_precio'].hist()"
   ]
  },
  {
   "cell_type": "code",
   "execution_count": null,
   "metadata": {
    "colab": {
     "base_uri": "https://localhost:8080/",
     "height": 282
    },
    "id": "9_yzA74k7xAM",
    "outputId": "238b1bf2-cd2c-46df-f8c3-75f44ae7fc56",
    "scrolled": true
   },
   "outputs": [],
   "source": [
    "df.loc[df['property_type'].isin([\"Departamento\"])]['tipo_precio'].hist()"
   ]
  },
  {
   "cell_type": "code",
   "execution_count": null,
   "metadata": {
    "colab": {
     "base_uri": "https://localhost:8080/",
     "height": 282
    },
    "id": "X8oDKi0t71Ci",
    "outputId": "ac8e4dde-b155-4619-ad8e-63b427deaa57"
   },
   "outputs": [],
   "source": [
    "df.loc[df['property_type'].isin([\"PH\"])]['tipo_precio'].hist()"
   ]
  },
  {
   "cell_type": "markdown",
   "metadata": {
    "id": "vUBh-FFz8Qty"
   },
   "source": [
    "De analizar el gráfico resultante para el tipo de precio de las propiedades de tipo \"PH\" podemos ver que la mayor cantidad de publicaciones (aproximadamente 3000) tienen un precio alto en comparación con las demás. Adicionalmente podemos ver que hay cerca de unas 2500 publicaciones con precios bajo y medio."
   ]
  },
  {
   "cell_type": "markdown",
   "metadata": {
    "id": "QYa0waxZ-tT0"
   },
   "source": [
    "## **3b. Entrenamiento y Predicción**"
   ]
  },
  {
   "cell_type": "code",
   "execution_count": null,
   "metadata": {},
   "outputs": [],
   "source": [
    "df.head()"
   ]
  },
  {
   "cell_type": "code",
   "execution_count": null,
   "metadata": {},
   "outputs": [],
   "source": [
    "ds_trabajo=df.drop(['Survived'], axis='columns')"
   ]
  },
  {
   "cell_type": "markdown",
   "metadata": {
    "id": "6zkoALij4rrq"
   },
   "source": [
    "#  **4. Regresión**"
   ]
  },
  {
   "cell_type": "markdown",
   "metadata": {
    "id": "UvOkWFJf4u8h"
   },
   "source": [
    "#  **5. Conclusiones**"
   ]
  }
 ],
 "metadata": {
  "colab": {
   "collapsed_sections": [],
   "provenance": []
  },
  "kernelspec": {
   "display_name": "Python 3 (ipykernel)",
   "language": "python",
   "name": "python3"
  },
  "language_info": {
   "codemirror_mode": {
    "name": "ipython",
    "version": 3
   },
   "file_extension": ".py",
   "mimetype": "text/x-python",
   "name": "python",
   "nbconvert_exporter": "python",
   "pygments_lexer": "ipython3",
   "version": "3.10.8"
  }
 },
 "nbformat": 4,
 "nbformat_minor": 1
}
