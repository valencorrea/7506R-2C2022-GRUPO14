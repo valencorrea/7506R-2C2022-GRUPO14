{
 "cells": [
  {
   "cell_type": "markdown",
   "metadata": {
    "id": "IOHMzhsjZRFe"
   },
   "source": [
    "______________________________________\n",
    "# <center>**Trabajo Practico Nº1 para la Materia *Organización de Datos***</center>\n",
    "\n",
    "*Integrantes*: \n",
    "- 103963\tCarolina Di Matteo\tcdimatteo@fi.uba.ar\n",
    "- 101231\tPablo Salvador Dimartino\tpdimartino@fi.uba.ar\n",
    "- 100113\tJuan Sebastian Burgos\tjsburgos@fi.uba.ar\n",
    "- 104415\tValentina Laura Correa\tvcorrea@fi.uba.ar\n",
    "\n",
    "*Grupo*: 14\n",
    "\n",
    "*Repositorio*: [github](https://github.com/valencorrea/7506R-2C2022-GRUPO14)\n",
    "\n",
    "*Curso*: Rodriguez\n",
    "\n",
    "*Cuatrimestre*: 2c2022\n",
    "______________________________________\n",
    "\n"
   ]
  },
  {
   "cell_type": "markdown",
   "metadata": {
    "id": "112riqhc5x7T"
   },
   "source": [
    "**Set Up**"
   ]
  },
  {
   "cell_type": "code",
   "execution_count": 1,
   "metadata": {
    "colab": {
     "base_uri": "https://localhost:8080/",
     "height": 373
    },
    "id": "7w6NFIXYjFYH",
    "outputId": "134b76b2-8ec9-418f-ee4a-29a2d8c18abd"
   },
   "outputs": [
    {
     "ename": "ModuleNotFoundError",
     "evalue": "No module named 'dtreeviz'",
     "output_type": "error",
     "traceback": [
      "\u001b[1;31m---------------------------------------------------------------------------\u001b[0m",
      "\u001b[1;31mModuleNotFoundError\u001b[0m                       Traceback (most recent call last)",
      "Cell \u001b[1;32mIn [1], line 11\u001b[0m\n\u001b[0;32m      9\u001b[0m \u001b[38;5;28;01mfrom\u001b[39;00m \u001b[38;5;21;01msklearn\u001b[39;00m\u001b[38;5;21;01m.\u001b[39;00m\u001b[38;5;21;01mpreprocessing\u001b[39;00m \u001b[38;5;28;01mimport\u001b[39;00m StandardScaler\n\u001b[0;32m     10\u001b[0m \u001b[38;5;28;01mfrom\u001b[39;00m \u001b[38;5;21;01msklearn\u001b[39;00m\u001b[38;5;21;01m.\u001b[39;00m\u001b[38;5;21;01mdecomposition\u001b[39;00m \u001b[38;5;28;01mimport\u001b[39;00m PCA\n\u001b[1;32m---> 11\u001b[0m \u001b[38;5;28;01mimport\u001b[39;00m \u001b[38;5;21;01mdtreeviz\u001b[39;00m\u001b[38;5;21;01m.\u001b[39;00m\u001b[38;5;21;01mtrees\u001b[39;00m \u001b[38;5;28;01mas\u001b[39;00m \u001b[38;5;21;01mdtreeviz\u001b[39;00m\n\u001b[0;32m     12\u001b[0m \u001b[38;5;28;01mfrom\u001b[39;00m \u001b[38;5;21;01msklearn\u001b[39;00m\u001b[38;5;21;01m.\u001b[39;00m\u001b[38;5;21;01mmodel_selection\u001b[39;00m \u001b[38;5;28;01mimport\u001b[39;00m StratifiedKFold, KFold,RandomizedSearchCV\n\u001b[0;32m     13\u001b[0m \u001b[38;5;28;01mfrom\u001b[39;00m \u001b[38;5;21;01msklearn\u001b[39;00m\u001b[38;5;21;01m.\u001b[39;00m\u001b[38;5;21;01mtree\u001b[39;00m \u001b[38;5;28;01mimport\u001b[39;00m DecisionTreeClassifier\n",
      "\u001b[1;31mModuleNotFoundError\u001b[0m: No module named 'dtreeviz'"
     ]
    }
   ],
   "source": [
    "# Importamos las liberias que utilizaremos a lo largo del tp\n",
    "import pandas as pd\n",
    "import numpy as np\n",
    "import matplotlib.pyplot as plt\n",
    "from matplotlib.ticker import PercentFormatter\n",
    "import seaborn as sns\n",
    "import scipy as sc\n",
    "from sklearn.neighbors import LocalOutlierFactor\n",
    "from sklearn.preprocessing import StandardScaler\n",
    "from sklearn.decomposition import PCA\n",
    "import dtreeviz.trees as dtreeviz\n",
    "from sklearn.model_selection import StratifiedKFold, KFold,RandomizedSearchCV\n",
    "from sklearn.tree import DecisionTreeClassifier\n",
    "from sklearn.metrics import make_scorer\n",
    "import sklearn as sk\n",
    "\n",
    "#modelos y métricas\n",
    "from sklearn import tree\n",
    "from sklearn.model_selection import train_test_split\n",
    "from sklearn.metrics import confusion_matrix, precision_recall_curve, roc_curve, recall_score, accuracy_score,f1_score\n",
    "\n",
    "#preprocesamiento\n",
    "from sklearn.preprocessing import MinMaxScaler\n",
    "\n",
    "#configuración warnings\n",
    "import warnings\n",
    "warnings.filterwarnings('ignore')\n",
    "warnings.simplefilter(action='ignore', category=FutureWarning)\n",
    "warnings.simplefilter(action='ignore', category=UserWarning)\n",
    "\n",
    "##Ejecución con drive\n",
    "# from google.colab import drive\n",
    "# drive.mount('/content/drive')\n",
    "# properati=pd.read_csv('/content/drive/MyDrive/📔 Organización de Datos (75.06)/TPS/TP1/properati_argentina_2021.csv')\n",
    "\n",
    "# Accedemos al archivo a analizar\n",
    "properati=pd.read_csv('properati_argentina_2021.csv')\n"
   ]
  },
  {
   "cell_type": "markdown",
   "metadata": {
    "id": "Q-pkcGlPiCCv"
   },
   "source": [
    "#  **1. Análisis Exploratorio y Preprocesamiento de Datos**"
   ]
  },
  {
   "cell_type": "markdown",
   "metadata": {
    "id": "hwR861Zpj4Wx"
   },
   "source": [
    "## **1a. Exploración Inicial**\n"
   ]
  },
  {
   "cell_type": "markdown",
   "metadata": {
    "id": "r1dijE9hlozX"
   },
   "source": [
    "A continuación se realizara un análisis general de cada una de las variables presentes en el dataframe."
   ]
  },
  {
   "cell_type": "code",
   "execution_count": null,
   "metadata": {
    "colab": {
     "base_uri": "https://localhost:8080/"
    },
    "id": "KO5MyE1AXcTk",
    "outputId": "d0d7e224-fe21-4182-afa0-083c1807d0c8"
   },
   "outputs": [],
   "source": [
    "df = properati.copy()\n",
    "df.dtypes"
   ]
  },
  {
   "cell_type": "markdown",
   "metadata": {
    "id": "l4K7r5jnXcTm"
   },
   "source": [
    "Actualmente los únicos dos tipos de datos que tenemos son Float64 y Object.\n",
    "\n",
    "Viendo las primeras entradas, podemos observar que el tipo Object oculta fechas que se adecuan mejor al tipo de datos DateTime."
   ]
  },
  {
   "cell_type": "code",
   "execution_count": null,
   "metadata": {
    "colab": {
     "base_uri": "https://localhost:8080/",
     "height": 357
    },
    "id": "eDp09StlXcTn",
    "outputId": "5e67151b-3f20-4d75-bedb-1d6b1aa5f560"
   },
   "outputs": [],
   "source": [
    "df.head()"
   ]
  },
  {
   "cell_type": "markdown",
   "metadata": {
    "id": "EJfy4bmhko-0"
   },
   "source": [
    "### Preparación de los datasets\n",
    "\n",
    "---"
   ]
  },
  {
   "cell_type": "markdown",
   "metadata": {
    "id": "z9CA-H7PwIHg"
   },
   "source": [
    "Aplicamos los filtros necesarios que figuran en los requerimientos, y cambiamos el dtype de las fechas a DateTime. \n",
    "\n",
    "Por otro lado, determinamos tanto el modelo a entrenar como el que usaremos para realizar las predicciones."
   ]
  },
  {
   "cell_type": "code",
   "execution_count": null,
   "metadata": {
    "colab": {
     "base_uri": "https://localhost:8080/"
    },
    "id": "LlgRrurjqerq",
    "outputId": "4a6957e6-2a77-4f2a-b53b-9187242fbf84"
   },
   "outputs": [],
   "source": [
    "df = df.loc[df['property_type'].isin([\"Casa\", \"PH\", \"Departamento\"])].loc[df['place_l2'].isin([\"Capital Federal\"])].loc[df['operation'].isin([\"Venta\"])].loc[df['property_currency'].isin([\"USD\"])]\n",
    "df['start_date']= pd.to_datetime(df['start_date'])\n",
    "df['created_on']= pd.to_datetime(df['created_on'])\n",
    "df.replace(to_replace=\"9999-12-31\", value=\"\", inplace=True)\n",
    "df['end_date']= pd.to_datetime(df['end_date'])\n",
    "\n",
    "train = df.sample(frac=0.8, random_state=200)\n",
    "test = df.drop(train.index)\n",
    "df.columns.tolist()"
   ]
  },
  {
   "cell_type": "markdown",
   "metadata": {
    "id": "vw_ttu65v1NY"
   },
   "source": [
    "### Descripción de Campos\n",
    "\n",
    "---"
   ]
  },
  {
   "cell_type": "markdown",
   "metadata": {
    "id": "RMXCPaAtmOZb"
   },
   "source": [
    "`id`: Identificador del aviso\n",
    "\n",
    "`start_date`: Fecha de alta del aviso\n",
    "\n",
    "`end_date`: Fecha de baja del aviso\n",
    "\n",
    "`created_on`: Fecha de alta de la primera versión del aviso\n",
    "\n",
    "`latitud`: Ubicación geográfica\n",
    "\n",
    "`longitud`: Ubicación geográfica\n",
    "\n",
    "`place_l2`: Nivel administrativo 2, usualmente provincia\n",
    "\n",
    "`place_l3`: Nivel administrativo 3, usualmente ciudad\n",
    "\n",
    "`place_l4`: Nivel administrativo 4, usualmente barrio\n",
    "\n",
    "`place_l5`: Nivel administrativo 5\n",
    "\n",
    "`place_l6`: Nivel administrativo 6\n",
    "\n",
    "`operation`: Tipo de operación (venta, alquiler)\n",
    "\n",
    "`property_type`: Tipo de propiedad (casa, departamento, ph)\n",
    "\n",
    "`property_rooms`: Cantidad de ambientes\n",
    "\n",
    "`property_bedrooms`: Cantidad de dormitorios\n",
    "\n",
    "`property_surface_total`: Superficie total en metros cuadrados\n",
    "\n",
    "`property_surface_covered`: Superficie cubierta en metros cuadrados\n",
    "\n",
    "`property_price`: Precio publicado en el anuncio\n",
    "\n",
    "`property_currency`: Moneda del precio publicado\n",
    "\n",
    "`property_title`: Título del anuncio"
   ]
  },
  {
   "cell_type": "markdown",
   "metadata": {
    "id": "hRDAhfItwo-E"
   },
   "source": [
    "### Variables Cuantitativas: Medidas de Resumen\n",
    "\n",
    "---"
   ]
  },
  {
   "cell_type": "markdown",
   "metadata": {
    "id": "AIfeq7wxwuSO"
   },
   "source": [
    "Calculamos, para la totalidad de las variables que nos brinda el dataset:\n",
    "- media\n",
    "- mediana\n",
    "- q1\n",
    "- q3 \n",
    "- moda"
   ]
  },
  {
   "cell_type": "code",
   "execution_count": null,
   "metadata": {
    "colab": {
     "base_uri": "https://localhost:8080/",
     "height": 270
    },
    "id": "roa6hM62oTVv",
    "outputId": "4ff85c17-2ac7-486d-edea-8078f3ffb0fd"
   },
   "outputs": [],
   "source": [
    "df.describe().loc[['mean', '25%', '75%', 'std']].append(df.median().rename(\"median\"))"
   ]
  },
  {
   "cell_type": "markdown",
   "metadata": {
    "id": "Gr9usESkxJ6D"
   },
   "source": [
    "### Variables Cualitativas: Cantidades y Frecuencias\n",
    "\n",
    "---"
   ]
  },
  {
   "cell_type": "markdown",
   "metadata": {
    "id": "P2KWW-GIk9GQ"
   },
   "source": [
    "Realizamos, para las variables `place_l3`, `place_l4` y `property_type` un cálculo de los diferentes valores así también como sus respectivas frecuencias."
   ]
  },
  {
   "cell_type": "code",
   "execution_count": null,
   "metadata": {
    "colab": {
     "base_uri": "https://localhost:8080/"
    },
    "id": "TAlhDGhz2RZd",
    "outputId": "5218487c-bdad-496c-e7a6-b3bca5920b62"
   },
   "outputs": [],
   "source": [
    "print(f\"place_l3 tiene {df.nunique()['place_l3']} valores diferentes\")"
   ]
  },
  {
   "cell_type": "code",
   "execution_count": null,
   "metadata": {
    "colab": {
     "base_uri": "https://localhost:8080/",
     "height": 546
    },
    "id": "w4pZdqx3yzjl",
    "outputId": "c57ab035-f6b7-48cb-dd12-ffae78ee4675"
   },
   "outputs": [],
   "source": [
    "fig, ax = plt.subplots()\n",
    "df['place_l3'].value_counts().plot(ax=ax, kind='bar', figsize=(15,8), fontsize=12)"
   ]
  },
  {
   "cell_type": "code",
   "execution_count": null,
   "metadata": {
    "colab": {
     "base_uri": "https://localhost:8080/"
    },
    "id": "u0NU6YMi2UhW",
    "outputId": "1523552b-caec-4532-8ecd-362f2272d07c"
   },
   "outputs": [],
   "source": [
    "print(f\"place_l4 tiene {df.nunique()['place_l4']} valores diferentes\")"
   ]
  },
  {
   "cell_type": "code",
   "execution_count": null,
   "metadata": {
    "colab": {
     "base_uri": "https://localhost:8080/",
     "height": 282
    },
    "id": "FMlRKspx1RLH",
    "outputId": "6cd3818b-befa-4799-a162-4b32a47566f2"
   },
   "outputs": [],
   "source": [
    "df['place_l4'].hist()"
   ]
  },
  {
   "cell_type": "code",
   "execution_count": null,
   "metadata": {
    "colab": {
     "base_uri": "https://localhost:8080/",
     "height": 282
    },
    "id": "QM7Edif4ztMO",
    "outputId": "6c3f5cf1-7b6c-4a35-9391-31959c0c2252"
   },
   "outputs": [],
   "source": [
    "df['property_type'].hist()"
   ]
  },
  {
   "cell_type": "code",
   "execution_count": null,
   "metadata": {
    "colab": {
     "base_uri": "https://localhost:8080/"
    },
    "id": "Q66WQYjz2Xok",
    "outputId": "f2af17ce-4252-4afe-f39e-51ac199768c1"
   },
   "outputs": [],
   "source": [
    "print(f\"property_type tiene {df.nunique()['property_type']} valores diferentes\")"
   ]
  },
  {
   "cell_type": "markdown",
   "metadata": {
    "id": "4bQXzkhg4ipf"
   },
   "source": [
    "### Determinación de Variables Irrelevantes\n",
    "\n",
    "---"
   ]
  },
  {
   "cell_type": "markdown",
   "metadata": {
    "id": "OihHviLu2dV7"
   },
   "source": [
    "Finalmente, podremos decir que dejamos fuera de este análisis particular a las a las siguientes variables que detallamos a continuación:\n",
    "\n",
    "- `operation`: Sólo hay un tipo de operación según lo solicitado en la consigna y es \"Venta\", con lo cual la consideramos irrelevante en el análisis.\n",
    "- `property_currency`: Sólo hay un tipo de cambio según lo solicitado en la consigna y es \"USD\", con lo cual la consideramos irrelevante en el análisis.\n",
    "- `place_l5`: De analizar previamente el dataset con el cual estamos trabajando, detectamos que la columna en cuestión se encuentra vacía, con lo cual la consideramos irrelevante en el análisis.\n",
    "- `place_l6`: De analizar previamente el dataset con el cual estamos trabajando, detectamos que la columna en cuestión se encuentra vacía, con lo cual la consideramos irrelevante en el análisis.\n",
    "- `property_title`: De conocer previamente la información que contiene el dataset, sabemos que la variable en cuestión almacena un único título por publicación, con lo cual la consideramos irrelevante en el análisis."
   ]
  },
  {
   "cell_type": "markdown",
   "metadata": {
    "id": "qvKggsaWB3Y9"
   },
   "source": [
    "### Análisis Gráfico de las Distribuciones de las Variables\n",
    "\n",
    "---\n",
    "\n"
   ]
  },
  {
   "cell_type": "markdown",
   "metadata": {
    "id": "CwrHylmo4v5W"
   },
   "source": [
    "#### Densidad de la variable `latitud`"
   ]
  },
  {
   "cell_type": "code",
   "execution_count": null,
   "metadata": {
    "colab": {
     "base_uri": "https://localhost:8080/",
     "height": 296
    },
    "id": "hR9T5l7EB2yj",
    "outputId": "4ac530c1-e044-4d4d-826c-f88f3a9eae4c"
   },
   "outputs": [],
   "source": [
    "#grf = df['latitud'].plot.kde(title=\"Densidad variable Start date\",xlabel=\"x\",ylabel=\"y\").xlim(-10, 10)\n",
    "#sns.displot(df.latitud, hist=False, kde_kws={'clip': (-10.0, 10.0)})\n",
    "# ver despues de machearlas con los property_types \n",
    "sns.kdeplot(data=df.latitud, gridsize=70)"
   ]
  },
  {
   "cell_type": "markdown",
   "metadata": {
    "id": "uvKB4TpJ40N3"
   },
   "source": [
    "#### Densidad de la variable `longitud`"
   ]
  },
  {
   "cell_type": "code",
   "execution_count": null,
   "metadata": {
    "colab": {
     "base_uri": "https://localhost:8080/",
     "height": 296
    },
    "id": "E7CNCSjBOklg",
    "outputId": "c26c963e-6422-4879-e7b5-e42eda5e2218"
   },
   "outputs": [],
   "source": [
    "sns.kdeplot(data=df.longitud, gridsize=30)\n"
   ]
  },
  {
   "cell_type": "markdown",
   "metadata": {
    "id": "uJY4CRZl5J5k"
   },
   "source": [
    "#### Densidad de la variable `property_price`"
   ]
  },
  {
   "cell_type": "code",
   "execution_count": null,
   "metadata": {
    "colab": {
     "background_save": true,
     "base_uri": "https://localhost:8080/",
     "height": 308
    },
    "id": "HcH2_gnOOmh3",
    "outputId": "53bd43e3-0dc3-4efd-ef05-d8c86e40d245"
   },
   "outputs": [],
   "source": [
    "sns.kdeplot(data=df.property_price, gridsize=15)\n"
   ]
  },
  {
   "cell_type": "markdown",
   "metadata": {
    "id": "okhaOan15OYp"
   },
   "source": [
    "#### Densidad de la variable `property_rooms`"
   ]
  },
  {
   "cell_type": "code",
   "execution_count": null,
   "metadata": {
    "colab": {
     "base_uri": "https://localhost:8080/",
     "height": 297
    },
    "id": "9h2fzjdCPYXK",
    "outputId": "3d3aa213-025d-4dfe-9160-be03f66f163f"
   },
   "outputs": [],
   "source": [
    "sns.countplot(x=df['property_rooms'].dropna().astype('int32'))"
   ]
  },
  {
   "cell_type": "markdown",
   "metadata": {
    "id": "2eCIdUAH5S7v"
   },
   "source": [
    "#### Densidad de la variable `property_surface_covered`"
   ]
  },
  {
   "cell_type": "code",
   "execution_count": null,
   "metadata": {
    "colab": {
     "base_uri": "https://localhost:8080/",
     "height": 308
    },
    "id": "85vZd9YQO-jP",
    "outputId": "7c1ff9f6-8629-43ad-e76b-c23fe1e56c97"
   },
   "outputs": [],
   "source": [
    "sns.kdeplot(data=df.property_surface_covered, gridsize=20)\n"
   ]
  },
  {
   "cell_type": "markdown",
   "metadata": {
    "id": "a2UxzMy1Byn_"
   },
   "source": [
    "### Análisis de las Correlaciones existentes entre las Variables\n",
    "\n",
    "---"
   ]
  },
  {
   "cell_type": "code",
   "execution_count": null,
   "metadata": {
    "id": "ZKjqGi6LkZku"
   },
   "outputs": [],
   "source": [
    "df.drop([\"place_l5\", \"place_l6\"], axis = 1, inplace = True)"
   ]
  },
  {
   "cell_type": "code",
   "execution_count": null,
   "metadata": {
    "id": "DHSQHXNUXKLb"
   },
   "outputs": [],
   "source": [
    "#columns = df.columns.tolist()\n",
    "#df_pariplot = df[columns].copy()\n",
    "#graf_pairplot = sns.pairplot(data=df_pariplot, hue=\"property_type\", palette=[\"r\", \"g\", \"b\"])"
   ]
  },
  {
   "cell_type": "markdown",
   "metadata": {
    "id": "spbOuJjNlmFq"
   },
   "source": [
    "## **1b. Datos Faltantes**"
   ]
  },
  {
   "cell_type": "markdown",
   "metadata": {
    "id": "np2LPbxuu6B4"
   },
   "source": [
    "A continuación se realizara un análisis sobre los datos faltantes del dataframe."
   ]
  },
  {
   "cell_type": "markdown",
   "metadata": {
    "id": "Q4IEPQPQesHo"
   },
   "source": [
    "Creamos una copia del dataset hasta el momento para comprar más adelante."
   ]
  },
  {
   "cell_type": "code",
   "execution_count": null,
   "metadata": {
    "id": "3xELARLUesHo"
   },
   "outputs": [],
   "source": [
    "df_copy = df.copy()"
   ]
  },
  {
   "cell_type": "markdown",
   "metadata": {
    "id": "lbfYKgJs9f1f"
   },
   "source": [
    "### Análisis a Nivel Columna\n",
    "\n",
    "---\n",
    "\n"
   ]
  },
  {
   "cell_type": "markdown",
   "metadata": {
    "id": "hq7Ta0_-_zao"
   },
   "source": [
    "Graficamos, para cada variable, el porcentaje (diferente de cero) de datos faltantes con respecto al total del dataset en escala logarítmica."
   ]
  },
  {
   "cell_type": "code",
   "execution_count": null,
   "metadata": {
    "colab": {
     "base_uri": "https://localhost:8080/",
     "height": 402
    },
    "id": "jW7CezP1_JS6",
    "outputId": "2ca1813c-39e9-41d1-a763-20e5682c18ce"
   },
   "outputs": [],
   "source": [
    "fig, ax = plt.subplots()\n",
    "ax.set_yscale('log')\n",
    "ax.yaxis.set_major_formatter(PercentFormatter())\n",
    "(df.isnull().sum() * 100 / len(df)).replace(0,np.nan).dropna(axis=0,how=\"all\").plot(ax=ax, kind='bar')"
   ]
  },
  {
   "cell_type": "markdown",
   "metadata": {
    "id": "DbhApc81_7dM"
   },
   "source": [
    "### Análisis a Nivel Fila\n",
    "\n",
    "---\n",
    "\n"
   ]
  },
  {
   "cell_type": "markdown",
   "metadata": {
    "id": "jheKR6Asj0ua"
   },
   "source": [
    "Graficamos el porcentaje de filas con n datos faltantes con respecto al total del dataset."
   ]
  },
  {
   "cell_type": "code",
   "execution_count": null,
   "metadata": {
    "colab": {
     "base_uri": "https://localhost:8080/",
     "height": 279
    },
    "id": "uMghBTBKA0WZ",
    "outputId": "93cd23a4-ff63-4542-b210-17543e3b69b5"
   },
   "outputs": [],
   "source": [
    "fig, ax = plt.subplots()\n",
    "ax.set_yscale('log')\n",
    "ax.yaxis.set_major_formatter(PercentFormatter(decimals=3))\n",
    "(df.isnull().sum(axis=1).value_counts().sort_index() * 100 / len(df)).plot(ax=ax, kind='bar')"
   ]
  },
  {
   "cell_type": "markdown",
   "metadata": {
    "id": "0q6ERteJjxdz"
   },
   "source": [
    "### Reparación de Valores Faltantes\n",
    "\n",
    "---\n",
    "\n"
   ]
  },
  {
   "cell_type": "markdown",
   "metadata": {
    "id": "K89jrcMrkaiu"
   },
   "source": [
    "A continuación se detallan posibles estrategias para reparar los valores faltantes del dataset."
   ]
  },
  {
   "cell_type": "markdown",
   "metadata": {
    "id": "hEATXRqcXcT3"
   },
   "source": [
    "Reemplazamos las locaciones no definidas por el nivel superior"
   ]
  },
  {
   "cell_type": "code",
   "execution_count": null,
   "metadata": {
    "id": "aIx-73J1XcT3"
   },
   "outputs": [],
   "source": [
    "df.place_l3.fillna(df.place_l2, inplace=True)\n",
    "df.place_l4.fillna(df.place_l3, inplace=True)"
   ]
  },
  {
   "cell_type": "markdown",
   "metadata": {
    "id": "k7akSY6CXcT3"
   },
   "source": [
    "Reemplazamos la cantidad de dormitorios no definidos por la media calculada filtrando por cantidad total de habitaciones.\n"
   ]
  },
  {
   "cell_type": "code",
   "execution_count": null,
   "metadata": {
    "id": "-IZkF60XXcT3"
   },
   "outputs": [],
   "source": [
    "cant = df.loc[(df['property_bedrooms'].isna()) & (df['property_rooms'].notna())].property_rooms.value_counts().index.values\n",
    "\n",
    "for i in cant:\n",
    "    median = df.loc[(df['property_bedrooms'].notna()) & (df['property_rooms'] == i)].property_bedrooms.median()\n",
    "    df.loc[(df['property_bedrooms'].isna()) & (df[\"property_rooms\"] == i), \"property_bedrooms\"] = df.loc[(df['property_bedrooms'].isna()) & (df[\"property_rooms\"] == i), \"property_bedrooms\"].fillna(median)\n"
   ]
  },
  {
   "cell_type": "markdown",
   "metadata": {
    "id": "Fb7BxQmYXcT4"
   },
   "source": [
    "Luego reemplazamos la cantidad total de habitaciones no definidas por la media calculada filtrando por cantidad de dormitorios.\n",
    "\n",
    "Esto redujo el porcentaje de valores no definidos para los dormitorios y habitaciones a menos de 1%, desde 10% y 1,5% respectivamente."
   ]
  },
  {
   "cell_type": "code",
   "execution_count": null,
   "metadata": {
    "colab": {
     "base_uri": "https://localhost:8080/",
     "height": 402
    },
    "id": "Su6ZSNH2XcT4",
    "outputId": "250a48fa-be12-4fd0-da7a-7dffc42e9232",
    "scrolled": false
   },
   "outputs": [],
   "source": [
    "cant = df.loc[(df['property_rooms'].isna()) & (df['property_bedrooms'].notna())].property_bedrooms.value_counts().index.values\n",
    "\n",
    "for i in cant:\n",
    "    median = df.loc[(df['property_rooms'].notna()) & (df['property_bedrooms'] == i)].property_rooms.median()\n",
    "    df.loc[(df['property_rooms'].isna()) & (df[\"property_bedrooms\"] == i), \"property_rooms\"] = df.loc[(df['property_rooms'].isna()) & (df[\"property_bedrooms\"] == i), \"property_rooms\"].fillna(median)\n",
    "    \n",
    "fig, ax = plt.subplots()\n",
    "ax.yaxis.set_major_formatter(PercentFormatter())\n",
    "(df.isnull().sum() * 100 / len(df)).replace(0,np.nan).dropna(axis=0,how=\"all\").plot(ax=ax, kind='bar')\n"
   ]
  },
  {
   "cell_type": "markdown",
   "metadata": {
    "id": "jO4Y_Ib7XcT4"
   },
   "source": [
    "Cuando se tiene la superficie total pero no la cubierta o viceversa, reemplazamos los valores faltantes con su contraparte"
   ]
  },
  {
   "cell_type": "code",
   "execution_count": null,
   "metadata": {
    "colab": {
     "base_uri": "https://localhost:8080/",
     "height": 369
    },
    "id": "_WzR-_KPXcT4",
    "outputId": "78f963c0-a704-495c-c080-cfe8693dd3d5",
    "scrolled": false
   },
   "outputs": [],
   "source": [
    "df.property_surface_total.fillna(df.property_surface_covered, inplace=True)\n",
    "df.property_surface_covered.fillna(df.property_surface_total, inplace=True)\n",
    "\n",
    "fig, ax = plt.subplots()\n",
    "ax.yaxis.set_major_formatter(PercentFormatter())\n",
    "(df.isnull().sum() * 100 / len(df)).replace(0,np.nan).dropna(axis=0,how=\"all\").plot(ax=ax, kind='bar')"
   ]
  },
  {
   "cell_type": "code",
   "execution_count": null,
   "metadata": {
    "colab": {
     "base_uri": "https://localhost:8080/",
     "height": 282
    },
    "id": "KLVPdUGHesHr",
    "outputId": "3400ea68-09f4-4f54-9afb-ba6960447916"
   },
   "outputs": [],
   "source": [
    "df.loc[df[\"place_l4\"] == \"Palermo\"].latitud.plot.density(color = \"red\")\n",
    "for barrio in df[\"place_l4\"].unique() :\n",
    "    lat_median = df.loc[(df[\"place_l4\"] == barrio) & (df['latitud'].notna()) ].latitud.median()\n",
    "    df.loc[(df[\"place_l4\"] == barrio) & (df['latitud'].isna()), \"latitud\"] = df.loc[(df[\"place_l4\"] == barrio) & (df['latitud'].isna()), \"latitud\"].fillna(lat_median)\n",
    "\n",
    "df.loc[df[\"place_l4\"] == \"Palermo\"].latitud.plot.density(color = \"green\")"
   ]
  },
  {
   "cell_type": "code",
   "execution_count": null,
   "metadata": {
    "colab": {
     "base_uri": "https://localhost:8080/",
     "height": 282
    },
    "id": "ygwyi2eFesHr",
    "outputId": "bf842e95-c7c6-4b8b-a9fb-417cdd7a8ec1",
    "scrolled": true
   },
   "outputs": [],
   "source": [
    "df.loc[df[\"place_l4\"] == \"Palermo\"].longitud.plot.density(color = \"red\")\n",
    "for barrio in df[\"place_l4\"].unique() :\n",
    "    long_median = df.loc[(df[\"place_l4\"] == barrio) & (df['longitud'].notna())].longitud.median()\n",
    "    df.loc[(df[\"place_l4\"] == barrio) & (df['longitud'].isna()), \"longitud\"] = df.loc[(df[\"place_l4\"] == barrio) & (df['longitud'].isna()), \"longitud\"].fillna(long_median)\n",
    "    \n",
    "df.loc[df[\"place_l4\"] == \"Palermo\"].longitud.plot.density(color = \"green\")"
   ]
  },
  {
   "cell_type": "code",
   "execution_count": null,
   "metadata": {
    "colab": {
     "base_uri": "https://localhost:8080/",
     "height": 402
    },
    "id": "zZbi7wSnesHs",
    "outputId": "59055c56-f506-412b-82a8-bd682d8d41e6"
   },
   "outputs": [],
   "source": [
    "fig, ax = plt.subplots()\n",
    "ax.set_yscale('log')\n",
    "ax.yaxis.set_major_formatter(PercentFormatter())\n",
    "(df_copy.isnull().sum() * 100 / len(df_copy)).replace(0,np.nan).dropna(axis=0,how=\"all\").plot(ax=ax, kind='bar', color=\"red\", zorder=0)"
   ]
  },
  {
   "cell_type": "code",
   "execution_count": null,
   "metadata": {
    "colab": {
     "base_uri": "https://localhost:8080/",
     "height": 369
    },
    "id": "mtCk0iiMesHs",
    "outputId": "c19dc220-3c93-4d22-e636-a5e948aa0f86"
   },
   "outputs": [],
   "source": [
    "fig, ax = plt.subplots()\n",
    "ax.yaxis.set_major_formatter(PercentFormatter())\n",
    "(df.isnull().sum() * 100 / len(df)).replace(0,np.nan).dropna(axis=0,how=\"all\").plot(ax=ax, kind='bar', color=\"green\", zorder=1)"
   ]
  },
  {
   "cell_type": "code",
   "execution_count": null,
   "metadata": {
    "id": "mVTqYKvTesHs"
   },
   "outputs": [],
   "source": []
  },
  {
   "cell_type": "markdown",
   "metadata": {
    "id": "Uu2cbHO-XcT5"
   },
   "source": [
    "## FALTA ARREGLAR LATITUD Y LONGITUD."
   ]
  },
  {
   "cell_type": "markdown",
   "metadata": {
    "id": "uMQ3wbPYl63N"
   },
   "source": [
    "## **1c. Valores atípicos**"
   ]
  },
  {
   "cell_type": "markdown",
   "metadata": {
    "id": "tka5n3H2lieQ"
   },
   "source": [
    "A continuación se realizara un análisis sobre los valores atípicos presentes en el dataframe. En la totalidad del dataset logramos detectar outliers tanto univariados (presentes en una unica variable) como multivariados (se encuentran en un espacio n-dimensional)."
   ]
  },
  {
   "cell_type": "markdown",
   "metadata": {
    "id": "EqszohR2zpv0"
   },
   "source": [
    "### Outliers univariados\n",
    "\n",
    "---"
   ]
  },
  {
   "cell_type": "markdown",
   "metadata": {
    "id": "DmGYmivrVhbC"
   },
   "source": [
    "Para el análisis de outliers de tipo univariados estaremos utilizando tanto el método de Box Plot como los métodos de Z-Score y Z-Score Modificado.\n",
    "\n",
    "Mientras que el primero nos brindará información respecto de los topes superiores e inferiores de los cuartiles Q3 y Q1 respectivamente, los gráficos de Z-Score y Z-Score modificado nos permitirán visualizar de forma eficiente cómo se distribuye la masa de observaciones respecto de la media, y -por tanto- poder determinar de forma más precisa cuáles son los valores atípicos.\n",
    "\n",
    "Por último, podremos destacar cuáles son las características de los valores en cuestión pudiendo clasificar los mismos en: global, contextual y colectivo."
   ]
  },
  {
   "cell_type": "markdown",
   "metadata": {
    "id": "bqiL3eGYy2Qh"
   },
   "source": [
    "#### Property rooms"
   ]
  },
  {
   "cell_type": "markdown",
   "metadata": {
    "id": "fHLfYF6Omlly"
   },
   "source": [
    "##### Box plot"
   ]
  },
  {
   "cell_type": "code",
   "execution_count": null,
   "metadata": {
    "colab": {
     "base_uri": "https://localhost:8080/",
     "height": 252
    },
    "id": "oGoAYUuZyy3i",
    "outputId": "2a37d8c8-c781-4697-8e2f-aa8f075903ad"
   },
   "outputs": [],
   "source": [
    "sns.boxplot(y=df.property_rooms)\n",
    "plt.show()"
   ]
  },
  {
   "cell_type": "code",
   "execution_count": null,
   "metadata": {
    "colab": {
     "base_uri": "https://localhost:8080/"
    },
    "id": "14wdDBSN0Hex",
    "outputId": "2d161ed4-09f1-41d1-b051-a4fa40146978"
   },
   "outputs": [],
   "source": [
    "# Cuartiles\n",
    "Q1_property_rooms=df.describe().get(\"property_rooms\").get(\"25%\")\n",
    "Q3_property_rooms=df.describe().get(\"property_rooms\").get(\"75%\")\n",
    "\n",
    "print(\"El valor de Q1 es:\", Q1_property_rooms)\n",
    "print(\"El valor de Q3 es:\", Q3_property_rooms)\n",
    "\n",
    "# Rango intercuartil\n",
    "IQR_property_rooms=Q3_property_rooms-Q1_property_rooms\n",
    "\n",
    "# Limites Outliers\n",
    "out_inf=Q1_property_rooms-1.5*IQR_property_rooms\n",
    "out_sup=Q3_property_rooms+1.5*IQR_property_rooms\n",
    "print(\"El limite inferior del Q1 es:\", out_inf)\n",
    "print(\"El limite superior del Q3 es:\", out_sup)"
   ]
  },
  {
   "cell_type": "markdown",
   "metadata": {
    "id": "MMVhTNsrmo7R"
   },
   "source": [
    "##### Z-Score"
   ]
  },
  {
   "cell_type": "code",
   "execution_count": null,
   "metadata": {
    "id": "3NMvnrOn3JnA"
   },
   "outputs": [],
   "source": [
    "media_rooms=np.mean(df.property_rooms)\n",
    "std_rooms=np.std(df.property_rooms)\n",
    "df['z_rooms']=(df.property_rooms - media_rooms)/std_rooms"
   ]
  },
  {
   "cell_type": "markdown",
   "metadata": {
    "id": "lkvoW1wS9p7d"
   },
   "source": [
    "Estudiamos si existen datos para el método de Z-Score utilizando la regla de oro (|Z|>3)."
   ]
  },
  {
   "cell_type": "code",
   "execution_count": null,
   "metadata": {
    "colab": {
     "base_uri": "https://localhost:8080/",
     "height": 461
    },
    "id": "EFK5SClm30fL",
    "outputId": "44ae7eb4-ec85-4a88-df86-c6655cc4b5b5"
   },
   "outputs": [],
   "source": [
    "df[df['z_rooms']>3].head()"
   ]
  },
  {
   "cell_type": "code",
   "execution_count": null,
   "metadata": {
    "colab": {
     "base_uri": "https://localhost:8080/",
     "height": 113
    },
    "id": "1ZqQuyN239ch",
    "outputId": "db0a3e85-9f3c-4431-eec2-87606a0328e4"
   },
   "outputs": [],
   "source": [
    "df[df['z_rooms']<-3].head()"
   ]
  },
  {
   "cell_type": "code",
   "execution_count": null,
   "metadata": {
    "colab": {
     "base_uri": "https://localhost:8080/",
     "height": 295
    },
    "id": "reIPSjCn4YSX",
    "outputId": "2e4e85b0-b873-4f0d-f996-8cac71dc494f"
   },
   "outputs": [],
   "source": [
    "plt.hist(df.z_rooms, bins=10, range=(-2,6))\n",
    "plt.title('Histograma Z-Score Rooms')\n",
    "plt.xlabel('Z-Score Rooms')\n",
    "plt.show()"
   ]
  },
  {
   "cell_type": "markdown",
   "metadata": {
    "id": "KVhtCn-vmrDk"
   },
   "source": [
    "##### Z-Score Modificado"
   ]
  },
  {
   "cell_type": "code",
   "execution_count": null,
   "metadata": {
    "id": "S_9vzJSv3eQ9"
   },
   "outputs": [],
   "source": [
    "mediana_room=np.nanmedian(df.property_rooms)\n",
    "\n",
    "MAD=np.nanmedian(np.absolute(df.property_rooms-mediana_room))\n",
    "\n",
    "df['zm_rooms']=(df.property_rooms - mediana_room)*0.6745/MAD"
   ]
  },
  {
   "cell_type": "markdown",
   "metadata": {
    "id": "ugjG4d-p-I64"
   },
   "source": [
    "Estudiamos si existen datos para el método de Z-Score Modificado utilizando la regla de oro (|Z|>3.5)."
   ]
  },
  {
   "cell_type": "code",
   "execution_count": null,
   "metadata": {
    "colab": {
     "base_uri": "https://localhost:8080/",
     "height": 478
    },
    "id": "TYhesN1X44n0",
    "outputId": "cc21412e-8490-4712-ddf2-9bf200694f0b"
   },
   "outputs": [],
   "source": [
    "df[(df['zm_rooms']>3.5)].head()"
   ]
  },
  {
   "cell_type": "code",
   "execution_count": null,
   "metadata": {
    "colab": {
     "base_uri": "https://localhost:8080/",
     "height": 113
    },
    "id": "dCB1gZHh4_fK",
    "outputId": "46481ae5-12fb-4a9f-8580-827f003d846e"
   },
   "outputs": [],
   "source": [
    "df[(df['zm_rooms']<-3.5)].head()"
   ]
  },
  {
   "cell_type": "code",
   "execution_count": null,
   "metadata": {
    "colab": {
     "base_uri": "https://localhost:8080/",
     "height": 295
    },
    "id": "y3nngO0HVms0",
    "outputId": "017ddecf-3fee-48f5-8c17-c0d758c9ee09"
   },
   "outputs": [],
   "source": [
    "plt.hist(df.zm_rooms, bins=50, range=(-2,6))\n",
    "plt.title('Histograma Z-Score Modificado Rooms')\n",
    "plt.xlabel('Z-Score Modificado Rooms')\n",
    "plt.show()"
   ]
  },
  {
   "cell_type": "markdown",
   "metadata": {
    "id": "cmPjvnVDhvWi"
   },
   "source": [
    "##### Características"
   ]
  },
  {
   "cell_type": "markdown",
   "metadata": {
    "id": "cRu2mBWKh0Zs"
   },
   "source": [
    "Del análisis de los 3 gráficos previamente presentados, podemos concluir que, puesto que existe una gran masa conjunta de observaciones que superan el límite superior del tercer cuartil, podríamos decir que los outliers en cuestión son del tipo colectivo."
   ]
  },
  {
   "cell_type": "markdown",
   "metadata": {
    "id": "TsWBLuvVy-YK"
   },
   "source": [
    "#### Property bedrooms"
   ]
  },
  {
   "cell_type": "markdown",
   "metadata": {
    "id": "KiJLnkY_Rpyi"
   },
   "source": [
    " ##### Box plot\n"
   ]
  },
  {
   "cell_type": "code",
   "execution_count": null,
   "metadata": {
    "colab": {
     "base_uri": "https://localhost:8080/",
     "height": 252
    },
    "id": "JLkz5m6HrAoP",
    "outputId": "b53aa124-00b1-4666-ef41-14126b71caca"
   },
   "outputs": [],
   "source": [
    "sns.boxplot(y=df.property_bedrooms)\n",
    "plt.show()"
   ]
  },
  {
   "cell_type": "code",
   "execution_count": null,
   "metadata": {
    "colab": {
     "base_uri": "https://localhost:8080/"
    },
    "id": "6iH1LhJKzEPs",
    "outputId": "9b98ac22-74dd-4f54-c3cf-6787d566a8f9"
   },
   "outputs": [],
   "source": [
    "# Cuartiles\n",
    "Q1_property_bedrooms=df.describe().get(\"property_bedrooms\").get(\"25%\")\n",
    "Q3_property_bedrooms=df.describe().get(\"property_bedrooms\").get(\"75%\")\n",
    "\n",
    "print(\"El valor de Q1 es:\", Q1_property_bedrooms)\n",
    "print(\"El valor de Q3 es:\", Q3_property_bedrooms)\n",
    "\n",
    "# Rango intercuartil\n",
    "IQR_property_bedrooms=Q3_property_bedrooms-Q1_property_bedrooms\n",
    "\n",
    "# Limites Outliers\n",
    "out_inf=Q1_property_bedrooms-1.5*IQR_property_bedrooms\n",
    "out_sup=Q3_property_bedrooms+1.5*IQR_property_bedrooms\n",
    "print(\"El limite inferior del Q1 es:\", out_inf)\n",
    "print(\"El limite superior del Q3 es:\", out_sup)"
   ]
  },
  {
   "cell_type": "markdown",
   "metadata": {
    "id": "1GdBZQygZZ0c"
   },
   "source": [
    "##### Z-Score"
   ]
  },
  {
   "cell_type": "code",
   "execution_count": null,
   "metadata": {
    "id": "cy5ihKZsOcta"
   },
   "outputs": [],
   "source": [
    "media_bedrooms=np.mean(df.property_bedrooms)\n",
    "std_bedrooms=np.std(df.property_bedrooms)\n",
    "df['z_bedrooms']=(df.property_bedrooms - media_bedrooms)/std_bedrooms"
   ]
  },
  {
   "cell_type": "markdown",
   "metadata": {
    "id": "U2t3eRnZ-Uov"
   },
   "source": [
    "Estudiamos si existen datos para el método de Z-Score utilizando la regla de oro (|Z|>3)."
   ]
  },
  {
   "cell_type": "code",
   "execution_count": null,
   "metadata": {
    "colab": {
     "base_uri": "https://localhost:8080/",
     "height": 490
    },
    "id": "6lvupSX_8n9C",
    "outputId": "1055e1f4-7761-4a7f-b411-d7d15e6ca6f8"
   },
   "outputs": [],
   "source": [
    "df[df['z_bedrooms']>3].head()"
   ]
  },
  {
   "cell_type": "code",
   "execution_count": null,
   "metadata": {
    "colab": {
     "base_uri": "https://localhost:8080/",
     "height": 143
    },
    "id": "St5VezN38seV",
    "outputId": "1846f3ce-ffb5-40bb-8474-e7e7f1139b0d"
   },
   "outputs": [],
   "source": [
    "df[df['z_bedrooms']<-3].head()"
   ]
  },
  {
   "cell_type": "code",
   "execution_count": null,
   "metadata": {
    "colab": {
     "base_uri": "https://localhost:8080/",
     "height": 295
    },
    "id": "HrrppWOx7ej6",
    "outputId": "86542b70-7312-4beb-93f3-d6ee857299e8"
   },
   "outputs": [],
   "source": [
    "plt.hist(df.z_bedrooms, bins=10, range=(-2,6))\n",
    "plt.title('Histograma Z-Score Bedrooms')\n",
    "plt.xlabel('Z-Score Bedrooms')\n",
    "plt.show()"
   ]
  },
  {
   "cell_type": "markdown",
   "metadata": {
    "id": "OGNiTnK8P2iR"
   },
   "source": [
    "##### Z-Score Modificado"
   ]
  },
  {
   "cell_type": "code",
   "execution_count": null,
   "metadata": {
    "id": "a2za_c0IP6MI"
   },
   "outputs": [],
   "source": [
    "mediana_bedroom=np.nanmedian(df.property_bedrooms)\n",
    "MAD=np.nanmedian(np.absolute(df.property_bedrooms-mediana_bedroom))\n",
    "\n",
    "df['zm_bedrooms']=(df.property_bedrooms - mediana_bedroom)*0.6745/MAD"
   ]
  },
  {
   "cell_type": "markdown",
   "metadata": {
    "id": "anPmXIna-dp4"
   },
   "source": [
    "Estudiamos si existen datos para el método de Z-Score Modificado utilizando la regla de oro (|Z|>3.5)."
   ]
  },
  {
   "cell_type": "code",
   "execution_count": null,
   "metadata": {
    "colab": {
     "base_uri": "https://localhost:8080/",
     "height": 473
    },
    "id": "lt2l3VpE804I",
    "outputId": "99a9b5a6-1809-46c1-d707-f06dbb6886e3"
   },
   "outputs": [],
   "source": [
    "df[(df['zm_bedrooms']>3.5)].head()"
   ]
  },
  {
   "cell_type": "code",
   "execution_count": null,
   "metadata": {
    "colab": {
     "base_uri": "https://localhost:8080/",
     "height": 143
    },
    "id": "uqyJlc_O87w5",
    "outputId": "405d14e0-0540-459a-aeb5-0aff30006a60"
   },
   "outputs": [],
   "source": [
    "df[(df['zm_bedrooms']<-3.5)].head()"
   ]
  },
  {
   "cell_type": "code",
   "execution_count": null,
   "metadata": {
    "colab": {
     "base_uri": "https://localhost:8080/",
     "height": 295
    },
    "id": "cgQpJ-xerUwJ",
    "outputId": "8d661b99-5d6a-4ea1-9127-22fde33aa575"
   },
   "outputs": [],
   "source": [
    "plt.hist(df.zm_bedrooms, bins=50, range=(-2,6))\n",
    "plt.title('Histograma Z-Score Modificado Bedrooms')\n",
    "plt.xlabel('Z-Score Modificado Bedrooms')\n",
    "plt.show()"
   ]
  },
  {
   "cell_type": "markdown",
   "metadata": {
    "id": "1w47xuftricI"
   },
   "source": [
    "##### Características"
   ]
  },
  {
   "cell_type": "markdown",
   "metadata": {
    "id": "yuvpKmsyrjEB"
   },
   "source": [
    "Del análisis de los 3 gráficos previamente presentados, podemos concluir que, puesto que existe una gran masa conjunta de observaciones atípicas y una singular -también atípica- lejana a la masa en cuestión- podríamos decir que los outliers son del tipo colectivo (para la masa de observaciones cerca del máximo para el tercer cuartil) y global (para la singular por encima del resto de las observaciones)."
   ]
  },
  {
   "cell_type": "markdown",
   "metadata": {
    "id": "LWbZVekrIBrI"
   },
   "source": [
    "#### Property price"
   ]
  },
  {
   "cell_type": "markdown",
   "metadata": {
    "id": "861zSh3bSWNP"
   },
   "source": [
    "##### Box plot"
   ]
  },
  {
   "cell_type": "code",
   "execution_count": null,
   "metadata": {
    "colab": {
     "base_uri": "https://localhost:8080/",
     "height": 263
    },
    "id": "9exMnx2nIHUt",
    "outputId": "ad4ec211-badc-4d55-ee47-fe880d3693fd"
   },
   "outputs": [],
   "source": [
    "sns.boxplot(y=df.property_price)\n",
    "plt.show()"
   ]
  },
  {
   "cell_type": "code",
   "execution_count": null,
   "metadata": {
    "colab": {
     "base_uri": "https://localhost:8080/"
    },
    "id": "1dp7LTBD91k1",
    "outputId": "7c453905-806d-4042-c5ff-c4a7d28cb34f"
   },
   "outputs": [],
   "source": [
    "# Cuartiles\n",
    "Q1_property_price=df.describe().get(\"property_price\").get(\"25%\")\n",
    "Q3_property_price=df.describe().get(\"property_price\").get(\"75%\")\n",
    "\n",
    "print(\"El valor de Q1 es:\", Q1_property_price)\n",
    "print(\"El valor de Q3 es:\", Q3_property_price)\n",
    "\n",
    "# Rango intercuartil\n",
    "IQR_property_price=Q3_property_price-Q1_property_price\n",
    "\n",
    "# Limites Outliers\n",
    "out_inf=Q1_property_price-1.5*IQR_property_price\n",
    "out_sup=Q3_property_price+1.5*IQR_property_price\n",
    "print(\"El limite inferior del Q1 es:\", out_inf)\n",
    "print(\"El limite superior del Q3 es:\", out_sup)"
   ]
  },
  {
   "cell_type": "markdown",
   "metadata": {
    "id": "Vx4GfNW3SkJ9"
   },
   "source": [
    "##### Z-Score"
   ]
  },
  {
   "cell_type": "code",
   "execution_count": null,
   "metadata": {
    "id": "ib35t1TYSzXq"
   },
   "outputs": [],
   "source": [
    "media_price=np.mean(df.property_price)\n",
    "std_price=np.std(df.property_price)\n",
    "df['z_price']=(df.property_price - media_price)/std_price"
   ]
  },
  {
   "cell_type": "markdown",
   "metadata": {
    "id": "ojnjkN-r-k7y"
   },
   "source": [
    "Estudiamos si existen datos para el método de Z-Score utilizando la regla de oro (|Z|>3)."
   ]
  },
  {
   "cell_type": "code",
   "execution_count": null,
   "metadata": {
    "colab": {
     "base_uri": "https://localhost:8080/",
     "height": 421
    },
    "id": "uXVSdz1HTW4F",
    "outputId": "ce93a837-7240-4d7e-abc2-d96c451a4033"
   },
   "outputs": [],
   "source": [
    "df[df['z_price']>3].head()"
   ]
  },
  {
   "cell_type": "code",
   "execution_count": null,
   "metadata": {
    "colab": {
     "base_uri": "https://localhost:8080/",
     "height": 143
    },
    "id": "i0EGvIjiTbxw",
    "outputId": "56a4afde-dd1f-495f-b8ca-c90b5eaebeb6"
   },
   "outputs": [],
   "source": [
    "df[df['z_price']<-3].head()"
   ]
  },
  {
   "cell_type": "code",
   "execution_count": null,
   "metadata": {
    "colab": {
     "base_uri": "https://localhost:8080/",
     "height": 295
    },
    "id": "4iApL4TtTgTz",
    "outputId": "36a70f58-0769-4539-997c-485e32851b6b"
   },
   "outputs": [],
   "source": [
    "plt.hist(df.z_price, bins=400, range=(-1,1))\n",
    "plt.title('Histograma Z-Score Price')\n",
    "plt.xlabel('Z-Score Price')\n",
    "plt.show()"
   ]
  },
  {
   "cell_type": "markdown",
   "metadata": {
    "id": "WVFbdCGUSm6D"
   },
   "source": [
    "##### Z-Score Modificado"
   ]
  },
  {
   "cell_type": "code",
   "execution_count": null,
   "metadata": {
    "id": "3_VNeMGmTvP9"
   },
   "outputs": [],
   "source": [
    "mediana_price=np.nanmedian(df.property_price)\n",
    "MAD=np.nanmedian(np.absolute(df.property_price-mediana_price))\n",
    "\n",
    "df['zm_price']=(df.property_price - mediana_price)*0.6745/MAD"
   ]
  },
  {
   "cell_type": "markdown",
   "metadata": {
    "id": "zrWzqvd9-p41"
   },
   "source": [
    "Estudiamos si existen datos para el método de Z-Score Modificado utilizando la regla de oro (|Z|>3.5)."
   ]
  },
  {
   "cell_type": "code",
   "execution_count": null,
   "metadata": {
    "colab": {
     "base_uri": "https://localhost:8080/",
     "height": 456
    },
    "id": "F_WsRtuJT2-h",
    "outputId": "1a623360-7e83-4a10-ad16-4e45f7205b3a"
   },
   "outputs": [],
   "source": [
    "df[(df['zm_price']>3.5)].head()"
   ]
  },
  {
   "cell_type": "code",
   "execution_count": null,
   "metadata": {
    "colab": {
     "base_uri": "https://localhost:8080/",
     "height": 143
    },
    "id": "CNzDv0sVT6XB",
    "outputId": "147a7dd3-23ee-4975-c8ca-2b60904acf58"
   },
   "outputs": [],
   "source": [
    "df[(df['zm_price']<-3.5)].head()"
   ]
  },
  {
   "cell_type": "code",
   "execution_count": null,
   "metadata": {
    "colab": {
     "base_uri": "https://localhost:8080/",
     "height": 295
    },
    "id": "U2K-YbBNUCTP",
    "outputId": "892a5874-de7d-4216-c97e-b61731022b57"
   },
   "outputs": [],
   "source": [
    "plt.hist(df.zm_price, bins=300, range=(-1,4))\n",
    "plt.title('Histograma Z-Score Modificado Price')\n",
    "plt.xlabel('Z-Score Modificado Price')\n",
    "plt.show()"
   ]
  },
  {
   "cell_type": "markdown",
   "metadata": {
    "id": "9MyvMs8lsYyt"
   },
   "source": [
    "##### Características"
   ]
  },
  {
   "cell_type": "markdown",
   "metadata": {
    "id": "tiLhO3GAsalH"
   },
   "source": [
    "Nuevamente, concluimos que al existir una gran masa conjunta de observaciones atípicas y una singular -también atípica- lejana a la masa en cuestión- podríamos decir que los outliers son del tipo colectivo (para la masa de observaciones cerca del máximo para el tercer cuartil) y global (para la observación singular por encima del resto de las observaciones)."
   ]
  },
  {
   "cell_type": "markdown",
   "metadata": {
    "id": "Z_eqNgOP2NRN"
   },
   "source": [
    "#### Property surface covered"
   ]
  },
  {
   "cell_type": "markdown",
   "metadata": {
    "id": "RGS0ZT8i2NRO"
   },
   "source": [
    "##### Box plot"
   ]
  },
  {
   "cell_type": "code",
   "execution_count": null,
   "metadata": {
    "colab": {
     "base_uri": "https://localhost:8080/",
     "height": 252
    },
    "id": "rEsEB2z-2NRO",
    "outputId": "e4dbe353-b0a8-4ab2-9cc8-d6a8246538a3"
   },
   "outputs": [],
   "source": [
    "sns.boxplot(y=df.property_surface_covered)\n",
    "plt.show()"
   ]
  },
  {
   "cell_type": "code",
   "execution_count": null,
   "metadata": {
    "colab": {
     "base_uri": "https://localhost:8080/"
    },
    "id": "dM8nqn0A2NRO",
    "outputId": "a168c4ba-3374-4105-830a-6820e2c1e40c"
   },
   "outputs": [],
   "source": [
    "# Cuartiles\n",
    "Q1_property_surface_covered=df.describe().get(\"property_surface_covered\").get(\"25%\")\n",
    "Q3_property_surface_covered=df.describe().get(\"property_surface_covered\").get(\"75%\")\n",
    "\n",
    "print(\"El valor de Q1 es:\", Q1_property_surface_covered)\n",
    "print(\"El valor de Q3 es:\", Q3_property_surface_covered)\n",
    "\n",
    "# Rango intercuartil\n",
    "IQR_property_surface_covered=Q3_property_surface_covered-Q1_property_surface_covered\n",
    "\n",
    "# Limites Outliers\n",
    "out_inf=Q1_property_surface_covered-1.5*IQR_property_surface_covered\n",
    "out_sup=Q3_property_surface_covered+1.5*IQR_property_surface_covered\n",
    "print(\"El limite inferior del Q1 es:\", out_inf)\n",
    "print(\"El limite superior del Q3 es:\", out_sup)"
   ]
  },
  {
   "cell_type": "markdown",
   "metadata": {
    "id": "ZnQJ2wj62NRP"
   },
   "source": [
    "##### Z-Score"
   ]
  },
  {
   "cell_type": "code",
   "execution_count": null,
   "metadata": {
    "id": "Q2KE0GCM2NRP"
   },
   "outputs": [],
   "source": [
    "media_surface_covered=np.mean(df.property_surface_covered)\n",
    "std_surface_covered=np.std(df.property_surface_covered)\n",
    "df['z_surface_covered']=(df.property_surface_covered - media_surface_covered)/std_surface_covered"
   ]
  },
  {
   "cell_type": "markdown",
   "metadata": {
    "id": "cyWzPd8_-toW"
   },
   "source": [
    "Estudiamos si existen datos para el método de Z-Score utilizando la regla de oro (|Z|>3)."
   ]
  },
  {
   "cell_type": "code",
   "execution_count": null,
   "metadata": {
    "colab": {
     "base_uri": "https://localhost:8080/",
     "height": 577
    },
    "id": "5PBVSxTT2NRP",
    "outputId": "04633d18-64c8-4b59-995c-5b3521173695"
   },
   "outputs": [],
   "source": [
    "df[df['z_surface_covered']>3].head()"
   ]
  },
  {
   "cell_type": "code",
   "execution_count": null,
   "metadata": {
    "colab": {
     "base_uri": "https://localhost:8080/",
     "height": 143
    },
    "id": "cgGALsee2NRP",
    "outputId": "f9bde2dc-e97b-4648-9a90-188323ce9f28"
   },
   "outputs": [],
   "source": [
    "df[df['z_surface_covered']<-3].head()"
   ]
  },
  {
   "cell_type": "code",
   "execution_count": null,
   "metadata": {
    "colab": {
     "base_uri": "https://localhost:8080/",
     "height": 295
    },
    "id": "PPCj09X42NRP",
    "outputId": "f7129976-b86d-4a5d-f93e-4667ee19fe31"
   },
   "outputs": [],
   "source": [
    "plt.hist(df.z_surface_covered, bins=300, range=(-0.1,0.3))\n",
    "plt.title('Histograma Z-Score Surface Covered')\n",
    "plt.xlabel('Z-Score Surface Covered')\n",
    "plt.show()"
   ]
  },
  {
   "cell_type": "markdown",
   "metadata": {
    "id": "FzB_DU2F2NRP"
   },
   "source": [
    "##### Z-Score Modificado"
   ]
  },
  {
   "cell_type": "code",
   "execution_count": null,
   "metadata": {
    "id": "lHACVZRA2NRP"
   },
   "outputs": [],
   "source": [
    "mediana_surface_covered=np.nanmedian(df.property_surface_covered)\n",
    "MAD=np.nanmedian(np.absolute(df.property_surface_covered-mediana_surface_covered))\n",
    "\n",
    "df['zm_surface_covered']=(df.property_surface_covered - mediana_surface_covered)*0.6745/MAD"
   ]
  },
  {
   "cell_type": "markdown",
   "metadata": {
    "id": "1YB0kdu9-zdu"
   },
   "source": [
    "Estudiamos si existen datos para el método de Z-Score Modificado utilizando la regla de oro (|Z|>3.5)."
   ]
  },
  {
   "cell_type": "code",
   "execution_count": null,
   "metadata": {
    "colab": {
     "base_uri": "https://localhost:8080/",
     "height": 456
    },
    "id": "puxfvTQW2NRQ",
    "outputId": "8547e596-de2f-4426-ae1c-a67676da3a4a"
   },
   "outputs": [],
   "source": [
    "df[(df['zm_surface_covered']>3.5)].head()"
   ]
  },
  {
   "cell_type": "code",
   "execution_count": null,
   "metadata": {
    "colab": {
     "base_uri": "https://localhost:8080/",
     "height": 143
    },
    "id": "dEYow0E82NRQ",
    "outputId": "e13de5d5-4773-403e-c1c4-cfc5b1421729"
   },
   "outputs": [],
   "source": [
    "df[(df['zm_surface_covered']<-3.5)].head()"
   ]
  },
  {
   "cell_type": "code",
   "execution_count": null,
   "metadata": {
    "colab": {
     "base_uri": "https://localhost:8080/",
     "height": 295
    },
    "id": "01Zy8XAl2NRQ",
    "outputId": "be89a0a0-1dc7-4219-e537-6b91fc6c565c"
   },
   "outputs": [],
   "source": [
    "plt.hist(df.zm_surface_covered, bins=300, range=(-3,10))\n",
    "plt.title('Histograma Z-Score Modificado Surface Covered')\n",
    "plt.xlabel('Z-Score Modificado Surface Covered')\n",
    "plt.show()"
   ]
  },
  {
   "cell_type": "markdown",
   "metadata": {
    "id": "p0XIjpsx2NRQ"
   },
   "source": [
    "##### Características"
   ]
  },
  {
   "cell_type": "markdown",
   "metadata": {
    "id": "b6tP4ul_2NRQ"
   },
   "source": [
    "Nuevamente, concluimos que al existir una gran masa conjunta de observaciones atípicas y una singular -también atípica- lejana a la masa en cuestión- podríamos decir que los outliers son del tipo colectivo (para la masa de observaciones cerca del máximo para el tercer cuartil) y global (para la observación singular por encima del resto de las observaciones)."
   ]
  },
  {
   "cell_type": "markdown",
   "metadata": {
    "id": "KUObCSTS3qoN"
   },
   "source": [
    "#### Property surface total"
   ]
  },
  {
   "cell_type": "markdown",
   "metadata": {
    "id": "oHKI2jWT3qoN"
   },
   "source": [
    "##### Box plot"
   ]
  },
  {
   "cell_type": "code",
   "execution_count": null,
   "metadata": {
    "colab": {
     "base_uri": "https://localhost:8080/",
     "height": 252
    },
    "id": "GUpgkmyn3qoN",
    "outputId": "14ecaaa8-4ef8-4ce7-bad9-dbab9ef4ad62"
   },
   "outputs": [],
   "source": [
    "sns.boxplot(y=df.property_surface_total)\n",
    "plt.show()"
   ]
  },
  {
   "cell_type": "code",
   "execution_count": null,
   "metadata": {
    "colab": {
     "base_uri": "https://localhost:8080/"
    },
    "id": "hAYx0Dbc3qoO",
    "outputId": "15905218-65e1-47ed-c12d-33e9a22cdb87"
   },
   "outputs": [],
   "source": [
    "# Cuartiles\n",
    "Q1_property_surface_total=df.describe().get(\"property_surface_total\").get(\"25%\")\n",
    "Q3_property_surface_total=df.describe().get(\"property_surface_total\").get(\"75%\")\n",
    "\n",
    "print(\"El valor de Q1 es:\", Q1_property_surface_total)\n",
    "print(\"El valor de Q3 es:\", Q3_property_surface_total)\n",
    "\n",
    "# Rango intercuartil\n",
    "IQR_property_surface_total=Q3_property_surface_total-Q1_property_surface_total\n",
    "\n",
    "# Limites Outliers\n",
    "out_inf=Q1_property_surface_total-1.5*IQR_property_surface_total\n",
    "out_sup=Q3_property_surface_total+1.5*IQR_property_surface_total\n",
    "print(\"El limite inferior del Q1 es:\", out_inf)\n",
    "print(\"El limite superior del Q3 es:\", out_sup)"
   ]
  },
  {
   "cell_type": "markdown",
   "metadata": {
    "id": "_GAWH2nO3qoO"
   },
   "source": [
    "##### Z-Score"
   ]
  },
  {
   "cell_type": "code",
   "execution_count": null,
   "metadata": {
    "id": "7F9DsA8E3qoO"
   },
   "outputs": [],
   "source": [
    "media_surface_total=np.mean(df.property_surface_total)\n",
    "std_surface_total=np.std(df.property_surface_total)\n",
    "df['z_surface_total']=(df.property_surface_total - media_surface_total)/std_surface_total"
   ]
  },
  {
   "cell_type": "markdown",
   "metadata": {
    "id": "gJHZdX4f-4yt"
   },
   "source": [
    "Estudiamos si existen datos para el método de Z-Score utilizando la regla de oro (|Z|>3)."
   ]
  },
  {
   "cell_type": "code",
   "execution_count": null,
   "metadata": {
    "colab": {
     "base_uri": "https://localhost:8080/",
     "height": 594
    },
    "id": "VVZmthJN3qoO",
    "outputId": "af159f1a-abba-4990-9a2f-db4a73fc31de"
   },
   "outputs": [],
   "source": [
    "df[df['z_surface_total']>3].head()"
   ]
  },
  {
   "cell_type": "code",
   "execution_count": null,
   "metadata": {
    "colab": {
     "base_uri": "https://localhost:8080/",
     "height": 143
    },
    "id": "LSVbapJK3qoP",
    "outputId": "a7d0e576-325e-41a1-f47b-9d898a6a8907"
   },
   "outputs": [],
   "source": [
    "df[df['z_surface_total']<-3].head()"
   ]
  },
  {
   "cell_type": "code",
   "execution_count": null,
   "metadata": {
    "colab": {
     "base_uri": "https://localhost:8080/",
     "height": 295
    },
    "id": "B0ZgRPgU3qoP",
    "outputId": "bbf03ce7-1317-4284-a716-0a16babbfe0f"
   },
   "outputs": [],
   "source": [
    "plt.hist(df.z_surface_total, bins=300, range=(-0.1,0.1))\n",
    "plt.title('Histograma Z-Score Surface Total')\n",
    "plt.xlabel('Z-Score Surface Total')\n",
    "plt.show()"
   ]
  },
  {
   "cell_type": "markdown",
   "metadata": {
    "id": "v-T5qHSI3qoP"
   },
   "source": [
    "##### Z-Score Modificado"
   ]
  },
  {
   "cell_type": "code",
   "execution_count": null,
   "metadata": {
    "id": "A4qlvzFC3qoP"
   },
   "outputs": [],
   "source": [
    "mediana_surface_total=np.nanmedian(df.property_surface_total)\n",
    "MAD=np.nanmedian(np.absolute(df.property_surface_total-mediana_surface_total))\n",
    "\n",
    "df['zm_surface_total']=(df.property_surface_total - mediana_surface_total)*0.6745/MAD"
   ]
  },
  {
   "cell_type": "markdown",
   "metadata": {
    "id": "LoQ05TJr_Agg"
   },
   "source": [
    "Estudiamos si existen datos para el método de Z-Score Modificado utilizando la regla de oro (|Z|>3.5)."
   ]
  },
  {
   "cell_type": "code",
   "execution_count": null,
   "metadata": {
    "colab": {
     "base_uri": "https://localhost:8080/",
     "height": 386
    },
    "id": "6MfCxKT63qoP",
    "outputId": "a042bd32-b1b2-464d-a0dd-bf4a3f98c0e5"
   },
   "outputs": [],
   "source": [
    "df[(df['zm_surface_total']>3.5)].head()"
   ]
  },
  {
   "cell_type": "code",
   "execution_count": null,
   "metadata": {
    "colab": {
     "base_uri": "https://localhost:8080/",
     "height": 143
    },
    "id": "83CuIKOl3qoP",
    "outputId": "2b3c8f5b-c2e1-443d-e114-435b3a4e26b0"
   },
   "outputs": [],
   "source": [
    "df[(df['zm_surface_total']<-3.5)].head()"
   ]
  },
  {
   "cell_type": "code",
   "execution_count": null,
   "metadata": {
    "colab": {
     "base_uri": "https://localhost:8080/",
     "height": 295
    },
    "id": "rLESZPIJ3qoP",
    "outputId": "0825cffb-2a95-4e0d-f106-4b3fe324f5eb"
   },
   "outputs": [],
   "source": [
    "plt.hist(df.zm_surface_total, bins=100, range=(-2,4))\n",
    "plt.title('Histograma Z-Score Modificado Surface Total')\n",
    "plt.xlabel('Z-Score Modificado Surface Total')\n",
    "plt.show()"
   ]
  },
  {
   "cell_type": "markdown",
   "metadata": {
    "id": "KJmMY38O3qoQ"
   },
   "source": [
    "##### Características"
   ]
  },
  {
   "cell_type": "markdown",
   "metadata": {
    "id": "-N5aGk733qoQ"
   },
   "source": [
    "Nuevamente, concluimos que al existir una gran masa conjunta de observaciones atípicas y una singular -también atípica- lejana a la masa en cuestión- podríamos decir que los outliers son del tipo colectivo (para la masa de observaciones cerca del máximo para el tercer cuartil) y global (para la observación singular por encima del resto de las observaciones)."
   ]
  },
  {
   "cell_type": "markdown",
   "metadata": {
    "id": "tWu2rN88m30d"
   },
   "source": [
    "### Outliers multivariados\n",
    "\n",
    "---"
   ]
  },
  {
   "cell_type": "markdown",
   "metadata": {
    "id": "Bh62tMLLpWt0"
   },
   "source": [
    "Para el análisis de outliers de tipo multivariados estaremos utilizando el método de Mahalanobis el cual nos brinda información respecto de la distancia de las observaciones agrupando las similares en clusters, evidenciando así los puntos aislados que pasaremos a considerar como valores atípicos.\n",
    "\n",
    "Por último, podremos destacar cuáles son las características de los valores en cuestión pudiendo clasificar los mismos en: global, contextual y colectivo."
   ]
  },
  {
   "cell_type": "markdown",
   "metadata": {
    "id": "O6GN0gKdaF7v"
   },
   "source": [
    "#### Preparación del dataset para el estudio de Mahalanobis"
   ]
  },
  {
   "cell_type": "markdown",
   "metadata": {
    "id": "cDbKixhpE8IJ"
   },
   "source": [
    "Para la utilización del método, analizamos la presencia de valores `nan` en nuestro dataset y analizamos la posibilidad de descartar los mismos en caso de existir nulos."
   ]
  },
  {
   "cell_type": "code",
   "execution_count": null,
   "metadata": {
    "colab": {
     "base_uri": "https://localhost:8080/"
    },
    "id": "aAjGYSS2E9W-",
    "outputId": "dbab1c5d-6761-4507-fd0e-39ac543b76de"
   },
   "outputs": [],
   "source": [
    "mahal = df.copy()\n",
    "mahal.isnull().sum()"
   ]
  },
  {
   "cell_type": "markdown",
   "metadata": {
    "id": "EHRzXV9XFVtK"
   },
   "source": [
    "Procedemos a eliminar los registros en cuestión dado que representan una pequeña porción del dataset y no se verán afectados los resultados."
   ]
  },
  {
   "cell_type": "code",
   "execution_count": null,
   "metadata": {
    "colab": {
     "base_uri": "https://localhost:8080/"
    },
    "id": "tkxj_hrlFYjO",
    "outputId": "edda3147-095d-4b9a-e2b4-343225799b32"
   },
   "outputs": [],
   "source": [
    "mahal.dropna(subset=['property_rooms', 'property_bedrooms'], inplace = True)\n",
    "mahal.isnull().sum()"
   ]
  },
  {
   "cell_type": "markdown",
   "metadata": {
    "id": "FDCcd2n3byyE"
   },
   "source": [
    "#### Property surface total vs Price\n",
    "\n"
   ]
  },
  {
   "cell_type": "markdown",
   "metadata": {
    "id": "uKcUsJkf1n-0"
   },
   "source": [
    "##### Scatter\n"
   ]
  },
  {
   "cell_type": "code",
   "execution_count": null,
   "metadata": {
    "colab": {
     "base_uri": "https://localhost:8080/"
    },
    "id": "GkGwfrSSb8l2",
    "outputId": "62b18d09-d4f1-4b15-b358-a119f4d391a9"
   },
   "outputs": [],
   "source": [
    "plt.scatter(mahal.property_surface_total,mahal.property_price)\n",
    "plt.title('Surface total vs Price')\n",
    "plt.xlabel('Surface total')\n",
    "plt.ylabel('Price')\n",
    "plt.show()"
   ]
  },
  {
   "cell_type": "markdown",
   "metadata": {
    "id": "8iBqpFym1_Nu"
   },
   "source": [
    "##### Mahalanobis"
   ]
  },
  {
   "cell_type": "code",
   "execution_count": null,
   "metadata": {
    "colab": {
     "base_uri": "https://localhost:8080/"
    },
    "id": "JTyhPYlofXyZ",
    "outputId": "df2c06c8-6895-49a5-8d9f-5d708de51850"
   },
   "outputs": [],
   "source": [
    "X = mahal[['property_surface_total','property_price']] # Tomamos las columnas a comparar\n",
    "sample_X = X.sample(frac=0.1) # Retorna una muestra de los datos\n",
    "\n",
    "mu = sample_X.mean() # Calculamos la media\n",
    "X_diff = X - mu\n",
    "X_diff = X_diff.values.T\n",
    "\n",
    "cov = np.cov(sample_X.values.T) # Calculamos la matriz de covarianza\n",
    "inv_cov = np.linalg.inv(cov) # Le calculamos su inversa\n",
    "W = sc.linalg.sqrtm(inv_cov) # Tomamos raiz cuadrada \n",
    "\n",
    "Wx = np.matmul(W, X_diff) # Hacemos el producto de ambas matrices\n",
    "\n",
    "mahal['mahal_sfto_prc'] = np.array([np.dot(Wx[:, i], Wx[:, i]) for i in range(Wx.shape[1])])\n",
    "\n",
    "mahal.head()"
   ]
  },
  {
   "cell_type": "code",
   "execution_count": null,
   "metadata": {
    "colab": {
     "base_uri": "https://localhost:8080/"
    },
    "id": "bj6Du93vjjOc",
    "outputId": "f97fb858-80db-47ba-8257-5f432d08b6c1"
   },
   "outputs": [],
   "source": [
    "np.sort(mahal.mahal_sfto_prc) # Ordenamos distancias calculadas de menor a mayor"
   ]
  },
  {
   "cell_type": "code",
   "execution_count": null,
   "metadata": {
    "colab": {
     "base_uri": "https://localhost:8080/"
    },
    "id": "z071CPmkjwqa",
    "outputId": "f53aed01-64f0-4266-f8bc-18b8d9484403"
   },
   "outputs": [],
   "source": [
    "umbral=10000\n",
    "mahal[mahal['mahal_sfto_prc']>umbral] # Observaciones anómalas\n",
    "\n",
    "es_outlier = (mahal['mahal_sfto_prc'] > umbral)\n",
    "\n",
    "sns.scatterplot(x=mahal.property_surface_total,y=mahal.property_price, hue=es_outlier) #Grafico scatter\n",
    "plt.legend(bbox_to_anchor=(1.05, 1), loc='upper left', borderaxespad=0, title=\"Outlier\")\n",
    "plt.title('Dispersograma Price vs Surface total')\n",
    "plt.show()"
   ]
  },
  {
   "cell_type": "markdown",
   "metadata": {
    "id": "p-Zyr5U718aG"
   },
   "source": [
    "##### Caracteristicas"
   ]
  },
  {
   "cell_type": "markdown",
   "metadata": {
    "id": "0ahgztA61x4s"
   },
   "source": [
    "Podemos visualizar que los valores que se encuentran particularmente alejados de la masa de observaciones caben dentro de la clasificación de outliers globales."
   ]
  },
  {
   "cell_type": "markdown",
   "metadata": {
    "id": "jgGd0uFsYYoM"
   },
   "source": [
    "#### Property rooms vs Property bedrooms"
   ]
  },
  {
   "cell_type": "markdown",
   "metadata": {
    "id": "S7fmoqM02VfE"
   },
   "source": [
    "##### Scatter"
   ]
  },
  {
   "cell_type": "code",
   "execution_count": null,
   "metadata": {
    "colab": {
     "base_uri": "https://localhost:8080/"
    },
    "id": "vRs4fXeeYjhT",
    "outputId": "fc960dbe-52c9-452e-c636-dd223d30799c"
   },
   "outputs": [],
   "source": [
    "plt.scatter(mahal.property_rooms,mahal.property_bedrooms)\n",
    "plt.title('Bedrooms vs Rooms')\n",
    "plt.xlabel('Bedrooms')\n",
    "plt.ylabel('Rooms')\n",
    "plt.show()"
   ]
  },
  {
   "cell_type": "markdown",
   "metadata": {
    "id": "wKLR3uXZ2Xpj"
   },
   "source": [
    "##### Mahalanobis"
   ]
  },
  {
   "cell_type": "code",
   "execution_count": null,
   "metadata": {
    "colab": {
     "base_uri": "https://localhost:8080/"
    },
    "id": "yZTjLSXeD9tf",
    "outputId": "521a550a-5a82-4357-b591-77dbd13dff9e"
   },
   "outputs": [],
   "source": [
    "X = mahal[['property_rooms','property_bedrooms']] # Tomamos las columnas a comparar\n",
    "sample_X = X.sample(frac=0.1) # Retorna una muestra de los datos\n",
    "\n",
    "mu = sample_X.mean() # Calculamos la media\n",
    "X_diff = X - mu\n",
    "X_diff = X_diff.values.T\n",
    "\n",
    "cov = np.cov(sample_X.values.T) # Calculamos la matriz de covarianza\n",
    "inv_cov = np.linalg.inv(cov) # Le calculamos su inversa\n",
    "W = sc.linalg.sqrtm(inv_cov) # Tomamos raiz cuadrada \n",
    "\n",
    "Wx = np.matmul(W, X_diff) # Hacemos el producto de ambas matrices\n",
    "\n",
    "mahal['mahal_ro_bdro'] = np.array([np.dot(Wx[:, i], Wx[:, i]) for i in range(Wx.shape[1])])\n",
    "\n",
    "mahal.head()"
   ]
  },
  {
   "cell_type": "code",
   "execution_count": null,
   "metadata": {
    "colab": {
     "base_uri": "https://localhost:8080/"
    },
    "id": "N6aTg3D6Khhh",
    "outputId": "e9c375b7-fac4-4344-c8b5-51a7c8a122b1"
   },
   "outputs": [],
   "source": [
    "np.sort(mahal.mahal_ro_bdro) # Ordenamos distancias calculadas de menor a mayor"
   ]
  },
  {
   "cell_type": "code",
   "execution_count": null,
   "metadata": {
    "colab": {
     "base_uri": "https://localhost:8080/"
    },
    "id": "T_WJdwzRKnkW",
    "outputId": "ba4ee8d1-088f-41b7-93c7-eb313b2e87f5"
   },
   "outputs": [],
   "source": [
    "umbral=700\n",
    "mahal[mahal['mahal_ro_bdro']>umbral] # Observaciones anómalas\n",
    "\n",
    "es_outlier = (mahal['mahal_ro_bdro'] > umbral)\n",
    "\n",
    "sns.scatterplot(x=mahal.property_rooms,y=mahal.property_bedrooms, hue=es_outlier) #Grafico scatter\n",
    "plt.legend(bbox_to_anchor=(1.05, 1), loc='upper left', borderaxespad=0, title=\"Outlier\")\n",
    "plt.title('Dispersograma Rooms vs Bedrooms')\n",
    "plt.show()"
   ]
  },
  {
   "cell_type": "markdown",
   "metadata": {
    "id": "9Vad7u9j2jca"
   },
   "source": [
    "##### Caracteristicas"
   ]
  },
  {
   "cell_type": "markdown",
   "metadata": {
    "id": "MkeAQzTb2iU7"
   },
   "source": [
    "Notamos que estamos en presencia de outliers en su mayoría globales, con la particularidad de que tenemos algunos casos de valores atípicos colectivos en las cercanías del rango equivalente a 30 respecto del eje `property_bedrooms`.\n",
    "\n",
    "Adicionalmente, cabe destacar que hay dos valores particularmente alejados. Siguiendo esta línea, llegamos a la conclusión de que estamos en presencia de outliers globales."
   ]
  },
  {
   "cell_type": "markdown",
   "metadata": {
    "id": "_pMvvDQbaYwr"
   },
   "source": [
    "#### Property rooms vs Property surface total"
   ]
  },
  {
   "cell_type": "markdown",
   "metadata": {
    "id": "ji3Gob3l3ilT"
   },
   "source": [
    "##### Scatter\n"
   ]
  },
  {
   "cell_type": "code",
   "execution_count": null,
   "metadata": {
    "colab": {
     "base_uri": "https://localhost:8080/"
    },
    "id": "gNJ0QvuNaphw",
    "outputId": "603761b5-5268-4aeb-c2c3-b41d8bd0e141"
   },
   "outputs": [],
   "source": [
    "plt.scatter(mahal.property_rooms,mahal.property_surface_total)\n",
    "plt.title('Rooms vs Surface total')\n",
    "plt.xlabel('Rooms')\n",
    "plt.ylabel('Surface total')\n",
    "plt.show()"
   ]
  },
  {
   "cell_type": "markdown",
   "metadata": {
    "id": "3jvVtP2X3lRi"
   },
   "source": [
    "##### Mahalanobis"
   ]
  },
  {
   "cell_type": "markdown",
   "metadata": {
    "id": "CMJ1cRkH3qXa"
   },
   "source": [
    "Para poder determinar concretamente estos valores atipicos, nos ayudamos con el calculo de la distancia de mahalanobis para cada una de las observaciones presentes."
   ]
  },
  {
   "cell_type": "code",
   "execution_count": null,
   "metadata": {
    "colab": {
     "base_uri": "https://localhost:8080/"
    },
    "id": "u9pXJ1RrLpyI",
    "outputId": "6f3383ac-2441-4e1b-bd2b-d4b2c5e38bbf"
   },
   "outputs": [],
   "source": [
    "X = mahal[['property_rooms','property_surface_total']] # Tomamos las columnas a comparar\n",
    "sample_X = X.sample(frac=0.1) # Retorna una muestra de los datos\n",
    "\n",
    "mu = sample_X.mean() # Calculamos la media\n",
    "X_diff = X - mu\n",
    "X_diff = X_diff.values.T\n",
    "\n",
    "cov = np.cov(sample_X.values.T) # Calculamos la matriz de covarianza\n",
    "inv_cov = np.linalg.inv(cov) # Le calculamos su inversa\n",
    "W = sc.linalg.sqrtm(inv_cov) # Tomamos raiz cuadrada \n",
    "\n",
    "Wx = np.matmul(W, X_diff) # Hacemos el producto de ambas matrices\n",
    "\n",
    "mahal['mahal_ro_sfto'] = np.array([np.dot(Wx[:, i], Wx[:, i]) for i in range(Wx.shape[1])])\n",
    "\n",
    "mahal.head()"
   ]
  },
  {
   "cell_type": "code",
   "execution_count": null,
   "metadata": {
    "colab": {
     "base_uri": "https://localhost:8080/"
    },
    "id": "Q4YL5w0LL8UE",
    "outputId": "893031ee-c820-410a-833b-330c3afbcd44"
   },
   "outputs": [],
   "source": [
    "np.sort(mahal.mahal_ro_sfto) # Ordenamos distancias calculadas de menor a mayor"
   ]
  },
  {
   "cell_type": "code",
   "execution_count": null,
   "metadata": {
    "colab": {
     "base_uri": "https://localhost:8080/"
    },
    "id": "yEGG5CCAMAaP",
    "outputId": "87c39df3-82b1-4361-c066-bccbef4d51c1"
   },
   "outputs": [],
   "source": [
    "umbral=5000\n",
    "mahal[mahal['mahal_ro_sfto']>umbral] # Observaciones anómalas\n",
    "\n",
    "es_outlier = (mahal['mahal_ro_sfto'] > umbral)\n",
    "\n",
    "sns.scatterplot(x=mahal.property_rooms,y=mahal.property_surface_total, hue=es_outlier) #Grafico scatter\n",
    "plt.legend(bbox_to_anchor=(1.05, 1), loc='upper left', borderaxespad=0, title=\"Outlier\")\n",
    "plt.title('Dispersograma Rooms vs Surface Total')\n",
    "plt.show()"
   ]
  },
  {
   "cell_type": "markdown",
   "metadata": {
    "id": "_StTuEOO3sCT"
   },
   "source": [
    "##### Caracteristicas"
   ]
  },
  {
   "cell_type": "markdown",
   "metadata": {
    "id": "7xPLNS4j3xiq"
   },
   "source": [
    "En esta nueva comparación, contamos -una vez más- con la presencia de registros aislados en la parte superior izquierda que podríamos clasificarlos como outliers globales."
   ]
  },
  {
   "cell_type": "markdown",
   "metadata": {
    "id": "P9Xq9piabA6s"
   },
   "source": [
    "#### Property rooms vs Property surface covered"
   ]
  },
  {
   "cell_type": "markdown",
   "metadata": {
    "id": "zkDPFnw64WDQ"
   },
   "source": [
    "##### Scatter"
   ]
  },
  {
   "cell_type": "code",
   "execution_count": null,
   "metadata": {
    "colab": {
     "base_uri": "https://localhost:8080/"
    },
    "id": "xxwGCLpAbGfP",
    "outputId": "35f25515-aed4-4624-e571-9736ea934f63"
   },
   "outputs": [],
   "source": [
    "plt.scatter(df.property_rooms,df.property_surface_covered)\n",
    "plt.title('Rooms vs Surface covered')\n",
    "plt.xlabel('Rooms')\n",
    "plt.ylabel('Surface covered')\n",
    "plt.show()"
   ]
  },
  {
   "cell_type": "markdown",
   "metadata": {
    "id": "Af-JvZsC4YEX"
   },
   "source": [
    "##### Mahalanobis"
   ]
  },
  {
   "cell_type": "code",
   "execution_count": null,
   "metadata": {
    "colab": {
     "base_uri": "https://localhost:8080/"
    },
    "id": "ahiV6hvmNQ57",
    "outputId": "6313d415-9e8b-4d06-ac40-5e05a2da16a7"
   },
   "outputs": [],
   "source": [
    "X = mahal[['property_rooms','property_surface_covered']] # Tomamos las columnas a comparar\n",
    "sample_X = X.sample(frac=0.1) # Retorna una muestra de los datos\n",
    "\n",
    "mu = sample_X.mean() # Calculamos la media\n",
    "X_diff = X - mu\n",
    "X_diff = X_diff.values.T\n",
    "\n",
    "cov = np.cov(sample_X.values.T) # Calculamos la matriz de covarianza\n",
    "inv_cov = np.linalg.inv(cov) # Le calculamos su inversa\n",
    "W = sc.linalg.sqrtm(inv_cov) # Tomamos raiz cuadrada \n",
    "\n",
    "Wx = np.matmul(W, X_diff) # Hacemos el producto de ambas matrices\n",
    "\n",
    "mahal['mahal_ro_sfcv'] = np.array([np.dot(Wx[:, i], Wx[:, i]) for i in range(Wx.shape[1])])\n",
    "\n",
    "mahal.head()"
   ]
  },
  {
   "cell_type": "code",
   "execution_count": null,
   "metadata": {
    "colab": {
     "base_uri": "https://localhost:8080/"
    },
    "id": "MAMvXrd_NYlV",
    "outputId": "f4a0b44f-dfe3-4fc7-9f56-e88318784060"
   },
   "outputs": [],
   "source": [
    "np.sort(mahal.mahal_ro_sfcv) # Ordenamos distancias calculadas de menor a mayor"
   ]
  },
  {
   "cell_type": "code",
   "execution_count": null,
   "metadata": {
    "colab": {
     "base_uri": "https://localhost:8080/"
    },
    "id": "UelzDswkNcLw",
    "outputId": "38c548b3-3dd8-4e80-e0d8-d259cb5c900c"
   },
   "outputs": [],
   "source": [
    "umbral=3000\n",
    "mahal[mahal['mahal_ro_sfcv']>umbral] # Observaciones anómalas\n",
    "\n",
    "es_outlier = (mahal['mahal_ro_sfcv'] > umbral)\n",
    "\n",
    "sns.scatterplot(x=mahal.property_rooms,y=mahal.property_surface_covered, hue=es_outlier) #Grafico scatter\n",
    "plt.legend(bbox_to_anchor=(1.05, 1), loc='upper left', borderaxespad=0, title=\"Outlier\")\n",
    "plt.title('Dispersograma Rooms vs Surface Covered')\n",
    "plt.show()"
   ]
  },
  {
   "cell_type": "markdown",
   "metadata": {
    "id": "reLbiJTs4dmn"
   },
   "source": [
    "##### Caracteristicas"
   ]
  },
  {
   "cell_type": "markdown",
   "metadata": {
    "id": "1hPsFDmd4l5L"
   },
   "source": [
    "Luego de la comparación de surface covered vs property rooms, notamos que nuevamente estamos en presencia de outliers, en particular esta vez todos de carácter global.\n"
   ]
  },
  {
   "cell_type": "markdown",
   "metadata": {
    "id": "IJnCYsswbc7w"
   },
   "source": [
    "#### Property rooms vs Property price"
   ]
  },
  {
   "cell_type": "markdown",
   "metadata": {
    "id": "mFd7sTLU5et1"
   },
   "source": [
    "##### Scatter"
   ]
  },
  {
   "cell_type": "code",
   "execution_count": null,
   "metadata": {
    "colab": {
     "base_uri": "https://localhost:8080/"
    },
    "id": "D-3Lhtg4bhuF",
    "outputId": "20f5e029-3fee-41d0-91ad-06d706505682"
   },
   "outputs": [],
   "source": [
    "plt.scatter(mahal.property_rooms,mahal.property_price)\n",
    "plt.title('Rooms vs Price')\n",
    "plt.xlabel('Rooms')\n",
    "plt.ylabel('Price')\n",
    "plt.show()"
   ]
  },
  {
   "cell_type": "markdown",
   "metadata": {
    "id": "eNEQTKBa5g-Q"
   },
   "source": [
    "##### Mahalanobis"
   ]
  },
  {
   "cell_type": "code",
   "execution_count": null,
   "metadata": {
    "colab": {
     "base_uri": "https://localhost:8080/"
    },
    "id": "xH9rEoPMNyt8",
    "outputId": "c6d684d9-7d2d-4019-8f39-f1ccd92cc56c"
   },
   "outputs": [],
   "source": [
    "X = mahal[['property_rooms','property_price']] # Tomamos las columnas a comparar\n",
    "sample_X = X.sample(frac=0.1) # Retorna una muestra de los datos\n",
    "\n",
    "mu = sample_X.mean() # Calculamos la media\n",
    "X_diff = X - mu\n",
    "X_diff = X_diff.values.T\n",
    "\n",
    "cov = np.cov(sample_X.values.T) # Calculamos la matriz de covarianza\n",
    "inv_cov = np.linalg.inv(cov) # Le calculamos su inversa\n",
    "W = sc.linalg.sqrtm(inv_cov) # Tomamos raiz cuadrada \n",
    "\n",
    "Wx = np.matmul(W, X_diff) # Hacemos el producto de ambas matrices\n",
    "\n",
    "mahal['mahal_ro_pr'] = np.array([np.dot(Wx[:, i], Wx[:, i]) for i in range(Wx.shape[1])])\n",
    "\n",
    "mahal.head()"
   ]
  },
  {
   "cell_type": "code",
   "execution_count": null,
   "metadata": {
    "colab": {
     "base_uri": "https://localhost:8080/"
    },
    "id": "N6ZUZYJuN5Cp",
    "outputId": "b9222d97-c3d2-4f47-945c-dc014c910323"
   },
   "outputs": [],
   "source": [
    "np.sort(mahal.mahal_ro_pr) # Ordenamos distancias calculadas de menor a mayor"
   ]
  },
  {
   "cell_type": "code",
   "execution_count": null,
   "metadata": {
    "colab": {
     "base_uri": "https://localhost:8080/"
    },
    "id": "sJXBf_FUN8rJ",
    "outputId": "b2740667-0990-4f37-8e02-15b366e94c9b"
   },
   "outputs": [],
   "source": [
    "umbral=700\n",
    "mahal[mahal['mahal_ro_pr']>umbral] # Observaciones anómalas\n",
    "\n",
    "es_outlier = (mahal['mahal_ro_pr'] > umbral)\n",
    "\n",
    "sns.scatterplot(x=mahal.property_rooms,y=mahal.property_price, hue=es_outlier) #Grafico scatter\n",
    "plt.legend(bbox_to_anchor=(1.05, 1), loc='upper left', borderaxespad=0, title=\"Outlier\")\n",
    "plt.title('Dispersograma Rooms vs Price')\n",
    "plt.show()"
   ]
  },
  {
   "cell_type": "markdown",
   "metadata": {
    "id": "Ct6Kn7rx5mQQ"
   },
   "source": [
    "##### Caracteristicas"
   ]
  },
  {
   "cell_type": "markdown",
   "metadata": {
    "id": "SaMjqKhk5pWn"
   },
   "source": [
    "Nuevamente visualizamos outliers globales."
   ]
  },
  {
   "cell_type": "markdown",
   "metadata": {
    "id": "aHfdjOZg7xj8"
   },
   "source": [
    "### Tratamiento"
   ]
  },
  {
   "cell_type": "markdown",
   "metadata": {
    "id": "wlbWTK2ZmX_U"
   },
   "source": [
    "Para cada una de las variables, estudiamos si es posible eliminar los valores atípicos encontrados con los métodos previamente descriptos analizando la proporción que estos representan sobre el total de los valores, teniendo en cuenta la decisión de admitir una tolerancia del 10% de otuliers."
   ]
  },
  {
   "cell_type": "markdown",
   "metadata": {
    "id": "WV2kFJxHmEkU"
   },
   "source": [
    "#### Property rooms"
   ]
  },
  {
   "cell_type": "code",
   "execution_count": null,
   "metadata": {
    "colab": {
     "base_uri": "https://localhost:8080/"
    },
    "id": "aMWHEvjBmi2h",
    "outputId": "32439b0c-72a2-4c19-a07f-cefdab05ffcd"
   },
   "outputs": [],
   "source": [
    "rooms_outliers_porcentaje = df[(df['zm_rooms']>3.5)].shape[0]/df['zm_rooms'].shape[0]*100\n",
    "\n",
    "print(f\"Los valores atípicos encontrados para property_rooms representan un {round(rooms_outliers_porcentaje, 3)}% del total del dataset.\")"
   ]
  },
  {
   "cell_type": "markdown",
   "metadata": {
    "id": "d16Bun7Oz6do"
   },
   "source": [
    "Eliminamos los outliers del dataset:"
   ]
  },
  {
   "cell_type": "code",
   "execution_count": null,
   "metadata": {
    "id": "M7FcCCe5z9Xo"
   },
   "outputs": [],
   "source": [
    "df.drop(df[df['zm_rooms']>3.5].index, inplace=True)"
   ]
  },
  {
   "cell_type": "markdown",
   "metadata": {
    "id": "p1BS-d8LmR04"
   },
   "source": [
    "#### Property bedrooms"
   ]
  },
  {
   "cell_type": "code",
   "execution_count": null,
   "metadata": {
    "colab": {
     "base_uri": "https://localhost:8080/"
    },
    "id": "BX-zeg8MzC75",
    "outputId": "14dace66-19d8-4e97-e379-4c79a1581f7a"
   },
   "outputs": [],
   "source": [
    "bedrooms_outliers_porcentaje = df[(df['zm_bedrooms']>3.5)].shape[0]/df['zm_bedrooms'].shape[0]*100\n",
    "\n",
    "print(f\"Los valores atípicos encontrados para property_bedrooms representan un {round(bedrooms_outliers_porcentaje, 3)}% del total del dataset.\")"
   ]
  },
  {
   "cell_type": "code",
   "execution_count": null,
   "metadata": {
    "id": "RjxlgYK10gYH"
   },
   "outputs": [],
   "source": [
    "df.drop(df[df['zm_bedrooms']>3.5].index, inplace=True)"
   ]
  },
  {
   "cell_type": "markdown",
   "metadata": {
    "id": "KTrY9wGBmUpg"
   },
   "source": [
    "#### Property price"
   ]
  },
  {
   "cell_type": "code",
   "execution_count": null,
   "metadata": {
    "colab": {
     "base_uri": "https://localhost:8080/"
    },
    "id": "2e6XR8hbzKBp",
    "outputId": "bd793406-4099-4edc-f60e-57b3d60243d6"
   },
   "outputs": [],
   "source": [
    "price_outliers_porcentaje = df[(df['zm_price']>3.5)].shape[0]/df['zm_price'].shape[0]*100\n",
    "\n",
    "print(f\"Los valores atípicos encontrados para property_price representan un {round(price_outliers_porcentaje, 3)}% del total del dataset.\")"
   ]
  },
  {
   "cell_type": "code",
   "execution_count": null,
   "metadata": {
    "id": "80kp-jnS0kgh"
   },
   "outputs": [],
   "source": [
    "df.drop(df[df['zm_price']>3.5].index, inplace=True)"
   ]
  },
  {
   "cell_type": "markdown",
   "metadata": {
    "id": "v_UiK31k8oxR"
   },
   "source": [
    "#### Property surface covered"
   ]
  },
  {
   "cell_type": "code",
   "execution_count": null,
   "metadata": {
    "colab": {
     "base_uri": "https://localhost:8080/"
    },
    "id": "aeQ2GLun8oxT",
    "outputId": "7e1eeb3f-e1f2-4723-dc78-f89bc4647f0e"
   },
   "outputs": [],
   "source": [
    "surface_covered_outliers_porcentaje = df[(df['zm_surface_covered']>3.5)].shape[0]/df['zm_surface_covered'].shape[0]*100\n",
    "\n",
    "print(f\"Los valores atípicos encontrados para property_surface_covered representan un {round(surface_covered_outliers_porcentaje, 3)}% del total del dataset.\")"
   ]
  },
  {
   "cell_type": "code",
   "execution_count": null,
   "metadata": {
    "id": "Nie4YPnP8oxT"
   },
   "outputs": [],
   "source": [
    "df.drop(df[df['zm_surface_covered']>3.5].index, inplace=True)"
   ]
  },
  {
   "cell_type": "markdown",
   "metadata": {
    "id": "-PzVC75k8pRY"
   },
   "source": [
    "#### Property surface total"
   ]
  },
  {
   "cell_type": "code",
   "execution_count": null,
   "metadata": {
    "colab": {
     "base_uri": "https://localhost:8080/"
    },
    "id": "F09by2Pi8pRZ",
    "outputId": "cd57ea08-d2d1-4a07-a1db-15d53be0a79c"
   },
   "outputs": [],
   "source": [
    "surface_total_outliers_porcentaje = df[(df['zm_surface_total']>3.5)].shape[0]/df['zm_surface_total'].shape[0]*100\n",
    "\n",
    "print(f\"Los valores atípicos encontrados para property_surface_total representan un {round(surface_total_outliers_porcentaje, 3)}% del total del dataset.\")"
   ]
  },
  {
   "cell_type": "code",
   "execution_count": null,
   "metadata": {
    "id": "SRC1LUGS8pRZ"
   },
   "outputs": [],
   "source": [
    "df.drop(df[df['zm_surface_total']>3.5].index, inplace=True)"
   ]
  },
  {
   "cell_type": "markdown",
   "metadata": {
    "id": "5UQ70TvdGVpZ"
   },
   "source": [
    "## **1d. Reducción de la dimensionalidad**"
   ]
  },
  {
   "cell_type": "markdown",
   "metadata": {
    "id": "KEE3B9nPGcNF"
   },
   "source": [
    "Para realizar la reducción de la dimensionalidad del dataset, estaremos utilizando el algoritmo PCA con el objetivo de reducir la dimensión del problema descartando la información redundante existente."
   ]
  },
  {
   "cell_type": "markdown",
   "metadata": {
    "id": "XeBTDBdj9S6c"
   },
   "source": [
    "Generamos un nuevo dataset de reducción de dimensionalidad:"
   ]
  },
  {
   "cell_type": "code",
   "execution_count": null,
   "metadata": {
    "id": "mxc3FRh99WfV"
   },
   "outputs": [],
   "source": [
    "df_reduc = df.copy()"
   ]
  },
  {
   "cell_type": "markdown",
   "metadata": {
    "id": "3vsy81WvJCpJ"
   },
   "source": [
    "Antes de ejecutar el algoritmo, verificamos que no existan nulos para las variables de importancia que no brinden información de relevancia. En caso de existir, los eliminamos."
   ]
  },
  {
   "cell_type": "code",
   "execution_count": null,
   "metadata": {
    "id": "QyVjpMEDJOMe"
   },
   "outputs": [],
   "source": [
    "df_reduc.drop(df_reduc[df_reduc['property_rooms'].isna()].index, inplace=True)\n",
    "df_reduc.drop(df_reduc[df_reduc['property_bedrooms'].isna()].index, inplace=True)\n",
    "df_reduc.drop(df_reduc[df_reduc['property_price'].isna()].index, inplace=True)\n",
    "df_reduc.drop(df_reduc[df_reduc['property_surface_covered'].isna()].index, inplace=True)\n",
    "df_reduc.drop(df_reduc[df_reduc['property_surface_total'].isna()].index, inplace=True)"
   ]
  },
  {
   "cell_type": "code",
   "execution_count": null,
   "metadata": {
    "id": "4xwYslhcH3Gm"
   },
   "outputs": [],
   "source": [
    "columnas_elegidas = ['property_rooms', 'property_bedrooms', 'property_price', 'property_surface_covered', 'property_surface_total']\n",
    "\n",
    "x = df_reduc.loc[:, columnas_elegidas].values\n",
    "x = StandardScaler().fit_transform(x)"
   ]
  },
  {
   "cell_type": "code",
   "execution_count": null,
   "metadata": {
    "id": "3Dxomi--IRhL"
   },
   "outputs": [],
   "source": [
    "pca = PCA(n_components=5)\n",
    "x_transformada = pca.fit_transform(x)\n",
    "\n",
    "pca_df_aux = pd.DataFrame(data = x_transformada\n",
    "             , columns = ['cp_1', 'cp_2','cp_3','cp_4','cp_5'])"
   ]
  },
  {
   "cell_type": "code",
   "execution_count": null,
   "metadata": {
    "colab": {
     "base_uri": "https://localhost:8080/",
     "height": 206
    },
    "id": "vCaDQWqTJ865",
    "outputId": "256fa10c-5445-4dc9-c2b7-0e1b836565a6"
   },
   "outputs": [],
   "source": [
    "df_reduc['target'] = 0\n",
    "target = pd.DataFrame((np.column_stack(df_reduc['target'])).tolist()).T\n",
    "df_pca = pd.concat([pca_df_aux, target], axis = 1)\n",
    "df_pca.columns= ['cp_1', 'cp_2','cp_3','cp_4', 'cp_5','target']\n",
    "df_pca.head()"
   ]
  },
  {
   "cell_type": "code",
   "execution_count": null,
   "metadata": {
    "colab": {
     "base_uri": "https://localhost:8080/",
     "height": 787
    },
    "id": "hL4pN2O9CI7n",
    "outputId": "4f9373c0-6463-4f1f-a3aa-82249953132b"
   },
   "outputs": [],
   "source": [
    "targets = ['Casa', 'PH', 'Departamento']\n",
    "\n",
    "fig = plt.figure(figsize = (20,20))\n",
    "\n",
    "c = df_pca['target']\n",
    "\n",
    "## plot 1\n",
    "\n",
    "ax = fig.add_subplot(2, 4, 1) \n",
    "\n",
    "x = df_pca['cp_1']\n",
    "y = df_pca['cp_3']\n",
    "\n",
    "ax.scatter(x = x, y = y, c = c)\n",
    "\n",
    "ax.set_xlabel('rooms', fontsize = 10)\n",
    "ax.set_ylabel('price', fontsize = 10)\n",
    "ax.grid()\n",
    "\n",
    "## plot 2\n",
    "\n",
    "ax = fig.add_subplot(2, 4, 2) \n",
    "\n",
    "x = df_pca['cp_2']\n",
    "\n",
    "ax.scatter(x = x, y = y, c = c)\n",
    "\n",
    "ax.set_xlabel('bedrooms', fontsize = 10)\n",
    "ax.set_ylabel('price', fontsize = 10)\n",
    "ax.grid()\n",
    "\n",
    "## plot 3\n",
    "\n",
    "ax = fig.add_subplot(2, 4, 3) \n",
    "\n",
    "x = df_pca['cp_1']\n",
    "y = df_pca['cp_4']\n",
    "\n",
    "ax.scatter(x = x, y = y, c = c)\n",
    "\n",
    "ax.set_xlabel('rooms', fontsize = 10)\n",
    "ax.set_ylabel('surface_covered', fontsize = 10)\n",
    "ax.grid()\n",
    "\n",
    "## plot 4\n",
    "\n",
    "ax = fig.add_subplot(2, 4, 4) \n",
    "\n",
    "y = df_pca['cp_5']\n",
    "\n",
    "ax.scatter(x = x, y = y, c = c)\n",
    "\n",
    "ax.set_xlabel('rooms', fontsize = 10)\n",
    "ax.set_ylabel('surface_total', fontsize = 10)\n",
    "ax.grid()\n",
    "\n",
    "## plot 5\n",
    "\n",
    "ax = fig.add_subplot(2, 4, 5) \n",
    "\n",
    "x = df_pca['cp_2']\n",
    "y = df_pca['cp_4']\n",
    "\n",
    "ax.scatter(x = x, y = y, c = c)\n",
    "\n",
    "ax.set_xlabel('bedrooms', fontsize = 10)\n",
    "ax.set_ylabel('surface_covered', fontsize = 10)\n",
    "ax.grid()\n",
    "\n",
    "## plot 6\n",
    "\n",
    "ax = fig.add_subplot(2, 4, 6) \n",
    "\n",
    "y = df_pca['cp_5']\n",
    "\n",
    "ax.scatter(x = x, y = y, c = c)\n",
    "\n",
    "ax.set_xlabel('bedrooms', fontsize = 10)\n",
    "ax.set_ylabel('surface_total', fontsize = 10)\n",
    "ax.grid()\n",
    "\n",
    "## plot 7\n",
    "\n",
    "ax = fig.add_subplot(2, 4, 7) \n",
    "\n",
    "x = df_pca['cp_3']\n",
    "y = df_pca['cp_4']\n",
    "\n",
    "ax.scatter(x = x, y = y, c = c)\n",
    "\n",
    "ax.set_xlabel('price', fontsize = 10)\n",
    "ax.set_ylabel('surface_covered', fontsize = 10)\n",
    "ax.grid()\n",
    "\n",
    "## plot 8\n",
    "\n",
    "ax = fig.add_subplot(2, 4, 8) \n",
    "\n",
    "y = df_pca['cp_5']\n",
    "\n",
    "ax.scatter(x = x, y = y, c = c)\n",
    "\n",
    "ax.set_xlabel('price', fontsize = 10)\n",
    "ax.set_ylabel('surface_total', fontsize = 10)\n",
    "ax.grid()\n",
    "\n",
    "plt.show()"
   ]
  },
  {
   "cell_type": "code",
   "execution_count": null,
   "metadata": {
    "colab": {
     "base_uri": "https://localhost:8080/",
     "height": 279
    },
    "id": "Uvlpi_wKb8Eg",
    "outputId": "3cdd152c-fd20-4a38-f6a5-d85b8d2c0e8e"
   },
   "outputs": [],
   "source": [
    "varianza_explicada = pca.explained_variance_ratio_\n",
    "list_x = list(range(1, len(varianza_explicada)+1))\n",
    "\n",
    "plt.figure(figsize=(6, 4))\n",
    "plt.plot(list_x, varianza_explicada, '-o')\n",
    "plt.xlabel(r'Componentes Principales')\n",
    "plt.ylabel('Varianza explicada')\n",
    "plt.show()"
   ]
  },
  {
   "cell_type": "markdown",
   "metadata": {
    "id": "EqJCNlNL4axE"
   },
   "source": [
    "#  **2. Agrupamiento**"
   ]
  },
  {
   "cell_type": "code",
   "execution_count": null,
   "metadata": {
    "id": "f323jDv23IWv"
   },
   "outputs": [],
   "source": [
    "from sklearn.cluster import KMeans\n",
    "CABA_lat = -34.611817\n",
    "CABA_long = -58.446881\n",
    "\n",
    "df = df.loc[((CABA_lat - 0.5) < df[\"latitud\"]) & (df[\"latitud\"] < (CABA_lat + 0.5))]\n",
    "df = df.loc[((CABA_long - 0.5) < df[\"longitud\"]) & (df[\"longitud\"] < (CABA_long + 0.5))]"
   ]
  },
  {
   "cell_type": "code",
   "execution_count": null,
   "metadata": {
    "colab": {
     "base_uri": "https://localhost:8080/",
     "height": 388
    },
    "id": "Ja2_fn6W3KmV",
    "outputId": "0835dd43-96b9-41a2-8932-7ebb3bcc16be"
   },
   "outputs": [],
   "source": [
    "x_ejemplo1 = np.column_stack((df.longitud.tolist(), df.latitud.tolist()))\n",
    "\n",
    "sse = []\n",
    "list_k = list(range(1, 10))\n",
    "\n",
    "for k in list_k:\n",
    "    km = KMeans(n_clusters=k)\n",
    "    km.fit(x_ejemplo1)\n",
    "    sse.append(km.inertia_)\n",
    "    \n",
    "plt.figure(figsize=(6, 6))\n",
    "plt.plot(list_k, sse, '-o')\n",
    "plt.xlabel(r'Cantidad de clusters')\n",
    "plt.ylabel('SSE')\n",
    "plt.show()"
   ]
  },
  {
   "cell_type": "code",
   "execution_count": null,
   "metadata": {
    "colab": {
     "base_uri": "https://localhost:8080/",
     "height": 265
    },
    "id": "pP9DnZkI4bfN",
    "outputId": "e4892416-04c0-4be7-fb8f-eed61b215b44"
   },
   "outputs": [],
   "source": [
    "kmeans = KMeans(n_clusters=6)\n",
    "kmeans.fit(x_ejemplo1)\n",
    "y_kmeans = kmeans.predict(x_ejemplo1)\n",
    "plt.scatter(x_ejemplo1[:, 0], x_ejemplo1[:, 1], c=y_kmeans, s=10)\n",
    "\n",
    "centers = kmeans.cluster_centers_\n",
    "plt.scatter(centers[:, 0], centers[:, 1], c='red', s=50, alpha=0.5,marker='.')\n",
    "plt.show()"
   ]
  },
  {
   "cell_type": "code",
   "execution_count": null,
   "metadata": {
    "colab": {
     "base_uri": "https://localhost:8080/",
     "height": 1000
    },
    "id": "inGiNV1O3NMN",
    "outputId": "17578df3-577c-46b3-d902-356dfaf1ed81"
   },
   "outputs": [],
   "source": [
    "X = df.iloc[:,[5,4,15]].values\n",
    "\n",
    "sse = []\n",
    "list_k = list(range(1, 10))\n",
    "\n",
    "for k in list_k:\n",
    "    km = KMeans(n_clusters=k)\n",
    "    km.fit(X)\n",
    "    sse.append(km.inertia_)\n",
    "    \n",
    "plt.figure(figsize=(6, 6))\n",
    "plt.plot(list_k, sse, '-o')\n",
    "plt.xlabel(r'Cantidad de clusters')\n",
    "plt.ylabel('SSE')\n",
    "plt.show()\n",
    "\n",
    "fig = plt.figure(figsize=(15,15))\n",
    "ax = fig.add_subplot(projection='3d')\n",
    "\n",
    "kmeans = KMeans(n_clusters=3)\n",
    "kmeans.fit(X)\n",
    "y_kmeans = kmeans.predict(X)\n",
    "\n",
    "centers = kmeans.cluster_centers_\n",
    "ax.scatter(X[:,0], X[:,1], X[:,2], c=y_kmeans, s=0.2)\n",
    "ax.scatter(centers[:,0], centers[:,1], centers[:,2], c=\"red\", s=500, marker=\"o\")"
   ]
  },
  {
   "cell_type": "code",
   "execution_count": null,
   "metadata": {
    "colab": {
     "base_uri": "https://localhost:8080/",
     "height": 282
    },
    "id": "S6zJr8To3Pb_",
    "outputId": "5b4ac7c9-9e32-4f5c-d7da-e94ada66ca49"
   },
   "outputs": [],
   "source": [
    "plt.scatter(X[:, 0], X[:, 1], c=y_kmeans, s=1)\n"
   ]
  },
  {
   "cell_type": "code",
   "execution_count": null,
   "metadata": {
    "colab": {
     "base_uri": "https://localhost:8080/",
     "height": 1000
    },
    "id": "Fc7b838x3RfL",
    "outputId": "6cb27d68-08d0-4708-fa41-5953d7663a79"
   },
   "outputs": [],
   "source": [
    "df[\"property_m2price\"] = df[\"property_price\"] / df[\"property_surface_total\"]\n",
    "X = df.iloc[:,[5,4, df.shape[1]-1]].loc[(df.property_m2price < 5000)].values\n",
    "sse = []\n",
    "list_k = list(range(1, 10))\n",
    "\n",
    "for k in list_k:\n",
    "    km = KMeans(n_clusters=k)\n",
    "    km.fit(X)\n",
    "    sse.append(km.inertia_)\n",
    "    \n",
    "plt.figure(figsize=(6, 6))\n",
    "plt.plot(list_k, sse, '-o')\n",
    "plt.xlabel(r'Cantidad de clusters')\n",
    "plt.ylabel('SSE')\n",
    "plt.show()\n",
    "\n",
    "fig = plt.figure(figsize=(15,15))\n",
    "ax = fig.add_subplot(projection='3d')\n",
    "\n",
    "kmeans = KMeans(n_clusters=3)\n",
    "kmeans.fit(X)\n",
    "y_kmeans = kmeans.predict(X)\n",
    "ax.scatter(X[:,0], X[:,1], X[:,2], c=y_kmeans, s=5)"
   ]
  },
  {
   "cell_type": "code",
   "execution_count": null,
   "metadata": {
    "colab": {
     "base_uri": "https://localhost:8080/",
     "height": 282
    },
    "id": "V74bt5Nx3ToC",
    "outputId": "0f2f4f4f-ac8f-4fd6-b1bd-bd93507aaadf"
   },
   "outputs": [],
   "source": [
    "plt.scatter(X[:, 0], X[:, 1], c=y_kmeans, s=10)\n"
   ]
  },
  {
   "cell_type": "code",
   "execution_count": null,
   "metadata": {
    "colab": {
     "base_uri": "https://localhost:8080/",
     "height": 647
    },
    "id": "koLMwZai3Vg3",
    "outputId": "356712f0-2e89-4b35-c830-dd5570f2e42b"
   },
   "outputs": [],
   "source": [
    "X = df.iloc[:,[15,13]].values\n",
    "\n",
    "sse = []\n",
    "list_k = list(range(1, 10))\n",
    "\n",
    "for k in list_k:\n",
    "    km = KMeans(n_clusters=k)\n",
    "    km.fit(X)\n",
    "    sse.append(km.inertia_)\n",
    "    \n",
    "plt.figure(figsize=(6, 6))\n",
    "plt.plot(list_k, sse, '-o')\n",
    "plt.xlabel(r'Cantidad de clusters')\n",
    "plt.ylabel('SSE')\n",
    "plt.show()\n",
    "\n",
    "kmeans = KMeans(n_clusters=5, max_iter=900)\n",
    "kmeans.fit(X)\n",
    "y_kmeans = kmeans.predict(X)\n",
    "plt.scatter(X[:, 1], X[:, 0], c=y_kmeans, s=0.3)\n",
    "\n",
    "centers = kmeans.cluster_centers_\n",
    "plt.scatter(centers[:, 1], centers[:, 0], c='red', s=50, alpha=0.5,marker='.')\n",
    "plt.show()"
   ]
  },
  {
   "cell_type": "code",
   "execution_count": null,
   "metadata": {
    "id": "d8jbJcIu3Xxb"
   },
   "outputs": [],
   "source": [
    "#X = df.iloc[:,[11,14]].values\n",
    "\n",
    "#sse = []\n",
    "#list_k = list(range(1, 10))\n",
    "\n",
    "#for k in list_k:\n",
    "#    km = KMeans(n_clusters=k)\n",
    "#    km.fit(X)\n",
    "#    sse.append(km.inertia_)\n",
    "    \n",
    "#plt.figure(figsize=(6, 6))\n",
    "#plt.plot(list_k, sse, '-o')\n",
    "#plt.xlabel(r'Cantidad de clusters')\n",
    "#plt.ylabel('SSE')\n",
    "#plt.show()\n",
    "\n",
    "#kmeans = KMeans(n_clusters=5, max_iter=900)\n",
    "#kmeans.fit(X)\n",
    "#y_kmeans = kmeans.predict(X)\n",
    "#plt.scatter(X[:, 1], X[:, 0], c=y_kmeans, s=0.3)\n",
    "\n",
    "#centers = kmeans.cluster_centers_\n",
    "#plt.scatter(centers[:, 1], centers[:, 0], c='red', s=50, alpha=0.5,marker='.')\n",
    "#plt.show()\n",
    "## df.columns.tolist()"
   ]
  },
  {
   "cell_type": "markdown",
   "metadata": {
    "id": "HOlJzNDc4i3L"
   },
   "source": [
    "#  **3. Clasificación**"
   ]
  },
  {
   "cell_type": "markdown",
   "metadata": {
    "id": "0K4ZTj7KrhKN"
   },
   "source": [
    "## **3a. Construcción del target**"
   ]
  },
  {
   "cell_type": "code",
   "execution_count": null,
   "metadata": {
    "id": "CyLyG29fv9OI"
   },
   "outputs": [],
   "source": [
    "df['precioxm2'] = df['property_price']/df['property_surface_total']\n",
    "df['tipo_precio'] = \"bajo\""
   ]
  },
  {
   "cell_type": "code",
   "execution_count": null,
   "metadata": {
    "id": "6sAeyCizwMBw"
   },
   "outputs": [],
   "source": [
    "tercio_df = round(df.shape[0]/3)\n",
    "\n",
    "## Por redondeo, lo que sobra se lo lleva el más alto"
   ]
  },
  {
   "cell_type": "code",
   "execution_count": null,
   "metadata": {
    "colab": {
     "base_uri": "https://localhost:8080/"
    },
    "id": "G_ZjdN-Vy8hP",
    "outputId": "2cf1435f-beb8-4830-f39f-3020855c33e0"
   },
   "outputs": [],
   "source": [
    "df['precioxm2'].sort_values()"
   ]
  },
  {
   "cell_type": "code",
   "execution_count": null,
   "metadata": {
    "id": "JmLY-papzccV"
   },
   "outputs": [],
   "source": [
    "df.iloc[tercio_df:tercio_df*2]['tipo_precio'] = \"medio\"\n",
    "\n",
    "df.iloc[tercio_df*2+1:]['tipo_precio'] = \"alto\""
   ]
  },
  {
   "cell_type": "code",
   "execution_count": null,
   "metadata": {
    "colab": {
     "base_uri": "https://localhost:8080/",
     "height": 307
    },
    "id": "sHwlNN_V1Vs2",
    "outputId": "58bd81b9-10d8-4842-fbe1-b6ee09cb0470"
   },
   "outputs": [],
   "source": [
    "sns.kdeplot(data=df.precioxm2, gridsize=15)"
   ]
  },
  {
   "cell_type": "code",
   "execution_count": null,
   "metadata": {
    "colab": {
     "base_uri": "https://localhost:8080/",
     "height": 307
    },
    "id": "nYLj9lPV19ll",
    "outputId": "1266cb0d-81e0-4a5e-e79a-5fc9642d5ca5"
   },
   "outputs": [],
   "source": [
    "sns.kdeplot(data=df, x=\"precioxm2\", hue=\"property_type\", gridsize=15)"
   ]
  },
  {
   "cell_type": "code",
   "execution_count": null,
   "metadata": {
    "colab": {
     "base_uri": "https://localhost:8080/",
     "height": 284
    },
    "id": "wXd3nAlS6lj3",
    "outputId": "bf44370b-ea91-474f-9412-954fa9f77e4f"
   },
   "outputs": [],
   "source": [
    "df.loc[df['property_type'].isin([\"Casa\"])]['tipo_precio'].hist()"
   ]
  },
  {
   "cell_type": "code",
   "execution_count": null,
   "metadata": {
    "colab": {
     "base_uri": "https://localhost:8080/",
     "height": 282
    },
    "id": "9_yzA74k7xAM",
    "outputId": "3d8f0a4e-4017-4f83-85c9-1c6995894eda"
   },
   "outputs": [],
   "source": [
    "df.loc[df['property_type'].isin([\"Departamento\"])]['tipo_precio'].hist()"
   ]
  },
  {
   "cell_type": "code",
   "execution_count": null,
   "metadata": {
    "colab": {
     "base_uri": "https://localhost:8080/",
     "height": 282
    },
    "id": "X8oDKi0t71Ci",
    "outputId": "fc22e8c1-93ff-4653-a270-7a93422ba422"
   },
   "outputs": [],
   "source": [
    "df.loc[df['property_type'].isin([\"PH\"])]['tipo_precio'].hist()"
   ]
  },
  {
   "cell_type": "markdown",
   "metadata": {
    "id": "vUBh-FFz8Qty"
   },
   "source": [
    "De analizar el gráfico resultante para el tipo de precio de las propiedades de tipo \"PH\" podemos ver que la mayor cantidad de publicaciones (aproximadamente 3000) tienen un precio alto en comparación con las demás. Adicionalmente podemos ver que hay cerca de unas 2500 publicaciones con precios bajo y medio."
   ]
  },
  {
   "cell_type": "markdown",
   "metadata": {
    "id": "QYa0waxZ-tT0"
   },
   "source": [
    "## **3b. Entrenamiento y Predicción**"
   ]
  },
  {
   "cell_type": "markdown",
   "metadata": {
    "id": "DZ0xWIo9-4jO"
   },
   "source": [
    "### Modelo 1: Árbol de Decisión\n",
    "\n",
    "---"
   ]
  },
  {
   "cell_type": "code",
   "execution_count": null,
   "metadata": {
    "id": "Bofl3E9LCHM1"
   },
   "outputs": [],
   "source": [
    "#pip install 'dtreeviz'"
   ]
  },
  {
   "cell_type": "markdown",
   "metadata": {
    "id": "hpWmBlj5_cs4"
   },
   "source": [
    "#### pto a"
   ]
  },
  {
   "cell_type": "markdown",
   "metadata": {
    "id": "YrNJMVKrFuby"
   },
   "source": [
    "Creamos un dataset con los features que vamos a usar para clasificar, un dataset con la variable target, y los conjuntos de train y de test:"
   ]
  },
  {
   "cell_type": "code",
   "execution_count": null,
   "metadata": {
    "colab": {
     "base_uri": "https://localhost:8080/",
     "height": 217
    },
    "id": "QHt48Wi9Cu2v",
    "outputId": "b92c017b-1825-4266-a48b-7668549319ae"
   },
   "outputs": [],
   "source": [
    "df_x=df.drop(['property_price', 'precioxm2'], axis='columns', inplace=False)\n",
    "\n",
    "df_y = df.loc[:, ['property_price', 'precioxm2']].copy()\n",
    "\n",
    "x_train, x_test, y_train, y_test = train_test_split(df_x, df_y, test_size=0.3, random_state=2)"
   ]
  },
  {
   "cell_type": "markdown",
   "metadata": {
    "id": "xVYDi833Fnu5"
   },
   "source": [
    "Creamos un clasificador:"
   ]
  },
  {
   "cell_type": "code",
   "execution_count": null,
   "metadata": {
    "id": "RVe62IFJFlrU"
   },
   "outputs": [],
   "source": [
    "tree_model = tree.DecisionTreeClassifier(max_depth = 10)"
   ]
  },
  {
   "cell_type": "code",
   "execution_count": null,
   "metadata": {
    "id": "ubWaZmt0I4NE"
   },
   "outputs": [],
   "source": [
    "n=10\n",
    "\n",
    "params_grid = {'criterion':['gini','entropy'],\n",
    "               #'min_samples_leaf':list(range(1,10)),\n",
    "               #'min_samples_split': list(range(2,20)),\n",
    "               'ccp_alpha':np.linspace(0,0.05,n), \n",
    "               'max_depth':list(range(1,6))}\n",
    "\n",
    "folds=5\n",
    "\n",
    "#Kfold estratificado\n",
    "kfoldcv = StratifiedKFold(n_splits=folds)\n",
    "\n",
    "#Clasificador\n",
    "base_tree = DecisionTreeClassifier() \n",
    "\n",
    "#Metrica que quiero optimizar F1 Score\n",
    "scorer_fn = make_scorer(sk.metrics.f1_score)\n",
    "\n",
    "#Random Search Cross Validation\n",
    "#randomcv = RandomizedSearchCV(estimator=base_tree,\n",
    "#                              param_distributions = params_grid,\n",
    "#                              scoring=scorer_fn,\n",
    "#                              cv=kfoldcv,\n",
    "#                              n_iter=n) \n",
    "\n",
    "#Busco los hiperparamtros que optimizan F1 Score\n",
    "#randomcv.fit(x_train,y_train);"
   ]
  },
  {
   "cell_type": "markdown",
   "metadata": {
    "id": "YVcdpEzx_giy"
   },
   "source": [
    "#### pto b"
   ]
  },
  {
   "cell_type": "markdown",
   "metadata": {
    "id": "9Xk-qq8u_hTY"
   },
   "source": [
    "#### pto c"
   ]
  },
  {
   "cell_type": "markdown",
   "metadata": {
    "id": "4spIS8lO_iho"
   },
   "source": [
    "#### pto d"
   ]
  },
  {
   "cell_type": "markdown",
   "metadata": {
    "id": "6zkoALij4rrq"
   },
   "source": [
    "#  **4. Regresión**"
   ]
  },
  {
   "cell_type": "markdown",
   "metadata": {
    "id": "UvOkWFJf4u8h"
   },
   "source": [
    "#  **5. Conclusiones**"
   ]
  }
 ],
 "metadata": {
  "colab": {
   "collapsed_sections": [
    "tWu2rN88m30d"
   ],
   "provenance": [],
   "toc_visible": true
  },
  "kernelspec": {
   "display_name": "Python 3 (ipykernel)",
   "language": "python",
   "name": "python3"
  },
  "language_info": {
   "codemirror_mode": {
    "name": "ipython",
    "version": 3
   },
   "file_extension": ".py",
   "mimetype": "text/x-python",
   "name": "python",
   "nbconvert_exporter": "python",
   "pygments_lexer": "ipython3",
   "version": "3.10.8"
  }
 },
 "nbformat": 4,
 "nbformat_minor": 1
}
