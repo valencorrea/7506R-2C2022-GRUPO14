{
  "cells": [
    {
      "cell_type": "markdown",
      "metadata": {
        "id": "view-in-github",
        "colab_type": "text"
      },
      "source": [
        "<a href=\"https://colab.research.google.com/github/valencorrea/7506R-2C2022-GRUPO14/blob/reentrega/7506R_TP2_GRUPO14_ENTREGA.ipynb\" target=\"_parent\"><img src=\"https://colab.research.google.com/assets/colab-badge.svg\" alt=\"Open In Colab\"/></a>"
      ]
    },
    {
      "cell_type": "markdown",
      "source": [
        "______________________________________\n",
        "# <center>**Trabajo Practico Nº2 para la Materia *Organización de Datos***</center>\n",
        "\n",
        "*Integrantes*:\n",
        "- 103963\tCarolina Di Matteo\tcdimatteo@fi.uba.ar\n",
        "- 101231\tPablo Salvador Dimartino\tpdimartino@fi.uba.ar\n",
        "- 100113\tJuan Sebastian Burgos\tjsburgos@fi.uba.ar\n",
        "- 104415\tValentina Laura Correa\tvcorrea@fi.uba.ar\n",
        "\n",
        "*Grupo*: 14\n",
        "\n",
        "*Repositorio*: [github](https://github.com/valencorrea/7506R-2C2022-GRUPO14)\n",
        "\n",
        "*Curso*: Rodriguez\n",
        "\n",
        "*Cuatrimestre*: 2c2022\n",
        "\n",
        "Datos provistos por [properati](https://www.properati.com.ar).\n",
        "______________________________________\n"
      ],
      "metadata": {
        "collapsed": false,
        "id": "ALhQpMoS2Do2"
      }
    },
    {
      "cell_type": "markdown",
      "source": [
        "## Introducción"
      ],
      "metadata": {
        "id": "jrObdaVTw13E"
      }
    },
    {
      "cell_type": "markdown",
      "source": [
        "El presente trabajo práctico es una continuación del ‘TP1: Propiedades en Venta’. \n",
        "\n",
        "En la entrega anterior se propuso aplicar técnicas de análisis exploratorio, preprocesamiento de datos, agrupamiento, clasificación y regresión. Siguiendo esta línea, y con el objetivo de continuar resolviendo problemas reales de ciencia de datos, en esta segunda parte se implementarán nuevos modelos predictivos a partir de los anteriormente mencionados. \n",
        "\n",
        "En esta oportunidad se buscará demostrar los conocimientos adquiridos sobre procesamiento del lenguaje natural, redes neuronales y ensamble de modelos. Para esto se utilizarán tanto datasets provistos por la materia, tomados de la página de la empresa Properati, como los generados por el grupo en el trabajo anterior."
      ],
      "metadata": {
        "id": "8Tot765gvLP2"
      }
    },
    {
      "cell_type": "markdown",
      "source": [
        "## 0. Setup"
      ],
      "metadata": {
        "id": "civIgEQKvQ6A"
      }
    },
    {
      "cell_type": "markdown",
      "source": [
        "### Importación de bibliotecas"
      ],
      "metadata": {
        "id": "vrqonJJjvVay"
      }
    },
    {
      "cell_type": "code",
      "execution_count": 81,
      "outputs": [
        {
          "output_type": "stream",
          "name": "stdout",
          "text": [
            "Looking in indexes: https://pypi.org/simple, https://us-python.pkg.dev/colab-wheels/public/simple/\n",
            "Requirement already satisfied: visualkeras in /usr/local/lib/python3.8/dist-packages (0.0.2)\n",
            "Requirement already satisfied: aggdraw>=1.3.11 in /usr/local/lib/python3.8/dist-packages (from visualkeras) (1.3.15)\n",
            "Requirement already satisfied: numpy>=1.18.1 in /usr/local/lib/python3.8/dist-packages (from visualkeras) (1.21.6)\n",
            "Requirement already satisfied: pillow>=6.2.0 in /usr/local/lib/python3.8/dist-packages (from visualkeras) (7.1.2)\n"
          ]
        }
      ],
      "source": [
        "pip install visualkeras"
      ],
      "metadata": {
        "id": "h6RrCiyq2Do7",
        "colab": {
          "base_uri": "https://localhost:8080/"
        },
        "outputId": "58c00fc1-a600-47df-b325-5b8cc910b881"
      }
    },
    {
      "cell_type": "code",
      "source": [
        "pip install unidecode"
      ],
      "metadata": {
        "id": "vdZzPMc93I-C",
        "colab": {
          "base_uri": "https://localhost:8080/"
        },
        "outputId": "213aaba5-e0c4-4d7a-ea13-ffd6aa993109"
      },
      "execution_count": 82,
      "outputs": [
        {
          "output_type": "stream",
          "name": "stdout",
          "text": [
            "Looking in indexes: https://pypi.org/simple, https://us-python.pkg.dev/colab-wheels/public/simple/\n",
            "Requirement already satisfied: unidecode in /usr/local/lib/python3.8/dist-packages (1.3.6)\n"
          ]
        }
      ]
    },
    {
      "cell_type": "code",
      "source": [
        "pip install types-all"
      ],
      "metadata": {
        "id": "7SrZ6Pvh8b_K",
        "colab": {
          "base_uri": "https://localhost:8080/"
        },
        "outputId": "bda7ff7d-293c-4e9c-f236-2550280f5247"
      },
      "execution_count": 83,
      "outputs": [
        {
          "output_type": "stream",
          "name": "stdout",
          "text": [
            "Looking in indexes: https://pypi.org/simple, https://us-python.pkg.dev/colab-wheels/public/simple/\n",
            "Requirement already satisfied: types-all in /usr/local/lib/python3.8/dist-packages (1.0.0)\n",
            "Requirement already satisfied: types-scribe in /usr/local/lib/python3.8/dist-packages (from types-all) (2.0.0)\n",
            "Requirement already satisfied: types-decorator in /usr/local/lib/python3.8/dist-packages (from types-all) (5.1.8.1)\n",
            "Requirement already satisfied: types-click in /usr/local/lib/python3.8/dist-packages (from types-all) (7.1.8)\n",
            "Requirement already satisfied: types-atomicwrites in /usr/local/lib/python3.8/dist-packages (from types-all) (1.4.5.1)\n",
            "Requirement already satisfied: types-fb303 in /usr/local/lib/python3.8/dist-packages (from types-all) (1.0.0)\n",
            "Requirement already satisfied: types-boto in /usr/local/lib/python3.8/dist-packages (from types-all) (2.49.18.3)\n",
            "Requirement already satisfied: types-colorama in /usr/local/lib/python3.8/dist-packages (from types-all) (0.4.15.4)\n",
            "Requirement already satisfied: types-tabulate in /usr/local/lib/python3.8/dist-packages (from types-all) (0.9.0.0)\n",
            "Requirement already satisfied: types-kazoo in /usr/local/lib/python3.8/dist-packages (from types-all) (0.1.3)\n",
            "Requirement already satisfied: types-protobuf in /usr/local/lib/python3.8/dist-packages (from types-all) (4.21.0.2)\n",
            "Requirement already satisfied: types-backports-abc in /usr/local/lib/python3.8/dist-packages (from types-all) (0.5.2)\n",
            "Requirement already satisfied: types-frozendict in /usr/local/lib/python3.8/dist-packages (from types-all) (2.0.9)\n",
            "Requirement already satisfied: types-croniter in /usr/local/lib/python3.8/dist-packages (from types-all) (1.3.2.1)\n",
            "Requirement already satisfied: types-itsdangerous in /usr/local/lib/python3.8/dist-packages (from types-all) (1.1.6)\n",
            "Requirement already satisfied: types-pyvmomi in /usr/local/lib/python3.8/dist-packages (from types-all) (8.0.0.0)\n",
            "Requirement already satisfied: types-six in /usr/local/lib/python3.8/dist-packages (from types-all) (1.16.21.4)\n",
            "Requirement already satisfied: types-characteristic in /usr/local/lib/python3.8/dist-packages (from types-all) (14.3.7)\n",
            "Requirement already satisfied: types-maxminddb in /usr/local/lib/python3.8/dist-packages (from types-all) (1.5.0)\n",
            "Requirement already satisfied: types-annoy in /usr/local/lib/python3.8/dist-packages (from types-all) (1.17.8.1)\n",
            "Requirement already satisfied: types-pathlib2 in /usr/local/lib/python3.8/dist-packages (from types-all) (2.3.0)\n",
            "Requirement already satisfied: types-polib in /usr/local/lib/python3.8/dist-packages (from types-all) (1.1.12.1)\n",
            "Requirement already satisfied: types-PyYAML in /usr/local/lib/python3.8/dist-packages (from types-all) (6.0.12.2)\n",
            "Requirement already satisfied: types-docutils in /usr/local/lib/python3.8/dist-packages (from types-all) (0.19.1.1)\n",
            "Requirement already satisfied: types-python-gflags in /usr/local/lib/python3.8/dist-packages (from types-all) (3.1.7.1)\n",
            "Requirement already satisfied: types-click-spinner in /usr/local/lib/python3.8/dist-packages (from types-all) (0.1.13.1)\n",
            "Requirement already satisfied: types-xxhash in /usr/local/lib/python3.8/dist-packages (from types-all) (3.0.5.1)\n",
            "Requirement already satisfied: types-JACK-Client in /usr/local/lib/python3.8/dist-packages (from types-all) (0.5.10.3)\n",
            "Requirement already satisfied: types-orjson in /usr/local/lib/python3.8/dist-packages (from types-all) (3.6.2)\n",
            "Requirement already satisfied: types-cachetools in /usr/local/lib/python3.8/dist-packages (from types-all) (5.2.1)\n",
            "Requirement already satisfied: types-ipaddress in /usr/local/lib/python3.8/dist-packages (from types-all) (1.0.8)\n",
            "Requirement already satisfied: types-pysftp in /usr/local/lib/python3.8/dist-packages (from types-all) (0.2.17)\n",
            "Requirement already satisfied: types-enum34 in /usr/local/lib/python3.8/dist-packages (from types-all) (1.1.8)\n",
            "Requirement already satisfied: types-toml in /usr/local/lib/python3.8/dist-packages (from types-all) (0.10.8.1)\n",
            "Requirement already satisfied: types-openssl-python in /usr/local/lib/python3.8/dist-packages (from types-all) (0.1.3)\n",
            "Requirement already satisfied: types-Jinja2 in /usr/local/lib/python3.8/dist-packages (from types-all) (2.11.9)\n",
            "Requirement already satisfied: types-Werkzeug in /usr/local/lib/python3.8/dist-packages (from types-all) (1.0.9)\n",
            "Requirement already satisfied: types-typed-ast in /usr/local/lib/python3.8/dist-packages (from types-all) (1.5.8.3)\n",
            "Requirement already satisfied: types-pytz in /usr/local/lib/python3.8/dist-packages (from types-all) (2022.7.0.0)\n",
            "Requirement already satisfied: types-tzlocal in /usr/local/lib/python3.8/dist-packages (from types-all) (4.2.2.2)\n",
            "Requirement already satisfied: types-certifi in /usr/local/lib/python3.8/dist-packages (from types-all) (2021.10.8.3)\n",
            "Requirement already satisfied: types-singledispatch in /usr/local/lib/python3.8/dist-packages (from types-all) (3.7.5.1)\n",
            "Requirement already satisfied: types-cryptography in /usr/local/lib/python3.8/dist-packages (from types-all) (3.3.23.2)\n",
            "Requirement already satisfied: types-mypy-extensions in /usr/local/lib/python3.8/dist-packages (from types-all) (0.4.24)\n",
            "Requirement already satisfied: types-dateparser in /usr/local/lib/python3.8/dist-packages (from types-all) (1.1.4.4)\n",
            "Requirement already satisfied: types-aiofiles in /usr/local/lib/python3.8/dist-packages (from types-all) (22.1.0.4)\n",
            "Requirement already satisfied: types-contextvars in /usr/local/lib/python3.8/dist-packages (from types-all) (2.4.7)\n",
            "Requirement already satisfied: types-Deprecated in /usr/local/lib/python3.8/dist-packages (from types-all) (1.2.9)\n",
            "Requirement already satisfied: types-Markdown in /usr/local/lib/python3.8/dist-packages (from types-all) (3.4.2.1)\n",
            "Requirement already satisfied: types-Flask in /usr/local/lib/python3.8/dist-packages (from types-all) (1.1.6)\n",
            "Requirement already satisfied: types-pkg-resources in /usr/local/lib/python3.8/dist-packages (from types-all) (0.1.3)\n",
            "Requirement already satisfied: types-first in /usr/local/lib/python3.8/dist-packages (from types-all) (2.0.5)\n",
            "Requirement already satisfied: types-paramiko in /usr/local/lib/python3.8/dist-packages (from types-all) (2.12.0.1)\n",
            "Requirement already satisfied: types-pyaudio in /usr/local/lib/python3.8/dist-packages (from types-all) (0.2.16.4)\n",
            "Requirement already satisfied: types-pyRFC3339 in /usr/local/lib/python3.8/dist-packages (from types-all) (1.1.1.1)\n",
            "Requirement already satisfied: types-requests in /usr/local/lib/python3.8/dist-packages (from types-all) (2.28.11.7)\n",
            "Requirement already satisfied: types-waitress in /usr/local/lib/python3.8/dist-packages (from types-all) (2.1.4.3)\n",
            "Requirement already satisfied: types-ujson in /usr/local/lib/python3.8/dist-packages (from types-all) (5.6.0.0)\n",
            "Requirement already satisfied: types-retry in /usr/local/lib/python3.8/dist-packages (from types-all) (0.9.9)\n",
            "Requirement already satisfied: types-redis in /usr/local/lib/python3.8/dist-packages (from types-all) (4.3.21.6)\n",
            "Requirement already satisfied: types-docopt in /usr/local/lib/python3.8/dist-packages (from types-all) (0.6.11)\n",
            "Requirement already satisfied: types-futures in /usr/local/lib/python3.8/dist-packages (from types-all) (3.3.8)\n",
            "Requirement already satisfied: types-MarkupSafe in /usr/local/lib/python3.8/dist-packages (from types-all) (1.1.10)\n",
            "Requirement already satisfied: types-DateTimeRange in /usr/local/lib/python3.8/dist-packages (from types-all) (1.2.8)\n",
            "Requirement already satisfied: types-chardet in /usr/local/lib/python3.8/dist-packages (from types-all) (5.0.4.1)\n",
            "Requirement already satisfied: types-emoji in /usr/local/lib/python3.8/dist-packages (from types-all) (2.1.0.1)\n",
            "Requirement already satisfied: types-pymssql in /usr/local/lib/python3.8/dist-packages (from types-all) (2.1.0)\n",
            "Requirement already satisfied: types-bleach in /usr/local/lib/python3.8/dist-packages (from types-all) (5.0.3.1)\n",
            "Requirement already satisfied: types-python-dateutil in /usr/local/lib/python3.8/dist-packages (from types-all) (2.8.19.5)\n",
            "Requirement already satisfied: types-Pillow in /usr/local/lib/python3.8/dist-packages (from types-all) (9.3.0.4)\n",
            "Requirement already satisfied: types-PyMySQL in /usr/local/lib/python3.8/dist-packages (from types-all) (1.0.19.1)\n",
            "Requirement already satisfied: types-geoip2 in /usr/local/lib/python3.8/dist-packages (from types-all) (3.0.0)\n",
            "Requirement already satisfied: types-Routes in /usr/local/lib/python3.8/dist-packages (from types-all) (2.5.0)\n",
            "Requirement already satisfied: types-dataclasses in /usr/local/lib/python3.8/dist-packages (from types-all) (0.6.6)\n",
            "Requirement already satisfied: types-freezegun in /usr/local/lib/python3.8/dist-packages (from types-all) (1.1.10)\n",
            "Requirement already satisfied: types-pycurl in /usr/local/lib/python3.8/dist-packages (from types-all) (7.45.2.0)\n",
            "Requirement already satisfied: types-tornado in /usr/local/lib/python3.8/dist-packages (from types-all) (5.1.1)\n",
            "Requirement already satisfied: types-mock in /usr/local/lib/python3.8/dist-packages (from types-all) (4.0.15.2)\n",
            "Requirement already satisfied: types-backports in /usr/local/lib/python3.8/dist-packages (from types-all) (0.1.3)\n",
            "Requirement already satisfied: types-termcolor in /usr/local/lib/python3.8/dist-packages (from types-all) (1.1.6)\n",
            "Requirement already satisfied: types-filelock in /usr/local/lib/python3.8/dist-packages (from types-all) (3.2.7)\n",
            "Requirement already satisfied: types-python-slugify in /usr/local/lib/python3.8/dist-packages (from types-all) (7.0.0.1)\n",
            "Requirement already satisfied: types-pyfarmhash in /usr/local/lib/python3.8/dist-packages (from types-all) (0.3.1)\n",
            "Requirement already satisfied: types-nmap in /usr/local/lib/python3.8/dist-packages (from types-all) (0.1.6)\n",
            "Requirement already satisfied: types-PyJWT in /usr/local/lib/python3.8/dist-packages (from types-all) (1.7.1)\n",
            "Requirement already satisfied: types-simplejson in /usr/local/lib/python3.8/dist-packages (from types-all) (3.18.0.0)\n",
            "Requirement already satisfied: types-urllib3<1.27 in /usr/local/lib/python3.8/dist-packages (from types-requests->types-all) (1.26.25.4)\n"
          ]
        }
      ]
    },
    {
      "cell_type": "markdown",
      "source": [
        "### Funciones auxiliares"
      ],
      "metadata": {
        "id": "Wbnc_RGevbaL"
      }
    },
    {
      "cell_type": "code",
      "execution_count": 84,
      "outputs": [],
      "source": [
        "def metricas_clasificacion(y_test, y_pred):\n",
        "    print(f'Accuracy: {round(accuracy_score(y_test, y_pred),2)}')\n",
        "    print(f'Precision: {round(precision_score(y_test, y_pred, average=\"macro\"),2)}')\n",
        "    print(f'Recall: {round(recall_score(y_test, y_pred, average=\"macro\"),2)}')\n",
        "    print(f'F1 Score: {round(f1_score(y_test, y_pred, average=\"macro\"),2)}')"
      ],
      "metadata": {
        "id": "PsfFEfXmYbIs"
      }
    },
    {
      "cell_type": "code",
      "source": [
        "def prediccion_y_metricas_regresion(regressor, x_test, y_test):\n",
        "  \n",
        "  y_pred = regressor.predict(x_test)\n",
        "\n",
        "  pct = np.sum(y_test.values == y_pred) / len(y_test) * 100\n",
        "\n",
        "  print(f\"Se obtuvo un {round(pct,3)}% de aciertos.\")\n",
        "\n",
        "  mse = metrics.mean_squared_error(\n",
        "        y_true  = y_test,\n",
        "        y_pred  = y_pred,\n",
        "        squared = True\n",
        "       )\n",
        "\n",
        "  print(f\"El error según la métrica 'Mean Square Error' de test es: {mse}\")\n",
        "\n",
        "  rmse = metrics.mean_squared_error(\n",
        "        y_true  = y_test,\n",
        "        y_pred  = y_pred,\n",
        "        squared = False\n",
        "       )\n",
        "\n",
        "  print(f\"El error según la métrica 'Root Mean Square Error' de test es: {rmse}\")\n",
        "\n",
        "  print(f\"El coeficiente de determinación de test es: {regressor.score(x_test, y_test)}\")\n",
        "  \n",
        "  return y_pred"
      ],
      "metadata": {
        "id": "c8p6gNJzfuGw"
      },
      "execution_count": 85,
      "outputs": []
    },
    {
      "cell_type": "code",
      "execution_count": 86,
      "outputs": [
        {
          "output_type": "stream",
          "name": "stdout",
          "text": [
            "Drive already mounted at /content/drive; to attempt to forcibly remount, call drive.mount(\"/content/drive\", force_remount=True).\n"
          ]
        }
      ],
      "source": [
        "#Importación de librerías\n",
        "\n",
        "import numpy as np\n",
        "import matplotlib.pyplot as plt\n",
        "import seaborn as sns\n",
        "import pandas as pd\n",
        "\n",
        "from xgboost import XGBRegressor\n",
        "from xgboost import plot_importance\n",
        "from scipy.stats import zscore\n",
        "from sklearn.preprocessing import StandardScaler\n",
        "from tensorflow import keras\n",
        "from sklearn.metrics import confusion_matrix\n",
        "from sklearn.ensemble import StackingRegressor\n",
        "from sklearn.ensemble import AdaBoostRegressor\n",
        "from sklearn.neighbors import KNeighborsRegressor\n",
        "from sklearn.tree import DecisionTreeClassifier\n",
        "from sklearn.ensemble import RandomForestClassifier\n",
        "from sklearn.neighbors import KNeighborsClassifier\n",
        "from sklearn.ensemble import VotingClassifier\n",
        "from collections import Counter\n",
        "import unidecode\n",
        "import re\n",
        "from joblib import load, dump\n",
        "from sklearn.metrics import make_scorer\n",
        "from sklearn.model_selection import RandomizedSearchCV, StratifiedKFold\n",
        "from keras.metrics import MeanSquaredError\n",
        "from sklearn.metrics import recall_score, accuracy_score, f1_score, precision_score, r2_score\n",
        "from sklearn import metrics\n",
        "from sklearn.model_selection import cross_val_score, RepeatedStratifiedKFold\n",
        "from collections import defaultdict\n",
        "\n",
        "#Configuración de Warnings\n",
        "import warnings\n",
        "warnings.filterwarnings('ignore')\n",
        "warnings.simplefilter(action='ignore', category=FutureWarning)\n",
        "warnings.simplefilter(action='ignore', category=UserWarning)\n",
        "\n",
        "#Ejecución con Drive\n",
        "if 'google.colab' in str(get_ipython()):\n",
        "    IN_COLAB = True\n",
        "else:\n",
        "    IN_COLAB = False\n",
        "\n",
        "if IN_COLAB :\n",
        "    from google.colab import drive\n",
        "    drive.mount('/content/drive')\n",
        "\n",
        "    df_train = pd.read_csv('/content/drive/MyDrive/📒 Organización de Datos (75.06)/TPS/TP2/DATASETS/df_train_tp1.csv')\n",
        "    df_test = pd.read_csv('/content/drive/MyDrive/📒 Organización de Datos (75.06)/TPS/TP2/DATASETS/df_test_tp1.csv')\n",
        "    properati_descrip = pd.read_csv('/content/drive/MyDrive/📒 Organización de Datos (75.06)/TPS/TP1/properati_argentina_2021_decrip.csv')\n",
        "    stop_words = '/content/drive/MyDrive/📒 Organización de Datos (75.06)/TPS/TP2/stopwords.txt'\n",
        "else:\n",
        "    df_train = pd.read_csv('./DATASETS/df_train_tp1.csv')\n",
        "    df_test = pd.read_csv('./DATASETS/df_test_tp1.csv')\n",
        "    properati_descrip = pd.read_csv('properati_argentina_2021_decrip.csv')\n",
        "    stop_words = 'stopwords'"
      ],
      "metadata": {
        "id": "phMCF_yHYbIt",
        "outputId": "6999e811-1587-4695-cfff-9bd23f37134e",
        "colab": {
          "base_uri": "https://localhost:8080/"
        }
      }
    },
    {
      "cell_type": "markdown",
      "source": [
        "### Funciones auxiliares"
      ],
      "metadata": {
        "collapsed": false,
        "id": "NsB6i6y8YbIv"
      }
    },
    {
      "cell_type": "code",
      "execution_count": 87,
      "outputs": [],
      "source": [
        "def metricas_clasificacion(y_test, y_pred):\n",
        "    print(f'Accuracy: {round(accuracy_score(y_test, y_pred),2)}')\n",
        "    print(f'Precision: {round(precision_score(y_test, y_pred, average=\"macro\"),2)}')\n",
        "    print(f'Recall: {round(recall_score(y_test, y_pred, average=\"macro\"),2)}')\n",
        "    print(f'F1 Score: {round(f1_score(y_test, y_pred, average=\"macro\"),2)}')"
      ],
      "metadata": {
        "id": "r4xaQZK_YbIv"
      }
    },
    {
      "cell_type": "code",
      "execution_count": 88,
      "outputs": [],
      "source": [
        "def prediccion_y_metricas_regresion(regressor, x_test, y_test):\n",
        "\n",
        "  y_pred = regressor.predict(x_test)\n",
        "\n",
        "  print(f\"Se obtuvo un Score de {round(regressor.score(x_test, y_test)*100,3)}%\")\n",
        "\n",
        "  mse = metrics.mean_squared_error(\n",
        "        y_true  = y_test,\n",
        "        y_pred  = y_pred,\n",
        "        squared = True\n",
        "       )\n",
        "\n",
        "  print(f\"El error según la métrica 'Mean Square Error' de test es: {mse}\")\n",
        "\n",
        "  rmse = metrics.mean_squared_error(\n",
        "        y_true  = y_test,\n",
        "        y_pred  = y_pred,\n",
        "        squared = False\n",
        "       )\n",
        "\n",
        "  print(f\"El error según la métrica 'Root Mean Square Error' de test es: {rmse}\")\n",
        "\n",
        "  return"
      ],
      "metadata": {
        "id": "bM21a1rUYbIv"
      }
    },
    {
      "cell_type": "code",
      "source": [
        "def format_aspects(line, word):\n",
        "    format = r\"\\W*([\\w]+)\"\n",
        "    n = 2\n",
        "    x = re.search(r'{}\\W*{}{}'.format(format*n, word, format*n), line)\n",
        "    if x is not None:\n",
        "        return x.group()\n",
        "    else:\n",
        "        return \"\""
      ],
      "metadata": {
        "id": "CCKsO-A5w7TQ"
      },
      "execution_count": 89,
      "outputs": []
    },
    {
      "cell_type": "code",
      "source": [
        "def convert_b_m_a(x):\n",
        "    mx = max(x[0], x[1], x[2])\n",
        "    if mx == x[0]:\n",
        "        return 'bajo'\n",
        "    elif mx == x[1]:\n",
        "        return 'medio'\n",
        "    elif mx == x[2]:\n",
        "        return 'alto'"
      ],
      "metadata": {
        "id": "3suAr0ciwY91"
      },
      "execution_count": 90,
      "outputs": []
    },
    {
      "cell_type": "code",
      "source": [
        "def estandarizar(df, columns):\n",
        "  sscaler = StandardScaler()\n",
        "\n",
        "  for col in columns:\n",
        "    df[col] = sscaler.fit_transform(pd.DataFrame(df[col]))"
      ],
      "metadata": {
        "id": "0LF1eyB9l4nt"
      },
      "execution_count": 91,
      "outputs": []
    },
    {
      "cell_type": "code",
      "execution_count": 92,
      "outputs": [],
      "source": [
        "def limpiar_values_de_aspects(df, aspects, values):\n",
        "    i = 0\n",
        "    for aspect in aspects:\n",
        "        for word in values[i]:\n",
        "            df[aspect] = df[aspect].apply(lambda line: word if word in line else line)\n",
        "        df[aspect] = df[aspect].apply(lambda line: line if len(line.split())<2 else '')\n",
        "        i = i+1"
      ],
      "metadata": {
        "id": "AAEy2PV92DpO"
      }
    },
    {
      "cell_type": "code",
      "source": [
        "def evaluate_model(model, x, y, splits, n):\n",
        "    cv = RepeatedStratifiedKFold(n_splits=splits, n_repeats=n, random_state=1)\n",
        "    scores = cross_val_score(model, x, y, scoring='neg_mean_squared_error', cv=cv, verbose=1, n_jobs=3, error_score='raise')\n",
        "    return scores"
      ],
      "metadata": {
        "id": "tDt5-bPcEn_m"
      },
      "execution_count": 93,
      "outputs": []
    },
    {
      "cell_type": "code",
      "source": [
        "import plotly.graph_objects as go\n",
        "\n",
        "def plot_results(model_scores, name):\n",
        "    \n",
        "    model_names = list(model_scores.keys())\n",
        "    results = [model_scores[model] for model in model_names]\n",
        "    fig = go.Figure()\n",
        "    for model, result in zip(model_names, results):\n",
        "        fig.add_trace(go.Box(\n",
        "            y=result,\n",
        "            name=model,\n",
        "            boxpoints='all',\n",
        "            jitter=0.5,\n",
        "            whiskerwidth=0.2,\n",
        "            marker_size=2,\n",
        "            line_width=1)\n",
        "        )\n",
        "    \n",
        "    fig.update_layout(\n",
        "    title='Performance of Different Models Using 5-Fold Cross-Validation',\n",
        "    paper_bgcolor='rgb(243, 243, 243)',\n",
        "    plot_bgcolor='rgb(243, 243, 243)',\n",
        "    xaxis_title='Model',\n",
        "    yaxis_title='Error Cuadrático Medio',\n",
        "    showlegend=False)\n",
        "    fig.show()"
      ],
      "metadata": {
        "id": "NImxsouY4HaJ"
      },
      "execution_count": 94,
      "outputs": []
    },
    {
      "cell_type": "markdown",
      "source": [
        "### Preparación de datasets"
      ],
      "metadata": {
        "id": "yG33nESmvkqN"
      }
    },
    {
      "cell_type": "code",
      "execution_count": 95,
      "outputs": [],
      "source": [
        "df_train_x = df_train.drop([\"property_price\", \"tipo_precio_3\"], axis=\"columns\")\n",
        "df_train_y_regresion = df_train[\"property_price\"]\n",
        "df_train_y_clasificacion = df_train[\"tipo_precio_3\"]\n",
        "\n",
        "df_test_x = df_test.drop([\"property_price\", \"tipo_precio_3\"], axis=\"columns\")\n",
        "df_test_y_regresion = df_test[\"property_price\"]\n",
        "df_test_y_clasificacion = df_test[\"tipo_precio_3\"]"
      ],
      "metadata": {
        "id": "TG2e42GCvuKG"
      }
    },
    {
      "cell_type": "markdown",
      "source": [
        "## 1. Procesamiento del Lenguaje Natural"
      ],
      "metadata": {
        "collapsed": false,
        "id": "DajLENWv2DpA"
      }
    },
    {
      "cell_type": "markdown",
      "source": [
        "### 1. a) Ampliación del dataset\n",
        "___"
      ],
      "metadata": {
        "id": "mmjJ3qskuJyJ"
      }
    },
    {
      "cell_type": "markdown",
      "source": [
        "Hagamos un merge del dataset original y el de descripciones, y quedémonos únicamente con las columnas `id` y `property_description`:"
      ],
      "metadata": {
        "id": "904YC-oLyddb"
      }
    },
    {
      "cell_type": "code",
      "execution_count": null,
      "outputs": [],
      "source": [
        "df_descrip = pd.merge(df_train_x, properati_descrip, on=\"id\")\n",
        "df_descrip = df_descrip[[\"id\", \"property_description\"]]\n",
        "\n",
        "df_test_descrip = pd.merge(df_test_x, properati_descrip, on=\"id\")\n",
        "df_test_descrip = df_test_descrip[[\"id\", \"property_description\"]]"
      ],
      "metadata": {
        "id": "vRbU2jpk2Do_"
      }
    },
    {
      "cell_type": "code",
      "execution_count": null,
      "outputs": [
        {
          "output_type": "execute_result",
          "data": {
            "text/plain": [
              "                             id  \\\n",
              "0      ahcEMvB66wjPz0SYWZQDBw==   \n",
              "1      M0g0l0s6S13X+cZlGkUo8g==   \n",
              "2      V/KMMLRRx/Nn+g3m5lrW7A==   \n",
              "3      odR0QjYc3xtaYfqNJvbOSQ==   \n",
              "4      RqOcPIKYYZDG+CFMq2c1RA==   \n",
              "...                         ...   \n",
              "18600  g2fBcuyxiq3V0GdPATLFDw==   \n",
              "18601  2jfcV70r5M8iASKFbpFEqA==   \n",
              "18602  H4X7bNq04pK7U6fCcbxYNg==   \n",
              "18603  QWBP5Zp0TBUlFrzP9GO9bA==   \n",
              "18604  pKo6hHHPBZJydrHIn5S5Tg==   \n",
              "\n",
              "                                    property_description  \n",
              "0      Corredor Responsable: Juan Carlos Treco - CUCI...  \n",
              "1      Corredor Responsable: Micaela Perez / Lucas Fe...  \n",
              "2      Corredor Responsable: Gustavo Guastello - C.U....  \n",
              "3      PH A ESTRENAR SANCHEZ DE LORIA AL 1500 Y CONST...  \n",
              "4      EXCELENTE SEMIPISO 3 AMB C/BALCON LUMINOSO EN ...  \n",
              "...                                                  ...  \n",
              "18600  Venta DEPARTAMENTO 2 Ambientes Villa Ortuzar. ...  \n",
              "18601  Departamento a estrenar monoambiente, luminoso...  \n",
              "18602  Corredor Responsable: Daniel Acosta - CUCICBA ...  \n",
              "18603  El departamento se ubica en la PB y contiene:<...  \n",
              "18604  Departamento tipo PH en el hermoso edificio hi...  \n",
              "\n",
              "[18605 rows x 2 columns]"
            ],
            "text/html": [
              "\n",
              "  <div id=\"df-aeab757a-297d-49f4-921c-cc126a290974\">\n",
              "    <div class=\"colab-df-container\">\n",
              "      <div>\n",
              "<style scoped>\n",
              "    .dataframe tbody tr th:only-of-type {\n",
              "        vertical-align: middle;\n",
              "    }\n",
              "\n",
              "    .dataframe tbody tr th {\n",
              "        vertical-align: top;\n",
              "    }\n",
              "\n",
              "    .dataframe thead th {\n",
              "        text-align: right;\n",
              "    }\n",
              "</style>\n",
              "<table border=\"1\" class=\"dataframe\">\n",
              "  <thead>\n",
              "    <tr style=\"text-align: right;\">\n",
              "      <th></th>\n",
              "      <th>id</th>\n",
              "      <th>property_description</th>\n",
              "    </tr>\n",
              "  </thead>\n",
              "  <tbody>\n",
              "    <tr>\n",
              "      <th>0</th>\n",
              "      <td>ahcEMvB66wjPz0SYWZQDBw==</td>\n",
              "      <td>Corredor Responsable: Juan Carlos Treco - CUCI...</td>\n",
              "    </tr>\n",
              "    <tr>\n",
              "      <th>1</th>\n",
              "      <td>M0g0l0s6S13X+cZlGkUo8g==</td>\n",
              "      <td>Corredor Responsable: Micaela Perez / Lucas Fe...</td>\n",
              "    </tr>\n",
              "    <tr>\n",
              "      <th>2</th>\n",
              "      <td>V/KMMLRRx/Nn+g3m5lrW7A==</td>\n",
              "      <td>Corredor Responsable: Gustavo Guastello - C.U....</td>\n",
              "    </tr>\n",
              "    <tr>\n",
              "      <th>3</th>\n",
              "      <td>odR0QjYc3xtaYfqNJvbOSQ==</td>\n",
              "      <td>PH A ESTRENAR SANCHEZ DE LORIA AL 1500 Y CONST...</td>\n",
              "    </tr>\n",
              "    <tr>\n",
              "      <th>4</th>\n",
              "      <td>RqOcPIKYYZDG+CFMq2c1RA==</td>\n",
              "      <td>EXCELENTE SEMIPISO 3 AMB C/BALCON LUMINOSO EN ...</td>\n",
              "    </tr>\n",
              "    <tr>\n",
              "      <th>...</th>\n",
              "      <td>...</td>\n",
              "      <td>...</td>\n",
              "    </tr>\n",
              "    <tr>\n",
              "      <th>18600</th>\n",
              "      <td>g2fBcuyxiq3V0GdPATLFDw==</td>\n",
              "      <td>Venta DEPARTAMENTO 2 Ambientes Villa Ortuzar. ...</td>\n",
              "    </tr>\n",
              "    <tr>\n",
              "      <th>18601</th>\n",
              "      <td>2jfcV70r5M8iASKFbpFEqA==</td>\n",
              "      <td>Departamento a estrenar monoambiente, luminoso...</td>\n",
              "    </tr>\n",
              "    <tr>\n",
              "      <th>18602</th>\n",
              "      <td>H4X7bNq04pK7U6fCcbxYNg==</td>\n",
              "      <td>Corredor Responsable: Daniel Acosta - CUCICBA ...</td>\n",
              "    </tr>\n",
              "    <tr>\n",
              "      <th>18603</th>\n",
              "      <td>QWBP5Zp0TBUlFrzP9GO9bA==</td>\n",
              "      <td>El departamento se ubica en la PB y contiene:&lt;...</td>\n",
              "    </tr>\n",
              "    <tr>\n",
              "      <th>18604</th>\n",
              "      <td>pKo6hHHPBZJydrHIn5S5Tg==</td>\n",
              "      <td>Departamento tipo PH en el hermoso edificio hi...</td>\n",
              "    </tr>\n",
              "  </tbody>\n",
              "</table>\n",
              "<p>18605 rows × 2 columns</p>\n",
              "</div>\n",
              "      <button class=\"colab-df-convert\" onclick=\"convertToInteractive('df-aeab757a-297d-49f4-921c-cc126a290974')\"\n",
              "              title=\"Convert this dataframe to an interactive table.\"\n",
              "              style=\"display:none;\">\n",
              "        \n",
              "  <svg xmlns=\"http://www.w3.org/2000/svg\" height=\"24px\"viewBox=\"0 0 24 24\"\n",
              "       width=\"24px\">\n",
              "    <path d=\"M0 0h24v24H0V0z\" fill=\"none\"/>\n",
              "    <path d=\"M18.56 5.44l.94 2.06.94-2.06 2.06-.94-2.06-.94-.94-2.06-.94 2.06-2.06.94zm-11 1L8.5 8.5l.94-2.06 2.06-.94-2.06-.94L8.5 2.5l-.94 2.06-2.06.94zm10 10l.94 2.06.94-2.06 2.06-.94-2.06-.94-.94-2.06-.94 2.06-2.06.94z\"/><path d=\"M17.41 7.96l-1.37-1.37c-.4-.4-.92-.59-1.43-.59-.52 0-1.04.2-1.43.59L10.3 9.45l-7.72 7.72c-.78.78-.78 2.05 0 2.83L4 21.41c.39.39.9.59 1.41.59.51 0 1.02-.2 1.41-.59l7.78-7.78 2.81-2.81c.8-.78.8-2.07 0-2.86zM5.41 20L4 18.59l7.72-7.72 1.47 1.35L5.41 20z\"/>\n",
              "  </svg>\n",
              "      </button>\n",
              "      \n",
              "  <style>\n",
              "    .colab-df-container {\n",
              "      display:flex;\n",
              "      flex-wrap:wrap;\n",
              "      gap: 12px;\n",
              "    }\n",
              "\n",
              "    .colab-df-convert {\n",
              "      background-color: #E8F0FE;\n",
              "      border: none;\n",
              "      border-radius: 50%;\n",
              "      cursor: pointer;\n",
              "      display: none;\n",
              "      fill: #1967D2;\n",
              "      height: 32px;\n",
              "      padding: 0 0 0 0;\n",
              "      width: 32px;\n",
              "    }\n",
              "\n",
              "    .colab-df-convert:hover {\n",
              "      background-color: #E2EBFA;\n",
              "      box-shadow: 0px 1px 2px rgba(60, 64, 67, 0.3), 0px 1px 3px 1px rgba(60, 64, 67, 0.15);\n",
              "      fill: #174EA6;\n",
              "    }\n",
              "\n",
              "    [theme=dark] .colab-df-convert {\n",
              "      background-color: #3B4455;\n",
              "      fill: #D2E3FC;\n",
              "    }\n",
              "\n",
              "    [theme=dark] .colab-df-convert:hover {\n",
              "      background-color: #434B5C;\n",
              "      box-shadow: 0px 1px 3px 1px rgba(0, 0, 0, 0.15);\n",
              "      filter: drop-shadow(0px 1px 2px rgba(0, 0, 0, 0.3));\n",
              "      fill: #FFFFFF;\n",
              "    }\n",
              "  </style>\n",
              "\n",
              "      <script>\n",
              "        const buttonEl =\n",
              "          document.querySelector('#df-aeab757a-297d-49f4-921c-cc126a290974 button.colab-df-convert');\n",
              "        buttonEl.style.display =\n",
              "          google.colab.kernel.accessAllowed ? 'block' : 'none';\n",
              "\n",
              "        async function convertToInteractive(key) {\n",
              "          const element = document.querySelector('#df-aeab757a-297d-49f4-921c-cc126a290974');\n",
              "          const dataTable =\n",
              "            await google.colab.kernel.invokeFunction('convertToInteractive',\n",
              "                                                     [key], {});\n",
              "          if (!dataTable) return;\n",
              "\n",
              "          const docLinkHtml = 'Like what you see? Visit the ' +\n",
              "            '<a target=\"_blank\" href=https://colab.research.google.com/notebooks/data_table.ipynb>data table notebook</a>'\n",
              "            + ' to learn more about interactive tables.';\n",
              "          element.innerHTML = '';\n",
              "          dataTable['output_type'] = 'display_data';\n",
              "          await google.colab.output.renderOutput(dataTable, element);\n",
              "          const docLink = document.createElement('div');\n",
              "          docLink.innerHTML = docLinkHtml;\n",
              "          element.appendChild(docLink);\n",
              "        }\n",
              "      </script>\n",
              "    </div>\n",
              "  </div>\n",
              "  "
            ]
          },
          "metadata": {},
          "execution_count": 72
        }
      ],
      "source": [
        "df_test_descrip"
      ],
      "metadata": {
        "id": "ARR9bo_3YbIy",
        "colab": {
          "base_uri": "https://localhost:8080/",
          "height": 424
        },
        "outputId": "62a57575-e81e-45a6-98f1-05481793cb6b"
      }
    },
    {
      "cell_type": "markdown",
      "source": [
        "Busquemos aspectos de una propiedad utilizando la columna `property_description`."
      ],
      "metadata": {
        "id": "uCEL8YyUxYaa"
      }
    },
    {
      "cell_type": "markdown",
      "source": [
        "Veamos cuántos registros nulos existen:"
      ],
      "metadata": {
        "id": "tAEE-G_QzCXj"
      }
    },
    {
      "cell_type": "code",
      "execution_count": null,
      "outputs": [
        {
          "output_type": "stream",
          "name": "stdout",
          "text": [
            "Hay 0 datos nulos.\n"
          ]
        }
      ],
      "source": [
        "print(f\"Hay {df_descrip['property_description'].isna().sum()} datos nulos.\")"
      ],
      "metadata": {
        "id": "ydHTArN62DpA",
        "colab": {
          "base_uri": "https://localhost:8080/"
        },
        "outputId": "154a2fff-ccdc-40f4-c1e0-009d754d8c34"
      }
    },
    {
      "cell_type": "markdown",
      "source": [
        "Veamos cuáles son las 100 palabras más comunes en el campo de descripción de propiedades:"
      ],
      "metadata": {
        "id": "t4hiRECrz3Wa"
      }
    },
    {
      "cell_type": "code",
      "execution_count": null,
      "outputs": [
        {
          "output_type": "execute_result",
          "data": {
            "text/plain": [
              "[('de', 857976),\n",
              " ('y', 507778),\n",
              " ('con', 401867),\n",
              " ('la', 290195),\n",
              " ('en', 278176),\n",
              " ('a', 243751),\n",
              " ('el', 169952),\n",
              " ('del', 153279),\n",
              " ('que', 140055),\n",
              " ('por', 133635),\n",
              " ('al', 125215),\n",
              " ('-', 113875),\n",
              " ('un', 103716),\n",
              " ('las', 90713),\n",
              " ('los', 88435),\n",
              " ('para', 88190),\n",
              " ('se', 63109),\n",
              " ('DE', 56457),\n",
              " ('son', 56420),\n",
              " ('2', 52790),\n",
              " ('es', 50384),\n",
              " ('una', 48927),\n",
              " ('3', 41258),\n",
              " ('cocina', 38889),\n",
              " ('ambientes', 38848),\n",
              " ('valor', 38420),\n",
              " ('esta', 38292),\n",
              " ('muy', 36893),\n",
              " ('x', 36800),\n",
              " ('Av.', 36630),\n",
              " ('comedor', 35535),\n",
              " ('baño', 35476),\n",
              " ('Y', 34141),\n",
              " ('CON', 33915),\n",
              " ('no', 33912),\n",
              " ('piso', 33348),\n",
              " ('o', 33050),\n",
              " ('/', 32253),\n",
              " ('tu', 32101),\n",
              " ('A', 32063),\n",
              " ('hasta', 30269),\n",
              " ('balcón', 29805),\n",
              " ('inmueble', 28725),\n",
              " ('casa', 28655),\n",
              " ('No', 28635),\n",
              " ('propiedad.', 28070),\n",
              " ('30%', 27684),\n",
              " ('departamento', 27670),\n",
              " ('EN', 27267),\n",
              " ('cuadras', 27069),\n",
              " ('Corredor', 26991),\n",
              " ('préstamo', 26920),\n",
              " ('cuota', 26780),\n",
              " ('medidas', 26422),\n",
              " ('Responsable:', 25970),\n",
              " ('living', 25952),\n",
              " ('4', 25848),\n",
              " ('Lendar', 25571),\n",
              " ('querés!', 25421),\n",
              " ('podés.', 25362),\n",
              " ('Accedé', 25354),\n",
              " ('Simulá', 25349),\n",
              " ('#', 25248),\n",
              " ('ID', 25231),\n",
              " ('MLS', 25227),\n",
              " ('CUCICBA', 24648),\n",
              " ('El', 24541),\n",
              " ('edificio', 24305),\n",
              " ('dos', 24304),\n",
              " ('cuenta', 24241),\n",
              " ('personas', 23936),\n",
              " ('completo', 23797),\n",
              " ('propiedad', 23309),\n",
              " ('salida', 23058),\n",
              " ('parte', 22277),\n",
              " (',', 22138),\n",
              " ('pisos', 21621),\n",
              " ('encuentra', 21617),\n",
              " ('frente', 21612),\n",
              " ('Las', 21073),\n",
              " ('1', 20964),\n",
              " ('amplio', 20885),\n",
              " ('Comprá', 20793),\n",
              " ('\\\\n\\\\n', 20732),\n",
              " ('vista', 19912),\n",
              " ('presente', 19511),\n",
              " ('dormitorio', 19499),\n",
              " ('Ley', 19317),\n",
              " ('gran', 19096),\n",
              " ('La', 18859),\n",
              " ('placard', 18483),\n",
              " ('espacio', 18475),\n",
              " ('metros', 18400),\n",
              " ('m2', 17976),\n",
              " ('Los', 17521),\n",
              " ('<br>', 17369),\n",
              " ('accesible', 17076),\n",
              " ('su', 16596),\n",
              " ('dormitorios', 16161),\n",
              " ('sobre', 16145)]"
            ]
          },
          "metadata": {},
          "execution_count": 74
        }
      ],
      "source": [
        "Counter(\" \".join(df_descrip[\"property_description\"]).split()).most_common(100)"
      ],
      "metadata": {
        "id": "WpAlq6jJ2DpC",
        "colab": {
          "base_uri": "https://localhost:8080/"
        },
        "outputId": "bad26403-c34f-4cae-98b2-9b1e73bb222b"
      }
    },
    {
      "cell_type": "markdown",
      "source": [
        "Podemos observar que podríamos optimizar el texto mediante algunas técnicas de reducción y/o transformación. Entre otras:"
      ],
      "metadata": {
        "id": "iwnQ6tgt0MRV"
      }
    },
    {
      "cell_type": "markdown",
      "source": [
        "Eliminemos la etiqueta `<br>` de html:"
      ],
      "metadata": {
        "id": "qK78Ucya0Ugr"
      }
    },
    {
      "cell_type": "code",
      "source": [
        "df_descrip[\"property_description\"] = df_descrip[\"property_description\"].apply(lambda line: line.replace(\"<br>\", \" \"))\n",
        "df_test_descrip[\"property_description\"] = df_test_descrip[\"property_description\"].apply(lambda line: line.replace(\"<br>\", \" \"))"
      ],
      "metadata": {
        "id": "_o_B51Zk0hGz"
      },
      "execution_count": null,
      "outputs": []
    },
    {
      "cell_type": "markdown",
      "source": [
        "Transformemos todas las palabras a minúsculas, de modo que el contador no realice distinciones:"
      ],
      "metadata": {
        "id": "pyNp4Y520yHS"
      }
    },
    {
      "cell_type": "code",
      "source": [
        "df_descrip[\"property_description\"] = df_descrip[\"property_description\"].apply(lambda line: line.lower())\n",
        "df_test_descrip[\"property_description\"] = df_test_descrip[\"property_description\"].apply(lambda line: line.lower())\n"
      ],
      "metadata": {
        "id": "VWBmcgfI04Ge"
      },
      "execution_count": null,
      "outputs": []
    },
    {
      "cell_type": "markdown",
      "source": [
        "Quitemos los tíldes de las letras:"
      ],
      "metadata": {
        "id": "WpSPMtks1bZz"
      }
    },
    {
      "cell_type": "code",
      "source": [
        "df_descrip[\"property_description\"] = df_descrip[\"property_description\"].apply(lambda line: unidecode.unidecode(line))\n",
        "df_test_descrip[\"property_description\"] = df_test_descrip[\"property_description\"].apply(lambda line: unidecode.unidecode(line))"
      ],
      "metadata": {
        "id": "KWHrTmAG1dGn"
      },
      "execution_count": null,
      "outputs": []
    },
    {
      "cell_type": "markdown",
      "source": [
        "Eliminemos los símbolos:"
      ],
      "metadata": {
        "id": "tpUndCZy1j2X"
      }
    },
    {
      "cell_type": "code",
      "source": [
        "df_descrip[\"property_description\"] = df_descrip[\"property_description\"].apply(lambda line: re.sub(r'[^\\w]', ' ', line))\n",
        "df_test_descrip[\"property_description\"] = df_test_descrip[\"property_description\"].apply(lambda line: re.sub(r'[^\\w]', ' ', line))"
      ],
      "metadata": {
        "id": "sWcF2SIJ1lfG"
      },
      "execution_count": null,
      "outputs": []
    },
    {
      "cell_type": "markdown",
      "source": [
        "Eliminemos los espacios múltiples entre palabras:"
      ],
      "metadata": {
        "id": "bdqDlvqN1rL1"
      }
    },
    {
      "cell_type": "code",
      "execution_count": null,
      "outputs": [],
      "source": [
        "df_descrip[\"property_description\"] = df_descrip[\"property_description\"].apply(lambda line: re.sub(\"\\s\\s+\" , \" \", line))\n",
        "df_test_descrip[\"property_description\"] = df_test_descrip[\"property_description\"].apply(lambda line: re.sub(\"\\s\\s+\" , \" \", line))"
      ],
      "metadata": {
        "id": "uQvajcwC2DpE"
      }
    },
    {
      "cell_type": "markdown",
      "source": [
        "Utilizando el contenido del archivo `stop_words.txt`, eliminemos palabras sin significado del datset y colocamos los cambios en uno nuevo:"
      ],
      "metadata": {
        "id": "BzcWZSJY4GPs"
      }
    },
    {
      "cell_type": "code",
      "execution_count": null,
      "outputs": [],
      "source": [
        "with open(stop_words) as f:\n",
        "    lines = f.read().splitlines()\n",
        "\n",
        "f = lambda x: ' '.join([item for item in x.split() if item not in lines])\n",
        "\n",
        "df_descrip[\"property_description\"] = df_descrip[\"property_description\"].apply(f)\n",
        "df_test_descrip[\"property_description\"] = df_test_descrip[\"property_description\"].apply(f)"
      ],
      "metadata": {
        "id": "FrOeCCBY2DpF"
      }
    },
    {
      "cell_type": "markdown",
      "source": [
        "Luego de estas transformaciones, veamos cuáles son las palabras más utilizadas:"
      ],
      "metadata": {
        "id": "JYXs-85EVQwx"
      }
    },
    {
      "cell_type": "code",
      "execution_count": null,
      "outputs": [],
      "source": [
        "Counter(\" \".join(df_descrip[\"property_description\"]).split()).most_common(100)"
      ],
      "metadata": {
        "id": "FNYcv0DM2DpG"
      }
    },
    {
      "cell_type": "markdown",
      "source": [
        "Seleccionemos los aspectos que nos parecen relevantes, para luego buscar sus posibles valores.\n",
        "\n",
        "Para esto, elegimos: `cocina`, `pisos`, `calefaccion`, `expensas`, `lavadero`, `balcon`, `cochera` y `aire` y limpiamos cualquier tipo de formato restante en el dataset:"
      ],
      "metadata": {
        "collapsed": false,
        "id": "Ai_Odw_x2DpG"
      }
    },
    {
      "cell_type": "code",
      "source": [
        "aspectos = ['cocina', 'pisos', 'calefaccion', 'expensas', 'lavadero', 'balcon', 'cochera', 'aire']"
      ],
      "metadata": {
        "id": "BkHpD1gtB7e_"
      },
      "execution_count": null,
      "outputs": []
    },
    {
      "cell_type": "code",
      "execution_count": null,
      "outputs": [],
      "source": [
        "for word in aspectos:\n",
        "    df_descrip[word] = df_descrip[\"property_description\"].apply(lambda line: format_aspects(line, word))\n",
        "    df_test_descrip[word] = df_test_descrip[\"property_description\"].apply(lambda line: format_aspects(line, word))"
      ],
      "metadata": {
        "id": "AnaswxtR2DpH"
      }
    },
    {
      "cell_type": "markdown",
      "source": [
        "Veamos cuáles son las 15 palabras más comunes para cada uno de los aspectos elegidos:"
      ],
      "metadata": {
        "id": "EDsk7Bjgx116"
      }
    },
    {
      "cell_type": "code",
      "source": [
        "cant_val_aspectos = 15"
      ],
      "metadata": {
        "id": "eYdLqsvGyNcj"
      },
      "execution_count": null,
      "outputs": []
    },
    {
      "cell_type": "markdown",
      "source": [
        "#### Aspecto `cocina`\n",
        "\n",
        "\n"
      ],
      "metadata": {
        "id": "wWJKdB85y1l0"
      }
    },
    {
      "cell_type": "code",
      "execution_count": null,
      "outputs": [],
      "source": [
        "Counter(\" \".join(df_descrip[\"cocina\"]).split()).most_common(cant_val_aspectos)"
      ],
      "metadata": {
        "id": "l-7v9FP82DpH"
      }
    },
    {
      "cell_type": "markdown",
      "source": [
        "Para `cocina`, los valores podrían ser: \n",
        "- integrada\n",
        "- lavadero\n",
        "- completa"
      ],
      "metadata": {
        "collapsed": false,
        "id": "6ACLlV0F2DpI"
      }
    },
    {
      "cell_type": "markdown",
      "source": [
        "#### Aspecto `pisos`"
      ],
      "metadata": {
        "id": "1XQ4TVyUzSqc"
      }
    },
    {
      "cell_type": "code",
      "execution_count": null,
      "outputs": [],
      "source": [
        "Counter(\" \".join(df_descrip[\"pisos\"]).split()).most_common(cant_val_aspectos)"
      ],
      "metadata": {
        "id": "UQQMsrnL2DpI"
      }
    },
    {
      "cell_type": "markdown",
      "source": [
        "Para `pisos`, los valores podrían ser: \n",
        "- porcelanato\n",
        "- parquet\n",
        "- madera"
      ],
      "metadata": {
        "collapsed": false,
        "id": "l39ZahiN2DpJ"
      }
    },
    {
      "cell_type": "markdown",
      "source": [
        "#### Aspecto `calefaccion`"
      ],
      "metadata": {
        "id": "a4pG3YbW1wnt"
      }
    },
    {
      "cell_type": "code",
      "execution_count": null,
      "outputs": [],
      "source": [
        "Counter(\" \".join(df_descrip[\"calefaccion\"]).split()).most_common(cant_val_aspectos)"
      ],
      "metadata": {
        "id": "RPZApHfA2DpJ"
      }
    },
    {
      "cell_type": "markdown",
      "source": [
        "Para `calefaccion`, los valores podrían ser: \n",
        "- radiadores\n",
        "- radiante\n",
        "- central\n",
        "- individual"
      ],
      "metadata": {
        "collapsed": false,
        "id": "Mt-7dfsl2DpK"
      }
    },
    {
      "cell_type": "markdown",
      "source": [
        "#### Aspecto `expensas`"
      ],
      "metadata": {
        "id": "XfzRZc861ysa"
      }
    },
    {
      "cell_type": "code",
      "execution_count": null,
      "outputs": [],
      "source": [
        "Counter(\" \".join(df_descrip[\"expensas\"]).split()).most_common(cant_val_aspectos*2)"
      ],
      "metadata": {
        "id": "iRKPdGhA2DpK"
      }
    },
    {
      "cell_type": "markdown",
      "source": [
        "Para `expensas`, los valores podrían ser: \n",
        "- servicios\n",
        "- impuestos \n",
        "- bajas"
      ],
      "metadata": {
        "collapsed": false,
        "id": "C7EiojY82DpK"
      }
    },
    {
      "cell_type": "markdown",
      "source": [
        "#### Aspecto `lavadero`"
      ],
      "metadata": {
        "id": "ZVVvuLxu11U0"
      }
    },
    {
      "cell_type": "code",
      "execution_count": null,
      "outputs": [],
      "source": [
        "Counter(\" \".join(df_descrip[\"lavadero\"]).split()).most_common(cant_val_aspectos)"
      ],
      "metadata": {
        "id": "sAzBKC5c2DpK"
      }
    },
    {
      "cell_type": "markdown",
      "source": [
        "Para `lavadero`, los valores podrían ser: \n",
        "- independiente\n",
        "- cocina\n",
        "- comedor"
      ],
      "metadata": {
        "collapsed": false,
        "id": "i8zxU-Co2DpL"
      }
    },
    {
      "cell_type": "markdown",
      "source": [
        "#### Aspecto `balcon`"
      ],
      "metadata": {
        "id": "0opxhwgx122i"
      }
    },
    {
      "cell_type": "code",
      "execution_count": null,
      "outputs": [],
      "source": [
        "Counter(\" \".join(df_descrip[\"balcon\"]).split()).most_common(cant_val_aspectos)"
      ],
      "metadata": {
        "id": "geCmhGct2DpL"
      }
    },
    {
      "cell_type": "markdown",
      "source": [
        "Para `balcon`, los valores podrían ser: \n",
        "- frente\n",
        "- amplio \n",
        "- terraza \n",
        "- salida \n",
        "- corrido\n",
        "- luminoso"
      ],
      "metadata": {
        "collapsed": false,
        "id": "GUiM00PQ2DpL"
      }
    },
    {
      "cell_type": "markdown",
      "source": [
        "#### Aspecto `cochera`"
      ],
      "metadata": {
        "id": "W05qxE7f138s"
      }
    },
    {
      "cell_type": "code",
      "execution_count": null,
      "outputs": [],
      "source": [
        "Counter(\" \".join(df_descrip[\"cochera\"]).split()).most_common(cant_val_aspectos*2)"
      ],
      "metadata": {
        "id": "vF7x7sFV2DpL"
      }
    },
    {
      "cell_type": "markdown",
      "source": [
        "Para `cochera`, los valores podrían ser: \n",
        "- fija\n",
        "- cubierta"
      ],
      "metadata": {
        "collapsed": false,
        "id": "_sGYjhjF2DpM"
      }
    },
    {
      "cell_type": "markdown",
      "source": [
        "#### Aspecto `aire`"
      ],
      "metadata": {
        "id": "ehAh9leY2Lfu"
      }
    },
    {
      "cell_type": "code",
      "execution_count": null,
      "outputs": [],
      "source": [
        "Counter(\" \".join(df_descrip[\"aire\"]).split()).most_common(cant_val_aspectos)"
      ],
      "metadata": {
        "id": "eQlqeMRa2DpM"
      }
    },
    {
      "cell_type": "markdown",
      "source": [
        "Para `aire`, posibles valores son: \n",
        "- split \n",
        "- central \n",
        "- acondicionado"
      ],
      "metadata": {
        "collapsed": false,
        "id": "9hWHT90P2DpM"
      }
    },
    {
      "cell_type": "markdown",
      "source": [
        "#### Consolidación de valores"
      ],
      "metadata": {
        "id": "fF4R61si2RJI"
      }
    },
    {
      "cell_type": "markdown",
      "source": [
        "A continuación creamos la variable `values`, que contiene los posibles valores para cada uno de los aspectos elegidos:"
      ],
      "metadata": {
        "collapsed": false,
        "id": "ZTu9pPYV2DpN"
      }
    },
    {
      "cell_type": "code",
      "execution_count": null,
      "outputs": [],
      "source": [
        "values_cocina = ['integrada' , 'lavadero' , 'completa']\n",
        "values_pisos = ['porcelanato' , 'parquet' , 'madera']\n",
        "values_calefaccion = ['radiadores' , 'radiante' , 'central' , 'individual']\n",
        "values_expensas = ['serviocios' , 'impuestos' , 'bajas']\n",
        "values_lavadero = ['independiente' , 'cocina' , 'comedor']\n",
        "values_balcon = ['frente' , 'amplio' , 'terraza' , 'salida' , 'corrido' , 'luminoso']\n",
        "values_cochera = ['fija' , 'cubierta']\n",
        "values_aire = ['split' , 'central' , 'acondicionado']"
      ],
      "metadata": {
        "id": "8woiCcO32DpN"
      }
    },
    {
      "cell_type": "code",
      "source": [
        "values = [values_cocina, values_pisos, values_calefaccion, values_expensas, values_lavadero, values_balcon, values_cochera, values_aire]"
      ],
      "metadata": {
        "id": "CFU_0j0EGUE5"
      },
      "execution_count": null,
      "outputs": []
    },
    {
      "cell_type": "markdown",
      "source": [
        "En primer lugar, creamos un dataset auxiliar que tenga los IDs y las columnas de los aspectos:"
      ],
      "metadata": {
        "collapsed": false,
        "id": "B9JpAzOi2DpN"
      }
    },
    {
      "cell_type": "code",
      "execution_count": null,
      "outputs": [],
      "source": [
        "aux_df = df_descrip.copy()\n",
        "aux_df_test = df_test_descrip.copy()\n",
        "\n",
        "aux_df.drop('property_description', inplace=True, axis=1)\n",
        "aux_df_test.drop('property_description', inplace=True, axis=1)"
      ],
      "metadata": {
        "id": "Z617kPUE2DpN"
      }
    },
    {
      "cell_type": "markdown",
      "source": [
        "Luego creamos una función a la que -pasándole un dataset, los aspectos y el listado de valores posibles- reemplace el contenido de las columnas por los valores correspondientes."
      ],
      "metadata": {
        "collapsed": false,
        "id": "qpHzefm72DpO"
      }
    },
    {
      "cell_type": "markdown",
      "source": [
        "Modificamos las columnas de los aspectos, para que sólo queden los valores correspondientes:"
      ],
      "metadata": {
        "collapsed": false,
        "id": "8A7lmncH2DpO"
      }
    },
    {
      "cell_type": "code",
      "execution_count": null,
      "outputs": [],
      "source": [
        "limpiar_values_de_aspects(aux_df, aspectos, values)\n",
        "limpiar_values_de_aspects(aux_df_test, aspectos, values)\n",
        "aux_df.head(20)"
      ],
      "metadata": {
        "id": "WXhzGxCl2DpO"
      }
    },
    {
      "cell_type": "markdown",
      "source": [
        "Por último hacemos el merge con el dataset original, teniendo en cuenta los IDs:"
      ],
      "metadata": {
        "collapsed": false,
        "id": "Ia2LxOLq2DpP"
      }
    },
    {
      "cell_type": "code",
      "execution_count": null,
      "outputs": [],
      "source": [
        "df = df_train_x.copy()\n",
        "df = pd.merge(df,aux_df, on=\"id\")\n",
        "df.drop(\"id\", inplace=True, axis=\"columns\")\n",
        "\n",
        "df_test = df_test_x.copy()\n",
        "df_test = pd.merge(df_test,aux_df_test, on=\"id\")\n",
        "df_test.drop(\"id\", inplace=True, axis=\"columns\")\n",
        "\n",
        "df.head(20)"
      ],
      "metadata": {
        "id": "I2x-X60t2DpP"
      }
    },
    {
      "cell_type": "markdown",
      "source": [
        "#### Exportación de Datos"
      ],
      "metadata": {
        "id": "rN3FutIEHrf2"
      }
    },
    {
      "cell_type": "markdown",
      "source": [
        "Exportamos los datasets generados:"
      ],
      "metadata": {
        "id": "xd-CoUsZHtL9"
      }
    },
    {
      "cell_type": "code",
      "source": [
        "if IN_COLAB:\n",
        "  path = '/content/drive/MyDrive/📒 Organización de Datos (75.06)/TPS/TP2/DATASETS/1a_df_descrip.csv'\n",
        "else:\n",
        "  path = 'DATASETS/1a_df_descrip.csv'\n",
        "\n",
        "df_descrip.to_csv(path)"
      ],
      "metadata": {
        "id": "qr1jlB8QH16Z"
      },
      "execution_count": null,
      "outputs": []
    },
    {
      "cell_type": "code",
      "source": [
        "if IN_COLAB:\n",
        "  path = '/content/drive/MyDrive/📒 Organización de Datos (75.06)/TPS/TP2/DATASETS/1a_df_ampliado.csv'\n",
        "else:\n",
        "  path = 'DATASETS/1a_df_ampliado.csv'\n",
        "\n",
        "df.to_csv(path)"
      ],
      "metadata": {
        "id": "QTsLoqr-IHOX"
      },
      "execution_count": null,
      "outputs": []
    },
    {
      "cell_type": "markdown",
      "source": [
        "### 1. b) Modelos\n",
        "___"
      ],
      "metadata": {
        "collapsed": false,
        "id": "fI1Fi95S2DpP"
      }
    },
    {
      "cell_type": "markdown",
      "source": [
        "#### Sin optimización de hiperparámetros"
      ],
      "metadata": {
        "id": "ldOrNGnEaE5H"
      }
    },
    {
      "cell_type": "markdown",
      "source": [
        "Entrenemos un modelo de XGBoost con los mismos hiperparámetros utilizados en el TP1."
      ],
      "metadata": {
        "id": "a2X0YkeUUL1X"
      }
    },
    {
      "cell_type": "markdown",
      "source": [
        "Realizamos One Hot Encoding para las nuevas variables cualitativas:"
      ],
      "metadata": {
        "collapsed": false,
        "id": "WqUMr9_r2DpQ"
      }
    },
    {
      "cell_type": "code",
      "execution_count": null,
      "outputs": [],
      "source": [
        "df_dummies = pd.get_dummies(df, columns=['cocina', 'pisos', 'lavadero', 'calefaccion', 'expensas', 'balcon', 'cochera', 'aire'], drop_first=True)\n",
        "df_test_dummies = pd.get_dummies(df_test, columns=['cocina', 'pisos', 'lavadero', 'calefaccion', 'expensas', 'balcon', 'cochera', 'aire'], drop_first=True)\n",
        "df_dummies.head(5)"
      ],
      "metadata": {
        "id": "5e0r2Yj-2DpQ"
      }
    },
    {
      "cell_type": "code",
      "execution_count": null,
      "outputs": [],
      "source": [
        "df_dummies"
      ],
      "metadata": {
        "id": "HMi5IVC_YbI9"
      }
    },
    {
      "cell_type": "markdown",
      "source": [
        "Entrenamos el modelo:"
      ],
      "metadata": {
        "id": "I6cp1CI3ZKLx"
      }
    },
    {
      "cell_type": "code",
      "source": [
        "df_test_dummies"
      ],
      "metadata": {
        "id": "kQ5AadFSfxhE"
      },
      "execution_count": null,
      "outputs": []
    },
    {
      "cell_type": "code",
      "execution_count": null,
      "outputs": [],
      "source": [
        "XGB_Regressor = XGBRegressor(min_child_weight = 5, max_depth = 6, learning_rate = 0.3, gamma = 0.1, colsample_bytree = 0.3)\n",
        "XGB_Regressor.fit(df_dummies, df_train_y_regresion)"
      ],
      "metadata": {
        "id": "xB_KKhnsYbI-"
      }
    },
    {
      "cell_type": "markdown",
      "source": [
        "Hagamos las predicciones y veamos cómo resultaron las métricas del modelo:"
      ],
      "metadata": {
        "collapsed": false,
        "id": "jFxKFFBiYbI-"
      }
    },
    {
      "cell_type": "code",
      "execution_count": null,
      "outputs": [],
      "source": [
        "prediccion_y_metricas_regresion(XGB_Regressor,df_test_dummies, df_test_y_regresion)"
      ],
      "metadata": {
        "id": "LwETgGxdYbI-"
      }
    },
    {
      "cell_type": "markdown",
      "source": [
        "##### Importancia de features"
      ],
      "metadata": {
        "collapsed": false,
        "id": "wz5IDS8dYbI-"
      }
    },
    {
      "cell_type": "markdown",
      "source": [
        "Graficamos los 15 features más importantes para el modelo con los hiperparámetros del TP1"
      ],
      "metadata": {
        "id": "3YNAokQDbO5Z"
      }
    },
    {
      "cell_type": "code",
      "execution_count": null,
      "outputs": [],
      "source": [
        "sorted_idx = XGB_Regressor.feature_importances_.argsort()\n",
        "sorted_idx = sorted_idx[-15:]\n",
        "plt.barh(df_test_dummies.columns[sorted_idx], XGB_Regressor.feature_importances_[sorted_idx])\n",
        "plt.xlabel(\"Xgboost Feature Importance\")"
      ],
      "metadata": {
        "id": "pgT8xjWBYbI-"
      }
    },
    {
      "cell_type": "markdown",
      "source": [
        "Podemos observar que el feature más importante es la ubicación en Puerto Madero, seguido de cantidad de habitaciones y ubicación en Palermo Chico."
      ],
      "metadata": {
        "collapsed": false,
        "id": "6-Xwo_7FYbI_"
      }
    },
    {
      "cell_type": "markdown",
      "source": [
        "#### Con optimización de hiperparámetros"
      ],
      "metadata": {
        "id": "CkJCoGXnaN1y"
      }
    },
    {
      "cell_type": "markdown",
      "source": [
        "Veamos cómo se comporta el score con la optimización de hiperparámetros:"
      ],
      "metadata": {
        "collapsed": false,
        "id": "Su2wKojB2DpR"
      }
    },
    {
      "cell_type": "code",
      "execution_count": null,
      "outputs": [],
      "source": [
        "params_grid = {'learning_rate': [0.20, 0.25, 0.30],\n",
        "               'max_depth': [4, 5, 6, 8, 10],\n",
        "               'min_child_weight': [1, 3, 5, 7, 9],\n",
        "               'gamma': [0.1, 0.2 , 0.3, 0.4, 0.5],\n",
        "               'colsample_bytree' : [0.3, 0.4, 0.5, 0.7, 0.8]}\n",
        "\n",
        "randomCV = RandomizedSearchCV(estimator = XGBRegressor(),\n",
        "                              param_distributions = params_grid,\n",
        "                              scoring = make_scorer(r2_score),\n",
        "                              cv = StratifiedKFold(n_splits = 5),\n",
        "                              n_iter = 5)\n",
        "\n",
        "randomCV.fit(df_dummies, df_train_y_regresion)"
      ],
      "metadata": {
        "id": "7RTpJeq92DpS"
      }
    },
    {
      "cell_type": "code",
      "execution_count": null,
      "outputs": [],
      "source": [
        "randomCV.best_params_"
      ],
      "metadata": {
        "id": "ZByp96loYbI_"
      }
    },
    {
      "cell_type": "code",
      "execution_count": null,
      "outputs": [],
      "source": [
        "prediccion_y_metricas_regresion(randomCV.best_estimator_,df_test_dummies, df_test_y_regresion)"
      ],
      "metadata": {
        "id": "8TW5uQtMYbI_"
      }
    },
    {
      "cell_type": "markdown",
      "source": [
        "Observamos que, si bien las métricas mejoraron, las diferencias al optimizar los parámetros no fueron muy significativas."
      ],
      "metadata": {
        "collapsed": false,
        "id": "6Aka6rGNYbI_"
      }
    },
    {
      "cell_type": "markdown",
      "source": [
        "##### Importancia de features"
      ],
      "metadata": {
        "collapsed": false,
        "id": "ESHIprJSYbI_"
      }
    },
    {
      "cell_type": "markdown",
      "source": [
        "Graficamos los 15 features más importantes para el modelo con los hiperparámetros optimizados"
      ],
      "metadata": {
        "id": "KRuO0EzQbLOB"
      }
    },
    {
      "cell_type": "code",
      "execution_count": null,
      "outputs": [],
      "source": [
        "sorted_idx = randomCV.best_estimator_.feature_importances_.argsort()\n",
        "sorted_idx = sorted_idx[-15:]\n",
        "plt.barh(df_test_dummies.columns[sorted_idx], randomCV.best_estimator_.feature_importances_[sorted_idx])\n",
        "plt.xlabel(\"Xgboost Feature Importance\")"
      ],
      "metadata": {
        "id": "zSncYeRTYbJA"
      }
    },
    {
      "cell_type": "markdown",
      "source": [
        "Podemos ver que la ubicación en Puerto Madero tiene aún más peso que en el modelo anterior y también como algunos de los features con los que expandimos el dataset (calefaccion_radiante y cochera_fija) toman más protagonismo, al igual que la superficie total."
      ],
      "metadata": {
        "collapsed": false,
        "id": "95fngNiDYbJA"
      }
    },
    {
      "cell_type": "markdown",
      "source": [
        "#### Exportación del Modelo"
      ],
      "metadata": {
        "id": "_f0JxWEL8GUY"
      }
    },
    {
      "cell_type": "markdown",
      "source": [
        "Finalmente exportamos el modelo utilizado para predecir, resultante de la optimización de hiperparámetros:"
      ],
      "metadata": {
        "id": "WfUfzEP7bUrz"
      }
    },
    {
      "cell_type": "code",
      "source": [
        "if IN_COLAB:\n",
        "  path = '/content/drive/MyDrive/📒 Organización de Datos (75.06)/TPS/TP2/MODELOS/XGB_Regressor.json'\n",
        "else:\n",
        "  path = './MODELOS/XGB_Regressor.json'\n",
        "\n",
        "randomCV.best_estimator_.save_model(path)"
      ],
      "metadata": {
        "id": "RNVI92fe8WEP"
      },
      "execution_count": null,
      "outputs": []
    },
    {
      "cell_type": "markdown",
      "source": [
        "## 2. Redes Neuronales"
      ],
      "metadata": {
        "collapsed": false,
        "id": "l7vjuvrWbtpc"
      }
    },
    {
      "cell_type": "markdown",
      "source": [
        "### 2. a) Regresión\n",
        "___"
      ],
      "metadata": {
        "id": "2HjJDe4W_iY-"
      }
    },
    {
      "cell_type": "markdown",
      "source": [
        "#### Preparación del dataset"
      ],
      "metadata": {
        "id": "5xI2H0xyYm_B"
      }
    },
    {
      "cell_type": "code",
      "execution_count": 96,
      "outputs": [],
      "source": [
        "x_train_regresion = df_train_x.drop([\"id\"], axis=1).copy()\n",
        "y_train_regresion = df_train_y_regresion.copy()\n",
        "x_test_regresion = df_test_x.drop([\"id\"], axis=1).copy()\n",
        "y_test_regresion = df_test_y_regresion.copy()"
      ],
      "metadata": {
        "id": "O6pCJgOiYbJB"
      }
    },
    {
      "cell_type": "markdown",
      "source": [
        "Normalizamos las entradas con StandardScaler:"
      ],
      "metadata": {
        "collapsed": false,
        "id": "PKPRQVFS_TQT"
      }
    },
    {
      "cell_type": "code",
      "source": [
        "estandarizar(x_train_regresion, ['start_date', 'end_date', 'latitud', 'longitud', 'property_rooms', 'property_surface_total'])\n",
        "estandarizar(x_test_regresion, ['start_date', 'end_date', 'latitud', 'longitud', 'property_rooms', 'property_surface_total'])"
      ],
      "metadata": {
        "id": "s3xTEOkRlufG"
      },
      "execution_count": 97,
      "outputs": []
    },
    {
      "cell_type": "code",
      "execution_count": 98,
      "outputs": [
        {
          "output_type": "execute_result",
          "data": {
            "text/plain": [
              "   start_date  end_date   latitud  longitud  property_rooms  \\\n",
              "0   -0.013962 -0.503294  0.719583  0.842780        3.378343   \n",
              "1   -1.018754 -1.315343 -0.536796  2.035631        0.985222   \n",
              "2   -0.941462  0.196521  0.993212  0.197907        0.985222   \n",
              "3    1.541533  0.757694  0.613858  0.854585        0.187515   \n",
              "4   -0.941462  0.196521  0.993212  0.197907        0.985222   \n",
              "\n",
              "   property_surface_total  place_l4_Agronomía  place_l4_Almagro  \\\n",
              "0                5.038170                   0                 0   \n",
              "1                1.655539                   0                 0   \n",
              "2                2.665736                   0                 0   \n",
              "3                0.522893                   0                 0   \n",
              "4                1.211664                   0                 0   \n",
              "\n",
              "   place_l4_Balvanera  place_l4_Barracas  ...  place_l4_Villa Ortuzar  \\\n",
              "0                   0                  0  ...                       0   \n",
              "1                   0                  0  ...                       0   \n",
              "2                   0                  0  ...                       0   \n",
              "3                   0                  0  ...                       0   \n",
              "4                   0                  0  ...                       0   \n",
              "\n",
              "   place_l4_Villa Pueyrredón  place_l4_Villa Real  place_l4_Villa Riachuelo  \\\n",
              "0                          0                    0                         0   \n",
              "1                          0                    0                         0   \n",
              "2                          0                    0                         0   \n",
              "3                          0                    0                         0   \n",
              "4                          0                    0                         0   \n",
              "\n",
              "   place_l4_Villa Santa Rita  place_l4_Villa Soldati  place_l4_Villa Urquiza  \\\n",
              "0                          0                       0                       0   \n",
              "1                          0                       0                       0   \n",
              "2                          0                       0                       0   \n",
              "3                          0                       0                       0   \n",
              "4                          0                       0                       0   \n",
              "\n",
              "   place_l4_Villa del Parque  property_type_Departamento  property_type_PH  \n",
              "0                          0                           1                 0  \n",
              "1                          0                           1                 0  \n",
              "2                          0                           1                 0  \n",
              "3                          0                           1                 0  \n",
              "4                          0                           1                 0  \n",
              "\n",
              "[5 rows x 69 columns]"
            ],
            "text/html": [
              "\n",
              "  <div id=\"df-6c425c02-db42-4a63-b578-01ca5568cd53\">\n",
              "    <div class=\"colab-df-container\">\n",
              "      <div>\n",
              "<style scoped>\n",
              "    .dataframe tbody tr th:only-of-type {\n",
              "        vertical-align: middle;\n",
              "    }\n",
              "\n",
              "    .dataframe tbody tr th {\n",
              "        vertical-align: top;\n",
              "    }\n",
              "\n",
              "    .dataframe thead th {\n",
              "        text-align: right;\n",
              "    }\n",
              "</style>\n",
              "<table border=\"1\" class=\"dataframe\">\n",
              "  <thead>\n",
              "    <tr style=\"text-align: right;\">\n",
              "      <th></th>\n",
              "      <th>start_date</th>\n",
              "      <th>end_date</th>\n",
              "      <th>latitud</th>\n",
              "      <th>longitud</th>\n",
              "      <th>property_rooms</th>\n",
              "      <th>property_surface_total</th>\n",
              "      <th>place_l4_Agronomía</th>\n",
              "      <th>place_l4_Almagro</th>\n",
              "      <th>place_l4_Balvanera</th>\n",
              "      <th>place_l4_Barracas</th>\n",
              "      <th>...</th>\n",
              "      <th>place_l4_Villa Ortuzar</th>\n",
              "      <th>place_l4_Villa Pueyrredón</th>\n",
              "      <th>place_l4_Villa Real</th>\n",
              "      <th>place_l4_Villa Riachuelo</th>\n",
              "      <th>place_l4_Villa Santa Rita</th>\n",
              "      <th>place_l4_Villa Soldati</th>\n",
              "      <th>place_l4_Villa Urquiza</th>\n",
              "      <th>place_l4_Villa del Parque</th>\n",
              "      <th>property_type_Departamento</th>\n",
              "      <th>property_type_PH</th>\n",
              "    </tr>\n",
              "  </thead>\n",
              "  <tbody>\n",
              "    <tr>\n",
              "      <th>0</th>\n",
              "      <td>-0.013962</td>\n",
              "      <td>-0.503294</td>\n",
              "      <td>0.719583</td>\n",
              "      <td>0.842780</td>\n",
              "      <td>3.378343</td>\n",
              "      <td>5.038170</td>\n",
              "      <td>0</td>\n",
              "      <td>0</td>\n",
              "      <td>0</td>\n",
              "      <td>0</td>\n",
              "      <td>...</td>\n",
              "      <td>0</td>\n",
              "      <td>0</td>\n",
              "      <td>0</td>\n",
              "      <td>0</td>\n",
              "      <td>0</td>\n",
              "      <td>0</td>\n",
              "      <td>0</td>\n",
              "      <td>0</td>\n",
              "      <td>1</td>\n",
              "      <td>0</td>\n",
              "    </tr>\n",
              "    <tr>\n",
              "      <th>1</th>\n",
              "      <td>-1.018754</td>\n",
              "      <td>-1.315343</td>\n",
              "      <td>-0.536796</td>\n",
              "      <td>2.035631</td>\n",
              "      <td>0.985222</td>\n",
              "      <td>1.655539</td>\n",
              "      <td>0</td>\n",
              "      <td>0</td>\n",
              "      <td>0</td>\n",
              "      <td>0</td>\n",
              "      <td>...</td>\n",
              "      <td>0</td>\n",
              "      <td>0</td>\n",
              "      <td>0</td>\n",
              "      <td>0</td>\n",
              "      <td>0</td>\n",
              "      <td>0</td>\n",
              "      <td>0</td>\n",
              "      <td>0</td>\n",
              "      <td>1</td>\n",
              "      <td>0</td>\n",
              "    </tr>\n",
              "    <tr>\n",
              "      <th>2</th>\n",
              "      <td>-0.941462</td>\n",
              "      <td>0.196521</td>\n",
              "      <td>0.993212</td>\n",
              "      <td>0.197907</td>\n",
              "      <td>0.985222</td>\n",
              "      <td>2.665736</td>\n",
              "      <td>0</td>\n",
              "      <td>0</td>\n",
              "      <td>0</td>\n",
              "      <td>0</td>\n",
              "      <td>...</td>\n",
              "      <td>0</td>\n",
              "      <td>0</td>\n",
              "      <td>0</td>\n",
              "      <td>0</td>\n",
              "      <td>0</td>\n",
              "      <td>0</td>\n",
              "      <td>0</td>\n",
              "      <td>0</td>\n",
              "      <td>1</td>\n",
              "      <td>0</td>\n",
              "    </tr>\n",
              "    <tr>\n",
              "      <th>3</th>\n",
              "      <td>1.541533</td>\n",
              "      <td>0.757694</td>\n",
              "      <td>0.613858</td>\n",
              "      <td>0.854585</td>\n",
              "      <td>0.187515</td>\n",
              "      <td>0.522893</td>\n",
              "      <td>0</td>\n",
              "      <td>0</td>\n",
              "      <td>0</td>\n",
              "      <td>0</td>\n",
              "      <td>...</td>\n",
              "      <td>0</td>\n",
              "      <td>0</td>\n",
              "      <td>0</td>\n",
              "      <td>0</td>\n",
              "      <td>0</td>\n",
              "      <td>0</td>\n",
              "      <td>0</td>\n",
              "      <td>0</td>\n",
              "      <td>1</td>\n",
              "      <td>0</td>\n",
              "    </tr>\n",
              "    <tr>\n",
              "      <th>4</th>\n",
              "      <td>-0.941462</td>\n",
              "      <td>0.196521</td>\n",
              "      <td>0.993212</td>\n",
              "      <td>0.197907</td>\n",
              "      <td>0.985222</td>\n",
              "      <td>1.211664</td>\n",
              "      <td>0</td>\n",
              "      <td>0</td>\n",
              "      <td>0</td>\n",
              "      <td>0</td>\n",
              "      <td>...</td>\n",
              "      <td>0</td>\n",
              "      <td>0</td>\n",
              "      <td>0</td>\n",
              "      <td>0</td>\n",
              "      <td>0</td>\n",
              "      <td>0</td>\n",
              "      <td>0</td>\n",
              "      <td>0</td>\n",
              "      <td>1</td>\n",
              "      <td>0</td>\n",
              "    </tr>\n",
              "  </tbody>\n",
              "</table>\n",
              "<p>5 rows × 69 columns</p>\n",
              "</div>\n",
              "      <button class=\"colab-df-convert\" onclick=\"convertToInteractive('df-6c425c02-db42-4a63-b578-01ca5568cd53')\"\n",
              "              title=\"Convert this dataframe to an interactive table.\"\n",
              "              style=\"display:none;\">\n",
              "        \n",
              "  <svg xmlns=\"http://www.w3.org/2000/svg\" height=\"24px\"viewBox=\"0 0 24 24\"\n",
              "       width=\"24px\">\n",
              "    <path d=\"M0 0h24v24H0V0z\" fill=\"none\"/>\n",
              "    <path d=\"M18.56 5.44l.94 2.06.94-2.06 2.06-.94-2.06-.94-.94-2.06-.94 2.06-2.06.94zm-11 1L8.5 8.5l.94-2.06 2.06-.94-2.06-.94L8.5 2.5l-.94 2.06-2.06.94zm10 10l.94 2.06.94-2.06 2.06-.94-2.06-.94-.94-2.06-.94 2.06-2.06.94z\"/><path d=\"M17.41 7.96l-1.37-1.37c-.4-.4-.92-.59-1.43-.59-.52 0-1.04.2-1.43.59L10.3 9.45l-7.72 7.72c-.78.78-.78 2.05 0 2.83L4 21.41c.39.39.9.59 1.41.59.51 0 1.02-.2 1.41-.59l7.78-7.78 2.81-2.81c.8-.78.8-2.07 0-2.86zM5.41 20L4 18.59l7.72-7.72 1.47 1.35L5.41 20z\"/>\n",
              "  </svg>\n",
              "      </button>\n",
              "      \n",
              "  <style>\n",
              "    .colab-df-container {\n",
              "      display:flex;\n",
              "      flex-wrap:wrap;\n",
              "      gap: 12px;\n",
              "    }\n",
              "\n",
              "    .colab-df-convert {\n",
              "      background-color: #E8F0FE;\n",
              "      border: none;\n",
              "      border-radius: 50%;\n",
              "      cursor: pointer;\n",
              "      display: none;\n",
              "      fill: #1967D2;\n",
              "      height: 32px;\n",
              "      padding: 0 0 0 0;\n",
              "      width: 32px;\n",
              "    }\n",
              "\n",
              "    .colab-df-convert:hover {\n",
              "      background-color: #E2EBFA;\n",
              "      box-shadow: 0px 1px 2px rgba(60, 64, 67, 0.3), 0px 1px 3px 1px rgba(60, 64, 67, 0.15);\n",
              "      fill: #174EA6;\n",
              "    }\n",
              "\n",
              "    [theme=dark] .colab-df-convert {\n",
              "      background-color: #3B4455;\n",
              "      fill: #D2E3FC;\n",
              "    }\n",
              "\n",
              "    [theme=dark] .colab-df-convert:hover {\n",
              "      background-color: #434B5C;\n",
              "      box-shadow: 0px 1px 3px 1px rgba(0, 0, 0, 0.15);\n",
              "      filter: drop-shadow(0px 1px 2px rgba(0, 0, 0, 0.3));\n",
              "      fill: #FFFFFF;\n",
              "    }\n",
              "  </style>\n",
              "\n",
              "      <script>\n",
              "        const buttonEl =\n",
              "          document.querySelector('#df-6c425c02-db42-4a63-b578-01ca5568cd53 button.colab-df-convert');\n",
              "        buttonEl.style.display =\n",
              "          google.colab.kernel.accessAllowed ? 'block' : 'none';\n",
              "\n",
              "        async function convertToInteractive(key) {\n",
              "          const element = document.querySelector('#df-6c425c02-db42-4a63-b578-01ca5568cd53');\n",
              "          const dataTable =\n",
              "            await google.colab.kernel.invokeFunction('convertToInteractive',\n",
              "                                                     [key], {});\n",
              "          if (!dataTable) return;\n",
              "\n",
              "          const docLinkHtml = 'Like what you see? Visit the ' +\n",
              "            '<a target=\"_blank\" href=https://colab.research.google.com/notebooks/data_table.ipynb>data table notebook</a>'\n",
              "            + ' to learn more about interactive tables.';\n",
              "          element.innerHTML = '';\n",
              "          dataTable['output_type'] = 'display_data';\n",
              "          await google.colab.output.renderOutput(dataTable, element);\n",
              "          const docLink = document.createElement('div');\n",
              "          docLink.innerHTML = docLinkHtml;\n",
              "          element.appendChild(docLink);\n",
              "        }\n",
              "      </script>\n",
              "    </div>\n",
              "  </div>\n",
              "  "
            ]
          },
          "metadata": {},
          "execution_count": 98
        }
      ],
      "source": [
        "x_train_regresion.head(5)"
      ],
      "metadata": {
        "id": "kypRw7jF_TQT",
        "colab": {
          "base_uri": "https://localhost:8080/",
          "height": 317
        },
        "outputId": "1762c255-1ff6-47fe-c155-1df8b6ffb708"
      }
    },
    {
      "cell_type": "markdown",
      "source": [
        "#### Búsqueda del mejor modelo"
      ],
      "metadata": {
        "id": "NjqmQr4pYrEE"
      }
    },
    {
      "cell_type": "markdown",
      "source": [
        "Creo una función que me permite generar un modelo a partir de sus hiperparámetros. Esta función tiene como parámetros la cantidad de nodos de la primera y anteúltima capa, la cantidad de capas ocultas, la función de activación y el optimizador. Todos los modelos que genera a excepción de los casos sin capas ocultas) tienen forma de 'pirámide'."
      ],
      "metadata": {
        "collapsed": false,
        "id": "YcLCeAlpYbJB"
      }
    },
    {
      "cell_type": "code",
      "execution_count": null,
      "outputs": [],
      "source": [
        "import math\n",
        "from keras.wrappers.scikit_learn import KerasClassifier, KerasRegressor\n",
        "from keras import Sequential\n",
        "from keras.layers import Dense\n",
        "\n",
        "cantidad_de_columnas = x_train_regresion.shape[1]\n",
        "\n",
        "def crear_modelo(hidden_layers, first_layer_nodes, last_layer_nodes, activation_func, optimizer):\n",
        "\n",
        "    sequential = Sequential()\n",
        "    sequential.add(keras.layers.Dense(cantidad_de_columnas, input_shape=(cantidad_de_columnas,), activation=activation_func))\n",
        "\n",
        "    if hidden_layers is 0 or hidden_layers is 1:\n",
        "        decremento = 0\n",
        "    else:\n",
        "        decremento = math.ceil((first_layer_nodes - last_layer_nodes) / (hidden_layers - 1))\n",
        "\n",
        "    for i in range (0, hidden_layers):\n",
        "        nodos = first_layer_nodes - decremento * i\n",
        "        sequential.add(Dense(nodos, activation=activation_func))\n",
        "\n",
        "    sequential.add(Dense(1, activation=activation_func))\n",
        "\n",
        "    sequential.compile(\n",
        "        optimizer=optimizer,\n",
        "        loss='mse',\n",
        "        metrics=['mse', 'mean_absolute_percentage_error']\n",
        "    )\n",
        "\n",
        "    return sequential\n",
        "\n",
        "\n",
        "modelo =  KerasRegressor(build_fn=crear_modelo, verbose = False)"
      ],
      "metadata": {
        "id": "1PmE7SUBYbJC"
      }
    },
    {
      "cell_type": "markdown",
      "source": [
        "Luego busco el mejor modelo a partir de una grilla de parámetros arbitrarios con el método de 'GridSearchCV'. El criterio de mejor modelo es el que tenga menor error cuadrado, o lo que es equivalente, mayor error cuadrado negado. Nos limitamos en la cantidad de folds en el CV por el consumo temporal."
      ],
      "metadata": {
        "collapsed": false,
        "id": "GZKgIanzYbJC"
      }
    },
    {
      "cell_type": "code",
      "execution_count": null,
      "outputs": [],
      "source": [
        "from sklearn.model_selection import GridSearchCV\n",
        "\n",
        "param_grid = dict(\n",
        "    hidden_layers=[1, 2],\n",
        "    first_layer_nodes = [math.ceil(cantidad_de_columnas * 0.7), math.ceil(cantidad_de_columnas * 0.5)],\n",
        "    last_layer_nodes = [5, cantidad_de_columnas * 0.5],\n",
        "    activation_func = ['sigmoid', 'relu', 'tanh'],\n",
        "    batch_size = [100],\n",
        "    epochs = [60],\n",
        "    optimizer=['RMSprop', 'adam']\n",
        ")\n",
        "\n",
        "grid = GridSearchCV(\n",
        "    estimator = modelo,\n",
        "    param_grid = param_grid,\n",
        "    n_jobs=-1, cv=3,\n",
        "    error_score='raise',\n",
        "    scoring='neg_mean_squared_error'\n",
        ")"
      ],
      "metadata": {
        "id": "FAskXCRgYbJC"
      }
    },
    {
      "cell_type": "markdown",
      "source": [
        "Entrenamos todos los modelos"
      ],
      "metadata": {
        "collapsed": false,
        "id": "hp3x0Os-YbJC"
      }
    },
    {
      "cell_type": "code",
      "execution_count": null,
      "outputs": [],
      "source": [
        "grid_result = grid.fit(x_train_regresion, y_train_regresion)"
      ],
      "metadata": {
        "id": "Dw36t_Y1YbJC"
      }
    },
    {
      "cell_type": "markdown",
      "source": [
        "Los parámetros y métricas del mejor modelo fueron:"
      ],
      "metadata": {
        "collapsed": false,
        "id": "jZYImYgIYbJC"
      }
    },
    {
      "cell_type": "code",
      "execution_count": null,
      "outputs": [],
      "source": [
        "print(\"El error absoluto porcentual promedio del mejor modelo fue de: \", grid_result.best_estimator_.model.metrics[2].result().numpy())\n",
        "print(\"El error absoluto cuadrado promedio del mejor modelo fue de: \", grid_result.best_estimator_.model.metrics[1].result().numpy())\n",
        "print(\"Los parámetros óptimizados fueron: \", grid.best_params_)"
      ],
      "metadata": {
        "id": "ZxiiJ0yiYbJD"
      }
    },
    {
      "cell_type": "code",
      "execution_count": null,
      "outputs": [],
      "source": [
        "# print(\"Cross validation best model score: \", grid.best_score_) # Da un resultado negativo porque mientras mayor el valor absoluto, peor el modelo.\n",
        "# print(\"Cross validation best model parameters: \", grid.best_params_)"
      ],
      "metadata": {
        "id": "2m18UAQcYbJD"
      }
    },
    {
      "cell_type": "markdown",
      "source": [
        "#### Predicción"
      ],
      "metadata": {
        "collapsed": false,
        "id": "ClJAuKyjYbJD"
      }
    },
    {
      "cell_type": "code",
      "execution_count": null,
      "outputs": [],
      "source": [
        "grid_predict = grid.best_estimator_.model.evaluate(x_test_regresion, y_test_regresion)"
      ],
      "metadata": {
        "id": "IfWBse1IYbJD"
      }
    },
    {
      "cell_type": "markdown",
      "source": [
        "#### Métricas"
      ],
      "metadata": {
        "collapsed": false,
        "id": "x0yLsjXHYbJD"
      }
    },
    {
      "cell_type": "code",
      "execution_count": null,
      "outputs": [],
      "source": [
        "print(\"El error absoluto porcentual promedio fue de: \", grid_predict[2])\n",
        "print(\"El error absoluto cuadrado promedio fue de: \", grid_predict[1])"
      ],
      "metadata": {
        "id": "GPBjxYIsYbJD"
      }
    },
    {
      "cell_type": "markdown",
      "source": [
        "Veamos cómo se comporta la función de pérdida del mejor modelo según la cantidad de épocas utilizadas:"
      ],
      "metadata": {
        "id": "vmBg6ev_ZO-e"
      }
    },
    {
      "cell_type": "code",
      "execution_count": null,
      "outputs": [],
      "source": [
        "epochs = range(60)\n",
        "historia = grid_result.best_estimator_.model.history.history\n",
        "plt.plot(epochs, historia['mean_absolute_percentage_error'], color='orange', label='MSE')\n",
        "plt.xlabel(\"epochs\")\n",
        "plt.ylabel(\"MSE\")\n",
        "plt.title('Error cuadrático medio por cantidad de épocas')\n",
        "plt.legend()"
      ],
      "metadata": {
        "id": "BzNqiJex_TQU"
      }
    },
    {
      "cell_type": "markdown",
      "source": [
        "#### Exportación de Datos"
      ],
      "metadata": {
        "id": "BeRZVagKeKzO"
      }
    },
    {
      "cell_type": "markdown",
      "source": [
        "Finalmente, exportamos el modelo utilizado:"
      ],
      "metadata": {
        "id": "lO3v9OUzeKzP"
      }
    },
    {
      "cell_type": "code",
      "source": [
        "if IN_COLAB:\n",
        "  path = '/content/drive/MyDrive/📔 Organización de Datos (75.06)/TPS/TP2/MODELOS/Redes_Regressor.joblib'\n",
        "else:\n",
        "  path = './MODELOS/Redes_Regressor.joblib'\n",
        "\n",
        "dump(modelo, path)"
      ],
      "metadata": {
        "id": "tSuqGenveKzP"
      },
      "execution_count": null,
      "outputs": []
    },
    {
      "cell_type": "markdown",
      "source": [
        "### 2. b) Clasificación\n",
        "___\n"
      ],
      "metadata": {
        "collapsed": false,
        "id": "dXdWW-m9_TQV"
      }
    },
    {
      "cell_type": "markdown",
      "source": [
        "#### Preparación del dataset"
      ],
      "metadata": {
        "id": "b176QcPLZj9N"
      }
    },
    {
      "cell_type": "code",
      "execution_count": 99,
      "outputs": [],
      "source": [
        "x_train_clasificacion = df_train_x.drop([\"id\"], axis=1).copy()\n",
        "y_train_clasificacion = df_train_y_clasificacion.copy()\n",
        "x_test_clasificacion = df_test_x.drop([\"id\"], axis=1).copy()\n",
        "y_test_clasificacion = df_test_y_clasificacion.copy()"
      ],
      "metadata": {
        "id": "Xogm6YaiYbJE"
      }
    },
    {
      "cell_type": "code",
      "execution_count": 100,
      "outputs": [
        {
          "output_type": "execute_result",
          "data": {
            "text/plain": [
              "       start_date  end_date    latitud   longitud  property_rooms  \\\n",
              "0          737971    737991 -34.576973 -58.406591             7.0   \n",
              "1          737867    737868 -34.610046 -58.361382             4.0   \n",
              "2          737875    738097 -34.569770 -58.431032             4.0   \n",
              "3          738132    738182 -34.579756 -58.406144             3.0   \n",
              "4          737875    738097 -34.569770 -58.431032             4.0   \n",
              "...           ...       ...        ...        ...             ...   \n",
              "74246      737802    737946 -34.572157 -58.494807             3.0   \n",
              "74247      737797    737946 -34.583718 -58.484141             4.0   \n",
              "74248      737802    737946 -34.572512 -58.478717             5.0   \n",
              "74249      737802    737946 -34.572512 -58.478717             5.0   \n",
              "74250      737802    737946 -34.572512 -58.478717             5.0   \n",
              "\n",
              "       property_surface_total  place_l4_Agronomía  place_l4_Almagro  \\\n",
              "0                       415.0                   0                 0   \n",
              "1                       194.0                   0                 0   \n",
              "2                       260.0                   0                 0   \n",
              "3                       120.0                   0                 0   \n",
              "4                       165.0                   0                 0   \n",
              "...                       ...                 ...               ...   \n",
              "74246                     1.0                   0                 0   \n",
              "74247                     1.0                   0                 0   \n",
              "74248                     1.0                   0                 0   \n",
              "74249                     1.0                   0                 0   \n",
              "74250                     1.0                   0                 0   \n",
              "\n",
              "       place_l4_Balvanera  place_l4_Barracas  ...  place_l4_Villa Ortuzar  \\\n",
              "0                       0                  0  ...                       0   \n",
              "1                       0                  0  ...                       0   \n",
              "2                       0                  0  ...                       0   \n",
              "3                       0                  0  ...                       0   \n",
              "4                       0                  0  ...                       0   \n",
              "...                   ...                ...  ...                     ...   \n",
              "74246                   0                  0  ...                       0   \n",
              "74247                   0                  0  ...                       0   \n",
              "74248                   0                  0  ...                       0   \n",
              "74249                   0                  0  ...                       0   \n",
              "74250                   0                  0  ...                       0   \n",
              "\n",
              "       place_l4_Villa Pueyrredón  place_l4_Villa Real  \\\n",
              "0                              0                    0   \n",
              "1                              0                    0   \n",
              "2                              0                    0   \n",
              "3                              0                    0   \n",
              "4                              0                    0   \n",
              "...                          ...                  ...   \n",
              "74246                          0                    0   \n",
              "74247                          0                    0   \n",
              "74248                          0                    0   \n",
              "74249                          0                    0   \n",
              "74250                          0                    0   \n",
              "\n",
              "       place_l4_Villa Riachuelo  place_l4_Villa Santa Rita  \\\n",
              "0                             0                          0   \n",
              "1                             0                          0   \n",
              "2                             0                          0   \n",
              "3                             0                          0   \n",
              "4                             0                          0   \n",
              "...                         ...                        ...   \n",
              "74246                         0                          0   \n",
              "74247                         0                          0   \n",
              "74248                         0                          0   \n",
              "74249                         0                          0   \n",
              "74250                         0                          0   \n",
              "\n",
              "       place_l4_Villa Soldati  place_l4_Villa Urquiza  \\\n",
              "0                           0                       0   \n",
              "1                           0                       0   \n",
              "2                           0                       0   \n",
              "3                           0                       0   \n",
              "4                           0                       0   \n",
              "...                       ...                     ...   \n",
              "74246                       0                       1   \n",
              "74247                       0                       1   \n",
              "74248                       0                       1   \n",
              "74249                       0                       1   \n",
              "74250                       0                       1   \n",
              "\n",
              "       place_l4_Villa del Parque  property_type_Departamento  property_type_PH  \n",
              "0                              0                           1                 0  \n",
              "1                              0                           1                 0  \n",
              "2                              0                           1                 0  \n",
              "3                              0                           1                 0  \n",
              "4                              0                           1                 0  \n",
              "...                          ...                         ...               ...  \n",
              "74246                          0                           1                 0  \n",
              "74247                          0                           0                 0  \n",
              "74248                          0                           1                 0  \n",
              "74249                          0                           1                 0  \n",
              "74250                          0                           1                 0  \n",
              "\n",
              "[74251 rows x 69 columns]"
            ],
            "text/html": [
              "\n",
              "  <div id=\"df-acc883ff-cf92-414c-a4b7-b0a6bc1812e5\">\n",
              "    <div class=\"colab-df-container\">\n",
              "      <div>\n",
              "<style scoped>\n",
              "    .dataframe tbody tr th:only-of-type {\n",
              "        vertical-align: middle;\n",
              "    }\n",
              "\n",
              "    .dataframe tbody tr th {\n",
              "        vertical-align: top;\n",
              "    }\n",
              "\n",
              "    .dataframe thead th {\n",
              "        text-align: right;\n",
              "    }\n",
              "</style>\n",
              "<table border=\"1\" class=\"dataframe\">\n",
              "  <thead>\n",
              "    <tr style=\"text-align: right;\">\n",
              "      <th></th>\n",
              "      <th>start_date</th>\n",
              "      <th>end_date</th>\n",
              "      <th>latitud</th>\n",
              "      <th>longitud</th>\n",
              "      <th>property_rooms</th>\n",
              "      <th>property_surface_total</th>\n",
              "      <th>place_l4_Agronomía</th>\n",
              "      <th>place_l4_Almagro</th>\n",
              "      <th>place_l4_Balvanera</th>\n",
              "      <th>place_l4_Barracas</th>\n",
              "      <th>...</th>\n",
              "      <th>place_l4_Villa Ortuzar</th>\n",
              "      <th>place_l4_Villa Pueyrredón</th>\n",
              "      <th>place_l4_Villa Real</th>\n",
              "      <th>place_l4_Villa Riachuelo</th>\n",
              "      <th>place_l4_Villa Santa Rita</th>\n",
              "      <th>place_l4_Villa Soldati</th>\n",
              "      <th>place_l4_Villa Urquiza</th>\n",
              "      <th>place_l4_Villa del Parque</th>\n",
              "      <th>property_type_Departamento</th>\n",
              "      <th>property_type_PH</th>\n",
              "    </tr>\n",
              "  </thead>\n",
              "  <tbody>\n",
              "    <tr>\n",
              "      <th>0</th>\n",
              "      <td>737971</td>\n",
              "      <td>737991</td>\n",
              "      <td>-34.576973</td>\n",
              "      <td>-58.406591</td>\n",
              "      <td>7.0</td>\n",
              "      <td>415.0</td>\n",
              "      <td>0</td>\n",
              "      <td>0</td>\n",
              "      <td>0</td>\n",
              "      <td>0</td>\n",
              "      <td>...</td>\n",
              "      <td>0</td>\n",
              "      <td>0</td>\n",
              "      <td>0</td>\n",
              "      <td>0</td>\n",
              "      <td>0</td>\n",
              "      <td>0</td>\n",
              "      <td>0</td>\n",
              "      <td>0</td>\n",
              "      <td>1</td>\n",
              "      <td>0</td>\n",
              "    </tr>\n",
              "    <tr>\n",
              "      <th>1</th>\n",
              "      <td>737867</td>\n",
              "      <td>737868</td>\n",
              "      <td>-34.610046</td>\n",
              "      <td>-58.361382</td>\n",
              "      <td>4.0</td>\n",
              "      <td>194.0</td>\n",
              "      <td>0</td>\n",
              "      <td>0</td>\n",
              "      <td>0</td>\n",
              "      <td>0</td>\n",
              "      <td>...</td>\n",
              "      <td>0</td>\n",
              "      <td>0</td>\n",
              "      <td>0</td>\n",
              "      <td>0</td>\n",
              "      <td>0</td>\n",
              "      <td>0</td>\n",
              "      <td>0</td>\n",
              "      <td>0</td>\n",
              "      <td>1</td>\n",
              "      <td>0</td>\n",
              "    </tr>\n",
              "    <tr>\n",
              "      <th>2</th>\n",
              "      <td>737875</td>\n",
              "      <td>738097</td>\n",
              "      <td>-34.569770</td>\n",
              "      <td>-58.431032</td>\n",
              "      <td>4.0</td>\n",
              "      <td>260.0</td>\n",
              "      <td>0</td>\n",
              "      <td>0</td>\n",
              "      <td>0</td>\n",
              "      <td>0</td>\n",
              "      <td>...</td>\n",
              "      <td>0</td>\n",
              "      <td>0</td>\n",
              "      <td>0</td>\n",
              "      <td>0</td>\n",
              "      <td>0</td>\n",
              "      <td>0</td>\n",
              "      <td>0</td>\n",
              "      <td>0</td>\n",
              "      <td>1</td>\n",
              "      <td>0</td>\n",
              "    </tr>\n",
              "    <tr>\n",
              "      <th>3</th>\n",
              "      <td>738132</td>\n",
              "      <td>738182</td>\n",
              "      <td>-34.579756</td>\n",
              "      <td>-58.406144</td>\n",
              "      <td>3.0</td>\n",
              "      <td>120.0</td>\n",
              "      <td>0</td>\n",
              "      <td>0</td>\n",
              "      <td>0</td>\n",
              "      <td>0</td>\n",
              "      <td>...</td>\n",
              "      <td>0</td>\n",
              "      <td>0</td>\n",
              "      <td>0</td>\n",
              "      <td>0</td>\n",
              "      <td>0</td>\n",
              "      <td>0</td>\n",
              "      <td>0</td>\n",
              "      <td>0</td>\n",
              "      <td>1</td>\n",
              "      <td>0</td>\n",
              "    </tr>\n",
              "    <tr>\n",
              "      <th>4</th>\n",
              "      <td>737875</td>\n",
              "      <td>738097</td>\n",
              "      <td>-34.569770</td>\n",
              "      <td>-58.431032</td>\n",
              "      <td>4.0</td>\n",
              "      <td>165.0</td>\n",
              "      <td>0</td>\n",
              "      <td>0</td>\n",
              "      <td>0</td>\n",
              "      <td>0</td>\n",
              "      <td>...</td>\n",
              "      <td>0</td>\n",
              "      <td>0</td>\n",
              "      <td>0</td>\n",
              "      <td>0</td>\n",
              "      <td>0</td>\n",
              "      <td>0</td>\n",
              "      <td>0</td>\n",
              "      <td>0</td>\n",
              "      <td>1</td>\n",
              "      <td>0</td>\n",
              "    </tr>\n",
              "    <tr>\n",
              "      <th>...</th>\n",
              "      <td>...</td>\n",
              "      <td>...</td>\n",
              "      <td>...</td>\n",
              "      <td>...</td>\n",
              "      <td>...</td>\n",
              "      <td>...</td>\n",
              "      <td>...</td>\n",
              "      <td>...</td>\n",
              "      <td>...</td>\n",
              "      <td>...</td>\n",
              "      <td>...</td>\n",
              "      <td>...</td>\n",
              "      <td>...</td>\n",
              "      <td>...</td>\n",
              "      <td>...</td>\n",
              "      <td>...</td>\n",
              "      <td>...</td>\n",
              "      <td>...</td>\n",
              "      <td>...</td>\n",
              "      <td>...</td>\n",
              "      <td>...</td>\n",
              "    </tr>\n",
              "    <tr>\n",
              "      <th>74246</th>\n",
              "      <td>737802</td>\n",
              "      <td>737946</td>\n",
              "      <td>-34.572157</td>\n",
              "      <td>-58.494807</td>\n",
              "      <td>3.0</td>\n",
              "      <td>1.0</td>\n",
              "      <td>0</td>\n",
              "      <td>0</td>\n",
              "      <td>0</td>\n",
              "      <td>0</td>\n",
              "      <td>...</td>\n",
              "      <td>0</td>\n",
              "      <td>0</td>\n",
              "      <td>0</td>\n",
              "      <td>0</td>\n",
              "      <td>0</td>\n",
              "      <td>0</td>\n",
              "      <td>1</td>\n",
              "      <td>0</td>\n",
              "      <td>1</td>\n",
              "      <td>0</td>\n",
              "    </tr>\n",
              "    <tr>\n",
              "      <th>74247</th>\n",
              "      <td>737797</td>\n",
              "      <td>737946</td>\n",
              "      <td>-34.583718</td>\n",
              "      <td>-58.484141</td>\n",
              "      <td>4.0</td>\n",
              "      <td>1.0</td>\n",
              "      <td>0</td>\n",
              "      <td>0</td>\n",
              "      <td>0</td>\n",
              "      <td>0</td>\n",
              "      <td>...</td>\n",
              "      <td>0</td>\n",
              "      <td>0</td>\n",
              "      <td>0</td>\n",
              "      <td>0</td>\n",
              "      <td>0</td>\n",
              "      <td>0</td>\n",
              "      <td>1</td>\n",
              "      <td>0</td>\n",
              "      <td>0</td>\n",
              "      <td>0</td>\n",
              "    </tr>\n",
              "    <tr>\n",
              "      <th>74248</th>\n",
              "      <td>737802</td>\n",
              "      <td>737946</td>\n",
              "      <td>-34.572512</td>\n",
              "      <td>-58.478717</td>\n",
              "      <td>5.0</td>\n",
              "      <td>1.0</td>\n",
              "      <td>0</td>\n",
              "      <td>0</td>\n",
              "      <td>0</td>\n",
              "      <td>0</td>\n",
              "      <td>...</td>\n",
              "      <td>0</td>\n",
              "      <td>0</td>\n",
              "      <td>0</td>\n",
              "      <td>0</td>\n",
              "      <td>0</td>\n",
              "      <td>0</td>\n",
              "      <td>1</td>\n",
              "      <td>0</td>\n",
              "      <td>1</td>\n",
              "      <td>0</td>\n",
              "    </tr>\n",
              "    <tr>\n",
              "      <th>74249</th>\n",
              "      <td>737802</td>\n",
              "      <td>737946</td>\n",
              "      <td>-34.572512</td>\n",
              "      <td>-58.478717</td>\n",
              "      <td>5.0</td>\n",
              "      <td>1.0</td>\n",
              "      <td>0</td>\n",
              "      <td>0</td>\n",
              "      <td>0</td>\n",
              "      <td>0</td>\n",
              "      <td>...</td>\n",
              "      <td>0</td>\n",
              "      <td>0</td>\n",
              "      <td>0</td>\n",
              "      <td>0</td>\n",
              "      <td>0</td>\n",
              "      <td>0</td>\n",
              "      <td>1</td>\n",
              "      <td>0</td>\n",
              "      <td>1</td>\n",
              "      <td>0</td>\n",
              "    </tr>\n",
              "    <tr>\n",
              "      <th>74250</th>\n",
              "      <td>737802</td>\n",
              "      <td>737946</td>\n",
              "      <td>-34.572512</td>\n",
              "      <td>-58.478717</td>\n",
              "      <td>5.0</td>\n",
              "      <td>1.0</td>\n",
              "      <td>0</td>\n",
              "      <td>0</td>\n",
              "      <td>0</td>\n",
              "      <td>0</td>\n",
              "      <td>...</td>\n",
              "      <td>0</td>\n",
              "      <td>0</td>\n",
              "      <td>0</td>\n",
              "      <td>0</td>\n",
              "      <td>0</td>\n",
              "      <td>0</td>\n",
              "      <td>1</td>\n",
              "      <td>0</td>\n",
              "      <td>1</td>\n",
              "      <td>0</td>\n",
              "    </tr>\n",
              "  </tbody>\n",
              "</table>\n",
              "<p>74251 rows × 69 columns</p>\n",
              "</div>\n",
              "      <button class=\"colab-df-convert\" onclick=\"convertToInteractive('df-acc883ff-cf92-414c-a4b7-b0a6bc1812e5')\"\n",
              "              title=\"Convert this dataframe to an interactive table.\"\n",
              "              style=\"display:none;\">\n",
              "        \n",
              "  <svg xmlns=\"http://www.w3.org/2000/svg\" height=\"24px\"viewBox=\"0 0 24 24\"\n",
              "       width=\"24px\">\n",
              "    <path d=\"M0 0h24v24H0V0z\" fill=\"none\"/>\n",
              "    <path d=\"M18.56 5.44l.94 2.06.94-2.06 2.06-.94-2.06-.94-.94-2.06-.94 2.06-2.06.94zm-11 1L8.5 8.5l.94-2.06 2.06-.94-2.06-.94L8.5 2.5l-.94 2.06-2.06.94zm10 10l.94 2.06.94-2.06 2.06-.94-2.06-.94-.94-2.06-.94 2.06-2.06.94z\"/><path d=\"M17.41 7.96l-1.37-1.37c-.4-.4-.92-.59-1.43-.59-.52 0-1.04.2-1.43.59L10.3 9.45l-7.72 7.72c-.78.78-.78 2.05 0 2.83L4 21.41c.39.39.9.59 1.41.59.51 0 1.02-.2 1.41-.59l7.78-7.78 2.81-2.81c.8-.78.8-2.07 0-2.86zM5.41 20L4 18.59l7.72-7.72 1.47 1.35L5.41 20z\"/>\n",
              "  </svg>\n",
              "      </button>\n",
              "      \n",
              "  <style>\n",
              "    .colab-df-container {\n",
              "      display:flex;\n",
              "      flex-wrap:wrap;\n",
              "      gap: 12px;\n",
              "    }\n",
              "\n",
              "    .colab-df-convert {\n",
              "      background-color: #E8F0FE;\n",
              "      border: none;\n",
              "      border-radius: 50%;\n",
              "      cursor: pointer;\n",
              "      display: none;\n",
              "      fill: #1967D2;\n",
              "      height: 32px;\n",
              "      padding: 0 0 0 0;\n",
              "      width: 32px;\n",
              "    }\n",
              "\n",
              "    .colab-df-convert:hover {\n",
              "      background-color: #E2EBFA;\n",
              "      box-shadow: 0px 1px 2px rgba(60, 64, 67, 0.3), 0px 1px 3px 1px rgba(60, 64, 67, 0.15);\n",
              "      fill: #174EA6;\n",
              "    }\n",
              "\n",
              "    [theme=dark] .colab-df-convert {\n",
              "      background-color: #3B4455;\n",
              "      fill: #D2E3FC;\n",
              "    }\n",
              "\n",
              "    [theme=dark] .colab-df-convert:hover {\n",
              "      background-color: #434B5C;\n",
              "      box-shadow: 0px 1px 3px 1px rgba(0, 0, 0, 0.15);\n",
              "      filter: drop-shadow(0px 1px 2px rgba(0, 0, 0, 0.3));\n",
              "      fill: #FFFFFF;\n",
              "    }\n",
              "  </style>\n",
              "\n",
              "      <script>\n",
              "        const buttonEl =\n",
              "          document.querySelector('#df-acc883ff-cf92-414c-a4b7-b0a6bc1812e5 button.colab-df-convert');\n",
              "        buttonEl.style.display =\n",
              "          google.colab.kernel.accessAllowed ? 'block' : 'none';\n",
              "\n",
              "        async function convertToInteractive(key) {\n",
              "          const element = document.querySelector('#df-acc883ff-cf92-414c-a4b7-b0a6bc1812e5');\n",
              "          const dataTable =\n",
              "            await google.colab.kernel.invokeFunction('convertToInteractive',\n",
              "                                                     [key], {});\n",
              "          if (!dataTable) return;\n",
              "\n",
              "          const docLinkHtml = 'Like what you see? Visit the ' +\n",
              "            '<a target=\"_blank\" href=https://colab.research.google.com/notebooks/data_table.ipynb>data table notebook</a>'\n",
              "            + ' to learn more about interactive tables.';\n",
              "          element.innerHTML = '';\n",
              "          dataTable['output_type'] = 'display_data';\n",
              "          await google.colab.output.renderOutput(dataTable, element);\n",
              "          const docLink = document.createElement('div');\n",
              "          docLink.innerHTML = docLinkHtml;\n",
              "          element.appendChild(docLink);\n",
              "        }\n",
              "      </script>\n",
              "    </div>\n",
              "  </div>\n",
              "  "
            ]
          },
          "metadata": {},
          "execution_count": 100
        }
      ],
      "source": [
        "x_train_clasificacion"
      ],
      "metadata": {
        "id": "5J7-9NhpYbJF",
        "colab": {
          "base_uri": "https://localhost:8080/",
          "height": 505
        },
        "outputId": "5a79c937-d837-491a-b202-ffa3f68c862e"
      }
    },
    {
      "cell_type": "markdown",
      "source": [
        "Normalizamos mediante Z-Score:"
      ],
      "metadata": {
        "collapsed": false,
        "id": "JPjRt6tTOWIL"
      }
    },
    {
      "cell_type": "code",
      "source": [
        "x_train_clasificacion[['start_date', 'end_date', 'latitud', 'longitud', 'property_rooms', 'property_surface_total']] = zscore(x_train_clasificacion[['start_date', 'end_date', 'latitud', 'longitud', 'property_rooms', 'property_surface_total']], axis=1)\n",
        "\n",
        "x_test_clasificacion[['start_date', 'end_date', 'latitud', 'longitud', 'property_rooms', 'property_surface_total']] = zscore(x_test_clasificacion[['start_date', 'end_date', 'latitud', 'longitud', 'property_rooms', 'property_surface_total']], axis=1)"
      ],
      "metadata": {
        "id": "qDlv11yi8sR1"
      },
      "execution_count": 101,
      "outputs": []
    },
    {
      "cell_type": "markdown",
      "source": [
        "Aplicamos One Hot encoding a la columna target de entrenamiento y test, para que tenga 3 columnas al igual que la salida del modelo:"
      ],
      "metadata": {
        "collapsed": false,
        "id": "IZ2XeEKi_TQW"
      }
    },
    {
      "cell_type": "code",
      "source": [
        "y_train_clasificacion = pd.get_dummies(y_train_clasificacion, columns=['tipo_precio_3'], drop_first=False)\n",
        "y_test_clasificacion = pd.get_dummies(y_test_clasificacion, columns=['tipo_precio_3'], drop_first=False)"
      ],
      "metadata": {
        "id": "2jzMgy7b5js1"
      },
      "execution_count": 102,
      "outputs": []
    },
    {
      "cell_type": "markdown",
      "source": [
        "#### Búsqueda del mejor modelo"
      ],
      "metadata": {
        "id": "ubndHWDlZosm"
      }
    },
    {
      "cell_type": "markdown",
      "source": [
        "Creo una función que me permite generar un modelo a partir de sus hiperparámetros. Esta función tiene como parámetros la cantidad de nodos de la primera y anteúltima capa, la cantidad de capas ocultas, la función de activación y el optimizador. Todos los modelos que genera a excepción de los casos sin capas ocultas) tienen forma de 'pirámide'."
      ],
      "metadata": {
        "collapsed": false,
        "id": "h2Jm2Y9mYbJG"
      }
    },
    {
      "cell_type": "code",
      "execution_count": null,
      "outputs": [],
      "source": [
        "cantidad_de_columnas = x_train_clasificacion.shape[1]\n",
        "\n",
        "def crear_modelo(hidden_layers, first_layer_nodes, last_layer_nodes, activation_func, optimizer):\n",
        "\n",
        "    sequential = Sequential()\n",
        "    sequential.add(keras.layers.Dense(first_layer_nodes, input_shape=(cantidad_de_columnas,)))\n",
        "\n",
        "    if hidden_layers is 0 or hidden_layers is 1:\n",
        "        decremento = 0\n",
        "    else:\n",
        "        decremento = math.ceil((first_layer_nodes - last_layer_nodes) / (hidden_layers - 1))\n",
        "\n",
        "    for i in range (0, hidden_layers):\n",
        "        nodos = first_layer_nodes - decremento * i\n",
        "        sequential.add(Dense(nodos, activation=activation_func))\n",
        "\n",
        "    sequential.add(Dense(3, activation=activation_func))\n",
        "\n",
        "    sequential.compile(\n",
        "        optimizer=optimizer,\n",
        "        loss=None,\n",
        "        # metrics=['accuracy'],\n",
        "        metrics=['AUC', 'accuracy', 'Recall', 'Precision']\n",
        "    )\n",
        "\n",
        "    return sequential\n",
        "\n",
        "\n",
        "modelo =  KerasClassifier(build_fn=crear_modelo, verbose = False)\n",
        "# crear_modelo(0, 50, 5, 'softmax', 'adam').summary()"
      ],
      "metadata": {
        "id": "Ou_E3XH2YbJG"
      }
    },
    {
      "cell_type": "markdown",
      "source": [
        "Luego busco el mejor modelo a partir de una grilla de parámetros arbitrarios con el método de 'GridSearchCV'. Nos limitamos en la cantidad de folds en el CV por el consumo temporal."
      ],
      "metadata": {
        "collapsed": false,
        "id": "K51rVuvIYbJG"
      }
    },
    {
      "cell_type": "code",
      "execution_count": null,
      "outputs": [],
      "source": [
        "from sklearn.model_selection import GridSearchCV\n",
        "\n",
        "# param_grid = dict(\n",
        "#     hidden_layers=[1, 2],\n",
        "#     first_layer_nodes = [math.ceil(cantidad_de_columnas * 0.7), math.ceil(cantidad_de_columnas * 0.5)],\n",
        "#     last_layer_nodes = [5, cantidad_de_columnas * 0.5],\n",
        "#     activation_func = ['softmax'],\n",
        "#     batch_size = [100],\n",
        "#     epochs = [60],\n",
        "#     optimizer=['adam']\n",
        "# )\n",
        "\n",
        "param_grid = dict(\n",
        "    hidden_layers=[0],\n",
        "    first_layer_nodes = [50],\n",
        "    last_layer_nodes = [5],\n",
        "    activation_func = ['softmax'],\n",
        "    batch_size = [100],\n",
        "    epochs = [60],\n",
        "    optimizer=['adam']\n",
        ")\n",
        "\n",
        "grid = GridSearchCV(\n",
        "    estimator = modelo,\n",
        "    param_grid = param_grid,\n",
        "    n_jobs=-1, cv=3,\n",
        "    error_score='raise',\n",
        "    scoring='accuracy'\n",
        ")"
      ],
      "metadata": {
        "id": "uFSLdBgUYbJG"
      }
    },
    {
      "cell_type": "markdown",
      "source": [
        "Entrenamos todos los modelos"
      ],
      "metadata": {
        "collapsed": false,
        "id": "wZ27vdKOYbJG"
      }
    },
    {
      "cell_type": "code",
      "execution_count": null,
      "outputs": [],
      "source": [
        "# y_train_clasificacion = y_train_clasificacion.map({'bajo': 0, 'medio': 1, 'alto': 2})\n",
        "grid_result = grid.fit(x_train_clasificacion, y_train_clasificacion)\n",
        "# y_train_clasificacion"
      ],
      "metadata": {
        "id": "NZdOxbyIYbJH"
      }
    },
    {
      "cell_type": "code",
      "execution_count": null,
      "outputs": [],
      "source": [
        "# print(\"El error absoluto porcentual promedio del mejor modelo fue de: \", grid_result.best_estimator_.model.metrics[2].result().numpy())\n",
        "# print(\"El error absoluto cuadrado promedio del mejor modelo fue de: \", grid_result.best_estimator_.model.metrics[1].result().numpy())\n",
        "# print(\"Los parámetros óptimizados fueron: \", grid.best_params_)\n",
        "# print(\"El score del mejor modelo fue: \", grid.best_score_)\n",
        "print(grid_result.best_estimator_.model.metrics[2].name)\n",
        "print(grid_result.best_estimator_.model.metrics[2].result().numpy())"
      ],
      "metadata": {
        "id": "wGjgu5toYbJH"
      }
    },
    {
      "cell_type": "code",
      "execution_count": null,
      "outputs": [],
      "source": [
        "result = grid.best_estimator_.model.predict(x_test_clasificacion)"
      ],
      "metadata": {
        "id": "3oRHIhd6YbJH"
      }
    },
    {
      "cell_type": "code",
      "execution_count": null,
      "outputs": [],
      "source": [
        "# grid.best_estimator_.model.summary()\n",
        "# result\n",
        "# grid.predict(x_test_clasificacion)\n",
        "result"
      ],
      "metadata": {
        "id": "kcMZ7bJXYbJH"
      }
    },
    {
      "cell_type": "code",
      "execution_count": null,
      "outputs": [],
      "source": [
        "grid.predict(x_test_clasificacion)"
      ],
      "metadata": {
        "id": "PQvyCuGxYbJH"
      }
    },
    {
      "cell_type": "code",
      "execution_count": null,
      "outputs": [],
      "source": [
        "grid_result"
      ],
      "metadata": {
        "id": "szvtUyPtYbJI"
      }
    },
    {
      "cell_type": "code",
      "execution_count": null,
      "outputs": [],
      "source": [
        "y_train_clasificacion"
      ],
      "metadata": {
        "id": "SvVIsG8hYbJI"
      }
    },
    {
      "cell_type": "code",
      "execution_count": null,
      "outputs": [],
      "source": [
        "d_in = x_train_clasificacion.shape[1]\n",
        "\n",
        "modelo = keras.Sequential([\n",
        "    keras.layers.Dense(50, input_shape=(d_in,)),\n",
        "    keras.layers.Dense(3, activation='softmax')\n",
        "])\n",
        "\n",
        "modelo.summary()"
      ],
      "metadata": {
        "id": "CO0lbjPj_TQW"
      }
    },
    {
      "cell_type": "markdown",
      "source": [
        "Compilamos el modelo con optimizador Adam y loss de crossentropy categórico. Procedemos a entrenar y predecir:"
      ],
      "metadata": {
        "collapsed": false,
        "id": "tP9PVcKR_TQW"
      }
    },
    {
      "cell_type": "code",
      "execution_count": null,
      "outputs": [],
      "source": [
        "modelo.compile(\n",
        "    optimizer=keras.optimizers.Adam(learning_rate=0.001),\n",
        "    loss='categorical_crossentropy',\n",
        "    metrics=['AUC', 'Accuracy', 'Recall', 'Precision'],\n",
        ")\n",
        "\n",
        "cant_epochs=100\n",
        "historia = modelo.fit(x_train_clasificacion, y_train_clasificacion, epochs=cant_epochs, verbose=False, use_multiprocessing=True, workers=4)"
      ],
      "metadata": {
        "id": "BZnWP4OU_TQX"
      }
    },
    {
      "cell_type": "code",
      "source": [
        "y_pred_clasificacion = modelo.predict(x_test_clasificacion)"
      ],
      "metadata": {
        "id": "JNz3xaWK6Aca"
      },
      "execution_count": null,
      "outputs": []
    },
    {
      "cell_type": "markdown",
      "source": [
        "#### Métricas"
      ],
      "metadata": {
        "id": "W-KMjjHwaFjg"
      }
    },
    {
      "cell_type": "markdown",
      "source": [
        "En este caso, veamos cómo se comporta la métrica AUC, y -por tanto-, cómo se comprota el acierto según la cantidad de épocas utilizada:"
      ],
      "metadata": {
        "id": "ez-lm0I4aXhi"
      }
    },
    {
      "cell_type": "code",
      "execution_count": null,
      "outputs": [],
      "source": [
        "epochs = range(cant_epochs)\n",
        "\n",
        "plt.plot(epochs, historia.history['Accuracy'], color='orange', label='AUC')\n",
        "plt.xlabel(\"Epochs\")\n",
        "plt.ylabel(\"AUC\")\n",
        "plt.title('Area bajo la curva por cantidad de épocas')\n",
        "plt.legend()"
      ],
      "metadata": {
        "id": "FY6s9jDN_TQX"
      }
    },
    {
      "cell_type": "markdown",
      "source": [
        "Reorganizamos los valores predichos para que queden en una sola columna, y comparamos con el conjunto de prueba:"
      ],
      "metadata": {
        "collapsed": false,
        "id": "f_9yDT0-_TQX"
      }
    },
    {
      "cell_type": "code",
      "execution_count": null,
      "outputs": [],
      "source": [
        "y_pred_clasificacion_arr = np.apply_along_axis(convert_b_m_a, axis=1, arr=y_pred_clasificacion)"
      ],
      "metadata": {
        "id": "bKKV7SQ5_TQX"
      }
    },
    {
      "cell_type": "markdown",
      "source": [
        "Seguimos reacomodando los valores para poder calcular las métricas correspondientes, notemos que no pueden guardarse valores equivalentes al string 'medio' en el array:"
      ],
      "metadata": {
        "id": "wMY6UF4RI8Ip"
      }
    },
    {
      "cell_type": "code",
      "source": [
        "np.unique(y_pred_clasificacion_arr)"
      ],
      "metadata": {
        "id": "qth1TiSnKsCs"
      },
      "execution_count": null,
      "outputs": []
    },
    {
      "cell_type": "markdown",
      "source": [
        "Aplicamos estrategias de transformación de datos:"
      ],
      "metadata": {
        "id": "CX9WD9mAJFPi"
      }
    },
    {
      "cell_type": "code",
      "source": [
        "# y_pred_clasificacion_arr = np.where(y_pred_clasificacion_arr == 'medi', 'medio', y_pred_clasificacion_arr)"
      ],
      "metadata": {
        "id": "7_YbczvDLnY2"
      },
      "execution_count": null,
      "outputs": []
    },
    {
      "cell_type": "code",
      "source": [
        "# np.unique(y_pred_clasificacion_arr)"
      ],
      "metadata": {
        "id": "MjGQWoBRI6S_"
      },
      "execution_count": null,
      "outputs": []
    },
    {
      "cell_type": "markdown",
      "source": [
        "Finalmente, calculamos las métricas:"
      ],
      "metadata": {
        "id": "pfpYZ7DrMQXT"
      }
    },
    {
      "cell_type": "code",
      "source": [
        "# metricas_clasificacion(y_test_clasificacion, y_pred_clasificacion_arr)"
      ],
      "metadata": {
        "id": "hS1ZCcYyGb_i"
      },
      "execution_count": null,
      "outputs": []
    },
    {
      "cell_type": "markdown",
      "source": [
        "#### Exportación de Datos"
      ],
      "metadata": {
        "id": "5SsWSPw1fJYm"
      }
    },
    {
      "cell_type": "markdown",
      "source": [
        "Finalmente, exportamos el modelo utilizado:"
      ],
      "metadata": {
        "id": "IlgF2MmmfJYn"
      }
    },
    {
      "cell_type": "code",
      "source": [
        "if IN_COLAB:\n",
        "  path = '/content/drive/MyDrive/📔 Organización de Datos (75.06)/TPS/TP2/MODELOS/Redes_Classifier.joblib'\n",
        "else:\n",
        "  path = './MODELOS/Redes_Classifier.joblib'\n",
        "\n",
        "dump(modelo, path)"
      ],
      "metadata": {
        "id": "yjKFj8TjfJYn"
      },
      "execution_count": null,
      "outputs": []
    },
    {
      "cell_type": "markdown",
      "metadata": {
        "id": "JDpREdwKxB6m"
      },
      "source": [
        "## 3. Ensamble de Modelos"
      ]
    },
    {
      "cell_type": "markdown",
      "metadata": {
        "id": "KvLq10beDadg"
      },
      "source": [
        "### 3. a) Voting - Clasificación\n",
        "___"
      ]
    },
    {
      "cell_type": "markdown",
      "metadata": {
        "id": "EAT6HU3buhLU"
      },
      "source": [
        "#### Preparación del dataset"
      ]
    },
    {
      "cell_type": "markdown",
      "metadata": {
        "id": "aZNjL2W-vZvC"
      },
      "source": [
        "Para la parte de ensambles, lo que haremos será utilizar nuevamente el dataset al cual se le aplicó una reducción de su dimensionalidad en el trabajo práctico n°1. \n",
        "\n",
        "Para esto lo que haremos será trabajar con una copia del dataset modificado al inicio del trabajo, el cual usa como base el reducido mencionado anteriormente."
      ]
    },
    {
      "cell_type": "markdown",
      "metadata": {
        "id": "fDp1eW_cHfxt"
      },
      "source": [
        "Para nuestra variable `target`, utilizaremos como convención la misma que fue planteada para el tp1. Ésta consiste en subdividir a la variable pxm2 (precio por metro cuadrado) en 3 intervalos, 25% a bajo, 50% a medio y el otro 25% restante a alto. A su vez, se hará la separación tambien por tipo de propiedad."
      ]
    },
    {
      "cell_type": "code",
      "execution_count": 104,
      "metadata": {
        "id": "7T0ZW9l-dcqI"
      },
      "outputs": [],
      "source": [
        "x_train_voting = x_train_clasificacion\n",
        "y_train_voting = y_train_clasificacion\n",
        "\n",
        "x_test_voting = x_test_clasificacion\n",
        "y_test_voting = y_test_clasificacion"
      ]
    },
    {
      "cell_type": "code",
      "execution_count": 105,
      "metadata": {
        "id": "sSKtHVSSgBhv",
        "colab": {
          "base_uri": "https://localhost:8080/"
        },
        "outputId": "45ed6c15-4151-4a52-efe5-edddcd69715b"
      },
      "outputs": [
        {
          "output_type": "stream",
          "name": "stdout",
          "text": [
            "Se observaron: \n",
            " - alto     18564\n",
            "bajo     18564\n",
            "medio    18564\n",
            "dtype: int64 registros de tipo 'bajo'. \n",
            " - alto     37168\n",
            "bajo     37168\n",
            "medio    37168\n",
            "dtype: int64 registros de tipo 'medio'. \n",
            " - alto     18519\n",
            "bajo     18519\n",
            "medio    18519\n",
            "dtype: int64 registros de tipo 'alto'.\n"
          ]
        }
      ],
      "source": [
        "bajo = y_train_voting['bajo'].sum() + y_test_voting[y_test_voting == 'bajo'].count()\n",
        "medio = y_train_voting['medio'].sum() + y_test_voting[y_test_voting == 'medio'].count()\n",
        "alto = y_train_voting['alto'].sum() + y_test_voting[y_test_voting == 'alto'].count()\n",
        "\n",
        "print(f\"Se observaron: \\n - {round(bajo,3)} registros de tipo 'bajo'. \\n - {round(medio,3)} registros de tipo 'medio'. \\n - {round(alto,3)} registros de tipo 'alto'.\")"
      ]
    },
    {
      "cell_type": "markdown",
      "metadata": {
        "id": "_kG7ZRlKuaxT"
      },
      "source": [
        "#### Definición del Ensamble"
      ]
    },
    {
      "cell_type": "markdown",
      "metadata": {
        "id": "CGYLj6zEDcf7"
      },
      "source": [
        "Para el tipo de ensamble **voting**, lo que necesitaremos será contar con `n` cantidad de modelos previamente entrenados para luego someterlos a una votación. De la misma, saldrá la clasificación para la nueva instancia en base a lo que indique la mayoría de ellos."
      ]
    },
    {
      "cell_type": "markdown",
      "metadata": {
        "id": "FTMs6ZsBDd_Y"
      },
      "source": [
        "Elegimos tomar como modelos los mismos empleados en el TP1:\n",
        "\n",
        "\n",
        "*   Árbol de Decisión\n",
        "*   Random Forest\n",
        "*   KNN\n",
        "\n"
      ]
    },
    {
      "cell_type": "markdown",
      "source": [
        "En esta línea, cargamos en memoria los modelos previamente guardados:"
      ],
      "metadata": {
        "id": "U437nPqDP87B"
      }
    },
    {
      "cell_type": "code",
      "source": [
        "if IN_COLAB:\n",
        "  path = '/content/drive/MyDrive/📒 Organización de Datos (75.06)/TPS/TP1/MODELOS/DecisionTree_Classfier.joblib'\n",
        "else:\n",
        "  path = './MODELOS/DecisionTree_Classfier.joblib'\n",
        "\n",
        "dcs_clf = load(path)"
      ],
      "metadata": {
        "id": "_k9OCodePoJD"
      },
      "execution_count": 106,
      "outputs": []
    },
    {
      "cell_type": "code",
      "source": [
        "if IN_COLAB:\n",
        "  path = '/content/drive/MyDrive/📒 Organización de Datos (75.06)/TPS/TP1/MODELOS/RandomForest_Classfier.joblib'\n",
        "else:\n",
        "  path = './MODELOS/RandomForest_Classfier.joblib'\n",
        "\n",
        "rnd_clf = load(path)"
      ],
      "metadata": {
        "id": "a7IWWmUoPwGH"
      },
      "execution_count": 107,
      "outputs": []
    },
    {
      "cell_type": "code",
      "source": [
        "if IN_COLAB:\n",
        "  path = '/content/drive/MyDrive/📒 Organización de Datos (75.06)/TPS/TP1/MODELOS/KNN_Classfier.joblib'\n",
        "else:\n",
        "  path = './MODELOS/KNN_Classfier.joblib'\n",
        "\n",
        "knn_clf = load(path)"
      ],
      "metadata": {
        "id": "sx-_-Q9xPc29"
      },
      "execution_count": 108,
      "outputs": []
    },
    {
      "cell_type": "markdown",
      "source": [
        "Recordemos que estos modelos fueron optimizados con los siguientes hiperparámetros:\n",
        "\n",
        "- para **Decision Tree**: `{'ccp_alpha': 0.0001, 'criterion': 'gini', 'max_depth': 21}`\n",
        "- para **Random Forest**: `{'ccp_alpha': 0.0001, 'criterion': 'entropy', 'max_depth': 25, 'n_estimators': 55}`\n",
        "- para **K Nearest Neighbors**: `{'algorithm': 'kd_tree', 'leaf_size': 5, 'n_jobs': -1, 'n_neighbors': 3, 'weights': 'distance'}`"
      ],
      "metadata": {
        "id": "Lz62MXjMR6eu"
      }
    },
    {
      "cell_type": "markdown",
      "metadata": {
        "id": "AEgb4Z2xDon_"
      },
      "source": [
        "Una vez que contamos con los modelos que vamos a utilizar en el ensamble, procedemos a su creación. En este caso particular decidimos utilizar el tipo de votación hard el cual utilizará la regla de la mayoría. Por otro lado, utilizamos el hiperparámetro `estimators` para definir como nos vamos a referir a dichos modelos."
      ]
    },
    {
      "cell_type": "code",
      "execution_count": 109,
      "metadata": {
        "id": "WlSEwC0ODq26"
      },
      "outputs": [],
      "source": [
        "vot_clf = VotingClassifier(estimators = [('dcs', dcs_clf), ('rnd', rnd_clf), ('knn', knn_clf)], voting = 'hard')"
      ]
    },
    {
      "cell_type": "markdown",
      "metadata": {
        "id": "D8sgMCouvLx-"
      },
      "source": [
        "#### Entrenamiento y Predicción"
      ]
    },
    {
      "cell_type": "markdown",
      "source": [
        "Reorganizamos los valores predichos para que queden en una sola columna, y comparamos con el conjunto de prueba:"
      ],
      "metadata": {
        "collapsed": false,
        "id": "_aTA577USlsB"
      }
    },
    {
      "cell_type": "code",
      "execution_count": 110,
      "outputs": [],
      "source": [
        "y_train_voting_arr = np.apply_along_axis(convert_b_m_a, axis=1, arr=y_train_voting)"
      ],
      "metadata": {
        "id": "ylyPOrZ9SlsC"
      }
    },
    {
      "cell_type": "markdown",
      "source": [
        "Seguimos reacomodando los valores para poder calcular las métricas correspondientes, notemos que no pueden guardarse valores equivalentes al string 'medio' en el array:"
      ],
      "metadata": {
        "id": "pMyijnL-SlsD"
      }
    },
    {
      "cell_type": "code",
      "source": [
        "np.unique(y_train_voting_arr)"
      ],
      "metadata": {
        "id": "oMGsKgJLSlsE",
        "colab": {
          "base_uri": "https://localhost:8080/"
        },
        "outputId": "7cca84c1-1c8f-4b17-dbc0-04fbaba26bcc"
      },
      "execution_count": 111,
      "outputs": [
        {
          "output_type": "execute_result",
          "data": {
            "text/plain": [
              "array(['alto', 'bajo', 'medio'], dtype='<U5')"
            ]
          },
          "metadata": {},
          "execution_count": 111
        }
      ]
    },
    {
      "cell_type": "markdown",
      "source": [
        "Aplicamos estrategias de transformación de datos:"
      ],
      "metadata": {
        "id": "mmDJFqfxSlsE"
      }
    },
    {
      "cell_type": "code",
      "source": [
        "y_train_voting_arr = np.where(y_train_voting_arr == 'medi', 'medio', y_train_voting_arr)"
      ],
      "metadata": {
        "id": "vK5dgr3SSlsE"
      },
      "execution_count": 112,
      "outputs": []
    },
    {
      "cell_type": "code",
      "source": [
        "np.unique(y_train_voting_arr)"
      ],
      "metadata": {
        "id": "B0Wmo-6KSlsF",
        "colab": {
          "base_uri": "https://localhost:8080/"
        },
        "outputId": "6f6a9a01-73dc-4bd7-ad8f-860c27171d57"
      },
      "execution_count": 113,
      "outputs": [
        {
          "output_type": "execute_result",
          "data": {
            "text/plain": [
              "array(['alto', 'bajo', 'medio'], dtype='<U5')"
            ]
          },
          "metadata": {},
          "execution_count": 113
        }
      ]
    },
    {
      "cell_type": "markdown",
      "source": [
        "Finalmente, entrenamos el ensamble:"
      ],
      "metadata": {
        "id": "JAJbjjZ1SlsF"
      }
    },
    {
      "cell_type": "code",
      "execution_count": 114,
      "metadata": {
        "id": "3yr85PLiD1vO",
        "colab": {
          "base_uri": "https://localhost:8080/"
        },
        "outputId": "928237cd-3910-4427-93e8-b3d42d8ccb7d"
      },
      "outputs": [
        {
          "output_type": "execute_result",
          "data": {
            "text/plain": [
              "VotingClassifier(estimators=[('dcs',\n",
              "                              DecisionTreeClassifier(ccp_alpha=0.0001,\n",
              "                                                     max_depth=21)),\n",
              "                             ('rnd',\n",
              "                              RandomForestClassifier(ccp_alpha=0.0001,\n",
              "                                                     criterion='entropy',\n",
              "                                                     max_depth=25,\n",
              "                                                     n_estimators=55,\n",
              "                                                     random_state=5)),\n",
              "                             ('knn',\n",
              "                              KNeighborsClassifier(algorithm='kd_tree',\n",
              "                                                   leaf_size=5, n_jobs=-1,\n",
              "                                                   n_neighbors=3,\n",
              "                                                   weights='distance'))])"
            ]
          },
          "metadata": {},
          "execution_count": 114
        }
      ],
      "source": [
        "vot_clf.fit(x_train_voting, y_train_voting_arr)"
      ]
    },
    {
      "cell_type": "code",
      "source": [
        "y_pred_voting = vot_clf.predict(x_test_voting)"
      ],
      "metadata": {
        "id": "0mf1Le81Ujyc"
      },
      "execution_count": 115,
      "outputs": []
    },
    {
      "cell_type": "markdown",
      "source": [
        "Reaplicamos la reorganización de valores para el dataset de test:"
      ],
      "metadata": {
        "id": "0ZIFAhvgNv4p"
      }
    },
    {
      "cell_type": "code",
      "source": [
        "y_test_voting_arr = np.apply_along_axis(convert_b_m_a, axis=1, arr=y_test_voting)"
      ],
      "metadata": {
        "id": "J44P4lPZNhzo"
      },
      "execution_count": 122,
      "outputs": []
    },
    {
      "cell_type": "code",
      "source": [
        "np.unique(y_test_voting_arr)"
      ],
      "metadata": {
        "colab": {
          "base_uri": "https://localhost:8080/"
        },
        "outputId": "6c9b9a55-1c07-465d-d9ba-2478e494b864",
        "id": "Q2i17oA6N3v6"
      },
      "execution_count": 123,
      "outputs": [
        {
          "output_type": "execute_result",
          "data": {
            "text/plain": [
              "array(['alto', 'bajo', 'medio'], dtype='<U5')"
            ]
          },
          "metadata": {},
          "execution_count": 123
        }
      ]
    },
    {
      "cell_type": "markdown",
      "metadata": {
        "id": "JTaTYoJYuv-M"
      },
      "source": [
        "#### Métricas"
      ]
    },
    {
      "cell_type": "markdown",
      "metadata": {
        "id": "UoJ-lAV7Qz6M"
      },
      "source": [
        "Para poder determinar que tan bueno resulto el modelo, lo que haremos será observar las `métricas` resultantes de una predicción con los datos de test. Recordemos que nuestras funcinoes de metricas fueron definidas al inicio de este trabajo."
      ]
    },
    {
      "cell_type": "code",
      "execution_count": 126,
      "metadata": {
        "id": "I1klUyeDQ3zj",
        "colab": {
          "base_uri": "https://localhost:8080/"
        },
        "outputId": "bf6fb66e-687b-4cc7-ebc8-d4657205201c"
      },
      "outputs": [
        {
          "output_type": "stream",
          "name": "stdout",
          "text": [
            "Accuracy: 0.63\n",
            "Precision: 0.65\n",
            "Recall: 0.57\n",
            "F1 Score: 0.59\n"
          ]
        }
      ],
      "source": [
        "metricas_clasificacion(y_test_voting_arr, y_pred_voting)"
      ]
    },
    {
      "cell_type": "markdown",
      "metadata": {
        "id": "QnFftUBRQ5zk"
      },
      "source": [
        "A su vez, también podemos visualizar los mismos a través de la siguiente matriz de confusión."
      ]
    },
    {
      "cell_type": "code",
      "execution_count": 127,
      "metadata": {
        "id": "I6EWIuOUQ7W7",
        "colab": {
          "base_uri": "https://localhost:8080/",
          "height": 296
        },
        "outputId": "6d8a3bf0-547e-4fcf-fd94-437463db38a3"
      },
      "outputs": [
        {
          "output_type": "execute_result",
          "data": {
            "text/plain": [
              "Text(33.0, 0.5, 'True')"
            ]
          },
          "metadata": {},
          "execution_count": 127
        },
        {
          "output_type": "display_data",
          "data": {
            "text/plain": [
              "<Figure size 432x288 with 2 Axes>"
            ],
            "image/png": "[encoded data removed]"
          },
          "metadata": {
            "needs_background": "light"
          }
        }
      ],
      "source": [
        "matrix = confusion_matrix(y_test_voting_arr, y_pred_voting)\n",
        "sns.heatmap(matrix,cmap='GnBu',annot=True,fmt='g')\n",
        "plt.xlabel('Predicted')\n",
        "plt.ylabel('True')"
      ]
    },
    {
      "cell_type": "markdown",
      "source": [
        "#### Exportación de Datos"
      ],
      "metadata": {
        "id": "tm_FRzR7fvEH"
      }
    },
    {
      "cell_type": "markdown",
      "source": [
        "Finalmente, exportamos el modelo utilizado:"
      ],
      "metadata": {
        "id": "b04Kqm-IfvEI"
      }
    },
    {
      "cell_type": "code",
      "source": [
        "if IN_COLAB:\n",
        "  path = '/content/drive/MyDrive/📒 Organización de Datos (75.06)/TPS/TP2/MODELOS/Voting_Classifier.joblib'\n",
        "else:\n",
        "  path = './MODELOS/Voting_Classifier.joblib'\n",
        "\n",
        "dump(vot_clf, path)"
      ],
      "metadata": {
        "id": "flZ1yIxzfvEJ",
        "colab": {
          "base_uri": "https://localhost:8080/"
        },
        "outputId": "baeea91f-633a-438d-cee1-803d3aaef75e"
      },
      "execution_count": 128,
      "outputs": [
        {
          "output_type": "execute_result",
          "data": {
            "text/plain": [
              "['/content/drive/MyDrive/📒 Organización de Datos (75.06)/TPS/TP2/MODELOS/Voting_Classifier.joblib']"
            ]
          },
          "metadata": {},
          "execution_count": 128
        }
      ]
    },
    {
      "cell_type": "markdown",
      "metadata": {
        "id": "3gDV2ozmQ9mb"
      },
      "source": [
        "### 3. b) Stacking - Regresión\n",
        "___"
      ]
    },
    {
      "cell_type": "markdown",
      "metadata": {
        "id": "DRpAEJ7WrgeV"
      },
      "source": [
        "#### Preparación del dataset"
      ]
    },
    {
      "cell_type": "markdown",
      "metadata": {
        "id": "XQwjdBg4rgeW"
      },
      "source": [
        "Nuevamente, utilizamos los datasets de train y test previamente separados:"
      ]
    },
    {
      "cell_type": "code",
      "execution_count": 129,
      "metadata": {
        "id": "9obURdGWrgeW"
      },
      "outputs": [],
      "source": [
        "x_train_stacking = x_train_regresion\n",
        "y_train_stacking = y_train_regresion\n",
        "\n",
        "x_test_stacking = x_test_regresion\n",
        "y_test_stacking = y_test_regresion"
      ]
    },
    {
      "cell_type": "markdown",
      "source": [
        "#### Definición del Ensamble\n"
      ],
      "metadata": {
        "id": "4FjGFid7Y7Fj"
      }
    },
    {
      "cell_type": "markdown",
      "metadata": {
        "id": "i3EG9oZ3Q_zL"
      },
      "source": [
        "Lo que haremos en esta nueva sección, será implementar un nuevo tipo de ensable híbrido con la salvedad de que esta vez utilizaremos el tipo `cascading`.\n",
        "El mismo se basa en el entrenamiento de distintos `modelos base`, y a su vez utilizará un `meta-modelo` el cual realizará su predicción en base a las predicciones de los diferentes modelos comentados anteriormente. \n",
        "\n",
        "Como es indicado por el enunciado del trabajo se utilizarán modelos de regresión. En particular, decidimos trabajar con:\n",
        "\n",
        "\n",
        "*   KNN\n",
        "*   XGBoost\n",
        "*   AdaBoost\n",
        "\n"
      ]
    },
    {
      "cell_type": "markdown",
      "source": [
        "En esta línea, cargamos en memoria los modelos previamente guardados:"
      ],
      "metadata": {
        "id": "uZ1GwmfuRe0C"
      }
    },
    {
      "cell_type": "code",
      "source": [
        "if IN_COLAB:\n",
        "  path = '/content/drive/MyDrive/📒 Organización de Datos (75.06)/TPS/TP1/MODELOS/KNN_Regressor_Train.joblib'\n",
        "else:\n",
        "  path = './MODELOS/KNN_Regressor_Train.joblib'\n",
        "\n",
        "knn_rgs = load(path)"
      ],
      "metadata": {
        "id": "-Y0wFABHQOhS"
      },
      "execution_count": 130,
      "outputs": []
    },
    {
      "cell_type": "code",
      "source": [
        "if IN_COLAB:\n",
        "  path = '/content/drive/MyDrive/📒 Organización de Datos (75.06)/TPS/TP1/MODELOS/XGB_Regressor_Train.joblib'\n",
        "else:\n",
        "  path = './MODELOS/XGB_Regressor_Train.joblib'\n",
        "\n",
        "xgb_rgs = load(path)"
      ],
      "metadata": {
        "id": "4zvVhilyQRDj",
        "colab": {
          "base_uri": "https://localhost:8080/"
        },
        "outputId": "c7ef1f4f-3c55-462e-c5db-aeddcd985e6e"
      },
      "execution_count": 131,
      "outputs": [
        {
          "output_type": "stream",
          "name": "stdout",
          "text": [
            "[22:21:00] WARNING: /workspace/src/objective/regression_obj.cu:152: reg:linear is now deprecated in favor of reg:squarederror.\n"
          ]
        }
      ]
    },
    {
      "cell_type": "code",
      "source": [
        "if IN_COLAB:\n",
        "  path = '/content/drive/MyDrive/📒 Organización de Datos (75.06)/TPS/TP1/MODELOS/AdaB_Regressor_Train.joblib'\n",
        "else:\n",
        "  path = './MODELOS/AdaB_Regressor_Train.joblib'\n",
        "\n",
        "adb_rgs = load(path)"
      ],
      "metadata": {
        "id": "pBui1YlcQQ7E"
      },
      "execution_count": 132,
      "outputs": []
    },
    {
      "cell_type": "markdown",
      "source": [
        "Recordemos que estos modelos fueron optimizados con los siguientes hiperparámetros:\n",
        "\n",
        "- para **K Nearest Neighbors**: `{'weights': 'uniform', 'n_neighbors': 51, 'metric': 'chebyshev', 'leaf_size': 22, 'algorithm': 'ball_tree'}`\n",
        "- para **Extreme Gradient Boosting**: `{'min_child_weight': 5, 'max_depth': 6, 'learning_rate': 0.3, 'gamma': 0.1, 'colsample_bytree': 0.3}`\n",
        "- para **Adaptive Boosting**: `{'n_estimators': 10, 'learning_rate': 1.02}`"
      ],
      "metadata": {
        "id": "KGi5lWsDTnpA"
      }
    },
    {
      "cell_type": "markdown",
      "metadata": {
        "id": "eoI5ilXVRD06"
      },
      "source": [
        "Luego utilizamos los mismos para definir nuestro modelo base, en el cual luego se basará el meta-modelo."
      ]
    },
    {
      "cell_type": "code",
      "execution_count": 133,
      "metadata": {
        "id": "qK74SKO-RF4U"
      },
      "outputs": [],
      "source": [
        "base_models = [('KNN', knn_rgs),\n",
        "               ('XGBoost', xgb_rgs),\n",
        "               ('AdaBoost', adb_rgs)]"
      ]
    },
    {
      "cell_type": "markdown",
      "metadata": {
        "id": "C7j2qzBXRHd6"
      },
      "source": [
        "Como mencionamos, a continuación los utilizaremos para definir nuestro meta-modelo. Para este último, decidimos emplear el modelo de regresión logistica."
      ]
    },
    {
      "cell_type": "code",
      "execution_count": 134,
      "metadata": {
        "id": "8mRJmKOSRJCy"
      },
      "outputs": [],
      "source": [
        "from sklearn.ensemble import GradientBoostingRegressor\n",
        "\n",
        "meta_model = GradientBoostingRegressor()"
      ]
    },
    {
      "cell_type": "markdown",
      "metadata": {
        "id": "PnA6P4zORKsq"
      },
      "source": [
        "Creamos nuestro ensamble indicando como modelos estimadores Knn, XGBoost y AdaBoost, y como estimador final el modelo de Regresión Lineal."
      ]
    },
    {
      "cell_type": "code",
      "source": [
        "s = 5\n",
        "n = 2"
      ],
      "metadata": {
        "id": "6j70-9G75VW2"
      },
      "execution_count": 135,
      "outputs": []
    },
    {
      "cell_type": "code",
      "execution_count": 136,
      "metadata": {
        "id": "YWOHgLGcRMHr"
      },
      "outputs": [],
      "source": [
        "stacking_model = StackingRegressor(estimators=base_models, \n",
        "                                    final_estimator=meta_model, \n",
        "                                    passthrough=True, \n",
        "                                    cv=s,\n",
        "                                    verbose=n)"
      ]
    },
    {
      "cell_type": "markdown",
      "source": [
        "#### Entrenamiento y Predicción"
      ],
      "metadata": {
        "id": "GYCuFlWQZhlo"
      }
    },
    {
      "cell_type": "code",
      "source": [
        "model_scores = defaultdict()\n",
        "\n",
        "for name, model in base_models:\n",
        "    print('Evaluating {}'.format(name))\n",
        "    scores = evaluate_model(model, x_train_stacking, y_train_stacking, s, n)\n",
        "    model_scores[name] = scores"
      ],
      "metadata": {
        "id": "QomGOhfXEgg7",
        "colab": {
          "base_uri": "https://localhost:8080/"
        },
        "outputId": "374c2544-2f24-4a16-ed84-d7fd672e96da"
      },
      "execution_count": 137,
      "outputs": [
        {
          "output_type": "stream",
          "name": "stdout",
          "text": [
            "Evaluating KNN\n"
          ]
        },
        {
          "output_type": "stream",
          "name": "stderr",
          "text": [
            "[Parallel(n_jobs=3)]: Using backend LokyBackend with 3 concurrent workers.\n",
            "[Parallel(n_jobs=3)]: Done  10 out of  10 | elapsed: 10.1min finished\n",
            "[Parallel(n_jobs=3)]: Using backend LokyBackend with 3 concurrent workers.\n"
          ]
        },
        {
          "output_type": "stream",
          "name": "stdout",
          "text": [
            "Evaluating XGBoost\n"
          ]
        },
        {
          "output_type": "stream",
          "name": "stderr",
          "text": [
            "[Parallel(n_jobs=3)]: Done  10 out of  10 | elapsed:   59.3s finished\n",
            "[Parallel(n_jobs=3)]: Using backend LokyBackend with 3 concurrent workers.\n"
          ]
        },
        {
          "output_type": "stream",
          "name": "stdout",
          "text": [
            "Evaluating AdaBoost\n"
          ]
        },
        {
          "output_type": "stream",
          "name": "stderr",
          "text": [
            "[Parallel(n_jobs=3)]: Done  10 out of  10 | elapsed:   23.6s finished\n"
          ]
        }
      ]
    },
    {
      "cell_type": "markdown",
      "source": [
        "Veamos cómo resultaron los scores de los modelos:"
      ],
      "metadata": {
        "id": "hyJIbF3HsxK8"
      }
    },
    {
      "cell_type": "code",
      "source": [
        "plot_results(model_scores, name='stacking_model_cv')"
      ],
      "metadata": {
        "id": "CPzQs8HBsuR4",
        "colab": {
          "base_uri": "https://localhost:8080/",
          "height": 542
        },
        "outputId": "889dc416-0a21-4427-f89f-81d13d29dfbf"
      },
      "execution_count": 138,
      "outputs": [
        {
          "output_type": "display_data",
          "data": {
            "text/html": [
              "<html>\n",
              "<head><meta charset=\"utf-8\" /></head>\n",
              "<body>\n",
              "    <div>            <script src=\"https://cdnjs.cloudflare.com/ajax/libs/mathjax/2.7.5/MathJax.js?config=TeX-AMS-MML_SVG\"></script><script type=\"text/javascript\">if (window.MathJax) {MathJax.Hub.Config({SVG: {font: \"STIX-Web\"}});}</script>                <script type=\"text/javascript\">window.PlotlyConfig = {MathJaxConfig: 'local'};</script>\n",
              "        <script src=\"https://cdn.plot.ly/plotly-2.8.3.min.js\"></script>                <div id=\"f6942710-48cd-4624-a9ec-21ce84d2c513\" class=\"plotly-graph-div\" style=\"height:525px; width:100%;\"></div>            <script type=\"text/javascript\">                                    window.PLOTLYENV=window.PLOTLYENV || {};                                    if (document.getElementById(\"f6942710-48cd-4624-a9ec-21ce84d2c513\")) {                    Plotly.newPlot(                        \"f6942710-48cd-4624-a9ec-21ce84d2c513\",                        [{\"boxpoints\":\"all\",\"jitter\":0.5,\"line\":{\"width\":1},\"marker\":{\"size\":2},\"name\":\"KNN\",\"whiskerwidth\":0.2,\"y\":[-21428775757.75755,-16201215328.812365,-17848391140.408684,-19763250501.8644,-17695749481.532146,-21657111489.639683,-16672426912.50796,-17847617677.27545,-19154713152.768898,-17543341189.858273],\"type\":\"box\"},{\"boxpoints\":\"all\",\"jitter\":0.5,\"line\":{\"width\":1},\"marker\":{\"size\":2},\"name\":\"XGBoost\",\"whiskerwidth\":0.2,\"y\":[-12982427106.775623,-8485467481.563318,-8157098015.72927,-11247594172.816221,-8759145370.370293,-12944688780.391924,-8497278206.171427,-8680600079.800514,-10389681057.153002,-8248096018.172669],\"type\":\"box\"},{\"boxpoints\":\"all\",\"jitter\":0.5,\"line\":{\"width\":1},\"marker\":{\"size\":2},\"name\":\"AdaBoost\",\"whiskerwidth\":0.2,\"y\":[-26407538714.74943,-30047708319.956432,-20628752143.38675,-28763659792.46041,-24210699943.30338,-24625982664.931427,-28977231314.736465,-23611068424.06039,-25679822284.076927,-20842302564.2858],\"type\":\"box\"}],                        {\"template\":{\"data\":{\"bar\":[{\"error_x\":{\"color\":\"#2a3f5f\"},\"error_y\":{\"color\":\"#2a3f5f\"},\"marker\":{\"line\":{\"color\":\"#E5ECF6\",\"width\":0.5},\"pattern\":{\"fillmode\":\"overlay\",\"size\":10,\"solidity\":0.2}},\"type\":\"bar\"}],\"barpolar\":[{\"marker\":{\"line\":{\"color\":\"#E5ECF6\",\"width\":0.5},\"pattern\":{\"fillmode\":\"overlay\",\"size\":10,\"solidity\":0.2}},\"type\":\"barpolar\"}],\"carpet\":[{\"aaxis\":{\"endlinecolor\":\"#2a3f5f\",\"gridcolor\":\"white\",\"linecolor\":\"white\",\"minorgridcolor\":\"white\",\"startlinecolor\":\"#2a3f5f\"},\"baxis\":{\"endlinecolor\":\"#2a3f5f\",\"gridcolor\":\"white\",\"linecolor\":\"white\",\"minorgridcolor\":\"white\",\"startlinecolor\":\"#2a3f5f\"},\"type\":\"carpet\"}],\"choropleth\":[{\"colorbar\":{\"outlinewidth\":0,\"ticks\":\"\"},\"type\":\"choropleth\"}],\"contour\":[{\"colorbar\":{\"outlinewidth\":0,\"ticks\":\"\"},\"colorscale\":[[0.0,\"#0d0887\"],[0.1111111111111111,\"#46039f\"],[0.2222222222222222,\"#7201a8\"],[0.3333333333333333,\"#9c179e\"],[0.4444444444444444,\"#bd3786\"],[0.5555555555555556,\"#d8576b\"],[0.6666666666666666,\"#ed7953\"],[0.7777777777777778,\"#fb9f3a\"],[0.8888888888888888,\"#fdca26\"],[1.0,\"#f0f921\"]],\"type\":\"contour\"}],\"contourcarpet\":[{\"colorbar\":{\"outlinewidth\":0,\"ticks\":\"\"},\"type\":\"contourcarpet\"}],\"heatmap\":[{\"colorbar\":{\"outlinewidth\":0,\"ticks\":\"\"},\"colorscale\":[[0.0,\"#0d0887\"],[0.1111111111111111,\"#46039f\"],[0.2222222222222222,\"#7201a8\"],[0.3333333333333333,\"#9c179e\"],[0.4444444444444444,\"#bd3786\"],[0.5555555555555556,\"#d8576b\"],[0.6666666666666666,\"#ed7953\"],[0.7777777777777778,\"#fb9f3a\"],[0.8888888888888888,\"#fdca26\"],[1.0,\"#f0f921\"]],\"type\":\"heatmap\"}],\"heatmapgl\":[{\"colorbar\":{\"outlinewidth\":0,\"ticks\":\"\"},\"colorscale\":[[0.0,\"#0d0887\"],[0.1111111111111111,\"#46039f\"],[0.2222222222222222,\"#7201a8\"],[0.3333333333333333,\"#9c179e\"],[0.4444444444444444,\"#bd3786\"],[0.5555555555555556,\"#d8576b\"],[0.6666666666666666,\"#ed7953\"],[0.7777777777777778,\"#fb9f3a\"],[0.8888888888888888,\"#fdca26\"],[1.0,\"#f0f921\"]],\"type\":\"heatmapgl\"}],\"histogram\":[{\"marker\":{\"pattern\":{\"fillmode\":\"overlay\",\"size\":10,\"solidity\":0.2}},\"type\":\"histogram\"}],\"histogram2d\":[{\"colorbar\":{\"outlinewidth\":0,\"ticks\":\"\"},\"colorscale\":[[0.0,\"#0d0887\"],[0.1111111111111111,\"#46039f\"],[0.2222222222222222,\"#7201a8\"],[0.3333333333333333,\"#9c179e\"],[0.4444444444444444,\"#bd3786\"],[0.5555555555555556,\"#d8576b\"],[0.6666666666666666,\"#ed7953\"],[0.7777777777777778,\"#fb9f3a\"],[0.8888888888888888,\"#fdca26\"],[1.0,\"#f0f921\"]],\"type\":\"histogram2d\"}],\"histogram2dcontour\":[{\"colorbar\":{\"outlinewidth\":0,\"ticks\":\"\"},\"colorscale\":[[0.0,\"#0d0887\"],[0.1111111111111111,\"#46039f\"],[0.2222222222222222,\"#7201a8\"],[0.3333333333333333,\"#9c179e\"],[0.4444444444444444,\"#bd3786\"],[0.5555555555555556,\"#d8576b\"],[0.6666666666666666,\"#ed7953\"],[0.7777777777777778,\"#fb9f3a\"],[0.8888888888888888,\"#fdca26\"],[1.0,\"#f0f921\"]],\"type\":\"histogram2dcontour\"}],\"mesh3d\":[{\"colorbar\":{\"outlinewidth\":0,\"ticks\":\"\"},\"type\":\"mesh3d\"}],\"parcoords\":[{\"line\":{\"colorbar\":{\"outlinewidth\":0,\"ticks\":\"\"}},\"type\":\"parcoords\"}],\"pie\":[{\"automargin\":true,\"type\":\"pie\"}],\"scatter\":[{\"marker\":{\"colorbar\":{\"outlinewidth\":0,\"ticks\":\"\"}},\"type\":\"scatter\"}],\"scatter3d\":[{\"line\":{\"colorbar\":{\"outlinewidth\":0,\"ticks\":\"\"}},\"marker\":{\"colorbar\":{\"outlinewidth\":0,\"ticks\":\"\"}},\"type\":\"scatter3d\"}],\"scattercarpet\":[{\"marker\":{\"colorbar\":{\"outlinewidth\":0,\"ticks\":\"\"}},\"type\":\"scattercarpet\"}],\"scattergeo\":[{\"marker\":{\"colorbar\":{\"outlinewidth\":0,\"ticks\":\"\"}},\"type\":\"scattergeo\"}],\"scattergl\":[{\"marker\":{\"colorbar\":{\"outlinewidth\":0,\"ticks\":\"\"}},\"type\":\"scattergl\"}],\"scattermapbox\":[{\"marker\":{\"colorbar\":{\"outlinewidth\":0,\"ticks\":\"\"}},\"type\":\"scattermapbox\"}],\"scatterpolar\":[{\"marker\":{\"colorbar\":{\"outlinewidth\":0,\"ticks\":\"\"}},\"type\":\"scatterpolar\"}],\"scatterpolargl\":[{\"marker\":{\"colorbar\":{\"outlinewidth\":0,\"ticks\":\"\"}},\"type\":\"scatterpolargl\"}],\"scatterternary\":[{\"marker\":{\"colorbar\":{\"outlinewidth\":0,\"ticks\":\"\"}},\"type\":\"scatterternary\"}],\"surface\":[{\"colorbar\":{\"outlinewidth\":0,\"ticks\":\"\"},\"colorscale\":[[0.0,\"#0d0887\"],[0.1111111111111111,\"#46039f\"],[0.2222222222222222,\"#7201a8\"],[0.3333333333333333,\"#9c179e\"],[0.4444444444444444,\"#bd3786\"],[0.5555555555555556,\"#d8576b\"],[0.6666666666666666,\"#ed7953\"],[0.7777777777777778,\"#fb9f3a\"],[0.8888888888888888,\"#fdca26\"],[1.0,\"#f0f921\"]],\"type\":\"surface\"}],\"table\":[{\"cells\":{\"fill\":{\"color\":\"#EBF0F8\"},\"line\":{\"color\":\"white\"}},\"header\":{\"fill\":{\"color\":\"#C8D4E3\"},\"line\":{\"color\":\"white\"}},\"type\":\"table\"}]},\"layout\":{\"annotationdefaults\":{\"arrowcolor\":\"#2a3f5f\",\"arrowhead\":0,\"arrowwidth\":1},\"autotypenumbers\":\"strict\",\"coloraxis\":{\"colorbar\":{\"outlinewidth\":0,\"ticks\":\"\"}},\"colorscale\":{\"diverging\":[[0,\"#8e0152\"],[0.1,\"#c51b7d\"],[0.2,\"#de77ae\"],[0.3,\"#f1b6da\"],[0.4,\"#fde0ef\"],[0.5,\"#f7f7f7\"],[0.6,\"#e6f5d0\"],[0.7,\"#b8e186\"],[0.8,\"#7fbc41\"],[0.9,\"#4d9221\"],[1,\"#276419\"]],\"sequential\":[[0.0,\"#0d0887\"],[0.1111111111111111,\"#46039f\"],[0.2222222222222222,\"#7201a8\"],[0.3333333333333333,\"#9c179e\"],[0.4444444444444444,\"#bd3786\"],[0.5555555555555556,\"#d8576b\"],[0.6666666666666666,\"#ed7953\"],[0.7777777777777778,\"#fb9f3a\"],[0.8888888888888888,\"#fdca26\"],[1.0,\"#f0f921\"]],\"sequentialminus\":[[0.0,\"#0d0887\"],[0.1111111111111111,\"#46039f\"],[0.2222222222222222,\"#7201a8\"],[0.3333333333333333,\"#9c179e\"],[0.4444444444444444,\"#bd3786\"],[0.5555555555555556,\"#d8576b\"],[0.6666666666666666,\"#ed7953\"],[0.7777777777777778,\"#fb9f3a\"],[0.8888888888888888,\"#fdca26\"],[1.0,\"#f0f921\"]]},\"colorway\":[\"#636efa\",\"#EF553B\",\"#00cc96\",\"#ab63fa\",\"#FFA15A\",\"#19d3f3\",\"#FF6692\",\"#B6E880\",\"#FF97FF\",\"#FECB52\"],\"font\":{\"color\":\"#2a3f5f\"},\"geo\":{\"bgcolor\":\"white\",\"lakecolor\":\"white\",\"landcolor\":\"#E5ECF6\",\"showlakes\":true,\"showland\":true,\"subunitcolor\":\"white\"},\"hoverlabel\":{\"align\":\"left\"},\"hovermode\":\"closest\",\"mapbox\":{\"style\":\"light\"},\"paper_bgcolor\":\"white\",\"plot_bgcolor\":\"#E5ECF6\",\"polar\":{\"angularaxis\":{\"gridcolor\":\"white\",\"linecolor\":\"white\",\"ticks\":\"\"},\"bgcolor\":\"#E5ECF6\",\"radialaxis\":{\"gridcolor\":\"white\",\"linecolor\":\"white\",\"ticks\":\"\"}},\"scene\":{\"xaxis\":{\"backgroundcolor\":\"#E5ECF6\",\"gridcolor\":\"white\",\"gridwidth\":2,\"linecolor\":\"white\",\"showbackground\":true,\"ticks\":\"\",\"zerolinecolor\":\"white\"},\"yaxis\":{\"backgroundcolor\":\"#E5ECF6\",\"gridcolor\":\"white\",\"gridwidth\":2,\"linecolor\":\"white\",\"showbackground\":true,\"ticks\":\"\",\"zerolinecolor\":\"white\"},\"zaxis\":{\"backgroundcolor\":\"#E5ECF6\",\"gridcolor\":\"white\",\"gridwidth\":2,\"linecolor\":\"white\",\"showbackground\":true,\"ticks\":\"\",\"zerolinecolor\":\"white\"}},\"shapedefaults\":{\"line\":{\"color\":\"#2a3f5f\"}},\"ternary\":{\"aaxis\":{\"gridcolor\":\"white\",\"linecolor\":\"white\",\"ticks\":\"\"},\"baxis\":{\"gridcolor\":\"white\",\"linecolor\":\"white\",\"ticks\":\"\"},\"bgcolor\":\"#E5ECF6\",\"caxis\":{\"gridcolor\":\"white\",\"linecolor\":\"white\",\"ticks\":\"\"}},\"title\":{\"x\":0.05},\"xaxis\":{\"automargin\":true,\"gridcolor\":\"white\",\"linecolor\":\"white\",\"ticks\":\"\",\"title\":{\"standoff\":15},\"zerolinecolor\":\"white\",\"zerolinewidth\":2},\"yaxis\":{\"automargin\":true,\"gridcolor\":\"white\",\"linecolor\":\"white\",\"ticks\":\"\",\"title\":{\"standoff\":15},\"zerolinecolor\":\"white\",\"zerolinewidth\":2}}},\"title\":{\"text\":\"Performance of Different Models Using 5-Fold Cross-Validation\"},\"paper_bgcolor\":\"rgb(243, 243, 243)\",\"plot_bgcolor\":\"rgb(243, 243, 243)\",\"xaxis\":{\"title\":{\"text\":\"Model\"}},\"yaxis\":{\"title\":{\"text\":\"Error Cuadr\\u00e1tico Medio\"}},\"showlegend\":false},                        {\"responsive\": true}                    ).then(function(){\n",
              "                            \n",
              "var gd = document.getElementById('f6942710-48cd-4624-a9ec-21ce84d2c513');\n",
              "var x = new MutationObserver(function (mutations, observer) {{\n",
              "        var display = window.getComputedStyle(gd).display;\n",
              "        if (!display || display === 'none') {{\n",
              "            console.log([gd, 'removed!']);\n",
              "            Plotly.purge(gd);\n",
              "            observer.disconnect();\n",
              "        }}\n",
              "}});\n",
              "\n",
              "// Listen for the removal of the full notebook cells\n",
              "var notebookContainer = gd.closest('#notebook-container');\n",
              "if (notebookContainer) {{\n",
              "    x.observe(notebookContainer, {childList: true});\n",
              "}}\n",
              "\n",
              "// Listen for the clearing of the current output cell\n",
              "var outputEl = gd.closest('.output');\n",
              "if (outputEl) {{\n",
              "    x.observe(outputEl, {childList: true});\n",
              "}}\n",
              "\n",
              "                        })                };                            </script>        </div>\n",
              "</body>\n",
              "</html>"
            ]
          },
          "metadata": {}
        }
      ]
    },
    {
      "cell_type": "markdown",
      "source": [
        "Entrenamos el modelo:"
      ],
      "metadata": {
        "id": "uduejW9os8-J"
      }
    },
    {
      "cell_type": "code",
      "source": [
        "stacking_model.fit(x_train_stacking, y_train_stacking)"
      ],
      "metadata": {
        "id": "VT_HO24fk7kR",
        "colab": {
          "base_uri": "https://localhost:8080/"
        },
        "outputId": "338b8722-e020-4618-b151-10eea6a25d17"
      },
      "execution_count": 139,
      "outputs": [
        {
          "output_type": "stream",
          "name": "stdout",
          "text": [
            "[22:33:46] WARNING: /workspace/src/objective/regression_obj.cu:152: reg:linear is now deprecated in favor of reg:squarederror.\n"
          ]
        },
        {
          "output_type": "stream",
          "name": "stderr",
          "text": [
            "[Parallel(n_jobs=1)]: Using backend SequentialBackend with 1 concurrent workers.\n",
            "[Parallel(n_jobs=1)]: Done   1 out of   1 | elapsed:  1.5min remaining:    0.0s\n",
            "[Parallel(n_jobs=1)]: Done   5 out of   5 | elapsed:  6.9min finished\n",
            "[Parallel(n_jobs=1)]: Using backend SequentialBackend with 1 concurrent workers.\n"
          ]
        },
        {
          "output_type": "stream",
          "name": "stdout",
          "text": [
            "[22:40:52] WARNING: /workspace/src/objective/regression_obj.cu:152: reg:linear is now deprecated in favor of reg:squarederror.\n"
          ]
        },
        {
          "output_type": "stream",
          "name": "stderr",
          "text": [
            "[Parallel(n_jobs=1)]: Done   1 out of   1 | elapsed:    7.2s remaining:    0.0s\n"
          ]
        },
        {
          "output_type": "stream",
          "name": "stdout",
          "text": [
            "[22:40:59] WARNING: /workspace/src/objective/regression_obj.cu:152: reg:linear is now deprecated in favor of reg:squarederror.\n",
            "[22:41:06] WARNING: /workspace/src/objective/regression_obj.cu:152: reg:linear is now deprecated in favor of reg:squarederror.\n",
            "[22:41:13] WARNING: /workspace/src/objective/regression_obj.cu:152: reg:linear is now deprecated in favor of reg:squarederror.\n",
            "[22:41:21] WARNING: /workspace/src/objective/regression_obj.cu:152: reg:linear is now deprecated in favor of reg:squarederror.\n"
          ]
        },
        {
          "output_type": "stream",
          "name": "stderr",
          "text": [
            "[Parallel(n_jobs=1)]: Done   5 out of   5 | elapsed:   36.5s finished\n",
            "[Parallel(n_jobs=1)]: Using backend SequentialBackend with 1 concurrent workers.\n",
            "[Parallel(n_jobs=1)]: Done   1 out of   1 | elapsed:    3.6s remaining:    0.0s\n",
            "[Parallel(n_jobs=1)]: Done   5 out of   5 | elapsed:   18.5s finished\n"
          ]
        },
        {
          "output_type": "execute_result",
          "data": {
            "text/plain": [
              "StackingRegressor(cv=5,\n",
              "                  estimators=[('KNN',\n",
              "                               KNeighborsRegressor(algorithm='ball_tree',\n",
              "                                                   leaf_size=22,\n",
              "                                                   metric='chebyshev',\n",
              "                                                   n_neighbors=51)),\n",
              "                              ('XGBoost',\n",
              "                               XGBRegressor(colsample_bytree=0.3, gamma=0.1,\n",
              "                                            learning_rate=0.3, max_depth=6,\n",
              "                                            min_child_weight=5, missing=nan)),\n",
              "                              ('AdaBoost',\n",
              "                               AdaBoostRegressor(learning_rate=1.02,\n",
              "                                                 n_estimators=10))],\n",
              "                  final_estimator=GradientBoostingRegressor(), passthrough=True,\n",
              "                  verbose=2)"
            ]
          },
          "metadata": {},
          "execution_count": 139
        }
      ]
    },
    {
      "cell_type": "markdown",
      "source": [
        "Finalmente haremos la predicción:"
      ],
      "metadata": {
        "id": "567lujdizE8r"
      }
    },
    {
      "cell_type": "code",
      "source": [
        "y_pred_stacking = stacking_model.predict(x_test_stacking)"
      ],
      "metadata": {
        "id": "_Cw7e8GzzEFC"
      },
      "execution_count": 140,
      "outputs": []
    },
    {
      "cell_type": "markdown",
      "source": [
        "#### Métricas"
      ],
      "metadata": {
        "id": "mUjE089xzI7j"
      }
    },
    {
      "cell_type": "markdown",
      "source": [
        "Para poder evaluar la performance que obtuvo nuestro modelo utilizaremos la métrica de evaluación del error cuadrático medio (MSE) como se pide por enunciado."
      ],
      "metadata": {
        "id": "dLNhGzU6zNVc"
      }
    },
    {
      "cell_type": "code",
      "source": [
        "mse = metrics.mean_squared_error(\n",
        "        y_true  = y_test_stacking,\n",
        "        y_pred  = y_pred_stacking,\n",
        "        squared = True\n",
        "       )\n",
        "\n",
        "print(f\"El error según la métrica 'Mean Square Error' de test es: {mse}\")"
      ],
      "metadata": {
        "id": "ZgpouA6A0e1-",
        "colab": {
          "base_uri": "https://localhost:8080/"
        },
        "outputId": "b54a41db-bbf0-4dd2-b257-074ef690f612"
      },
      "execution_count": 141,
      "outputs": [
        {
          "output_type": "stream",
          "name": "stdout",
          "text": [
            "El error según la métrica 'Mean Square Error' de test es: 106206251697.29155\n"
          ]
        }
      ]
    },
    {
      "cell_type": "markdown",
      "source": [
        "#### Exportación de Datos"
      ],
      "metadata": {
        "id": "qQk2khn_gLmD"
      }
    },
    {
      "cell_type": "markdown",
      "source": [
        "Finalmente, exportamos el modelo utilizado:"
      ],
      "metadata": {
        "id": "gmlWq5XygLmE"
      }
    },
    {
      "cell_type": "code",
      "source": [
        "if IN_COLAB:\n",
        "  path = '/content/drive/MyDrive/📒 Organización de Datos (75.06)/TPS/TP2/MODELOS/Stacking_Regressor.joblib'\n",
        "else:\n",
        "  path = './MODELOS/Stacking_Regressor.joblib'\n",
        "\n",
        "dump(stacking_model, path)"
      ],
      "metadata": {
        "id": "6ruQqkIZgLmE",
        "colab": {
          "base_uri": "https://localhost:8080/"
        },
        "outputId": "c5ab6fbe-d10f-4268-e689-b455f45f79bf"
      },
      "execution_count": 142,
      "outputs": [
        {
          "output_type": "execute_result",
          "data": {
            "text/plain": [
              "['/content/drive/MyDrive/📒 Organización de Datos (75.06)/TPS/TP2/MODELOS/Stacking_Regressor.joblib']"
            ]
          },
          "metadata": {},
          "execution_count": 142
        }
      ]
    },
    {
      "cell_type": "markdown",
      "source": [
        "## Conclusiones"
      ],
      "metadata": {
        "id": "VFntMJUkIzEu"
      }
    },
    {
      "cell_type": "markdown",
      "source": [
        "A modo de finalización de este trabajo, haremos un pequeño repaso sobre todos los puntos que analizamos y sus respectivos resultados y/o observaciones hechos por nosotros:\n",
        "\n",
        "Sobre el análisis realizado en el apartado de **procesamiento del lenguaje natural**, y en particular haciendo referencia a las métricas que obtuvimos luego del entrenamiento y predicción con el dataset producto de la ampliación, utilizando el modelo XGBoost, pudimos observar que si bien aún las métricas no nos resultan del todo satisfactorias cumplen con el objetivo de mejorar las resultantes del trabajo anterior. Más allá de que la cantidad de aciertos continúa sin incrementar, tanto el error MSE como el RMSE decrecieron ofreciendo mejores resultados. Por otro lado, el coeficiente de determinación se incrementó notoriamente llegando casi a un 0.9%. \n",
        "\n",
        "En cuanto a lo referido sobre **redes neuronales**, la comparación será directamente en base a los nuevos modelos ya que el dataset utilizado es compartido en ambos trabajos. Dicho esto, el error cometido en el modelo de regresión es significativamente pequeño. Teniendo en cuenta los resultantes del TP1, si utilizamos el menor luego de que éstos tuvieron su optimización de parámetros correspondiente, notamos que el que mejor performa es XGBoost con un MSE de 51650994876 (al cual de todas formas le atribuímos arrastre de error en nuestro planteo). Utilizando redes neuronales cometemos tan solo un error cuadrático medio equivalente a 1.36. Por otro lado, en lo que respecta al modelo de clasificación, obtuvimos resultados bastante similares. Si bien tanto el accuracy, precisión y F1-Score dieron distintos, la diferencia es de tan solo uno/dos puntos. Con esto concluimos que para clasificación no se notan mejoras por sobre los modelos utilizados en el trabajo anterior.\n",
        "\n",
        "Como último requerimiento se pidió estudiar las métricas tanto para regresión como clasificación pero haciendo uso de **ensambles**, en particular de tipo híbridos. En lo que respecta al utilizado para clasificación (Voting) obtuvimos mejores resultados para las métricas de Accuracy, Recall y F1-Score. Sin embargo, aunque en Precisión disminuyó un poco, esta diferencia continúa siendo no significativa. Pasando al ensamble de regresión (Stacking) el MSE resultante que obtuvimos fue 238481755830. Creemos que nuevamente estamos cometiendo involuntariamente algún arrastre de error en alguno de los incisos desarrollados, ya que este error es incluso mayor a los cometidos en los modelos individuales desarrollados en el TP1, y no estaría respetando la regla principal de ‘*La sabiduría de las multitudes*’."
      ],
      "metadata": {
        "id": "CE40zH4PI4xY"
      }
    }
  ],
  "metadata": {
    "kernelspec": {
      "display_name": "Python 3",
      "language": "python",
      "name": "python3"
    },
    "language_info": {
      "codemirror_mode": {
        "name": "ipython",
        "version": 2
      },
      "file_extension": ".py",
      "mimetype": "text/x-python",
      "name": "python",
      "nbconvert_exporter": "python",
      "pygments_lexer": "ipython2",
      "version": "2.7.6"
    },
    "colab": {
      "provenance": [],
      "collapsed_sections": [
        "DajLENWv2DpA",
        "CkJCoGXnaN1y",
        "NjqmQr4pYrEE",
        "_kG7ZRlKuaxT",
        "D8sgMCouvLx-",
        "mUjE089xzI7j"
      ],
      "toc_visible": true,
      "include_colab_link": true
    }
  },
  "nbformat": 4,
  "nbformat_minor": 0
}